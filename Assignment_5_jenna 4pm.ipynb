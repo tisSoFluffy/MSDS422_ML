{
 "cells": [
  {
   "cell_type": "markdown",
   "metadata": {},
   "source": [
    "# Assignment 5 - Group 1"
   ]
  },
  {
   "cell_type": "markdown",
   "metadata": {},
   "source": [
    "## Kaggle Submission ID: jennaguo"
   ]
  },
  {
   "cell_type": "markdown",
   "metadata": {},
   "source": [
    "## Import Libraries"
   ]
  },
  {
   "cell_type": "code",
   "execution_count": 30,
   "metadata": {
    "ExecuteTime": {
     "end_time": "2020-10-18T18:47:30.987805Z",
     "start_time": "2020-10-18T18:47:30.969853Z"
    }
   },
   "outputs": [],
   "source": [
    "import pandas as pd\n",
    "import numpy as np\n",
    "import matplotlib.pyplot as plt\n",
    "%matplotlib inline\n",
    "import seaborn as sns\n",
    "sns.set(style='darkgrid')\n",
    "import datetime\n",
    "\n",
    "from sklearn.decomposition import PCA\n",
    "from sklearn.metrics import accuracy_score\n",
    "from sklearn.model_selection import train_test_split\n",
    "\n",
    "#Classifiers\n",
    "from sklearn.ensemble import RandomForestClassifier\n",
    "from sklearn.model_selection import cross_val_predict\n",
    "from sklearn.model_selection import cross_val_score\n",
    "from sklearn.metrics import roc_curve\n",
    "from sklearn.metrics import roc_auc_score"
   ]
  },
  {
   "cell_type": "markdown",
   "metadata": {},
   "source": [
    "## Import & explore data"
   ]
  },
  {
   "cell_type": "code",
   "execution_count": 2,
   "metadata": {
    "ExecuteTime": {
     "end_time": "2020-10-18T17:18:37.318781Z",
     "start_time": "2020-10-18T17:18:33.290529Z"
    }
   },
   "outputs": [],
   "source": [
    "data = pd.read_csv('train.csv')\n",
    "test_data = pd.read_csv('test.csv')"
   ]
  },
  {
   "cell_type": "code",
   "execution_count": 3,
   "metadata": {
    "ExecuteTime": {
     "end_time": "2020-10-18T02:39:16.650718Z",
     "start_time": "2020-10-18T02:39:16.594870Z"
    }
   },
   "outputs": [
    {
     "name": "stdout",
     "output_type": "stream",
     "text": [
      "<class 'pandas.core.frame.DataFrame'>\n",
      "RangeIndex: 42000 entries, 0 to 41999\n",
      "Columns: 785 entries, label to pixel783\n",
      "dtypes: int64(785)\n",
      "memory usage: 251.5 MB\n"
     ]
    }
   ],
   "source": [
    "data.info()"
   ]
  },
  {
   "cell_type": "code",
   "execution_count": 65,
   "metadata": {},
   "outputs": [
    {
     "data": {
      "text/plain": [
       "0    4132\n",
       "1    4684\n",
       "2    4177\n",
       "3    4351\n",
       "4    4072\n",
       "5    3795\n",
       "6    4137\n",
       "7    4401\n",
       "8    4063\n",
       "9    4188\n",
       "Name: label, dtype: int64"
      ]
     },
     "execution_count": 65,
     "metadata": {},
     "output_type": "execute_result"
    }
   ],
   "source": [
    "data['label'].value_counts().sort_index()"
   ]
  },
  {
   "cell_type": "code",
   "execution_count": 66,
   "metadata": {},
   "outputs": [
    {
     "name": "stdout",
     "output_type": "stream",
     "text": [
      "<class 'pandas.core.frame.DataFrame'>\n",
      "RangeIndex: 28000 entries, 0 to 27999\n",
      "Columns: 784 entries, pixel0 to pixel783\n",
      "dtypes: int64(784)\n",
      "memory usage: 167.5 MB\n"
     ]
    }
   ],
   "source": [
    "test_data.info()"
   ]
  },
  {
   "cell_type": "code",
   "execution_count": 67,
   "metadata": {},
   "outputs": [
    {
     "data": {
      "text/html": [
       "<div>\n",
       "<style scoped>\n",
       "    .dataframe tbody tr th:only-of-type {\n",
       "        vertical-align: middle;\n",
       "    }\n",
       "\n",
       "    .dataframe tbody tr th {\n",
       "        vertical-align: top;\n",
       "    }\n",
       "\n",
       "    .dataframe thead th {\n",
       "        text-align: right;\n",
       "    }\n",
       "</style>\n",
       "<table border=\"1\" class=\"dataframe\">\n",
       "  <thead>\n",
       "    <tr style=\"text-align: right;\">\n",
       "      <th></th>\n",
       "      <th>label</th>\n",
       "      <th>pixel0</th>\n",
       "      <th>pixel1</th>\n",
       "      <th>pixel2</th>\n",
       "      <th>pixel3</th>\n",
       "      <th>pixel4</th>\n",
       "      <th>pixel5</th>\n",
       "      <th>pixel6</th>\n",
       "      <th>pixel7</th>\n",
       "      <th>pixel8</th>\n",
       "      <th>...</th>\n",
       "      <th>pixel774</th>\n",
       "      <th>pixel775</th>\n",
       "      <th>pixel776</th>\n",
       "      <th>pixel777</th>\n",
       "      <th>pixel778</th>\n",
       "      <th>pixel779</th>\n",
       "      <th>pixel780</th>\n",
       "      <th>pixel781</th>\n",
       "      <th>pixel782</th>\n",
       "      <th>pixel783</th>\n",
       "    </tr>\n",
       "  </thead>\n",
       "  <tbody>\n",
       "    <tr>\n",
       "      <th>0</th>\n",
       "      <td>1</td>\n",
       "      <td>0</td>\n",
       "      <td>0</td>\n",
       "      <td>0</td>\n",
       "      <td>0</td>\n",
       "      <td>0</td>\n",
       "      <td>0</td>\n",
       "      <td>0</td>\n",
       "      <td>0</td>\n",
       "      <td>0</td>\n",
       "      <td>...</td>\n",
       "      <td>0</td>\n",
       "      <td>0</td>\n",
       "      <td>0</td>\n",
       "      <td>0</td>\n",
       "      <td>0</td>\n",
       "      <td>0</td>\n",
       "      <td>0</td>\n",
       "      <td>0</td>\n",
       "      <td>0</td>\n",
       "      <td>0</td>\n",
       "    </tr>\n",
       "    <tr>\n",
       "      <th>1</th>\n",
       "      <td>0</td>\n",
       "      <td>0</td>\n",
       "      <td>0</td>\n",
       "      <td>0</td>\n",
       "      <td>0</td>\n",
       "      <td>0</td>\n",
       "      <td>0</td>\n",
       "      <td>0</td>\n",
       "      <td>0</td>\n",
       "      <td>0</td>\n",
       "      <td>...</td>\n",
       "      <td>0</td>\n",
       "      <td>0</td>\n",
       "      <td>0</td>\n",
       "      <td>0</td>\n",
       "      <td>0</td>\n",
       "      <td>0</td>\n",
       "      <td>0</td>\n",
       "      <td>0</td>\n",
       "      <td>0</td>\n",
       "      <td>0</td>\n",
       "    </tr>\n",
       "    <tr>\n",
       "      <th>2</th>\n",
       "      <td>1</td>\n",
       "      <td>0</td>\n",
       "      <td>0</td>\n",
       "      <td>0</td>\n",
       "      <td>0</td>\n",
       "      <td>0</td>\n",
       "      <td>0</td>\n",
       "      <td>0</td>\n",
       "      <td>0</td>\n",
       "      <td>0</td>\n",
       "      <td>...</td>\n",
       "      <td>0</td>\n",
       "      <td>0</td>\n",
       "      <td>0</td>\n",
       "      <td>0</td>\n",
       "      <td>0</td>\n",
       "      <td>0</td>\n",
       "      <td>0</td>\n",
       "      <td>0</td>\n",
       "      <td>0</td>\n",
       "      <td>0</td>\n",
       "    </tr>\n",
       "    <tr>\n",
       "      <th>3</th>\n",
       "      <td>4</td>\n",
       "      <td>0</td>\n",
       "      <td>0</td>\n",
       "      <td>0</td>\n",
       "      <td>0</td>\n",
       "      <td>0</td>\n",
       "      <td>0</td>\n",
       "      <td>0</td>\n",
       "      <td>0</td>\n",
       "      <td>0</td>\n",
       "      <td>...</td>\n",
       "      <td>0</td>\n",
       "      <td>0</td>\n",
       "      <td>0</td>\n",
       "      <td>0</td>\n",
       "      <td>0</td>\n",
       "      <td>0</td>\n",
       "      <td>0</td>\n",
       "      <td>0</td>\n",
       "      <td>0</td>\n",
       "      <td>0</td>\n",
       "    </tr>\n",
       "    <tr>\n",
       "      <th>4</th>\n",
       "      <td>0</td>\n",
       "      <td>0</td>\n",
       "      <td>0</td>\n",
       "      <td>0</td>\n",
       "      <td>0</td>\n",
       "      <td>0</td>\n",
       "      <td>0</td>\n",
       "      <td>0</td>\n",
       "      <td>0</td>\n",
       "      <td>0</td>\n",
       "      <td>...</td>\n",
       "      <td>0</td>\n",
       "      <td>0</td>\n",
       "      <td>0</td>\n",
       "      <td>0</td>\n",
       "      <td>0</td>\n",
       "      <td>0</td>\n",
       "      <td>0</td>\n",
       "      <td>0</td>\n",
       "      <td>0</td>\n",
       "      <td>0</td>\n",
       "    </tr>\n",
       "  </tbody>\n",
       "</table>\n",
       "<p>5 rows × 785 columns</p>\n",
       "</div>"
      ],
      "text/plain": [
       "   label  pixel0  pixel1  pixel2  pixel3  pixel4  pixel5  pixel6  pixel7  \\\n",
       "0      1       0       0       0       0       0       0       0       0   \n",
       "1      0       0       0       0       0       0       0       0       0   \n",
       "2      1       0       0       0       0       0       0       0       0   \n",
       "3      4       0       0       0       0       0       0       0       0   \n",
       "4      0       0       0       0       0       0       0       0       0   \n",
       "\n",
       "   pixel8  ...  pixel774  pixel775  pixel776  pixel777  pixel778  pixel779  \\\n",
       "0       0  ...         0         0         0         0         0         0   \n",
       "1       0  ...         0         0         0         0         0         0   \n",
       "2       0  ...         0         0         0         0         0         0   \n",
       "3       0  ...         0         0         0         0         0         0   \n",
       "4       0  ...         0         0         0         0         0         0   \n",
       "\n",
       "   pixel780  pixel781  pixel782  pixel783  \n",
       "0         0         0         0         0  \n",
       "1         0         0         0         0  \n",
       "2         0         0         0         0  \n",
       "3         0         0         0         0  \n",
       "4         0         0         0         0  \n",
       "\n",
       "[5 rows x 785 columns]"
      ]
     },
     "execution_count": 67,
     "metadata": {},
     "output_type": "execute_result"
    }
   ],
   "source": [
    "data.head()"
   ]
  },
  {
   "cell_type": "code",
   "execution_count": 68,
   "metadata": {},
   "outputs": [
    {
     "data": {
      "text/html": [
       "<div>\n",
       "<style scoped>\n",
       "    .dataframe tbody tr th:only-of-type {\n",
       "        vertical-align: middle;\n",
       "    }\n",
       "\n",
       "    .dataframe tbody tr th {\n",
       "        vertical-align: top;\n",
       "    }\n",
       "\n",
       "    .dataframe thead th {\n",
       "        text-align: right;\n",
       "    }\n",
       "</style>\n",
       "<table border=\"1\" class=\"dataframe\">\n",
       "  <thead>\n",
       "    <tr style=\"text-align: right;\">\n",
       "      <th></th>\n",
       "      <th>label</th>\n",
       "      <th>pixel0</th>\n",
       "      <th>pixel1</th>\n",
       "      <th>pixel2</th>\n",
       "      <th>pixel3</th>\n",
       "      <th>pixel4</th>\n",
       "      <th>pixel5</th>\n",
       "      <th>pixel6</th>\n",
       "      <th>pixel7</th>\n",
       "      <th>pixel8</th>\n",
       "      <th>...</th>\n",
       "      <th>pixel774</th>\n",
       "      <th>pixel775</th>\n",
       "      <th>pixel776</th>\n",
       "      <th>pixel777</th>\n",
       "      <th>pixel778</th>\n",
       "      <th>pixel779</th>\n",
       "      <th>pixel780</th>\n",
       "      <th>pixel781</th>\n",
       "      <th>pixel782</th>\n",
       "      <th>pixel783</th>\n",
       "    </tr>\n",
       "  </thead>\n",
       "  <tbody>\n",
       "    <tr>\n",
       "      <th>count</th>\n",
       "      <td>42000.000000</td>\n",
       "      <td>42000.0</td>\n",
       "      <td>42000.0</td>\n",
       "      <td>42000.0</td>\n",
       "      <td>42000.0</td>\n",
       "      <td>42000.0</td>\n",
       "      <td>42000.0</td>\n",
       "      <td>42000.0</td>\n",
       "      <td>42000.0</td>\n",
       "      <td>42000.0</td>\n",
       "      <td>...</td>\n",
       "      <td>42000.000000</td>\n",
       "      <td>42000.000000</td>\n",
       "      <td>42000.000000</td>\n",
       "      <td>42000.00000</td>\n",
       "      <td>42000.000000</td>\n",
       "      <td>42000.000000</td>\n",
       "      <td>42000.0</td>\n",
       "      <td>42000.0</td>\n",
       "      <td>42000.0</td>\n",
       "      <td>42000.0</td>\n",
       "    </tr>\n",
       "    <tr>\n",
       "      <th>mean</th>\n",
       "      <td>4.456643</td>\n",
       "      <td>0.0</td>\n",
       "      <td>0.0</td>\n",
       "      <td>0.0</td>\n",
       "      <td>0.0</td>\n",
       "      <td>0.0</td>\n",
       "      <td>0.0</td>\n",
       "      <td>0.0</td>\n",
       "      <td>0.0</td>\n",
       "      <td>0.0</td>\n",
       "      <td>...</td>\n",
       "      <td>0.219286</td>\n",
       "      <td>0.117095</td>\n",
       "      <td>0.059024</td>\n",
       "      <td>0.02019</td>\n",
       "      <td>0.017238</td>\n",
       "      <td>0.002857</td>\n",
       "      <td>0.0</td>\n",
       "      <td>0.0</td>\n",
       "      <td>0.0</td>\n",
       "      <td>0.0</td>\n",
       "    </tr>\n",
       "    <tr>\n",
       "      <th>std</th>\n",
       "      <td>2.887730</td>\n",
       "      <td>0.0</td>\n",
       "      <td>0.0</td>\n",
       "      <td>0.0</td>\n",
       "      <td>0.0</td>\n",
       "      <td>0.0</td>\n",
       "      <td>0.0</td>\n",
       "      <td>0.0</td>\n",
       "      <td>0.0</td>\n",
       "      <td>0.0</td>\n",
       "      <td>...</td>\n",
       "      <td>6.312890</td>\n",
       "      <td>4.633819</td>\n",
       "      <td>3.274488</td>\n",
       "      <td>1.75987</td>\n",
       "      <td>1.894498</td>\n",
       "      <td>0.414264</td>\n",
       "      <td>0.0</td>\n",
       "      <td>0.0</td>\n",
       "      <td>0.0</td>\n",
       "      <td>0.0</td>\n",
       "    </tr>\n",
       "    <tr>\n",
       "      <th>min</th>\n",
       "      <td>0.000000</td>\n",
       "      <td>0.0</td>\n",
       "      <td>0.0</td>\n",
       "      <td>0.0</td>\n",
       "      <td>0.0</td>\n",
       "      <td>0.0</td>\n",
       "      <td>0.0</td>\n",
       "      <td>0.0</td>\n",
       "      <td>0.0</td>\n",
       "      <td>0.0</td>\n",
       "      <td>...</td>\n",
       "      <td>0.000000</td>\n",
       "      <td>0.000000</td>\n",
       "      <td>0.000000</td>\n",
       "      <td>0.00000</td>\n",
       "      <td>0.000000</td>\n",
       "      <td>0.000000</td>\n",
       "      <td>0.0</td>\n",
       "      <td>0.0</td>\n",
       "      <td>0.0</td>\n",
       "      <td>0.0</td>\n",
       "    </tr>\n",
       "    <tr>\n",
       "      <th>25%</th>\n",
       "      <td>2.000000</td>\n",
       "      <td>0.0</td>\n",
       "      <td>0.0</td>\n",
       "      <td>0.0</td>\n",
       "      <td>0.0</td>\n",
       "      <td>0.0</td>\n",
       "      <td>0.0</td>\n",
       "      <td>0.0</td>\n",
       "      <td>0.0</td>\n",
       "      <td>0.0</td>\n",
       "      <td>...</td>\n",
       "      <td>0.000000</td>\n",
       "      <td>0.000000</td>\n",
       "      <td>0.000000</td>\n",
       "      <td>0.00000</td>\n",
       "      <td>0.000000</td>\n",
       "      <td>0.000000</td>\n",
       "      <td>0.0</td>\n",
       "      <td>0.0</td>\n",
       "      <td>0.0</td>\n",
       "      <td>0.0</td>\n",
       "    </tr>\n",
       "    <tr>\n",
       "      <th>50%</th>\n",
       "      <td>4.000000</td>\n",
       "      <td>0.0</td>\n",
       "      <td>0.0</td>\n",
       "      <td>0.0</td>\n",
       "      <td>0.0</td>\n",
       "      <td>0.0</td>\n",
       "      <td>0.0</td>\n",
       "      <td>0.0</td>\n",
       "      <td>0.0</td>\n",
       "      <td>0.0</td>\n",
       "      <td>...</td>\n",
       "      <td>0.000000</td>\n",
       "      <td>0.000000</td>\n",
       "      <td>0.000000</td>\n",
       "      <td>0.00000</td>\n",
       "      <td>0.000000</td>\n",
       "      <td>0.000000</td>\n",
       "      <td>0.0</td>\n",
       "      <td>0.0</td>\n",
       "      <td>0.0</td>\n",
       "      <td>0.0</td>\n",
       "    </tr>\n",
       "    <tr>\n",
       "      <th>75%</th>\n",
       "      <td>7.000000</td>\n",
       "      <td>0.0</td>\n",
       "      <td>0.0</td>\n",
       "      <td>0.0</td>\n",
       "      <td>0.0</td>\n",
       "      <td>0.0</td>\n",
       "      <td>0.0</td>\n",
       "      <td>0.0</td>\n",
       "      <td>0.0</td>\n",
       "      <td>0.0</td>\n",
       "      <td>...</td>\n",
       "      <td>0.000000</td>\n",
       "      <td>0.000000</td>\n",
       "      <td>0.000000</td>\n",
       "      <td>0.00000</td>\n",
       "      <td>0.000000</td>\n",
       "      <td>0.000000</td>\n",
       "      <td>0.0</td>\n",
       "      <td>0.0</td>\n",
       "      <td>0.0</td>\n",
       "      <td>0.0</td>\n",
       "    </tr>\n",
       "    <tr>\n",
       "      <th>max</th>\n",
       "      <td>9.000000</td>\n",
       "      <td>0.0</td>\n",
       "      <td>0.0</td>\n",
       "      <td>0.0</td>\n",
       "      <td>0.0</td>\n",
       "      <td>0.0</td>\n",
       "      <td>0.0</td>\n",
       "      <td>0.0</td>\n",
       "      <td>0.0</td>\n",
       "      <td>0.0</td>\n",
       "      <td>...</td>\n",
       "      <td>254.000000</td>\n",
       "      <td>254.000000</td>\n",
       "      <td>253.000000</td>\n",
       "      <td>253.00000</td>\n",
       "      <td>254.000000</td>\n",
       "      <td>62.000000</td>\n",
       "      <td>0.0</td>\n",
       "      <td>0.0</td>\n",
       "      <td>0.0</td>\n",
       "      <td>0.0</td>\n",
       "    </tr>\n",
       "  </tbody>\n",
       "</table>\n",
       "<p>8 rows × 785 columns</p>\n",
       "</div>"
      ],
      "text/plain": [
       "              label   pixel0   pixel1   pixel2   pixel3   pixel4   pixel5  \\\n",
       "count  42000.000000  42000.0  42000.0  42000.0  42000.0  42000.0  42000.0   \n",
       "mean       4.456643      0.0      0.0      0.0      0.0      0.0      0.0   \n",
       "std        2.887730      0.0      0.0      0.0      0.0      0.0      0.0   \n",
       "min        0.000000      0.0      0.0      0.0      0.0      0.0      0.0   \n",
       "25%        2.000000      0.0      0.0      0.0      0.0      0.0      0.0   \n",
       "50%        4.000000      0.0      0.0      0.0      0.0      0.0      0.0   \n",
       "75%        7.000000      0.0      0.0      0.0      0.0      0.0      0.0   \n",
       "max        9.000000      0.0      0.0      0.0      0.0      0.0      0.0   \n",
       "\n",
       "        pixel6   pixel7   pixel8  ...      pixel774      pixel775  \\\n",
       "count  42000.0  42000.0  42000.0  ...  42000.000000  42000.000000   \n",
       "mean       0.0      0.0      0.0  ...      0.219286      0.117095   \n",
       "std        0.0      0.0      0.0  ...      6.312890      4.633819   \n",
       "min        0.0      0.0      0.0  ...      0.000000      0.000000   \n",
       "25%        0.0      0.0      0.0  ...      0.000000      0.000000   \n",
       "50%        0.0      0.0      0.0  ...      0.000000      0.000000   \n",
       "75%        0.0      0.0      0.0  ...      0.000000      0.000000   \n",
       "max        0.0      0.0      0.0  ...    254.000000    254.000000   \n",
       "\n",
       "           pixel776     pixel777      pixel778      pixel779  pixel780  \\\n",
       "count  42000.000000  42000.00000  42000.000000  42000.000000   42000.0   \n",
       "mean       0.059024      0.02019      0.017238      0.002857       0.0   \n",
       "std        3.274488      1.75987      1.894498      0.414264       0.0   \n",
       "min        0.000000      0.00000      0.000000      0.000000       0.0   \n",
       "25%        0.000000      0.00000      0.000000      0.000000       0.0   \n",
       "50%        0.000000      0.00000      0.000000      0.000000       0.0   \n",
       "75%        0.000000      0.00000      0.000000      0.000000       0.0   \n",
       "max      253.000000    253.00000    254.000000     62.000000       0.0   \n",
       "\n",
       "       pixel781  pixel782  pixel783  \n",
       "count   42000.0   42000.0   42000.0  \n",
       "mean        0.0       0.0       0.0  \n",
       "std         0.0       0.0       0.0  \n",
       "min         0.0       0.0       0.0  \n",
       "25%         0.0       0.0       0.0  \n",
       "50%         0.0       0.0       0.0  \n",
       "75%         0.0       0.0       0.0  \n",
       "max         0.0       0.0       0.0  \n",
       "\n",
       "[8 rows x 785 columns]"
      ]
     },
     "execution_count": 68,
     "metadata": {},
     "output_type": "execute_result"
    }
   ],
   "source": [
    "data.describe()"
   ]
  },
  {
   "cell_type": "code",
   "execution_count": 3,
   "metadata": {
    "ExecuteTime": {
     "end_time": "2020-10-18T17:18:47.786686Z",
     "start_time": "2020-10-18T17:18:47.566251Z"
    }
   },
   "outputs": [],
   "source": [
    "X_data=data.drop('label',axis=1)\n",
    "y_data=data['label']"
   ]
  },
  {
   "cell_type": "code",
   "execution_count": 36,
   "metadata": {
    "ExecuteTime": {
     "end_time": "2020-10-18T04:37:52.709503Z",
     "start_time": "2020-10-18T04:37:52.672762Z"
    }
   },
   "outputs": [
    {
     "data": {
      "text/plain": [
       "(42000, 784)"
      ]
     },
     "execution_count": 36,
     "metadata": {},
     "output_type": "execute_result"
    }
   ],
   "source": [
    "X_data.shape"
   ]
  },
  {
   "cell_type": "code",
   "execution_count": 37,
   "metadata": {
    "ExecuteTime": {
     "end_time": "2020-10-18T04:38:17.926638Z",
     "start_time": "2020-10-18T04:38:17.905059Z"
    }
   },
   "outputs": [
    {
     "data": {
      "text/plain": [
       "(42000,)"
      ]
     },
     "execution_count": 37,
     "metadata": {},
     "output_type": "execute_result"
    }
   ],
   "source": [
    "y_data.shape"
   ]
  },
  {
   "cell_type": "markdown",
   "metadata": {},
   "source": [
    "## 1. Fitting a Random Forest Classifier to train.csv"
   ]
  },
  {
   "cell_type": "code",
   "execution_count": 18,
   "metadata": {
    "ExecuteTime": {
     "end_time": "2020-10-18T17:50:54.837656Z",
     "start_time": "2020-10-18T17:50:19.262565Z"
    }
   },
   "outputs": [
    {
     "name": "stdout",
     "output_type": "stream",
     "text": [
      "Random classifier took 0:00:35.538266 seconds to run on raw data\n"
     ]
    }
   ],
   "source": [
    "rnd_clf = RandomForestClassifier(n_estimators = 100,random_state = 42)\n",
    "start = datetime.datetime.now()\n",
    "rnd_clf.fit(X_data,y_data)\n",
    "end = datetime.datetime.now()\n",
    "print(f'Random classifier took {end - start} seconds to run on raw data')"
   ]
  },
  {
   "cell_type": "code",
   "execution_count": 48,
   "metadata": {
    "ExecuteTime": {
     "end_time": "2020-10-18T04:54:04.122495Z",
     "start_time": "2020-10-18T04:54:02.629620Z"
    }
   },
   "outputs": [],
   "source": [
    "test_result=pd.DataFrame()\n",
    "test_result['ImageId']=test_data.index+1\n",
    "test_result['Label']=rnd_clf.predict(test_data).T\n",
    "test_result.set_index('ImageId',inplace=True)\n",
    "sub_rfc=test_result[['Label']]\n",
    "sub_rfc.to_csv('submit_rfc.csv')"
   ]
  },
  {
   "cell_type": "markdown",
   "metadata": {},
   "source": [
    "## 2. Perform PCA on the combined training and test set data together"
   ]
  },
  {
   "cell_type": "code",
   "execution_count": 7,
   "metadata": {
    "ExecuteTime": {
     "end_time": "2020-10-18T17:30:51.074399Z",
     "start_time": "2020-10-18T17:30:50.763017Z"
    }
   },
   "outputs": [],
   "source": [
    "# Combine the data set\n",
    "\n",
    "full_data = X_data.append(test_data)"
   ]
  },
  {
   "cell_type": "code",
   "execution_count": 51,
   "metadata": {
    "ExecuteTime": {
     "end_time": "2020-10-18T04:58:04.556817Z",
     "start_time": "2020-10-18T04:58:04.532180Z"
    }
   },
   "outputs": [
    {
     "data": {
      "text/plain": [
       "(70000, 784)"
      ]
     },
     "execution_count": 51,
     "metadata": {},
     "output_type": "execute_result"
    }
   ],
   "source": [
    "full_data.shape"
   ]
  },
  {
   "cell_type": "code",
   "execution_count": 8,
   "metadata": {
    "ExecuteTime": {
     "end_time": "2020-10-18T17:31:05.930495Z",
     "start_time": "2020-10-18T17:30:58.218070Z"
    }
   },
   "outputs": [
    {
     "name": "stdout",
     "output_type": "stream",
     "text": [
      "It took 0:00:07.706441 seconds to identify the PCA\n"
     ]
    }
   ],
   "source": [
    "# Generating principal components that represent 95 percent of the variability in the explanatory variables\n",
    "start = datetime.datetime.now()\n",
    "pca = PCA(n_components=0.95)\n",
    "X_reduced = pca.fit_transform(full_data)\n",
    "end = datetime.datetime.now()\n",
    "print(f'It took {end - start} seconds to identify the PCA')"
   ]
  },
  {
   "cell_type": "code",
   "execution_count": 9,
   "metadata": {
    "ExecuteTime": {
     "end_time": "2020-10-18T17:31:30.060979Z",
     "start_time": "2020-10-18T17:31:30.051005Z"
    }
   },
   "outputs": [
    {
     "name": "stdout",
     "output_type": "stream",
     "text": [
      "The Principal components count is:  154\n"
     ]
    }
   ],
   "source": [
    "print('The Principal components count is: ', pca.n_components_)"
   ]
  },
  {
   "cell_type": "code",
   "execution_count": 55,
   "metadata": {
    "ExecuteTime": {
     "end_time": "2020-10-18T04:59:13.986442Z",
     "start_time": "2020-10-18T04:59:13.958685Z"
    }
   },
   "outputs": [
    {
     "data": {
      "text/plain": [
       "(70000, 154)"
      ]
     },
     "execution_count": 55,
     "metadata": {},
     "output_type": "execute_result"
    }
   ],
   "source": [
    "X_reduced.shape"
   ]
  },
  {
   "cell_type": "code",
   "execution_count": 19,
   "metadata": {
    "ExecuteTime": {
     "end_time": "2020-10-18T18:20:26.581034Z",
     "start_time": "2020-10-18T18:20:26.542140Z"
    }
   },
   "outputs": [
    {
     "data": {
      "text/plain": [
       "array([[-6.75625509e+02, -6.82915808e+02,  1.86498640e+02, ...,\n",
       "        -1.08990183e+01, -1.63219488e+01,  6.35662386e+01],\n",
       "       [ 1.69062514e+03, -4.02068266e+02, -4.88585115e+02, ...,\n",
       "        -2.65795542e+01, -7.82907326e+00, -4.27981864e+01],\n",
       "       [-8.90131113e+02, -2.75559563e+02,  7.94427204e+01, ...,\n",
       "         5.47651313e-01, -1.89874036e+01, -9.32970154e+00],\n",
       "       ...,\n",
       "       [-1.38405877e+02, -6.44818778e+02, -8.80688806e+02, ...,\n",
       "         3.80328093e+01,  7.46148739e+00,  3.37243298e+01],\n",
       "       [-4.94327683e+01,  5.78108995e+02, -3.23990494e+02, ...,\n",
       "         1.21587393e+00,  3.78456029e+01,  1.25606721e+01],\n",
       "       [ 5.97313126e+02,  1.41726610e+02,  8.18148548e+02, ...,\n",
       "         7.73017610e+01,  4.81828624e+01,  6.94983715e+01]])"
      ]
     },
     "execution_count": 19,
     "metadata": {},
     "output_type": "execute_result"
    }
   ],
   "source": [
    "X_reduced"
   ]
  },
  {
   "cell_type": "code",
   "execution_count": 57,
   "metadata": {
    "ExecuteTime": {
     "end_time": "2020-10-18T04:59:27.972362Z",
     "start_time": "2020-10-18T04:59:27.708976Z"
    }
   },
   "outputs": [
    {
     "data": {
      "image/png": "[encoded data removed]",
      "text/plain": [
       "<Figure size 432x288 with 1 Axes>"
      ]
     },
     "metadata": {},
     "output_type": "display_data"
    }
   ],
   "source": [
    "#Explained variance plot\n",
    "\n",
    "cumsum = np.cumsum(pca.explained_variance_ratio_)\n",
    "plt.plot(np.cumsum(pca.explained_variance_ratio_))\n",
    "plt.xlabel('number of components')\n",
    "plt.ylabel('cumulative explained variance')\n",
    "plt.show()"
   ]
  },
  {
   "cell_type": "markdown",
   "metadata": {},
   "source": [
    "## 3. Using the identified PC from above, use the train.csv to build another random forest classifier."
   ]
  },
  {
   "cell_type": "code",
   "execution_count": 10,
   "metadata": {
    "ExecuteTime": {
     "end_time": "2020-10-18T17:31:35.151359Z",
     "start_time": "2020-10-18T17:31:35.146372Z"
    }
   },
   "outputs": [],
   "source": [
    "X_reduced_train = X_reduced[0:42000, :]\n",
    "X_reduced_test = X_reduced[42000:70000, :]"
   ]
  },
  {
   "cell_type": "code",
   "execution_count": 11,
   "metadata": {
    "ExecuteTime": {
     "end_time": "2020-10-18T17:31:36.252413Z",
     "start_time": "2020-10-18T17:31:36.244435Z"
    }
   },
   "outputs": [
    {
     "data": {
      "text/plain": [
       "(42000, 154)"
      ]
     },
     "execution_count": 11,
     "metadata": {},
     "output_type": "execute_result"
    }
   ],
   "source": [
    "X_reduced_train.shape"
   ]
  },
  {
   "cell_type": "code",
   "execution_count": 12,
   "metadata": {
    "ExecuteTime": {
     "end_time": "2020-10-18T17:31:38.032790Z",
     "start_time": "2020-10-18T17:31:38.026665Z"
    }
   },
   "outputs": [
    {
     "data": {
      "text/plain": [
       "(28000, 154)"
      ]
     },
     "execution_count": 12,
     "metadata": {},
     "output_type": "execute_result"
    }
   ],
   "source": [
    "X_reduced_test.shape"
   ]
  },
  {
   "cell_type": "code",
   "execution_count": 17,
   "metadata": {
    "ExecuteTime": {
     "end_time": "2020-10-18T17:49:06.308771Z",
     "start_time": "2020-10-18T17:47:59.328347Z"
    }
   },
   "outputs": [
    {
     "name": "stdout",
     "output_type": "stream",
     "text": [
      "Random classifier took 0:01:06.974443 seconds to run on Test data using PCA\n"
     ]
    }
   ],
   "source": [
    "## Here we have used train.csv data to build another random forest classifier and record the time along with accuracy.\n",
    "rnd_clf2 = RandomForestClassifier(n_estimators = 100,random_state = 42)\n",
    "\n",
    "start = datetime.datetime.now()\n",
    "rnd_clf2.fit(X_reduced_train, y_data)\n",
    "end = datetime.datetime.now()\n",
    "print(f'Random classifier took {end - start} seconds to run on Test data using PCA')"
   ]
  },
  {
   "cell_type": "code",
   "execution_count": 71,
   "metadata": {
    "ExecuteTime": {
     "end_time": "2020-10-18T05:21:24.262035Z",
     "start_time": "2020-10-18T05:21:22.840348Z"
    }
   },
   "outputs": [],
   "source": [
    "test_result2=pd.DataFrame()\n",
    "test_result2['ImageId']=test_data.index+1\n",
    "test_result2['Label']=rnd_clf2.predict(X_reduced_test).T\n",
    "test_result2.set_index('ImageId',inplace=True)\n",
    "sub_pca=test_result2[['Label']]\n",
    "sub_pca.to_csv('submit_pca.csv')"
   ]
  },
  {
   "cell_type": "markdown",
   "metadata": {},
   "source": [
    "## 4. Submit both RF & PCA RF to Kaggle\n",
    "\n",
    "RF Kaggle Score is: 0.96575,     Time: 35 sec \\\n",
    "PCA&RF Kaggle Score is: 0.94392,     Time: 1 min 3 sec \\\n",
    "**PCA reduced the data dimention so the score is lower and runtime is much slower. The reason is PCA converted data to floating numbers instead of integer.**"
   ]
  },
  {
   "cell_type": "markdown",
   "metadata": {},
   "source": [
    "## 5. Identify design flaw  re-run experiment"
   ]
  },
  {
   "cell_type": "markdown",
   "metadata": {
    "ExecuteTime": {
     "end_time": "2020-10-18T02:53:15.170091Z",
     "start_time": "2020-10-18T02:53:14.518154Z"
    }
   },
   "source": [
    "The flaw in the experiement is the model used the full train.csv data, didn't go through train and test process."
   ]
  },
  {
   "cell_type": "code",
   "execution_count": 20,
   "metadata": {
    "ExecuteTime": {
     "end_time": "2020-10-18T18:30:07.382308Z",
     "start_time": "2020-10-18T18:30:06.278265Z"
    }
   },
   "outputs": [],
   "source": [
    "# Split training data & extract labels\n",
    "\n",
    "train_set, test_set = train_test_split(data, test_size=0.2, random_state = 42)\n",
    "y_train = train_set['label']\n",
    "X_train = train_set.drop('label', axis=1)\n",
    "y_test = test_set['label']\n",
    "X_test = test_set.drop('label', axis=1)"
   ]
  },
  {
   "cell_type": "code",
   "execution_count": 41,
   "metadata": {
    "ExecuteTime": {
     "end_time": "2020-10-18T19:29:14.171796Z",
     "start_time": "2020-10-18T19:29:14.162821Z"
    }
   },
   "outputs": [
    {
     "data": {
      "text/plain": [
       "(33600, 784)"
      ]
     },
     "execution_count": 41,
     "metadata": {},
     "output_type": "execute_result"
    }
   ],
   "source": [
    "X_train.shape"
   ]
  },
  {
   "cell_type": "code",
   "execution_count": 42,
   "metadata": {
    "ExecuteTime": {
     "end_time": "2020-10-18T19:29:15.919149Z",
     "start_time": "2020-10-18T19:29:15.914167Z"
    }
   },
   "outputs": [
    {
     "data": {
      "text/plain": [
       "(8400, 784)"
      ]
     },
     "execution_count": 42,
     "metadata": {},
     "output_type": "execute_result"
    }
   ],
   "source": [
    "X_test.shape"
   ]
  },
  {
   "cell_type": "markdown",
   "metadata": {},
   "source": [
    "Random Forest"
   ]
  },
  {
   "cell_type": "code",
   "execution_count": 43,
   "metadata": {
    "ExecuteTime": {
     "end_time": "2020-10-18T19:29:47.640138Z",
     "start_time": "2020-10-18T19:29:21.346601Z"
    }
   },
   "outputs": [
    {
     "name": "stdout",
     "output_type": "stream",
     "text": [
      "Random classifier took 0:00:26.264633 seconds to run on raw data\n"
     ]
    }
   ],
   "source": [
    "rnd_clf3 = RandomForestClassifier(n_estimators = 100,random_state = 42)\n",
    "start = datetime.datetime.now()\n",
    "rnd_clf3.fit(X_train,y_train)\n",
    "end = datetime.datetime.now()\n",
    "print(f'Random classifier took {end - start} seconds to run on raw data')"
   ]
  },
  {
   "cell_type": "code",
   "execution_count": 44,
   "metadata": {
    "ExecuteTime": {
     "end_time": "2020-10-18T19:29:55.032383Z",
     "start_time": "2020-10-18T19:29:54.602509Z"
    }
   },
   "outputs": [
    {
     "data": {
      "text/plain": [
       "0.9628571428571429"
      ]
     },
     "execution_count": 44,
     "metadata": {},
     "output_type": "execute_result"
    }
   ],
   "source": [
    "y_pred = rnd_clf3.predict(X_test)\n",
    "accuracy_score(y_test,y_pred)"
   ]
  },
  {
   "cell_type": "code",
   "execution_count": 45,
   "metadata": {
    "ExecuteTime": {
     "end_time": "2020-10-18T19:30:00.445633Z",
     "start_time": "2020-10-18T19:29:58.624462Z"
    }
   },
   "outputs": [],
   "source": [
    "test_result3=pd.DataFrame()\n",
    "test_result3['ImageId']=test_data.index+1\n",
    "test_result3['Label']=rnd_clf3.predict(test_data).T\n",
    "test_result3.set_index('ImageId',inplace=True)\n",
    "sub_rfc_revised=test_result3[['Label']]\n",
    "sub_rfc_revised.to_csv('submit_rfc_revised.csv')"
   ]
  },
  {
   "cell_type": "markdown",
   "metadata": {},
   "source": [
    "PCA and Random Forest"
   ]
  },
  {
   "cell_type": "code",
   "execution_count": 46,
   "metadata": {
    "ExecuteTime": {
     "end_time": "2020-10-18T19:30:12.092725Z",
     "start_time": "2020-10-18T19:30:12.084308Z"
    }
   },
   "outputs": [],
   "source": [
    "X_train_pca = X_reduced[0:33600, :]\n",
    "X_test_pca = X_reduced[33600:42000, :]"
   ]
  },
  {
   "cell_type": "code",
   "execution_count": 47,
   "metadata": {
    "ExecuteTime": {
     "end_time": "2020-10-18T19:32:36.014135Z",
     "start_time": "2020-10-18T19:30:17.453690Z"
    }
   },
   "outputs": [
    {
     "name": "stdout",
     "output_type": "stream",
     "text": [
      "Random classifier took 0:02:18.554482 seconds to run on Test data using PCA\n"
     ]
    }
   ],
   "source": [
    "start = datetime.datetime.now()\n",
    "rnd_clf4 = RandomForestClassifier(n_estimators = 154, random_state = 42)\n",
    "rnd_clf4.fit(X_train_pca, y_train)\n",
    "end = datetime.datetime.now()\n",
    "print(f'Random classifier took {end - start} seconds to run on Test data using PCA')"
   ]
  },
  {
   "cell_type": "code",
   "execution_count": 48,
   "metadata": {
    "ExecuteTime": {
     "end_time": "2020-10-18T19:32:47.990577Z",
     "start_time": "2020-10-18T19:32:47.094262Z"
    }
   },
   "outputs": [
    {
     "data": {
      "text/plain": [
       "0.10726190476190477"
      ]
     },
     "execution_count": 48,
     "metadata": {},
     "output_type": "execute_result"
    }
   ],
   "source": [
    "y_pred2 = rnd_clf4.predict(X_test_pca)\n",
    "accuracy_score(y_test,y_pred2)"
   ]
  },
  {
   "cell_type": "code",
   "execution_count": 49,
   "metadata": {
    "ExecuteTime": {
     "end_time": "2020-10-18T19:33:36.244715Z",
     "start_time": "2020-10-18T19:33:33.263052Z"
    }
   },
   "outputs": [],
   "source": [
    "test_result4=pd.DataFrame()\n",
    "test_result4['ImageId']=test_data.index+1\n",
    "test_result4['Label']=rnd_clf4.predict(X_reduced_test).T\n",
    "test_result4.set_index('ImageId',inplace=True)\n",
    "sub_pca_revised=test_result4[['Label']]\n",
    "sub_pca_revised.to_csv('submit_pca_revised.csv')"
   ]
  },
  {
   "cell_type": "markdown",
   "metadata": {},
   "source": [
    "## Submit two revised results to Kaggle\n",
    "Revised RF Kaggle Score is: 0.96264,     Time: 26 sec \\\n",
    "Revised PCA&RF Kaggle Score is: 0.09478,     Time: 2 min 18 sec \\\n",
    "\n",
    "**By comparing both accuracy and runtime, we wouldn't choose PCA to reduce dimension.**"
   ]
  },
  {
   "cell_type": "markdown",
   "metadata": {},
   "source": [
    "## 6.  k-means clustering to group MNIST observations into 1 of 10 categories & assign labels"
   ]
  },
  {
   "cell_type": "code",
   "execution_count": 147,
   "metadata": {},
   "outputs": [
    {
     "ename": "KeyError",
     "evalue": "'Passing list-likes to .loc or [] with any missing labels is no longer supported, see https://pandas.pydata.org/pandas-docs/stable/user_guide/indexing.html#deprecate-loc-reindex-listlike'",
     "output_type": "error",
     "traceback": [
      "\u001b[1;31m---------------------------------------------------------------------------\u001b[0m",
      "\u001b[1;31mKeyError\u001b[0m                                  Traceback (most recent call last)",
      "\u001b[1;32m<ipython-input-147-2b55db596eea>\u001b[0m in \u001b[0;36m<module>\u001b[1;34m\u001b[0m\n\u001b[0;32m      6\u001b[0m \u001b[0mX_digits_dist\u001b[0m \u001b[1;33m=\u001b[0m \u001b[0mkmeans\u001b[0m\u001b[1;33m.\u001b[0m\u001b[0mfit_transform\u001b[0m\u001b[1;33m(\u001b[0m\u001b[0mX_train\u001b[0m\u001b[1;33m)\u001b[0m\u001b[1;33m\u001b[0m\u001b[1;33m\u001b[0m\u001b[0m\n\u001b[0;32m      7\u001b[0m \u001b[0mrepresentative_digit_idx\u001b[0m \u001b[1;33m=\u001b[0m \u001b[0mnp\u001b[0m\u001b[1;33m.\u001b[0m\u001b[0margmin\u001b[0m\u001b[1;33m(\u001b[0m\u001b[0mX_digits_dist\u001b[0m\u001b[1;33m,\u001b[0m \u001b[0maxis\u001b[0m\u001b[1;33m=\u001b[0m\u001b[1;36m0\u001b[0m\u001b[1;33m)\u001b[0m\u001b[1;33m\u001b[0m\u001b[1;33m\u001b[0m\u001b[0m\n\u001b[1;32m----> 8\u001b[1;33m \u001b[0mX_representative_digits\u001b[0m \u001b[1;33m=\u001b[0m \u001b[0mX_train\u001b[0m\u001b[1;33m.\u001b[0m\u001b[0mloc\u001b[0m\u001b[1;33m[\u001b[0m\u001b[0mrepresentative_digit_idx\u001b[0m\u001b[1;33m]\u001b[0m\u001b[1;33m\u001b[0m\u001b[1;33m\u001b[0m\u001b[0m\n\u001b[0m",
      "\u001b[1;32m~\\anaconda3\\lib\\site-packages\\pandas\\core\\indexing.py\u001b[0m in \u001b[0;36m__getitem__\u001b[1;34m(self, key)\u001b[0m\n\u001b[0;32m   1766\u001b[0m \u001b[1;33m\u001b[0m\u001b[0m\n\u001b[0;32m   1767\u001b[0m             \u001b[0mmaybe_callable\u001b[0m \u001b[1;33m=\u001b[0m \u001b[0mcom\u001b[0m\u001b[1;33m.\u001b[0m\u001b[0mapply_if_callable\u001b[0m\u001b[1;33m(\u001b[0m\u001b[0mkey\u001b[0m\u001b[1;33m,\u001b[0m \u001b[0mself\u001b[0m\u001b[1;33m.\u001b[0m\u001b[0mobj\u001b[0m\u001b[1;33m)\u001b[0m\u001b[1;33m\u001b[0m\u001b[1;33m\u001b[0m\u001b[0m\n\u001b[1;32m-> 1768\u001b[1;33m             \u001b[1;32mreturn\u001b[0m \u001b[0mself\u001b[0m\u001b[1;33m.\u001b[0m\u001b[0m_getitem_axis\u001b[0m\u001b[1;33m(\u001b[0m\u001b[0mmaybe_callable\u001b[0m\u001b[1;33m,\u001b[0m \u001b[0maxis\u001b[0m\u001b[1;33m=\u001b[0m\u001b[0maxis\u001b[0m\u001b[1;33m)\u001b[0m\u001b[1;33m\u001b[0m\u001b[1;33m\u001b[0m\u001b[0m\n\u001b[0m\u001b[0;32m   1769\u001b[0m \u001b[1;33m\u001b[0m\u001b[0m\n\u001b[0;32m   1770\u001b[0m     \u001b[1;32mdef\u001b[0m \u001b[0m_is_scalar_access\u001b[0m\u001b[1;33m(\u001b[0m\u001b[0mself\u001b[0m\u001b[1;33m,\u001b[0m \u001b[0mkey\u001b[0m\u001b[1;33m:\u001b[0m \u001b[0mTuple\u001b[0m\u001b[1;33m)\u001b[0m\u001b[1;33m:\u001b[0m\u001b[1;33m\u001b[0m\u001b[1;33m\u001b[0m\u001b[0m\n",
      "\u001b[1;32m~\\anaconda3\\lib\\site-packages\\pandas\\core\\indexing.py\u001b[0m in \u001b[0;36m_getitem_axis\u001b[1;34m(self, key, axis)\u001b[0m\n\u001b[0;32m   1952\u001b[0m                     \u001b[1;32mraise\u001b[0m \u001b[0mValueError\u001b[0m\u001b[1;33m(\u001b[0m\u001b[1;34m\"Cannot index with multidimensional key\"\u001b[0m\u001b[1;33m)\u001b[0m\u001b[1;33m\u001b[0m\u001b[1;33m\u001b[0m\u001b[0m\n\u001b[0;32m   1953\u001b[0m \u001b[1;33m\u001b[0m\u001b[0m\n\u001b[1;32m-> 1954\u001b[1;33m                 \u001b[1;32mreturn\u001b[0m \u001b[0mself\u001b[0m\u001b[1;33m.\u001b[0m\u001b[0m_getitem_iterable\u001b[0m\u001b[1;33m(\u001b[0m\u001b[0mkey\u001b[0m\u001b[1;33m,\u001b[0m \u001b[0maxis\u001b[0m\u001b[1;33m=\u001b[0m\u001b[0maxis\u001b[0m\u001b[1;33m)\u001b[0m\u001b[1;33m\u001b[0m\u001b[1;33m\u001b[0m\u001b[0m\n\u001b[0m\u001b[0;32m   1955\u001b[0m \u001b[1;33m\u001b[0m\u001b[0m\n\u001b[0;32m   1956\u001b[0m             \u001b[1;31m# nested tuple slicing\u001b[0m\u001b[1;33m\u001b[0m\u001b[1;33m\u001b[0m\u001b[1;33m\u001b[0m\u001b[0m\n",
      "\u001b[1;32m~\\anaconda3\\lib\\site-packages\\pandas\\core\\indexing.py\u001b[0m in \u001b[0;36m_getitem_iterable\u001b[1;34m(self, key, axis)\u001b[0m\n\u001b[0;32m   1593\u001b[0m         \u001b[1;32melse\u001b[0m\u001b[1;33m:\u001b[0m\u001b[1;33m\u001b[0m\u001b[1;33m\u001b[0m\u001b[0m\n\u001b[0;32m   1594\u001b[0m             \u001b[1;31m# A collection of keys\u001b[0m\u001b[1;33m\u001b[0m\u001b[1;33m\u001b[0m\u001b[1;33m\u001b[0m\u001b[0m\n\u001b[1;32m-> 1595\u001b[1;33m             \u001b[0mkeyarr\u001b[0m\u001b[1;33m,\u001b[0m \u001b[0mindexer\u001b[0m \u001b[1;33m=\u001b[0m \u001b[0mself\u001b[0m\u001b[1;33m.\u001b[0m\u001b[0m_get_listlike_indexer\u001b[0m\u001b[1;33m(\u001b[0m\u001b[0mkey\u001b[0m\u001b[1;33m,\u001b[0m \u001b[0maxis\u001b[0m\u001b[1;33m,\u001b[0m \u001b[0mraise_missing\u001b[0m\u001b[1;33m=\u001b[0m\u001b[1;32mFalse\u001b[0m\u001b[1;33m)\u001b[0m\u001b[1;33m\u001b[0m\u001b[1;33m\u001b[0m\u001b[0m\n\u001b[0m\u001b[0;32m   1596\u001b[0m             return self.obj._reindex_with_indexers(\n\u001b[0;32m   1597\u001b[0m                 \u001b[1;33m{\u001b[0m\u001b[0maxis\u001b[0m\u001b[1;33m:\u001b[0m \u001b[1;33m[\u001b[0m\u001b[0mkeyarr\u001b[0m\u001b[1;33m,\u001b[0m \u001b[0mindexer\u001b[0m\u001b[1;33m]\u001b[0m\u001b[1;33m}\u001b[0m\u001b[1;33m,\u001b[0m \u001b[0mcopy\u001b[0m\u001b[1;33m=\u001b[0m\u001b[1;32mTrue\u001b[0m\u001b[1;33m,\u001b[0m \u001b[0mallow_dups\u001b[0m\u001b[1;33m=\u001b[0m\u001b[1;32mTrue\u001b[0m\u001b[1;33m\u001b[0m\u001b[1;33m\u001b[0m\u001b[0m\n",
      "\u001b[1;32m~\\anaconda3\\lib\\site-packages\\pandas\\core\\indexing.py\u001b[0m in \u001b[0;36m_get_listlike_indexer\u001b[1;34m(self, key, axis, raise_missing)\u001b[0m\n\u001b[0;32m   1550\u001b[0m             \u001b[0mkeyarr\u001b[0m\u001b[1;33m,\u001b[0m \u001b[0mindexer\u001b[0m\u001b[1;33m,\u001b[0m \u001b[0mnew_indexer\u001b[0m \u001b[1;33m=\u001b[0m \u001b[0max\u001b[0m\u001b[1;33m.\u001b[0m\u001b[0m_reindex_non_unique\u001b[0m\u001b[1;33m(\u001b[0m\u001b[0mkeyarr\u001b[0m\u001b[1;33m)\u001b[0m\u001b[1;33m\u001b[0m\u001b[1;33m\u001b[0m\u001b[0m\n\u001b[0;32m   1551\u001b[0m \u001b[1;33m\u001b[0m\u001b[0m\n\u001b[1;32m-> 1552\u001b[1;33m         self._validate_read_indexer(\n\u001b[0m\u001b[0;32m   1553\u001b[0m             \u001b[0mkeyarr\u001b[0m\u001b[1;33m,\u001b[0m \u001b[0mindexer\u001b[0m\u001b[1;33m,\u001b[0m \u001b[0mo\u001b[0m\u001b[1;33m.\u001b[0m\u001b[0m_get_axis_number\u001b[0m\u001b[1;33m(\u001b[0m\u001b[0maxis\u001b[0m\u001b[1;33m)\u001b[0m\u001b[1;33m,\u001b[0m \u001b[0mraise_missing\u001b[0m\u001b[1;33m=\u001b[0m\u001b[0mraise_missing\u001b[0m\u001b[1;33m\u001b[0m\u001b[1;33m\u001b[0m\u001b[0m\n\u001b[0;32m   1554\u001b[0m         )\n",
      "\u001b[1;32m~\\anaconda3\\lib\\site-packages\\pandas\\core\\indexing.py\u001b[0m in \u001b[0;36m_validate_read_indexer\u001b[1;34m(self, key, indexer, axis, raise_missing)\u001b[0m\n\u001b[0;32m   1652\u001b[0m             \u001b[1;31m# just raising\u001b[0m\u001b[1;33m\u001b[0m\u001b[1;33m\u001b[0m\u001b[1;33m\u001b[0m\u001b[0m\n\u001b[0;32m   1653\u001b[0m             \u001b[1;32mif\u001b[0m \u001b[1;32mnot\u001b[0m \u001b[1;33m(\u001b[0m\u001b[0max\u001b[0m\u001b[1;33m.\u001b[0m\u001b[0mis_categorical\u001b[0m\u001b[1;33m(\u001b[0m\u001b[1;33m)\u001b[0m \u001b[1;32mor\u001b[0m \u001b[0max\u001b[0m\u001b[1;33m.\u001b[0m\u001b[0mis_interval\u001b[0m\u001b[1;33m(\u001b[0m\u001b[1;33m)\u001b[0m\u001b[1;33m)\u001b[0m\u001b[1;33m:\u001b[0m\u001b[1;33m\u001b[0m\u001b[1;33m\u001b[0m\u001b[0m\n\u001b[1;32m-> 1654\u001b[1;33m                 raise KeyError(\n\u001b[0m\u001b[0;32m   1655\u001b[0m                     \u001b[1;34m\"Passing list-likes to .loc or [] with any missing labels \"\u001b[0m\u001b[1;33m\u001b[0m\u001b[1;33m\u001b[0m\u001b[0m\n\u001b[0;32m   1656\u001b[0m                     \u001b[1;34m\"is no longer supported, see \"\u001b[0m\u001b[1;33m\u001b[0m\u001b[1;33m\u001b[0m\u001b[0m\n",
      "\u001b[1;31mKeyError\u001b[0m: 'Passing list-likes to .loc or [] with any missing labels is no longer supported, see https://pandas.pydata.org/pandas-docs/stable/user_guide/indexing.html#deprecate-loc-reindex-listlike'"
     ]
    }
   ],
   "source": [
    "#Manual method\n",
    "from sklearn.cluster import KMeans\n",
    "\n",
    "k = 50\n",
    "kmeans = KMeans(n_clusters=k)\n",
    "X_digits_dist = kmeans.fit_transform(X_train)\n",
    "representative_digit_idx = np.argmin(X_digits_dist, axis=0)"
   ]
  },
  {
   "cell_type": "code",
   "execution_count": 149,
   "metadata": {},
   "outputs": [],
   "source": [
    "X_representative_digits = X_train.iloc[representative_digit_idx]"
   ]
  },
  {
   "cell_type": "code",
   "execution_count": 151,
   "metadata": {},
   "outputs": [
    {
     "data": {
      "text/plain": [
       "array([10646, 24572,  1648, 33496, 11605, 18773, 24356,  5853, 10376,\n",
       "       24416, 10605,   530, 32683,  9735, 14238, 20591, 29388,  4873,\n",
       "        2774, 29462,  2365, 15251,  1523, 24472,  8212, 12291, 19931,\n",
       "       22841, 20242,  5039,  8749, 28213, 24228,  9124,   215,  1335,\n",
       "       28429, 10377, 23150, 30848, 30165, 25923, 16884, 19568, 23549,\n",
       "       18942,   117, 22344, 10442, 31446], dtype=int64)"
      ]
     },
     "execution_count": 151,
     "metadata": {},
     "output_type": "execute_result"
    }
   ],
   "source": [
    "representative_digit_idx"
   ]
  },
  {
   "cell_type": "code",
   "execution_count": 152,
   "metadata": {},
   "outputs": [],
   "source": [
    "def convertImage(dfrow):\n",
    "    image = np.array(X_train.iloc[dfrow], dtype='float').reshape((28,28))\n",
    "    return image"
   ]
  },
  {
   "cell_type": "code",
   "execution_count": 153,
   "metadata": {},
   "outputs": [],
   "source": [
    "images = []\n",
    "for digit in representative_digit_idx:\n",
    "    image = convertImage(digit)\n",
    "    images.append(image)"
   ]
  },
  {
   "cell_type": "code",
   "execution_count": 154,
   "metadata": {},
   "outputs": [
    {
     "data": {
      "image/png": "[encoded data removed]",
      "image/svg+xml": [
       "<?xml version=\"1.0\" encoding=\"utf-8\" standalone=\"no\"?>\r\n",
       "<!DOCTYPE svg PUBLIC \"-//W3C//DTD SVG 1.1//EN\"\r\n",
       "  \"http://www.w3.org/Graphics/SVG/1.1/DTD/svg11.dtd\">\r\n",
       "<!-- Created with matplotlib (https://matplotlib.org/) -->\r\n",
       "<svg height=\"41.58pt\" version=\"1.1\" viewBox=\"0 0 41.58 41.58\" width=\"41.58pt\" xmlns=\"http://www.w3.org/2000/svg\" xmlns:xlink=\"http://www.w3.org/1999/xlink\">\r\n",
       " <defs>\r\n",
       "  <style type=\"text/css\">\r\n",
       "*{stroke-linecap:butt;stroke-linejoin:round;}\r\n",
       "  </style>\r\n",
       " </defs>\r\n",
       " <g id=\"figure_1\">\r\n",
       "  <g id=\"patch_1\">\r\n",
       "   <path d=\"M 0 41.58 \r\n",
       "L 41.58 41.58 \r\n",
       "L 41.58 0 \r\n",
       "L 0 0 \r\n",
       "z\r\n",
       "\" style=\"fill:#ffffff;\"/>\r\n",
       "  </g>\r\n",
       "  <g id=\"axes_1\">\r\n",
       "   <g clip-path=\"url(#pffc8633e7c)\">\r\n",
       "    <image height=\"28\" id=\"imageac362024c3\" transform=\"scale(1 -1)translate(0 -28)\" width=\"28\" x=\"7.2\" xlink:href=\"data:image/png;base64,\r\n",
       "iVBORw0KGgoAAAANSUhEUgAAABwAAAAcCAYAAAByDd+UAAAABHNCSVQICAgIfAhkiAAAAgZJREFUSIntlr3LcXEYx7/3Q5SXpAxKDJKUQV4GWUxGs4VSRiMWGQwiK5OFP8CiY/InIH+BwSkMBkre6ee6l9vpcd9eDrkNT8+3rjrnevt0nc7vOucDAOGN+vNO2H/gr0j6G01tNhusVusPP8dx4oClUgkKhUK4z+Vy4Hn+R14kEoHf74fL5YLD4TiLlctlcByHD9w5FlarFd1uFyqVSvANBgNEo9GzPKfTiWKxCLlcDgBYr9fIZrPQ6/UoFApYLpfY7/fAF/CqVatVYoyJNp7nKZFIUCwWu9jv7iMdj8dgjEEikVyMz+dzjMdjGI1GZDIZNBoNjEajmz1vTgiAKpXKxWl2ux2FQiECQOFw+G6fL7ufpFaryePxUK/Xo+FwSNvtlhhjtFqtSKvVigWJB363TqcjTNlut8lisYiufergHw4H4drj8cDtdouufQoYDAbR6/WeKX0OOJvNUKvV3gc8KZ/PvxeYTqdfC4zH40ilUpBKz/eDTCaDyWR6GHbS1VeYiIgxRsVikXw+n+A3GAxnC+B0+EXa9eDxeBSaDodD8nq9ZDabieM4wd9sNkmj0bwG2Gg0bi7q3W73yEq7D9TpdFSv1ymZTNJ0OqXD4XAGnEwmD2+pm8Dv1u/3iTFGi8WCqtUq2e32h4F3P8B/KxAIQKlUYrPZoNVqiS0700PAV+jf/038BITaCOg8nZMUAAAAAElFTkSuQmCC\" y=\"-6.38\"/>\r\n",
       "   </g>\r\n",
       "  </g>\r\n",
       " </g>\r\n",
       " <defs>\r\n",
       "  <clipPath id=\"pffc8633e7c\">\r\n",
       "   <rect height=\"27.18\" width=\"27.18\" x=\"7.2\" y=\"7.2\"/>\r\n",
       "  </clipPath>\r\n",
       " </defs>\r\n",
       "</svg>\r\n"
      ],
      "text/plain": [
       "<Figure size 36x36 with 1 Axes>"
      ]
     },
     "metadata": {},
     "output_type": "display_data"
    },
    {
     "data": {
      "image/png": "[encoded data removed]",
      "image/svg+xml": [
       "<?xml version=\"1.0\" encoding=\"utf-8\" standalone=\"no\"?>\r\n",
       "<!DOCTYPE svg PUBLIC \"-//W3C//DTD SVG 1.1//EN\"\r\n",
       "  \"http://www.w3.org/Graphics/SVG/1.1/DTD/svg11.dtd\">\r\n",
       "<!-- Created with matplotlib (https://matplotlib.org/) -->\r\n",
       "<svg height=\"41.58pt\" version=\"1.1\" viewBox=\"0 0 41.58 41.58\" width=\"41.58pt\" xmlns=\"http://www.w3.org/2000/svg\" xmlns:xlink=\"http://www.w3.org/1999/xlink\">\r\n",
       " <defs>\r\n",
       "  <style type=\"text/css\">\r\n",
       "*{stroke-linecap:butt;stroke-linejoin:round;}\r\n",
       "  </style>\r\n",
       " </defs>\r\n",
       " <g id=\"figure_1\">\r\n",
       "  <g id=\"patch_1\">\r\n",
       "   <path d=\"M 0 41.58 \r\n",
       "L 41.58 41.58 \r\n",
       "L 41.58 0 \r\n",
       "L 0 0 \r\n",
       "z\r\n",
       "\" style=\"fill:#ffffff;\"/>\r\n",
       "  </g>\r\n",
       "  <g id=\"axes_1\">\r\n",
       "   <g clip-path=\"url(#p349b29298d)\">\r\n",
       "    <image height=\"28\" id=\"image1df2b6df29\" transform=\"scale(1 -1)translate(0 -28)\" width=\"28\" x=\"7.2\" xlink:href=\"data:image/png;base64,\r\n",
       "iVBORw0KGgoAAAANSUhEUgAAABwAAAAcCAYAAAByDd+UAAAABHNCSVQICAgIfAhkiAAAAWNJREFUSIntlr2KwlAQhU+2VlIErKythBQ2FiJY2EgeIbWFjU+Qp0iRRh8gb5Be7GwNtsHKIoFAyhnPFrsbdmFhL5Eru7ADA7eYw8c5l/vjACCeWC/PhP0Dv9RyuYSIYL1ePwylSadpShGhiDAIAiPNd90p0tVq1dmdMdBxnLaDIOgMBAyjmE6nbaR1XdP3fbuRNk2DpmkAAL1eD9vt1q5DADwejxQRqirzPKfneV1cmg/PZjPWdc37/U5V5W63swsEwPP5TFWliDDPc7quaxc4Go1aoIhwOBzaBQLg5XJpgUmS2AeGYUhVbXsymdgFAuB+v29dRlFkH/j5IiiKwljX+XmqqgpVVQEABoMBFouFsbaTQwCM45iqSpLMssxupMDbESnLkqrKw+FgHwiARVFQVXm73Tifz+3t4UelaQoA8DwPm83GSPOQw36/z9PpxOv1yvF4/OO88754Wv3eX9ufBb4Cd28mnmI13okAAAAASUVORK5CYII=\" y=\"-6.38\"/>\r\n",
       "   </g>\r\n",
       "  </g>\r\n",
       " </g>\r\n",
       " <defs>\r\n",
       "  <clipPath id=\"p349b29298d\">\r\n",
       "   <rect height=\"27.18\" width=\"27.18\" x=\"7.2\" y=\"7.2\"/>\r\n",
       "  </clipPath>\r\n",
       " </defs>\r\n",
       "</svg>\r\n"
      ],
      "text/plain": [
       "<Figure size 36x36 with 1 Axes>"
      ]
     },
     "metadata": {},
     "output_type": "display_data"
    },
    {
     "data": {
      "image/png": "[encoded data removed]",
      "image/svg+xml": [
       "<?xml version=\"1.0\" encoding=\"utf-8\" standalone=\"no\"?>\r\n",
       "<!DOCTYPE svg PUBLIC \"-//W3C//DTD SVG 1.1//EN\"\r\n",
       "  \"http://www.w3.org/Graphics/SVG/1.1/DTD/svg11.dtd\">\r\n",
       "<!-- Created with matplotlib (https://matplotlib.org/) -->\r\n",
       "<svg height=\"41.58pt\" version=\"1.1\" viewBox=\"0 0 41.58 41.58\" width=\"41.58pt\" xmlns=\"http://www.w3.org/2000/svg\" xmlns:xlink=\"http://www.w3.org/1999/xlink\">\r\n",
       " <defs>\r\n",
       "  <style type=\"text/css\">\r\n",
       "*{stroke-linecap:butt;stroke-linejoin:round;}\r\n",
       "  </style>\r\n",
       " </defs>\r\n",
       " <g id=\"figure_1\">\r\n",
       "  <g id=\"patch_1\">\r\n",
       "   <path d=\"M 0 41.58 \r\n",
       "L 41.58 41.58 \r\n",
       "L 41.58 0 \r\n",
       "L 0 0 \r\n",
       "z\r\n",
       "\" style=\"fill:#ffffff;\"/>\r\n",
       "  </g>\r\n",
       "  <g id=\"axes_1\">\r\n",
       "   <g clip-path=\"url(#p25d91c6a3d)\">\r\n",
       "    <image height=\"28\" id=\"imagef8add6a135\" transform=\"scale(1 -1)translate(0 -28)\" width=\"28\" x=\"7.2\" xlink:href=\"data:image/png;base64,\r\n",
       "iVBORw0KGgoAAAANSUhEUgAAABwAAAAcCAYAAAByDd+UAAAABHNCSVQICAgIfAhkiAAAAfNJREFUSIntlr+uKVEUxteZmWISf6NREI1EIQqR8QQSapWKREE8gVDxALrpKTQjeqFQ8AgKOsJEEBEmChHs71bkOmecyz2O5N6cL/mqtXd+e63stfZ+IyLQC8W9EvYD/BYJtwIcx5Hf76dWq0WCIFC73abJZELL5ZJKpRIdDoe/hkLPPp8PjLEP3mw2aLfbyOVycDgcunv/YP1Ap9O5QFRVRb1ex2AwQLPZBGMMACDL8vOAvV4PjDFst1uUSiUQEex2O4gIkUgElUoFo9HoecByuQxZluFyuXTjbrcbiqLA6/XC6XR+HchxHHie/3SzJEmo1WoQRfFu4M22YIzR6XS6FSYiokAgQEajkUwm06frftfNtnivUChEwWCQptMpeTweisfjtF6vKZVKkaZpdwOJ7ihDMpm8ao3j8YjdbodsNvvwpbkrw+l0Svv9nkRRpNVqReFwmDRNI1VVH8rs7gyJCIqiXDJsNBqwWCwwGAzPaws9F4vFq9L2+/3vBQqCgHq9fpk0jDGMx2NUq1Wk02nYbLbnAs/OZDK6c5Yxhvl8jkKhgFgsBkmSYLVavw7keR6JRAK73Q6NRgOVSgXdbhfD4fDDARaLxfuZ+zjwbLPZfPViiKKIaDSK2WwGWZaRz+exXq+vgG9n6qv0/38xfoD/PvAXJUtGiA7OsqAAAAAASUVORK5CYII=\" y=\"-6.38\"/>\r\n",
       "   </g>\r\n",
       "  </g>\r\n",
       " </g>\r\n",
       " <defs>\r\n",
       "  <clipPath id=\"p25d91c6a3d\">\r\n",
       "   <rect height=\"27.18\" width=\"27.18\" x=\"7.2\" y=\"7.2\"/>\r\n",
       "  </clipPath>\r\n",
       " </defs>\r\n",
       "</svg>\r\n"
      ],
      "text/plain": [
       "<Figure size 36x36 with 1 Axes>"
      ]
     },
     "metadata": {},
     "output_type": "display_data"
    },
    {
     "data": {
      "image/png": "[encoded data removed]",
      "image/svg+xml": [
       "<?xml version=\"1.0\" encoding=\"utf-8\" standalone=\"no\"?>\r\n",
       "<!DOCTYPE svg PUBLIC \"-//W3C//DTD SVG 1.1//EN\"\r\n",
       "  \"http://www.w3.org/Graphics/SVG/1.1/DTD/svg11.dtd\">\r\n",
       "<!-- Created with matplotlib (https://matplotlib.org/) -->\r\n",
       "<svg height=\"41.58pt\" version=\"1.1\" viewBox=\"0 0 41.58 41.58\" width=\"41.58pt\" xmlns=\"http://www.w3.org/2000/svg\" xmlns:xlink=\"http://www.w3.org/1999/xlink\">\r\n",
       " <defs>\r\n",
       "  <style type=\"text/css\">\r\n",
       "*{stroke-linecap:butt;stroke-linejoin:round;}\r\n",
       "  </style>\r\n",
       " </defs>\r\n",
       " <g id=\"figure_1\">\r\n",
       "  <g id=\"patch_1\">\r\n",
       "   <path d=\"M 0 41.58 \r\n",
       "L 41.58 41.58 \r\n",
       "L 41.58 0 \r\n",
       "L 0 0 \r\n",
       "z\r\n",
       "\" style=\"fill:#ffffff;\"/>\r\n",
       "  </g>\r\n",
       "  <g id=\"axes_1\">\r\n",
       "   <g clip-path=\"url(#pc7cbc9217b)\">\r\n",
       "    <image height=\"28\" id=\"image16928d896d\" transform=\"scale(1 -1)translate(0 -28)\" width=\"28\" x=\"7.2\" xlink:href=\"data:image/png;base64,\r\n",
       "iVBORw0KGgoAAAANSUhEUgAAABwAAAAcCAYAAAByDd+UAAAABHNCSVQICAgIfAhkiAAAAkRJREFUSIntVj1rIlEUPa6OEj8QBVs/CkGm9AtTOUUwZUDtBMHOwl7L7cRG/AVqpxZCOsEfkErbEHAgTKMJiIhTTIR53hRLZjGaZUYlpNgDBy5z577DPXPfe2MCQPhG/PpOsZ8nyHEcGo0GVFWFqqqQZRmNRgPJZBIWi+VkUfqKtVqNVFXVyBjT4vv7e0qlUl/W/oPHEzabjcbj8ZeCH+z1eoYEzQB+H2vb6XSiWq3i7e0N+XwerVYLT09PWC6XWC6XCIVCAIBIJILtdouHh4fzLXW73eTxeI523+12iTFGRETb7ZbS6fR5luphv9/XbL67u9NVc9a2mEwmWlwul3XVnCXo9/u1WJIkXTWGNtPV1RVyuRwCgQByuRx4ntdyw+FQ9zq6vG+32/T6+kqMsT0SEXU6HbLZbJcbmlgsRpvN5mAfbjYbarfbhgZNl6U8z8NutwMAFEWBKIp4fHxEs9nEdDrVbSVg8BsCwGw2QzQaNVqmQdeUPj8/Q1EUAEA4HEapVDpZENDp/WKxICIixhgpikL1ep0cDsflDu/PjMfjJMvyweEtyzIJgkBWq/W8w/sz5vM5PB4Prq+v955brVYUi0WkUinc3Nzg5eUFXq8XLpcLq9XqdEsBUKVSOejw2JXFGKP1ek2j0YiCweDeGqYPX/WA4zik02nY7XZIkoR4PI7b21tks9m990wmE4j+LFsoFDAYDP7mjAgeg9lshs/nQz6fh9/vRyKRgCAI2O12kCQJmUwGoiheTtAoftZf23/BU/AOw8Qc4KviMiwAAAAASUVORK5CYII=\" y=\"-6.38\"/>\r\n",
       "   </g>\r\n",
       "  </g>\r\n",
       " </g>\r\n",
       " <defs>\r\n",
       "  <clipPath id=\"pc7cbc9217b\">\r\n",
       "   <rect height=\"27.18\" width=\"27.18\" x=\"7.2\" y=\"7.2\"/>\r\n",
       "  </clipPath>\r\n",
       " </defs>\r\n",
       "</svg>\r\n"
      ],
      "text/plain": [
       "<Figure size 36x36 with 1 Axes>"
      ]
     },
     "metadata": {},
     "output_type": "display_data"
    },
    {
     "data": {
      "image/png": "[encoded data removed]",
      "image/svg+xml": [
       "<?xml version=\"1.0\" encoding=\"utf-8\" standalone=\"no\"?>\r\n",
       "<!DOCTYPE svg PUBLIC \"-//W3C//DTD SVG 1.1//EN\"\r\n",
       "  \"http://www.w3.org/Graphics/SVG/1.1/DTD/svg11.dtd\">\r\n",
       "<!-- Created with matplotlib (https://matplotlib.org/) -->\r\n",
       "<svg height=\"41.58pt\" version=\"1.1\" viewBox=\"0 0 41.58 41.58\" width=\"41.58pt\" xmlns=\"http://www.w3.org/2000/svg\" xmlns:xlink=\"http://www.w3.org/1999/xlink\">\r\n",
       " <defs>\r\n",
       "  <style type=\"text/css\">\r\n",
       "*{stroke-linecap:butt;stroke-linejoin:round;}\r\n",
       "  </style>\r\n",
       " </defs>\r\n",
       " <g id=\"figure_1\">\r\n",
       "  <g id=\"patch_1\">\r\n",
       "   <path d=\"M 0 41.58 \r\n",
       "L 41.58 41.58 \r\n",
       "L 41.58 0 \r\n",
       "L 0 0 \r\n",
       "z\r\n",
       "\" style=\"fill:#ffffff;\"/>\r\n",
       "  </g>\r\n",
       "  <g id=\"axes_1\">\r\n",
       "   <g clip-path=\"url(#pf9bb91ba2e)\">\r\n",
       "    <image height=\"28\" id=\"image576ee4fd6c\" transform=\"scale(1 -1)translate(0 -28)\" width=\"28\" x=\"7.2\" xlink:href=\"data:image/png;base64,\r\n",
       "iVBORw0KGgoAAAANSUhEUgAAABwAAAAcCAYAAAByDd+UAAAABHNCSVQICAgIfAhkiAAAAe1JREFUSIntlr2K6lAUhZd6hbFJqYgRRDAWWllImtQSELSztrSw8AUkiK9gJb6AIFYWFtorKiLY+lcoCP40sZC493RTTWLGMMLA3XCqfOuss06yN3EBYLyx3O80+1uG5XIZuq4jlUq9x1AQBPh8PsRisfcY7nY7AIDL5fqxll9ZkiSxruu83+85HA7/RPuaIQC+XC7MzKxpmm2N46+UmSGKom3ekeFisQAAKIqCUChkS+OCyaRpt9sIBoOWYlmW4fF4AACTyQTpdNqW6bd3vV6vmYhsL8MwWFXV332Hs9kM5/MZAOB2u/Hx8fFU88/sQb1eR7PZBAAsl0vM53N0Oh0cDocvZjqdIhKJoNfrIRaLIR6P2zrot9E9Hg+Px2MmIh4Oh5bXVCqVmIh4tVqx3+9/vQ8zmQxfr1e+3W4cCARMuWw2y4ZhMBFxIpFw1viNRoOJiPv9viXXarWYiLhWqzkzVFWVDcNgwzBYlmVTrlqtMhHx/X5nr9frbLSNRiMmIi4UCqaMKIpfLZLL5Zy1RbfbBQDk83lTRtd1bDYbAEA0GrXc72lCQRCYiPjxeHA0GjXlNE1jIuJKpeIs4e12w2AwwPF4hKIoptx2u7Wz3fOEADiZTHKxWLRkJEni0+lkmdB0eP9W/Z2/tv+GZvUJGv/o98X5bYwAAAAASUVORK5CYII=\" y=\"-6.38\"/>\r\n",
       "   </g>\r\n",
       "  </g>\r\n",
       " </g>\r\n",
       " <defs>\r\n",
       "  <clipPath id=\"pf9bb91ba2e\">\r\n",
       "   <rect height=\"27.18\" width=\"27.18\" x=\"7.2\" y=\"7.2\"/>\r\n",
       "  </clipPath>\r\n",
       " </defs>\r\n",
       "</svg>\r\n"
      ],
      "text/plain": [
       "<Figure size 36x36 with 1 Axes>"
      ]
     },
     "metadata": {},
     "output_type": "display_data"
    },
    {
     "data": {
      "image/png": "[encoded data removed]",
      "image/svg+xml": [
       "<?xml version=\"1.0\" encoding=\"utf-8\" standalone=\"no\"?>\r\n",
       "<!DOCTYPE svg PUBLIC \"-//W3C//DTD SVG 1.1//EN\"\r\n",
       "  \"http://www.w3.org/Graphics/SVG/1.1/DTD/svg11.dtd\">\r\n",
       "<!-- Created with matplotlib (https://matplotlib.org/) -->\r\n",
       "<svg height=\"41.58pt\" version=\"1.1\" viewBox=\"0 0 41.58 41.58\" width=\"41.58pt\" xmlns=\"http://www.w3.org/2000/svg\" xmlns:xlink=\"http://www.w3.org/1999/xlink\">\r\n",
       " <defs>\r\n",
       "  <style type=\"text/css\">\r\n",
       "*{stroke-linecap:butt;stroke-linejoin:round;}\r\n",
       "  </style>\r\n",
       " </defs>\r\n",
       " <g id=\"figure_1\">\r\n",
       "  <g id=\"patch_1\">\r\n",
       "   <path d=\"M 0 41.58 \r\n",
       "L 41.58 41.58 \r\n",
       "L 41.58 0 \r\n",
       "L 0 0 \r\n",
       "z\r\n",
       "\" style=\"fill:#ffffff;\"/>\r\n",
       "  </g>\r\n",
       "  <g id=\"axes_1\">\r\n",
       "   <g clip-path=\"url(#p7548385b1b)\">\r\n",
       "    <image height=\"28\" id=\"imagec54bb85c5b\" transform=\"scale(1 -1)translate(0 -28)\" width=\"28\" x=\"7.2\" xlink:href=\"data:image/png;base64,\r\n",
       "iVBORw0KGgoAAAANSUhEUgAAABwAAAAcCAYAAAByDd+UAAAABHNCSVQICAgIfAhkiAAAAdpJREFUSIntljGr4kAQx/8r11gsCFZGW0E0lVikS8DSL2Ah2NgKprP0A0Qittoq+AHsLEQx2IiNTWKRQoh1CguL3XnFcY/zHvryzpzcwQ38i+xM9sdkZrLLABBeaIlXwv4DAQC5XA6TyQRCCAgh0O/3YVkWKpUKUqnUl4EMD5omk8lguVyCiLDdbqEoClzXha7rKJVK8DwPm80Gg8EAh8MhMpTuyTRNWq/XlE6nb9Y559RsNmm/35OUksIwpHa7Tclk8u5eP+m+0zAMMgzjrp9zTsVikVzXJSkl9Xq954BRpSgK+b5PQgjSdf1hbCxdGgQBxuMxAKBcLj+MjW0sjsdjpLjYgK1WC4yxSLFP1xAAOY5DYRh+GvctagaqqqLT6YBzjiAIMJvN3n21Wg35fB6j0Si+DB3HISEESSlJCPGuH8+LxYJUVY0vQ8YYGGNYrVbY7XY36+fzGcPhENfrNf4MTdN8qtaRu3Q+nwP4/n99xiIDPc8DANTr9dcAGWNIJBKRZ+1pIBFBSolsNovT6QTLslAoFH7rE0cqdrVaJd/3P4zF5XIh27aJcx61cb52KmiaRpqm3ZyHQgiybTt+4K/inFOj0aDpdErdbjfSOw+vGH/C/r5b2z8PfAMsZbj4Xfr9qwAAAABJRU5ErkJggg==\" y=\"-6.38\"/>\r\n",
       "   </g>\r\n",
       "  </g>\r\n",
       " </g>\r\n",
       " <defs>\r\n",
       "  <clipPath id=\"p7548385b1b\">\r\n",
       "   <rect height=\"27.18\" width=\"27.18\" x=\"7.2\" y=\"7.2\"/>\r\n",
       "  </clipPath>\r\n",
       " </defs>\r\n",
       "</svg>\r\n"
      ],
      "text/plain": [
       "<Figure size 36x36 with 1 Axes>"
      ]
     },
     "metadata": {},
     "output_type": "display_data"
    },
    {
     "data": {
      "image/png": "[encoded data removed]",
      "image/svg+xml": [
       "<?xml version=\"1.0\" encoding=\"utf-8\" standalone=\"no\"?>\r\n",
       "<!DOCTYPE svg PUBLIC \"-//W3C//DTD SVG 1.1//EN\"\r\n",
       "  \"http://www.w3.org/Graphics/SVG/1.1/DTD/svg11.dtd\">\r\n",
       "<!-- Created with matplotlib (https://matplotlib.org/) -->\r\n",
       "<svg height=\"41.58pt\" version=\"1.1\" viewBox=\"0 0 41.58 41.58\" width=\"41.58pt\" xmlns=\"http://www.w3.org/2000/svg\" xmlns:xlink=\"http://www.w3.org/1999/xlink\">\r\n",
       " <defs>\r\n",
       "  <style type=\"text/css\">\r\n",
       "*{stroke-linecap:butt;stroke-linejoin:round;}\r\n",
       "  </style>\r\n",
       " </defs>\r\n",
       " <g id=\"figure_1\">\r\n",
       "  <g id=\"patch_1\">\r\n",
       "   <path d=\"M 0 41.58 \r\n",
       "L 41.58 41.58 \r\n",
       "L 41.58 0 \r\n",
       "L 0 0 \r\n",
       "z\r\n",
       "\" style=\"fill:#ffffff;\"/>\r\n",
       "  </g>\r\n",
       "  <g id=\"axes_1\">\r\n",
       "   <g clip-path=\"url(#pa6cc5523d3)\">\r\n",
       "    <image height=\"28\" id=\"image40d80f7da3\" transform=\"scale(1 -1)translate(0 -28)\" width=\"28\" x=\"7.2\" xlink:href=\"data:image/png;base64,\r\n",
       "iVBORw0KGgoAAAANSUhEUgAAABwAAAAcCAYAAAByDd+UAAAABHNCSVQICAgIfAhkiAAAAmlJREFUSInllr9rIlEQxyeXjbI2QRDESCKYlCnsFDshaBMClmKZ/AlB0EICgRSmTOGPdBHFIoUWgpUIIUHERoOJ2C4EFCtFUeHt96o8bnFvN553ctwNDLx9b2Y/M/PevN0tIgJtUL5tEvafA+12OyUSCXp/fyfGGKVSKTo9PSWr1bo2FGrabrfBGFvSj48PFItFeL1eVb8v6PKk2+3GdDpVBX7qfD5Hq9VCLpeDIAjrAR8fHzVhjDEA4ON+v4/r62vs7+/rAgW1Gu/s7PDx8/MzJZNJ/ux0Ouni4oIcDgefs1gsFIvFqNlskiRJq+/h7e0tjz4ejy+t22w2eDwe3N/fK7IeDAYwm82rl/Tw8BD9fh+MMdTrdWxvb6s6GwwG+Hw+1Go1Dr26utLbU/1TGo1GNaMWRRHlcpnbRyKR1YHn5+dYLBa8FVwulyZ0d3cXnU4HjDG0Wq3VgUSEp6cnyLIMWZYxGAxwfHysCfX5fJhMJpjP51p9+vMXnJycYDQa8VLl83mIoqgJjUajfC9XBhIRQqGQ4iQ+PDzg6OhIF1gsFlXXdS/vUqlENzc3NJvNiIgoHA7Ty8sL3d3d0cHBgZ67quj1DYgIb29vikxlWUahUIDValXYSZKkmeGXgYIgIJfLKYCMMVxeXnKbYDDI7+C1gUQEk8mEbDarAGYyGRARLBYLer0eDyiRSKwPJCIYjUYEAgGMx2MsFguk02mcnZ1hOBxyWKfTgcFg+D3AH9Xv96NSqSx9SarVqpbfrwOJCKVSSQF7fX3F3t7enwN6PB40Gg3Isoxutwu73a5pv/VJ3ZT8PX9t/wzwO+XdaEj4TwyBAAAAAElFTkSuQmCC\" y=\"-6.38\"/>\r\n",
       "   </g>\r\n",
       "  </g>\r\n",
       " </g>\r\n",
       " <defs>\r\n",
       "  <clipPath id=\"pa6cc5523d3\">\r\n",
       "   <rect height=\"27.18\" width=\"27.18\" x=\"7.2\" y=\"7.2\"/>\r\n",
       "  </clipPath>\r\n",
       " </defs>\r\n",
       "</svg>\r\n"
      ],
      "text/plain": [
       "<Figure size 36x36 with 1 Axes>"
      ]
     },
     "metadata": {},
     "output_type": "display_data"
    },
    {
     "data": {
      "image/png": "[encoded data removed]",
      "image/svg+xml": [
       "<?xml version=\"1.0\" encoding=\"utf-8\" standalone=\"no\"?>\r\n",
       "<!DOCTYPE svg PUBLIC \"-//W3C//DTD SVG 1.1//EN\"\r\n",
       "  \"http://www.w3.org/Graphics/SVG/1.1/DTD/svg11.dtd\">\r\n",
       "<!-- Created with matplotlib (https://matplotlib.org/) -->\r\n",
       "<svg height=\"41.58pt\" version=\"1.1\" viewBox=\"0 0 41.58 41.58\" width=\"41.58pt\" xmlns=\"http://www.w3.org/2000/svg\" xmlns:xlink=\"http://www.w3.org/1999/xlink\">\r\n",
       " <defs>\r\n",
       "  <style type=\"text/css\">\r\n",
       "*{stroke-linecap:butt;stroke-linejoin:round;}\r\n",
       "  </style>\r\n",
       " </defs>\r\n",
       " <g id=\"figure_1\">\r\n",
       "  <g id=\"patch_1\">\r\n",
       "   <path d=\"M 0 41.58 \r\n",
       "L 41.58 41.58 \r\n",
       "L 41.58 0 \r\n",
       "L 0 0 \r\n",
       "z\r\n",
       "\" style=\"fill:#ffffff;\"/>\r\n",
       "  </g>\r\n",
       "  <g id=\"axes_1\">\r\n",
       "   <g clip-path=\"url(#pc118258f52)\">\r\n",
       "    <image height=\"28\" id=\"imageba5086f22f\" transform=\"scale(1 -1)translate(0 -28)\" width=\"28\" x=\"7.2\" xlink:href=\"data:image/png;base64,\r\n",
       "iVBORw0KGgoAAAANSUhEUgAAABwAAAAcCAYAAAByDd+UAAAABHNCSVQICAgIfAhkiAAAAWFJREFUSIntlr2KAjEQx3+e60djs2Sx3QewFQQb260sfIYt9h3sxScQlK0sBbWy1FZEBCsLYQVLBb/7XHMnd8XBzh6muRsYCGH++YXMZJIUoDFobyZh/8A/CnRdl9FoxPl8ZrVa0Wq1SKfTrwFmMhl2ux3b7RalFOVymcPhQKfTEW1ax3XP8/R+v/821+/3te/7sdcQH+l6vaZQKADg+z73+51erxdbb0mBrusyHA6JoojH40Gz2RTpxcDxeEwYhiilWC6XUjkgyGGlUtGTySR2/A8uE8znc53NZhMDxUVzvV4plUpS2dPEwNlshud55oDT6ZRqtWoOuFgsuN1u5HI5M0CAy+VCvV5PBIQEleY4jg6CwEyVAhyPR2q1Go1GQ6xN/B62222UUom0iS/xYDDQjuO8ttN8ddu2dbfbfX0OP+10OpHP5wmCQKT7VTO2LEtvNhtdLBZjxac+BsbM+K/tHV+2ItBitIQaAAAAAElFTkSuQmCC\" y=\"-6.38\"/>\r\n",
       "   </g>\r\n",
       "  </g>\r\n",
       " </g>\r\n",
       " <defs>\r\n",
       "  <clipPath id=\"pc118258f52\">\r\n",
       "   <rect height=\"27.18\" width=\"27.18\" x=\"7.2\" y=\"7.2\"/>\r\n",
       "  </clipPath>\r\n",
       " </defs>\r\n",
       "</svg>\r\n"
      ],
      "text/plain": [
       "<Figure size 36x36 with 1 Axes>"
      ]
     },
     "metadata": {},
     "output_type": "display_data"
    },
    {
     "data": {
      "image/png": "[encoded data removed]",
      "image/svg+xml": [
       "<?xml version=\"1.0\" encoding=\"utf-8\" standalone=\"no\"?>\r\n",
       "<!DOCTYPE svg PUBLIC \"-//W3C//DTD SVG 1.1//EN\"\r\n",
       "  \"http://www.w3.org/Graphics/SVG/1.1/DTD/svg11.dtd\">\r\n",
       "<!-- Created with matplotlib (https://matplotlib.org/) -->\r\n",
       "<svg height=\"41.58pt\" version=\"1.1\" viewBox=\"0 0 41.58 41.58\" width=\"41.58pt\" xmlns=\"http://www.w3.org/2000/svg\" xmlns:xlink=\"http://www.w3.org/1999/xlink\">\r\n",
       " <defs>\r\n",
       "  <style type=\"text/css\">\r\n",
       "*{stroke-linecap:butt;stroke-linejoin:round;}\r\n",
       "  </style>\r\n",
       " </defs>\r\n",
       " <g id=\"figure_1\">\r\n",
       "  <g id=\"patch_1\">\r\n",
       "   <path d=\"M 0 41.58 \r\n",
       "L 41.58 41.58 \r\n",
       "L 41.58 0 \r\n",
       "L 0 0 \r\n",
       "z\r\n",
       "\" style=\"fill:#ffffff;\"/>\r\n",
       "  </g>\r\n",
       "  <g id=\"axes_1\">\r\n",
       "   <g clip-path=\"url(#p1cbde5f3e3)\">\r\n",
       "    <image height=\"28\" id=\"image84dbfad68e\" transform=\"scale(1 -1)translate(0 -28)\" width=\"28\" x=\"7.2\" xlink:href=\"data:image/png;base64,\r\n",
       "iVBORw0KGgoAAAANSUhEUgAAABwAAAAcCAYAAAByDd+UAAAABHNCSVQICAgIfAhkiAAAAgRJREFUSIntlr+q4kAUxsdltbASJK0GkiJY2GhhIbaSwlfwCdRCm4CNNmkUDKRLaeULiJVYqLWFiI6QgGliobVNwrdVws1NXOcuF4vdPfAVM5zMb86/IQlCCMgb7cc7Yf8G8CerY7lcJtlsllwuF3I6nb4fmEwmSbfbJdVqNQByHEds2yaHwyHw22w2ZDqdEsdxmKGIk6Io8DwvIgCRtWVZ0DQNtVot9qxPim6qqgrXdWPled7T9Ww2Y4GGN5rNJh6PR3CIaZoYjUYQRTGk8XiM+XweucD9fkcul2MHrlar0AGFQuG3N5ZlGbvdLhTxcrlEvV5nA3Y6nVCNGGoCnucxHA5DNaaUsgHb7XYowslkwgQlhEDTtCDFjuOgWCy+BmYyGViWFQBvt9urmgTiOA77/T74Vtd1ti7dbrehKHVdRzqdZoJ+zhATUJblyPwZhsEEfNUDsW/pYrEg/X6fAAjUaDRIq9WKcw/Zx28AxPvEKZVKQVGUyOAbhoF0Oo1SqRRpfUmScL1eA9/BYMCWUl+JRAKqqoYeAn/OHMeB67oQBAGCIKBSqcA0zaBLbdtGPp//GtAXpZTpafu4Ph6PbHP4LFI/vSxA0zQhSdKfA/2aiqIYmrM4oGVZzwb+a0BfPM+j1+thvV5DlmWcz2dQSkEphaqqL9/ehE99l/39P1H/gd9uvwBHZYYD/qWsqgAAAABJRU5ErkJggg==\" y=\"-6.38\"/>\r\n",
       "   </g>\r\n",
       "  </g>\r\n",
       " </g>\r\n",
       " <defs>\r\n",
       "  <clipPath id=\"p1cbde5f3e3\">\r\n",
       "   <rect height=\"27.18\" width=\"27.18\" x=\"7.2\" y=\"7.2\"/>\r\n",
       "  </clipPath>\r\n",
       " </defs>\r\n",
       "</svg>\r\n"
      ],
      "text/plain": [
       "<Figure size 36x36 with 1 Axes>"
      ]
     },
     "metadata": {},
     "output_type": "display_data"
    },
    {
     "data": {
      "image/png": "[encoded data removed]",
      "image/svg+xml": [
       "<?xml version=\"1.0\" encoding=\"utf-8\" standalone=\"no\"?>\r\n",
       "<!DOCTYPE svg PUBLIC \"-//W3C//DTD SVG 1.1//EN\"\r\n",
       "  \"http://www.w3.org/Graphics/SVG/1.1/DTD/svg11.dtd\">\r\n",
       "<!-- Created with matplotlib (https://matplotlib.org/) -->\r\n",
       "<svg height=\"41.58pt\" version=\"1.1\" viewBox=\"0 0 41.58 41.58\" width=\"41.58pt\" xmlns=\"http://www.w3.org/2000/svg\" xmlns:xlink=\"http://www.w3.org/1999/xlink\">\r\n",
       " <defs>\r\n",
       "  <style type=\"text/css\">\r\n",
       "*{stroke-linecap:butt;stroke-linejoin:round;}\r\n",
       "  </style>\r\n",
       " </defs>\r\n",
       " <g id=\"figure_1\">\r\n",
       "  <g id=\"patch_1\">\r\n",
       "   <path d=\"M 0 41.58 \r\n",
       "L 41.58 41.58 \r\n",
       "L 41.58 0 \r\n",
       "L 0 0 \r\n",
       "z\r\n",
       "\" style=\"fill:#ffffff;\"/>\r\n",
       "  </g>\r\n",
       "  <g id=\"axes_1\">\r\n",
       "   <g clip-path=\"url(#p4b063faa43)\">\r\n",
       "    <image height=\"28\" id=\"imagec78ae8adf2\" transform=\"scale(1 -1)translate(0 -28)\" width=\"28\" x=\"7.2\" xlink:href=\"data:image/png;base64,\r\n",
       "iVBORw0KGgoAAAANSUhEUgAAABwAAAAcCAYAAAByDd+UAAAABHNCSVQICAgIfAhkiAAAAhZJREFUSIntljFrIkEAhZ9eISpCRCJWllYWkTQWFoKV0VKs1M7SQjDIdrJNInZaaOlPsNVCUBR/wBYWCW4hKEiK4BK3meVd5ZK7i3Evlw3HcQOvmRnmWx5v540DAPGFw/mVsP9AXF9fY7/fQ9M03N7e4uLi4pc9LpcLwWAQmUwGl5eXlqA8pWKxSCEEDcOgEILr9Zr9fp/xeJyVSoX9fp/D4ZBCCAohuNlsTp71StaBr/XWXLvdPgt04J3fwu/3YzAYIJFIgCTG4zG22y0AoFAoYD6fQ1VVAEC328VqtcJut/u4pQDo9XpJkoZhUJIkcz4UCtHtdlux0LqlR6XTaWqaRiEEa7UanU7nR0AEwG8AGucseHx8hMfjQSwWw83NDV5eXvDw8IDD4XDWvt+29LXK5bIZkF6vx3g8bo+lR/l8PkqSZKZUVVWmUin7gADodrvZaDTMIOm6zru7O3q9XnuARyWTSU4mE9PiTqdjLxAAI5EIn5+fTWg6nbYX+HOQFouF/UCfz8flcmn5Lv3jetI0DbPZDA6HA8FgELlc7t39loD5fB7NZhNXV1dvrk+nU5AESUsfedYGRVHMeqrX64xGoyyVSuZ6tVr9nHo6yuVycTQa/VBFuq5TlmXKsmwm9dOAABgOhynLMp+enk724f39/eenNBAIMJvNstVqUVEUGoZBRVGYz+ct3TbvFrAd4+96tf0TwO/XssxJKKVGXgAAAABJRU5ErkJggg==\" y=\"-6.38\"/>\r\n",
       "   </g>\r\n",
       "  </g>\r\n",
       " </g>\r\n",
       " <defs>\r\n",
       "  <clipPath id=\"p4b063faa43\">\r\n",
       "   <rect height=\"27.18\" width=\"27.18\" x=\"7.2\" y=\"7.2\"/>\r\n",
       "  </clipPath>\r\n",
       " </defs>\r\n",
       "</svg>\r\n"
      ],
      "text/plain": [
       "<Figure size 36x36 with 1 Axes>"
      ]
     },
     "metadata": {},
     "output_type": "display_data"
    },
    {
     "data": {
      "image/png": "[encoded data removed]",
      "image/svg+xml": [
       "<?xml version=\"1.0\" encoding=\"utf-8\" standalone=\"no\"?>\r\n",
       "<!DOCTYPE svg PUBLIC \"-//W3C//DTD SVG 1.1//EN\"\r\n",
       "  \"http://www.w3.org/Graphics/SVG/1.1/DTD/svg11.dtd\">\r\n",
       "<!-- Created with matplotlib (https://matplotlib.org/) -->\r\n",
       "<svg height=\"41.58pt\" version=\"1.1\" viewBox=\"0 0 41.58 41.58\" width=\"41.58pt\" xmlns=\"http://www.w3.org/2000/svg\" xmlns:xlink=\"http://www.w3.org/1999/xlink\">\r\n",
       " <defs>\r\n",
       "  <style type=\"text/css\">\r\n",
       "*{stroke-linecap:butt;stroke-linejoin:round;}\r\n",
       "  </style>\r\n",
       " </defs>\r\n",
       " <g id=\"figure_1\">\r\n",
       "  <g id=\"patch_1\">\r\n",
       "   <path d=\"M 0 41.58 \r\n",
       "L 41.58 41.58 \r\n",
       "L 41.58 0 \r\n",
       "L 0 0 \r\n",
       "z\r\n",
       "\" style=\"fill:#ffffff;\"/>\r\n",
       "  </g>\r\n",
       "  <g id=\"axes_1\">\r\n",
       "   <g clip-path=\"url(#p327a29230a)\">\r\n",
       "    <image height=\"28\" id=\"image2fe9bda220\" transform=\"scale(1 -1)translate(0 -28)\" width=\"28\" x=\"7.2\" xlink:href=\"data:image/png;base64,\r\n",
       "iVBORw0KGgoAAAANSUhEUgAAABwAAAAcCAYAAAByDd+UAAAABHNCSVQICAgIfAhkiAAAAcVJREFUSIntlb/K4lAQxc+3IAYCdilS+KcQi4Bgr42FWAkp7gP4AgF9Ad9BUlmkEu0sJZWFNlZWQUEsLQyoTQRFuJezxe5abGXcKLuwA9MMnPvjDHNnvgAQH4xvn4T9EXA0GmG73SKbzcbWMm7atk2lFKWU7PV6sbQvOTRNEwCw2WywWCze77BYLFIpxdlsxlQqFVcfHwiAJKmUomEY728pAMznc5BErVaLpXsZGAQBAKBcLn8G+Gq8DAzDEADQaDRia18aGtM0ud/vGYbhe4amUCjAsixYloV0Oo3D4YDdbgdd11GpVJJ12O/3eT6fKaWklJLL5ZJCCAZBQCklhRBPO/zCE9dCKYX1eo3JZAIAaLfbyOVyIH9Ifd9Hq9VKzuHvW6VYLNLzvIfj1WpFXdeT2zTj8ZhKKTqO86hpmkbP86iUolKKlmUlB7Rtm1EU8Xg8Mp/PP+rNZpP3+51SSlar1WR3aafToZSSp9OJ9Xr9UR8MBpRSstvtJgvUNI1CCF6vV14uFzqOQ8MwOJ1OebvdWCqVkgX+SiEEoyh6HGApJYfDYZw34gHxc0pd16Xv+3Rdl5lM5mntU/8wyfh3rsV/4F8D/A5N7wncud04hQAAAABJRU5ErkJggg==\" y=\"-6.38\"/>\r\n",
       "   </g>\r\n",
       "  </g>\r\n",
       " </g>\r\n",
       " <defs>\r\n",
       "  <clipPath id=\"p327a29230a\">\r\n",
       "   <rect height=\"27.18\" width=\"27.18\" x=\"7.2\" y=\"7.2\"/>\r\n",
       "  </clipPath>\r\n",
       " </defs>\r\n",
       "</svg>\r\n"
      ],
      "text/plain": [
       "<Figure size 36x36 with 1 Axes>"
      ]
     },
     "metadata": {},
     "output_type": "display_data"
    },
    {
     "data": {
      "image/png": "[encoded data removed]",
      "image/svg+xml": [
       "<?xml version=\"1.0\" encoding=\"utf-8\" standalone=\"no\"?>\r\n",
       "<!DOCTYPE svg PUBLIC \"-//W3C//DTD SVG 1.1//EN\"\r\n",
       "  \"http://www.w3.org/Graphics/SVG/1.1/DTD/svg11.dtd\">\r\n",
       "<!-- Created with matplotlib (https://matplotlib.org/) -->\r\n",
       "<svg height=\"41.58pt\" version=\"1.1\" viewBox=\"0 0 41.58 41.58\" width=\"41.58pt\" xmlns=\"http://www.w3.org/2000/svg\" xmlns:xlink=\"http://www.w3.org/1999/xlink\">\r\n",
       " <defs>\r\n",
       "  <style type=\"text/css\">\r\n",
       "*{stroke-linecap:butt;stroke-linejoin:round;}\r\n",
       "  </style>\r\n",
       " </defs>\r\n",
       " <g id=\"figure_1\">\r\n",
       "  <g id=\"patch_1\">\r\n",
       "   <path d=\"M 0 41.58 \r\n",
       "L 41.58 41.58 \r\n",
       "L 41.58 0 \r\n",
       "L 0 0 \r\n",
       "z\r\n",
       "\" style=\"fill:#ffffff;\"/>\r\n",
       "  </g>\r\n",
       "  <g id=\"axes_1\">\r\n",
       "   <g clip-path=\"url(#p0508f358a9)\">\r\n",
       "    <image height=\"28\" id=\"image2812b56dbd\" transform=\"scale(1 -1)translate(0 -28)\" width=\"28\" x=\"7.2\" xlink:href=\"data:image/png;base64,\r\n",
       "iVBORw0KGgoAAAANSUhEUgAAABwAAAAcCAYAAAByDd+UAAAABHNCSVQICAgIfAhkiAAAAgpJREFUSIntVr2q6kAQnnNlA4EoRLCwOBZG66SwDIqVTxL0AbQIWAiBYJFXENReLI02opaSxtJOxBDEvwdwd25zTzie42881+begQ82k9n5Mt/ODnkDAIQX2q9Xkv0n/McIQ6EQlEol6HQ6QCn1wRgD27bBMAxQFOWuXHgLhBCs1+tIKf0Gxpi/9jwPM5nMrXy3CavV6lmyr4SUUnRdF1Op1MVcIQCoXStflmWwLAsikciJv9VqwXg8Bp7nwfM84DgOeJ4HQRDgeDzCYDAIJmmj0Thb2VfpcrkcrtdrX9pkMnk2X+Au7Xa7YJomSJIEAACj0QiGwyEAAMRiMZBl+fkKDcPA3W53UulqtULHcdBxHNxut76/VqsFa5rPhKqqYqFQwMPhcLFpPqAoys9I2u/3IZ1Og23bF2MWiwVsNptgkmqahowxZIyhqqq+n+M4DIfDaFmW/x4RkTGG+Xw++D2MRqM4m82QUorz+Rzj8fi3GEEQUNd11HUdJUl6/uJrmuafTaVSuRl/DXed4XQ69dfZbBYIIfdsu2g3v0oURez1en6VpmkiISRolfcFyrKM+/3+4qQ5h/f39+CEAIDNZtMnXC6XqGna1fhEIvEcoaIoJ5PGdd2/J+kHisXiyUQplUo/36Wfrd1uQ7lc9p9FUXw0xeOdRghBz/NwMpkgx3EP7X37s3iZvfyv7Tees9GqxwPkMgAAAABJRU5ErkJggg==\" y=\"-6.38\"/>\r\n",
       "   </g>\r\n",
       "  </g>\r\n",
       " </g>\r\n",
       " <defs>\r\n",
       "  <clipPath id=\"p0508f358a9\">\r\n",
       "   <rect height=\"27.18\" width=\"27.18\" x=\"7.2\" y=\"7.2\"/>\r\n",
       "  </clipPath>\r\n",
       " </defs>\r\n",
       "</svg>\r\n"
      ],
      "text/plain": [
       "<Figure size 36x36 with 1 Axes>"
      ]
     },
     "metadata": {},
     "output_type": "display_data"
    },
    {
     "data": {
      "image/png": "[encoded data removed]",
      "image/svg+xml": [
       "<?xml version=\"1.0\" encoding=\"utf-8\" standalone=\"no\"?>\r\n",
       "<!DOCTYPE svg PUBLIC \"-//W3C//DTD SVG 1.1//EN\"\r\n",
       "  \"http://www.w3.org/Graphics/SVG/1.1/DTD/svg11.dtd\">\r\n",
       "<!-- Created with matplotlib (https://matplotlib.org/) -->\r\n",
       "<svg height=\"41.58pt\" version=\"1.1\" viewBox=\"0 0 41.58 41.58\" width=\"41.58pt\" xmlns=\"http://www.w3.org/2000/svg\" xmlns:xlink=\"http://www.w3.org/1999/xlink\">\r\n",
       " <defs>\r\n",
       "  <style type=\"text/css\">\r\n",
       "*{stroke-linecap:butt;stroke-linejoin:round;}\r\n",
       "  </style>\r\n",
       " </defs>\r\n",
       " <g id=\"figure_1\">\r\n",
       "  <g id=\"patch_1\">\r\n",
       "   <path d=\"M 0 41.58 \r\n",
       "L 41.58 41.58 \r\n",
       "L 41.58 0 \r\n",
       "L 0 0 \r\n",
       "z\r\n",
       "\" style=\"fill:#ffffff;\"/>\r\n",
       "  </g>\r\n",
       "  <g id=\"axes_1\">\r\n",
       "   <g clip-path=\"url(#pcf114e9b30)\">\r\n",
       "    <image height=\"28\" id=\"imagef841dcafd3\" transform=\"scale(1 -1)translate(0 -28)\" width=\"28\" x=\"7.2\" xlink:href=\"data:image/png;base64,\r\n",
       "iVBORw0KGgoAAAANSUhEUgAAABwAAAAcCAYAAAByDd+UAAAABHNCSVQICAgIfAhkiAAAAc5JREFUSIndlqGP6kAQxr++PAW2tVRSLFjwSKqxBPgDcJX8EUBw6AYLOAiyQba0Cr0JVbW7+z1VknfcQbnru5fcJptNdibzy+zMfFkDAPGN69d3wv4L8Pcrzu12G4vFAvV6HUmSIIoiXK9XxHGM3W6HOI4LxWHRPRqNSJJKqbszyzK6rlskTnGg4zh3d8PhkEEQUClFKSVN0ywP+NG2LItRFFEpxc1m8++BANhqtSilZBAED/1K7VLDMJ76lAY0TRPkcw0pDei6bqEMgS/Wrtls0vf9W5d6nvfQ38ALWuq6LtI0heM4sCwLvV4PrVYLJJGmKdbrNcbjcTkZzudzSilvmeRnlmVcrVZFh56FpS1JEhiGcavTZDIBSWy328KS9jTDt6rhOA6FEJRSUgjBWq32mbp/LGOXy+XdAT8cDtRaMwzDd+XuU8BcOXzfZ6VSubOHYfjQ/jLQtm0KIUiS0+n0zl6tVhmGIbXW7Pf7Xwfmz5p3o+/7dzXzPI9KKc5ms3KAANjtdimEoNaaQoi/2t91XWqtud/vywPmgfPufDuHSqmXgIWVxrZtDAYDWJaFRqOBTqeD8/mM4/GI5XKJ0+lUJAxekrYy1s//Jv584B/5ZWKZxYasyQAAAABJRU5ErkJggg==\" y=\"-6.38\"/>\r\n",
       "   </g>\r\n",
       "  </g>\r\n",
       " </g>\r\n",
       " <defs>\r\n",
       "  <clipPath id=\"pcf114e9b30\">\r\n",
       "   <rect height=\"27.18\" width=\"27.18\" x=\"7.2\" y=\"7.2\"/>\r\n",
       "  </clipPath>\r\n",
       " </defs>\r\n",
       "</svg>\r\n"
      ],
      "text/plain": [
       "<Figure size 36x36 with 1 Axes>"
      ]
     },
     "metadata": {},
     "output_type": "display_data"
    },
    {
     "data": {
      "image/png": "[encoded data removed]",
      "image/svg+xml": [
       "<?xml version=\"1.0\" encoding=\"utf-8\" standalone=\"no\"?>\r\n",
       "<!DOCTYPE svg PUBLIC \"-//W3C//DTD SVG 1.1//EN\"\r\n",
       "  \"http://www.w3.org/Graphics/SVG/1.1/DTD/svg11.dtd\">\r\n",
       "<!-- Created with matplotlib (https://matplotlib.org/) -->\r\n",
       "<svg height=\"41.58pt\" version=\"1.1\" viewBox=\"0 0 41.58 41.58\" width=\"41.58pt\" xmlns=\"http://www.w3.org/2000/svg\" xmlns:xlink=\"http://www.w3.org/1999/xlink\">\r\n",
       " <defs>\r\n",
       "  <style type=\"text/css\">\r\n",
       "*{stroke-linecap:butt;stroke-linejoin:round;}\r\n",
       "  </style>\r\n",
       " </defs>\r\n",
       " <g id=\"figure_1\">\r\n",
       "  <g id=\"patch_1\">\r\n",
       "   <path d=\"M 0 41.58 \r\n",
       "L 41.58 41.58 \r\n",
       "L 41.58 0 \r\n",
       "L 0 0 \r\n",
       "z\r\n",
       "\" style=\"fill:#ffffff;\"/>\r\n",
       "  </g>\r\n",
       "  <g id=\"axes_1\">\r\n",
       "   <g clip-path=\"url(#p044e0425c7)\">\r\n",
       "    <image height=\"28\" id=\"image933f160db6\" transform=\"scale(1 -1)translate(0 -28)\" width=\"28\" x=\"7.2\" xlink:href=\"data:image/png;base64,\r\n",
       "iVBORw0KGgoAAAANSUhEUgAAABwAAAAcCAYAAAByDd+UAAAABHNCSVQICAgIfAhkiAAAAgVJREFUSIntlb1qKlEUhZdiZhrBoE1gECxshDyAL5BGxkIkrSBpfIBAsLK0ElttQtBSOxkEES1SKNNajkVEtEkhIiPIhL1u5XBzE2/8iamyYTXDPvs7+++MBwDxg+Y9xPn+/h4iAsMw4Pf7j4ZyX93c3FBEKCIslUp7n/tH+zsrisJ6vU4R4Wq1YjgcPi8QAFOplJtltVo9GHhQDwGg2+1iMBgAAC4vL+H1Hhzi8D7ouu5mGQqFzpshAFiWBdu2AQC6rp8/QwDM5/MUEc7nc15dXZ1vaLYKBAJuWdPp9PmBqqqy1+tRRGia5t7nPFvqLlNVFbquQ9M0AMBkMkG/34dt24jFYjBNE4qiIJFIoNPp/C+UaztvEwwG+fz87JbubxmGwWQyyeVySRFhs9mkqqqnlXQwGLiA2WzG0Wjkar1ef7iEruunAbdBHcf58IxdX1/z4eGBi8XCBT49PdHr9R4PLBQKFBG+vLwwEonsnFbLslxoPB4/HqgoCsfjMUWE7Xab0Wj0Uz9N09xelsvl09Yil8vx7e2NIsLpdMpsNkufz0ePx/NuRUzTpIiwUqmcvofFYpGO47wbkFarxVqtxlqtxtfXV/f7twAB8Pb2lo1G49MV2Wqz2TCbzX4PEAAvLi6YyWT4+PjI4XBIEeHW+v0+7+7uvozx5Uvz3XbU7+kX+Av8UfsDrqvrE2NqnUMAAAAASUVORK5CYII=\" y=\"-6.38\"/>\r\n",
       "   </g>\r\n",
       "  </g>\r\n",
       " </g>\r\n",
       " <defs>\r\n",
       "  <clipPath id=\"p044e0425c7\">\r\n",
       "   <rect height=\"27.18\" width=\"27.18\" x=\"7.2\" y=\"7.2\"/>\r\n",
       "  </clipPath>\r\n",
       " </defs>\r\n",
       "</svg>\r\n"
      ],
      "text/plain": [
       "<Figure size 36x36 with 1 Axes>"
      ]
     },
     "metadata": {},
     "output_type": "display_data"
    },
    {
     "data": {
      "image/png": "[encoded data removed]",
      "image/svg+xml": [
       "<?xml version=\"1.0\" encoding=\"utf-8\" standalone=\"no\"?>\r\n",
       "<!DOCTYPE svg PUBLIC \"-//W3C//DTD SVG 1.1//EN\"\r\n",
       "  \"http://www.w3.org/Graphics/SVG/1.1/DTD/svg11.dtd\">\r\n",
       "<!-- Created with matplotlib (https://matplotlib.org/) -->\r\n",
       "<svg height=\"41.58pt\" version=\"1.1\" viewBox=\"0 0 41.58 41.58\" width=\"41.58pt\" xmlns=\"http://www.w3.org/2000/svg\" xmlns:xlink=\"http://www.w3.org/1999/xlink\">\r\n",
       " <defs>\r\n",
       "  <style type=\"text/css\">\r\n",
       "*{stroke-linecap:butt;stroke-linejoin:round;}\r\n",
       "  </style>\r\n",
       " </defs>\r\n",
       " <g id=\"figure_1\">\r\n",
       "  <g id=\"patch_1\">\r\n",
       "   <path d=\"M 0 41.58 \r\n",
       "L 41.58 41.58 \r\n",
       "L 41.58 0 \r\n",
       "L 0 0 \r\n",
       "z\r\n",
       "\" style=\"fill:#ffffff;\"/>\r\n",
       "  </g>\r\n",
       "  <g id=\"axes_1\">\r\n",
       "   <g clip-path=\"url(#p9216ede225)\">\r\n",
       "    <image height=\"28\" id=\"image1e776f231a\" transform=\"scale(1 -1)translate(0 -28)\" width=\"28\" x=\"7.2\" xlink:href=\"data:image/png;base64,\r\n",
       "iVBORw0KGgoAAAANSUhEUgAAABwAAAAcCAYAAAByDd+UAAAABHNCSVQICAgIfAhkiAAAAbBJREFUSIntlr+KwkAQxr81h8EilYjrGyiWPoAo1pZWNj6CKFhqr72FbyBiaSP4ArIKNhYiIilUsIsBm+xccSR4kDPrnwsc3MDABL7Mb2cyk4QBIIRokTBhfxeo6zrm8zlM00Q6nQ7U06vOOSfHcUhKSY1G4672LRXato39fq+kfQvQsixsNhswxsIBAgARgSh4w0Kf0o9Hb0gkEohEvs55Op1+B9hqtVAoFMAYQz6fRzQaBQBMp1MIIdDtdpWen2u+45tKpajT6ZBt2+Q4jjf2bnx7vVqtyDRNpbX4scJ+v49yuewNwm63w+VygRAC6/UaAFCtVpHJZJDNZpWr861Q0zSazWYkpaTj8Ui1Wo0Mw/A9cb1e/1ZxUIW+QM45SSlJSkm9Xu9uAsMwaLvdevqn3jScc6+Vh8Phbnssy0KlUsH5fFZqpy+wVCp58Wg0CkwihMBisXgeeL1efeN3mC9wMBhguVwCAIrFolKil/YwFotRu90mKSVNJpOHPk/JZPLxKXW92WxSPB5XBo7HY9I07XmgqrvAXC6non8dqOs6DYdDJS1zqWHZ3/xr+wfe2ic+DaNw5Jq+KQAAAABJRU5ErkJggg==\" y=\"-6.38\"/>\r\n",
       "   </g>\r\n",
       "  </g>\r\n",
       " </g>\r\n",
       " <defs>\r\n",
       "  <clipPath id=\"p9216ede225\">\r\n",
       "   <rect height=\"27.18\" width=\"27.18\" x=\"7.2\" y=\"7.2\"/>\r\n",
       "  </clipPath>\r\n",
       " </defs>\r\n",
       "</svg>\r\n"
      ],
      "text/plain": [
       "<Figure size 36x36 with 1 Axes>"
      ]
     },
     "metadata": {},
     "output_type": "display_data"
    },
    {
     "data": {
      "image/png": "[encoded data removed]",
      "image/svg+xml": [
       "<?xml version=\"1.0\" encoding=\"utf-8\" standalone=\"no\"?>\r\n",
       "<!DOCTYPE svg PUBLIC \"-//W3C//DTD SVG 1.1//EN\"\r\n",
       "  \"http://www.w3.org/Graphics/SVG/1.1/DTD/svg11.dtd\">\r\n",
       "<!-- Created with matplotlib (https://matplotlib.org/) -->\r\n",
       "<svg height=\"41.58pt\" version=\"1.1\" viewBox=\"0 0 41.58 41.58\" width=\"41.58pt\" xmlns=\"http://www.w3.org/2000/svg\" xmlns:xlink=\"http://www.w3.org/1999/xlink\">\r\n",
       " <defs>\r\n",
       "  <style type=\"text/css\">\r\n",
       "*{stroke-linecap:butt;stroke-linejoin:round;}\r\n",
       "  </style>\r\n",
       " </defs>\r\n",
       " <g id=\"figure_1\">\r\n",
       "  <g id=\"patch_1\">\r\n",
       "   <path d=\"M 0 41.58 \r\n",
       "L 41.58 41.58 \r\n",
       "L 41.58 0 \r\n",
       "L 0 0 \r\n",
       "z\r\n",
       "\" style=\"fill:#ffffff;\"/>\r\n",
       "  </g>\r\n",
       "  <g id=\"axes_1\">\r\n",
       "   <g clip-path=\"url(#p73c1a1a3d5)\">\r\n",
       "    <image height=\"28\" id=\"imagec28c1312ad\" transform=\"scale(1 -1)translate(0 -28)\" width=\"28\" x=\"7.2\" xlink:href=\"data:image/png;base64,\r\n",
       "iVBORw0KGgoAAAANSUhEUgAAABwAAAAcCAYAAAByDd+UAAAABHNCSVQICAgIfAhkiAAAAgRJREFUSIntlr+reXEYx58jk1J3Q5IfEYtFRotBKbPIrERK/gOlDEopZTVINhlt0plkkFUkWYSSIyzH877TVb7f636PH/d2h++7nuXznOd5nedz3k8dgYhAPyjVT8LuAqbTaSoWi/T29vY0FEoinU6DmXE4HJDL5RTV3AhlD9rtdsxmMzAzdrsdvF7vQ0DFVzqZTKhWqxERkVarJYPBoPwO/5Dit9Pr9ajX62BmTKdTlMvl75uQiGi5XNJ6vSYiIpvNRlar9e7pHl4LADQYDEgQhPtr74lQKITj8QhmBjM/Yp77nRaJRAAAzIxWqwWdTve9QK1Wi36/f5myVCq9FhgIBCCKIkRRRC6Xg8lkQjQaBTMDABaLBdRq9WuARqMR1Wr1Mg0zYzQaIZ/PX50lk8nXAIPB4FXjW9FutxUBhQ/qLalUKhoOh+R2u+l8PlM+n7/kYrEYORyOy2pkMhmqVCpftSNF31AURTAzZFmG3++/yhUKBWy3WzAzFosFNBrN86axWCzYbDZgZvR6PTidzqu8z+eDLMtgZjQajdesRTabvTTd7/cIh8PweDxwuVzIZrNgZpxOJ8Tj8dcAiQjNZvNiEkmSIEkSVqsV5vM5mBnz+fw1e/gRgiAgkUhgPB5/6lQlwH+69DOZzWZKpVJ/nXc6Hep2u1/WPgR8Rr/3r+0/8NcC3wGXOZgns59nyQAAAABJRU5ErkJggg==\" y=\"-6.38\"/>\r\n",
       "   </g>\r\n",
       "  </g>\r\n",
       " </g>\r\n",
       " <defs>\r\n",
       "  <clipPath id=\"p73c1a1a3d5\">\r\n",
       "   <rect height=\"27.18\" width=\"27.18\" x=\"7.2\" y=\"7.2\"/>\r\n",
       "  </clipPath>\r\n",
       " </defs>\r\n",
       "</svg>\r\n"
      ],
      "text/plain": [
       "<Figure size 36x36 with 1 Axes>"
      ]
     },
     "metadata": {},
     "output_type": "display_data"
    },
    {
     "data": {
      "image/png": "[encoded data removed]",
      "image/svg+xml": [
       "<?xml version=\"1.0\" encoding=\"utf-8\" standalone=\"no\"?>\r\n",
       "<!DOCTYPE svg PUBLIC \"-//W3C//DTD SVG 1.1//EN\"\r\n",
       "  \"http://www.w3.org/Graphics/SVG/1.1/DTD/svg11.dtd\">\r\n",
       "<!-- Created with matplotlib (https://matplotlib.org/) -->\r\n",
       "<svg height=\"41.58pt\" version=\"1.1\" viewBox=\"0 0 41.58 41.58\" width=\"41.58pt\" xmlns=\"http://www.w3.org/2000/svg\" xmlns:xlink=\"http://www.w3.org/1999/xlink\">\r\n",
       " <defs>\r\n",
       "  <style type=\"text/css\">\r\n",
       "*{stroke-linecap:butt;stroke-linejoin:round;}\r\n",
       "  </style>\r\n",
       " </defs>\r\n",
       " <g id=\"figure_1\">\r\n",
       "  <g id=\"patch_1\">\r\n",
       "   <path d=\"M 0 41.58 \r\n",
       "L 41.58 41.58 \r\n",
       "L 41.58 0 \r\n",
       "L 0 0 \r\n",
       "z\r\n",
       "\" style=\"fill:#ffffff;\"/>\r\n",
       "  </g>\r\n",
       "  <g id=\"axes_1\">\r\n",
       "   <g clip-path=\"url(#pcad6c62f83)\">\r\n",
       "    <image height=\"28\" id=\"imagef63066f4ac\" transform=\"scale(1 -1)translate(0 -28)\" width=\"28\" x=\"7.2\" xlink:href=\"data:image/png;base64,\r\n",
       "iVBORw0KGgoAAAANSUhEUgAAABwAAAAcCAYAAAByDd+UAAAABHNCSVQICAgIfAhkiAAAAixJREFUSInllq/L6nAUxp8NJ0PQKIgKgjbXLDYRi5gMNkEMNjEYVwQF/SeWNSmowaRhQawGoyAWEUWDw998Pbe8eN97X+eGiOHeAwcGezif7zk7zzYOAOGDwX8S9n8ALWZEoigiEokgHo8jFoshGAwCADiOQ7fbxWw2g6ZpKJVKpqD0LK1WK+XzeWKM/cjb7Xa/Ph6P1G63KRaLPa1nCCwWi39AVFUlRVFIURSSJIlkWSZVVe/3t9stFQqF14HVavVeLJlMkiAIPzSCIFC5XL7rBoPB68BwOEzr9ZoYY+R0OnV1oihSq9UixhhdLheKRqOvAQFQIBCgcDj8sLvvmclk3gM0m41G475AkiQ91LzVh+PxGABwvV4xmUx0dW/pLpVK0WKxIMYY7XY7XZ2h8fP5PCyWxzKO40BESKfTCIVC4HkeRIRisfi0pu5p7HY77ff7h6b/2/iMMVoul1Sr1chms71mi1wupwtjjBEREWOMRqMRVSoVcrvdhqM39S4FgF6vB1mWAQB+vx8ejweqqgIAptMpTqeT2VL6pxEEgTRNI8YY1ev1tyzXU1tcr1fTpzYbH/8ecvjaHL3QNA02mw3n8xmqqsLj8aDRaAAAdrsdNpsNhsMhlsul6Yk8nfl8Pjdli36/b+oZGnYoSRKq1SoAgOd5JBKJ3+P5Mj4ArFYruFwuw+4Mgd+D53n4fD4AQDabhcPhgNfrxeFwQKfTQbPZfC/wHfHv/yZ+HPgLIo51EH2PH58AAAAASUVORK5CYII=\" y=\"-6.38\"/>\r\n",
       "   </g>\r\n",
       "  </g>\r\n",
       " </g>\r\n",
       " <defs>\r\n",
       "  <clipPath id=\"pcad6c62f83\">\r\n",
       "   <rect height=\"27.18\" width=\"27.18\" x=\"7.2\" y=\"7.2\"/>\r\n",
       "  </clipPath>\r\n",
       " </defs>\r\n",
       "</svg>\r\n"
      ],
      "text/plain": [
       "<Figure size 36x36 with 1 Axes>"
      ]
     },
     "metadata": {},
     "output_type": "display_data"
    },
    {
     "data": {
      "image/png": "[encoded data removed]",
      "image/svg+xml": [
       "<?xml version=\"1.0\" encoding=\"utf-8\" standalone=\"no\"?>\r\n",
       "<!DOCTYPE svg PUBLIC \"-//W3C//DTD SVG 1.1//EN\"\r\n",
       "  \"http://www.w3.org/Graphics/SVG/1.1/DTD/svg11.dtd\">\r\n",
       "<!-- Created with matplotlib (https://matplotlib.org/) -->\r\n",
       "<svg height=\"41.58pt\" version=\"1.1\" viewBox=\"0 0 41.58 41.58\" width=\"41.58pt\" xmlns=\"http://www.w3.org/2000/svg\" xmlns:xlink=\"http://www.w3.org/1999/xlink\">\r\n",
       " <defs>\r\n",
       "  <style type=\"text/css\">\r\n",
       "*{stroke-linecap:butt;stroke-linejoin:round;}\r\n",
       "  </style>\r\n",
       " </defs>\r\n",
       " <g id=\"figure_1\">\r\n",
       "  <g id=\"patch_1\">\r\n",
       "   <path d=\"M 0 41.58 \r\n",
       "L 41.58 41.58 \r\n",
       "L 41.58 0 \r\n",
       "L 0 0 \r\n",
       "z\r\n",
       "\" style=\"fill:#ffffff;\"/>\r\n",
       "  </g>\r\n",
       "  <g id=\"axes_1\">\r\n",
       "   <g clip-path=\"url(#p48b06ed315)\">\r\n",
       "    <image height=\"28\" id=\"imagebf4036cab6\" transform=\"scale(1 -1)translate(0 -28)\" width=\"28\" x=\"7.2\" xlink:href=\"data:image/png;base64,\r\n",
       "iVBORw0KGgoAAAANSUhEUgAAABwAAAAcCAYAAAByDd+UAAAABHNCSVQICAgIfAhkiAAAAjlJREFUSInt1rFLMnEYB/CvbxqnZIIQ4iSI4Opk4Frikn+AQ2C4hotLk0sgNihIf4GEY+BUSwoVQS7iKXGTiyChEGKDYOrzbXk7EAf19YqG94Fn+d3vuc89d7+7+5kAED8Yf34S+/2g3W7HxcUFNE2DpmnIZrOw2+1ro1wlDw8P2Wg0KCJzeXNzQ4fDsdI5/ubySaFQiO/v7xQRPj09MZfLMZPJcDqdUkSYz+eNBc/OzvSO9vb29PGDgwOKCDVN4/b29krgRoum1WrBZDLB7/fDbDavXLf0qlwuFyeTCUWER0dHC52rqmpsh71eD/F4HABQKpXgdDoBAB6PBwBwe3uLj48P4zoEwJ2dHV5fX1NEeH9/z3Q6rXcdCASMXTRfqSgKu92uvoBmsxlzuRwtFsv3gAB4eXmpg71eb63atcFIJMLhcPj9oM1mYzKZ1J/ZcDjk4+MjZ7MZX15e6Ha7jQULhYLeVafTYSQS4fHxsT6Wz+e5tbVlDHh6esrxeEwRYbvdptfrJQA6nU7WajUdPTk5MQasVqsUETYaDSqKMnfM7XZzNBpRRPj29sZgMLg5eHV1RRHhYDBgLBZb+KLs7+/z4eGBIsJKpbI5uLu7y0qlot+6YrFIn883NyeRSBgHAmAwGOTd3Z2OTiYTqqpKv9/PUCjE19dXigjL5bIxIAA6HA5Go1GWy2U+Pz8v/Ijr9fpKr4fpS10nrFYrwuEwUqkUms0mAOD8/Bz9fn9p7T+Bm8Tv3rX9B1eJTy9L7iinYx49AAAAAElFTkSuQmCC\" y=\"-6.38\"/>\r\n",
       "   </g>\r\n",
       "  </g>\r\n",
       " </g>\r\n",
       " <defs>\r\n",
       "  <clipPath id=\"p48b06ed315\">\r\n",
       "   <rect height=\"27.18\" width=\"27.18\" x=\"7.2\" y=\"7.2\"/>\r\n",
       "  </clipPath>\r\n",
       " </defs>\r\n",
       "</svg>\r\n"
      ],
      "text/plain": [
       "<Figure size 36x36 with 1 Axes>"
      ]
     },
     "metadata": {},
     "output_type": "display_data"
    },
    {
     "data": {
      "image/png": "[encoded data removed]",
      "image/svg+xml": [
       "<?xml version=\"1.0\" encoding=\"utf-8\" standalone=\"no\"?>\r\n",
       "<!DOCTYPE svg PUBLIC \"-//W3C//DTD SVG 1.1//EN\"\r\n",
       "  \"http://www.w3.org/Graphics/SVG/1.1/DTD/svg11.dtd\">\r\n",
       "<!-- Created with matplotlib (https://matplotlib.org/) -->\r\n",
       "<svg height=\"41.58pt\" version=\"1.1\" viewBox=\"0 0 41.58 41.58\" width=\"41.58pt\" xmlns=\"http://www.w3.org/2000/svg\" xmlns:xlink=\"http://www.w3.org/1999/xlink\">\r\n",
       " <defs>\r\n",
       "  <style type=\"text/css\">\r\n",
       "*{stroke-linecap:butt;stroke-linejoin:round;}\r\n",
       "  </style>\r\n",
       " </defs>\r\n",
       " <g id=\"figure_1\">\r\n",
       "  <g id=\"patch_1\">\r\n",
       "   <path d=\"M 0 41.58 \r\n",
       "L 41.58 41.58 \r\n",
       "L 41.58 0 \r\n",
       "L 0 0 \r\n",
       "z\r\n",
       "\" style=\"fill:#ffffff;\"/>\r\n",
       "  </g>\r\n",
       "  <g id=\"axes_1\">\r\n",
       "   <g clip-path=\"url(#p89c29455a5)\">\r\n",
       "    <image height=\"28\" id=\"image49fe6a7baf\" transform=\"scale(1 -1)translate(0 -28)\" width=\"28\" x=\"7.2\" xlink:href=\"data:image/png;base64,\r\n",
       "iVBORw0KGgoAAAANSUhEUgAAABwAAAAcCAYAAAByDd+UAAAABHNCSVQICAgIfAhkiAAAAdBJREFUSInt1r2q4lAUBeB1FVTsoggWFvaWgm0KGyFqKfgIloKg5aRS6xQWYilpRR9AQVTwH0QExUJLUWJjo4Q11T0MzAx6r9FmZsNukpN8WTvkkA8AxBvL9k7sP/gPgZIkoVargSRIYr1eo1gsIhgMfgvlvc7n8/xTnU4nappGn8939x6/9P1FjUZDIJfLhe12m+PxWBxbrVYsl8t0uVzWg4fDgYVCgZIkMZFIcDAY0DRNkuRkMqHD4Xge1DTtt3HO53PKskwAzGazHA6HJElFUZ4Ho9GoSHG73bjf78V4dV1nKBSi1+ulruvWgADY7/fF+wLAdDpNwzDEQyyXS3Y6HevAXC5HkjRNk7FYjAAYiUTYarV4OBzEqC0DXS4X6/U6SbLb7dJms4lzgUCAqqqyUqnQ4/FYAwJgKpUSSfx+/8PXfRuUJImj0YgkOZ1Ov/rBfx0EwGQyKVKWSqXXg06nk9VqVaCqqtJut78O/OxeryfQTCbzetDhcHCxWJAkj8cjw+Hwa0EAlGVZ7Dqz2Yxut/u1IADG43Fut1uSZLPZfAR9DgRARVFEUst2mkfGe71e74J2AD9gQe12O5zPZxiGgc1m89d1H58x31Vv/2v7CQYlD0ymlwJXAAAAAElFTkSuQmCC\" y=\"-6.38\"/>\r\n",
       "   </g>\r\n",
       "  </g>\r\n",
       " </g>\r\n",
       " <defs>\r\n",
       "  <clipPath id=\"p89c29455a5\">\r\n",
       "   <rect height=\"27.18\" width=\"27.18\" x=\"7.2\" y=\"7.2\"/>\r\n",
       "  </clipPath>\r\n",
       " </defs>\r\n",
       "</svg>\r\n"
      ],
      "text/plain": [
       "<Figure size 36x36 with 1 Axes>"
      ]
     },
     "metadata": {},
     "output_type": "display_data"
    },
    {
     "data": {
      "image/png": "[encoded data removed]",
      "image/svg+xml": [
       "<?xml version=\"1.0\" encoding=\"utf-8\" standalone=\"no\"?>\r\n",
       "<!DOCTYPE svg PUBLIC \"-//W3C//DTD SVG 1.1//EN\"\r\n",
       "  \"http://www.w3.org/Graphics/SVG/1.1/DTD/svg11.dtd\">\r\n",
       "<!-- Created with matplotlib (https://matplotlib.org/) -->\r\n",
       "<svg height=\"41.58pt\" version=\"1.1\" viewBox=\"0 0 41.58 41.58\" width=\"41.58pt\" xmlns=\"http://www.w3.org/2000/svg\" xmlns:xlink=\"http://www.w3.org/1999/xlink\">\r\n",
       " <defs>\r\n",
       "  <style type=\"text/css\">\r\n",
       "*{stroke-linecap:butt;stroke-linejoin:round;}\r\n",
       "  </style>\r\n",
       " </defs>\r\n",
       " <g id=\"figure_1\">\r\n",
       "  <g id=\"patch_1\">\r\n",
       "   <path d=\"M 0 41.58 \r\n",
       "L 41.58 41.58 \r\n",
       "L 41.58 0 \r\n",
       "L 0 0 \r\n",
       "z\r\n",
       "\" style=\"fill:#ffffff;\"/>\r\n",
       "  </g>\r\n",
       "  <g id=\"axes_1\">\r\n",
       "   <g clip-path=\"url(#pf3ddb72c54)\">\r\n",
       "    <image height=\"28\" id=\"image4cda9253c3\" transform=\"scale(1 -1)translate(0 -28)\" width=\"28\" x=\"7.2\" xlink:href=\"data:image/png;base64,\r\n",
       "iVBORw0KGgoAAAANSUhEUgAAABwAAAAcCAYAAAByDd+UAAAABHNCSVQICAgIfAhkiAAAAg5JREFUSIntlr3K4lAQhufoImIkKNpIxDIXoZUo2KSxsEjziWCTQvASJJ2NpFHBpFJQ8Sb0CtKImCZYWfmHgqAWZ7ZZw+ZTEn8W+YodmCLnvLxPzpyZEAIACB8MzydhPxdICIFCoQCyLMN8PgdKKVBKwTRNkGUZRFEEQsjDUHRKlmWx3W4jpdQxNU3DaDTq6PUnnQXFYtEVds1qtYper/d1IMMwOJ1OLcPL5YK6rqMkSViv13Gz2dxAE4nE68BIJGIzMwwDA4GAtc9xHJqm+RTQsWkopbDf761nnudB0zRgGAYAAJbLJaxWK5cWuQ3HN8pmszdlm0wmKAgC1ut1XK1W1vput8NYLPZe0/j9fiyVSnfv63sKgvB+l16z2+06wvr9PjIM4+rzy63ePp8PcrkcZDIZR93xeARKqZsduJ4wmUw+PIdfX1/o9/vfK2mr1bprrus6iqKI2+3Wtp5Op18fC6c4HA4wGAxAVVXb6IxGI4hGo6+VNBQK4Xq9tp1gs9ngcDjEWq1m6Xq9nk3z995TJQ0Gg2gYhs1MUZQbXT6ft2mazea/u8PT6YSLxQJTqZSlGY/HNk25XH4dyPP83aZRFAUlScJGo4Hn89lan81myLLs60CPx4OVSuXh0XA53WNfmkehnU4Hw+Hw+0AAQEIIxuNxNAwDv4eqqshxHBJC3H2u1E/Fz/xr+w98Jn4Dyvm4sceJ2cYAAAAASUVORK5CYII=\" y=\"-6.38\"/>\r\n",
       "   </g>\r\n",
       "  </g>\r\n",
       " </g>\r\n",
       " <defs>\r\n",
       "  <clipPath id=\"pf3ddb72c54\">\r\n",
       "   <rect height=\"27.18\" width=\"27.18\" x=\"7.2\" y=\"7.2\"/>\r\n",
       "  </clipPath>\r\n",
       " </defs>\r\n",
       "</svg>\r\n"
      ],
      "text/plain": [
       "<Figure size 36x36 with 1 Axes>"
      ]
     },
     "metadata": {},
     "output_type": "display_data"
    },
    {
     "data": {
      "image/png": "[encoded data removed]",
      "image/svg+xml": [
       "<?xml version=\"1.0\" encoding=\"utf-8\" standalone=\"no\"?>\r\n",
       "<!DOCTYPE svg PUBLIC \"-//W3C//DTD SVG 1.1//EN\"\r\n",
       "  \"http://www.w3.org/Graphics/SVG/1.1/DTD/svg11.dtd\">\r\n",
       "<!-- Created with matplotlib (https://matplotlib.org/) -->\r\n",
       "<svg height=\"41.58pt\" version=\"1.1\" viewBox=\"0 0 41.58 41.58\" width=\"41.58pt\" xmlns=\"http://www.w3.org/2000/svg\" xmlns:xlink=\"http://www.w3.org/1999/xlink\">\r\n",
       " <defs>\r\n",
       "  <style type=\"text/css\">\r\n",
       "*{stroke-linecap:butt;stroke-linejoin:round;}\r\n",
       "  </style>\r\n",
       " </defs>\r\n",
       " <g id=\"figure_1\">\r\n",
       "  <g id=\"patch_1\">\r\n",
       "   <path d=\"M 0 41.58 \r\n",
       "L 41.58 41.58 \r\n",
       "L 41.58 0 \r\n",
       "L 0 0 \r\n",
       "z\r\n",
       "\" style=\"fill:#ffffff;\"/>\r\n",
       "  </g>\r\n",
       "  <g id=\"axes_1\">\r\n",
       "   <g clip-path=\"url(#pa6704f25b1)\">\r\n",
       "    <image height=\"28\" id=\"image38fec53c5e\" transform=\"scale(1 -1)translate(0 -28)\" width=\"28\" x=\"7.2\" xlink:href=\"data:image/png;base64,\r\n",
       "iVBORw0KGgoAAAANSUhEUgAAABwAAAAcCAYAAAByDd+UAAAABHNCSVQICAgIfAhkiAAAAPlJREFUSInt1jGKhDAUBuBft0kjYiWxTCfew3N4EtlLBM/hGWJl7QlMIdhEQVALeVtNPzFkYHbmQbr8fCQvCQkAEF5Y4SuxzwB/APzahqqqgpQSnHMYYzDPs1WebIeUkh5ljCHO+dNZ5y2t6xrTND093wlc1xVt21plnMBlWTCOo39QCAEASNMURVH4B7MsAwAwxhDHsX+w67o7sfuga1nfQ6UUERFprYkxZpW9tcLHQbmuC8dxWGX//+PtBCql/INlWSJJEgCA1to/GIZuXXivHuZ57h/s+x7btgEAoiiyBq2/GPu+QwiB8zzRNA2GYbACA3z/pe8O/gEeNoXOizFSygAAAABJRU5ErkJggg==\" y=\"-6.38\"/>\r\n",
       "   </g>\r\n",
       "  </g>\r\n",
       " </g>\r\n",
       " <defs>\r\n",
       "  <clipPath id=\"pa6704f25b1\">\r\n",
       "   <rect height=\"27.18\" width=\"27.18\" x=\"7.2\" y=\"7.2\"/>\r\n",
       "  </clipPath>\r\n",
       " </defs>\r\n",
       "</svg>\r\n"
      ],
      "text/plain": [
       "<Figure size 36x36 with 1 Axes>"
      ]
     },
     "metadata": {},
     "output_type": "display_data"
    },
    {
     "data": {
      "image/png": "[encoded data removed]",
      "image/svg+xml": [
       "<?xml version=\"1.0\" encoding=\"utf-8\" standalone=\"no\"?>\r\n",
       "<!DOCTYPE svg PUBLIC \"-//W3C//DTD SVG 1.1//EN\"\r\n",
       "  \"http://www.w3.org/Graphics/SVG/1.1/DTD/svg11.dtd\">\r\n",
       "<!-- Created with matplotlib (https://matplotlib.org/) -->\r\n",
       "<svg height=\"41.58pt\" version=\"1.1\" viewBox=\"0 0 41.58 41.58\" width=\"41.58pt\" xmlns=\"http://www.w3.org/2000/svg\" xmlns:xlink=\"http://www.w3.org/1999/xlink\">\r\n",
       " <defs>\r\n",
       "  <style type=\"text/css\">\r\n",
       "*{stroke-linecap:butt;stroke-linejoin:round;}\r\n",
       "  </style>\r\n",
       " </defs>\r\n",
       " <g id=\"figure_1\">\r\n",
       "  <g id=\"patch_1\">\r\n",
       "   <path d=\"M 0 41.58 \r\n",
       "L 41.58 41.58 \r\n",
       "L 41.58 0 \r\n",
       "L 0 0 \r\n",
       "z\r\n",
       "\" style=\"fill:#ffffff;\"/>\r\n",
       "  </g>\r\n",
       "  <g id=\"axes_1\">\r\n",
       "   <g clip-path=\"url(#p62b784946e)\">\r\n",
       "    <image height=\"28\" id=\"image9e60ab61ff\" transform=\"scale(1 -1)translate(0 -28)\" width=\"28\" x=\"7.2\" xlink:href=\"data:image/png;base64,\r\n",
       "iVBORw0KGgoAAAANSUhEUgAAABwAAAAcCAYAAAByDd+UAAAABHNCSVQICAgIfAhkiAAAAepJREFUSIntk72uKVEUx//DpaTxABIKH4mJXoZuMjWlWvQaheJ4A4qRDE8gdOIF8ABDFEYlFDOSkdBMtbd1K5Nzb5jgnDnV+ScrmZW99v7N+hIAEH5QAa9DSZLAGANjDLIs+w/MZrPu92AwQLVa/RYoPTJBEEhVVWKMEWOMVqsVxWKxh/FPmneAKIrU6/WIc06cc9J1/avQ5wKn0ykxxohzTpPJ5G2gZw8fSZIk1Gq1d64iCODjmcDtdotgMIh8Po9QKIRSqYTj8Qhd11+GvlSS0Wjk9pNzTpVKxZ8efrbBYOBOLuecEomEvz3UNA22bbt+Op1+6f5b06YoCp1OJ+Kck2maJMuyfyW9WbfbJSIizjkZhuFfSW+az+e4Xq8gIkQiEeRyuafuvZ0hAGq32+4Amabpb0kBUDwep8Ph4ELr9bpn/B+v1MvlMgqFAjabDTRNuxuz2+3gOI7rp1Ipz3I+BCaTSQyHQ9dXVRXj8RiLxQIAcD6fsd/vcblcEI1GPSH/627q4XCYms2mW6rPi84YI8dxyLZtsizrn/NOp/N+DwVBIEVRqNFokGEY7t7d+wHGGFmWRZlMxhMo3KjPqFgsQhRFEBFisRharRYCgQDW6zX6/T5msxmWy6XnGy8Bv0NfWvxf4C/wR/QXEOsq7uYIP3EAAAAASUVORK5CYII=\" y=\"-6.38\"/>\r\n",
       "   </g>\r\n",
       "  </g>\r\n",
       " </g>\r\n",
       " <defs>\r\n",
       "  <clipPath id=\"p62b784946e\">\r\n",
       "   <rect height=\"27.18\" width=\"27.18\" x=\"7.2\" y=\"7.2\"/>\r\n",
       "  </clipPath>\r\n",
       " </defs>\r\n",
       "</svg>\r\n"
      ],
      "text/plain": [
       "<Figure size 36x36 with 1 Axes>"
      ]
     },
     "metadata": {},
     "output_type": "display_data"
    },
    {
     "data": {
      "image/png": "[encoded data removed]",
      "image/svg+xml": [
       "<?xml version=\"1.0\" encoding=\"utf-8\" standalone=\"no\"?>\r\n",
       "<!DOCTYPE svg PUBLIC \"-//W3C//DTD SVG 1.1//EN\"\r\n",
       "  \"http://www.w3.org/Graphics/SVG/1.1/DTD/svg11.dtd\">\r\n",
       "<!-- Created with matplotlib (https://matplotlib.org/) -->\r\n",
       "<svg height=\"41.58pt\" version=\"1.1\" viewBox=\"0 0 41.58 41.58\" width=\"41.58pt\" xmlns=\"http://www.w3.org/2000/svg\" xmlns:xlink=\"http://www.w3.org/1999/xlink\">\r\n",
       " <defs>\r\n",
       "  <style type=\"text/css\">\r\n",
       "*{stroke-linecap:butt;stroke-linejoin:round;}\r\n",
       "  </style>\r\n",
       " </defs>\r\n",
       " <g id=\"figure_1\">\r\n",
       "  <g id=\"patch_1\">\r\n",
       "   <path d=\"M 0 41.58 \r\n",
       "L 41.58 41.58 \r\n",
       "L 41.58 0 \r\n",
       "L 0 0 \r\n",
       "z\r\n",
       "\" style=\"fill:#ffffff;\"/>\r\n",
       "  </g>\r\n",
       "  <g id=\"axes_1\">\r\n",
       "   <g clip-path=\"url(#pf1126dde1e)\">\r\n",
       "    <image height=\"28\" id=\"imaged5e86826e3\" transform=\"scale(1 -1)translate(0 -28)\" width=\"28\" x=\"7.2\" xlink:href=\"data:image/png;base64,\r\n",
       "iVBORw0KGgoAAAANSUhEUgAAABwAAAAcCAYAAAByDd+UAAAABHNCSVQICAgIfAhkiAAAAdhJREFUSIndlr3PIVEUxo/BkBAVE4lGolEoREMlUdFOPwqNv0DUGxWtVoVG6aOSKOkkSiHIa3pUJMzNebbYfSfZZK1hd2zyPsmTzGTumd+595w7dxxEBHqjpHfC/gvQ9WhALpejeDxOHx8fJMsyKYpC7Xabbrfby1Dcc6PRwHg8hq7rGAwGEEKAmdHpdBCJROB0Ou/G/sH3H2qaBrfbbd5nMhksFgsAADOj1+shHA7/O+Dv7PP5UKvVYBgGmBmj0QiSJNkH/HSpVAIzg5mhaZr9QJfLhd1uB2bGbDZDMBi0F0hEqFar5izz+bylmL/ah9vt1rxOp9OWYt6+8YleXE5ZljGZTMDMOBwOiEaj9tUwkUig2Wya9VNV1b4u1TQN5/MZzAxd11EoFJ5N2PpgVVVxuVwghECr1YLf7396dZxE9O1xmX9ICEGn04kURaFUKkWr1YqWy6XVcFNPZ5nNZqHrOtbr9S/fWot+rUsrlQqYGd1uF6FQyH5gMpk0u7RYLFqOe3gAf8rr9VK9Xqfj8Uj9fp8kSaLr9Uoej8fqK0xZyszhcGA+n4OZIYQwj6f9fo9YLGZPl06nUwoEAsTMZBgGDYdDKpfLtNlsLM/O8ZP8Nn3938SvD/wOBDdCyPNIpaEAAAAASUVORK5CYII=\" y=\"-6.38\"/>\r\n",
       "   </g>\r\n",
       "  </g>\r\n",
       " </g>\r\n",
       " <defs>\r\n",
       "  <clipPath id=\"pf1126dde1e\">\r\n",
       "   <rect height=\"27.18\" width=\"27.18\" x=\"7.2\" y=\"7.2\"/>\r\n",
       "  </clipPath>\r\n",
       " </defs>\r\n",
       "</svg>\r\n"
      ],
      "text/plain": [
       "<Figure size 36x36 with 1 Axes>"
      ]
     },
     "metadata": {},
     "output_type": "display_data"
    },
    {
     "data": {
      "image/png": "[encoded data removed]",
      "image/svg+xml": [
       "<?xml version=\"1.0\" encoding=\"utf-8\" standalone=\"no\"?>\r\n",
       "<!DOCTYPE svg PUBLIC \"-//W3C//DTD SVG 1.1//EN\"\r\n",
       "  \"http://www.w3.org/Graphics/SVG/1.1/DTD/svg11.dtd\">\r\n",
       "<!-- Created with matplotlib (https://matplotlib.org/) -->\r\n",
       "<svg height=\"41.58pt\" version=\"1.1\" viewBox=\"0 0 41.58 41.58\" width=\"41.58pt\" xmlns=\"http://www.w3.org/2000/svg\" xmlns:xlink=\"http://www.w3.org/1999/xlink\">\r\n",
       " <defs>\r\n",
       "  <style type=\"text/css\">\r\n",
       "*{stroke-linecap:butt;stroke-linejoin:round;}\r\n",
       "  </style>\r\n",
       " </defs>\r\n",
       " <g id=\"figure_1\">\r\n",
       "  <g id=\"patch_1\">\r\n",
       "   <path d=\"M 0 41.58 \r\n",
       "L 41.58 41.58 \r\n",
       "L 41.58 0 \r\n",
       "L 0 0 \r\n",
       "z\r\n",
       "\" style=\"fill:#ffffff;\"/>\r\n",
       "  </g>\r\n",
       "  <g id=\"axes_1\">\r\n",
       "   <g clip-path=\"url(#p3bc4c144c5)\">\r\n",
       "    <image height=\"28\" id=\"image4cfeca12ed\" transform=\"scale(1 -1)translate(0 -28)\" width=\"28\" x=\"7.2\" xlink:href=\"data:image/png;base64,\r\n",
       "iVBORw0KGgoAAAANSUhEUgAAABwAAAAcCAYAAAByDd+UAAAABHNCSVQICAgIfAhkiAAAAe5JREFUSInl1bGq4lAQBuD/7kJIYSUBEeyUIEZERLAQbLTwEexUbPQR7LZVC2MhEa4I2ljY2PgeWhshJMRKxMYmiWdus8rK3kS9LrLLDkz3Z74mM+cNAOGF9e2V2P8Bfgfw455gPB5Hr9fDbDZDIBBAMplELpdDJBLBcrl8CKVbPRwOybIsYoz91qfTiTRNo1qtdnPOz/YOJBIJOhwOn2K/tuM4pGkaxWKx58DRaHQZqqoqSZJEgiCQIAiUSqVIURRSFIVUVSXGGJmmSZIkfR3c7XYXMJ1Ou+aazeYlV6/XXXOef2k0GgXHcQCA+XyO1Wrlmh2Px9A0zWscgBtrUSwW4fP5AADH4xG2bbtmt9st3t/fnwMfrel0+lrwXJFI5LVguVx+LehVd4N+vx88z3tmKpUKAGAymXjmXHcmHA7Ter2+7Jcsy8Tz/KfZUChEuq7f3ENPEAA1Go2rE+aGZrNZYoyRZVlUKpW+DoqiSPv9/gotFApXGY7jaLFYEGOMDMN47pYCoH6/fwXquk6ZTIaCwSAFg0HK5/PEGCPbtqndbj8PRqNRGgwGZNu254ux2WxuzroLPHen0yHHcVyfJ1mW/ywIgKrVKhmGcYXZtk3dbvfeGY+BAKjVatG5TNMkURTv/vbtrL6q/t7T9s+CH5/2fWnnNcHgAAAAAElFTkSuQmCC\" y=\"-6.38\"/>\r\n",
       "   </g>\r\n",
       "  </g>\r\n",
       " </g>\r\n",
       " <defs>\r\n",
       "  <clipPath id=\"p3bc4c144c5\">\r\n",
       "   <rect height=\"27.18\" width=\"27.18\" x=\"7.2\" y=\"7.2\"/>\r\n",
       "  </clipPath>\r\n",
       " </defs>\r\n",
       "</svg>\r\n"
      ],
      "text/plain": [
       "<Figure size 36x36 with 1 Axes>"
      ]
     },
     "metadata": {},
     "output_type": "display_data"
    },
    {
     "data": {
      "image/png": "[encoded data removed]",
      "image/svg+xml": [
       "<?xml version=\"1.0\" encoding=\"utf-8\" standalone=\"no\"?>\r\n",
       "<!DOCTYPE svg PUBLIC \"-//W3C//DTD SVG 1.1//EN\"\r\n",
       "  \"http://www.w3.org/Graphics/SVG/1.1/DTD/svg11.dtd\">\r\n",
       "<!-- Created with matplotlib (https://matplotlib.org/) -->\r\n",
       "<svg height=\"41.58pt\" version=\"1.1\" viewBox=\"0 0 41.58 41.58\" width=\"41.58pt\" xmlns=\"http://www.w3.org/2000/svg\" xmlns:xlink=\"http://www.w3.org/1999/xlink\">\r\n",
       " <defs>\r\n",
       "  <style type=\"text/css\">\r\n",
       "*{stroke-linecap:butt;stroke-linejoin:round;}\r\n",
       "  </style>\r\n",
       " </defs>\r\n",
       " <g id=\"figure_1\">\r\n",
       "  <g id=\"patch_1\">\r\n",
       "   <path d=\"M 0 41.58 \r\n",
       "L 41.58 41.58 \r\n",
       "L 41.58 0 \r\n",
       "L 0 0 \r\n",
       "z\r\n",
       "\" style=\"fill:#ffffff;\"/>\r\n",
       "  </g>\r\n",
       "  <g id=\"axes_1\">\r\n",
       "   <g clip-path=\"url(#pf7b93fd678)\">\r\n",
       "    <image height=\"28\" id=\"imageda054bb817\" transform=\"scale(1 -1)translate(0 -28)\" width=\"28\" x=\"7.2\" xlink:href=\"data:image/png;base64,\r\n",
       "iVBORw0KGgoAAAANSUhEUgAAABwAAAAcCAYAAAByDd+UAAAABHNCSVQICAgIfAhkiAAAAaJJREFUSIntlb+OAVEUxj+bzUQiyFUIjaj8KdTTTKJRaoRX8Aii9xA6HkCiZOppplOoKIxGpVAxCMn9tjLZDbuu8afYOMlp7rlnfjnf+W4GAOgnw+Ew2+02+/0+M5nMLb3+gMlkklJKSinZarWU+z7wgLBtW/nuQ4CVSuW1wHw+/3zgarWCaZoAACEEhBDKvb5MA4CGYXjG6Xa7z3UpAGqaRtM0KaXker1mLpd7rksPhwM2mw0AIBQKIRgMKvX5nhAA0+k0HcchSY5GIwohnifpKZvNprdLBVnvB343T6fT8b/DW6yuGr8CdV2HZVkoFotXP7LdbuG6rjL04ui9Xo9SSg4Gg6uSRqNRjsfj+yUFgPl8/mc9EomgXq+jUCgoTfd56TCVSqFUKgEAlsslarXaj3ogEABJlMtl6LqObDbr1abT6VXo2djVatVz3aUkeXa2WCxoGAY1TbvtWcTjcbquqwwcDodsNBqMxWJKT+hM0t1uB8dxMJvNPHkmkwkSiQSEELBtG5Zleff3+z2Ox+NVGb11nMZ8VTzkB/wGvoH/C/gFc2jrAraPalAAAAAASUVORK5CYII=\" y=\"-6.38\"/>\r\n",
       "   </g>\r\n",
       "  </g>\r\n",
       " </g>\r\n",
       " <defs>\r\n",
       "  <clipPath id=\"pf7b93fd678\">\r\n",
       "   <rect height=\"27.18\" width=\"27.18\" x=\"7.2\" y=\"7.2\"/>\r\n",
       "  </clipPath>\r\n",
       " </defs>\r\n",
       "</svg>\r\n"
      ],
      "text/plain": [
       "<Figure size 36x36 with 1 Axes>"
      ]
     },
     "metadata": {},
     "output_type": "display_data"
    },
    {
     "data": {
      "image/png": "[encoded data removed]",
      "image/svg+xml": [
       "<?xml version=\"1.0\" encoding=\"utf-8\" standalone=\"no\"?>\r\n",
       "<!DOCTYPE svg PUBLIC \"-//W3C//DTD SVG 1.1//EN\"\r\n",
       "  \"http://www.w3.org/Graphics/SVG/1.1/DTD/svg11.dtd\">\r\n",
       "<!-- Created with matplotlib (https://matplotlib.org/) -->\r\n",
       "<svg height=\"41.58pt\" version=\"1.1\" viewBox=\"0 0 41.58 41.58\" width=\"41.58pt\" xmlns=\"http://www.w3.org/2000/svg\" xmlns:xlink=\"http://www.w3.org/1999/xlink\">\r\n",
       " <defs>\r\n",
       "  <style type=\"text/css\">\r\n",
       "*{stroke-linecap:butt;stroke-linejoin:round;}\r\n",
       "  </style>\r\n",
       " </defs>\r\n",
       " <g id=\"figure_1\">\r\n",
       "  <g id=\"patch_1\">\r\n",
       "   <path d=\"M 0 41.58 \r\n",
       "L 41.58 41.58 \r\n",
       "L 41.58 0 \r\n",
       "L 0 0 \r\n",
       "z\r\n",
       "\" style=\"fill:#ffffff;\"/>\r\n",
       "  </g>\r\n",
       "  <g id=\"axes_1\">\r\n",
       "   <g clip-path=\"url(#p32ad0c8859)\">\r\n",
       "    <image height=\"28\" id=\"image1706f2379a\" transform=\"scale(1 -1)translate(0 -28)\" width=\"28\" x=\"7.2\" xlink:href=\"data:image/png;base64,\r\n",
       "iVBORw0KGgoAAAANSUhEUgAAABwAAAAcCAYAAAByDd+UAAAABHNCSVQICAgIfAhkiAAAAfFJREFUSIntli2oIlEUx/9v2yA+/EiaZJJJg2EQBMNUGQxONVlsFrFYLWajyKBBsyD4Ua2ioCKjIKIwYaYIzhSRe7YNu6vvOaz6WHb3wIF7L+fw48/54L4BIHyhfftK2H/gPwAUBAHFYhH9fh+GYaBSqcDn8z0MpVsuCAJZlkWMsZ/8dDpRLpe7mePE3/DBHHa7XaRSKQCAoiiQZRkulwsAcD6fcTqdrnIMw0Cr1UIoFMJ0OsV4PMZisXCmsFqt2qo0TaPL5XKl9kcfjUa03W6JMUZERIwxOh6PdDgcSFGU+wq9Xi+GwyFisdjnBQEwn88Rj8fhdrvBcdzNmN1u97lCAOT3+ykcDlM4HKZGo0Hlctm+dzodW91ms6FgMOi0jr9X/Pf3d5pOpzZUkqTXAgGQoig2cL1ekyiKrwV6PB6aTCY2VJbl1wIBUDabtYG9Xu9u/MOrbbvd2mee5+/GPww0TROmaTqOfxioqipms9nzgel0Gvl8/updFEUkEgnHQMBBY0iSRJZlUbPZJI7jKBAIUDKZpHq9TpqmEWOMlsslZTKZ53Tp4XAgxhipqkqDweDmLn3q4EejUdJ1/SZotVpRoVAgnucdAT9c3r9aJBJBqVRCJpNBrVaDrusAgHa7jf1+76x4ABwDn2V/1p/mrwB+B6JxJ6WCUIkLAAAAAElFTkSuQmCC\" y=\"-6.38\"/>\r\n",
       "   </g>\r\n",
       "  </g>\r\n",
       " </g>\r\n",
       " <defs>\r\n",
       "  <clipPath id=\"p32ad0c8859\">\r\n",
       "   <rect height=\"27.18\" width=\"27.18\" x=\"7.2\" y=\"7.2\"/>\r\n",
       "  </clipPath>\r\n",
       " </defs>\r\n",
       "</svg>\r\n"
      ],
      "text/plain": [
       "<Figure size 36x36 with 1 Axes>"
      ]
     },
     "metadata": {},
     "output_type": "display_data"
    },
    {
     "data": {
      "image/png": "[encoded data removed]",
      "image/svg+xml": [
       "<?xml version=\"1.0\" encoding=\"utf-8\" standalone=\"no\"?>\r\n",
       "<!DOCTYPE svg PUBLIC \"-//W3C//DTD SVG 1.1//EN\"\r\n",
       "  \"http://www.w3.org/Graphics/SVG/1.1/DTD/svg11.dtd\">\r\n",
       "<!-- Created with matplotlib (https://matplotlib.org/) -->\r\n",
       "<svg height=\"41.58pt\" version=\"1.1\" viewBox=\"0 0 41.58 41.58\" width=\"41.58pt\" xmlns=\"http://www.w3.org/2000/svg\" xmlns:xlink=\"http://www.w3.org/1999/xlink\">\r\n",
       " <defs>\r\n",
       "  <style type=\"text/css\">\r\n",
       "*{stroke-linecap:butt;stroke-linejoin:round;}\r\n",
       "  </style>\r\n",
       " </defs>\r\n",
       " <g id=\"figure_1\">\r\n",
       "  <g id=\"patch_1\">\r\n",
       "   <path d=\"M 0 41.58 \r\n",
       "L 41.58 41.58 \r\n",
       "L 41.58 0 \r\n",
       "L 0 0 \r\n",
       "z\r\n",
       "\" style=\"fill:#ffffff;\"/>\r\n",
       "  </g>\r\n",
       "  <g id=\"axes_1\">\r\n",
       "   <g clip-path=\"url(#pc5e6d3e6c4)\">\r\n",
       "    <image height=\"28\" id=\"imagef34f1f8e94\" transform=\"scale(1 -1)translate(0 -28)\" width=\"28\" x=\"7.2\" xlink:href=\"data:image/png;base64,\r\n",
       "iVBORw0KGgoAAAANSUhEUgAAABwAAAAcCAYAAAByDd+UAAAABHNCSVQICAgIfAhkiAAAAf5JREFUSIntlqGrKlEQxue+LXpX0SaCbYtB8G8waDKsQbGYNYlgEGH/ChebRUQQDJtMhgWDLIio2BQRi6B1w4qr893kwuWFt3hd3wtv4Ctnzpzf+SacOR9EBHpj/Hon7D/w7wJFUSRVVel0OhEz036/p3w+/xQUbtRsNsHM33S73dBqtVzVP+TaYSQSISIi27ap2+3SYDAgQRCoXC5Tr9ejWCz2Ood+vx/b7RbMjNVqhVAoBCJCLpfD+XwGM2M2m8Hn87lx+WdgIpH41sp6ve7kkskkjscjmBmyLHsDNAwDoig6+XQ6jev1islk4g2QmdHpdOD3+5090+kUpmlCkqSfA0VRxG63AzOj3W7jcDiAmTEejxEKhZBMJmFZFmzbRjwe/zmQiLBer8HMUFUVjUbDcXo+n2EYBpgZi8XiNS0lIoxGI8ehIAioVquO04dKpdLrgIqigJmhaZqzFovFUCwWUSwWkclkXJ3jGphOp8HMsCwLiUTC7eHPAwVBwHw+BzOj2Ww+DXT9tN3vd9I0jYiICoUChcNht6W/hevbpVIpmKYJZoaiKN629KHH1FgulwgEAt4DJUmCZVlgZvT7fXx+fnoLJCLUajVcLhcwM3RdRzAY9BZIRJBl2RlZuq4jm816CyQiRKNRVCoVbDYbDIdDVzUfD+q74t/9tb0qvgCZN9/qoZ+JzwAAAABJRU5ErkJggg==\" y=\"-6.38\"/>\r\n",
       "   </g>\r\n",
       "  </g>\r\n",
       " </g>\r\n",
       " <defs>\r\n",
       "  <clipPath id=\"pc5e6d3e6c4\">\r\n",
       "   <rect height=\"27.18\" width=\"27.18\" x=\"7.2\" y=\"7.2\"/>\r\n",
       "  </clipPath>\r\n",
       " </defs>\r\n",
       "</svg>\r\n"
      ],
      "text/plain": [
       "<Figure size 36x36 with 1 Axes>"
      ]
     },
     "metadata": {},
     "output_type": "display_data"
    },
    {
     "data": {
      "image/png": "[encoded data removed]",
      "image/svg+xml": [
       "<?xml version=\"1.0\" encoding=\"utf-8\" standalone=\"no\"?>\r\n",
       "<!DOCTYPE svg PUBLIC \"-//W3C//DTD SVG 1.1//EN\"\r\n",
       "  \"http://www.w3.org/Graphics/SVG/1.1/DTD/svg11.dtd\">\r\n",
       "<!-- Created with matplotlib (https://matplotlib.org/) -->\r\n",
       "<svg height=\"41.58pt\" version=\"1.1\" viewBox=\"0 0 41.58 41.58\" width=\"41.58pt\" xmlns=\"http://www.w3.org/2000/svg\" xmlns:xlink=\"http://www.w3.org/1999/xlink\">\r\n",
       " <defs>\r\n",
       "  <style type=\"text/css\">\r\n",
       "*{stroke-linecap:butt;stroke-linejoin:round;}\r\n",
       "  </style>\r\n",
       " </defs>\r\n",
       " <g id=\"figure_1\">\r\n",
       "  <g id=\"patch_1\">\r\n",
       "   <path d=\"M 0 41.58 \r\n",
       "L 41.58 41.58 \r\n",
       "L 41.58 0 \r\n",
       "L 0 0 \r\n",
       "z\r\n",
       "\" style=\"fill:#ffffff;\"/>\r\n",
       "  </g>\r\n",
       "  <g id=\"axes_1\">\r\n",
       "   <g clip-path=\"url(#pd363da5e59)\">\r\n",
       "    <image height=\"28\" id=\"image76c8841652\" transform=\"scale(1 -1)translate(0 -28)\" width=\"28\" x=\"7.2\" xlink:href=\"data:image/png;base64,\r\n",
       "iVBORw0KGgoAAAANSUhEUgAAABwAAAAcCAYAAAByDd+UAAAABHNCSVQICAgIfAhkiAAAAi5JREFUSIntlj9rIkEYxt/sHYaIGxeURayWtHZikVKFWKqpxULwA9grYrp8hgWxsrAziJ9CFxeCjVVEEYPGv4Ua9H2uynJ78Yiwe3IcN/A07zMzv3ln5h3mgohAZ2zCOWH/geRyuahWqxEzG6rX6xQOhy1BcUyCICCbzYKZP2k0GiGfz8PpdB4d+4WOG4qimCDL5RLT6dQUGwwGSKVS9gAzmYwxsaZp8Pv9cLvduL+/R6vVAgAwM7bbLfL5PC4vL60BRVFEt9tFp9OBz+czeZIkIZFIQNM0Y1GlUskakIjg8Xggy/JvfUmSUC6XwczYbDYIBoPWgKfo+voa7XYbzIx4PP5lf8t1uFqtaLfbERFRr9c7aYylDCORCMbjMTRNgyRJX/b/fmomHo+HKpUKbTYben9/J0EQiJkpGo2SLMv08PBAi8XCvgxvb29xOByOPgTVavXkHflGRKVTVjUcDsnpdFIgEKDD4UAOh8Pk67pOw+HQvgx/lizLuLu7Q6PRwHa7BTNjvV4jEonYXxZer9dUm/F4HL1eD8wMXdfhdrvtA6bTaUwmE8xmM4RCISN+c3OD0WgEZkYul7MPmEwmjYvy9vaGWCxmeI+Pj8bWer1ee4BXV1d4enoyoPv9HsViEaIoolAoGPFf315LZ6goCprNpqksXl5e0O/3/wzwA6qqKl5fXz/VZL1ehyAI9gI/5HK5kEqloKoq5vM5np+fTZfpmC4+qOdqf9ev7Z8A/gAewfLA0th/VwAAAABJRU5ErkJggg==\" y=\"-6.38\"/>\r\n",
       "   </g>\r\n",
       "  </g>\r\n",
       " </g>\r\n",
       " <defs>\r\n",
       "  <clipPath id=\"pd363da5e59\">\r\n",
       "   <rect height=\"27.18\" width=\"27.18\" x=\"7.2\" y=\"7.2\"/>\r\n",
       "  </clipPath>\r\n",
       " </defs>\r\n",
       "</svg>\r\n"
      ],
      "text/plain": [
       "<Figure size 36x36 with 1 Axes>"
      ]
     },
     "metadata": {},
     "output_type": "display_data"
    },
    {
     "data": {
      "image/png": "[encoded data removed]",
      "image/svg+xml": [
       "<?xml version=\"1.0\" encoding=\"utf-8\" standalone=\"no\"?>\r\n",
       "<!DOCTYPE svg PUBLIC \"-//W3C//DTD SVG 1.1//EN\"\r\n",
       "  \"http://www.w3.org/Graphics/SVG/1.1/DTD/svg11.dtd\">\r\n",
       "<!-- Created with matplotlib (https://matplotlib.org/) -->\r\n",
       "<svg height=\"41.58pt\" version=\"1.1\" viewBox=\"0 0 41.58 41.58\" width=\"41.58pt\" xmlns=\"http://www.w3.org/2000/svg\" xmlns:xlink=\"http://www.w3.org/1999/xlink\">\r\n",
       " <defs>\r\n",
       "  <style type=\"text/css\">\r\n",
       "*{stroke-linecap:butt;stroke-linejoin:round;}\r\n",
       "  </style>\r\n",
       " </defs>\r\n",
       " <g id=\"figure_1\">\r\n",
       "  <g id=\"patch_1\">\r\n",
       "   <path d=\"M 0 41.58 \r\n",
       "L 41.58 41.58 \r\n",
       "L 41.58 0 \r\n",
       "L 0 0 \r\n",
       "z\r\n",
       "\" style=\"fill:#ffffff;\"/>\r\n",
       "  </g>\r\n",
       "  <g id=\"axes_1\">\r\n",
       "   <g clip-path=\"url(#p98c3c1185f)\">\r\n",
       "    <image height=\"28\" id=\"image7327cd6260\" transform=\"scale(1 -1)translate(0 -28)\" width=\"28\" x=\"7.2\" xlink:href=\"data:image/png;base64,\r\n",
       "iVBORw0KGgoAAAANSUhEUgAAABwAAAAcCAYAAAByDd+UAAAABHNCSVQICAgIfAhkiAAAAdNJREFUSInt1U+rKXEYB/Cvi05kIZQ0Q8pmMiuT7L0E70ApG+VNyNJeUkISeQFKys6KbEhZUBaSPyU76ve9K1P33BvOOXd0T92nnsXM88zvU8/vqTEBIF4YP16JfRlUFAWbzQaZTMZ40GKxoFarwev14nK5GA/G43FEo1EAgMPhMB6cz+dYrVYwmUyIxWLGg+v1GtvtFuTHlvx7bel+v38tWCwWjQcVRUE4HP4wdAvLM012ux35fB6qqiISicBsNqPdbmO5XH4K5b202Wwsl8sUQnAymbDX6/FwOFAIoWez2bx7xru83xAMBimEYLfbpcvlIgCGw2Fms1kd3O129Pv9T4EPR5pKpQAAlUoFx+MRADCbzSBJkt7jdrvx9vb21DgfLo3P5/vj++FwiFarpT+rqvoUCDwYgaZp+v0FAoFfag6Hg9PplEIIVqvVv3OHHo+Hi8WCQgj2+/3f6uPxmEIIns9nSpL0dRAAQ6EQF4sFL5cLC4UCZVnWa6VSSV+e9xP4NAiAyWSSjUaDQgieTid2Oh0CYCKRMAYEQLPZzHQ6zeVyyev1ytFoxHq9bhx4S6vVSkVRmMvlKMsyNU3jYDCg0+l8+K3ppr4qvtf/8D/4T4A/AYP3lKemhyoTAAAAAElFTkSuQmCC\" y=\"-6.38\"/>\r\n",
       "   </g>\r\n",
       "  </g>\r\n",
       " </g>\r\n",
       " <defs>\r\n",
       "  <clipPath id=\"p98c3c1185f\">\r\n",
       "   <rect height=\"27.18\" width=\"27.18\" x=\"7.2\" y=\"7.2\"/>\r\n",
       "  </clipPath>\r\n",
       " </defs>\r\n",
       "</svg>\r\n"
      ],
      "text/plain": [
       "<Figure size 36x36 with 1 Axes>"
      ]
     },
     "metadata": {},
     "output_type": "display_data"
    },
    {
     "data": {
      "image/png": "[encoded data removed]",
      "image/svg+xml": [
       "<?xml version=\"1.0\" encoding=\"utf-8\" standalone=\"no\"?>\r\n",
       "<!DOCTYPE svg PUBLIC \"-//W3C//DTD SVG 1.1//EN\"\r\n",
       "  \"http://www.w3.org/Graphics/SVG/1.1/DTD/svg11.dtd\">\r\n",
       "<!-- Created with matplotlib (https://matplotlib.org/) -->\r\n",
       "<svg height=\"41.58pt\" version=\"1.1\" viewBox=\"0 0 41.58 41.58\" width=\"41.58pt\" xmlns=\"http://www.w3.org/2000/svg\" xmlns:xlink=\"http://www.w3.org/1999/xlink\">\r\n",
       " <defs>\r\n",
       "  <style type=\"text/css\">\r\n",
       "*{stroke-linecap:butt;stroke-linejoin:round;}\r\n",
       "  </style>\r\n",
       " </defs>\r\n",
       " <g id=\"figure_1\">\r\n",
       "  <g id=\"patch_1\">\r\n",
       "   <path d=\"M 0 41.58 \r\n",
       "L 41.58 41.58 \r\n",
       "L 41.58 0 \r\n",
       "L 0 0 \r\n",
       "z\r\n",
       "\" style=\"fill:#ffffff;\"/>\r\n",
       "  </g>\r\n",
       "  <g id=\"axes_1\">\r\n",
       "   <g clip-path=\"url(#pfc524a06cb)\">\r\n",
       "    <image height=\"28\" id=\"imagee9a44629e7\" transform=\"scale(1 -1)translate(0 -28)\" width=\"28\" x=\"7.2\" xlink:href=\"data:image/png;base64,\r\n",
       "iVBORw0KGgoAAAANSUhEUgAAABwAAAAcCAYAAAByDd+UAAAABHNCSVQICAgIfAhkiAAAAiBJREFUSInlVj3PKVEQftwoFBIfEVRWsQkdtY9EIaLiB4hIFDoahVIhFDpRI36ARiEKkQii3oL4qISEiEK/OeY2l7zCvrtcr+LeSZ7k7DOTeTIzmXNWBYDwQfv1SbH/Q1AtF+D1esHzPIgI0WgUkUgEtVoNk8kERARBECAIwlOi9AiJRIJ6vR5tNhtijJEoije4cKvViqrVKnEc9zDPAzx25PP5u+SiKFKr1brjLohGo7KCki1dr9cYDocAgGQyeeWPxyNMJhMAIJfLIRQKwWazAQBSqRQGgwFOp9PzLVUKt9tNpVKJGGNERNRsNl9r6TNwOp20WCyIMUa73Y5cLpdk7FvWYj6fYzweAwAMBgMCgYBk7Nv3cLvdolKp/KygXq+HxWIBACwWC9n4l2dnMpmoXq9Tp9MhxhgNh0OyWq2vrcVX43keHo/nhlOpVDAajYjH4wCA8/mMZrOJ/X7/9xVOp1PJm+aCYrGoqCuKZqhkLg6HQ0kqZRVqtVqy2+1kt9spHA5Tv9+n2Wx2V3W5XH79LpUDz/OUzWaJMXZFo9H4OcGvCAQCJIoiLZdLcjgcr89Qo9GA4zhJv1qtBsdxMJvNAIDRaCQ772/XolQqIZ1Oo1AoPPTrdDpkMpnrd7vd/lbsYpLlB4NB2QdYFEU6Ho8Ui8UUtV/15yBpPp8PPM/fcMlkEn6/H4fDAblcDvv9Ht1uV1F1soLvtn//N/Hjgr8B90A0w1zcAWYAAAAASUVORK5CYII=\" y=\"-6.38\"/>\r\n",
       "   </g>\r\n",
       "  </g>\r\n",
       " </g>\r\n",
       " <defs>\r\n",
       "  <clipPath id=\"pfc524a06cb\">\r\n",
       "   <rect height=\"27.18\" width=\"27.18\" x=\"7.2\" y=\"7.2\"/>\r\n",
       "  </clipPath>\r\n",
       " </defs>\r\n",
       "</svg>\r\n"
      ],
      "text/plain": [
       "<Figure size 36x36 with 1 Axes>"
      ]
     },
     "metadata": {},
     "output_type": "display_data"
    },
    {
     "data": {
      "image/png": "[encoded data removed]",
      "image/svg+xml": [
       "<?xml version=\"1.0\" encoding=\"utf-8\" standalone=\"no\"?>\r\n",
       "<!DOCTYPE svg PUBLIC \"-//W3C//DTD SVG 1.1//EN\"\r\n",
       "  \"http://www.w3.org/Graphics/SVG/1.1/DTD/svg11.dtd\">\r\n",
       "<!-- Created with matplotlib (https://matplotlib.org/) -->\r\n",
       "<svg height=\"41.58pt\" version=\"1.1\" viewBox=\"0 0 41.58 41.58\" width=\"41.58pt\" xmlns=\"http://www.w3.org/2000/svg\" xmlns:xlink=\"http://www.w3.org/1999/xlink\">\r\n",
       " <defs>\r\n",
       "  <style type=\"text/css\">\r\n",
       "*{stroke-linecap:butt;stroke-linejoin:round;}\r\n",
       "  </style>\r\n",
       " </defs>\r\n",
       " <g id=\"figure_1\">\r\n",
       "  <g id=\"patch_1\">\r\n",
       "   <path d=\"M 0 41.58 \r\n",
       "L 41.58 41.58 \r\n",
       "L 41.58 0 \r\n",
       "L 0 0 \r\n",
       "z\r\n",
       "\" style=\"fill:#ffffff;\"/>\r\n",
       "  </g>\r\n",
       "  <g id=\"axes_1\">\r\n",
       "   <g clip-path=\"url(#pe4ec09a803)\">\r\n",
       "    <image height=\"28\" id=\"imagecd9a5764a9\" transform=\"scale(1 -1)translate(0 -28)\" width=\"28\" x=\"7.2\" xlink:href=\"data:image/png;base64,\r\n",
       "iVBORw0KGgoAAAANSUhEUgAAABwAAAAcCAYAAAByDd+UAAAABHNCSVQICAgIfAhkiAAAAapJREFUSIntlDGr4lAQhSeSQiwUo5DGH5AiKFilTSui2Fna2vg7rCws1S6doGAa/4KV2ChKwEYURBDUQlAP51Ub9i0LG3Vj9Q4MDNwZPs7h3quICOWDigQdVFVV2u22uK4rhmG8BWWQKpVKBEAALBaLgXb+VoEdrtdr2e/3IiJSLpfDdygibLVaBMDj8UjTNF91GXw4m836sXY6nfCB8Xici8WCADibzZhMJsMFighzuRwfjwcBsNvtUlGUcIEiwtFo5Eer63o4t/R3jcdjvy8UCk/vP+0wlUpxPp8TAD3Po6qq4UYqIqzX636stVot3EhFRLbbrd9nMpmndl9yGI1GuVqtCIC73S78SEWE+Xye5/OZAOg4TvhAEfFdbjYbxmKx8IGGYfB2uxEAq9Xq/wFalsXhcEjbtmnbNtPp9Ldzz/MIgIPB4D2grut0XZfX69V/AgC4XC45mUzY6/VYqVTY7/cJgNPp9D2gaZo8HA4EwPv9TsdxvoH/rLeBIsJEIkFN06hpGiORiN83Gg02m01eLheS5Ol0omVZ/wQqv6if0ss/zQ/wB/gxfQEr3YtcoPIGSgAAAABJRU5ErkJggg==\" y=\"-6.38\"/>\r\n",
       "   </g>\r\n",
       "  </g>\r\n",
       " </g>\r\n",
       " <defs>\r\n",
       "  <clipPath id=\"pe4ec09a803\">\r\n",
       "   <rect height=\"27.18\" width=\"27.18\" x=\"7.2\" y=\"7.2\"/>\r\n",
       "  </clipPath>\r\n",
       " </defs>\r\n",
       "</svg>\r\n"
      ],
      "text/plain": [
       "<Figure size 36x36 with 1 Axes>"
      ]
     },
     "metadata": {},
     "output_type": "display_data"
    },
    {
     "data": {
      "image/png": "[encoded data removed]",
      "image/svg+xml": [
       "<?xml version=\"1.0\" encoding=\"utf-8\" standalone=\"no\"?>\r\n",
       "<!DOCTYPE svg PUBLIC \"-//W3C//DTD SVG 1.1//EN\"\r\n",
       "  \"http://www.w3.org/Graphics/SVG/1.1/DTD/svg11.dtd\">\r\n",
       "<!-- Created with matplotlib (https://matplotlib.org/) -->\r\n",
       "<svg height=\"41.58pt\" version=\"1.1\" viewBox=\"0 0 41.58 41.58\" width=\"41.58pt\" xmlns=\"http://www.w3.org/2000/svg\" xmlns:xlink=\"http://www.w3.org/1999/xlink\">\r\n",
       " <defs>\r\n",
       "  <style type=\"text/css\">\r\n",
       "*{stroke-linecap:butt;stroke-linejoin:round;}\r\n",
       "  </style>\r\n",
       " </defs>\r\n",
       " <g id=\"figure_1\">\r\n",
       "  <g id=\"patch_1\">\r\n",
       "   <path d=\"M 0 41.58 \r\n",
       "L 41.58 41.58 \r\n",
       "L 41.58 0 \r\n",
       "L 0 0 \r\n",
       "z\r\n",
       "\" style=\"fill:#ffffff;\"/>\r\n",
       "  </g>\r\n",
       "  <g id=\"axes_1\">\r\n",
       "   <g clip-path=\"url(#p24be328aef)\">\r\n",
       "    <image height=\"28\" id=\"imagea40c09bcf3\" transform=\"scale(1 -1)translate(0 -28)\" width=\"28\" x=\"7.2\" xlink:href=\"data:image/png;base64,\r\n",
       "iVBORw0KGgoAAAANSUhEUgAAABwAAAAcCAYAAAByDd+UAAAABHNCSVQICAgIfAhkiAAAArdJREFUSIntlj1LK0EUhl9vINVKiqCiIGIQEdFqNYQoprPQQoLiTwikshFSCWkEq2jtH9AyGFIoGFJoiJJG7YLYWPgFq0GMbjzDe4uLgx+bZE0hFvfAKZY55zzzzpyZ2TYAxA/an5+E/U7g4OAgNjc3ISIQEWxtbSGRSCCRSLQMpZOHQiFeXl7y8fGRIuLo6XSak5OTjvkN3HlgY2ODtm3XhYkIlVKsVCqMx+P0+XytA2OxGGu1mi68v7/P2dlZDg0NaV9aWqJS6oPacDjcGjCXy+lCCwsLNAzDMTkYDDKTyfDp6YkiwuPjY46NjX0fWC6XdQG/39901slkUk+wUCg0jPUASH7uovHxcYyOjqK7uxu1Wg35fL5R0+Hi4gKWZSEUCsHn8yEQCODg4AC2bTvGN1zSWCzmugP39vZ0Xjwed4xxPIfZbBbkvxtvZmYGHo+nocI3K5VKqFarAADTNOH1et0pBMBKpUKlFJVSbhpB+8rKCpVSvL+/p2ma7hQCQD6fB0mQxOrqqiuFALC7uwuSaG9vRzAYdK/QNE1alkUR4cvLC6emplwp7Onp4enpKUWElmUxEom4u2kMw2Amk9FNUCqV2Nvb2xTo9XqZzWY10CGmfvLIyAivrq40dG5urilwYmKChUKBIsLDw0P3ewgA19fXSKVS+nttbQ3r6+uNUhAOh/Xe3d3dfRl3PPhvVq1WcX5+jmKxCNM0MTAwAMMwEI1G0dXVhdfXV9zc3MDv92N4eBgk0dfXh/7+fnR0dKBcLmN7e/tL3abL1NnZyZ2dHT48PHx5LdLpNI+OjigiPDk50WOpVIqBQOB7e/jZFxcXP7yP71+L9357e8v5+fl6ddwDATAajfL5+dkRaNs2z87O6ilrDQiA09PTzOVyJKlvI6UUl5eXm+a2vVF/yn7fX9t/4HftL49GLaLJpYc+AAAAAElFTkSuQmCC\" y=\"-6.38\"/>\r\n",
       "   </g>\r\n",
       "  </g>\r\n",
       " </g>\r\n",
       " <defs>\r\n",
       "  <clipPath id=\"p24be328aef\">\r\n",
       "   <rect height=\"27.18\" width=\"27.18\" x=\"7.2\" y=\"7.2\"/>\r\n",
       "  </clipPath>\r\n",
       " </defs>\r\n",
       "</svg>\r\n"
      ],
      "text/plain": [
       "<Figure size 36x36 with 1 Axes>"
      ]
     },
     "metadata": {},
     "output_type": "display_data"
    },
    {
     "data": {
      "image/png": "[encoded data removed]",
      "image/svg+xml": [
       "<?xml version=\"1.0\" encoding=\"utf-8\" standalone=\"no\"?>\r\n",
       "<!DOCTYPE svg PUBLIC \"-//W3C//DTD SVG 1.1//EN\"\r\n",
       "  \"http://www.w3.org/Graphics/SVG/1.1/DTD/svg11.dtd\">\r\n",
       "<!-- Created with matplotlib (https://matplotlib.org/) -->\r\n",
       "<svg height=\"41.58pt\" version=\"1.1\" viewBox=\"0 0 41.58 41.58\" width=\"41.58pt\" xmlns=\"http://www.w3.org/2000/svg\" xmlns:xlink=\"http://www.w3.org/1999/xlink\">\r\n",
       " <defs>\r\n",
       "  <style type=\"text/css\">\r\n",
       "*{stroke-linecap:butt;stroke-linejoin:round;}\r\n",
       "  </style>\r\n",
       " </defs>\r\n",
       " <g id=\"figure_1\">\r\n",
       "  <g id=\"patch_1\">\r\n",
       "   <path d=\"M 0 41.58 \r\n",
       "L 41.58 41.58 \r\n",
       "L 41.58 0 \r\n",
       "L 0 0 \r\n",
       "z\r\n",
       "\" style=\"fill:#ffffff;\"/>\r\n",
       "  </g>\r\n",
       "  <g id=\"axes_1\">\r\n",
       "   <g clip-path=\"url(#p8ceb039743)\">\r\n",
       "    <image height=\"28\" id=\"image7964591088\" transform=\"scale(1 -1)translate(0 -28)\" width=\"28\" x=\"7.2\" xlink:href=\"data:image/png;base64,\r\n",
       "iVBORw0KGgoAAAANSUhEUgAAABwAAAAcCAYAAAByDd+UAAAABHNCSVQICAgIfAhkiAAAAfNJREFUSIntlq2rKlEUxffV5yAOKAYnTBH8AJNim2Cx2SwGgyJm/wSjitgEMYjRYNExWMdiUEEshhFEUDAIBhXBeFyvPCdcL45f93LD27Bgwt7nd846rMN8EBHoB8vwk7DfC8xkMjSZTIgxRoPBgGq1GkmSRDzPPwXFLdntdhwOBzDGrjSbzRAIBGAymW6u8Um3GxwOhwZot9uo1+tX4GazCUEQ3gPkeR7j8RitVgsWiwUcx8HtdqNQKGC5XGrQTqcDo9H4OvCWXC4Xer2eBk2n098LJCL4fD5st1swxtDtdr8fSERQVRWMMazXa93el3MYj8dJEAQiImo0GnfNvGTnZrPR7jCRSOjOfPz70C1RFCmVStHpdCKv10tERLFYTDudoigUiUQI0F9Od1dOpxOLxeLL8DPGMBwO4fF47nVGv6lUKl1Bjscj+v0+crkcbDbb3dfw5x47LxYSEVWrVZJlmVarFa1Wq3vGr0p3V7IsayezWq0vRejhWASDwadOdamHgfl8nqLRKBkMz0f4IUsvUlUVyWQSoig+auvtBrPZjHK5jOl0+mUkdrsdFEVBNpuF3+9/TyyICBzHged5hMNhVCoVzOfzK/h+v0coFHoP8LN4nockSajX6xiNRjifzwCAYrF4c+7up+1d9Tv/2v4DH6m/WHCUaonlo44AAAAASUVORK5CYII=\" y=\"-6.38\"/>\r\n",
       "   </g>\r\n",
       "  </g>\r\n",
       " </g>\r\n",
       " <defs>\r\n",
       "  <clipPath id=\"p8ceb039743\">\r\n",
       "   <rect height=\"27.18\" width=\"27.18\" x=\"7.2\" y=\"7.2\"/>\r\n",
       "  </clipPath>\r\n",
       " </defs>\r\n",
       "</svg>\r\n"
      ],
      "text/plain": [
       "<Figure size 36x36 with 1 Axes>"
      ]
     },
     "metadata": {},
     "output_type": "display_data"
    },
    {
     "data": {
      "image/png": "[encoded data removed]",
      "image/svg+xml": [
       "<?xml version=\"1.0\" encoding=\"utf-8\" standalone=\"no\"?>\r\n",
       "<!DOCTYPE svg PUBLIC \"-//W3C//DTD SVG 1.1//EN\"\r\n",
       "  \"http://www.w3.org/Graphics/SVG/1.1/DTD/svg11.dtd\">\r\n",
       "<!-- Created with matplotlib (https://matplotlib.org/) -->\r\n",
       "<svg height=\"41.58pt\" version=\"1.1\" viewBox=\"0 0 41.58 41.58\" width=\"41.58pt\" xmlns=\"http://www.w3.org/2000/svg\" xmlns:xlink=\"http://www.w3.org/1999/xlink\">\r\n",
       " <defs>\r\n",
       "  <style type=\"text/css\">\r\n",
       "*{stroke-linecap:butt;stroke-linejoin:round;}\r\n",
       "  </style>\r\n",
       " </defs>\r\n",
       " <g id=\"figure_1\">\r\n",
       "  <g id=\"patch_1\">\r\n",
       "   <path d=\"M 0 41.58 \r\n",
       "L 41.58 41.58 \r\n",
       "L 41.58 0 \r\n",
       "L 0 0 \r\n",
       "z\r\n",
       "\" style=\"fill:#ffffff;\"/>\r\n",
       "  </g>\r\n",
       "  <g id=\"axes_1\">\r\n",
       "   <g clip-path=\"url(#pc477af3e1a)\">\r\n",
       "    <image height=\"28\" id=\"image4e8f10c8f0\" transform=\"scale(1 -1)translate(0 -28)\" width=\"28\" x=\"7.2\" xlink:href=\"data:image/png;base64,\r\n",
       "iVBORw0KGgoAAAANSUhEUgAAABwAAAAcCAYAAAByDd+UAAAABHNCSVQICAgIfAhkiAAAAdVJREFUSIntljGr4kAQx/+5OyJGbMRmo2Aj21i5lTaKliKKYGFvYWNjbXMfwFr9CBaCH0GIBIL4EewCWoggpFHJMq94JHjw8s7Iy13zBqZYMrO/zJ+Z3VUAEP6h/QgTXK1WIaWEbdvI5XLRA4UQAADGGPr9/ktA4F3Sp1zXdZJSkuu6tNlsKB6PP5374OESiIiklCSlpGw2Gxr4E8DvMHIoioJKpQIASCQSMAwD9/s9zBbh/lDTNDJNk1zXJdd1aTQaRSspAOp0Oj7QsqxoJQWA6/WKfD4PzjkYYwAAwzCezn+l06jZbNLtdiMpJdm2TYVCITpJPbcsyx+TxWIRPfDFuXwdCIB2u50/l61WK3pgu932O3a73UYP1DSNlsulD2WMRQsEQKVSyQdOp9NPYwPnkHMOwzAwHA6hqirK5TJisRjS6TSOx+MfsafTCYwxCCHAOcdqtcL5fP5oWwRW6B1fXhd6/riezWY0mUyoVqvRYDDwv3e73fCSjsfjvwKD1p8BfwWVPZ/PcblckEwmUSwWAQCNRgP7/R6pVAqZTObDPNM0sV6vA+VUvDKfMV3X4TgOVFWFpmkQQvhXVa/Xw+FwQL1eh+M4XwP8Cgv1pvkGfgP/C/ANiNNlnvhDZS4AAAAASUVORK5CYII=\" y=\"-6.38\"/>\r\n",
       "   </g>\r\n",
       "  </g>\r\n",
       " </g>\r\n",
       " <defs>\r\n",
       "  <clipPath id=\"pc477af3e1a\">\r\n",
       "   <rect height=\"27.18\" width=\"27.18\" x=\"7.2\" y=\"7.2\"/>\r\n",
       "  </clipPath>\r\n",
       " </defs>\r\n",
       "</svg>\r\n"
      ],
      "text/plain": [
       "<Figure size 36x36 with 1 Axes>"
      ]
     },
     "metadata": {},
     "output_type": "display_data"
    },
    {
     "data": {
      "image/png": "[encoded data removed]",
      "image/svg+xml": [
       "<?xml version=\"1.0\" encoding=\"utf-8\" standalone=\"no\"?>\r\n",
       "<!DOCTYPE svg PUBLIC \"-//W3C//DTD SVG 1.1//EN\"\r\n",
       "  \"http://www.w3.org/Graphics/SVG/1.1/DTD/svg11.dtd\">\r\n",
       "<!-- Created with matplotlib (https://matplotlib.org/) -->\r\n",
       "<svg height=\"41.58pt\" version=\"1.1\" viewBox=\"0 0 41.58 41.58\" width=\"41.58pt\" xmlns=\"http://www.w3.org/2000/svg\" xmlns:xlink=\"http://www.w3.org/1999/xlink\">\r\n",
       " <defs>\r\n",
       "  <style type=\"text/css\">\r\n",
       "*{stroke-linecap:butt;stroke-linejoin:round;}\r\n",
       "  </style>\r\n",
       " </defs>\r\n",
       " <g id=\"figure_1\">\r\n",
       "  <g id=\"patch_1\">\r\n",
       "   <path d=\"M 0 41.58 \r\n",
       "L 41.58 41.58 \r\n",
       "L 41.58 0 \r\n",
       "L 0 0 \r\n",
       "z\r\n",
       "\" style=\"fill:#ffffff;\"/>\r\n",
       "  </g>\r\n",
       "  <g id=\"axes_1\">\r\n",
       "   <g clip-path=\"url(#p77227f3ba1)\">\r\n",
       "    <image height=\"28\" id=\"image9677697b5d\" transform=\"scale(1 -1)translate(0 -28)\" width=\"28\" x=\"7.2\" xlink:href=\"data:image/png;base64,\r\n",
       "iVBORw0KGgoAAAANSUhEUgAAABwAAAAcCAYAAAByDd+UAAAABHNCSVQICAgIfAhkiAAAAgBJREFUSIntlr+PKVEUx7/7QiEqQeIPEIVqgopKoZBoFKIxEQr/gF4jGaLdCI0wkejUGo1aIqLWSfzoJFRyr+8WL26e3beefW/IFu8kp5gzc+7nnl/3zgsA4ony45mw7wusVCqQUkIIASEEFosFMpnMX0N5S2OxGA+HA6WUFEJcqWmajEajN/3f6x8jjMfjcDgcOJ1OKJfL6HQ6OB6PAIBcLodUKgW3221dhIPBgEIIrtdrZUun01dRJxKJr0R5+wNd19XCtVpN2ZPJJElSSsnhcGgdEACXyyWllNxsNvT7/cp+2choNLKuhgBQrVYBAF6vF81mE6FQ6B63T+WunTUaDdWdq9WKo9FIRdhut61NKQDa7XbW6/WrsXhI07yHNhoNSikppSRJbrdbBgIBa2v4q0QiEZAESZzPZ3g8HhSLRdhstrvXuDu6Wq2m0rndbrnb7dSzYRi02WzWpdTn8101jaZp1DSNq9VK2TOZzGOAvV5P2cPh8BU0n89bB7w0i2maV+80TeNut1OHQzAY/Heg0+nkZDKhEIKLxeJD+nRdV6NSKpWsGYtAIMD9fq/SVygU6HK5PgBns5k1QAA0DENBpZScz+dstVocj8ePAQI/r6fpdPrbS1lKyX6/by3wUtNsNstut6ua6fX1lalUig6H41O/lwv1WfI9/9r+A78ib/3EEjJgIC/xAAAAAElFTkSuQmCC\" y=\"-6.38\"/>\r\n",
       "   </g>\r\n",
       "  </g>\r\n",
       " </g>\r\n",
       " <defs>\r\n",
       "  <clipPath id=\"p77227f3ba1\">\r\n",
       "   <rect height=\"27.18\" width=\"27.18\" x=\"7.2\" y=\"7.2\"/>\r\n",
       "  </clipPath>\r\n",
       " </defs>\r\n",
       "</svg>\r\n"
      ],
      "text/plain": [
       "<Figure size 36x36 with 1 Axes>"
      ]
     },
     "metadata": {},
     "output_type": "display_data"
    },
    {
     "data": {
      "image/png": "[encoded data removed]",
      "image/svg+xml": [
       "<?xml version=\"1.0\" encoding=\"utf-8\" standalone=\"no\"?>\r\n",
       "<!DOCTYPE svg PUBLIC \"-//W3C//DTD SVG 1.1//EN\"\r\n",
       "  \"http://www.w3.org/Graphics/SVG/1.1/DTD/svg11.dtd\">\r\n",
       "<!-- Created with matplotlib (https://matplotlib.org/) -->\r\n",
       "<svg height=\"41.58pt\" version=\"1.1\" viewBox=\"0 0 41.58 41.58\" width=\"41.58pt\" xmlns=\"http://www.w3.org/2000/svg\" xmlns:xlink=\"http://www.w3.org/1999/xlink\">\r\n",
       " <defs>\r\n",
       "  <style type=\"text/css\">\r\n",
       "*{stroke-linecap:butt;stroke-linejoin:round;}\r\n",
       "  </style>\r\n",
       " </defs>\r\n",
       " <g id=\"figure_1\">\r\n",
       "  <g id=\"patch_1\">\r\n",
       "   <path d=\"M 0 41.58 \r\n",
       "L 41.58 41.58 \r\n",
       "L 41.58 0 \r\n",
       "L 0 0 \r\n",
       "z\r\n",
       "\" style=\"fill:#ffffff;\"/>\r\n",
       "  </g>\r\n",
       "  <g id=\"axes_1\">\r\n",
       "   <g clip-path=\"url(#p58b37096f6)\">\r\n",
       "    <image height=\"28\" id=\"image423bcca238\" transform=\"scale(1 -1)translate(0 -28)\" width=\"28\" x=\"7.2\" xlink:href=\"data:image/png;base64,\r\n",
       "iVBORw0KGgoAAAANSUhEUgAAABwAAAAcCAYAAAByDd+UAAAABHNCSVQICAgIfAhkiAAAAj1JREFUSInllr2q4mAQhr+zbKOYKoUoBrsg6D2IvegFaCNoYWtjlYBegWBh4wUoVhaClRwEK8VCEIM2/jQiCIqgRDK+p0owe6KJu6zF7geBhBm+Z5h3fvLBGAN74/nxTtj/Afzp1JHneZbJZJjX62WFQoEBYPP5nG23WzYej1mn02GTyYTt93vbu2D3NBoNLJdLaJoGTdNARMb7/fdyuUQ4HLa77zlMkqRvgNPphNVqZRnAZrOBKIq/B5RlGdfrFbfbDUQERVEQCoXg9/vB8zwEQYAgCEin01AUBUQEIsJ6vX4GtYYVi0Uj6uv1CkmSbFMvyzJUVQURod1uIxgMOgPyPG/STJZlW9g9VE9xuVx2BhQEwaSZU5j+KIoCTdPQaDScAUulkqHHcDh8GZhOp0FEOJ1O8Pl8Jptl43s8HgaAAWCfn59WLk9Pr9dj5/OZuVwuVigUTLa/MmlUVX04ACyBi8Xij4But5sFAoGHdsui0TU8Ho8va3hfA6FQyL5oOI7DeDw2qpTjOEcgt9uNRCJhtEW9Xnfe+JVKxQD2+33bGSmKIlqtljHqZrMZIpGIc6AoitjtdsYFh8PhGzQWi6Hb7WIwGBi+eoA8zz8K7nHUmUwGRAQAICLk83nDlsvlcLlcQETGrNX71kaC52maTqembVCr1cAYQ7PZNM3a1WqFbDbrRGv7YqhWq6aU/bof4/H4K1XszDEajWIwGFgu4BdgzoF62SeTSYxGI2M/plKpl4AfOvVd59//TXw78AvEq1cuHCK9UwAAAABJRU5ErkJggg==\" y=\"-6.38\"/>\r\n",
       "   </g>\r\n",
       "  </g>\r\n",
       " </g>\r\n",
       " <defs>\r\n",
       "  <clipPath id=\"p58b37096f6\">\r\n",
       "   <rect height=\"27.18\" width=\"27.18\" x=\"7.2\" y=\"7.2\"/>\r\n",
       "  </clipPath>\r\n",
       " </defs>\r\n",
       "</svg>\r\n"
      ],
      "text/plain": [
       "<Figure size 36x36 with 1 Axes>"
      ]
     },
     "metadata": {},
     "output_type": "display_data"
    },
    {
     "data": {
      "image/png": "[encoded data removed]",
      "image/svg+xml": [
       "<?xml version=\"1.0\" encoding=\"utf-8\" standalone=\"no\"?>\r\n",
       "<!DOCTYPE svg PUBLIC \"-//W3C//DTD SVG 1.1//EN\"\r\n",
       "  \"http://www.w3.org/Graphics/SVG/1.1/DTD/svg11.dtd\">\r\n",
       "<!-- Created with matplotlib (https://matplotlib.org/) -->\r\n",
       "<svg height=\"41.58pt\" version=\"1.1\" viewBox=\"0 0 41.58 41.58\" width=\"41.58pt\" xmlns=\"http://www.w3.org/2000/svg\" xmlns:xlink=\"http://www.w3.org/1999/xlink\">\r\n",
       " <defs>\r\n",
       "  <style type=\"text/css\">\r\n",
       "*{stroke-linecap:butt;stroke-linejoin:round;}\r\n",
       "  </style>\r\n",
       " </defs>\r\n",
       " <g id=\"figure_1\">\r\n",
       "  <g id=\"patch_1\">\r\n",
       "   <path d=\"M 0 41.58 \r\n",
       "L 41.58 41.58 \r\n",
       "L 41.58 0 \r\n",
       "L 0 0 \r\n",
       "z\r\n",
       "\" style=\"fill:#ffffff;\"/>\r\n",
       "  </g>\r\n",
       "  <g id=\"axes_1\">\r\n",
       "   <g clip-path=\"url(#p00accbbe23)\">\r\n",
       "    <image height=\"28\" id=\"image1e8392a8dc\" transform=\"scale(1 -1)translate(0 -28)\" width=\"28\" x=\"7.2\" xlink:href=\"data:image/png;base64,\r\n",
       "iVBORw0KGgoAAAANSUhEUgAAABwAAAAcCAYAAAByDd+UAAAABHNCSVQICAgIfAhkiAAAAjpJREFUSIntlrFr6lAUxr9GqiBCh9KlRTu4SNPBpXNwlGaI/0HBwborCC6uQtOCU6FDt4IgdHKQTqWIOLiaDmoLkWQQ1FKI1MZ73uSlee9FtEWX9w58yznh++WeLxeyBYCwwRI2CfsP/EeA+/v7yGQyaDQaYIw5pOs6zs/PV4aSm4LBILVaLWKMucq2bTIMg87Ozmh7e9vV64vch9lsdiHsd93e3pLf7/8+sN1uc7OLiwuSJImm0ynvXV1d0fX1NZmmyXs3NzcUCAS+B3x6euJGuVyOANDz8zN9fn4SY4yGwyElEglSVZW63S7NZjMOXXBSd6Asyxw4Ho95//Lykmzb5rNMJkM+n48GgwHvnZ6e/gw4mUxIkiQ+KxaLjvweHx+pWq3+DOjxeBxrzefzfBaJROju7s71A/oW8ODggDRN4yblcpkEQeBzr9dL9/f3f8BqtRpFo9G/HwJAAS4lCAJOTk4giiIAQBRFWJaFer0OAJjNZmg2m3h7e4Nt23h5eUEqlYKqqtB13c128UXd2dlxrPX19ZWOj4+XueCrr3QuRVHo/f2dQ3u9Hh0eHq4PCIDi8bgjp0Kh4MhzWS3M8Gv1+30AwMfHB8LhMCRJQigUQqfTwWAwWMaC10pvGIvFHOs1DGPVTFfPQVEUGo1GHGqaJh0dHa0PCICSyaQjU13XSRTF9QH39vaoVqs5oLIsrw8IgHZ3d+nh4YEsyyLGGGmaRul0en3AuUqlEs2rUqksfHZrTt1Ubfyv7RfKGoRFc+CV4gAAAABJRU5ErkJggg==\" y=\"-6.38\"/>\r\n",
       "   </g>\r\n",
       "  </g>\r\n",
       " </g>\r\n",
       " <defs>\r\n",
       "  <clipPath id=\"p00accbbe23\">\r\n",
       "   <rect height=\"27.18\" width=\"27.18\" x=\"7.2\" y=\"7.2\"/>\r\n",
       "  </clipPath>\r\n",
       " </defs>\r\n",
       "</svg>\r\n"
      ],
      "text/plain": [
       "<Figure size 36x36 with 1 Axes>"
      ]
     },
     "metadata": {},
     "output_type": "display_data"
    },
    {
     "data": {
      "image/png": "[encoded data removed]",
      "image/svg+xml": [
       "<?xml version=\"1.0\" encoding=\"utf-8\" standalone=\"no\"?>\r\n",
       "<!DOCTYPE svg PUBLIC \"-//W3C//DTD SVG 1.1//EN\"\r\n",
       "  \"http://www.w3.org/Graphics/SVG/1.1/DTD/svg11.dtd\">\r\n",
       "<!-- Created with matplotlib (https://matplotlib.org/) -->\r\n",
       "<svg height=\"41.58pt\" version=\"1.1\" viewBox=\"0 0 41.58 41.58\" width=\"41.58pt\" xmlns=\"http://www.w3.org/2000/svg\" xmlns:xlink=\"http://www.w3.org/1999/xlink\">\r\n",
       " <defs>\r\n",
       "  <style type=\"text/css\">\r\n",
       "*{stroke-linecap:butt;stroke-linejoin:round;}\r\n",
       "  </style>\r\n",
       " </defs>\r\n",
       " <g id=\"figure_1\">\r\n",
       "  <g id=\"patch_1\">\r\n",
       "   <path d=\"M 0 41.58 \r\n",
       "L 41.58 41.58 \r\n",
       "L 41.58 0 \r\n",
       "L 0 0 \r\n",
       "z\r\n",
       "\" style=\"fill:#ffffff;\"/>\r\n",
       "  </g>\r\n",
       "  <g id=\"axes_1\">\r\n",
       "   <g clip-path=\"url(#pb7df1479db)\">\r\n",
       "    <image height=\"28\" id=\"image00ca78d9b4\" transform=\"scale(1 -1)translate(0 -28)\" width=\"28\" x=\"7.2\" xlink:href=\"data:image/png;base64,\r\n",
       "iVBORw0KGgoAAAANSUhEUgAAABwAAAAcCAYAAAByDd+UAAAABHNCSVQICAgIfAhkiAAAARZJREFUSIntljGOg0AMRf+AhATVVNTQcABIQ0nFLWg4AQfgIFyABKXmBDTpoeUGCNFAhexUm2qLDKthd6VYsuTm68lftmcEAMaJYZwJ+wC/jaIosG0bqqo6DGWV7LqOiYgfj4eS7iv/vqW/AhRCnAtkZhiGAdM09QOnaQIAXC4XRFGkH9g0jTLkR8BhGLCuKwAgz/NDUOVd6vueiYjHcWTHcfTv4f1+BwD4vg/LsvR36HkeExETEUsp9XeYZdmrTtNUSXsIeLvdXnUQBMp6ZUuFEHy9XpmIuG1b/ZYyM/Z9BwDEcQzXdd/WHj7edV0DAKSUSJJEP3Ce50O6058n4MDQAGDbtrksS16WhcMwfH/g8PmX/nfgE00p2NK0tsfQAAAAAElFTkSuQmCC\" y=\"-6.38\"/>\r\n",
       "   </g>\r\n",
       "  </g>\r\n",
       " </g>\r\n",
       " <defs>\r\n",
       "  <clipPath id=\"pb7df1479db\">\r\n",
       "   <rect height=\"27.18\" width=\"27.18\" x=\"7.2\" y=\"7.2\"/>\r\n",
       "  </clipPath>\r\n",
       " </defs>\r\n",
       "</svg>\r\n"
      ],
      "text/plain": [
       "<Figure size 36x36 with 1 Axes>"
      ]
     },
     "metadata": {},
     "output_type": "display_data"
    },
    {
     "data": {
      "image/png": "[encoded data removed]",
      "image/svg+xml": [
       "<?xml version=\"1.0\" encoding=\"utf-8\" standalone=\"no\"?>\r\n",
       "<!DOCTYPE svg PUBLIC \"-//W3C//DTD SVG 1.1//EN\"\r\n",
       "  \"http://www.w3.org/Graphics/SVG/1.1/DTD/svg11.dtd\">\r\n",
       "<!-- Created with matplotlib (https://matplotlib.org/) -->\r\n",
       "<svg height=\"41.58pt\" version=\"1.1\" viewBox=\"0 0 41.58 41.58\" width=\"41.58pt\" xmlns=\"http://www.w3.org/2000/svg\" xmlns:xlink=\"http://www.w3.org/1999/xlink\">\r\n",
       " <defs>\r\n",
       "  <style type=\"text/css\">\r\n",
       "*{stroke-linecap:butt;stroke-linejoin:round;}\r\n",
       "  </style>\r\n",
       " </defs>\r\n",
       " <g id=\"figure_1\">\r\n",
       "  <g id=\"patch_1\">\r\n",
       "   <path d=\"M 0 41.58 \r\n",
       "L 41.58 41.58 \r\n",
       "L 41.58 0 \r\n",
       "L 0 0 \r\n",
       "z\r\n",
       "\" style=\"fill:#ffffff;\"/>\r\n",
       "  </g>\r\n",
       "  <g id=\"axes_1\">\r\n",
       "   <g clip-path=\"url(#p44014b06a6)\">\r\n",
       "    <image height=\"28\" id=\"image3ae3959e0f\" transform=\"scale(1 -1)translate(0 -28)\" width=\"28\" x=\"7.2\" xlink:href=\"data:image/png;base64,\r\n",
       "iVBORw0KGgoAAAANSUhEUgAAABwAAAAcCAYAAAByDd+UAAAABHNCSVQICAgIfAhkiAAAAYZJREFUSIntlLGKwkAYhL87VKwCKqKVWGytaUULxUbwKbSz9IXUN7AS7PQBUoilQRIRG0GMlY3sf5VB8YoYjNwdN7Cw2d3JsDP/vx+A8EZ8hiGl02kWiwVaa1qtVvSC1WqVUqkUhhpO0LIsf95ut6MX9DyP+XwOQLlcjl7wfD7jui4AhmFgGMZTfAkzGo2GaK1Fay21Wi0wL9QNAbbbrT/vdruBeaEFb5HL5aIXPJ1OrNdrAAqFAtlsNjA3VIaA9Pt9uaLX60WbIcBsNkNEEBHq9XogzksyBEgmk8RisUBnQ1uayWRkuVz67aGUitbSw+HAbrd7ivMyS3+s4Lcpp1Ipms2m/z2dTsnn87iuy+VywTRNlFLAc01/xV2oxWJRNpuNXwhaa3EcR/b7vdi2LbZty/F4vNvXWstkMpFEIhGk2O4XlFIPP7sdIvKw5jiOdDqdQJX9YKnneQyHQ/9BHgwGjMdj4vE4pmliWRaVSuWOMxqNWK1Wgez8uF7zXfj7bfEv+PsFvwAwSkEcJT3qmQAAAABJRU5ErkJggg==\" y=\"-6.38\"/>\r\n",
       "   </g>\r\n",
       "  </g>\r\n",
       " </g>\r\n",
       " <defs>\r\n",
       "  <clipPath id=\"p44014b06a6\">\r\n",
       "   <rect height=\"27.18\" width=\"27.18\" x=\"7.2\" y=\"7.2\"/>\r\n",
       "  </clipPath>\r\n",
       " </defs>\r\n",
       "</svg>\r\n"
      ],
      "text/plain": [
       "<Figure size 36x36 with 1 Axes>"
      ]
     },
     "metadata": {},
     "output_type": "display_data"
    },
    {
     "data": {
      "image/png": "[encoded data removed]",
      "image/svg+xml": [
       "<?xml version=\"1.0\" encoding=\"utf-8\" standalone=\"no\"?>\r\n",
       "<!DOCTYPE svg PUBLIC \"-//W3C//DTD SVG 1.1//EN\"\r\n",
       "  \"http://www.w3.org/Graphics/SVG/1.1/DTD/svg11.dtd\">\r\n",
       "<!-- Created with matplotlib (https://matplotlib.org/) -->\r\n",
       "<svg height=\"41.58pt\" version=\"1.1\" viewBox=\"0 0 41.58 41.58\" width=\"41.58pt\" xmlns=\"http://www.w3.org/2000/svg\" xmlns:xlink=\"http://www.w3.org/1999/xlink\">\r\n",
       " <defs>\r\n",
       "  <style type=\"text/css\">\r\n",
       "*{stroke-linecap:butt;stroke-linejoin:round;}\r\n",
       "  </style>\r\n",
       " </defs>\r\n",
       " <g id=\"figure_1\">\r\n",
       "  <g id=\"patch_1\">\r\n",
       "   <path d=\"M 0 41.58 \r\n",
       "L 41.58 41.58 \r\n",
       "L 41.58 0 \r\n",
       "L 0 0 \r\n",
       "z\r\n",
       "\" style=\"fill:#ffffff;\"/>\r\n",
       "  </g>\r\n",
       "  <g id=\"axes_1\">\r\n",
       "   <g clip-path=\"url(#pae150bf7a5)\">\r\n",
       "    <image height=\"28\" id=\"image87e417e97d\" transform=\"scale(1 -1)translate(0 -28)\" width=\"28\" x=\"7.2\" xlink:href=\"data:image/png;base64,\r\n",
       "iVBORw0KGgoAAAANSUhEUgAAABwAAAAcCAYAAAByDd+UAAAABHNCSVQICAgIfAhkiAAAActJREFUSIntljGr4kAUhc/IVrZJSm2dtEqwUf+Dtgp2sbWwEe0ES1vFMnXA3yBoFbERJLZWBstpMzlbPXnLW31ZElwWduAyxdzJd8/lniQCAPHGVXgnLBeg53mIogjlcjn1HWaJw+FAkvR9P+2dbEApJbXWjOM4VX7mltq2jUKhACFEqvzMQMuykCQJyHTD/iMrEEBqdUBOtiCJ9Xr9HqCUEkIIdDqdVPnfttQ0TfR6PVQqFQDAZrPB9XpFGIYAgGazCZIwDCN1kU9H2LIsBkHAJEmotX7sSil6nkcp5eM8Fx+uVivGcUytNU+nE4MgoFLq4bvP+3K5zO5D27YhhMB8Pke9XofjOHAcB6PRCPv9HkKIR/zJelrNqzeIlJJRFOWr8FX1YRii3+8/ci6XS3aF2+2WcRxzPB4/HSrP86i1ZrVaza4wDEMIITAYDGCa5pfz+/2O3W4HIQRs206l7iVwOp3ieDyiVCrhdruh2+2iWCz+kmMYBkii0WikAgLftKDVavF8Pj986Ps+Xdel67qcTCZUSjFJEg6Hw/y+h5ZlcbFY/NZ/cRxTKUUpZX7Aj6jVapzNZl8Ut9vt1M8QH9R3rX/vr+0/8K8DfwJHT+A1/0ui4gAAAABJRU5ErkJggg==\" y=\"-6.38\"/>\r\n",
       "   </g>\r\n",
       "  </g>\r\n",
       " </g>\r\n",
       " <defs>\r\n",
       "  <clipPath id=\"pae150bf7a5\">\r\n",
       "   <rect height=\"27.18\" width=\"27.18\" x=\"7.2\" y=\"7.2\"/>\r\n",
       "  </clipPath>\r\n",
       " </defs>\r\n",
       "</svg>\r\n"
      ],
      "text/plain": [
       "<Figure size 36x36 with 1 Axes>"
      ]
     },
     "metadata": {},
     "output_type": "display_data"
    },
    {
     "data": {
      "image/png": "[encoded data removed]",
      "image/svg+xml": [
       "<?xml version=\"1.0\" encoding=\"utf-8\" standalone=\"no\"?>\r\n",
       "<!DOCTYPE svg PUBLIC \"-//W3C//DTD SVG 1.1//EN\"\r\n",
       "  \"http://www.w3.org/Graphics/SVG/1.1/DTD/svg11.dtd\">\r\n",
       "<!-- Created with matplotlib (https://matplotlib.org/) -->\r\n",
       "<svg height=\"41.58pt\" version=\"1.1\" viewBox=\"0 0 41.58 41.58\" width=\"41.58pt\" xmlns=\"http://www.w3.org/2000/svg\" xmlns:xlink=\"http://www.w3.org/1999/xlink\">\r\n",
       " <defs>\r\n",
       "  <style type=\"text/css\">\r\n",
       "*{stroke-linecap:butt;stroke-linejoin:round;}\r\n",
       "  </style>\r\n",
       " </defs>\r\n",
       " <g id=\"figure_1\">\r\n",
       "  <g id=\"patch_1\">\r\n",
       "   <path d=\"M 0 41.58 \r\n",
       "L 41.58 41.58 \r\n",
       "L 41.58 0 \r\n",
       "L 0 0 \r\n",
       "z\r\n",
       "\" style=\"fill:#ffffff;\"/>\r\n",
       "  </g>\r\n",
       "  <g id=\"axes_1\">\r\n",
       "   <g clip-path=\"url(#p804666a91d)\">\r\n",
       "    <image height=\"28\" id=\"image8c5e362d48\" transform=\"scale(1 -1)translate(0 -28)\" width=\"28\" x=\"7.2\" xlink:href=\"data:image/png;base64,\r\n",
       "iVBORw0KGgoAAAANSUhEUgAAABwAAAAcCAYAAAByDd+UAAAABHNCSVQICAgIfAhkiAAAAfxJREFUSIntlrGv6WAYxl9VaULSWBhMZxCLVSSWJkaTUcQf0EGEgYnBZrVgMWmIwUJiwEpEbMQ/0FgsXXRBfc+dTnPlctXVc3KG+yTP0L5vv1/69X2+1EFEoG8U952wnwkMBoM0mUyIMXZjRVEomUz+ExSP7Ha7cTgcwBi7a8Mw0G634ff7H65xx4+LqVQKjDFst1soigJFUdDv9/8Ar9dr+Hy+94GVSgX1eh1Op9O853A44HK5kM/nsVwuTehms7EKfVwURRHpdPphneM4yLKM4/EIxhhqtdp7QKvudDpgjGE6nT7ttSUW+/3ecq8tQEEQiIhot9tZ6n+6DYVCAcPhEOVyGV6v96YWjUahaRoMw4AkSU/XcpCFs3S73VI4HCYiIl3XaTabkaqqRESUSCQoFArRfD4nSZLsecNqtfow/IwxXC4X5HK593P4aUEQ0Gg0cD6f7wKbzeYrU219/IPBIIrFIsbj8Q18NBrB7XbbD/zd8Xgcqqqa0MFgAJ7nvzb4PM9jsViY0Ewm87XBNwyDZFmm4/Fo+RneaiPHcRSLxYiIaLVaERHR9XolXdcJeJqsG1navmw2ezOZmqah1+uZ1+fzGR8fH/Z9w263+9cstlqt16fU4/EgEAjcbYxEIjidTibgU4wxlEoliKJoCWjpaLNTP++v7T/wVf0CBl28FZawFAQAAAAASUVORK5CYII=\" y=\"-6.38\"/>\r\n",
       "   </g>\r\n",
       "  </g>\r\n",
       " </g>\r\n",
       " <defs>\r\n",
       "  <clipPath id=\"p804666a91d\">\r\n",
       "   <rect height=\"27.18\" width=\"27.18\" x=\"7.2\" y=\"7.2\"/>\r\n",
       "  </clipPath>\r\n",
       " </defs>\r\n",
       "</svg>\r\n"
      ],
      "text/plain": [
       "<Figure size 36x36 with 1 Axes>"
      ]
     },
     "metadata": {},
     "output_type": "display_data"
    },
    {
     "data": {
      "image/png": "[encoded data removed]",
      "image/svg+xml": [
       "<?xml version=\"1.0\" encoding=\"utf-8\" standalone=\"no\"?>\r\n",
       "<!DOCTYPE svg PUBLIC \"-//W3C//DTD SVG 1.1//EN\"\r\n",
       "  \"http://www.w3.org/Graphics/SVG/1.1/DTD/svg11.dtd\">\r\n",
       "<!-- Created with matplotlib (https://matplotlib.org/) -->\r\n",
       "<svg height=\"41.58pt\" version=\"1.1\" viewBox=\"0 0 41.58 41.58\" width=\"41.58pt\" xmlns=\"http://www.w3.org/2000/svg\" xmlns:xlink=\"http://www.w3.org/1999/xlink\">\r\n",
       " <defs>\r\n",
       "  <style type=\"text/css\">\r\n",
       "*{stroke-linecap:butt;stroke-linejoin:round;}\r\n",
       "  </style>\r\n",
       " </defs>\r\n",
       " <g id=\"figure_1\">\r\n",
       "  <g id=\"patch_1\">\r\n",
       "   <path d=\"M 0 41.58 \r\n",
       "L 41.58 41.58 \r\n",
       "L 41.58 0 \r\n",
       "L 0 0 \r\n",
       "z\r\n",
       "\" style=\"fill:#ffffff;\"/>\r\n",
       "  </g>\r\n",
       "  <g id=\"axes_1\">\r\n",
       "   <g clip-path=\"url(#p49cac76b6c)\">\r\n",
       "    <image height=\"28\" id=\"image6cbd219fb3\" transform=\"scale(1 -1)translate(0 -28)\" width=\"28\" x=\"7.2\" xlink:href=\"data:image/png;base64,\r\n",
       "iVBORw0KGgoAAAANSUhEUgAAABwAAAAcCAYAAAByDd+UAAAABHNCSVQICAgIfAhkiAAAAf1JREFUSIntlsGraVEUxj96A8kpZWTOGSnJ0EAYUv4EI8pEmRj7B8TQxMhEMpSUGSkhZogyk1KKKJOz++7k2e+597iX+zC4va9W56y1zt6/1l777HMMAIgXyvhK2H/gzwD+eh/w+/1IJpMXsfl8jkajgV6vpzuJy+WCxWK5mn8vni2VSnGz2VDTNGqaRiGEvNc0jc1mk4FAgH+PicVi3O121DSNqqpe5K7YHyeXy1EIQSEEB4MBc7kcZ7OZjJHk6XRiq9Wi3+8nAJZKJZmfTCb3AbPZrKwmkUjQbrcTAFVVZTqd5mq1kvl+v8/BYCD93W53C+wSaDab2e125SSHw4GVSkVaIBDgdDr9sOSbzYY+n+9+4LmaWq2m28NrfqfTodvt/h7wXGk0GtXt4bUe7/f77wP1zOv16sbj8bjc2fv9/pZKbwN+ZqFQiMvlkkIIVqtVOhyO5wIBsFwuy55mMpnnAxVF4XA4pBCCo9GIiqLoPvews/RwOGC9XoMkTCYTjMbrUz+kQgC0Wq3yPS0Wi8+tEAAURYHT6ZQV6+nD1+IrRSIRAEC9Xpf+GRIMBmEwGABAXvV017KVSqUvT57PdundS9put7FYLDAej3XzhUIB7Xb76njDb/JdstlsOB6P8Hg8CIfDUFUVAJDP57FYLLDdbh8L/Bf9/J+olwPfAIOcn1YhPDZ5AAAAAElFTkSuQmCC\" y=\"-6.38\"/>\r\n",
       "   </g>\r\n",
       "  </g>\r\n",
       " </g>\r\n",
       " <defs>\r\n",
       "  <clipPath id=\"p49cac76b6c\">\r\n",
       "   <rect height=\"27.18\" width=\"27.18\" x=\"7.2\" y=\"7.2\"/>\r\n",
       "  </clipPath>\r\n",
       " </defs>\r\n",
       "</svg>\r\n"
      ],
      "text/plain": [
       "<Figure size 36x36 with 1 Axes>"
      ]
     },
     "metadata": {},
     "output_type": "display_data"
    },
    {
     "data": {
      "image/png": "[encoded data removed]",
      "image/svg+xml": [
       "<?xml version=\"1.0\" encoding=\"utf-8\" standalone=\"no\"?>\r\n",
       "<!DOCTYPE svg PUBLIC \"-//W3C//DTD SVG 1.1//EN\"\r\n",
       "  \"http://www.w3.org/Graphics/SVG/1.1/DTD/svg11.dtd\">\r\n",
       "<!-- Created with matplotlib (https://matplotlib.org/) -->\r\n",
       "<svg height=\"41.58pt\" version=\"1.1\" viewBox=\"0 0 41.58 41.58\" width=\"41.58pt\" xmlns=\"http://www.w3.org/2000/svg\" xmlns:xlink=\"http://www.w3.org/1999/xlink\">\r\n",
       " <defs>\r\n",
       "  <style type=\"text/css\">\r\n",
       "*{stroke-linecap:butt;stroke-linejoin:round;}\r\n",
       "  </style>\r\n",
       " </defs>\r\n",
       " <g id=\"figure_1\">\r\n",
       "  <g id=\"patch_1\">\r\n",
       "   <path d=\"M 0 41.58 \r\n",
       "L 41.58 41.58 \r\n",
       "L 41.58 0 \r\n",
       "L 0 0 \r\n",
       "z\r\n",
       "\" style=\"fill:#ffffff;\"/>\r\n",
       "  </g>\r\n",
       "  <g id=\"axes_1\">\r\n",
       "   <g clip-path=\"url(#p41d0e22a2f)\">\r\n",
       "    <image height=\"28\" id=\"imageac404417a4\" transform=\"scale(1 -1)translate(0 -28)\" width=\"28\" x=\"7.2\" xlink:href=\"data:image/png;base64,\r\n",
       "iVBORw0KGgoAAAANSUhEUgAAABwAAAAcCAYAAAByDd+UAAAABHNCSVQICAgIfAhkiAAAAkZJREFUSIntlr1LcmEYxq/jB4IOHiSVwEHQyaZA3COHQAKDArcGBwcX5fwD/gnS0NLicKhBnBrCJXC2QWg6EbQELSJBdEiPN9c7dejNox70LRzeG+7hubme53d/POfhKACIXzTPb8I2H3h2dobj4+O1oXTjBwcHnEwmNE2TpVLJ1Z457k6YSCR4e3tLEeHLywvT6fRKQNctfX5+RrvdBgCEw2Hs7++77+E3c52doii8uLigiNA0TVar1Z9r6aefnJxwOp1SRDgYDLi1tfWzQAA8PT2liFBEqGkavV7vesBYLMZUKjV3k6qqPD8/t6FXV1eMxWLuxvJJ/WoPDw/Y3t6GruvQdR0AsLu7i3w+b2tyuRzi8bi9NgwDmqbh5ubm+3EzNpMFSTv7eT4cDjkcDv+KtVqtpRX6nDLIZrO4vLxEOp22Y51OB6Zp2mtd1/H4+Ihms4nDw0MAwPv7+9LqHCsEwGQyScMw7OyPjo4cdblcjm9vbxQRWpbFYrG4+i1NJpN8enqyDwuFQo66UCjE8XhMEWG/318I9AJozCs9EAhAVVVks1n4fD6Ew2HHS7Gzs4NoNIpMJgO/3w9FUXB3dwcRcd/Sr65pGj8+PmhZFsvlMiORyIzG7/ez2+3aI2g2mwwEAqt/+PV6nZZlUUR4fX3tqMlkMmy1WjZ0b29vvZemVqtRRHh/f79w7r1ejyLCbrfrdNncAxVFYaVSYaPRWKgLBoMsFAp8fX2liCx/af6VqaoKj8eD0Whkx34U6GSb/RP1H7iRwD+wMWnPX0/PCAAAAABJRU5ErkJggg==\" y=\"-6.38\"/>\r\n",
       "   </g>\r\n",
       "  </g>\r\n",
       " </g>\r\n",
       " <defs>\r\n",
       "  <clipPath id=\"p41d0e22a2f\">\r\n",
       "   <rect height=\"27.18\" width=\"27.18\" x=\"7.2\" y=\"7.2\"/>\r\n",
       "  </clipPath>\r\n",
       " </defs>\r\n",
       "</svg>\r\n"
      ],
      "text/plain": [
       "<Figure size 36x36 with 1 Axes>"
      ]
     },
     "metadata": {},
     "output_type": "display_data"
    },
    {
     "data": {
      "image/png": "[encoded data removed]",
      "image/svg+xml": [
       "<?xml version=\"1.0\" encoding=\"utf-8\" standalone=\"no\"?>\r\n",
       "<!DOCTYPE svg PUBLIC \"-//W3C//DTD SVG 1.1//EN\"\r\n",
       "  \"http://www.w3.org/Graphics/SVG/1.1/DTD/svg11.dtd\">\r\n",
       "<!-- Created with matplotlib (https://matplotlib.org/) -->\r\n",
       "<svg height=\"41.58pt\" version=\"1.1\" viewBox=\"0 0 41.58 41.58\" width=\"41.58pt\" xmlns=\"http://www.w3.org/2000/svg\" xmlns:xlink=\"http://www.w3.org/1999/xlink\">\r\n",
       " <defs>\r\n",
       "  <style type=\"text/css\">\r\n",
       "*{stroke-linecap:butt;stroke-linejoin:round;}\r\n",
       "  </style>\r\n",
       " </defs>\r\n",
       " <g id=\"figure_1\">\r\n",
       "  <g id=\"patch_1\">\r\n",
       "   <path d=\"M 0 41.58 \r\n",
       "L 41.58 41.58 \r\n",
       "L 41.58 0 \r\n",
       "L 0 0 \r\n",
       "z\r\n",
       "\" style=\"fill:#ffffff;\"/>\r\n",
       "  </g>\r\n",
       "  <g id=\"axes_1\">\r\n",
       "   <g clip-path=\"url(#p6e30f7f29e)\">\r\n",
       "    <image height=\"28\" id=\"imagef9efb073e0\" transform=\"scale(1 -1)translate(0 -28)\" width=\"28\" x=\"7.2\" xlink:href=\"data:image/png;base64,\r\n",
       "iVBORw0KGgoAAAANSUhEUgAAABwAAAAcCAYAAAByDd+UAAAABHNCSVQICAgIfAhkiAAAAelJREFUSInt1jGL4lAQB/D/Hoe4aSSIYKWNnSlERWwEgyBWQnoRBD+AX8AqpYilFhZp7FOnsRFsBK0FK4mKKIQUUZGXueZ4nOzpqrsRDu7BQMIM88sk4SVvAAgvXD9eiQHAz1tJWZZRLpex3+/RbrdxOBy+BaVrMR6PiTFGjDGqVqtX6x6M68l+v89By7KoWCx6C8bjcdJ1naOn04kKhYJ3IAB6f3+nzWbD0eVySaIoegcCoEwmQ+v1mhhj5LouGYZBgUDga2A6nb5ZmEqlaLvdEhERY4yGwyEJgvA8KEnSp8WVSoVc1+W3t9PpPDPpY1fYarU4yBgjwzAefaaPgcFgkBaLBbmuy6Pb7XoHAqBIJEKmaV5MGovFvAMBkCzL5DgOB2ezmbcgAOr1ehw8n8+kKIq3oM/nI03TLjaFO9722039fj8NBgNSVZWi0eiHvCRJZNs2R3Vd/xpYq9V4M9M0qdlsfqjpdru8ZrfbUT6fv9rv5vcQAEKhED8Oh8NoNBqYTCZIJBIAgFKphGw2y2tEUYSqqsjlcld73pxQEASaz+d8gj93mlvx9ISO4yCZTELTNCiK8tea0WgEy7L4+XQ6vdrv7bf86ZIkCfV6HbZtQ9O0i9xqtcLxeLynzf3gd62X/7X9B/998BdLedM9QJ+fNAAAAABJRU5ErkJggg==\" y=\"-6.38\"/>\r\n",
       "   </g>\r\n",
       "  </g>\r\n",
       " </g>\r\n",
       " <defs>\r\n",
       "  <clipPath id=\"p6e30f7f29e\">\r\n",
       "   <rect height=\"27.18\" width=\"27.18\" x=\"7.2\" y=\"7.2\"/>\r\n",
       "  </clipPath>\r\n",
       " </defs>\r\n",
       "</svg>\r\n"
      ],
      "text/plain": [
       "<Figure size 36x36 with 1 Axes>"
      ]
     },
     "metadata": {},
     "output_type": "display_data"
    },
    {
     "data": {
      "image/png": "[encoded data removed]",
      "image/svg+xml": [
       "<?xml version=\"1.0\" encoding=\"utf-8\" standalone=\"no\"?>\r\n",
       "<!DOCTYPE svg PUBLIC \"-//W3C//DTD SVG 1.1//EN\"\r\n",
       "  \"http://www.w3.org/Graphics/SVG/1.1/DTD/svg11.dtd\">\r\n",
       "<!-- Created with matplotlib (https://matplotlib.org/) -->\r\n",
       "<svg height=\"41.58pt\" version=\"1.1\" viewBox=\"0 0 41.58 41.58\" width=\"41.58pt\" xmlns=\"http://www.w3.org/2000/svg\" xmlns:xlink=\"http://www.w3.org/1999/xlink\">\r\n",
       " <defs>\r\n",
       "  <style type=\"text/css\">\r\n",
       "*{stroke-linecap:butt;stroke-linejoin:round;}\r\n",
       "  </style>\r\n",
       " </defs>\r\n",
       " <g id=\"figure_1\">\r\n",
       "  <g id=\"patch_1\">\r\n",
       "   <path d=\"M 0 41.58 \r\n",
       "L 41.58 41.58 \r\n",
       "L 41.58 0 \r\n",
       "L 0 0 \r\n",
       "z\r\n",
       "\" style=\"fill:#ffffff;\"/>\r\n",
       "  </g>\r\n",
       "  <g id=\"axes_1\">\r\n",
       "   <g clip-path=\"url(#pf6037bcfe3)\">\r\n",
       "    <image height=\"28\" id=\"image887aa54092\" transform=\"scale(1 -1)translate(0 -28)\" width=\"28\" x=\"7.2\" xlink:href=\"data:image/png;base64,\r\n",
       "iVBORw0KGgoAAAANSUhEUgAAABwAAAAcCAYAAAByDd+UAAAABHNCSVQICAgIfAhkiAAAAb9JREFUSIntVlEOojAQfSV7CsFraKO3EOo9iF7DxFuIxFs0kMZboMZLkGH2Z9tIgMLqxuwmO8mkQKe8vL7pTAUAxhct+CbYf0AAQBRF0FqDiFDXNZIkQRzHH4Gyz8uyZCLipmla4/l85izLOE1T7/oeH57MsoyJiOu6Hhy11hxF0eeAUkquqqrDrG/UWn8OqJRqMcnznKWUDIDTNOWiKN5l2j+x3W6ZiJiZmYg68/P5nIuiaDFNkuTPaZhl2aSdGIqz7j0WQggEQYAgCLBarSCl7MQYY3C9Xl2sEML3S/85ZGY0TYOmaRCGIcIw7MTc73dcLhcXO5vNEEWRF3SQvpSSD4eD09KXjTZuTEsvQ2MMjDGOpZQSWuteBjaOmcE83IBGS5vVyGq5Xq97tQTgNPTpOApoNbIsmRmn06kDulgsJjEEJlaIVy2JiG+3W6sQ2O9jGv4YY2htt9shDEMopVzWbjYbAMByuXQ78Hw+8Xg8PmeInqy1TKuqcu95nr9faYZ8qIvEcTy69q2OfzweXda++liVAd68YhhjIITAfr9HWZatDJ5iv72lr66UYiLisiwntSfx6+Fr9vfd2v55wJ/vGq8UnL5cDgAAAABJRU5ErkJggg==\" y=\"-6.38\"/>\r\n",
       "   </g>\r\n",
       "  </g>\r\n",
       " </g>\r\n",
       " <defs>\r\n",
       "  <clipPath id=\"pf6037bcfe3\">\r\n",
       "   <rect height=\"27.18\" width=\"27.18\" x=\"7.2\" y=\"7.2\"/>\r\n",
       "  </clipPath>\r\n",
       " </defs>\r\n",
       "</svg>\r\n"
      ],
      "text/plain": [
       "<Figure size 36x36 with 1 Axes>"
      ]
     },
     "metadata": {},
     "output_type": "display_data"
    },
    {
     "data": {
      "image/png": "[encoded data removed]",
      "image/svg+xml": [
       "<?xml version=\"1.0\" encoding=\"utf-8\" standalone=\"no\"?>\r\n",
       "<!DOCTYPE svg PUBLIC \"-//W3C//DTD SVG 1.1//EN\"\r\n",
       "  \"http://www.w3.org/Graphics/SVG/1.1/DTD/svg11.dtd\">\r\n",
       "<!-- Created with matplotlib (https://matplotlib.org/) -->\r\n",
       "<svg height=\"41.58pt\" version=\"1.1\" viewBox=\"0 0 41.58 41.58\" width=\"41.58pt\" xmlns=\"http://www.w3.org/2000/svg\" xmlns:xlink=\"http://www.w3.org/1999/xlink\">\r\n",
       " <defs>\r\n",
       "  <style type=\"text/css\">\r\n",
       "*{stroke-linecap:butt;stroke-linejoin:round;}\r\n",
       "  </style>\r\n",
       " </defs>\r\n",
       " <g id=\"figure_1\">\r\n",
       "  <g id=\"patch_1\">\r\n",
       "   <path d=\"M 0 41.58 \r\n",
       "L 41.58 41.58 \r\n",
       "L 41.58 0 \r\n",
       "L 0 0 \r\n",
       "z\r\n",
       "\" style=\"fill:#ffffff;\"/>\r\n",
       "  </g>\r\n",
       "  <g id=\"axes_1\">\r\n",
       "   <g clip-path=\"url(#p02b96176af)\">\r\n",
       "    <image height=\"28\" id=\"image2bbc7b6b5f\" transform=\"scale(1 -1)translate(0 -28)\" width=\"28\" x=\"7.2\" xlink:href=\"data:image/png;base64,\r\n",
       "iVBORw0KGgoAAAANSUhEUgAAABwAAAAcCAYAAAByDd+UAAAABHNCSVQICAgIfAhkiAAAAhhJREFUSInt1rFLamEYBvBXEXQwSCGPioGbQ2cQ10DaahOnYxBNDQXiZiT+AyLS1t9QiIs0RNDU4KCj6HbEkpYDCjaInuF57uQBsYJ7j0fuhfvBNz3vx+987/sNxyUilC0u9zaxH0GfzydPT08CQG5ubsTlcm0M5Xc7mUzy4+ODAKhp2rd1v7l/LshkMgTAyWTCg4MD50FFUVgqlQiArVaLiUTCWVBEGIvF+Pb2RgCs1+vc3d11FhQRptNpjkYjAmClUnEeFBFqmkYABMBMJuM8KCIsl8sEwM/PTx4dHTkHRqNR5vN59vt965bT6ZTX19f0er2bA8PhMGu1Gk3TtKDxeEzDMAiAhmEwlUptBoxEInx9fSUAkqSu6zw9PWU4HObh4aGFPj4+0u122wdPTk6sW/V6vbWZFQoFzudzAmCxWLQPRqNRTqdTAqBpmsxms2s12WzWavfZ2Zn9Gaqqyk6nQwB8f39nPp9fad/e3h5fXl4IgLquU1VV+680GAyy3W5b7b26uqLH47FyRVE4m80IgMPhcCX7I3CJNptNC83lcmvzXqLn5+f2QRFhIBDg/f09AbDb7XJnZ2clv729JQDOZjPu7+/bB5cPqVqtcrFY8PLyciULhUIcDAYEwLu7u82AIkK/3892u82Hh4e17OLiggDYaDQ2B4oIj4+PmUwmv/yY5+dnxuPxL8+5luq21t/z1/Yf/GfAX38SERUPOPYKAAAAAElFTkSuQmCC\" y=\"-6.38\"/>\r\n",
       "   </g>\r\n",
       "  </g>\r\n",
       " </g>\r\n",
       " <defs>\r\n",
       "  <clipPath id=\"p02b96176af\">\r\n",
       "   <rect height=\"27.18\" width=\"27.18\" x=\"7.2\" y=\"7.2\"/>\r\n",
       "  </clipPath>\r\n",
       " </defs>\r\n",
       "</svg>\r\n"
      ],
      "text/plain": [
       "<Figure size 36x36 with 1 Axes>"
      ]
     },
     "metadata": {},
     "output_type": "display_data"
    },
    {
     "data": {
      "image/png": "[encoded data removed]",
      "image/svg+xml": [
       "<?xml version=\"1.0\" encoding=\"utf-8\" standalone=\"no\"?>\r\n",
       "<!DOCTYPE svg PUBLIC \"-//W3C//DTD SVG 1.1//EN\"\r\n",
       "  \"http://www.w3.org/Graphics/SVG/1.1/DTD/svg11.dtd\">\r\n",
       "<!-- Created with matplotlib (https://matplotlib.org/) -->\r\n",
       "<svg height=\"41.58pt\" version=\"1.1\" viewBox=\"0 0 41.58 41.58\" width=\"41.58pt\" xmlns=\"http://www.w3.org/2000/svg\" xmlns:xlink=\"http://www.w3.org/1999/xlink\">\r\n",
       " <defs>\r\n",
       "  <style type=\"text/css\">\r\n",
       "*{stroke-linecap:butt;stroke-linejoin:round;}\r\n",
       "  </style>\r\n",
       " </defs>\r\n",
       " <g id=\"figure_1\">\r\n",
       "  <g id=\"patch_1\">\r\n",
       "   <path d=\"M 0 41.58 \r\n",
       "L 41.58 41.58 \r\n",
       "L 41.58 0 \r\n",
       "L 0 0 \r\n",
       "z\r\n",
       "\" style=\"fill:#ffffff;\"/>\r\n",
       "  </g>\r\n",
       "  <g id=\"axes_1\">\r\n",
       "   <g clip-path=\"url(#p6d14d33b6a)\">\r\n",
       "    <image height=\"28\" id=\"imagec2ce41a816\" transform=\"scale(1 -1)translate(0 -28)\" width=\"28\" x=\"7.2\" xlink:href=\"data:image/png;base64,\r\n",
       "iVBORw0KGgoAAAANSUhEUgAAABwAAAAcCAYAAAByDd+UAAAABHNCSVQICAgIfAhkiAAAAjZJREFUSIntlr9rKkEQx0c9o3DBSrtgaZVCohBLLWwFEQ4t/NFpYxuwkiAiwSaYRtBGbP0DFElKlTtsFCwVU2hjo0JQ4fab6h3cixqjPknxBgbudnb3s9+5meU0RAS6oGkvCft9QJ1OR09PT8QYI8YY1et1ur+/J41GcxIUu9zn84Ex9sXz+TxsNtvOdd/47mChUFAgm80Gi8VCeX99fQXP8z8G7k3pbDZTnh8fH+n29pYkSSJZlsnj8VCxWCSe58+XUqvViuVyCcYYJEmCwWAAEeHt7U1R6nK5zqfw/f2dnp+fiYjI4XBQOp0mg8FAzWbzx6oOUkhEMJvNGI1GiqJkMolWq3W0wm+BRARBEDCfz7dWrNFoPD+QiBCJRFRVyhhDp9M5b1v87ZVKRQUEgGw2+2+ALpdrZ1qr1Spubm7OCyyVSgrg4eEBLy8vkGVZGfv4+EAmk4HJZDodyPM8er0eGGMYDAbKpm63G/1+X6V2uVwikUiA47jjgXa7HavVCowxxGIxVcxiscDr9WI8HqvAjUYDkUgEWq32uJR2u13lDt12er1ej3g8/uX7+v3+44DRaFTZJJVKQafTfZlzfX2N4XCozBuPx3A6nccBr66uVIVTq9UgCIIqHggElHgwGNxVQIf3kF6vR7lcVqVsMplAFEVMp1OVsj3VejiQiMBxHARBwHq93tqTi8UC4XD4tLbY5kajEaFQCKIoYjQaod1uI5fL4e7ubu86zR/qpex3/bX9Bx5jn6o1UL7KAGnIAAAAAElFTkSuQmCC\" y=\"-6.38\"/>\r\n",
       "   </g>\r\n",
       "  </g>\r\n",
       " </g>\r\n",
       " <defs>\r\n",
       "  <clipPath id=\"p6d14d33b6a\">\r\n",
       "   <rect height=\"27.18\" width=\"27.18\" x=\"7.2\" y=\"7.2\"/>\r\n",
       "  </clipPath>\r\n",
       " </defs>\r\n",
       "</svg>\r\n"
      ],
      "text/plain": [
       "<Figure size 36x36 with 1 Axes>"
      ]
     },
     "metadata": {},
     "output_type": "display_data"
    },
    {
     "data": {
      "image/png": "[encoded data removed]",
      "image/svg+xml": [
       "<?xml version=\"1.0\" encoding=\"utf-8\" standalone=\"no\"?>\r\n",
       "<!DOCTYPE svg PUBLIC \"-//W3C//DTD SVG 1.1//EN\"\r\n",
       "  \"http://www.w3.org/Graphics/SVG/1.1/DTD/svg11.dtd\">\r\n",
       "<!-- Created with matplotlib (https://matplotlib.org/) -->\r\n",
       "<svg height=\"41.58pt\" version=\"1.1\" viewBox=\"0 0 41.58 41.58\" width=\"41.58pt\" xmlns=\"http://www.w3.org/2000/svg\" xmlns:xlink=\"http://www.w3.org/1999/xlink\">\r\n",
       " <defs>\r\n",
       "  <style type=\"text/css\">\r\n",
       "*{stroke-linecap:butt;stroke-linejoin:round;}\r\n",
       "  </style>\r\n",
       " </defs>\r\n",
       " <g id=\"figure_1\">\r\n",
       "  <g id=\"patch_1\">\r\n",
       "   <path d=\"M 0 41.58 \r\n",
       "L 41.58 41.58 \r\n",
       "L 41.58 0 \r\n",
       "L 0 0 \r\n",
       "z\r\n",
       "\" style=\"fill:#ffffff;\"/>\r\n",
       "  </g>\r\n",
       "  <g id=\"axes_1\">\r\n",
       "   <g clip-path=\"url(#pdac8562f85)\">\r\n",
       "    <image height=\"28\" id=\"image21c2913bdf\" transform=\"scale(1 -1)translate(0 -28)\" width=\"28\" x=\"7.2\" xlink:href=\"data:image/png;base64,\r\n",
       "iVBORw0KGgoAAAANSUhEUgAAABwAAAAcCAYAAAByDd+UAAAABHNCSVQICAgIfAhkiAAAAXNJREFUSInt1rGKwkAQBuDf6xRT2RgUzBsY0CKdLyDaaOdDWPoa9lZWWqSyDGhhk0JrC4sU9kEQBGGG/5pzwUIJ6spx3MJAArN8zGYmbA4A8cH19UnsH4TruthutxARtFqtt6G8F0EQUEQoIjwejyyXy3dzs0bmI3UcB8Ph0G6FpVKJ6/WaIkJVZZIkbDabr1b5OGEwGFBVSZKqysPhwHq9bg8EwG63S1U133M8HtsFAdyAl8vlFTRbYhAEjOPYoCLCWq1mDwTAdrvN8/lswN1uR8/z7IEAOBqNqKqmkWazmV0QAOfzuRmVzWZD13Uz733qXxrHMfb7PQDA932EYYhqtZp5/1Pd5nneTef2ej17R3qNNE0NuFgsWCwW7YKNRoNpmpomWi6XdkEA7Pf7N7NpHSwUCpxMJgacTqfM5/P2QAB0HIdRFJlRqVQqd3PfcsU4nU5IksS8dzqdh/kvV3itcrVakeTDCnM/Dx9bv+vW9ifAb1/lhF3KIpvwAAAAAElFTkSuQmCC\" y=\"-6.38\"/>\r\n",
       "   </g>\r\n",
       "  </g>\r\n",
       " </g>\r\n",
       " <defs>\r\n",
       "  <clipPath id=\"pdac8562f85\">\r\n",
       "   <rect height=\"27.18\" width=\"27.18\" x=\"7.2\" y=\"7.2\"/>\r\n",
       "  </clipPath>\r\n",
       " </defs>\r\n",
       "</svg>\r\n"
      ],
      "text/plain": [
       "<Figure size 36x36 with 1 Axes>"
      ]
     },
     "metadata": {},
     "output_type": "display_data"
    },
    {
     "data": {
      "image/png": "[encoded data removed]",
      "image/svg+xml": [
       "<?xml version=\"1.0\" encoding=\"utf-8\" standalone=\"no\"?>\r\n",
       "<!DOCTYPE svg PUBLIC \"-//W3C//DTD SVG 1.1//EN\"\r\n",
       "  \"http://www.w3.org/Graphics/SVG/1.1/DTD/svg11.dtd\">\r\n",
       "<!-- Created with matplotlib (https://matplotlib.org/) -->\r\n",
       "<svg height=\"41.58pt\" version=\"1.1\" viewBox=\"0 0 41.58 41.58\" width=\"41.58pt\" xmlns=\"http://www.w3.org/2000/svg\" xmlns:xlink=\"http://www.w3.org/1999/xlink\">\r\n",
       " <defs>\r\n",
       "  <style type=\"text/css\">\r\n",
       "*{stroke-linecap:butt;stroke-linejoin:round;}\r\n",
       "  </style>\r\n",
       " </defs>\r\n",
       " <g id=\"figure_1\">\r\n",
       "  <g id=\"patch_1\">\r\n",
       "   <path d=\"M 0 41.58 \r\n",
       "L 41.58 41.58 \r\n",
       "L 41.58 0 \r\n",
       "L 0 0 \r\n",
       "z\r\n",
       "\" style=\"fill:#ffffff;\"/>\r\n",
       "  </g>\r\n",
       "  <g id=\"axes_1\">\r\n",
       "   <g clip-path=\"url(#p68aece9607)\">\r\n",
       "    <image height=\"28\" id=\"imageb75c631001\" transform=\"scale(1 -1)translate(0 -28)\" width=\"28\" x=\"7.2\" xlink:href=\"data:image/png;base64,\r\n",
       "iVBORw0KGgoAAAANSUhEUgAAABwAAAAcCAYAAAByDd+UAAAABHNCSVQICAgIfAhkiAAAAk1JREFUSInt1j1oIkEUB/AX10CILi5CsApYCAYrSyGmECWIICjY2KhF6kAgjYUQrCWdEOwSmxTpBO0EOwURCxW1ECxErRRkhVi8fyqX7Hl+5I61OG7gwe7se/NjZmeHPSEi0BGb7pjYf/DfAPU/SfZ4PHR7e0ter5em0ym1Wi1yuVxUrVYpm83SaDQiYP+mx744Pz9HMBjEYrEAM4OZ8fn5qbpnZsTjcZhMpn3j7caMRiPy+bxqYGZGu93G9fU1IpEISqUSVqsVmBmNRgOxWGwXvBt8fn5WkMFgoFynUilVntvtRjqdVp4nk8lt6HZMFEXUajUwM4rFIh4eHlTL92u+IAh4enpScrLZ7M/ATCYDZsZwOITD4YAoipBlGcyMbrcLq9W6UaPX6xVUlmWEw+HDQLPZrLyXUqmk9H+fwXK5xOPjI05PTyEIgpLjdDqVnKurq8PBddF3UBAEpFIpLJdL1Saq1+sIh8Ow2Wx4e3sDM6PZbEKSpMNASZIwm802wHWEQiF0Oh3IsgwAG7uYmfHy8rJRd7JWf9dyuRzd3d1RrVYjn89Hsixv5Ljdbrq5uaFAIKDq//j4oNfXV5rP5xs1WzdNLpcDM6NarcJgMOw9IA6M7Q9dLheYGYvFAna7XXvw4uIC/X4fzIxKpQJRFLUFiUj1sV9eXmoPWiwW9Ho9MDPu7++h0+m0BYkI7+/vyiyj0aj2oN/vV8Ber/e3S7s/SZIkJBIJ5RxtNBragusoFApgZozH4+OAZ2dnKJfLmEwmfwzuPNq0aEf/a/sCkg9OvMXW2ZwAAAAASUVORK5CYII=\" y=\"-6.38\"/>\r\n",
       "   </g>\r\n",
       "  </g>\r\n",
       " </g>\r\n",
       " <defs>\r\n",
       "  <clipPath id=\"p68aece9607\">\r\n",
       "   <rect height=\"27.18\" width=\"27.18\" x=\"7.2\" y=\"7.2\"/>\r\n",
       "  </clipPath>\r\n",
       " </defs>\r\n",
       "</svg>\r\n"
      ],
      "text/plain": [
       "<Figure size 36x36 with 1 Axes>"
      ]
     },
     "metadata": {},
     "output_type": "display_data"
    },
    {
     "data": {
      "image/png": "[encoded data removed]",
      "image/svg+xml": [
       "<?xml version=\"1.0\" encoding=\"utf-8\" standalone=\"no\"?>\r\n",
       "<!DOCTYPE svg PUBLIC \"-//W3C//DTD SVG 1.1//EN\"\r\n",
       "  \"http://www.w3.org/Graphics/SVG/1.1/DTD/svg11.dtd\">\r\n",
       "<!-- Created with matplotlib (https://matplotlib.org/) -->\r\n",
       "<svg height=\"41.58pt\" version=\"1.1\" viewBox=\"0 0 41.58 41.58\" width=\"41.58pt\" xmlns=\"http://www.w3.org/2000/svg\" xmlns:xlink=\"http://www.w3.org/1999/xlink\">\r\n",
       " <defs>\r\n",
       "  <style type=\"text/css\">\r\n",
       "*{stroke-linecap:butt;stroke-linejoin:round;}\r\n",
       "  </style>\r\n",
       " </defs>\r\n",
       " <g id=\"figure_1\">\r\n",
       "  <g id=\"patch_1\">\r\n",
       "   <path d=\"M 0 41.58 \r\n",
       "L 41.58 41.58 \r\n",
       "L 41.58 0 \r\n",
       "L 0 0 \r\n",
       "z\r\n",
       "\" style=\"fill:#ffffff;\"/>\r\n",
       "  </g>\r\n",
       "  <g id=\"axes_1\">\r\n",
       "   <g clip-path=\"url(#p0b83e73dd7)\">\r\n",
       "    <image height=\"28\" id=\"image1acd2ac0a5\" transform=\"scale(1 -1)translate(0 -28)\" width=\"28\" x=\"7.2\" xlink:href=\"data:image/png;base64,\r\n",
       "iVBORw0KGgoAAAANSUhEUgAAABwAAAAcCAYAAAByDd+UAAAABHNCSVQICAgIfAhkiAAAAelJREFUSIntVj2L6lAQHV8hSSyCVbARIRbBykax1U5sg+gfUNNZKpZi41+wTKGFVv4ACxsLK7GyECF+YCFoE0W892yx7PJE3hrdrLwHb2CaOZx7mLlnLtdDRKAXxq9Xiv0bgvl8nhhjFAwGXyM4m82IiMjv9z8lSPRuGscpSRImkwlGo9FDvN/ycVK32wVjDIqiPMx9yjTT6ZQ8Hg+lUqln6I93qGkazucz+v3+a0ZKRFgsFthsNvD5fD8/UiKiTqdDiqJQq9UiWZZJEARHPM9Hm38KVVVJ13USRZGSyeRnPRaLkSAIBLzTl8sltdttqlQqd0W/HIFpmuCcAwA451f5UbMsC7VaDel0+vt3WC6XwRjD4XBAvV5HNBr9xDKZDBhjME3TPdOoqgrbtnE6nRCPx68wWZaxXq+x3W4RCoXcc2mhUADnHJPJBJIkXWG5XA6XywWNRsM9QUVRYFkWGGMoFotXWDgcxvF4RLfbhdfrdW8PDcMA5xzVavUGGw6H4Jw7Mo3jPRwMBrTb7Sibzd5gvV6PAJCmaY7OcuywZrOJUql0Uw8EApjP59jv91BV1Z2R3stKpQLGGAzD+J5gOByGKIp3BSORCMbjMVarFRKJxM93SETQdR22bX+5k3ffUrfj7/+1/Re8F29wbD2SPunMvgAAAABJRU5ErkJggg==\" y=\"-6.38\"/>\r\n",
       "   </g>\r\n",
       "  </g>\r\n",
       " </g>\r\n",
       " <defs>\r\n",
       "  <clipPath id=\"p0b83e73dd7\">\r\n",
       "   <rect height=\"27.18\" width=\"27.18\" x=\"7.2\" y=\"7.2\"/>\r\n",
       "  </clipPath>\r\n",
       " </defs>\r\n",
       "</svg>\r\n"
      ],
      "text/plain": [
       "<Figure size 36x36 with 1 Axes>"
      ]
     },
     "metadata": {},
     "output_type": "display_data"
    }
   ],
   "source": [
    "for image in images:\n",
    "    plt.figure(figsize=(.5,.5))\n",
    "    plt.axes()\n",
    "    plt.imshow(image, cmap='gray')\n",
    "    plt.axis('off')\n",
    "    plt.show()"
   ]
  },
  {
   "cell_type": "code",
   "execution_count": 160,
   "metadata": {},
   "outputs": [],
   "source": [
    "#Input numbers shown above into this array\n",
    "y_representative_digits = np.array([2,1,5,5,4,5,0,6,0,2,9,6,3,9,4,9,5,8,6,8,1,7,3,0,7,2,6,3,9,3,7,0,5,7,8,0,6,1,7,9,3,2,4,7,0,4,8,1,6,4])"
   ]
  },
  {
   "cell_type": "code",
   "execution_count": 161,
   "metadata": {},
   "outputs": [],
   "source": [
    "y_train_propagated = np.empty(len(X_train), dtype=np.int32)\n",
    "for i in range(k):\n",
    "    y_train_propagated[kmeans.labels_ ==i] = y_representative_digits[i]"
   ]
  },
  {
   "cell_type": "code",
   "execution_count": 162,
   "metadata": {},
   "outputs": [
    {
     "data": {
      "text/plain": [
       "0.7984523809523809"
      ]
     },
     "execution_count": 162,
     "metadata": {},
     "output_type": "execute_result"
    }
   ],
   "source": [
    "from sklearn.linear_model import LogisticRegression\n",
    "log_reg = LogisticRegression()\n",
    "log_reg.fit(X_train, y_train_propagated)\n",
    "log_reg.score(X_test, y_test)"
   ]
  },
  {
   "cell_type": "markdown",
   "metadata": {},
   "source": [
    "Going to try and propagate the labels to the 20% of the instances that are closest to the centroids to see if we can improve our score"
   ]
  },
  {
   "cell_type": "code",
   "execution_count": 163,
   "metadata": {},
   "outputs": [],
   "source": [
    "percentile_closest = 20\n",
    "\n",
    "X_cluster_dist = X_digits_dist[np.arange(len(X_train)), kmeans.labels_]\n",
    "for i in range(k):\n",
    "    in_cluster = (kmeans.labels_ == i)\n",
    "    cluster_dist = X_cluster_dist[in_cluster]\n",
    "    cutoff_distance = np.percentile(cluster_dist, percentile_closest)\n",
    "    above_cutoff = (X_cluster_dist > cutoff_distance)\n",
    "    X_cluster_dist[in_cluster & above_cutoff] = -1\n",
    "\n",
    "partially_propagated = (X_cluster_dist != -1)\n",
    "X_train_partially_propagated = X_train[partially_propagated]\n",
    "y_train_partially_propagated = y_train_propagated[partially_propagated]"
   ]
  },
  {
   "cell_type": "code",
   "execution_count": 164,
   "metadata": {},
   "outputs": [
    {
     "data": {
      "text/plain": [
       "0.7446428571428572"
      ]
     },
     "execution_count": 164,
     "metadata": {},
     "output_type": "execute_result"
    }
   ],
   "source": [
    "log_reg = LogisticRegression()\n",
    "log_reg.fit(X_train_partially_propagated, y_train_partially_propagated)\n",
    "log_reg.score(X_test, y_test)"
   ]
  },
  {
   "cell_type": "markdown",
   "metadata": {},
   "source": [
    "Well that didn't help. Lets try GridSearchCV. Note only run this once. It takes 2+ hours to run."
   ]
  },
  {
   "cell_type": "code",
   "execution_count": 165,
   "metadata": {
    "tags": [
     "outputPrepend"
    ]
   },
   "outputs": [
    {
     "name": "stdout",
     "output_type": "stream",
     "text": [
      "........... kmeans__n_clusters=53, total=  51.0s\n",
      "[CV] kmeans__n_clusters=53 ...........................................\n",
      "[CV] ............................ kmeans__n_clusters=53, total=  48.3s\n",
      "[CV] kmeans__n_clusters=53 ...........................................\n",
      "[CV] ............................ kmeans__n_clusters=53, total=  47.5s\n",
      "[CV] kmeans__n_clusters=54 ...........................................\n",
      "[CV] ............................ kmeans__n_clusters=54, total=  52.5s\n",
      "[CV] kmeans__n_clusters=54 ...........................................\n",
      "[CV] ............................ kmeans__n_clusters=54, total=  50.1s\n",
      "[CV] kmeans__n_clusters=54 ...........................................\n",
      "[CV] ............................ kmeans__n_clusters=54, total=  50.6s\n",
      "[CV] kmeans__n_clusters=55 ...........................................\n",
      "[CV] ............................ kmeans__n_clusters=55, total=  52.5s\n",
      "[CV] kmeans__n_clusters=55 ...........................................\n",
      "[CV] ............................ kmeans__n_clusters=55, total=  57.2s\n",
      "[CV] kmeans__n_clusters=55 ...........................................\n",
      "[CV] ............................ kmeans__n_clusters=55, total=  59.2s\n",
      "[CV] kmeans__n_clusters=56 ...........................................\n",
      "[CV] ............................ kmeans__n_clusters=56, total=  56.5s\n",
      "[CV] kmeans__n_clusters=56 ...........................................\n",
      "[CV] ............................ kmeans__n_clusters=56, total= 1.0min\n",
      "[CV] kmeans__n_clusters=56 ...........................................\n",
      "[CV] ............................ kmeans__n_clusters=56, total=  59.0s\n",
      "[CV] kmeans__n_clusters=57 ...........................................\n",
      "[CV] ............................ kmeans__n_clusters=57, total=  57.8s\n",
      "[CV] kmeans__n_clusters=57 ...........................................\n",
      "[CV] ............................ kmeans__n_clusters=57, total=  45.2s\n",
      "[CV] kmeans__n_clusters=57 ...........................................\n",
      "[CV] ............................ kmeans__n_clusters=57, total=  43.4s\n",
      "[CV] kmeans__n_clusters=58 ...........................................\n",
      "[CV] ............................ kmeans__n_clusters=58, total=  45.5s\n",
      "[CV] kmeans__n_clusters=58 ...........................................\n",
      "[CV] ............................ kmeans__n_clusters=58, total=  43.1s\n",
      "[CV] kmeans__n_clusters=58 ...........................................\n",
      "[CV] ............................ kmeans__n_clusters=58, total=  44.0s\n",
      "[CV] kmeans__n_clusters=59 ...........................................\n",
      "[CV] ............................ kmeans__n_clusters=59, total=  44.6s\n",
      "[CV] kmeans__n_clusters=59 ...........................................\n",
      "[CV] ............................ kmeans__n_clusters=59, total=  45.2s\n",
      "[CV] kmeans__n_clusters=59 ...........................................\n",
      "[CV] ............................ kmeans__n_clusters=59, total=  45.8s\n",
      "[CV] kmeans__n_clusters=60 ...........................................\n",
      "[CV] ............................ kmeans__n_clusters=60, total=  45.1s\n",
      "[CV] kmeans__n_clusters=60 ...........................................\n",
      "[CV] ............................ kmeans__n_clusters=60, total=  45.0s\n",
      "[CV] kmeans__n_clusters=60 ...........................................\n",
      "[CV] ............................ kmeans__n_clusters=60, total=  47.9s\n",
      "[CV] kmeans__n_clusters=61 ...........................................\n",
      "[CV] ............................ kmeans__n_clusters=61, total=  48.7s\n",
      "[CV] kmeans__n_clusters=61 ...........................................\n",
      "[CV] ............................ kmeans__n_clusters=61, total=  45.3s\n",
      "[CV] kmeans__n_clusters=61 ...........................................\n",
      "[CV] ............................ kmeans__n_clusters=61, total=  47.4s\n",
      "[CV] kmeans__n_clusters=62 ...........................................\n",
      "[CV] ............................ kmeans__n_clusters=62, total=  45.5s\n",
      "[CV] kmeans__n_clusters=62 ...........................................\n",
      "[CV] ............................ kmeans__n_clusters=62, total=  48.6s\n",
      "[CV] kmeans__n_clusters=62 ...........................................\n",
      "[CV] ............................ kmeans__n_clusters=62, total=  47.1s\n",
      "[CV] kmeans__n_clusters=63 ...........................................\n",
      "[CV] ............................ kmeans__n_clusters=63, total=  47.8s\n",
      "[CV] kmeans__n_clusters=63 ...........................................\n",
      "[CV] ............................ kmeans__n_clusters=63, total=  49.0s\n",
      "[CV] kmeans__n_clusters=63 ...........................................\n",
      "[CV] ............................ kmeans__n_clusters=63, total=  47.0s\n",
      "[CV] kmeans__n_clusters=64 ...........................................\n",
      "[CV] ............................ kmeans__n_clusters=64, total=  47.6s\n",
      "[CV] kmeans__n_clusters=64 ...........................................\n",
      "[CV] ............................ kmeans__n_clusters=64, total=  48.9s\n",
      "[CV] kmeans__n_clusters=64 ...........................................\n",
      "[CV] ............................ kmeans__n_clusters=64, total=  47.1s\n",
      "[CV] kmeans__n_clusters=65 ...........................................\n",
      "[CV] ............................ kmeans__n_clusters=65, total=  48.7s\n",
      "[CV] kmeans__n_clusters=65 ...........................................\n",
      "[CV] ............................ kmeans__n_clusters=65, total=  47.4s\n",
      "[CV] kmeans__n_clusters=65 ...........................................\n",
      "[CV] ............................ kmeans__n_clusters=65, total=  47.6s\n",
      "[CV] kmeans__n_clusters=66 ...........................................\n",
      "[CV] ............................ kmeans__n_clusters=66, total=  48.2s\n",
      "[CV] kmeans__n_clusters=66 ...........................................\n",
      "[CV] ............................ kmeans__n_clusters=66, total=  50.1s\n",
      "[CV] kmeans__n_clusters=66 ...........................................\n",
      "[CV] ............................ kmeans__n_clusters=66, total=  48.4s\n",
      "[CV] kmeans__n_clusters=67 ...........................................\n",
      "[CV] ............................ kmeans__n_clusters=67, total=  51.2s\n",
      "[CV] kmeans__n_clusters=67 ...........................................\n",
      "[CV] ............................ kmeans__n_clusters=67, total=  49.8s\n",
      "[CV] kmeans__n_clusters=67 ...........................................\n",
      "[CV] ............................ kmeans__n_clusters=67, total=  49.0s\n",
      "[CV] kmeans__n_clusters=68 ...........................................\n",
      "[CV] ............................ kmeans__n_clusters=68, total=  49.7s\n",
      "[CV] kmeans__n_clusters=68 ...........................................\n",
      "[CV] ............................ kmeans__n_clusters=68, total=  49.9s\n",
      "[CV] kmeans__n_clusters=68 ...........................................\n",
      "[CV] ............................ kmeans__n_clusters=68, total=  49.6s\n",
      "[CV] kmeans__n_clusters=69 ...........................................\n",
      "[CV] ............................ kmeans__n_clusters=69, total=  50.6s\n",
      "[CV] kmeans__n_clusters=69 ...........................................\n",
      "[CV] ............................ kmeans__n_clusters=69, total=  52.3s\n",
      "[CV] kmeans__n_clusters=69 ...........................................\n",
      "[CV] ............................ kmeans__n_clusters=69, total=  51.5s\n",
      "[CV] kmeans__n_clusters=70 ...........................................\n",
      "[CV] ............................ kmeans__n_clusters=70, total=  51.3s\n",
      "[CV] kmeans__n_clusters=70 ...........................................\n",
      "[CV] ............................ kmeans__n_clusters=70, total=  50.9s\n",
      "[CV] kmeans__n_clusters=70 ...........................................\n",
      "[CV] ............................ kmeans__n_clusters=70, total=  50.3s\n",
      "[CV] kmeans__n_clusters=71 ...........................................\n",
      "[CV] ............................ kmeans__n_clusters=71, total=  52.4s\n",
      "[CV] kmeans__n_clusters=71 ...........................................\n",
      "[CV] ............................ kmeans__n_clusters=71, total=  53.2s\n",
      "[CV] kmeans__n_clusters=71 ...........................................\n",
      "[CV] ............................ kmeans__n_clusters=71, total=  51.9s\n",
      "[CV] kmeans__n_clusters=72 ...........................................\n",
      "[CV] ............................ kmeans__n_clusters=72, total=  52.9s\n",
      "[CV] kmeans__n_clusters=72 ...........................................\n",
      "[CV] ............................ kmeans__n_clusters=72, total=  52.5s\n",
      "[CV] kmeans__n_clusters=72 ...........................................\n",
      "[CV] ............................ kmeans__n_clusters=72, total=  53.9s\n",
      "[CV] kmeans__n_clusters=73 ...........................................\n",
      "[CV] ............................ kmeans__n_clusters=73, total=  53.0s\n",
      "[CV] kmeans__n_clusters=73 ...........................................\n",
      "[CV] ............................ kmeans__n_clusters=73, total=  53.8s\n",
      "[CV] kmeans__n_clusters=73 ...........................................\n",
      "[CV] ............................ kmeans__n_clusters=73, total=  53.9s\n",
      "[CV] kmeans__n_clusters=74 ...........................................\n",
      "[CV] ............................ kmeans__n_clusters=74, total=  54.2s\n",
      "[CV] kmeans__n_clusters=74 ...........................................\n",
      "[CV] ............................ kmeans__n_clusters=74, total=  53.7s\n",
      "[CV] kmeans__n_clusters=74 ...........................................\n",
      "[CV] ............................ kmeans__n_clusters=74, total=  52.5s\n",
      "[CV] kmeans__n_clusters=75 ...........................................\n",
      "[CV] ............................ kmeans__n_clusters=75, total=  55.0s\n",
      "[CV] kmeans__n_clusters=75 ...........................................\n",
      "[CV] ............................ kmeans__n_clusters=75, total=  54.9s\n",
      "[CV] kmeans__n_clusters=75 ...........................................\n",
      "[CV] ............................ kmeans__n_clusters=75, total=  55.1s\n",
      "[CV] kmeans__n_clusters=76 ...........................................\n",
      "[CV] ............................ kmeans__n_clusters=76, total=  55.0s\n",
      "[CV] kmeans__n_clusters=76 ...........................................\n",
      "[CV] ............................ kmeans__n_clusters=76, total=  54.5s\n",
      "[CV] kmeans__n_clusters=76 ...........................................\n",
      "[CV] ............................ kmeans__n_clusters=76, total=  55.2s\n",
      "[CV] kmeans__n_clusters=77 ...........................................\n",
      "[CV] ............................ kmeans__n_clusters=77, total=  55.5s\n",
      "[CV] kmeans__n_clusters=77 ...........................................\n",
      "[CV] ............................ kmeans__n_clusters=77, total=  56.5s\n",
      "[CV] kmeans__n_clusters=77 ...........................................\n",
      "[CV] ............................ kmeans__n_clusters=77, total=  57.8s\n",
      "[CV] kmeans__n_clusters=78 ...........................................\n",
      "[CV] ............................ kmeans__n_clusters=78, total=  56.2s\n",
      "[CV] kmeans__n_clusters=78 ...........................................\n",
      "[CV] ............................ kmeans__n_clusters=78, total=  56.8s\n",
      "[CV] kmeans__n_clusters=78 ...........................................\n",
      "[CV] ............................ kmeans__n_clusters=78, total=  54.9s\n",
      "[CV] kmeans__n_clusters=79 ...........................................\n",
      "[CV] ............................ kmeans__n_clusters=79, total=  56.4s\n",
      "[CV] kmeans__n_clusters=79 ...........................................\n",
      "[CV] ............................ kmeans__n_clusters=79, total=  57.4s\n",
      "[CV] kmeans__n_clusters=79 ...........................................\n",
      "[CV] ............................ kmeans__n_clusters=79, total=  57.6s\n",
      "[CV] kmeans__n_clusters=80 ...........................................\n",
      "[CV] ............................ kmeans__n_clusters=80, total=  57.2s\n",
      "[CV] kmeans__n_clusters=80 ...........................................\n",
      "[CV] ............................ kmeans__n_clusters=80, total= 1.0min\n",
      "[CV] kmeans__n_clusters=80 ...........................................\n",
      "[CV] ............................ kmeans__n_clusters=80, total=  56.7s\n",
      "[CV] kmeans__n_clusters=81 ...........................................\n",
      "[CV] ............................ kmeans__n_clusters=81, total=  57.2s\n",
      "[CV] kmeans__n_clusters=81 ...........................................\n",
      "[CV] ............................ kmeans__n_clusters=81, total=  55.5s\n",
      "[CV] kmeans__n_clusters=81 ...........................................\n",
      "[CV] ............................ kmeans__n_clusters=81, total=  56.4s\n",
      "[CV] kmeans__n_clusters=82 ...........................................\n",
      "[CV] ............................ kmeans__n_clusters=82, total=  57.1s\n",
      "[CV] kmeans__n_clusters=82 ...........................................\n",
      "[CV] ............................ kmeans__n_clusters=82, total=  57.5s\n",
      "[CV] kmeans__n_clusters=82 ...........................................\n",
      "[CV] ............................ kmeans__n_clusters=82, total=  57.8s\n",
      "[CV] kmeans__n_clusters=83 ...........................................\n",
      "[CV] ............................ kmeans__n_clusters=83, total=  58.8s\n",
      "[CV] kmeans__n_clusters=83 ...........................................\n",
      "[CV] ............................ kmeans__n_clusters=83, total=  59.3s\n",
      "[CV] kmeans__n_clusters=83 ...........................................\n",
      "[CV] ............................ kmeans__n_clusters=83, total=  58.7s\n",
      "[CV] kmeans__n_clusters=84 ...........................................\n",
      "[CV] ............................ kmeans__n_clusters=84, total=  59.6s\n",
      "[CV] kmeans__n_clusters=84 ...........................................\n",
      "[CV] ............................ kmeans__n_clusters=84, total=  59.0s\n",
      "[CV] kmeans__n_clusters=84 ...........................................\n",
      "[CV] ............................ kmeans__n_clusters=84, total=  57.2s\n",
      "[CV] kmeans__n_clusters=85 ...........................................\n",
      "[CV] ............................ kmeans__n_clusters=85, total=  58.3s\n",
      "[CV] kmeans__n_clusters=85 ...........................................\n",
      "[CV] ............................ kmeans__n_clusters=85, total=  58.5s\n",
      "[CV] kmeans__n_clusters=85 ...........................................\n",
      "[CV] ............................ kmeans__n_clusters=85, total=  58.8s\n",
      "[CV] kmeans__n_clusters=86 ...........................................\n",
      "[CV] ............................ kmeans__n_clusters=86, total= 1.0min\n",
      "[CV] kmeans__n_clusters=86 ...........................................\n",
      "[CV] ............................ kmeans__n_clusters=86, total=  59.6s\n",
      "[CV] kmeans__n_clusters=86 ...........................................\n",
      "[CV] ............................ kmeans__n_clusters=86, total= 1.0min\n",
      "[CV] kmeans__n_clusters=87 ...........................................\n",
      "[CV] ............................ kmeans__n_clusters=87, total= 1.0min\n",
      "[CV] kmeans__n_clusters=87 ...........................................\n",
      "[CV] ............................ kmeans__n_clusters=87, total=  59.9s\n",
      "[CV] kmeans__n_clusters=87 ...........................................\n",
      "[CV] ............................ kmeans__n_clusters=87, total= 1.0min\n",
      "[CV] kmeans__n_clusters=88 ...........................................\n",
      "[CV] ............................ kmeans__n_clusters=88, total= 1.0min\n",
      "[CV] kmeans__n_clusters=88 ...........................................\n",
      "[CV] ............................ kmeans__n_clusters=88, total= 1.0min\n",
      "[CV] kmeans__n_clusters=88 ...........................................\n",
      "[CV] ............................ kmeans__n_clusters=88, total= 1.0min\n",
      "[CV] kmeans__n_clusters=89 ...........................................\n",
      "[CV] ............................ kmeans__n_clusters=89, total= 1.1min\n",
      "[CV] kmeans__n_clusters=89 ...........................................\n",
      "[CV] ............................ kmeans__n_clusters=89, total= 1.0min\n",
      "[CV] kmeans__n_clusters=89 ...........................................\n",
      "[CV] ............................ kmeans__n_clusters=89, total= 1.1min\n",
      "[CV] kmeans__n_clusters=90 ...........................................\n",
      "[CV] ............................ kmeans__n_clusters=90, total= 1.1min\n",
      "[CV] kmeans__n_clusters=90 ...........................................\n",
      "[CV] ............................ kmeans__n_clusters=90, total= 1.0min\n",
      "[CV] kmeans__n_clusters=90 ...........................................\n",
      "[CV] ............................ kmeans__n_clusters=90, total= 1.0min\n",
      "[CV] kmeans__n_clusters=91 ...........................................\n",
      "[CV] ............................ kmeans__n_clusters=91, total= 1.0min\n",
      "[CV] kmeans__n_clusters=91 ...........................................\n",
      "[CV] ............................ kmeans__n_clusters=91, total= 1.1min\n",
      "[CV] kmeans__n_clusters=91 ...........................................\n",
      "[CV] ............................ kmeans__n_clusters=91, total= 1.1min\n",
      "[CV] kmeans__n_clusters=92 ...........................................\n",
      "[CV] ............................ kmeans__n_clusters=92, total= 1.1min\n",
      "[CV] kmeans__n_clusters=92 ...........................................\n",
      "[CV] ............................ kmeans__n_clusters=92, total= 1.1min\n",
      "[CV] kmeans__n_clusters=92 ...........................................\n",
      "[CV] ............................ kmeans__n_clusters=92, total= 1.1min\n",
      "[CV] kmeans__n_clusters=93 ...........................................\n",
      "[CV] ............................ kmeans__n_clusters=93, total= 1.1min\n",
      "[CV] kmeans__n_clusters=93 ...........................................\n",
      "[CV] ............................ kmeans__n_clusters=93, total= 1.1min\n",
      "[CV] kmeans__n_clusters=93 ...........................................\n",
      "[CV] ............................ kmeans__n_clusters=93, total= 1.1min\n",
      "[CV] kmeans__n_clusters=94 ...........................................\n",
      "[CV] ............................ kmeans__n_clusters=94, total= 1.1min\n",
      "[CV] kmeans__n_clusters=94 ...........................................\n",
      "[CV] ............................ kmeans__n_clusters=94, total= 1.1min\n",
      "[CV] kmeans__n_clusters=94 ...........................................\n",
      "[CV] ............................ kmeans__n_clusters=94, total= 1.1min\n",
      "[CV] kmeans__n_clusters=95 ...........................................\n",
      "[CV] ............................ kmeans__n_clusters=95, total= 1.1min\n",
      "[CV] kmeans__n_clusters=95 ...........................................\n",
      "[CV] ............................ kmeans__n_clusters=95, total= 1.1min\n",
      "[CV] kmeans__n_clusters=95 ...........................................\n",
      "[CV] ............................ kmeans__n_clusters=95, total= 1.1min\n",
      "[CV] kmeans__n_clusters=96 ...........................................\n",
      "[CV] ............................ kmeans__n_clusters=96, total= 1.1min\n",
      "[CV] kmeans__n_clusters=96 ...........................................\n",
      "[CV] ............................ kmeans__n_clusters=96, total= 1.1min\n",
      "[CV] kmeans__n_clusters=96 ...........................................\n",
      "[CV] ............................ kmeans__n_clusters=96, total= 1.1min\n",
      "[CV] kmeans__n_clusters=97 ...........................................\n",
      "[CV] ............................ kmeans__n_clusters=97, total= 1.1min\n",
      "[CV] kmeans__n_clusters=97 ...........................................\n",
      "[CV] ............................ kmeans__n_clusters=97, total= 1.1min\n",
      "[CV] kmeans__n_clusters=97 ...........................................\n",
      "[CV] ............................ kmeans__n_clusters=97, total= 1.1min\n",
      "[CV] kmeans__n_clusters=98 ...........................................\n",
      "[CV] ............................ kmeans__n_clusters=98, total= 1.1min\n",
      "[CV] kmeans__n_clusters=98 ...........................................\n",
      "[CV] ............................ kmeans__n_clusters=98, total= 1.1min\n",
      "[CV] kmeans__n_clusters=98 ...........................................\n",
      "[CV] ............................ kmeans__n_clusters=98, total= 1.1min\n",
      "[CV] kmeans__n_clusters=99 ...........................................\n",
      "[CV] ............................ kmeans__n_clusters=99, total= 1.1min\n",
      "[CV] kmeans__n_clusters=99 ...........................................\n",
      "[CV] ............................ kmeans__n_clusters=99, total= 1.1min\n",
      "[CV] kmeans__n_clusters=99 ...........................................\n",
      "[CV] ............................ kmeans__n_clusters=99, total= 1.1min\n",
      "[Parallel(n_jobs=1)]: Done 294 out of 294 | elapsed: 210.4min finished\n"
     ]
    },
    {
     "data": {
      "text/plain": [
       "GridSearchCV(cv=3,\n",
       "             estimator=Pipeline(steps=[('kmeans', KMeans(n_clusters=50)),\n",
       "                                       ('log_reg', LogisticRegression())]),\n",
       "             param_grid={'kmeans__n_clusters': range(2, 100)}, verbose=2)"
      ]
     },
     "execution_count": 165,
     "metadata": {},
     "output_type": "execute_result"
    }
   ],
   "source": [
    "from sklearn.pipeline import Pipeline\n",
    "from sklearn.model_selection import GridSearchCV\n",
    "\n",
    "pipeline = Pipeline([\n",
    "    ('kmeans', KMeans(n_clusters=92)),\n",
    "    ('log_reg', LogisticRegression()),\n",
    "])\n",
    "pipeline.fit(X_train, y_train)\n",
    "\n",
    "param_grid = dict(kmeans__n_clusters=range(2,100))\n",
    "grid_clf = GridSearchCV(pipeline, param_grid, cv=3, verbose=2)\n",
    "grid_clf.fit(X_train, y_train)"
   ]
  },
  {
   "cell_type": "code",
   "execution_count": 168,
   "metadata": {},
   "outputs": [
    {
     "data": {
      "text/plain": [
       "Pipeline(steps=[('kmeans', KMeans(n_clusters=92)),\n",
       "                ('log_reg', LogisticRegression())])"
      ]
     },
     "execution_count": 168,
     "metadata": {},
     "output_type": "execute_result"
    }
   ],
   "source": [
    "from sklearn.pipeline import Pipeline\n",
    "from sklearn.model_selection import GridSearchCV\n",
    "\n",
    "pipeline = Pipeline([\n",
    "    ('kmeans', KMeans(n_clusters=92)),\n",
    "    ('log_reg', LogisticRegression()),\n",
    "])\n",
    "pipeline.fit(X_train, y_train)"
   ]
  },
  {
   "cell_type": "code",
   "execution_count": 169,
   "metadata": {},
   "outputs": [
    {
     "data": {
      "text/plain": [
       "0.8679761904761905"
      ]
     },
     "execution_count": 169,
     "metadata": {},
     "output_type": "execute_result"
    }
   ],
   "source": [
    "pipeline.score(X_test, y_test)"
   ]
  },
  {
   "cell_type": "code",
   "execution_count": 167,
   "metadata": {},
   "outputs": [
    {
     "data": {
      "text/plain": [
       "{'kmeans__n_clusters': 92}"
      ]
     },
     "execution_count": 167,
     "metadata": {},
     "output_type": "execute_result"
    }
   ],
   "source": [
    "grid_clf.best_params_"
   ]
  }
 ],
 "metadata": {
  "kernelspec": {
   "display_name": "Python 3",
   "language": "python",
   "name": "python3"
  },
  "language_info": {
   "codemirror_mode": {
    "name": "ipython",
    "version": 3
   },
   "file_extension": ".py",
   "mimetype": "text/x-python",
   "name": "python",
   "nbconvert_exporter": "python",
   "pygments_lexer": "ipython3",
   "version": "3.7.3"
  },
  "toc": {
   "base_numbering": 1,
   "nav_menu": {},
   "number_sections": true,
   "sideBar": true,
   "skip_h1_title": false,
   "title_cell": "Table of Contents",
   "title_sidebar": "Contents",
   "toc_cell": false,
   "toc_position": {},
   "toc_section_display": true,
   "toc_window_display": false
  }
 },
 "nbformat": 4,
 "nbformat_minor": 2
}
