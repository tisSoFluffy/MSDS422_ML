{
 "cells": [
  {
   "cell_type": "code",
   "execution_count": 1,
   "metadata": {},
   "outputs": [],
   "source": [
    "from keras.preprocessing.image import load_img\n",
    "from keras.preprocessing.image import img_to_array\n",
    "from keras.preprocessing.image import array_to_img\n",
    "import tensorflow as tf\n",
    "import matplotlib.image as mpimg\n",
    "from datetime import datetime\n",
    "import matplotlib.pyplot as plt\n",
    "import numpy as np\n",
    "import pandas as pd\n",
    "import keras"
   ]
  },
  {
   "cell_type": "code",
   "execution_count": 2,
   "metadata": {},
   "outputs": [
    {
     "name": "stdout",
     "output_type": "stream",
     "text": [
      "Found 25000 files belonging to 2 classes.\n",
      "Using 17500 files for training.\n",
      "Found 25000 files belonging to 2 classes.\n",
      "Using 7500 files for validation.\n"
     ]
    }
   ],
   "source": [
    "directory = 'animals'\n",
    "train_df =  tf.keras.preprocessing.image_dataset_from_directory(\n",
    "    directory,\n",
    "    labels=\"inferred\",\n",
    "    label_mode=\"int\",\n",
    "    class_names=None,\n",
    "    color_mode=\"rgb\",\n",
    "    batch_size=32,\n",
    "    image_size=(128, 128),\n",
    "    shuffle=True,\n",
    "    seed=435,\n",
    "    validation_split=.3,\n",
    "    subset='training',\n",
    "    interpolation=\"bilinear\"\n",
    ")\n",
    "val_ds = tf.keras.preprocessing.image_dataset_from_directory(\n",
    "    directory,\n",
    "    labels=\"inferred\",\n",
    "    label_mode=\"int\",\n",
    "    class_names=None,\n",
    "    color_mode=\"rgb\",\n",
    "    batch_size=32,\n",
    "    image_size=(128, 128),\n",
    "    shuffle=True,\n",
    "    seed=435,\n",
    "    validation_split=.3,\n",
    "    subset='validation',\n",
    "    interpolation=\"bilinear\"\n",
    ")"
   ]
  },
  {
   "cell_type": "code",
   "execution_count": 3,
   "metadata": {},
   "outputs": [
    {
     "data": {
      "text/plain": [
       "['cats', 'dogs']"
      ]
     },
     "execution_count": 3,
     "metadata": {},
     "output_type": "execute_result"
    }
   ],
   "source": [
    "train_df.class_names"
   ]
  },
  {
   "cell_type": "code",
   "execution_count": 4,
   "metadata": {},
   "outputs": [],
   "source": [
    "test_directory = '/Users/jasminesamuel/Desktop/test-1'"
   ]
  },
  {
   "cell_type": "code",
   "execution_count": 5,
   "metadata": {},
   "outputs": [
    {
     "name": "stdout",
     "output_type": "stream",
     "text": [
      "Found 12500 files belonging to 1 classes.\n"
     ]
    }
   ],
   "source": [
    "test = tf.keras.preprocessing.image_dataset_from_directory(\n",
    "    test_directory,\n",
    "    labels=\"inferred\",\n",
    "    label_mode=\"int\",\n",
    "    class_names=None,\n",
    "    color_mode=\"rgb\",\n",
    "    batch_size=32,\n",
    "    image_size=(128, 128),\n",
    "    shuffle=True,\n",
    "    seed=435,\n",
    "    interpolation=\"bilinear\"\n",
    ")"
   ]
  },
  {
   "cell_type": "code",
   "execution_count": 6,
   "metadata": {},
   "outputs": [],
   "source": [
    "my_callbacks = [\n",
    "    tf.keras.callbacks.EarlyStopping(patience=3),\n",
    "    tf.keras.callbacks.ReduceLROnPlateau(monitor='val_loss', factor=0.2, patience=2, min_lr=0.001)\n",
    "]\n",
    "adam_optimizer = keras.optimizers.Adam(learning_rate=0.001,\n",
    "                                                 beta_1=0.9,\n",
    "                                                 beta_2=0.999)\n",
    "\n",
    "sgd_optimizer = keras.optimizers.SGD(lr=.02, momentum=0.9, decay=0.01)"
   ]
  },
  {
   "cell_type": "code",
   "execution_count": 7,
   "metadata": {},
   "outputs": [],
   "source": [
    "model1 = keras.models.Sequential([\n",
    "    keras.layers.Conv2D(filters= 32, kernel_size=(3,3),strides=1, activation='relu', padding='same',\n",
    "                       input_shape=[128,128,3]),\n",
    "    keras.layers.BatchNormalization(),\n",
    "    keras.layers.Activation('relu'),\n",
    "    keras.layers.MaxPooling2D(pool_size=2, strides=2),\n",
    "    keras.layers.Conv2D(64, (3,3), activation='relu'),\n",
    "    keras.layers.MaxPooling2D(pool_size=2, strides=2),\n",
    "    keras.layers.Conv2D(124, (3,3), activation='relu'),\n",
    "    keras.layers.MaxPooling2D(pool_size=2, strides=2),\n",
    "    keras.layers.Flatten(),\n",
    "    keras.layers.BatchNormalization(),\n",
    "    keras.layers.Dense(500, activation='relu', kernel_regularizer=keras.regularizers.l2(0.01)),\n",
    "    keras.layers.Dense(1, activation='sigmoid',kernel_regularizer=keras.regularizers.l2(0.01))\n",
    "    \n",
    "    \n",
    "])"
   ]
  },
  {
   "cell_type": "code",
   "execution_count": 8,
   "metadata": {},
   "outputs": [
    {
     "name": "stdout",
     "output_type": "stream",
     "text": [
      "Epoch 1/15\n",
      "547/547 [==============================] - 705s 1s/step - loss: 5.0501 - accuracy: 0.6806 - val_loss: 2.8857 - val_accuracy: 0.7383\n",
      "Epoch 2/15\n",
      "547/547 [==============================] - 710s 1s/step - loss: 2.2953 - accuracy: 0.7751 - val_loss: 2.0232 - val_accuracy: 0.7083\n",
      "Epoch 3/15\n",
      "547/547 [==============================] - 655s 1s/step - loss: 1.6606 - accuracy: 0.8166 - val_loss: 1.6355 - val_accuracy: 0.7271\n",
      "Epoch 4/15\n",
      "547/547 [==============================] - 651s 1s/step - loss: 1.3430 - accuracy: 0.8465 - val_loss: 1.3485 - val_accuracy: 0.7881\n",
      "Epoch 5/15\n",
      "547/547 [==============================] - 663s 1s/step - loss: 1.1463 - accuracy: 0.8714 - val_loss: 1.2217 - val_accuracy: 0.7900\n",
      "Epoch 6/15\n",
      "547/547 [==============================] - 651s 1s/step - loss: 1.0114 - accuracy: 0.8869 - val_loss: 1.1262 - val_accuracy: 0.7947\n",
      "Epoch 7/15\n",
      "547/547 [==============================] - 653s 1s/step - loss: 0.9146 - accuracy: 0.8989 - val_loss: 1.0795 - val_accuracy: 0.7823\n",
      "Epoch 8/15\n",
      "547/547 [==============================] - 653s 1s/step - loss: 0.8364 - accuracy: 0.9150 - val_loss: 0.9944 - val_accuracy: 0.8103\n",
      "Epoch 9/15\n",
      "547/547 [==============================] - 1102s 2s/step - loss: 0.7771 - accuracy: 0.9218 - val_loss: 0.9677 - val_accuracy: 0.8056\n",
      "Epoch 10/15\n",
      "547/547 [==============================] - 652s 1s/step - loss: 0.7247 - accuracy: 0.9334 - val_loss: 0.9149 - val_accuracy: 0.8161\n",
      "Epoch 11/15\n",
      "547/547 [==============================] - 651s 1s/step - loss: 0.6817 - accuracy: 0.9400 - val_loss: 0.8864 - val_accuracy: 0.8201\n",
      "Epoch 12/15\n",
      "547/547 [==============================] - 664s 1s/step - loss: 0.6495 - accuracy: 0.9422 - val_loss: 0.8701 - val_accuracy: 0.8180\n",
      "Epoch 13/15\n",
      "547/547 [==============================] - 662s 1s/step - loss: 0.6190 - accuracy: 0.9499 - val_loss: 0.8564 - val_accuracy: 0.8160\n",
      "Epoch 14/15\n",
      "547/547 [==============================] - 669s 1s/step - loss: 0.5946 - accuracy: 0.9523 - val_loss: 0.8227 - val_accuracy: 0.8268\n",
      "Epoch 15/15\n",
      "547/547 [==============================] - 682s 1s/step - loss: 0.5737 - accuracy: 0.9546 - val_loss: 0.8069 - val_accuracy: 0.8268\n",
      "Time elapsed\n",
      "2:54:18.074839\n",
      "Fit model on training data\n"
     ]
    },
    {
     "data": {
      "text/plain": [
       "{'loss': [5.05006217956543,\n",
       "  2.2952752113342285,\n",
       "  1.6605913639068604,\n",
       "  1.343035340309143,\n",
       "  1.1462757587432861,\n",
       "  1.0114262104034424,\n",
       "  0.9145678877830505,\n",
       "  0.8364250659942627,\n",
       "  0.7770538330078125,\n",
       "  0.7246623635292053,\n",
       "  0.6816500425338745,\n",
       "  0.6494920253753662,\n",
       "  0.6189975738525391,\n",
       "  0.5946130156517029,\n",
       "  0.5737034678459167],\n",
       " 'accuracy': [0.680571436882019,\n",
       "  0.7750856876373291,\n",
       "  0.8165714144706726,\n",
       "  0.8465142846107483,\n",
       "  0.8714285492897034,\n",
       "  0.8869143128395081,\n",
       "  0.8988571166992188,\n",
       "  0.9149714112281799,\n",
       "  0.92182856798172,\n",
       "  0.9334285855293274,\n",
       "  0.9399999976158142,\n",
       "  0.9422285556793213,\n",
       "  0.9499428868293762,\n",
       "  0.9522857069969177,\n",
       "  0.954628586769104],\n",
       " 'val_loss': [2.885737180709839,\n",
       "  2.023183822631836,\n",
       "  1.635475993156433,\n",
       "  1.3485240936279297,\n",
       "  1.2217321395874023,\n",
       "  1.1262226104736328,\n",
       "  1.0795105695724487,\n",
       "  0.994401216506958,\n",
       "  0.9677214026451111,\n",
       "  0.9149035811424255,\n",
       "  0.8864067792892456,\n",
       "  0.870059072971344,\n",
       "  0.8564140200614929,\n",
       "  0.8226652145385742,\n",
       "  0.8069444894790649],\n",
       " 'val_accuracy': [0.73826664686203,\n",
       "  0.7082666754722595,\n",
       "  0.727066695690155,\n",
       "  0.7881333231925964,\n",
       "  0.7900000214576721,\n",
       "  0.7946666479110718,\n",
       "  0.7822666764259338,\n",
       "  0.8102666735649109,\n",
       "  0.8055999875068665,\n",
       "  0.8161333203315735,\n",
       "  0.8201333284378052,\n",
       "  0.8180000185966492,\n",
       "  0.8159999847412109,\n",
       "  0.8267999887466431,\n",
       "  0.8267999887466431],\n",
       " 'lr': [0.02,\n",
       "  0.02,\n",
       "  0.02,\n",
       "  0.02,\n",
       "  0.02,\n",
       "  0.02,\n",
       "  0.02,\n",
       "  0.02,\n",
       "  0.02,\n",
       "  0.02,\n",
       "  0.02,\n",
       "  0.02,\n",
       "  0.02,\n",
       "  0.02,\n",
       "  0.02]}"
      ]
     },
     "execution_count": 8,
     "metadata": {},
     "output_type": "execute_result"
    }
   ],
   "source": [
    "model1.compile(loss='binary_crossentropy', optimizer= sgd_optimizer, metrics=['accuracy'])\n",
    "\n",
    "# fit model\n",
    "time_start = datetime.now()\n",
    "history1 = model1.fit(train_df, epochs=15, validation_data=val_ds,batch_size=32, callbacks=my_callbacks)\n",
    "time_end = datetime.now()\n",
    "time_elapsed = time_end - time_start\n",
    "\n",
    "print('Time elapsed')\n",
    "print(time_elapsed)\n",
    "print(\"Fit model on training data\")\n",
    "history1.history"
   ]
  },
  {
   "cell_type": "code",
   "execution_count": 9,
   "metadata": {},
   "outputs": [
    {
     "name": "stdout",
     "output_type": "stream",
     "text": [
      "Prediction on test data\n"
     ]
    },
    {
     "data": {
      "text/plain": [
       "array([[0.0125362 ],\n",
       "       [0.05318043],\n",
       "       [0.5549978 ],\n",
       "       ...,\n",
       "       [0.3694193 ],\n",
       "       [0.48061836],\n",
       "       [0.9788165 ]], dtype=float32)"
      ]
     },
     "execution_count": 9,
     "metadata": {},
     "output_type": "execute_result"
    }
   ],
   "source": [
    "print(\"Prediction on test data\")\n",
    "predictions1 = model1.predict(test)\n",
    "predictions1"
   ]
  },
  {
   "cell_type": "code",
   "execution_count": 10,
   "metadata": {},
   "outputs": [],
   "source": [
    "model2 = keras.models.Sequential([\n",
    "    keras.layers.Conv2D(filters= 16, kernel_size=3,strides=1, activation='relu', padding='same',\n",
    "                       input_shape=[128,128,3]),\n",
    "    keras.layers.BatchNormalization(),\n",
    "    keras.layers.LeakyReLU(alpha=0.01),\n",
    "    keras.layers.MaxPooling2D(pool_size=2, strides=2),\n",
    "    keras.layers.Conv2D(32, (3,3), activation='relu'),\n",
    "    keras.layers.Conv2D(32, (3,3), activation='relu'),\n",
    "    keras.layers.Conv2D(32, (3,3), activation='relu'),\n",
    "    keras.layers.MaxPooling2D(pool_size=2, strides=2),\n",
    "    keras.layers.Conv2D(64, (3,3), activation='relu'),\n",
    "    keras.layers.Conv2D(64, (3,3), activation='relu'),\n",
    "    keras.layers.MaxPooling2D(pool_size=2, strides=2),\n",
    "    keras.layers.Conv2D(128, (3,3), activation='relu'),\n",
    "    keras.layers.MaxPooling2D(pool_size=2, strides=2),\n",
    "    keras.layers.Flatten(),\n",
    "    keras.layers.BatchNormalization(),\n",
    "    keras.layers.Dense(525, activation='relu',kernel_regularizer=keras.regularizers.l2(0.02)),\n",
    "    keras.layers.Dense(1, activation='sigmoid',kernel_regularizer=keras.regularizers.l2(0.02))\n",
    "    \n",
    "    \n",
    "])"
   ]
  },
  {
   "cell_type": "code",
   "execution_count": 11,
   "metadata": {},
   "outputs": [],
   "source": [
    "model2.compile(loss=\"binary_crossentropy\", optimizer=sgd_optimizer, metrics=[\"accuracy\"])"
   ]
  },
  {
   "cell_type": "code",
   "execution_count": 12,
   "metadata": {},
   "outputs": [
    {
     "name": "stdout",
     "output_type": "stream",
     "text": [
      "Epoch 1/15\n",
      "547/547 [==============================] - 566s 1s/step - loss: 17.8840 - accuracy: 0.6029 - val_loss: 16.9999 - val_accuracy: 0.6317\n",
      "Epoch 2/15\n",
      "547/547 [==============================] - 557s 1s/step - loss: 16.1778 - accuracy: 0.6830 - val_loss: 15.4375 - val_accuracy: 0.7049\n",
      "Epoch 3/15\n",
      "547/547 [==============================] - 561s 1s/step - loss: 14.7398 - accuracy: 0.7286 - val_loss: 14.1825 - val_accuracy: 0.6608\n",
      "Epoch 4/15\n",
      "547/547 [==============================] - 571s 1s/step - loss: 13.5068 - accuracy: 0.7562 - val_loss: 13.0789 - val_accuracy: 0.6489\n",
      "Epoch 5/15\n",
      "547/547 [==============================] - 572s 1s/step - loss: 12.4382 - accuracy: 0.7734 - val_loss: 11.9765 - val_accuracy: 0.7692\n",
      "Epoch 6/15\n",
      "547/547 [==============================] - 570s 1s/step - loss: 11.5044 - accuracy: 0.7912 - val_loss: 11.1547 - val_accuracy: 0.7435\n",
      "Epoch 7/15\n",
      "547/547 [==============================] - 570s 1s/step - loss: 10.6832 - accuracy: 0.8043 - val_loss: 10.3421 - val_accuracy: 0.7920\n",
      "Epoch 8/15\n",
      "547/547 [==============================] - 564s 1s/step - loss: 9.9534 - accuracy: 0.8185 - val_loss: 9.6633 - val_accuracy: 0.7905\n",
      "Epoch 9/15\n",
      "547/547 [==============================] - 3514s 6s/step - loss: 9.3048 - accuracy: 0.8257 - val_loss: 9.0552 - val_accuracy: 0.8016\n",
      "Epoch 10/15\n",
      "547/547 [==============================] - 563s 1s/step - loss: 8.7274 - accuracy: 0.8315 - val_loss: 8.5065 - val_accuracy: 0.8071\n",
      "Epoch 11/15\n",
      "547/547 [==============================] - 568s 1s/step - loss: 8.2056 - accuracy: 0.8374 - val_loss: 8.0263 - val_accuracy: 0.8045\n",
      "Epoch 12/15\n",
      "547/547 [==============================] - 562s 1s/step - loss: 7.7313 - accuracy: 0.8457 - val_loss: 7.5590 - val_accuracy: 0.8199\n",
      "Epoch 13/15\n",
      "547/547 [==============================] - 559s 1s/step - loss: 7.3028 - accuracy: 0.8490 - val_loss: 7.3637 - val_accuracy: 0.6887\n",
      "Epoch 14/15\n",
      "547/547 [==============================] - 637s 1s/step - loss: 6.9178 - accuracy: 0.8542 - val_loss: 6.7911 - val_accuracy: 0.8211\n",
      "Epoch 15/15\n",
      "547/547 [==============================] - 565s 1s/step - loss: 6.5577 - accuracy: 0.8600 - val_loss: 6.4890 - val_accuracy: 0.8017\n",
      "Time elapsed\n",
      "6:09:19.281675\n",
      "Fit model on training data\n"
     ]
    },
    {
     "data": {
      "text/plain": [
       "{'loss': [17.88401985168457,\n",
       "  16.177804946899414,\n",
       "  14.739846229553223,\n",
       "  13.5067720413208,\n",
       "  12.438214302062988,\n",
       "  11.504375457763672,\n",
       "  10.683182716369629,\n",
       "  9.95340347290039,\n",
       "  9.30482292175293,\n",
       "  8.72742748260498,\n",
       "  8.205578804016113,\n",
       "  7.731285572052002,\n",
       "  7.30284309387207,\n",
       "  6.917820453643799,\n",
       "  6.557654857635498],\n",
       " 'accuracy': [0.6028571724891663,\n",
       "  0.6829714179039001,\n",
       "  0.7285714149475098,\n",
       "  0.7562285661697388,\n",
       "  0.7734285593032837,\n",
       "  0.7911999821662903,\n",
       "  0.8042857050895691,\n",
       "  0.8185142874717712,\n",
       "  0.8256571292877197,\n",
       "  0.8315428495407104,\n",
       "  0.8374285697937012,\n",
       "  0.8456571698188782,\n",
       "  0.848971426486969,\n",
       "  0.8541714549064636,\n",
       "  0.8600000143051147],\n",
       " 'val_loss': [16.999853134155273,\n",
       "  15.43750286102295,\n",
       "  14.182469367980957,\n",
       "  13.078941345214844,\n",
       "  11.976461410522461,\n",
       "  11.154729843139648,\n",
       "  10.342116355895996,\n",
       "  9.663337707519531,\n",
       "  9.055197715759277,\n",
       "  8.5064697265625,\n",
       "  8.026325225830078,\n",
       "  7.559018135070801,\n",
       "  7.363685607910156,\n",
       "  6.79112434387207,\n",
       "  6.489024639129639],\n",
       " 'val_accuracy': [0.6317333579063416,\n",
       "  0.7049333453178406,\n",
       "  0.6607999801635742,\n",
       "  0.6489333510398865,\n",
       "  0.7692000269889832,\n",
       "  0.7434666752815247,\n",
       "  0.7919999957084656,\n",
       "  0.7905333042144775,\n",
       "  0.8015999794006348,\n",
       "  0.8070666790008545,\n",
       "  0.8045333623886108,\n",
       "  0.8198666572570801,\n",
       "  0.6886666417121887,\n",
       "  0.821066677570343,\n",
       "  0.8017333149909973],\n",
       " 'lr': [0.02,\n",
       "  0.02,\n",
       "  0.02,\n",
       "  0.02,\n",
       "  0.02,\n",
       "  0.02,\n",
       "  0.02,\n",
       "  0.02,\n",
       "  0.02,\n",
       "  0.02,\n",
       "  0.02,\n",
       "  0.02,\n",
       "  0.02,\n",
       "  0.02,\n",
       "  0.02]}"
      ]
     },
     "execution_count": 12,
     "metadata": {},
     "output_type": "execute_result"
    }
   ],
   "source": [
    "history2 = model2.fit(train_df, epochs=15, validation_data=val_ds,batch_size=32, callbacks=my_callbacks)\n",
    "time_end = datetime.now()\n",
    "time_elapsed = time_end - time_start\n",
    "\n",
    "print('Time elapsed')\n",
    "print(time_elapsed)\n",
    "print(\"Fit model on training data\")\n",
    "history2.history"
   ]
  },
  {
   "cell_type": "code",
   "execution_count": 13,
   "metadata": {},
   "outputs": [
    {
     "name": "stdout",
     "output_type": "stream",
     "text": [
      "Evaluate on test data\n"
     ]
    },
    {
     "data": {
      "text/plain": [
       "array([[0.68304574],\n",
       "       [0.06257614],\n",
       "       [0.0265061 ],\n",
       "       ...,\n",
       "       [0.1607689 ],\n",
       "       [0.5228107 ],\n",
       "       [0.9601995 ]], dtype=float32)"
      ]
     },
     "execution_count": 13,
     "metadata": {},
     "output_type": "execute_result"
    }
   ],
   "source": [
    "print(\"Evaluate on test data\")\n",
    "predictions2 = model2.predict(test)\n",
    "predictions2"
   ]
  },
  {
   "cell_type": "code",
   "execution_count": 14,
   "metadata": {},
   "outputs": [],
   "source": [
    "model3 = keras.models.Sequential([\n",
    "    keras.layers.Conv2D(filters= 64, kernel_size=3,strides=1, activation='relu', padding='same',\n",
    "                       input_shape=[128,128,3]),\n",
    "    keras.layers.BatchNormalization(),\n",
    "    keras.layers.Activation('relu'),\n",
    "    keras.layers.MaxPooling2D(pool_size=2),\n",
    "    keras.layers.Conv2D(128,3, activation='relu',padding='same'),\n",
    "    keras.layers.Conv2D(128,3, activation='relu',padding='same'),\n",
    "    keras.layers.MaxPooling2D(pool_size=2),\n",
    "    keras.layers.Conv2D(256,3, activation='relu',padding='same'),\n",
    "    keras.layers.Conv2D(256,3, activation='relu',padding='same'),\n",
    "    keras.layers.MaxPooling2D(pool_size=2),\n",
    "    keras.layers.Flatten(),\n",
    "    keras.layers.BatchNormalization(),\n",
    "    keras.layers.Dense(1000, activation='relu'),\n",
    "    keras.layers.Dropout(0.25),\n",
    "    keras.layers.BatchNormalization(),\n",
    "    keras.layers.Dense(100, activation='relu'),\n",
    "    keras.layers.Dropout(0.25),\n",
    "    keras.layers.BatchNormalization(),\n",
    "    keras.layers.Dense(1, activation='sigmoid')\n",
    "])"
   ]
  },
  {
   "cell_type": "code",
   "execution_count": 15,
   "metadata": {},
   "outputs": [],
   "source": [
    "model3.compile(loss=tf.keras.losses.binary_crossentropy,\n",
    "              optimizer=adam_optimizer,\n",
    "              metrics=['accuracy'])"
   ]
  },
  {
   "cell_type": "code",
   "execution_count": 16,
   "metadata": {},
   "outputs": [
    {
     "name": "stdout",
     "output_type": "stream",
     "text": [
      "Epoch 1/5\n",
      "547/547 [==============================] - 3354s 6s/step - loss: 0.6545 - accuracy: 0.6470 - val_loss: 0.6132 - val_accuracy: 0.6652\n",
      "Epoch 2/5\n",
      "547/547 [==============================] - 5582s 10s/step - loss: 0.5106 - accuracy: 0.7517 - val_loss: 0.5270 - val_accuracy: 0.7357\n",
      "Epoch 3/5\n",
      "547/547 [==============================] - 3383s 6s/step - loss: 0.4276 - accuracy: 0.8050 - val_loss: 0.6236 - val_accuracy: 0.6769\n",
      "Epoch 4/5\n",
      "547/547 [==============================] - 3280s 6s/step - loss: 0.3743 - accuracy: 0.8363 - val_loss: 0.4307 - val_accuracy: 0.7991\n",
      "Epoch 5/5\n",
      "547/547 [==============================] - 3293s 6s/step - loss: 0.3234 - accuracy: 0.8610 - val_loss: 0.3685 - val_accuracy: 0.8333\n",
      "Time elapsed\n",
      "5:15:36.527536\n",
      "Fit model on training data\n"
     ]
    },
    {
     "data": {
      "text/plain": [
       "{'loss': [0.6545300483703613,\n",
       "  0.5106210112571716,\n",
       "  0.42763569951057434,\n",
       "  0.37433210015296936,\n",
       "  0.3233620524406433],\n",
       " 'accuracy': [0.6470285654067993,\n",
       "  0.751714289188385,\n",
       "  0.80497145652771,\n",
       "  0.8363428711891174,\n",
       "  0.8610285520553589],\n",
       " 'val_loss': [0.6131600737571716,\n",
       "  0.5269775986671448,\n",
       "  0.6236370205879211,\n",
       "  0.43072938919067383,\n",
       "  0.36848410964012146],\n",
       " 'val_accuracy': [0.6651999950408936,\n",
       "  0.7357333302497864,\n",
       "  0.6769333481788635,\n",
       "  0.7990666627883911,\n",
       "  0.8333333134651184],\n",
       " 'lr': [0.001, 0.001, 0.001, 0.001, 0.001]}"
      ]
     },
     "execution_count": 16,
     "metadata": {},
     "output_type": "execute_result"
    }
   ],
   "source": [
    "time_start = datetime.now()\n",
    "history3 = model3.fit(train_df, epochs=5, validation_data=val_ds,batch_size=32, callbacks=my_callbacks)\n",
    "time_end = datetime.now()\n",
    "time_elapsed = time_end - time_start\n",
    "\n",
    "print('Time elapsed')\n",
    "print(time_elapsed)\n",
    "print(\"Fit model on training data\")\n",
    "history3.history"
   ]
  },
  {
   "cell_type": "code",
   "execution_count": 84,
   "metadata": {},
   "outputs": [
    {
     "name": "stdout",
     "output_type": "stream",
     "text": [
      "Evaluate on test data\n"
     ]
    },
    {
     "data": {
      "text/plain": [
       "array([[0.13625988],\n",
       "       [0.46567747],\n",
       "       [0.7302501 ],\n",
       "       ...,\n",
       "       [0.95563364],\n",
       "       [0.99239916],\n",
       "       [0.15077016]], dtype=float32)"
      ]
     },
     "execution_count": 84,
     "metadata": {},
     "output_type": "execute_result"
    }
   ],
   "source": [
    "print(\"Evaluate on test data\")\n",
    "predictions3 = model3.predict(test)\n",
    "predictions3"
   ]
  },
  {
   "cell_type": "code",
   "execution_count": 18,
   "metadata": {},
   "outputs": [],
   "source": [
    "model4 = keras.models.Sequential([\n",
    "    keras.layers.Conv2D(filters= 64, kernel_size=(3,3),strides=1, activation='relu', padding='same',\n",
    "                       input_shape=[128,128,3]),\n",
    "    keras.layers.MaxPooling2D(pool_size=2),\n",
    "    keras.layers.Conv2D(128,3, activation='relu',padding='same'),\n",
    "    keras.layers.Conv2D(128,3, activation='relu',padding='same'),\n",
    "    keras.layers.MaxPooling2D(pool_size=2),\n",
    "    keras.layers.Conv2D(256,3, activation='relu',padding='same'),\n",
    "    keras.layers.Conv2D(256,3, activation='relu',padding='same'),\n",
    "    keras.layers.MaxPooling2D(pool_size=2),\n",
    "    keras.layers.Flatten(),\n",
    "    keras.layers.BatchNormalization(),\n",
    "    keras.layers.Dense(1000, activation='relu'),\n",
    "    keras.layers.Dropout(0.25),\n",
    "    keras.layers.BatchNormalization(),\n",
    "    keras.layers.Dense(100, activation='relu'),\n",
    "    keras.layers.Dropout(0.25),\n",
    "    keras.layers.BatchNormalization(),\n",
    "    keras.layers.Dense(1, activation='sigmoid')\n",
    "])"
   ]
  },
  {
   "cell_type": "code",
   "execution_count": 19,
   "metadata": {},
   "outputs": [],
   "source": [
    "model4.compile(loss=tf.keras.losses.binary_crossentropy,\n",
    "              optimizer=adam_optimizer,\n",
    "              metrics=['accuracy'])"
   ]
  },
  {
   "cell_type": "code",
   "execution_count": 20,
   "metadata": {},
   "outputs": [
    {
     "name": "stdout",
     "output_type": "stream",
     "text": [
      "Epoch 1/30\n",
      "547/547 [==============================] - 3082s 6s/step - loss: 0.6918 - accuracy: 0.5796 - val_loss: 0.6639 - val_accuracy: 0.5909\n",
      "Epoch 2/30\n",
      "547/547 [==============================] - 3061s 6s/step - loss: 0.6474 - accuracy: 0.6262 - val_loss: 19.6610 - val_accuracy: 0.5105\n",
      "Epoch 3/30\n",
      "547/547 [==============================] - 3020s 6s/step - loss: 0.6027 - accuracy: 0.6695 - val_loss: 0.8344 - val_accuracy: 0.5421\n",
      "Epoch 4/30\n",
      "547/547 [==============================] - 2939s 5s/step - loss: 0.5843 - accuracy: 0.6861 - val_loss: 0.6411 - val_accuracy: 0.6324\n",
      "Epoch 5/30\n",
      "547/547 [==============================] - 2935s 5s/step - loss: 0.6153 - accuracy: 0.6588 - val_loss: 0.6738 - val_accuracy: 0.6444\n",
      "Epoch 6/30\n",
      "547/547 [==============================] - 2933s 5s/step - loss: 0.5790 - accuracy: 0.6991 - val_loss: 3.0616 - val_accuracy: 0.6615\n",
      "Epoch 7/30\n",
      "547/547 [==============================] - 2945s 5s/step - loss: 0.5653 - accuracy: 0.7078 - val_loss: 1.5871 - val_accuracy: 0.6916\n",
      "Time elapsed\n",
      "5:49:22.051340\n",
      "Fit model on training data\n"
     ]
    },
    {
     "data": {
      "text/plain": [
       "{'loss': [0.69181889295578,\n",
       "  0.6474006772041321,\n",
       "  0.6027238965034485,\n",
       "  0.5842838287353516,\n",
       "  0.615260899066925,\n",
       "  0.5789574980735779,\n",
       "  0.5653097033500671],\n",
       " 'accuracy': [0.5795999765396118,\n",
       "  0.6262285709381104,\n",
       "  0.6695428490638733,\n",
       "  0.6860571503639221,\n",
       "  0.6588000059127808,\n",
       "  0.6990857124328613,\n",
       "  0.7078285813331604],\n",
       " 'val_loss': [0.6638781428337097,\n",
       "  19.66098403930664,\n",
       "  0.8343724608421326,\n",
       "  0.6410884261131287,\n",
       "  0.6737872958183289,\n",
       "  3.0615665912628174,\n",
       "  1.5870946645736694],\n",
       " 'val_accuracy': [0.5909333229064941,\n",
       "  0.510533332824707,\n",
       "  0.5421333312988281,\n",
       "  0.6323999762535095,\n",
       "  0.6444000005722046,\n",
       "  0.661466658115387,\n",
       "  0.6916000247001648],\n",
       " 'lr': [0.001, 0.001, 0.001, 0.001, 0.001, 0.001, 0.001]}"
      ]
     },
     "execution_count": 20,
     "metadata": {},
     "output_type": "execute_result"
    }
   ],
   "source": [
    "# fit model\n",
    "time_start = datetime.now()\n",
    "history4 = model4.fit(train_df, epochs=30, validation_data=val_ds,batch_size=32, callbacks=my_callbacks)\n",
    "time_end = datetime.now()\n",
    "time_elapsed = time_end - time_start\n",
    "\n",
    "print('Time elapsed')\n",
    "print(time_elapsed)\n",
    "print(\"Fit model on training data\")\n",
    "history4.history"
   ]
  },
  {
   "cell_type": "code",
   "execution_count": 21,
   "metadata": {},
   "outputs": [
    {
     "name": "stdout",
     "output_type": "stream",
     "text": [
      "Evaluate on test data\n"
     ]
    },
    {
     "data": {
      "text/plain": [
       "array([[0.35156664],\n",
       "       [0.14072984],\n",
       "       [0.97780406],\n",
       "       ...,\n",
       "       [0.04102847],\n",
       "       [0.37930292],\n",
       "       [0.2946758 ]], dtype=float32)"
      ]
     },
     "execution_count": 21,
     "metadata": {},
     "output_type": "execute_result"
    }
   ],
   "source": [
    "print(\"Evaluate on test data\")\n",
    "predictions4 = model4.predict(test)\n",
    "predictions4"
   ]
  },
  {
   "cell_type": "code",
   "execution_count": 33,
   "metadata": {},
   "outputs": [
    {
     "data": {
      "text/html": [
       "<div>\n",
       "<style scoped>\n",
       "    .dataframe tbody tr th:only-of-type {\n",
       "        vertical-align: middle;\n",
       "    }\n",
       "\n",
       "    .dataframe tbody tr th {\n",
       "        vertical-align: top;\n",
       "    }\n",
       "\n",
       "    .dataframe thead th {\n",
       "        text-align: right;\n",
       "    }\n",
       "</style>\n",
       "<table border=\"1\" class=\"dataframe\">\n",
       "  <thead>\n",
       "    <tr style=\"text-align: right;\">\n",
       "      <th></th>\n",
       "      <th>model1</th>\n",
       "      <th>model2</th>\n",
       "      <th>model3</th>\n",
       "      <th>model4</th>\n",
       "    </tr>\n",
       "  </thead>\n",
       "  <tbody>\n",
       "    <tr>\n",
       "      <th>loss</th>\n",
       "      <td>[5.05006217956543, 2.2952752113342285, 1.66059...</td>\n",
       "      <td>[17.88401985168457, 16.177804946899414, 14.739...</td>\n",
       "      <td>[0.6545300483703613, 0.5106210112571716, 0.427...</td>\n",
       "      <td>[0.69181889295578, 0.6474006772041321, 0.60272...</td>\n",
       "    </tr>\n",
       "    <tr>\n",
       "      <th>accuracy</th>\n",
       "      <td>[0.680571436882019, 0.7750856876373291, 0.8165...</td>\n",
       "      <td>[0.6028571724891663, 0.6829714179039001, 0.728...</td>\n",
       "      <td>[0.6470285654067993, 0.751714289188385, 0.8049...</td>\n",
       "      <td>[0.5795999765396118, 0.6262285709381104, 0.669...</td>\n",
       "    </tr>\n",
       "    <tr>\n",
       "      <th>val_loss</th>\n",
       "      <td>[2.885737180709839, 2.023183822631836, 1.63547...</td>\n",
       "      <td>[16.999853134155273, 15.43750286102295, 14.182...</td>\n",
       "      <td>[0.6131600737571716, 0.5269775986671448, 0.623...</td>\n",
       "      <td>[0.6638781428337097, 19.66098403930664, 0.8343...</td>\n",
       "    </tr>\n",
       "    <tr>\n",
       "      <th>val_accuracy</th>\n",
       "      <td>[0.73826664686203, 0.7082666754722595, 0.72706...</td>\n",
       "      <td>[0.6317333579063416, 0.7049333453178406, 0.660...</td>\n",
       "      <td>[0.6651999950408936, 0.7357333302497864, 0.676...</td>\n",
       "      <td>[0.5909333229064941, 0.510533332824707, 0.5421...</td>\n",
       "    </tr>\n",
       "    <tr>\n",
       "      <th>lr</th>\n",
       "      <td>[0.02, 0.02, 0.02, 0.02, 0.02, 0.02, 0.02, 0.0...</td>\n",
       "      <td>[0.02, 0.02, 0.02, 0.02, 0.02, 0.02, 0.02, 0.0...</td>\n",
       "      <td>[0.001, 0.001, 0.001, 0.001, 0.001]</td>\n",
       "      <td>[0.001, 0.001, 0.001, 0.001, 0.001, 0.001, 0.001]</td>\n",
       "    </tr>\n",
       "  </tbody>\n",
       "</table>\n",
       "</div>"
      ],
      "text/plain": [
       "                                                         model1  \\\n",
       "loss          [5.05006217956543, 2.2952752113342285, 1.66059...   \n",
       "accuracy      [0.680571436882019, 0.7750856876373291, 0.8165...   \n",
       "val_loss      [2.885737180709839, 2.023183822631836, 1.63547...   \n",
       "val_accuracy  [0.73826664686203, 0.7082666754722595, 0.72706...   \n",
       "lr            [0.02, 0.02, 0.02, 0.02, 0.02, 0.02, 0.02, 0.0...   \n",
       "\n",
       "                                                         model2  \\\n",
       "loss          [17.88401985168457, 16.177804946899414, 14.739...   \n",
       "accuracy      [0.6028571724891663, 0.6829714179039001, 0.728...   \n",
       "val_loss      [16.999853134155273, 15.43750286102295, 14.182...   \n",
       "val_accuracy  [0.6317333579063416, 0.7049333453178406, 0.660...   \n",
       "lr            [0.02, 0.02, 0.02, 0.02, 0.02, 0.02, 0.02, 0.0...   \n",
       "\n",
       "                                                         model3  \\\n",
       "loss          [0.6545300483703613, 0.5106210112571716, 0.427...   \n",
       "accuracy      [0.6470285654067993, 0.751714289188385, 0.8049...   \n",
       "val_loss      [0.6131600737571716, 0.5269775986671448, 0.623...   \n",
       "val_accuracy  [0.6651999950408936, 0.7357333302497864, 0.676...   \n",
       "lr                          [0.001, 0.001, 0.001, 0.001, 0.001]   \n",
       "\n",
       "                                                         model4  \n",
       "loss          [0.69181889295578, 0.6474006772041321, 0.60272...  \n",
       "accuracy      [0.5795999765396118, 0.6262285709381104, 0.669...  \n",
       "val_loss      [0.6638781428337097, 19.66098403930664, 0.8343...  \n",
       "val_accuracy  [0.5909333229064941, 0.510533332824707, 0.5421...  \n",
       "lr            [0.001, 0.001, 0.001, 0.001, 0.001, 0.001, 0.001]  "
      ]
     },
     "execution_count": 33,
     "metadata": {},
     "output_type": "execute_result"
    }
   ],
   "source": [
    "df = pd.DataFrame({'model1':history1.history,'model2':history2.history,'model3':history3.history,'model4':history4.history})\n",
    "df"
   ]
  },
  {
   "cell_type": "code",
   "execution_count": 39,
   "metadata": {},
   "outputs": [
    {
     "data": {
      "image/png": "[encoded data removed]",
      "text/plain": [
       "<Figure size 576x360 with 1 Axes>"
      ]
     },
     "metadata": {
      "needs_background": "light"
     },
     "output_type": "display_data"
    }
   ],
   "source": [
    "pd.DataFrame(history1.history).plot(figsize=(8,5))\n",
    "plt.grid(True)\n",
    "plt.gca().set_ylim(0,1)\n",
    "plt.show()"
   ]
  },
  {
   "cell_type": "code",
   "execution_count": 40,
   "metadata": {},
   "outputs": [
    {
     "data": {
      "image/png": "[encoded data removed]",
      "text/plain": [
       "<Figure size 576x360 with 1 Axes>"
      ]
     },
     "metadata": {
      "needs_background": "light"
     },
     "output_type": "display_data"
    }
   ],
   "source": [
    "pd.DataFrame(history2.history).plot(figsize=(8,5))\n",
    "plt.grid(True)\n",
    "plt.gca().set_ylim(0,1)\n",
    "plt.show()"
   ]
  },
  {
   "cell_type": "code",
   "execution_count": 41,
   "metadata": {},
   "outputs": [
    {
     "data": {
      "image/png": "[encoded data removed]",
      "text/plain": [
       "<Figure size 576x360 with 1 Axes>"
      ]
     },
     "metadata": {
      "needs_background": "light"
     },
     "output_type": "display_data"
    }
   ],
   "source": [
    "pd.DataFrame(history3.history).plot(figsize=(8,5))\n",
    "plt.grid(True)\n",
    "plt.gca().set_ylim(0,1)\n",
    "plt.show()"
   ]
  },
  {
   "cell_type": "code",
   "execution_count": 42,
   "metadata": {},
   "outputs": [
    {
     "data": {
      "image/png": "[encoded data removed]",
      "text/plain": [
       "<Figure size 576x360 with 1 Axes>"
      ]
     },
     "metadata": {
      "needs_background": "light"
     },
     "output_type": "display_data"
    }
   ],
   "source": [
    "pd.DataFrame(history4.history).plot(figsize=(8,5))\n",
    "plt.grid(True)\n",
    "plt.gca().set_ylim(0,1)\n",
    "plt.show()"
   ]
  },
  {
   "cell_type": "code",
   "execution_count": 73,
   "metadata": {},
   "outputs": [],
   "source": [
    "np.savetxt('pred1.csv', predictions1, delimiter=',')"
   ]
  },
  {
   "cell_type": "code",
   "execution_count": 74,
   "metadata": {},
   "outputs": [],
   "source": [
    "np.savetxt('pred2.csv', predictions2, delimiter=',')\n",
    "np.savetxt('pred3.csv', predictions3, delimiter=',')\n",
    "np.savetxt('pred4.csv', predictions4, delimiter=',')"
   ]
  },
  {
   "cell_type": "code",
   "execution_count": null,
   "metadata": {},
   "outputs": [],
   "source": []
  }
 ],
 "metadata": {
  "kernelspec": {
   "display_name": "Python 3",
   "language": "python",
   "name": "python3"
  },
  "language_info": {
   "codemirror_mode": {
    "name": "ipython",
    "version": 3
   },
   "file_extension": ".py",
   "mimetype": "text/x-python",
   "name": "python",
   "nbconvert_exporter": "python",
   "pygments_lexer": "ipython3",
   "version": "3.8.3"
  }
 },
 "nbformat": 4,
 "nbformat_minor": 4
}
