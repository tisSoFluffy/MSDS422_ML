{
 "cells": [
  {
   "cell_type": "markdown",
   "metadata": {},
   "source": [
    "# Assignment 5 - Group 1"
   ]
  },
  {
   "cell_type": "markdown",
   "metadata": {},
   "source": [
    "## Kaggle Submission ID:"
   ]
  },
  {
   "cell_type": "markdown",
   "metadata": {},
   "source": [
    "## Import Libraries"
   ]
  },
  {
   "cell_type": "code",
   "execution_count": 62,
   "metadata": {},
   "outputs": [],
   "source": [
    "import pandas as pd\n",
    "import numpy as np\n",
    "import matplotlib.pyplot as plt\n",
    "%matplotlib inline\n",
    "import seaborn as sns\n",
    "sns.set(style='darkgrid')\n",
    "import datetime\n",
    "\n",
    "from sklearn.decomposition import PCA\n",
    "from sklearn.metrics import accuracy_score\n",
    "from sklearn.model_selection import train_test_split\n",
    "\n",
    "#Classifiers\n",
    "from sklearn.ensemble import RandomForestClassifier"
   ]
  },
  {
   "cell_type": "markdown",
   "metadata": {},
   "source": [
    "## Import & explore data"
   ]
  },
  {
   "cell_type": "code",
   "execution_count": 63,
   "metadata": {},
   "outputs": [],
   "source": [
    "data = pd.read_csv('train.csv')\n",
    "test_data = pd.read_csv('test.csv')"
   ]
  },
  {
   "cell_type": "code",
   "execution_count": 64,
   "metadata": {},
   "outputs": [
    {
     "output_type": "stream",
     "name": "stdout",
     "text": [
      "<class 'pandas.core.frame.DataFrame'>\nRangeIndex: 42000 entries, 0 to 41999\nColumns: 785 entries, label to pixel783\ndtypes: int64(785)\nmemory usage: 251.5 MB\n"
     ]
    }
   ],
   "source": [
    "data.info()"
   ]
  },
  {
   "cell_type": "code",
   "execution_count": 65,
   "metadata": {},
   "outputs": [
    {
     "output_type": "execute_result",
     "data": {
      "text/plain": [
       "0    4132\n",
       "1    4684\n",
       "2    4177\n",
       "3    4351\n",
       "4    4072\n",
       "5    3795\n",
       "6    4137\n",
       "7    4401\n",
       "8    4063\n",
       "9    4188\n",
       "Name: label, dtype: int64"
      ]
     },
     "metadata": {},
     "execution_count": 65
    }
   ],
   "source": [
    "data['label'].value_counts().sort_index()"
   ]
  },
  {
   "cell_type": "code",
   "execution_count": 66,
   "metadata": {},
   "outputs": [
    {
     "output_type": "stream",
     "name": "stdout",
     "text": [
      "<class 'pandas.core.frame.DataFrame'>\nRangeIndex: 28000 entries, 0 to 27999\nColumns: 784 entries, pixel0 to pixel783\ndtypes: int64(784)\nmemory usage: 167.5 MB\n"
     ]
    }
   ],
   "source": [
    "test_data.info()"
   ]
  },
  {
   "cell_type": "code",
   "execution_count": 67,
   "metadata": {},
   "outputs": [
    {
     "output_type": "execute_result",
     "data": {
      "text/plain": [
       "   label  pixel0  pixel1  pixel2  pixel3  pixel4  pixel5  pixel6  pixel7  \\\n",
       "0      1       0       0       0       0       0       0       0       0   \n",
       "1      0       0       0       0       0       0       0       0       0   \n",
       "2      1       0       0       0       0       0       0       0       0   \n",
       "3      4       0       0       0       0       0       0       0       0   \n",
       "4      0       0       0       0       0       0       0       0       0   \n",
       "\n",
       "   pixel8  ...  pixel774  pixel775  pixel776  pixel777  pixel778  pixel779  \\\n",
       "0       0  ...         0         0         0         0         0         0   \n",
       "1       0  ...         0         0         0         0         0         0   \n",
       "2       0  ...         0         0         0         0         0         0   \n",
       "3       0  ...         0         0         0         0         0         0   \n",
       "4       0  ...         0         0         0         0         0         0   \n",
       "\n",
       "   pixel780  pixel781  pixel782  pixel783  \n",
       "0         0         0         0         0  \n",
       "1         0         0         0         0  \n",
       "2         0         0         0         0  \n",
       "3         0         0         0         0  \n",
       "4         0         0         0         0  \n",
       "\n",
       "[5 rows x 785 columns]"
      ],
      "text/html": "<div>\n<style scoped>\n    .dataframe tbody tr th:only-of-type {\n        vertical-align: middle;\n    }\n\n    .dataframe tbody tr th {\n        vertical-align: top;\n    }\n\n    .dataframe thead th {\n        text-align: right;\n    }\n</style>\n<table border=\"1\" class=\"dataframe\">\n  <thead>\n    <tr style=\"text-align: right;\">\n      <th></th>\n      <th>label</th>\n      <th>pixel0</th>\n      <th>pixel1</th>\n      <th>pixel2</th>\n      <th>pixel3</th>\n      <th>pixel4</th>\n      <th>pixel5</th>\n      <th>pixel6</th>\n      <th>pixel7</th>\n      <th>pixel8</th>\n      <th>...</th>\n      <th>pixel774</th>\n      <th>pixel775</th>\n      <th>pixel776</th>\n      <th>pixel777</th>\n      <th>pixel778</th>\n      <th>pixel779</th>\n      <th>pixel780</th>\n      <th>pixel781</th>\n      <th>pixel782</th>\n      <th>pixel783</th>\n    </tr>\n  </thead>\n  <tbody>\n    <tr>\n      <th>0</th>\n      <td>1</td>\n      <td>0</td>\n      <td>0</td>\n      <td>0</td>\n      <td>0</td>\n      <td>0</td>\n      <td>0</td>\n      <td>0</td>\n      <td>0</td>\n      <td>0</td>\n      <td>...</td>\n      <td>0</td>\n      <td>0</td>\n      <td>0</td>\n      <td>0</td>\n      <td>0</td>\n      <td>0</td>\n      <td>0</td>\n      <td>0</td>\n      <td>0</td>\n      <td>0</td>\n    </tr>\n    <tr>\n      <th>1</th>\n      <td>0</td>\n      <td>0</td>\n      <td>0</td>\n      <td>0</td>\n      <td>0</td>\n      <td>0</td>\n      <td>0</td>\n      <td>0</td>\n      <td>0</td>\n      <td>0</td>\n      <td>...</td>\n      <td>0</td>\n      <td>0</td>\n      <td>0</td>\n      <td>0</td>\n      <td>0</td>\n      <td>0</td>\n      <td>0</td>\n      <td>0</td>\n      <td>0</td>\n      <td>0</td>\n    </tr>\n    <tr>\n      <th>2</th>\n      <td>1</td>\n      <td>0</td>\n      <td>0</td>\n      <td>0</td>\n      <td>0</td>\n      <td>0</td>\n      <td>0</td>\n      <td>0</td>\n      <td>0</td>\n      <td>0</td>\n      <td>...</td>\n      <td>0</td>\n      <td>0</td>\n      <td>0</td>\n      <td>0</td>\n      <td>0</td>\n      <td>0</td>\n      <td>0</td>\n      <td>0</td>\n      <td>0</td>\n      <td>0</td>\n    </tr>\n    <tr>\n      <th>3</th>\n      <td>4</td>\n      <td>0</td>\n      <td>0</td>\n      <td>0</td>\n      <td>0</td>\n      <td>0</td>\n      <td>0</td>\n      <td>0</td>\n      <td>0</td>\n      <td>0</td>\n      <td>...</td>\n      <td>0</td>\n      <td>0</td>\n      <td>0</td>\n      <td>0</td>\n      <td>0</td>\n      <td>0</td>\n      <td>0</td>\n      <td>0</td>\n      <td>0</td>\n      <td>0</td>\n    </tr>\n    <tr>\n      <th>4</th>\n      <td>0</td>\n      <td>0</td>\n      <td>0</td>\n      <td>0</td>\n      <td>0</td>\n      <td>0</td>\n      <td>0</td>\n      <td>0</td>\n      <td>0</td>\n      <td>0</td>\n      <td>...</td>\n      <td>0</td>\n      <td>0</td>\n      <td>0</td>\n      <td>0</td>\n      <td>0</td>\n      <td>0</td>\n      <td>0</td>\n      <td>0</td>\n      <td>0</td>\n      <td>0</td>\n    </tr>\n  </tbody>\n</table>\n<p>5 rows × 785 columns</p>\n</div>"
     },
     "metadata": {},
     "execution_count": 67
    }
   ],
   "source": [
    "data.head()"
   ]
  },
  {
   "cell_type": "code",
   "execution_count": 68,
   "metadata": {},
   "outputs": [
    {
     "output_type": "execute_result",
     "data": {
      "text/plain": [
       "              label   pixel0   pixel1   pixel2   pixel3   pixel4   pixel5  \\\n",
       "count  42000.000000  42000.0  42000.0  42000.0  42000.0  42000.0  42000.0   \n",
       "mean       4.456643      0.0      0.0      0.0      0.0      0.0      0.0   \n",
       "std        2.887730      0.0      0.0      0.0      0.0      0.0      0.0   \n",
       "min        0.000000      0.0      0.0      0.0      0.0      0.0      0.0   \n",
       "25%        2.000000      0.0      0.0      0.0      0.0      0.0      0.0   \n",
       "50%        4.000000      0.0      0.0      0.0      0.0      0.0      0.0   \n",
       "75%        7.000000      0.0      0.0      0.0      0.0      0.0      0.0   \n",
       "max        9.000000      0.0      0.0      0.0      0.0      0.0      0.0   \n",
       "\n",
       "        pixel6   pixel7   pixel8  ...      pixel774      pixel775  \\\n",
       "count  42000.0  42000.0  42000.0  ...  42000.000000  42000.000000   \n",
       "mean       0.0      0.0      0.0  ...      0.219286      0.117095   \n",
       "std        0.0      0.0      0.0  ...      6.312890      4.633819   \n",
       "min        0.0      0.0      0.0  ...      0.000000      0.000000   \n",
       "25%        0.0      0.0      0.0  ...      0.000000      0.000000   \n",
       "50%        0.0      0.0      0.0  ...      0.000000      0.000000   \n",
       "75%        0.0      0.0      0.0  ...      0.000000      0.000000   \n",
       "max        0.0      0.0      0.0  ...    254.000000    254.000000   \n",
       "\n",
       "           pixel776     pixel777      pixel778      pixel779  pixel780  \\\n",
       "count  42000.000000  42000.00000  42000.000000  42000.000000   42000.0   \n",
       "mean       0.059024      0.02019      0.017238      0.002857       0.0   \n",
       "std        3.274488      1.75987      1.894498      0.414264       0.0   \n",
       "min        0.000000      0.00000      0.000000      0.000000       0.0   \n",
       "25%        0.000000      0.00000      0.000000      0.000000       0.0   \n",
       "50%        0.000000      0.00000      0.000000      0.000000       0.0   \n",
       "75%        0.000000      0.00000      0.000000      0.000000       0.0   \n",
       "max      253.000000    253.00000    254.000000     62.000000       0.0   \n",
       "\n",
       "       pixel781  pixel782  pixel783  \n",
       "count   42000.0   42000.0   42000.0  \n",
       "mean        0.0       0.0       0.0  \n",
       "std         0.0       0.0       0.0  \n",
       "min         0.0       0.0       0.0  \n",
       "25%         0.0       0.0       0.0  \n",
       "50%         0.0       0.0       0.0  \n",
       "75%         0.0       0.0       0.0  \n",
       "max         0.0       0.0       0.0  \n",
       "\n",
       "[8 rows x 785 columns]"
      ],
      "text/html": "<div>\n<style scoped>\n    .dataframe tbody tr th:only-of-type {\n        vertical-align: middle;\n    }\n\n    .dataframe tbody tr th {\n        vertical-align: top;\n    }\n\n    .dataframe thead th {\n        text-align: right;\n    }\n</style>\n<table border=\"1\" class=\"dataframe\">\n  <thead>\n    <tr style=\"text-align: right;\">\n      <th></th>\n      <th>label</th>\n      <th>pixel0</th>\n      <th>pixel1</th>\n      <th>pixel2</th>\n      <th>pixel3</th>\n      <th>pixel4</th>\n      <th>pixel5</th>\n      <th>pixel6</th>\n      <th>pixel7</th>\n      <th>pixel8</th>\n      <th>...</th>\n      <th>pixel774</th>\n      <th>pixel775</th>\n      <th>pixel776</th>\n      <th>pixel777</th>\n      <th>pixel778</th>\n      <th>pixel779</th>\n      <th>pixel780</th>\n      <th>pixel781</th>\n      <th>pixel782</th>\n      <th>pixel783</th>\n    </tr>\n  </thead>\n  <tbody>\n    <tr>\n      <th>count</th>\n      <td>42000.000000</td>\n      <td>42000.0</td>\n      <td>42000.0</td>\n      <td>42000.0</td>\n      <td>42000.0</td>\n      <td>42000.0</td>\n      <td>42000.0</td>\n      <td>42000.0</td>\n      <td>42000.0</td>\n      <td>42000.0</td>\n      <td>...</td>\n      <td>42000.000000</td>\n      <td>42000.000000</td>\n      <td>42000.000000</td>\n      <td>42000.00000</td>\n      <td>42000.000000</td>\n      <td>42000.000000</td>\n      <td>42000.0</td>\n      <td>42000.0</td>\n      <td>42000.0</td>\n      <td>42000.0</td>\n    </tr>\n    <tr>\n      <th>mean</th>\n      <td>4.456643</td>\n      <td>0.0</td>\n      <td>0.0</td>\n      <td>0.0</td>\n      <td>0.0</td>\n      <td>0.0</td>\n      <td>0.0</td>\n      <td>0.0</td>\n      <td>0.0</td>\n      <td>0.0</td>\n      <td>...</td>\n      <td>0.219286</td>\n      <td>0.117095</td>\n      <td>0.059024</td>\n      <td>0.02019</td>\n      <td>0.017238</td>\n      <td>0.002857</td>\n      <td>0.0</td>\n      <td>0.0</td>\n      <td>0.0</td>\n      <td>0.0</td>\n    </tr>\n    <tr>\n      <th>std</th>\n      <td>2.887730</td>\n      <td>0.0</td>\n      <td>0.0</td>\n      <td>0.0</td>\n      <td>0.0</td>\n      <td>0.0</td>\n      <td>0.0</td>\n      <td>0.0</td>\n      <td>0.0</td>\n      <td>0.0</td>\n      <td>...</td>\n      <td>6.312890</td>\n      <td>4.633819</td>\n      <td>3.274488</td>\n      <td>1.75987</td>\n      <td>1.894498</td>\n      <td>0.414264</td>\n      <td>0.0</td>\n      <td>0.0</td>\n      <td>0.0</td>\n      <td>0.0</td>\n    </tr>\n    <tr>\n      <th>min</th>\n      <td>0.000000</td>\n      <td>0.0</td>\n      <td>0.0</td>\n      <td>0.0</td>\n      <td>0.0</td>\n      <td>0.0</td>\n      <td>0.0</td>\n      <td>0.0</td>\n      <td>0.0</td>\n      <td>0.0</td>\n      <td>...</td>\n      <td>0.000000</td>\n      <td>0.000000</td>\n      <td>0.000000</td>\n      <td>0.00000</td>\n      <td>0.000000</td>\n      <td>0.000000</td>\n      <td>0.0</td>\n      <td>0.0</td>\n      <td>0.0</td>\n      <td>0.0</td>\n    </tr>\n    <tr>\n      <th>25%</th>\n      <td>2.000000</td>\n      <td>0.0</td>\n      <td>0.0</td>\n      <td>0.0</td>\n      <td>0.0</td>\n      <td>0.0</td>\n      <td>0.0</td>\n      <td>0.0</td>\n      <td>0.0</td>\n      <td>0.0</td>\n      <td>...</td>\n      <td>0.000000</td>\n      <td>0.000000</td>\n      <td>0.000000</td>\n      <td>0.00000</td>\n      <td>0.000000</td>\n      <td>0.000000</td>\n      <td>0.0</td>\n      <td>0.0</td>\n      <td>0.0</td>\n      <td>0.0</td>\n    </tr>\n    <tr>\n      <th>50%</th>\n      <td>4.000000</td>\n      <td>0.0</td>\n      <td>0.0</td>\n      <td>0.0</td>\n      <td>0.0</td>\n      <td>0.0</td>\n      <td>0.0</td>\n      <td>0.0</td>\n      <td>0.0</td>\n      <td>0.0</td>\n      <td>...</td>\n      <td>0.000000</td>\n      <td>0.000000</td>\n      <td>0.000000</td>\n      <td>0.00000</td>\n      <td>0.000000</td>\n      <td>0.000000</td>\n      <td>0.0</td>\n      <td>0.0</td>\n      <td>0.0</td>\n      <td>0.0</td>\n    </tr>\n    <tr>\n      <th>75%</th>\n      <td>7.000000</td>\n      <td>0.0</td>\n      <td>0.0</td>\n      <td>0.0</td>\n      <td>0.0</td>\n      <td>0.0</td>\n      <td>0.0</td>\n      <td>0.0</td>\n      <td>0.0</td>\n      <td>0.0</td>\n      <td>...</td>\n      <td>0.000000</td>\n      <td>0.000000</td>\n      <td>0.000000</td>\n      <td>0.00000</td>\n      <td>0.000000</td>\n      <td>0.000000</td>\n      <td>0.0</td>\n      <td>0.0</td>\n      <td>0.0</td>\n      <td>0.0</td>\n    </tr>\n    <tr>\n      <th>max</th>\n      <td>9.000000</td>\n      <td>0.0</td>\n      <td>0.0</td>\n      <td>0.0</td>\n      <td>0.0</td>\n      <td>0.0</td>\n      <td>0.0</td>\n      <td>0.0</td>\n      <td>0.0</td>\n      <td>0.0</td>\n      <td>...</td>\n      <td>254.000000</td>\n      <td>254.000000</td>\n      <td>253.000000</td>\n      <td>253.00000</td>\n      <td>254.000000</td>\n      <td>62.000000</td>\n      <td>0.0</td>\n      <td>0.0</td>\n      <td>0.0</td>\n      <td>0.0</td>\n    </tr>\n  </tbody>\n</table>\n<p>8 rows × 785 columns</p>\n</div>"
     },
     "metadata": {},
     "execution_count": 68
    }
   ],
   "source": [
    "data.describe()"
   ]
  },
  {
   "cell_type": "code",
   "execution_count": 69,
   "metadata": {},
   "outputs": [],
   "source": [
    "# Split training data & extract labels\n",
    "\n",
    "train_set, test_set = train_test_split(data, test_size=0.2, random_state = 42)\n",
    "y_train = train_set['label']\n",
    "X_train = train_set.drop('label', axis=1)\n",
    "y_test = test_set['label']\n",
    "X_test = test_set.drop('label', axis=1)"
   ]
  },
  {
   "cell_type": "code",
   "execution_count": 70,
   "metadata": {},
   "outputs": [
    {
     "output_type": "execute_result",
     "data": {
      "text/plain": [
       "(33600, 784)"
      ]
     },
     "metadata": {},
     "execution_count": 70
    }
   ],
   "source": [
    "#Shape of the data\n",
    "X_train.shape"
   ]
  },
  {
   "cell_type": "code",
   "execution_count": 71,
   "metadata": {},
   "outputs": [
    {
     "output_type": "execute_result",
     "data": {
      "text/plain": [
       "(8400, 784)"
      ]
     },
     "metadata": {},
     "execution_count": 71
    }
   ],
   "source": [
    "X_test.shape"
   ]
  },
  {
   "cell_type": "markdown",
   "metadata": {},
   "source": [
    "## 1. Fitting a Random Forest Classifier"
   ]
  },
  {
   "cell_type": "code",
   "execution_count": 72,
   "metadata": {},
   "outputs": [
    {
     "output_type": "stream",
     "name": "stdout",
     "text": [
      "Random classifier took 0:00:23.045313 seconds to run on raw data\n"
     ]
    }
   ],
   "source": [
    "rnd_clf = RandomForestClassifier()\n",
    "start = datetime.datetime.now()\n",
    "rnd_clf.fit(X_train,y_train)\n",
    "end = datetime.datetime.now()\n",
    "print(f'Random classifier took {end - start} seconds to run on raw data')"
   ]
  },
  {
   "cell_type": "code",
   "execution_count": 73,
   "metadata": {},
   "outputs": [],
   "source": [
    "y_pred = rnd_clf.predict(X_test)"
   ]
  },
  {
   "cell_type": "code",
   "execution_count": 74,
   "metadata": {},
   "outputs": [
    {
     "output_type": "execute_result",
     "data": {
      "text/plain": [
       "0.9633333333333334"
      ]
     },
     "metadata": {},
     "execution_count": 74
    }
   ],
   "source": [
    "accuracy_score(y_test,y_pred)"
   ]
  },
  {
   "cell_type": "markdown",
   "metadata": {},
   "source": [
    "# Kaggle Score is:"
   ]
  },
  {
   "cell_type": "markdown",
   "metadata": {},
   "source": [
    "## 2. Perform PCA on the combined training and test set data together"
   ]
  },
  {
   "cell_type": "code",
   "execution_count": 75,
   "metadata": {},
   "outputs": [],
   "source": [
    "# Combine the data set\n",
    "\n",
    "full_data = X_test.append(X_train).append(test_data)"
   ]
  },
  {
   "cell_type": "code",
   "execution_count": 76,
   "metadata": {},
   "outputs": [
    {
     "output_type": "stream",
     "name": "stdout",
     "text": [
      "<class 'pandas.core.frame.DataFrame'>\nInt64Index: 70000 entries, 5457 to 27999\nColumns: 784 entries, pixel0 to pixel783\ndtypes: int64(784)\nmemory usage: 419.2 MB\n"
     ]
    }
   ],
   "source": [
    "full_data.info()"
   ]
  },
  {
   "cell_type": "code",
   "execution_count": 77,
   "metadata": {},
   "outputs": [
    {
     "output_type": "stream",
     "name": "stdout",
     "text": [
      "It took 0:00:05.994341 seconds to identify the PCA\n"
     ]
    }
   ],
   "source": [
    "# Generating principal components that represent 95 percent of the variability in the explanatory variables\n",
    "start = datetime.datetime.now()\n",
    "pca = PCA(n_components=0.95)\n",
    "X_reduced = pca.fit_transform(full_data)\n",
    "end = datetime.datetime.now()\n",
    "print(f'It took {end - start} seconds to identify the PCA')"
   ]
  },
  {
   "cell_type": "code",
   "execution_count": 78,
   "metadata": {},
   "outputs": [
    {
     "output_type": "execute_result",
     "data": {
      "text/plain": [
       "array([[-436.4309755 , -259.5779328 ,  198.38827636, ...,   49.36565913,\n",
       "         -12.56603673,   57.27269646],\n",
       "       [-942.43851218, -400.01792167,   10.34166076, ...,  -49.61726703,\n",
       "          74.44900231,    8.75278918],\n",
       "       [-525.66257263,  617.26294383,  -86.15405218, ...,  -32.35437731,\n",
       "         -21.66636008,  -34.7747831 ],\n",
       "       ...,\n",
       "       [-138.40587705, -644.81877827, -880.68880607, ...,   38.03280932,\n",
       "           7.46148739,   33.7243298 ],\n",
       "       [ -49.43276834,  578.10899532, -323.9904944 , ...,    1.21587393,\n",
       "          37.84560288,   12.56067207],\n",
       "       [ 597.31312568,  141.72661007,  818.14854751, ...,   77.30176102,\n",
       "          48.1828624 ,   69.49837151]])"
      ]
     },
     "metadata": {},
     "execution_count": 78
    }
   ],
   "source": [
    "X_reduced"
   ]
  },
  {
   "cell_type": "code",
   "execution_count": 79,
   "metadata": {},
   "outputs": [
    {
     "output_type": "stream",
     "name": "stdout",
     "text": [
      "The Principal components count is:  154\n"
     ]
    }
   ],
   "source": [
    "print('The Principal components count is: ', pca.n_components_)"
   ]
  },
  {
   "cell_type": "code",
   "execution_count": 80,
   "metadata": {},
   "outputs": [
    {
     "output_type": "execute_result",
     "data": {
      "text/plain": [
       "(70000, 154)"
      ]
     },
     "metadata": {},
     "execution_count": 80
    }
   ],
   "source": [
    "X_reduced.shape"
   ]
  },
  {
   "cell_type": "code",
   "execution_count": 81,
   "metadata": {},
   "outputs": [
    {
     "output_type": "execute_result",
     "data": {
      "text/plain": [
       "array([0.09746116, 0.07155445, 0.06149531, 0.05403385, 0.04888934,\n",
       "       0.04305227, 0.03278262, 0.02889642, 0.02758364, 0.0234214 ,\n",
       "       0.02106689, 0.02037553, 0.01707064, 0.0169402 , 0.01583382,\n",
       "       0.01486345, 0.01319358, 0.01279014, 0.01187272, 0.01152937,\n",
       "       0.0106604 , 0.01009794, 0.00959151, 0.00909635, 0.00883287,\n",
       "       0.00838818, 0.00809832, 0.00785718, 0.00740262, 0.00690014,\n",
       "       0.00656144, 0.0064547 , 0.00600819, 0.00585612, 0.00566754,\n",
       "       0.00543471, 0.00504717, 0.00487079, 0.00478955, 0.00467594,\n",
       "       0.00454369, 0.00444918, 0.00418217, 0.00396164, 0.00383708,\n",
       "       0.00375785, 0.00361426, 0.00349025, 0.00338732, 0.00319696,\n",
       "       0.00316854, 0.00310145, 0.0029648 , 0.00287101, 0.00282514,\n",
       "       0.00269423, 0.00268392, 0.00256509, 0.00253168, 0.00244648,\n",
       "       0.00239702, 0.00238581, 0.00229234, 0.00220949, 0.0021306 ,\n",
       "       0.00206317, 0.00202781, 0.00195035, 0.00191471, 0.0018855 ,\n",
       "       0.00186976, 0.00180104, 0.00176787, 0.00173359, 0.00164849,\n",
       "       0.00163237, 0.00161408, 0.00154304, 0.0014702 , 0.00142199,\n",
       "       0.00141016, 0.00140146, 0.00139605, 0.00135025, 0.00132371,\n",
       "       0.00131893, 0.00129197, 0.00125172, 0.00122529, 0.00120419,\n",
       "       0.00116363, 0.00114319, 0.00112547, 0.00109862, 0.00108343,\n",
       "       0.00107175, 0.00103692, 0.00103418, 0.00100591, 0.00099933,\n",
       "       0.00097674, 0.00094161, 0.00093583, 0.00091166, 0.00090074,\n",
       "       0.0008895 , 0.00086158, 0.00085255, 0.000841  , 0.00081723,\n",
       "       0.00078602, 0.0007775 , 0.00077581, 0.00076479, 0.00076057,\n",
       "       0.00074879, 0.00073024, 0.00072536, 0.00071584, 0.00070341,\n",
       "       0.00069175, 0.00068692, 0.00067938, 0.00067174, 0.00066127,\n",
       "       0.00064267, 0.00063277, 0.0006284 , 0.00061963, 0.0006014 ,\n",
       "       0.00060026, 0.00059379, 0.00058628, 0.00058345, 0.0005789 ,\n",
       "       0.00057275, 0.00056338, 0.0005523 , 0.00053557, 0.00052572,\n",
       "       0.00052274, 0.0005099 , 0.0005023 , 0.00049814, 0.00049585,\n",
       "       0.00049234, 0.00048378, 0.0004809 , 0.00047157, 0.00046671,\n",
       "       0.00046423, 0.00046199, 0.00045828, 0.0004495 ])"
      ]
     },
     "metadata": {},
     "execution_count": 81
    }
   ],
   "source": [
    "pca.explained_variance_ratio_"
   ]
  },
  {
   "cell_type": "code",
   "execution_count": 82,
   "metadata": {},
   "outputs": [
    {
     "output_type": "display_data",
     "data": {
      "text/plain": "<Figure size 432x288 with 1 Axes>",
      "image/svg+xml": "<?xml version=\"1.0\" encoding=\"utf-8\" standalone=\"no\"?>\r\n<!DOCTYPE svg PUBLIC \"-//W3C//DTD SVG 1.1//EN\"\r\n  \"http://www.w3.org/Graphics/SVG/1.1/DTD/svg11.dtd\">\r\n<!-- Created with matplotlib (https://matplotlib.org/) -->\r\n<svg height=\"266.520469pt\" version=\"1.1\" viewBox=\"0 0 396.846874 266.520469\" width=\"396.846874pt\" xmlns=\"http://www.w3.org/2000/svg\" xmlns:xlink=\"http://www.w3.org/1999/xlink\">\r\n <defs>\r\n  <style type=\"text/css\">\r\n*{stroke-linecap:butt;stroke-linejoin:round;}\r\n  </style>\r\n </defs>\r\n <g id=\"figure_1\">\r\n  <g id=\"patch_1\">\r\n   <path d=\"M 0 266.520469 \r\nL 396.846874 266.520469 \r\nL 396.846874 0 \r\nL 0 0 \r\nz\r\n\" style=\"fill:#ffffff;\"/>\r\n  </g>\r\n  <g id=\"axes_1\">\r\n   <g id=\"patch_2\">\r\n    <path d=\"M 46.964375 224.64 \r\nL 381.764375 224.64 \r\nL 381.764375 7.2 \r\nL 46.964375 7.2 \r\nz\r\n\" style=\"fill:#eaeaf2;\"/>\r\n   </g>\r\n   <g id=\"matplotlib.axis_1\">\r\n    <g id=\"xtick_1\">\r\n     <g id=\"line2d_1\">\r\n      <path clip-path=\"url(#pab4b2154d6)\" d=\"M 62.182557 224.64 \r\nL 62.182557 7.2 \r\n\" style=\"fill:none;stroke:#ffffff;stroke-linecap:round;\"/>\r\n     </g>\r\n     <g id=\"text_1\">\r\n      <!-- 0 -->\r\n      <defs>\r\n       <path d=\"M 4.15625 35.296875 \r\nQ 4.15625 48 6.765625 55.734375 \r\nQ 9.375 63.484375 14.515625 67.671875 \r\nQ 19.671875 71.875 27.484375 71.875 \r\nQ 33.25 71.875 37.59375 69.546875 \r\nQ 41.9375 67.234375 44.765625 62.859375 \r\nQ 47.609375 58.5 49.21875 52.21875 \r\nQ 50.828125 45.953125 50.828125 35.296875 \r\nQ 50.828125 22.703125 48.234375 14.96875 \r\nQ 45.65625 7.234375 40.5 3 \r\nQ 35.359375 -1.21875 27.484375 -1.21875 \r\nQ 17.140625 -1.21875 11.234375 6.203125 \r\nQ 4.15625 15.140625 4.15625 35.296875 \r\nz\r\nM 13.1875 35.296875 \r\nQ 13.1875 17.671875 17.3125 11.828125 \r\nQ 21.4375 6 27.484375 6 \r\nQ 33.546875 6 37.671875 11.859375 \r\nQ 41.796875 17.71875 41.796875 35.296875 \r\nQ 41.796875 52.984375 37.671875 58.78125 \r\nQ 33.546875 64.59375 27.390625 64.59375 \r\nQ 21.34375 64.59375 17.71875 59.46875 \r\nQ 13.1875 52.9375 13.1875 35.296875 \r\nz\r\n\" id=\"ArialMT-48\"/>\r\n      </defs>\r\n      <g style=\"fill:#262626;\" transform=\"translate(59.124041 242.013594)scale(0.11 -0.11)\">\r\n       <use xlink:href=\"#ArialMT-48\"/>\r\n      </g>\r\n     </g>\r\n    </g>\r\n    <g id=\"xtick_2\">\r\n     <g id=\"line2d_2\">\r\n      <path clip-path=\"url(#pab4b2154d6)\" d=\"M 101.968653 224.64 \r\nL 101.968653 7.2 \r\n\" style=\"fill:none;stroke:#ffffff;stroke-linecap:round;\"/>\r\n     </g>\r\n     <g id=\"text_2\">\r\n      <!-- 20 -->\r\n      <defs>\r\n       <path d=\"M 50.34375 8.453125 \r\nL 50.34375 0 \r\nL 3.03125 0 \r\nQ 2.9375 3.171875 4.046875 6.109375 \r\nQ 5.859375 10.9375 9.828125 15.625 \r\nQ 13.8125 20.3125 21.34375 26.46875 \r\nQ 33.015625 36.03125 37.109375 41.625 \r\nQ 41.21875 47.21875 41.21875 52.203125 \r\nQ 41.21875 57.421875 37.46875 61 \r\nQ 33.734375 64.59375 27.734375 64.59375 \r\nQ 21.390625 64.59375 17.578125 60.78125 \r\nQ 13.765625 56.984375 13.71875 50.25 \r\nL 4.6875 51.171875 \r\nQ 5.609375 61.28125 11.65625 66.578125 \r\nQ 17.71875 71.875 27.9375 71.875 \r\nQ 38.234375 71.875 44.234375 66.15625 \r\nQ 50.25 60.453125 50.25 52 \r\nQ 50.25 47.703125 48.484375 43.546875 \r\nQ 46.734375 39.40625 42.65625 34.8125 \r\nQ 38.578125 30.21875 29.109375 22.21875 \r\nQ 21.1875 15.578125 18.9375 13.203125 \r\nQ 16.703125 10.84375 15.234375 8.453125 \r\nz\r\n\" id=\"ArialMT-50\"/>\r\n      </defs>\r\n      <g style=\"fill:#262626;\" transform=\"translate(95.851622 242.013594)scale(0.11 -0.11)\">\r\n       <use xlink:href=\"#ArialMT-50\"/>\r\n       <use x=\"55.615234\" xlink:href=\"#ArialMT-48\"/>\r\n      </g>\r\n     </g>\r\n    </g>\r\n    <g id=\"xtick_3\">\r\n     <g id=\"line2d_3\">\r\n      <path clip-path=\"url(#pab4b2154d6)\" d=\"M 141.754749 224.64 \r\nL 141.754749 7.2 \r\n\" style=\"fill:none;stroke:#ffffff;stroke-linecap:round;\"/>\r\n     </g>\r\n     <g id=\"text_3\">\r\n      <!-- 40 -->\r\n      <defs>\r\n       <path d=\"M 32.328125 0 \r\nL 32.328125 17.140625 \r\nL 1.265625 17.140625 \r\nL 1.265625 25.203125 \r\nL 33.9375 71.578125 \r\nL 41.109375 71.578125 \r\nL 41.109375 25.203125 \r\nL 50.78125 25.203125 \r\nL 50.78125 17.140625 \r\nL 41.109375 17.140625 \r\nL 41.109375 0 \r\nz\r\nM 32.328125 25.203125 \r\nL 32.328125 57.46875 \r\nL 9.90625 25.203125 \r\nz\r\n\" id=\"ArialMT-52\"/>\r\n      </defs>\r\n      <g style=\"fill:#262626;\" transform=\"translate(135.637718 242.013594)scale(0.11 -0.11)\">\r\n       <use xlink:href=\"#ArialMT-52\"/>\r\n       <use x=\"55.615234\" xlink:href=\"#ArialMT-48\"/>\r\n      </g>\r\n     </g>\r\n    </g>\r\n    <g id=\"xtick_4\">\r\n     <g id=\"line2d_4\">\r\n      <path clip-path=\"url(#pab4b2154d6)\" d=\"M 181.540846 224.64 \r\nL 181.540846 7.2 \r\n\" style=\"fill:none;stroke:#ffffff;stroke-linecap:round;\"/>\r\n     </g>\r\n     <g id=\"text_4\">\r\n      <!-- 60 -->\r\n      <defs>\r\n       <path d=\"M 49.75 54.046875 \r\nL 41.015625 53.375 \r\nQ 39.84375 58.546875 37.703125 60.890625 \r\nQ 34.125 64.65625 28.90625 64.65625 \r\nQ 24.703125 64.65625 21.53125 62.3125 \r\nQ 17.390625 59.28125 14.984375 53.46875 \r\nQ 12.59375 47.65625 12.5 36.921875 \r\nQ 15.671875 41.75 20.265625 44.09375 \r\nQ 24.859375 46.4375 29.890625 46.4375 \r\nQ 38.671875 46.4375 44.84375 39.96875 \r\nQ 51.03125 33.5 51.03125 23.25 \r\nQ 51.03125 16.5 48.125 10.71875 \r\nQ 45.21875 4.9375 40.140625 1.859375 \r\nQ 35.0625 -1.21875 28.609375 -1.21875 \r\nQ 17.625 -1.21875 10.6875 6.859375 \r\nQ 3.765625 14.9375 3.765625 33.5 \r\nQ 3.765625 54.25 11.421875 63.671875 \r\nQ 18.109375 71.875 29.4375 71.875 \r\nQ 37.890625 71.875 43.28125 67.140625 \r\nQ 48.6875 62.40625 49.75 54.046875 \r\nz\r\nM 13.875 23.1875 \r\nQ 13.875 18.65625 15.796875 14.5 \r\nQ 17.71875 10.359375 21.1875 8.171875 \r\nQ 24.65625 6 28.46875 6 \r\nQ 34.03125 6 38.03125 10.484375 \r\nQ 42.046875 14.984375 42.046875 22.703125 \r\nQ 42.046875 30.125 38.078125 34.390625 \r\nQ 34.125 38.671875 28.125 38.671875 \r\nQ 22.171875 38.671875 18.015625 34.390625 \r\nQ 13.875 30.125 13.875 23.1875 \r\nz\r\n\" id=\"ArialMT-54\"/>\r\n      </defs>\r\n      <g style=\"fill:#262626;\" transform=\"translate(175.423814 242.013594)scale(0.11 -0.11)\">\r\n       <use xlink:href=\"#ArialMT-54\"/>\r\n       <use x=\"55.615234\" xlink:href=\"#ArialMT-48\"/>\r\n      </g>\r\n     </g>\r\n    </g>\r\n    <g id=\"xtick_5\">\r\n     <g id=\"line2d_5\">\r\n      <path clip-path=\"url(#pab4b2154d6)\" d=\"M 221.326942 224.64 \r\nL 221.326942 7.2 \r\n\" style=\"fill:none;stroke:#ffffff;stroke-linecap:round;\"/>\r\n     </g>\r\n     <g id=\"text_5\">\r\n      <!-- 80 -->\r\n      <defs>\r\n       <path d=\"M 17.671875 38.8125 \r\nQ 12.203125 40.828125 9.5625 44.53125 \r\nQ 6.9375 48.25 6.9375 53.421875 \r\nQ 6.9375 61.234375 12.546875 66.546875 \r\nQ 18.171875 71.875 27.484375 71.875 \r\nQ 36.859375 71.875 42.578125 66.421875 \r\nQ 48.296875 60.984375 48.296875 53.171875 \r\nQ 48.296875 48.1875 45.671875 44.5 \r\nQ 43.0625 40.828125 37.75 38.8125 \r\nQ 44.34375 36.671875 47.78125 31.875 \r\nQ 51.21875 27.09375 51.21875 20.453125 \r\nQ 51.21875 11.28125 44.71875 5.03125 \r\nQ 38.234375 -1.21875 27.640625 -1.21875 \r\nQ 17.046875 -1.21875 10.546875 5.046875 \r\nQ 4.046875 11.328125 4.046875 20.703125 \r\nQ 4.046875 27.6875 7.59375 32.390625 \r\nQ 11.140625 37.109375 17.671875 38.8125 \r\nz\r\nM 15.921875 53.71875 \r\nQ 15.921875 48.640625 19.1875 45.40625 \r\nQ 22.46875 42.1875 27.6875 42.1875 \r\nQ 32.765625 42.1875 36.015625 45.375 \r\nQ 39.265625 48.578125 39.265625 53.21875 \r\nQ 39.265625 58.0625 35.90625 61.359375 \r\nQ 32.5625 64.65625 27.59375 64.65625 \r\nQ 22.5625 64.65625 19.234375 61.421875 \r\nQ 15.921875 58.203125 15.921875 53.71875 \r\nz\r\nM 13.09375 20.65625 \r\nQ 13.09375 16.890625 14.875 13.375 \r\nQ 16.65625 9.859375 20.171875 7.921875 \r\nQ 23.6875 6 27.734375 6 \r\nQ 34.03125 6 38.125 10.046875 \r\nQ 42.234375 14.109375 42.234375 20.359375 \r\nQ 42.234375 26.703125 38.015625 30.859375 \r\nQ 33.796875 35.015625 27.4375 35.015625 \r\nQ 21.234375 35.015625 17.15625 30.90625 \r\nQ 13.09375 26.8125 13.09375 20.65625 \r\nz\r\n\" id=\"ArialMT-56\"/>\r\n      </defs>\r\n      <g style=\"fill:#262626;\" transform=\"translate(215.209911 242.013594)scale(0.11 -0.11)\">\r\n       <use xlink:href=\"#ArialMT-56\"/>\r\n       <use x=\"55.615234\" xlink:href=\"#ArialMT-48\"/>\r\n      </g>\r\n     </g>\r\n    </g>\r\n    <g id=\"xtick_6\">\r\n     <g id=\"line2d_6\">\r\n      <path clip-path=\"url(#pab4b2154d6)\" d=\"M 261.113038 224.64 \r\nL 261.113038 7.2 \r\n\" style=\"fill:none;stroke:#ffffff;stroke-linecap:round;\"/>\r\n     </g>\r\n     <g id=\"text_6\">\r\n      <!-- 100 -->\r\n      <defs>\r\n       <path d=\"M 37.25 0 \r\nL 28.46875 0 \r\nL 28.46875 56 \r\nQ 25.296875 52.984375 20.140625 49.953125 \r\nQ 14.984375 46.921875 10.890625 45.40625 \r\nL 10.890625 53.90625 \r\nQ 18.265625 57.375 23.78125 62.296875 \r\nQ 29.296875 67.234375 31.59375 71.875 \r\nL 37.25 71.875 \r\nz\r\n\" id=\"ArialMT-49\"/>\r\n      </defs>\r\n      <g style=\"fill:#262626;\" transform=\"translate(251.937491 242.013594)scale(0.11 -0.11)\">\r\n       <use xlink:href=\"#ArialMT-49\"/>\r\n       <use x=\"55.615234\" xlink:href=\"#ArialMT-48\"/>\r\n       <use x=\"111.230469\" xlink:href=\"#ArialMT-48\"/>\r\n      </g>\r\n     </g>\r\n    </g>\r\n    <g id=\"xtick_7\">\r\n     <g id=\"line2d_7\">\r\n      <path clip-path=\"url(#pab4b2154d6)\" d=\"M 300.899134 224.64 \r\nL 300.899134 7.2 \r\n\" style=\"fill:none;stroke:#ffffff;stroke-linecap:round;\"/>\r\n     </g>\r\n     <g id=\"text_7\">\r\n      <!-- 120 -->\r\n      <g style=\"fill:#262626;\" transform=\"translate(291.723587 242.013594)scale(0.11 -0.11)\">\r\n       <use xlink:href=\"#ArialMT-49\"/>\r\n       <use x=\"55.615234\" xlink:href=\"#ArialMT-50\"/>\r\n       <use x=\"111.230469\" xlink:href=\"#ArialMT-48\"/>\r\n      </g>\r\n     </g>\r\n    </g>\r\n    <g id=\"xtick_8\">\r\n     <g id=\"line2d_8\">\r\n      <path clip-path=\"url(#pab4b2154d6)\" d=\"M 340.685231 224.64 \r\nL 340.685231 7.2 \r\n\" style=\"fill:none;stroke:#ffffff;stroke-linecap:round;\"/>\r\n     </g>\r\n     <g id=\"text_8\">\r\n      <!-- 140 -->\r\n      <g style=\"fill:#262626;\" transform=\"translate(331.509684 242.013594)scale(0.11 -0.11)\">\r\n       <use xlink:href=\"#ArialMT-49\"/>\r\n       <use x=\"55.615234\" xlink:href=\"#ArialMT-52\"/>\r\n       <use x=\"111.230469\" xlink:href=\"#ArialMT-48\"/>\r\n      </g>\r\n     </g>\r\n    </g>\r\n    <g id=\"xtick_9\">\r\n     <g id=\"line2d_9\">\r\n      <path clip-path=\"url(#pab4b2154d6)\" d=\"M 380.471327 224.64 \r\nL 380.471327 7.2 \r\n\" style=\"fill:none;stroke:#ffffff;stroke-linecap:round;\"/>\r\n     </g>\r\n     <g id=\"text_9\">\r\n      <!-- 160 -->\r\n      <g style=\"fill:#262626;\" transform=\"translate(371.29578 242.013594)scale(0.11 -0.11)\">\r\n       <use xlink:href=\"#ArialMT-49\"/>\r\n       <use x=\"55.615234\" xlink:href=\"#ArialMT-54\"/>\r\n       <use x=\"111.230469\" xlink:href=\"#ArialMT-48\"/>\r\n      </g>\r\n     </g>\r\n    </g>\r\n    <g id=\"text_10\">\r\n     <!-- number of components -->\r\n     <defs>\r\n      <path d=\"M 6.59375 0 \r\nL 6.59375 51.859375 \r\nL 14.5 51.859375 \r\nL 14.5 44.484375 \r\nQ 20.21875 53.03125 31 53.03125 \r\nQ 35.6875 53.03125 39.625 51.34375 \r\nQ 43.5625 49.65625 45.515625 46.921875 \r\nQ 47.46875 44.1875 48.25 40.4375 \r\nQ 48.734375 37.984375 48.734375 31.890625 \r\nL 48.734375 0 \r\nL 39.9375 0 \r\nL 39.9375 31.546875 \r\nQ 39.9375 36.921875 38.90625 39.578125 \r\nQ 37.890625 42.234375 35.28125 43.8125 \r\nQ 32.671875 45.40625 29.15625 45.40625 \r\nQ 23.53125 45.40625 19.453125 41.84375 \r\nQ 15.375 38.28125 15.375 28.328125 \r\nL 15.375 0 \r\nz\r\n\" id=\"ArialMT-110\"/>\r\n      <path d=\"M 40.578125 0 \r\nL 40.578125 7.625 \r\nQ 34.515625 -1.171875 24.125 -1.171875 \r\nQ 19.53125 -1.171875 15.546875 0.578125 \r\nQ 11.578125 2.34375 9.640625 5 \r\nQ 7.71875 7.671875 6.9375 11.53125 \r\nQ 6.390625 14.109375 6.390625 19.734375 \r\nL 6.390625 51.859375 \r\nL 15.1875 51.859375 \r\nL 15.1875 23.09375 \r\nQ 15.1875 16.21875 15.71875 13.8125 \r\nQ 16.546875 10.359375 19.234375 8.375 \r\nQ 21.921875 6.390625 25.875 6.390625 \r\nQ 29.828125 6.390625 33.296875 8.421875 \r\nQ 36.765625 10.453125 38.203125 13.9375 \r\nQ 39.65625 17.4375 39.65625 24.078125 \r\nL 39.65625 51.859375 \r\nL 48.4375 51.859375 \r\nL 48.4375 0 \r\nz\r\n\" id=\"ArialMT-117\"/>\r\n      <path d=\"M 6.59375 0 \r\nL 6.59375 51.859375 \r\nL 14.453125 51.859375 \r\nL 14.453125 44.578125 \r\nQ 16.890625 48.390625 20.9375 50.703125 \r\nQ 25 53.03125 30.171875 53.03125 \r\nQ 35.9375 53.03125 39.625 50.640625 \r\nQ 43.3125 48.25 44.828125 43.953125 \r\nQ 50.984375 53.03125 60.84375 53.03125 \r\nQ 68.5625 53.03125 72.703125 48.75 \r\nQ 76.859375 44.484375 76.859375 35.59375 \r\nL 76.859375 0 \r\nL 68.109375 0 \r\nL 68.109375 32.671875 \r\nQ 68.109375 37.9375 67.25 40.25 \r\nQ 66.40625 42.578125 64.15625 43.984375 \r\nQ 61.921875 45.40625 58.890625 45.40625 \r\nQ 53.421875 45.40625 49.796875 41.765625 \r\nQ 46.1875 38.140625 46.1875 30.125 \r\nL 46.1875 0 \r\nL 37.40625 0 \r\nL 37.40625 33.6875 \r\nQ 37.40625 39.546875 35.25 42.46875 \r\nQ 33.109375 45.40625 28.21875 45.40625 \r\nQ 24.515625 45.40625 21.359375 43.453125 \r\nQ 18.21875 41.5 16.796875 37.734375 \r\nQ 15.375 33.984375 15.375 26.90625 \r\nL 15.375 0 \r\nz\r\n\" id=\"ArialMT-109\"/>\r\n      <path d=\"M 14.703125 0 \r\nL 6.546875 0 \r\nL 6.546875 71.578125 \r\nL 15.328125 71.578125 \r\nL 15.328125 46.046875 \r\nQ 20.90625 53.03125 29.546875 53.03125 \r\nQ 34.328125 53.03125 38.59375 51.09375 \r\nQ 42.875 49.171875 45.625 45.671875 \r\nQ 48.390625 42.1875 49.953125 37.25 \r\nQ 51.515625 32.328125 51.515625 26.703125 \r\nQ 51.515625 13.375 44.921875 6.09375 \r\nQ 38.328125 -1.171875 29.109375 -1.171875 \r\nQ 19.921875 -1.171875 14.703125 6.5 \r\nz\r\nM 14.59375 26.3125 \r\nQ 14.59375 17 17.140625 12.84375 \r\nQ 21.296875 6.0625 28.375 6.0625 \r\nQ 34.125 6.0625 38.328125 11.0625 \r\nQ 42.53125 16.0625 42.53125 25.984375 \r\nQ 42.53125 36.140625 38.5 40.96875 \r\nQ 34.46875 45.796875 28.765625 45.796875 \r\nQ 23 45.796875 18.796875 40.796875 \r\nQ 14.59375 35.796875 14.59375 26.3125 \r\nz\r\n\" id=\"ArialMT-98\"/>\r\n      <path d=\"M 42.09375 16.703125 \r\nL 51.171875 15.578125 \r\nQ 49.03125 7.625 43.21875 3.21875 \r\nQ 37.40625 -1.171875 28.375 -1.171875 \r\nQ 17 -1.171875 10.328125 5.828125 \r\nQ 3.65625 12.84375 3.65625 25.484375 \r\nQ 3.65625 38.578125 10.390625 45.796875 \r\nQ 17.140625 53.03125 27.875 53.03125 \r\nQ 38.28125 53.03125 44.875 45.953125 \r\nQ 51.46875 38.875 51.46875 26.03125 \r\nQ 51.46875 25.25 51.421875 23.6875 \r\nL 12.75 23.6875 \r\nQ 13.234375 15.140625 17.578125 10.59375 \r\nQ 21.921875 6.0625 28.421875 6.0625 \r\nQ 33.25 6.0625 36.671875 8.59375 \r\nQ 40.09375 11.140625 42.09375 16.703125 \r\nz\r\nM 13.234375 30.90625 \r\nL 42.1875 30.90625 \r\nQ 41.609375 37.453125 38.875 40.71875 \r\nQ 34.671875 45.796875 27.984375 45.796875 \r\nQ 21.921875 45.796875 17.796875 41.75 \r\nQ 13.671875 37.703125 13.234375 30.90625 \r\nz\r\n\" id=\"ArialMT-101\"/>\r\n      <path d=\"M 6.5 0 \r\nL 6.5 51.859375 \r\nL 14.40625 51.859375 \r\nL 14.40625 44 \r\nQ 17.4375 49.515625 20 51.265625 \r\nQ 22.5625 53.03125 25.640625 53.03125 \r\nQ 30.078125 53.03125 34.671875 50.203125 \r\nL 31.640625 42.046875 \r\nQ 28.421875 43.953125 25.203125 43.953125 \r\nQ 22.3125 43.953125 20.015625 42.21875 \r\nQ 17.71875 40.484375 16.75 37.40625 \r\nQ 15.28125 32.71875 15.28125 27.15625 \r\nL 15.28125 0 \r\nz\r\n\" id=\"ArialMT-114\"/>\r\n      <path id=\"ArialMT-32\"/>\r\n      <path d=\"M 3.328125 25.921875 \r\nQ 3.328125 40.328125 11.328125 47.265625 \r\nQ 18.015625 53.03125 27.640625 53.03125 \r\nQ 38.328125 53.03125 45.109375 46.015625 \r\nQ 51.90625 39.015625 51.90625 26.65625 \r\nQ 51.90625 16.65625 48.90625 10.90625 \r\nQ 45.90625 5.171875 40.15625 2 \r\nQ 34.421875 -1.171875 27.640625 -1.171875 \r\nQ 16.75 -1.171875 10.03125 5.8125 \r\nQ 3.328125 12.796875 3.328125 25.921875 \r\nz\r\nM 12.359375 25.921875 \r\nQ 12.359375 15.96875 16.703125 11.015625 \r\nQ 21.046875 6.0625 27.640625 6.0625 \r\nQ 34.1875 6.0625 38.53125 11.03125 \r\nQ 42.875 16.015625 42.875 26.21875 \r\nQ 42.875 35.84375 38.5 40.796875 \r\nQ 34.125 45.75 27.640625 45.75 \r\nQ 21.046875 45.75 16.703125 40.8125 \r\nQ 12.359375 35.890625 12.359375 25.921875 \r\nz\r\n\" id=\"ArialMT-111\"/>\r\n      <path d=\"M 8.6875 0 \r\nL 8.6875 45.015625 \r\nL 0.921875 45.015625 \r\nL 0.921875 51.859375 \r\nL 8.6875 51.859375 \r\nL 8.6875 57.375 \r\nQ 8.6875 62.59375 9.625 65.140625 \r\nQ 10.890625 68.5625 14.078125 70.671875 \r\nQ 17.28125 72.796875 23.046875 72.796875 \r\nQ 26.765625 72.796875 31.25 71.921875 \r\nL 29.9375 64.265625 \r\nQ 27.203125 64.75 24.75 64.75 \r\nQ 20.75 64.75 19.09375 63.03125 \r\nQ 17.4375 61.328125 17.4375 56.640625 \r\nL 17.4375 51.859375 \r\nL 27.546875 51.859375 \r\nL 27.546875 45.015625 \r\nL 17.4375 45.015625 \r\nL 17.4375 0 \r\nz\r\n\" id=\"ArialMT-102\"/>\r\n      <path d=\"M 40.4375 19 \r\nL 49.078125 17.875 \r\nQ 47.65625 8.9375 41.8125 3.875 \r\nQ 35.984375 -1.171875 27.484375 -1.171875 \r\nQ 16.84375 -1.171875 10.375 5.78125 \r\nQ 3.90625 12.75 3.90625 25.734375 \r\nQ 3.90625 34.125 6.6875 40.421875 \r\nQ 9.46875 46.734375 15.15625 49.875 \r\nQ 20.84375 53.03125 27.546875 53.03125 \r\nQ 35.984375 53.03125 41.359375 48.75 \r\nQ 46.734375 44.484375 48.25 36.625 \r\nL 39.703125 35.296875 \r\nQ 38.484375 40.53125 35.375 43.15625 \r\nQ 32.28125 45.796875 27.875 45.796875 \r\nQ 21.234375 45.796875 17.078125 41.03125 \r\nQ 12.9375 36.28125 12.9375 25.984375 \r\nQ 12.9375 15.53125 16.9375 10.796875 \r\nQ 20.953125 6.0625 27.390625 6.0625 \r\nQ 32.5625 6.0625 36.03125 9.234375 \r\nQ 39.5 12.40625 40.4375 19 \r\nz\r\n\" id=\"ArialMT-99\"/>\r\n      <path d=\"M 6.59375 -19.875 \r\nL 6.59375 51.859375 \r\nL 14.59375 51.859375 \r\nL 14.59375 45.125 \r\nQ 17.4375 49.078125 21 51.046875 \r\nQ 24.5625 53.03125 29.640625 53.03125 \r\nQ 36.28125 53.03125 41.359375 49.609375 \r\nQ 46.4375 46.1875 49.015625 39.953125 \r\nQ 51.609375 33.734375 51.609375 26.3125 \r\nQ 51.609375 18.359375 48.75 11.984375 \r\nQ 45.90625 5.609375 40.453125 2.21875 \r\nQ 35.015625 -1.171875 29 -1.171875 \r\nQ 24.609375 -1.171875 21.109375 0.6875 \r\nQ 17.625 2.546875 15.375 5.375 \r\nL 15.375 -19.875 \r\nz\r\nM 14.546875 25.640625 \r\nQ 14.546875 15.625 18.59375 10.84375 \r\nQ 22.65625 6.0625 28.421875 6.0625 \r\nQ 34.28125 6.0625 38.453125 11.015625 \r\nQ 42.625 15.96875 42.625 26.375 \r\nQ 42.625 36.28125 38.546875 41.203125 \r\nQ 34.46875 46.140625 28.8125 46.140625 \r\nQ 23.1875 46.140625 18.859375 40.890625 \r\nQ 14.546875 35.640625 14.546875 25.640625 \r\nz\r\n\" id=\"ArialMT-112\"/>\r\n      <path d=\"M 25.78125 7.859375 \r\nL 27.046875 0.09375 \r\nQ 23.34375 -0.6875 20.40625 -0.6875 \r\nQ 15.625 -0.6875 12.984375 0.828125 \r\nQ 10.359375 2.34375 9.28125 4.8125 \r\nQ 8.203125 7.28125 8.203125 15.1875 \r\nL 8.203125 45.015625 \r\nL 1.765625 45.015625 \r\nL 1.765625 51.859375 \r\nL 8.203125 51.859375 \r\nL 8.203125 64.703125 \r\nL 16.9375 69.96875 \r\nL 16.9375 51.859375 \r\nL 25.78125 51.859375 \r\nL 25.78125 45.015625 \r\nL 16.9375 45.015625 \r\nL 16.9375 14.703125 \r\nQ 16.9375 10.9375 17.40625 9.859375 \r\nQ 17.875 8.796875 18.921875 8.15625 \r\nQ 19.96875 7.515625 21.921875 7.515625 \r\nQ 23.390625 7.515625 25.78125 7.859375 \r\nz\r\n\" id=\"ArialMT-116\"/>\r\n      <path d=\"M 3.078125 15.484375 \r\nL 11.765625 16.84375 \r\nQ 12.5 11.625 15.84375 8.84375 \r\nQ 19.1875 6.0625 25.203125 6.0625 \r\nQ 31.25 6.0625 34.171875 8.515625 \r\nQ 37.109375 10.984375 37.109375 14.3125 \r\nQ 37.109375 17.28125 34.515625 19 \r\nQ 32.71875 20.171875 25.53125 21.96875 \r\nQ 15.875 24.421875 12.140625 26.203125 \r\nQ 8.40625 27.984375 6.46875 31.125 \r\nQ 4.546875 34.28125 4.546875 38.09375 \r\nQ 4.546875 41.546875 6.125 44.5 \r\nQ 7.71875 47.46875 10.453125 49.421875 \r\nQ 12.5 50.921875 16.03125 51.96875 \r\nQ 19.578125 53.03125 23.640625 53.03125 \r\nQ 29.734375 53.03125 34.34375 51.265625 \r\nQ 38.96875 49.515625 41.15625 46.5 \r\nQ 43.359375 43.5 44.1875 38.484375 \r\nL 35.59375 37.3125 \r\nQ 35.015625 41.3125 32.203125 43.546875 \r\nQ 29.390625 45.796875 24.265625 45.796875 \r\nQ 18.21875 45.796875 15.625 43.796875 \r\nQ 13.03125 41.796875 13.03125 39.109375 \r\nQ 13.03125 37.40625 14.109375 36.03125 \r\nQ 15.1875 34.625 17.484375 33.6875 \r\nQ 18.796875 33.203125 25.25 31.453125 \r\nQ 34.578125 28.953125 38.25 27.359375 \r\nQ 41.9375 25.78125 44.03125 22.75 \r\nQ 46.140625 19.734375 46.140625 15.234375 \r\nQ 46.140625 10.84375 43.578125 6.953125 \r\nQ 41.015625 3.078125 36.171875 0.953125 \r\nQ 31.34375 -1.171875 25.25 -1.171875 \r\nQ 15.140625 -1.171875 9.84375 3.03125 \r\nQ 4.546875 7.234375 3.078125 15.484375 \r\nz\r\n\" id=\"ArialMT-115\"/>\r\n     </defs>\r\n     <g style=\"fill:#262626;\" transform=\"translate(153.00125 256.935469)scale(0.12 -0.12)\">\r\n      <use xlink:href=\"#ArialMT-110\"/>\r\n      <use x=\"55.615234\" xlink:href=\"#ArialMT-117\"/>\r\n      <use x=\"111.230469\" xlink:href=\"#ArialMT-109\"/>\r\n      <use x=\"194.53125\" xlink:href=\"#ArialMT-98\"/>\r\n      <use x=\"250.146484\" xlink:href=\"#ArialMT-101\"/>\r\n      <use x=\"305.761719\" xlink:href=\"#ArialMT-114\"/>\r\n      <use x=\"339.0625\" xlink:href=\"#ArialMT-32\"/>\r\n      <use x=\"366.845703\" xlink:href=\"#ArialMT-111\"/>\r\n      <use x=\"422.460938\" xlink:href=\"#ArialMT-102\"/>\r\n      <use x=\"450.244141\" xlink:href=\"#ArialMT-32\"/>\r\n      <use x=\"478.027344\" xlink:href=\"#ArialMT-99\"/>\r\n      <use x=\"528.027344\" xlink:href=\"#ArialMT-111\"/>\r\n      <use x=\"583.642578\" xlink:href=\"#ArialMT-109\"/>\r\n      <use x=\"666.943359\" xlink:href=\"#ArialMT-112\"/>\r\n      <use x=\"722.558594\" xlink:href=\"#ArialMT-111\"/>\r\n      <use x=\"778.173828\" xlink:href=\"#ArialMT-110\"/>\r\n      <use x=\"833.789062\" xlink:href=\"#ArialMT-101\"/>\r\n      <use x=\"889.404297\" xlink:href=\"#ArialMT-110\"/>\r\n      <use x=\"945.019531\" xlink:href=\"#ArialMT-116\"/>\r\n      <use x=\"972.802734\" xlink:href=\"#ArialMT-115\"/>\r\n     </g>\r\n    </g>\r\n   </g>\r\n   <g id=\"matplotlib.axis_2\">\r\n    <g id=\"ytick_1\">\r\n     <g id=\"line2d_10\">\r\n      <path clip-path=\"url(#pab4b2154d6)\" d=\"M 46.964375 190.991094 \r\nL 381.764375 190.991094 \r\n\" style=\"fill:none;stroke:#ffffff;stroke-linecap:round;\"/>\r\n     </g>\r\n     <g id=\"text_11\">\r\n      <!-- 0.2 -->\r\n      <defs>\r\n       <path d=\"M 9.078125 0 \r\nL 9.078125 10.015625 \r\nL 19.09375 10.015625 \r\nL 19.09375 0 \r\nz\r\n\" id=\"ArialMT-46\"/>\r\n      </defs>\r\n      <g style=\"fill:#262626;\" transform=\"translate(22.174375 194.927891)scale(0.11 -0.11)\">\r\n       <use xlink:href=\"#ArialMT-48\"/>\r\n       <use x=\"55.615234\" xlink:href=\"#ArialMT-46\"/>\r\n       <use x=\"83.398438\" xlink:href=\"#ArialMT-50\"/>\r\n      </g>\r\n     </g>\r\n    </g>\r\n    <g id=\"ytick_2\">\r\n     <g id=\"line2d_11\">\r\n      <path clip-path=\"url(#pab4b2154d6)\" d=\"M 46.964375 144.637402 \r\nL 381.764375 144.637402 \r\n\" style=\"fill:none;stroke:#ffffff;stroke-linecap:round;\"/>\r\n     </g>\r\n     <g id=\"text_12\">\r\n      <!-- 0.4 -->\r\n      <g style=\"fill:#262626;\" transform=\"translate(22.174375 148.574199)scale(0.11 -0.11)\">\r\n       <use xlink:href=\"#ArialMT-48\"/>\r\n       <use x=\"55.615234\" xlink:href=\"#ArialMT-46\"/>\r\n       <use x=\"83.398438\" xlink:href=\"#ArialMT-52\"/>\r\n      </g>\r\n     </g>\r\n    </g>\r\n    <g id=\"ytick_3\">\r\n     <g id=\"line2d_12\">\r\n      <path clip-path=\"url(#pab4b2154d6)\" d=\"M 46.964375 98.28371 \r\nL 381.764375 98.28371 \r\n\" style=\"fill:none;stroke:#ffffff;stroke-linecap:round;\"/>\r\n     </g>\r\n     <g id=\"text_13\">\r\n      <!-- 0.6 -->\r\n      <g style=\"fill:#262626;\" transform=\"translate(22.174375 102.220507)scale(0.11 -0.11)\">\r\n       <use xlink:href=\"#ArialMT-48\"/>\r\n       <use x=\"55.615234\" xlink:href=\"#ArialMT-46\"/>\r\n       <use x=\"83.398438\" xlink:href=\"#ArialMT-54\"/>\r\n      </g>\r\n     </g>\r\n    </g>\r\n    <g id=\"ytick_4\">\r\n     <g id=\"line2d_13\">\r\n      <path clip-path=\"url(#pab4b2154d6)\" d=\"M 46.964375 51.930018 \r\nL 381.764375 51.930018 \r\n\" style=\"fill:none;stroke:#ffffff;stroke-linecap:round;\"/>\r\n     </g>\r\n     <g id=\"text_14\">\r\n      <!-- 0.8 -->\r\n      <g style=\"fill:#262626;\" transform=\"translate(22.174375 55.866814)scale(0.11 -0.11)\">\r\n       <use xlink:href=\"#ArialMT-48\"/>\r\n       <use x=\"55.615234\" xlink:href=\"#ArialMT-46\"/>\r\n       <use x=\"83.398438\" xlink:href=\"#ArialMT-56\"/>\r\n      </g>\r\n     </g>\r\n    </g>\r\n    <g id=\"text_15\">\r\n     <!-- cumulative explained variance -->\r\n     <defs>\r\n      <path d=\"M 6.390625 0 \r\nL 6.390625 71.578125 \r\nL 15.1875 71.578125 \r\nL 15.1875 0 \r\nz\r\n\" id=\"ArialMT-108\"/>\r\n      <path d=\"M 40.4375 6.390625 \r\nQ 35.546875 2.25 31.03125 0.53125 \r\nQ 26.515625 -1.171875 21.34375 -1.171875 \r\nQ 12.796875 -1.171875 8.203125 3 \r\nQ 3.609375 7.171875 3.609375 13.671875 \r\nQ 3.609375 17.484375 5.34375 20.625 \r\nQ 7.078125 23.78125 9.890625 25.6875 \r\nQ 12.703125 27.59375 16.21875 28.5625 \r\nQ 18.796875 29.25 24.03125 29.890625 \r\nQ 34.671875 31.15625 39.703125 32.90625 \r\nQ 39.75 34.71875 39.75 35.203125 \r\nQ 39.75 40.578125 37.25 42.78125 \r\nQ 33.890625 45.75 27.25 45.75 \r\nQ 21.046875 45.75 18.09375 43.578125 \r\nQ 15.140625 41.40625 13.71875 35.890625 \r\nL 5.125 37.0625 \r\nQ 6.296875 42.578125 8.984375 45.96875 \r\nQ 11.671875 49.359375 16.75 51.1875 \r\nQ 21.828125 53.03125 28.515625 53.03125 \r\nQ 35.15625 53.03125 39.296875 51.46875 \r\nQ 43.453125 49.90625 45.40625 47.53125 \r\nQ 47.359375 45.171875 48.140625 41.546875 \r\nQ 48.578125 39.3125 48.578125 33.453125 \r\nL 48.578125 21.734375 \r\nQ 48.578125 9.46875 49.140625 6.21875 \r\nQ 49.703125 2.984375 51.375 0 \r\nL 42.1875 0 \r\nQ 40.828125 2.734375 40.4375 6.390625 \r\nz\r\nM 39.703125 26.03125 \r\nQ 34.90625 24.078125 25.34375 22.703125 \r\nQ 19.921875 21.921875 17.671875 20.9375 \r\nQ 15.4375 19.96875 14.203125 18.09375 \r\nQ 12.984375 16.21875 12.984375 13.921875 \r\nQ 12.984375 10.40625 15.640625 8.0625 \r\nQ 18.3125 5.71875 23.4375 5.71875 \r\nQ 28.515625 5.71875 32.46875 7.9375 \r\nQ 36.421875 10.15625 38.28125 14.015625 \r\nQ 39.703125 17 39.703125 22.796875 \r\nz\r\n\" id=\"ArialMT-97\"/>\r\n      <path d=\"M 6.640625 61.46875 \r\nL 6.640625 71.578125 \r\nL 15.4375 71.578125 \r\nL 15.4375 61.46875 \r\nz\r\nM 6.640625 0 \r\nL 6.640625 51.859375 \r\nL 15.4375 51.859375 \r\nL 15.4375 0 \r\nz\r\n\" id=\"ArialMT-105\"/>\r\n      <path d=\"M 21 0 \r\nL 1.265625 51.859375 \r\nL 10.546875 51.859375 \r\nL 21.6875 20.796875 \r\nQ 23.484375 15.765625 25 10.359375 \r\nQ 26.171875 14.453125 28.265625 20.21875 \r\nL 39.796875 51.859375 \r\nL 48.828125 51.859375 \r\nL 29.203125 0 \r\nz\r\n\" id=\"ArialMT-118\"/>\r\n      <path d=\"M 0.734375 0 \r\nL 19.671875 26.953125 \r\nL 2.15625 51.859375 \r\nL 13.140625 51.859375 \r\nL 21.09375 39.703125 \r\nQ 23.34375 36.234375 24.703125 33.890625 \r\nQ 26.859375 37.109375 28.65625 39.59375 \r\nL 37.40625 51.859375 \r\nL 47.90625 51.859375 \r\nL 29.984375 27.4375 \r\nL 49.265625 0 \r\nL 38.484375 0 \r\nL 27.828125 16.109375 \r\nL 25 20.453125 \r\nL 11.375 0 \r\nz\r\n\" id=\"ArialMT-120\"/>\r\n      <path d=\"M 40.234375 0 \r\nL 40.234375 6.546875 \r\nQ 35.296875 -1.171875 25.734375 -1.171875 \r\nQ 19.53125 -1.171875 14.328125 2.25 \r\nQ 9.125 5.671875 6.265625 11.796875 \r\nQ 3.421875 17.921875 3.421875 25.875 \r\nQ 3.421875 33.640625 6 39.96875 \r\nQ 8.59375 46.296875 13.765625 49.65625 \r\nQ 18.953125 53.03125 25.34375 53.03125 \r\nQ 30.03125 53.03125 33.6875 51.046875 \r\nQ 37.359375 49.078125 39.65625 45.90625 \r\nL 39.65625 71.578125 \r\nL 48.390625 71.578125 \r\nL 48.390625 0 \r\nz\r\nM 12.453125 25.875 \r\nQ 12.453125 15.921875 16.640625 10.984375 \r\nQ 20.84375 6.0625 26.5625 6.0625 \r\nQ 32.328125 6.0625 36.34375 10.765625 \r\nQ 40.375 15.484375 40.375 25.140625 \r\nQ 40.375 35.796875 36.265625 40.765625 \r\nQ 32.171875 45.75 26.171875 45.75 \r\nQ 20.3125 45.75 16.375 40.96875 \r\nQ 12.453125 36.1875 12.453125 25.875 \r\nz\r\n\" id=\"ArialMT-100\"/>\r\n     </defs>\r\n     <g style=\"fill:#262626;\" transform=\"translate(15.789375 196.29375)rotate(-90)scale(0.12 -0.12)\">\r\n      <use xlink:href=\"#ArialMT-99\"/>\r\n      <use x=\"50\" xlink:href=\"#ArialMT-117\"/>\r\n      <use x=\"105.615234\" xlink:href=\"#ArialMT-109\"/>\r\n      <use x=\"188.916016\" xlink:href=\"#ArialMT-117\"/>\r\n      <use x=\"244.53125\" xlink:href=\"#ArialMT-108\"/>\r\n      <use x=\"266.748047\" xlink:href=\"#ArialMT-97\"/>\r\n      <use x=\"322.363281\" xlink:href=\"#ArialMT-116\"/>\r\n      <use x=\"350.146484\" xlink:href=\"#ArialMT-105\"/>\r\n      <use x=\"372.363281\" xlink:href=\"#ArialMT-118\"/>\r\n      <use x=\"422.363281\" xlink:href=\"#ArialMT-101\"/>\r\n      <use x=\"477.978516\" xlink:href=\"#ArialMT-32\"/>\r\n      <use x=\"505.761719\" xlink:href=\"#ArialMT-101\"/>\r\n      <use x=\"561.376953\" xlink:href=\"#ArialMT-120\"/>\r\n      <use x=\"611.376953\" xlink:href=\"#ArialMT-112\"/>\r\n      <use x=\"666.992188\" xlink:href=\"#ArialMT-108\"/>\r\n      <use x=\"689.208984\" xlink:href=\"#ArialMT-97\"/>\r\n      <use x=\"744.824219\" xlink:href=\"#ArialMT-105\"/>\r\n      <use x=\"767.041016\" xlink:href=\"#ArialMT-110\"/>\r\n      <use x=\"822.65625\" xlink:href=\"#ArialMT-101\"/>\r\n      <use x=\"878.271484\" xlink:href=\"#ArialMT-100\"/>\r\n      <use x=\"933.886719\" xlink:href=\"#ArialMT-32\"/>\r\n      <use x=\"961.669922\" xlink:href=\"#ArialMT-118\"/>\r\n      <use x=\"1011.669922\" xlink:href=\"#ArialMT-97\"/>\r\n      <use x=\"1067.285156\" xlink:href=\"#ArialMT-114\"/>\r\n      <use x=\"1100.585938\" xlink:href=\"#ArialMT-105\"/>\r\n      <use x=\"1122.802734\" xlink:href=\"#ArialMT-97\"/>\r\n      <use x=\"1178.417969\" xlink:href=\"#ArialMT-110\"/>\r\n      <use x=\"1234.033203\" xlink:href=\"#ArialMT-99\"/>\r\n      <use x=\"1284.033203\" xlink:href=\"#ArialMT-101\"/>\r\n     </g>\r\n    </g>\r\n   </g>\r\n   <g id=\"line2d_14\">\r\n    <path clip-path=\"url(#pab4b2154d6)\" d=\"M 62.182557 214.756364 \r\nL 64.171862 198.1723 \r\nL 66.161166 183.919627 \r\nL 68.150471 171.396285 \r\nL 70.139776 160.065279 \r\nL 72.129081 150.08712 \r\nL 74.118386 142.489144 \r\nL 78.096995 129.398848 \r\nL 80.0863 123.970506 \r\nL 84.06491 114.36546 \r\nL 88.043519 106.48282 \r\nL 92.022129 99.368161 \r\nL 96.000739 93.345952 \r\nL 99.979348 87.922086 \r\nL 103.957958 83.110957 \r\nL 107.936568 78.779699 \r\nL 111.915177 74.788403 \r\nL 115.893787 71.090422 \r\nL 119.872396 67.775493 \r\nL 123.851006 64.758761 \r\nL 129.81892 60.695432 \r\nL 133.79753 58.266064 \r\nL 139.765445 54.943366 \r\nL 145.733359 51.889809 \r\nL 151.701273 49.211361 \r\nL 157.669188 46.779687 \r\nL 165.626407 43.898399 \r\nL 173.583626 41.331725 \r\nL 183.53015 38.474927 \r\nL 191.48737 36.45956 \r\nL 201.433894 34.223428 \r\nL 211.380418 32.234075 \r\nL 219.337637 30.832033 \r\nL 233.262771 28.631963 \r\nL 245.1986 26.983279 \r\nL 261.113038 25.058007 \r\nL 277.027477 23.40446 \r\nL 294.93122 21.80843 \r\nL 314.824268 20.252302 \r\nL 336.706621 18.771831 \r\nL 362.567584 17.294033 \r\nL 366.546193 17.083636 \r\nL 366.546193 17.083636 \r\n\" style=\"fill:none;stroke:#4c72b0;stroke-linecap:round;stroke-width:1.5;\"/>\r\n   </g>\r\n   <g id=\"patch_3\">\r\n    <path d=\"M 46.964375 224.64 \r\nL 46.964375 7.2 \r\n\" style=\"fill:none;stroke:#ffffff;stroke-linecap:square;stroke-linejoin:miter;stroke-width:1.25;\"/>\r\n   </g>\r\n   <g id=\"patch_4\">\r\n    <path d=\"M 381.764375 224.64 \r\nL 381.764375 7.2 \r\n\" style=\"fill:none;stroke:#ffffff;stroke-linecap:square;stroke-linejoin:miter;stroke-width:1.25;\"/>\r\n   </g>\r\n   <g id=\"patch_5\">\r\n    <path d=\"M 46.964375 224.64 \r\nL 381.764375 224.64 \r\n\" style=\"fill:none;stroke:#ffffff;stroke-linecap:square;stroke-linejoin:miter;stroke-width:1.25;\"/>\r\n   </g>\r\n   <g id=\"patch_6\">\r\n    <path d=\"M 46.964375 7.2 \r\nL 381.764375 7.2 \r\n\" style=\"fill:none;stroke:#ffffff;stroke-linecap:square;stroke-linejoin:miter;stroke-width:1.25;\"/>\r\n   </g>\r\n  </g>\r\n </g>\r\n <defs>\r\n  <clipPath id=\"pab4b2154d6\">\r\n   <rect height=\"217.44\" width=\"334.8\" x=\"46.964375\" y=\"7.2\"/>\r\n  </clipPath>\r\n </defs>\r\n</svg>\r\n",
      "image/png": "[encoded data removed]"
     },
     "metadata": {}
    }
   ],
   "source": [
    "#Explained variance plot\n",
    "\n",
    "cumsum = np.cumsum(pca.explained_variance_ratio_)\n",
    "plt.plot(np.cumsum(pca.explained_variance_ratio_))\n",
    "plt.xlabel('number of components')\n",
    "plt.ylabel('cumulative explained variance')\n",
    "plt.show()"
   ]
  },
  {
   "cell_type": "markdown",
   "metadata": {},
   "source": [
    "## 3. Using the identified PC from above, use the train.csv to build another random forest classifier."
   ]
  },
  {
   "cell_type": "code",
   "execution_count": 83,
   "metadata": {},
   "outputs": [],
   "source": [
    "X_reduced_train = X_reduced[0:33600, :]\n",
    "X_reduced_test = X_reduced[33600:42000, :]"
   ]
  },
  {
   "cell_type": "code",
   "execution_count": 84,
   "metadata": {},
   "outputs": [],
   "source": [
    "# Convert to integers\n",
    "X_reduced_train = X_reduced_train.astype(int)\n",
    "X_reduced_test = X_reduced_test.astype(int)"
   ]
  },
  {
   "cell_type": "code",
   "execution_count": 85,
   "metadata": {},
   "outputs": [
    {
     "output_type": "stream",
     "name": "stdout",
     "text": [
      "Random classifier took 0:01:24.166400 seconds to run on Test data using PCA\n"
     ]
    }
   ],
   "source": [
    "## Here we have used train.csv data to build another random forest classifier and record the time along with accuracy.\n",
    "\n",
    "start = datetime.datetime.now()\n",
    "rnd_clf2 = RandomForestClassifier(n_estimators = 154, random_state = 42)\n",
    "rnd_clf2.fit(X_reduced_train, y_train)\n",
    "end = datetime.datetime.now()\n",
    "print(f'Random classifier took {end - start} seconds to run on Test data using PCA')"
   ]
  },
  {
   "cell_type": "code",
   "execution_count": 86,
   "metadata": {},
   "outputs": [],
   "source": [
    "y_pred2 = rnd_clf2.predict(X_reduced_test)"
   ]
  },
  {
   "cell_type": "code",
   "execution_count": 87,
   "metadata": {},
   "outputs": [
    {
     "output_type": "stream",
     "name": "stdout",
     "text": [
      "Accuracy:  0.1075\n"
     ]
    }
   ],
   "source": [
    "print('Accuracy: ', accuracy_score(y_test,y_pred2))"
   ]
  },
  {
   "cell_type": "code",
   "execution_count": 88,
   "metadata": {},
   "outputs": [
    {
     "output_type": "stream",
     "name": "stdout",
     "text": [
      "F1 accuracy:  0.10282705843258588\n"
     ]
    }
   ],
   "source": [
    "from sklearn.metrics import confusion_matrix, precision_score, recall_score, f1_score, classification_report\n",
    "print('F1 accuracy: ', f1_score(y_pred2, y_test, average='macro'))"
   ]
  },
  {
   "cell_type": "markdown",
   "metadata": {},
   "source": [
    "## 4. Submit both RF & PCA RF to Kaggle"
   ]
  },
  {
   "cell_type": "markdown",
   "metadata": {},
   "source": [
    "## 5. Identify design flaw  re-run experiment"
   ]
  },
  {
   "cell_type": "markdown",
   "metadata": {},
   "source": [
    "## 6.  k-means clustering to group MNIST observations into 1 of 10 categories & assign labels"
   ]
  },
  {
   "cell_type": "code",
   "execution_count": 147,
   "metadata": {},
   "outputs": [
    {
     "output_type": "error",
     "ename": "KeyError",
     "evalue": "'Passing list-likes to .loc or [] with any missing labels is no longer supported, see https://pandas.pydata.org/pandas-docs/stable/user_guide/indexing.html#deprecate-loc-reindex-listlike'",
     "traceback": [
      "\u001b[1;31m---------------------------------------------------------------------------\u001b[0m",
      "\u001b[1;31mKeyError\u001b[0m                                  Traceback (most recent call last)",
      "\u001b[1;32m<ipython-input-147-2b55db596eea>\u001b[0m in \u001b[0;36m<module>\u001b[1;34m\u001b[0m\n\u001b[0;32m      6\u001b[0m \u001b[0mX_digits_dist\u001b[0m \u001b[1;33m=\u001b[0m \u001b[0mkmeans\u001b[0m\u001b[1;33m.\u001b[0m\u001b[0mfit_transform\u001b[0m\u001b[1;33m(\u001b[0m\u001b[0mX_train\u001b[0m\u001b[1;33m)\u001b[0m\u001b[1;33m\u001b[0m\u001b[1;33m\u001b[0m\u001b[0m\n\u001b[0;32m      7\u001b[0m \u001b[0mrepresentative_digit_idx\u001b[0m \u001b[1;33m=\u001b[0m \u001b[0mnp\u001b[0m\u001b[1;33m.\u001b[0m\u001b[0margmin\u001b[0m\u001b[1;33m(\u001b[0m\u001b[0mX_digits_dist\u001b[0m\u001b[1;33m,\u001b[0m \u001b[0maxis\u001b[0m\u001b[1;33m=\u001b[0m\u001b[1;36m0\u001b[0m\u001b[1;33m)\u001b[0m\u001b[1;33m\u001b[0m\u001b[1;33m\u001b[0m\u001b[0m\n\u001b[1;32m----> 8\u001b[1;33m \u001b[0mX_representative_digits\u001b[0m \u001b[1;33m=\u001b[0m \u001b[0mX_train\u001b[0m\u001b[1;33m.\u001b[0m\u001b[0mloc\u001b[0m\u001b[1;33m[\u001b[0m\u001b[0mrepresentative_digit_idx\u001b[0m\u001b[1;33m]\u001b[0m\u001b[1;33m\u001b[0m\u001b[1;33m\u001b[0m\u001b[0m\n\u001b[0m",
      "\u001b[1;32m~\\anaconda3\\lib\\site-packages\\pandas\\core\\indexing.py\u001b[0m in \u001b[0;36m__getitem__\u001b[1;34m(self, key)\u001b[0m\n\u001b[0;32m   1766\u001b[0m \u001b[1;33m\u001b[0m\u001b[0m\n\u001b[0;32m   1767\u001b[0m             \u001b[0mmaybe_callable\u001b[0m \u001b[1;33m=\u001b[0m \u001b[0mcom\u001b[0m\u001b[1;33m.\u001b[0m\u001b[0mapply_if_callable\u001b[0m\u001b[1;33m(\u001b[0m\u001b[0mkey\u001b[0m\u001b[1;33m,\u001b[0m \u001b[0mself\u001b[0m\u001b[1;33m.\u001b[0m\u001b[0mobj\u001b[0m\u001b[1;33m)\u001b[0m\u001b[1;33m\u001b[0m\u001b[1;33m\u001b[0m\u001b[0m\n\u001b[1;32m-> 1768\u001b[1;33m             \u001b[1;32mreturn\u001b[0m \u001b[0mself\u001b[0m\u001b[1;33m.\u001b[0m\u001b[0m_getitem_axis\u001b[0m\u001b[1;33m(\u001b[0m\u001b[0mmaybe_callable\u001b[0m\u001b[1;33m,\u001b[0m \u001b[0maxis\u001b[0m\u001b[1;33m=\u001b[0m\u001b[0maxis\u001b[0m\u001b[1;33m)\u001b[0m\u001b[1;33m\u001b[0m\u001b[1;33m\u001b[0m\u001b[0m\n\u001b[0m\u001b[0;32m   1769\u001b[0m \u001b[1;33m\u001b[0m\u001b[0m\n\u001b[0;32m   1770\u001b[0m     \u001b[1;32mdef\u001b[0m \u001b[0m_is_scalar_access\u001b[0m\u001b[1;33m(\u001b[0m\u001b[0mself\u001b[0m\u001b[1;33m,\u001b[0m \u001b[0mkey\u001b[0m\u001b[1;33m:\u001b[0m \u001b[0mTuple\u001b[0m\u001b[1;33m)\u001b[0m\u001b[1;33m:\u001b[0m\u001b[1;33m\u001b[0m\u001b[1;33m\u001b[0m\u001b[0m\n",
      "\u001b[1;32m~\\anaconda3\\lib\\site-packages\\pandas\\core\\indexing.py\u001b[0m in \u001b[0;36m_getitem_axis\u001b[1;34m(self, key, axis)\u001b[0m\n\u001b[0;32m   1952\u001b[0m                     \u001b[1;32mraise\u001b[0m \u001b[0mValueError\u001b[0m\u001b[1;33m(\u001b[0m\u001b[1;34m\"Cannot index with multidimensional key\"\u001b[0m\u001b[1;33m)\u001b[0m\u001b[1;33m\u001b[0m\u001b[1;33m\u001b[0m\u001b[0m\n\u001b[0;32m   1953\u001b[0m \u001b[1;33m\u001b[0m\u001b[0m\n\u001b[1;32m-> 1954\u001b[1;33m                 \u001b[1;32mreturn\u001b[0m \u001b[0mself\u001b[0m\u001b[1;33m.\u001b[0m\u001b[0m_getitem_iterable\u001b[0m\u001b[1;33m(\u001b[0m\u001b[0mkey\u001b[0m\u001b[1;33m,\u001b[0m \u001b[0maxis\u001b[0m\u001b[1;33m=\u001b[0m\u001b[0maxis\u001b[0m\u001b[1;33m)\u001b[0m\u001b[1;33m\u001b[0m\u001b[1;33m\u001b[0m\u001b[0m\n\u001b[0m\u001b[0;32m   1955\u001b[0m \u001b[1;33m\u001b[0m\u001b[0m\n\u001b[0;32m   1956\u001b[0m             \u001b[1;31m# nested tuple slicing\u001b[0m\u001b[1;33m\u001b[0m\u001b[1;33m\u001b[0m\u001b[1;33m\u001b[0m\u001b[0m\n",
      "\u001b[1;32m~\\anaconda3\\lib\\site-packages\\pandas\\core\\indexing.py\u001b[0m in \u001b[0;36m_getitem_iterable\u001b[1;34m(self, key, axis)\u001b[0m\n\u001b[0;32m   1593\u001b[0m         \u001b[1;32melse\u001b[0m\u001b[1;33m:\u001b[0m\u001b[1;33m\u001b[0m\u001b[1;33m\u001b[0m\u001b[0m\n\u001b[0;32m   1594\u001b[0m             \u001b[1;31m# A collection of keys\u001b[0m\u001b[1;33m\u001b[0m\u001b[1;33m\u001b[0m\u001b[1;33m\u001b[0m\u001b[0m\n\u001b[1;32m-> 1595\u001b[1;33m             \u001b[0mkeyarr\u001b[0m\u001b[1;33m,\u001b[0m \u001b[0mindexer\u001b[0m \u001b[1;33m=\u001b[0m \u001b[0mself\u001b[0m\u001b[1;33m.\u001b[0m\u001b[0m_get_listlike_indexer\u001b[0m\u001b[1;33m(\u001b[0m\u001b[0mkey\u001b[0m\u001b[1;33m,\u001b[0m \u001b[0maxis\u001b[0m\u001b[1;33m,\u001b[0m \u001b[0mraise_missing\u001b[0m\u001b[1;33m=\u001b[0m\u001b[1;32mFalse\u001b[0m\u001b[1;33m)\u001b[0m\u001b[1;33m\u001b[0m\u001b[1;33m\u001b[0m\u001b[0m\n\u001b[0m\u001b[0;32m   1596\u001b[0m             return self.obj._reindex_with_indexers(\n\u001b[0;32m   1597\u001b[0m                 \u001b[1;33m{\u001b[0m\u001b[0maxis\u001b[0m\u001b[1;33m:\u001b[0m \u001b[1;33m[\u001b[0m\u001b[0mkeyarr\u001b[0m\u001b[1;33m,\u001b[0m \u001b[0mindexer\u001b[0m\u001b[1;33m]\u001b[0m\u001b[1;33m}\u001b[0m\u001b[1;33m,\u001b[0m \u001b[0mcopy\u001b[0m\u001b[1;33m=\u001b[0m\u001b[1;32mTrue\u001b[0m\u001b[1;33m,\u001b[0m \u001b[0mallow_dups\u001b[0m\u001b[1;33m=\u001b[0m\u001b[1;32mTrue\u001b[0m\u001b[1;33m\u001b[0m\u001b[1;33m\u001b[0m\u001b[0m\n",
      "\u001b[1;32m~\\anaconda3\\lib\\site-packages\\pandas\\core\\indexing.py\u001b[0m in \u001b[0;36m_get_listlike_indexer\u001b[1;34m(self, key, axis, raise_missing)\u001b[0m\n\u001b[0;32m   1550\u001b[0m             \u001b[0mkeyarr\u001b[0m\u001b[1;33m,\u001b[0m \u001b[0mindexer\u001b[0m\u001b[1;33m,\u001b[0m \u001b[0mnew_indexer\u001b[0m \u001b[1;33m=\u001b[0m \u001b[0max\u001b[0m\u001b[1;33m.\u001b[0m\u001b[0m_reindex_non_unique\u001b[0m\u001b[1;33m(\u001b[0m\u001b[0mkeyarr\u001b[0m\u001b[1;33m)\u001b[0m\u001b[1;33m\u001b[0m\u001b[1;33m\u001b[0m\u001b[0m\n\u001b[0;32m   1551\u001b[0m \u001b[1;33m\u001b[0m\u001b[0m\n\u001b[1;32m-> 1552\u001b[1;33m         self._validate_read_indexer(\n\u001b[0m\u001b[0;32m   1553\u001b[0m             \u001b[0mkeyarr\u001b[0m\u001b[1;33m,\u001b[0m \u001b[0mindexer\u001b[0m\u001b[1;33m,\u001b[0m \u001b[0mo\u001b[0m\u001b[1;33m.\u001b[0m\u001b[0m_get_axis_number\u001b[0m\u001b[1;33m(\u001b[0m\u001b[0maxis\u001b[0m\u001b[1;33m)\u001b[0m\u001b[1;33m,\u001b[0m \u001b[0mraise_missing\u001b[0m\u001b[1;33m=\u001b[0m\u001b[0mraise_missing\u001b[0m\u001b[1;33m\u001b[0m\u001b[1;33m\u001b[0m\u001b[0m\n\u001b[0;32m   1554\u001b[0m         )\n",
      "\u001b[1;32m~\\anaconda3\\lib\\site-packages\\pandas\\core\\indexing.py\u001b[0m in \u001b[0;36m_validate_read_indexer\u001b[1;34m(self, key, indexer, axis, raise_missing)\u001b[0m\n\u001b[0;32m   1652\u001b[0m             \u001b[1;31m# just raising\u001b[0m\u001b[1;33m\u001b[0m\u001b[1;33m\u001b[0m\u001b[1;33m\u001b[0m\u001b[0m\n\u001b[0;32m   1653\u001b[0m             \u001b[1;32mif\u001b[0m \u001b[1;32mnot\u001b[0m \u001b[1;33m(\u001b[0m\u001b[0max\u001b[0m\u001b[1;33m.\u001b[0m\u001b[0mis_categorical\u001b[0m\u001b[1;33m(\u001b[0m\u001b[1;33m)\u001b[0m \u001b[1;32mor\u001b[0m \u001b[0max\u001b[0m\u001b[1;33m.\u001b[0m\u001b[0mis_interval\u001b[0m\u001b[1;33m(\u001b[0m\u001b[1;33m)\u001b[0m\u001b[1;33m)\u001b[0m\u001b[1;33m:\u001b[0m\u001b[1;33m\u001b[0m\u001b[1;33m\u001b[0m\u001b[0m\n\u001b[1;32m-> 1654\u001b[1;33m                 raise KeyError(\n\u001b[0m\u001b[0;32m   1655\u001b[0m                     \u001b[1;34m\"Passing list-likes to .loc or [] with any missing labels \"\u001b[0m\u001b[1;33m\u001b[0m\u001b[1;33m\u001b[0m\u001b[0m\n\u001b[0;32m   1656\u001b[0m                     \u001b[1;34m\"is no longer supported, see \"\u001b[0m\u001b[1;33m\u001b[0m\u001b[1;33m\u001b[0m\u001b[0m\n",
      "\u001b[1;31mKeyError\u001b[0m: 'Passing list-likes to .loc or [] with any missing labels is no longer supported, see https://pandas.pydata.org/pandas-docs/stable/user_guide/indexing.html#deprecate-loc-reindex-listlike'"
     ]
    }
   ],
   "source": [
    "#Manual method\n",
    "from sklearn.cluster import KMeans\n",
    "\n",
    "k = 50\n",
    "kmeans = KMeans(n_clusters=k)\n",
    "X_digits_dist = kmeans.fit_transform(X_train)\n",
    "representative_digit_idx = np.argmin(X_digits_dist, axis=0)"
   ]
  },
  {
   "cell_type": "code",
   "execution_count": 149,
   "metadata": {},
   "outputs": [],
   "source": [
    "X_representative_digits = X_train.iloc[representative_digit_idx]"
   ]
  },
  {
   "cell_type": "code",
   "execution_count": 151,
   "metadata": {},
   "outputs": [
    {
     "output_type": "execute_result",
     "data": {
      "text/plain": [
       "array([10646, 24572,  1648, 33496, 11605, 18773, 24356,  5853, 10376,\n",
       "       24416, 10605,   530, 32683,  9735, 14238, 20591, 29388,  4873,\n",
       "        2774, 29462,  2365, 15251,  1523, 24472,  8212, 12291, 19931,\n",
       "       22841, 20242,  5039,  8749, 28213, 24228,  9124,   215,  1335,\n",
       "       28429, 10377, 23150, 30848, 30165, 25923, 16884, 19568, 23549,\n",
       "       18942,   117, 22344, 10442, 31446], dtype=int64)"
      ]
     },
     "metadata": {},
     "execution_count": 151
    }
   ],
   "source": [
    "representative_digit_idx"
   ]
  },
  {
   "cell_type": "code",
   "execution_count": 152,
   "metadata": {},
   "outputs": [],
   "source": [
    "def convertImage(dfrow):\n",
    "    image = np.array(X_train.iloc[dfrow], dtype='float').reshape((28,28))\n",
    "    return image"
   ]
  },
  {
   "cell_type": "code",
   "execution_count": 190,
   "metadata": {},
   "outputs": [
    {
     "output_type": "execute_result",
     "data": {
      "text/plain": [
       "50"
      ]
     },
     "metadata": {},
     "execution_count": 190
    }
   ],
   "source": [
    "images = []\n",
    "for digit in representative_digit_idx:\n",
    "    image = convertImage(digit)\n",
    "    images.append(image)\n",
    "len(images)"
   ]
  },
  {
   "cell_type": "code",
   "execution_count": 215,
   "metadata": {},
   "outputs": [
    {
     "output_type": "display_data",
     "data": {
      "text/plain": "<Figure size 432x288 with 50 Axes>",
      "image/svg+xml": "<?xml version=\"1.0\" encoding=\"utf-8\" standalone=\"no\"?>\r\n<!DOCTYPE svg PUBLIC \"-//W3C//DTD SVG 1.1//EN\"\r\n  \"http://www.w3.org/Graphics/SVG/1.1/DTD/svg11.dtd\">\r\n<!-- Created with matplotlib (https://matplotlib.org/) -->\r\n<svg height=\"231.84pt\" version=\"1.1\" viewBox=\"0 0 309.902981 231.84\" width=\"309.902981pt\" xmlns=\"http://www.w3.org/2000/svg\" xmlns:xlink=\"http://www.w3.org/1999/xlink\">\r\n <defs>\r\n  <style type=\"text/css\">\r\n*{stroke-linecap:butt;stroke-linejoin:round;}\r\n  </style>\r\n </defs>\r\n <g id=\"figure_1\">\r\n  <g id=\"patch_1\">\r\n   <path d=\"M 0 231.84 \r\nL 309.902981 231.84 \r\nL 309.902981 0 \r\nL 0 0 \r\nz\r\n\" style=\"fill:#ffffff;\"/>\r\n  </g>\r\n  <g id=\"axes_1\">\r\n   <g clip-path=\"url(#pa251bb971f)\">\r\n    <image height=\"19\" id=\"imagecc6f2383c7\" transform=\"scale(1 -1)translate(0 -19)\" width=\"19\" x=\"7.2\" xlink:href=\"data:image/png;base64,\r\niVBORw0KGgoAAAANSUhEUgAAABMAAAATCAYAAAByUDbMAAAABHNCSVQICAgIfAhkiAAAAgNJREFUOI2tlM9L02Ecx1/P8/1uuuVoWyhuWssUi9VBOhT9IBhYEIEQq7xogZEYHWS3ToMu9Q+YQhAKXVbniNCDCeYlMkll1MmWTcicbt829+u7bwfJDtvXH7HP6eH5PM+L5w2v5yOk6jGoUslqgaoOU80aQojttWEYZb3DjnqO2z3be59SS5VhNaqV+bZ2Dp0skF6C3mULC1oMgCP2eiJuG97+Ywh/B8bKN7TRGa5G3ZVhwYbTNI32Ipv92PUCr9+OUZjSt6Kc8qFev0sxMsL7nklGajKM/4qxWciZxzQSK9DsB8WCeu0eSiBJ8dUw6DrhziEi2iKrmylyxfy/+GZqPPIGCA2oKF29SHcT+tw4HbdfYJEK0cT3ig8whUkhaaxzcdnRztOXt5AuL+8uDXHj9wcy+WxFmKkaJaNEXFtjQvtKfvgZwubgXDDFQavd7MrunsW1NQannOjzk7sd3Zu0G0YefXp6/7BWp4ex+gCtTg9SSIQQtMkDqMGe/cPO24/SPRtmts/HA+9FTriaCV9ZRza0kJgpkCnmTGFlni3rGvrHN1j6QjzpXOTxDx/KhS702AIP1+tIZtOmsDI1FKlwp/Es/lIt/SEblu5B9PgXVgeGafkc3TGmqWcAN71nuJ9Vmai18jw5x8/0xv/DhBAIBCWjtCPkb5n+TdgaPQZ7H8R/AHmtqLKdYkOLAAAAAElFTkSuQmCC\" y=\"-6.627119\"/>\r\n   </g>\r\n  </g>\r\n  <g id=\"axes_2\">\r\n   <g clip-path=\"url(#pd5caacef18)\">\r\n    <image height=\"19\" id=\"image690816054a\" transform=\"scale(1 -1)translate(0 -19)\" width=\"19\" x=\"76.468966\" xlink:href=\"data:image/png;base64,\r\niVBORw0KGgoAAAANSUhEUgAAABMAAAATCAYAAAByUDbMAAAABHNCSVQICAgIfAhkiAAAAUNJREFUOI2t1L1LAgEYx/HvvWhmXOJRHFJqgkiGLVEQQQ2B0KpTbQZBSy1BBE1OBc7OvfwFFURTc+RUQtASDlKJWGF6YHZ59g9Y2Z2/+eHDAw/PTxBlX5seRewV9CvmkGQWtUmiqt8+FhrUON0KcJXwMubR7GGK1I8QDOFc32BlIGoPq3zWMG9uEYcDJE0dhyTbwBrvlM+qAIynI4Q9PutYw2iSqXloPd4jLSTYkcLWMYDjcg7j6BBBGSK5KeN2uqxjRuuL1Qsn7foL4nycOTViHQPI1Qt87KcR/RMcjDRR+tzWsZL+xtqlG7N4h3c7Tlj5+RBdvdO1XqCdzyFNL5GSg/aw5/orJ3tVBEkmtazbwwCyPGFWiogzU8TUztt1jT3oJfTdDIIWYNY12nFG+E+fRVU/MZeP80qehtG0h/2VnpbjN82XWOarfI0yAAAAAElFTkSuQmCC\" y=\"-6.627119\"/>\r\n   </g>\r\n  </g>\r\n  <g id=\"axes_3\">\r\n   <g clip-path=\"url(#p4a2573ada2)\">\r\n    <image height=\"19\" id=\"imaged4d0e9ef6e\" transform=\"scale(1 -1)translate(0 -19)\" width=\"19\" x=\"145.737931\" xlink:href=\"data:image/png;base64,\r\niVBORw0KGgoAAAANSUhEUgAAABMAAAATCAYAAAByUDbMAAAABHNCSVQICAgIfAhkiAAAAbpJREFUOI3NlE9IFFEcxz9vdhp3NjVnDjFqBi1K4UHoZHnRICiCorOIdCyK8JBIEGWo1wQP4VE6LIiInaM/7EXNXLRLIetiZC4ju6aLq8u6M/M6CVFOO8Ee/Bzfg8/7/X7fH08oar2kQiiVElVcpv55UK3pjJiXuaJt8+HAYFEpELMXcD23rEz8PjMhBFNmJzdm+6BUxNtOIzdSFCff8PCjSSw9H7wygeDaEwOhhck/6ufVpyZ0Cd23I4y1/yQ285+VvTU6iIc1xnNLZPZzAERPWYwrUYZO7DCXXaHkOuVl/2KgoYtmR+FuNu47v78COKTVPMugiBKRHpc6baSzwfU5iSc93wd9V2OYc9xcfkbXzC3yawqPE6dJZFeR0r8RX9kLNYPz+iVC01lYt0gc2L6SQ0JCqRk86uL7XoZ3iw69F0q0jg1w5yKYcR1ZXct6YevIdssGcNVqY7o7gnb/Ke5mCvkjiUwl+Tq6xZSqM+9k+Jz7xm5xP1ia540zTKgNJDlJ2JN0tKSpe96DTH1BWI1M3Fviweb74KsRUkIAuJ5LTVWEdqOZrJPHUmtZKdis5ezgsiAc3y+oorJfGj+jzZB1yp0AAAAASUVORK5CYII=\" y=\"-6.627119\"/>\r\n   </g>\r\n  </g>\r\n  <g id=\"axes_4\">\r\n   <g clip-path=\"url(#p883e9719d8)\">\r\n    <image height=\"19\" id=\"image42958f7f31\" transform=\"scale(1 -1)translate(0 -19)\" width=\"19\" x=\"215.006897\" xlink:href=\"data:image/png;base64,\r\niVBORw0KGgoAAAANSUhEUgAAABMAAAATCAYAAAByUDbMAAAABHNCSVQICAgIfAhkiAAAAf5JREFUOI3F0l1I02EUx/Hv8+w/259NGdv8w4YEQUwZRJAg9AKLcAbdKEEUVBdREQneWUQQCwZFQZaC1H3hVRCDsJi9UBFSsCDsRSEysVi5tczYcuz/0kUZTDe3QdDv8lx8zjnPeYRU/Bb/KEq5ohACu1QQQqCbBoZp1ITJ5QVXg8qIN0x2LMbXx5dIda3jZCBMoNFbFRPL19ymhbhzZTvKlp4/7WyYX6YpDF3m0D0H8VSyIrZiTVXa0ceeEO1/DcA+I0/b8SYc0QtcDw0TGWjlWXqqtsmEEDiUBn4WC39r7b71POxdi/3oGUbaYxyee1AWW/FmlmWVQADJzDteDucB6N78sfY1SzoJSVgL0Smb2dhrB2Dyqad+rKM5SGJvE0rPboSvBeHyULxxkRNyvn7smGhhTf8prEIec2qcTDTO/k+S8bnJ+jFN10Ha0G9eY+fgB94szPJ9MVcRgjIHWEpCBWsxh62zm9O6hiJtq0JQ5mssxe/yMBHx4RwYwvz2GfN5gulzbzmYm2cmlyZfLKCbBqZlVscAjgS2MnjrANIfBPF7CSM5SjF+l9n7ChN5N+fN97zKzlTHNKebmHMTTtOiVflB29kgsqMLoTYinG6shQyj4avsyT7CsqzVsZL3EAJXg8ou7wZ26E4iWgohoS+tcjv1ovpk9abiNf879gvzYKoBuXrK+wAAAABJRU5ErkJggg==\" y=\"-6.627119\"/>\r\n   </g>\r\n  </g>\r\n  <g id=\"axes_5\">\r\n   <g clip-path=\"url(#p0eaa082dca)\">\r\n    <image height=\"19\" id=\"imagee7419093f3\" transform=\"scale(1 -1)translate(0 -19)\" width=\"19\" x=\"284.275862\" xlink:href=\"data:image/png;base64,\r\niVBORw0KGgoAAAANSUhEUgAAABMAAAATCAYAAAByUDbMAAAABHNCSVQICAgIfAhkiAAAAc1JREFUOI3FlEFIVFEUhr9z34yvGZlpGAscKWFaRGpRuQhRiMRoFdWqRREtgsAIIchFgbSINoKLIAIhCdoEKhVtQyikWVSLyiAaJKVX0qivsZma95rRd9tF0xsbYaTu9nz345xzL7+oQEKzTketBRIRgkZgfWSHG9tZvNhBa7y5dplGo5LNNNXFapc9z8+ACDdjHhEzXJss8y0Lrkuibydb6htW5Xxb3d2QJGyYPtCbXyRw7BQnzAwDWBVl8vvXUKJYGjiA2n/QBxrJPciGekqP79LWe48PuXkf4xtTYlECLV2ora1ghsDJQ+ErpduDLL95gtq2i5ZwU/UxPe0xPJjj3KHPlG4NcXZUeO3OsaI9Pn63uTQiXLjTw3EvziNReNr7e2fXC1M4V68gic1M5qd5+8Uinf1EoegyXpxFz77jyD6LaIVX9cms3AL9k3FURzfDwTYMZfyqvbJnmLqcJnT+JO0bk9VlAGP2S7zUBJ3dGSJ1obLajaBg7OjkzMqmtcnyPwo8HHIxe0+zPVK+7BeOxXLqAXujNiJSXQYwYiyg597TEyyXZZwlivcnKt5ZNQpSdpqj/cKz7PQfXTtce9pICEHr8vSSf55n/0X2E6w1k+rvQdtrAAAAAElFTkSuQmCC\" y=\"-6.627119\"/>\r\n   </g>\r\n  </g>\r\n  <g id=\"axes_6\">\r\n   <g clip-path=\"url(#p4ee1af5d10)\">\r\n    <image height=\"19\" id=\"imagef7f8756bbd\" transform=\"scale(1 -1)translate(0 -19)\" width=\"19\" x=\"7.2\" xlink:href=\"data:image/png;base64,\r\niVBORw0KGgoAAAANSUhEUgAAABMAAAATCAYAAAByUDbMAAAABHNCSVQICAgIfAhkiAAAAUNJREFUOI2t1L1LAgEYx/HvvWhmXOJRHFJqgkiGLVEQQQ2B0KpTbQZBSy1BBE1OBc7OvfwFFURTc+RUQtASDlKJWGF6YHZ59g9Y2Z2/+eHDAw/PTxBlX5seRewV9CvmkGQWtUmiqt8+FhrUON0KcJXwMubR7GGK1I8QDOFc32BlIGoPq3zWMG9uEYcDJE0dhyTbwBrvlM+qAIynI4Q9PutYw2iSqXloPd4jLSTYkcLWMYDjcg7j6BBBGSK5KeN2uqxjRuuL1Qsn7foL4nycOTViHQPI1Qt87KcR/RMcjDRR+tzWsZL+xtqlG7N4h3c7Tlj5+RBdvdO1XqCdzyFNL5GSg/aw5/orJ3tVBEkmtazbwwCyPGFWiogzU8TUztt1jT3oJfTdDIIWYNY12nFG+E+fRVU/MZeP80qehtG0h/2VnpbjN82XWOarfI0yAAAAAElFTkSuQmCC\" y=\"-28.739661\"/>\r\n   </g>\r\n  </g>\r\n  <g id=\"axes_7\">\r\n   <g clip-path=\"url(#pcff85424ae)\">\r\n    <image height=\"19\" id=\"imagea1d1d017ee\" transform=\"scale(1 -1)translate(0 -19)\" width=\"19\" x=\"76.468966\" xlink:href=\"data:image/png;base64,\r\niVBORw0KGgoAAAANSUhEUgAAABMAAAATCAYAAAByUDbMAAAABHNCSVQICAgIfAhkiAAAAbpJREFUOI3NlE9IFFEcxz9vdhp3NjVnDjFqBi1K4UHoZHnRICiCorOIdCyK8JBIEGWo1wQP4VE6LIiInaM/7EXNXLRLIetiZC4ju6aLq8u6M/M6CVFOO8Ee/Bzfg8/7/X7fH08oar2kQiiVElVcpv55UK3pjJiXuaJt8+HAYFEpELMXcD23rEz8PjMhBFNmJzdm+6BUxNtOIzdSFCff8PCjSSw9H7wygeDaEwOhhck/6ufVpyZ0Cd23I4y1/yQ285+VvTU6iIc1xnNLZPZzAERPWYwrUYZO7DCXXaHkOuVl/2KgoYtmR+FuNu47v78COKTVPMugiBKRHpc6baSzwfU5iSc93wd9V2OYc9xcfkbXzC3yawqPE6dJZFeR0r8RX9kLNYPz+iVC01lYt0gc2L6SQ0JCqRk86uL7XoZ3iw69F0q0jg1w5yKYcR1ZXct6YevIdssGcNVqY7o7gnb/Ke5mCvkjiUwl+Tq6xZSqM+9k+Jz7xm5xP1ia540zTKgNJDlJ2JN0tKSpe96DTH1BWI1M3Fviweb74KsRUkIAuJ5LTVWEdqOZrJPHUmtZKdis5ezgsiAc3y+oorJfGj+jzZB1yp0AAAAASUVORK5CYII=\" y=\"-28.739661\"/>\r\n   </g>\r\n  </g>\r\n  <g id=\"axes_8\">\r\n   <g clip-path=\"url(#pbe0d9be317)\">\r\n    <image height=\"19\" id=\"image9bac015905\" transform=\"scale(1 -1)translate(0 -19)\" width=\"19\" x=\"145.737931\" xlink:href=\"data:image/png;base64,\r\niVBORw0KGgoAAAANSUhEUgAAABMAAAATCAYAAAByUDbMAAAABHNCSVQICAgIfAhkiAAAAf5JREFUOI3F0l1I02EUx/Hv8+w/259NGdv8w4YEQUwZRJAg9AKLcAbdKEEUVBdREQneWUQQCwZFQZaC1H3hVRCDsJi9UBFSsCDsRSEysVi5tczYcuz/0kUZTDe3QdDv8lx8zjnPeYRU/Bb/KEq5ohACu1QQQqCbBoZp1ITJ5QVXg8qIN0x2LMbXx5dIda3jZCBMoNFbFRPL19ymhbhzZTvKlp4/7WyYX6YpDF3m0D0H8VSyIrZiTVXa0ceeEO1/DcA+I0/b8SYc0QtcDw0TGWjlWXqqtsmEEDiUBn4WC39r7b71POxdi/3oGUbaYxyee1AWW/FmlmWVQADJzDteDucB6N78sfY1SzoJSVgL0Smb2dhrB2Dyqad+rKM5SGJvE0rPboSvBeHyULxxkRNyvn7smGhhTf8prEIec2qcTDTO/k+S8bnJ+jFN10Ha0G9eY+fgB94szPJ9MVcRgjIHWEpCBWsxh62zm9O6hiJtq0JQ5mssxe/yMBHx4RwYwvz2GfN5gulzbzmYm2cmlyZfLKCbBqZlVscAjgS2MnjrANIfBPF7CSM5SjF+l9n7ChN5N+fN97zKzlTHNKebmHMTTtOiVflB29kgsqMLoTYinG6shQyj4avsyT7CsqzVsZL3EAJXg8ou7wZ26E4iWgohoS+tcjv1ovpk9abiNf879gvzYKoBuXrK+wAAAABJRU5ErkJggg==\" y=\"-28.739661\"/>\r\n   </g>\r\n  </g>\r\n  <g id=\"axes_9\">\r\n   <g clip-path=\"url(#pf82a89e95b)\">\r\n    <image height=\"19\" id=\"image624fae48cd\" transform=\"scale(1 -1)translate(0 -19)\" width=\"19\" x=\"215.006897\" xlink:href=\"data:image/png;base64,\r\niVBORw0KGgoAAAANSUhEUgAAABMAAAATCAYAAAByUDbMAAAABHNCSVQICAgIfAhkiAAAAc1JREFUOI3FlEFIVFEUhr9z34yvGZlpGAscKWFaRGpRuQhRiMRoFdWqRREtgsAIIchFgbSINoKLIAIhCdoEKhVtQyikWVSLyiAaJKVX0qivsZma95rRd9tF0xsbYaTu9nz345xzL7+oQEKzTketBRIRgkZgfWSHG9tZvNhBa7y5dplGo5LNNNXFapc9z8+ACDdjHhEzXJss8y0Lrkuibydb6htW5Xxb3d2QJGyYPtCbXyRw7BQnzAwDWBVl8vvXUKJYGjiA2n/QBxrJPciGekqP79LWe48PuXkf4xtTYlECLV2ora1ghsDJQ+ErpduDLL95gtq2i5ZwU/UxPe0xPJjj3KHPlG4NcXZUeO3OsaI9Pn63uTQiXLjTw3EvziNReNr7e2fXC1M4V68gic1M5qd5+8Uinf1EoegyXpxFz77jyD6LaIVX9cms3AL9k3FURzfDwTYMZfyqvbJnmLqcJnT+JO0bk9VlAGP2S7zUBJ3dGSJ1obLajaBg7OjkzMqmtcnyPwo8HHIxe0+zPVK+7BeOxXLqAXujNiJSXQYwYiyg597TEyyXZZwlivcnKt5ZNQpSdpqj/cKz7PQfXTtce9pICEHr8vSSf55n/0X2E6w1k+rvQdtrAAAAAElFTkSuQmCC\" y=\"-28.739661\"/>\r\n   </g>\r\n  </g>\r\n  <g id=\"axes_10\">\r\n   <g clip-path=\"url(#p7b588a383c)\">\r\n    <image height=\"19\" id=\"imagee37555ac77\" transform=\"scale(1 -1)translate(0 -19)\" width=\"19\" x=\"284.275862\" xlink:href=\"data:image/png;base64,\r\niVBORw0KGgoAAAANSUhEUgAAABMAAAATCAYAAAByUDbMAAAABHNCSVQICAgIfAhkiAAAAddJREFUOI2t1Ltrk1EYx/HvyXvrxbwxYJo0tLa2RkSCQwWx0mAh2RzFXXH0sgotonUSOihu9U9wEBwcKi6KULwRrPVSUIMphlzUJNU35H3zXpwUq0lMNL/xec75cDjP4QifPOzRo/h6BQHIzYqKJHMktI/dks4ru0zOLJP9WsJyGt1hiiRzaSjB2VMeYiRK7VYedSzExnKYRbuPm8VnmLbVFBO/39l4IMxtPcpp0+TNt4/4hCChx7i+q4J+8hC5xTSpfIGNzdLfsX5FY3TbDt5V8ziu87OuySrHhqZYWoixNrdOsrpKzaq3x9pFCMGd4Awz51Smrr3mbSW3pd/VND3PY1DYIEn4hPij33SaP04RGQyiKwNUGgaGVadPVomnymRu1MlsFjrHJgIRHid11KOHcR6lqb006J/UkPaOMv+gQMOxO8eG1SDamRO4D+9RvG8DGp+yCvN3iywXV5vuaYkZromXe8+TqwbJL2utlm1JywGUzCrOylMOHDc6gtpijudCw0ZOzXI+Ost4IIwqKf+GWa5NecVEjMS4sDTNi4vTfEiMcTC0pyXW9tH6tQEm/RFCsp/LjkZ8YYLMlXX2Z9PdY79Gk1Xi23diew7PP2f+D+skPf0cvwNPIqBgsH9SeAAAAABJRU5ErkJggg==\" y=\"-28.739661\"/>\r\n   </g>\r\n  </g>\r\n  <g id=\"axes_11\">\r\n   <g clip-path=\"url(#p99fa0bf69f)\">\r\n    <image height=\"19\" id=\"imagee0605e3008\" transform=\"scale(1 -1)translate(0 -19)\" width=\"19\" x=\"7.2\" xlink:href=\"data:image/png;base64,\r\niVBORw0KGgoAAAANSUhEUgAAABMAAAATCAYAAAByUDbMAAAABHNCSVQICAgIfAhkiAAAAbpJREFUOI3NlE9IFFEcxz9vdhp3NjVnDjFqBi1K4UHoZHnRICiCorOIdCyK8JBIEGWo1wQP4VE6LIiInaM/7EXNXLRLIetiZC4ju6aLq8u6M/M6CVFOO8Ee/Bzfg8/7/X7fH08oar2kQiiVElVcpv55UK3pjJiXuaJt8+HAYFEpELMXcD23rEz8PjMhBFNmJzdm+6BUxNtOIzdSFCff8PCjSSw9H7wygeDaEwOhhck/6ufVpyZ0Cd23I4y1/yQ285+VvTU6iIc1xnNLZPZzAERPWYwrUYZO7DCXXaHkOuVl/2KgoYtmR+FuNu47v78COKTVPMugiBKRHpc6baSzwfU5iSc93wd9V2OYc9xcfkbXzC3yawqPE6dJZFeR0r8RX9kLNYPz+iVC01lYt0gc2L6SQ0JCqRk86uL7XoZ3iw69F0q0jg1w5yKYcR1ZXct6YevIdssGcNVqY7o7gnb/Ke5mCvkjiUwl+Tq6xZSqM+9k+Jz7xm5xP1ia540zTKgNJDlJ2JN0tKSpe96DTH1BWI1M3Fviweb74KsRUkIAuJ5LTVWEdqOZrJPHUmtZKdis5ezgsiAc3y+oorJfGj+jzZB1yp0AAAAASUVORK5CYII=\" y=\"-50.852203\"/>\r\n   </g>\r\n  </g>\r\n  <g id=\"axes_12\">\r\n   <g clip-path=\"url(#p6aec29aba7)\">\r\n    <image height=\"19\" id=\"image2b44d976b0\" transform=\"scale(1 -1)translate(0 -19)\" width=\"19\" x=\"76.468966\" xlink:href=\"data:image/png;base64,\r\niVBORw0KGgoAAAANSUhEUgAAABMAAAATCAYAAAByUDbMAAAABHNCSVQICAgIfAhkiAAAAf5JREFUOI3F0l1I02EUx/Hv8+w/259NGdv8w4YEQUwZRJAg9AKLcAbdKEEUVBdREQneWUQQCwZFQZaC1H3hVRCDsJi9UBFSsCDsRSEysVi5tczYcuz/0kUZTDe3QdDv8lx8zjnPeYRU/Bb/KEq5ohACu1QQQqCbBoZp1ITJ5QVXg8qIN0x2LMbXx5dIda3jZCBMoNFbFRPL19ymhbhzZTvKlp4/7WyYX6YpDF3m0D0H8VSyIrZiTVXa0ceeEO1/DcA+I0/b8SYc0QtcDw0TGWjlWXqqtsmEEDiUBn4WC39r7b71POxdi/3oGUbaYxyee1AWW/FmlmWVQADJzDteDucB6N78sfY1SzoJSVgL0Smb2dhrB2Dyqad+rKM5SGJvE0rPboSvBeHyULxxkRNyvn7smGhhTf8prEIec2qcTDTO/k+S8bnJ+jFN10Ha0G9eY+fgB94szPJ9MVcRgjIHWEpCBWsxh62zm9O6hiJtq0JQ5mssxe/yMBHx4RwYwvz2GfN5gulzbzmYm2cmlyZfLKCbBqZlVscAjgS2MnjrANIfBPF7CSM5SjF+l9n7ChN5N+fN97zKzlTHNKebmHMTTtOiVflB29kgsqMLoTYinG6shQyj4avsyT7CsqzVsZL3EAJXg8ou7wZ26E4iWgohoS+tcjv1ovpk9abiNf879gvzYKoBuXrK+wAAAABJRU5ErkJggg==\" y=\"-50.852203\"/>\r\n   </g>\r\n  </g>\r\n  <g id=\"axes_13\">\r\n   <g clip-path=\"url(#p9d2b44c3b5)\">\r\n    <image height=\"19\" id=\"imagee73edd12a8\" transform=\"scale(1 -1)translate(0 -19)\" width=\"19\" x=\"145.737931\" xlink:href=\"data:image/png;base64,\r\niVBORw0KGgoAAAANSUhEUgAAABMAAAATCAYAAAByUDbMAAAABHNCSVQICAgIfAhkiAAAAc1JREFUOI3FlEFIVFEUhr9z34yvGZlpGAscKWFaRGpRuQhRiMRoFdWqRREtgsAIIchFgbSINoKLIAIhCdoEKhVtQyikWVSLyiAaJKVX0qivsZma95rRd9tF0xsbYaTu9nz345xzL7+oQEKzTketBRIRgkZgfWSHG9tZvNhBa7y5dplGo5LNNNXFapc9z8+ACDdjHhEzXJss8y0Lrkuibydb6htW5Xxb3d2QJGyYPtCbXyRw7BQnzAwDWBVl8vvXUKJYGjiA2n/QBxrJPciGekqP79LWe48PuXkf4xtTYlECLV2ora1ghsDJQ+ErpduDLL95gtq2i5ZwU/UxPe0xPJjj3KHPlG4NcXZUeO3OsaI9Pn63uTQiXLjTw3EvziNReNr7e2fXC1M4V68gic1M5qd5+8Uinf1EoegyXpxFz77jyD6LaIVX9cms3AL9k3FURzfDwTYMZfyqvbJnmLqcJnT+JO0bk9VlAGP2S7zUBJ3dGSJ1obLajaBg7OjkzMqmtcnyPwo8HHIxe0+zPVK+7BeOxXLqAXujNiJSXQYwYiyg597TEyyXZZwlivcnKt5ZNQpSdpqj/cKz7PQfXTtce9pICEHr8vSSf55n/0X2E6w1k+rvQdtrAAAAAElFTkSuQmCC\" y=\"-50.852203\"/>\r\n   </g>\r\n  </g>\r\n  <g id=\"axes_14\">\r\n   <g clip-path=\"url(#p7c9bbd360f)\">\r\n    <image height=\"19\" id=\"imaged35b3bee59\" transform=\"scale(1 -1)translate(0 -19)\" width=\"19\" x=\"215.006897\" xlink:href=\"data:image/png;base64,\r\niVBORw0KGgoAAAANSUhEUgAAABMAAAATCAYAAAByUDbMAAAABHNCSVQICAgIfAhkiAAAAddJREFUOI2t1Ltrk1EYx/HvyXvrxbwxYJo0tLa2RkSCQwWx0mAh2RzFXXH0sgotonUSOihu9U9wEBwcKi6KULwRrPVSUIMphlzUJNU35H3zXpwUq0lMNL/xec75cDjP4QifPOzRo/h6BQHIzYqKJHMktI/dks4ru0zOLJP9WsJyGt1hiiRzaSjB2VMeYiRK7VYedSzExnKYRbuPm8VnmLbVFBO/39l4IMxtPcpp0+TNt4/4hCChx7i+q4J+8hC5xTSpfIGNzdLfsX5FY3TbDt5V8ziu87OuySrHhqZYWoixNrdOsrpKzaq3x9pFCMGd4Awz51Smrr3mbSW3pd/VND3PY1DYIEn4hPij33SaP04RGQyiKwNUGgaGVadPVomnymRu1MlsFjrHJgIRHid11KOHcR6lqb006J/UkPaOMv+gQMOxO8eG1SDamRO4D+9RvG8DGp+yCvN3iywXV5vuaYkZromXe8+TqwbJL2utlm1JywGUzCrOylMOHDc6gtpijudCw0ZOzXI+Ost4IIwqKf+GWa5NecVEjMS4sDTNi4vTfEiMcTC0pyXW9tH6tQEm/RFCsp/LjkZ8YYLMlXX2Z9PdY79Gk1Xi23diew7PP2f+D+skPf0cvwNPIqBgsH9SeAAAAABJRU5ErkJggg==\" y=\"-50.852203\"/>\r\n   </g>\r\n  </g>\r\n  <g id=\"axes_15\">\r\n   <g clip-path=\"url(#p43c173c416)\">\r\n    <image height=\"19\" id=\"image8dd6d5e8a2\" transform=\"scale(1 -1)translate(0 -19)\" width=\"19\" x=\"284.275862\" xlink:href=\"data:image/png;base64,\r\niVBORw0KGgoAAAANSUhEUgAAABMAAAATCAYAAAByUDbMAAAABHNCSVQICAgIfAhkiAAAAoBJREFUOI2t1EtIVFEYwPH/vXec0dFx0lHzwRAoWkJFKUnRg4iwFISUWvRaRIu0hYnoziLatLC0hmgR2UsT7bUxLBOUoMzJhYkZ2SCSwvh2fIyOM3fuva2sJvER+O3O4Xy/7+M7nCOIujiNdQpxvSAA3b8bFmM4u8ITiRZD6Fxw0jc7jEf2/j8mCiL2TVZib+UhJmzG31jN+BMjN1xRPBrrwCN70bTlpyL8PbOjsTt48eo8knXrnxOKjDo1jNrWSHvZIKXiED2uAWTFvzJWbzlIzqditIlBFipsKLMKhvQEgs4UIoRFgs+DXGdjf0UvXRP9S7CAC7AbNLT5KZSWBjKaZ0hqdbLldjenDl3HsbcYpf8LuhMXeWYJJUwfsgSTBNF0dXHR65+kaE8E0u5MHC9/0ubqw+3z8N3t5MHcJH3vZsg2f8N8IQfjGx/N7sDuAjpzLbjpLupEMMdQnm8kIzoFQRAA8Pp91DrbyaschKkxCkrDMeqDl8c0TaNAHUVpqCLobAlvD0vEhG4ISGgd7eFpfidCcipZlm3LYwBfXQNcKh9BcXwm+PI1PlrjyYhOwaDTA6CoCq+labS5WbIV08qYoio8HrZTc7oFVJWEJhstVbncidyHXgoCIFEMRYiKJ1jVVsYWwdLpdpoO3EUd+oEuPZuT99I5ErMdk8FISfwIYnwyisDqGMCsd57jUx+oyXmO/L4ewZpKlmrmYVgGkfevoDod1EqugBxhtV8jSNKRFplEqRpHZpEe3bFzCOYYfLYyIm7aUTV19c4WQ1b82Md6KfR1o45MQogJua6S3Gp3ALSmzn5XFUR2WhJJ02+kSx6jY9yx5NGvGVtTwfWCAH4BeMH55jigqm4AAAAASUVORK5CYII=\" y=\"-50.852203\"/>\r\n   </g>\r\n  </g>\r\n  <g id=\"axes_16\">\r\n   <g clip-path=\"url(#p292cce9805)\">\r\n    <image height=\"19\" id=\"image43c9e87307\" transform=\"scale(1 -1)translate(0 -19)\" width=\"19\" x=\"7.2\" xlink:href=\"data:image/png;base64,\r\niVBORw0KGgoAAAANSUhEUgAAABMAAAATCAYAAAByUDbMAAAABHNCSVQICAgIfAhkiAAAAf5JREFUOI3F0l1I02EUx/Hv8+w/259NGdv8w4YEQUwZRJAg9AKLcAbdKEEUVBdREQneWUQQCwZFQZaC1H3hVRCDsJi9UBFSsCDsRSEysVi5tczYcuz/0kUZTDe3QdDv8lx8zjnPeYRU/Bb/KEq5ohACu1QQQqCbBoZp1ITJ5QVXg8qIN0x2LMbXx5dIda3jZCBMoNFbFRPL19ymhbhzZTvKlp4/7WyYX6YpDF3m0D0H8VSyIrZiTVXa0ceeEO1/DcA+I0/b8SYc0QtcDw0TGWjlWXqqtsmEEDiUBn4WC39r7b71POxdi/3oGUbaYxyee1AWW/FmlmWVQADJzDteDucB6N78sfY1SzoJSVgL0Smb2dhrB2Dyqad+rKM5SGJvE0rPboSvBeHyULxxkRNyvn7smGhhTf8prEIec2qcTDTO/k+S8bnJ+jFN10Ha0G9eY+fgB94szPJ9MVcRgjIHWEpCBWsxh62zm9O6hiJtq0JQ5mssxe/yMBHx4RwYwvz2GfN5gulzbzmYm2cmlyZfLKCbBqZlVscAjgS2MnjrANIfBPF7CSM5SjF+l9n7ChN5N+fN97zKzlTHNKebmHMTTtOiVflB29kgsqMLoTYinG6shQyj4avsyT7CsqzVsZL3EAJXg8ou7wZ26E4iWgohoS+tcjv1ovpk9abiNf879gvzYKoBuXrK+wAAAABJRU5ErkJggg==\" y=\"-72.964746\"/>\r\n   </g>\r\n  </g>\r\n  <g id=\"axes_17\">\r\n   <g clip-path=\"url(#p17047acb94)\">\r\n    <image height=\"19\" id=\"imagec5bac58b9e\" transform=\"scale(1 -1)translate(0 -19)\" width=\"19\" x=\"76.468966\" xlink:href=\"data:image/png;base64,\r\niVBORw0KGgoAAAANSUhEUgAAABMAAAATCAYAAAByUDbMAAAABHNCSVQICAgIfAhkiAAAAc1JREFUOI3FlEFIVFEUhr9z34yvGZlpGAscKWFaRGpRuQhRiMRoFdWqRREtgsAIIchFgbSINoKLIAIhCdoEKhVtQyikWVSLyiAaJKVX0qivsZma95rRd9tF0xsbYaTu9nz345xzL7+oQEKzTketBRIRgkZgfWSHG9tZvNhBa7y5dplGo5LNNNXFapc9z8+ACDdjHhEzXJss8y0Lrkuibydb6htW5Xxb3d2QJGyYPtCbXyRw7BQnzAwDWBVl8vvXUKJYGjiA2n/QBxrJPciGekqP79LWe48PuXkf4xtTYlECLV2ora1ghsDJQ+ErpduDLL95gtq2i5ZwU/UxPe0xPJjj3KHPlG4NcXZUeO3OsaI9Pn63uTQiXLjTw3EvziNReNr7e2fXC1M4V68gic1M5qd5+8Uinf1EoegyXpxFz77jyD6LaIVX9cms3AL9k3FURzfDwTYMZfyqvbJnmLqcJnT+JO0bk9VlAGP2S7zUBJ3dGSJ1obLajaBg7OjkzMqmtcnyPwo8HHIxe0+zPVK+7BeOxXLqAXujNiJSXQYwYiyg597TEyyXZZwlivcnKt5ZNQpSdpqj/cKz7PQfXTtce9pICEHr8vSSf55n/0X2E6w1k+rvQdtrAAAAAElFTkSuQmCC\" y=\"-72.964746\"/>\r\n   </g>\r\n  </g>\r\n  <g id=\"axes_18\">\r\n   <g clip-path=\"url(#p1b733eb6cf)\">\r\n    <image height=\"19\" id=\"image8eafee7d95\" transform=\"scale(1 -1)translate(0 -19)\" width=\"19\" x=\"145.737931\" xlink:href=\"data:image/png;base64,\r\niVBORw0KGgoAAAANSUhEUgAAABMAAAATCAYAAAByUDbMAAAABHNCSVQICAgIfAhkiAAAAddJREFUOI2t1Ltrk1EYx/HvyXvrxbwxYJo0tLa2RkSCQwWx0mAh2RzFXXH0sgotonUSOihu9U9wEBwcKi6KULwRrPVSUIMphlzUJNU35H3zXpwUq0lMNL/xec75cDjP4QifPOzRo/h6BQHIzYqKJHMktI/dks4ru0zOLJP9WsJyGt1hiiRzaSjB2VMeYiRK7VYedSzExnKYRbuPm8VnmLbVFBO/39l4IMxtPcpp0+TNt4/4hCChx7i+q4J+8hC5xTSpfIGNzdLfsX5FY3TbDt5V8ziu87OuySrHhqZYWoixNrdOsrpKzaq3x9pFCMGd4Awz51Smrr3mbSW3pd/VND3PY1DYIEn4hPij33SaP04RGQyiKwNUGgaGVadPVomnymRu1MlsFjrHJgIRHid11KOHcR6lqb006J/UkPaOMv+gQMOxO8eG1SDamRO4D+9RvG8DGp+yCvN3iywXV5vuaYkZromXe8+TqwbJL2utlm1JywGUzCrOylMOHDc6gtpijudCw0ZOzXI+Ost4IIwqKf+GWa5NecVEjMS4sDTNi4vTfEiMcTC0pyXW9tH6tQEm/RFCsp/LjkZ8YYLMlXX2Z9PdY79Gk1Xi23diew7PP2f+D+skPf0cvwNPIqBgsH9SeAAAAABJRU5ErkJggg==\" y=\"-72.964746\"/>\r\n   </g>\r\n  </g>\r\n  <g id=\"axes_19\">\r\n   <g clip-path=\"url(#p44f0e9f1ba)\">\r\n    <image height=\"19\" id=\"image0d7910401d\" transform=\"scale(1 -1)translate(0 -19)\" width=\"19\" x=\"215.006897\" xlink:href=\"data:image/png;base64,\r\niVBORw0KGgoAAAANSUhEUgAAABMAAAATCAYAAAByUDbMAAAABHNCSVQICAgIfAhkiAAAAoBJREFUOI2t1EtIVFEYwPH/vXec0dFx0lHzwRAoWkJFKUnRg4iwFISUWvRaRIu0hYnoziLatLC0hmgR2UsT7bUxLBOUoMzJhYkZ2SCSwvh2fIyOM3fuva2sJvER+O3O4Xy/7+M7nCOIujiNdQpxvSAA3b8bFmM4u8ITiRZD6Fxw0jc7jEf2/j8mCiL2TVZib+UhJmzG31jN+BMjN1xRPBrrwCN70bTlpyL8PbOjsTt48eo8knXrnxOKjDo1jNrWSHvZIKXiED2uAWTFvzJWbzlIzqditIlBFipsKLMKhvQEgs4UIoRFgs+DXGdjf0UvXRP9S7CAC7AbNLT5KZSWBjKaZ0hqdbLldjenDl3HsbcYpf8LuhMXeWYJJUwfsgSTBNF0dXHR65+kaE8E0u5MHC9/0ubqw+3z8N3t5MHcJH3vZsg2f8N8IQfjGx/N7sDuAjpzLbjpLupEMMdQnm8kIzoFQRAA8Pp91DrbyaschKkxCkrDMeqDl8c0TaNAHUVpqCLobAlvD0vEhG4ISGgd7eFpfidCcipZlm3LYwBfXQNcKh9BcXwm+PI1PlrjyYhOwaDTA6CoCq+labS5WbIV08qYoio8HrZTc7oFVJWEJhstVbncidyHXgoCIFEMRYiKJ1jVVsYWwdLpdpoO3EUd+oEuPZuT99I5ErMdk8FISfwIYnwyisDqGMCsd57jUx+oyXmO/L4ewZpKlmrmYVgGkfevoDod1EqugBxhtV8jSNKRFplEqRpHZpEe3bFzCOYYfLYyIm7aUTV19c4WQ1b82Md6KfR1o45MQogJua6S3Gp3ALSmzn5XFUR2WhJJ02+kSx6jY9yx5NGvGVtTwfWCAH4BeMH55jigqm4AAAAASUVORK5CYII=\" y=\"-72.964746\"/>\r\n   </g>\r\n  </g>\r\n  <g id=\"axes_20\">\r\n   <g clip-path=\"url(#p9b1af40780)\">\r\n    <image height=\"19\" id=\"image0eedc327cb\" transform=\"scale(1 -1)translate(0 -19)\" width=\"19\" x=\"284.275862\" xlink:href=\"data:image/png;base64,\r\niVBORw0KGgoAAAANSUhEUgAAABMAAAATCAYAAAByUDbMAAAABHNCSVQICAgIfAhkiAAAAR1JREFUOI3F1L1Kw2AUxvF/3tY2qRUT/AitFKQUQRwVJ0Gl4BX0Ahw7ursIXkYXJydvo/ixqSBaxE5KQhWbqFQTk9crSN/SBjzzw49nOOdoIluSpDQiLeh/MKEJhKaOKhNH5V2et6vc1dY4LO9QyOnjYcuzNgeNT+o3AXuuS0PzKRWsxHx2GGbnTPy2z0zGYD9fo0VI13PHawbw+yNoUuZWG9ByzollPF6zt/CD194Szfc2QRQi5fCVHNrssf+CoYdMT+WVkBIDuP6yqFurSmgk7DTbZ10W08Eevh0qocTU1aAS63ouF/mIDbM6ORbLmMvAYUvMTY4BXPU6ZCRsLqxMjgGcDO45jhaxi8nnNDL25Dmc6ZKKMZ+Y0dL8tH90N1UfAiTgdAAAAABJRU5ErkJggg==\" y=\"-72.964746\"/>\r\n   </g>\r\n  </g>\r\n  <g id=\"axes_21\">\r\n   <g clip-path=\"url(#pf981e5a2ed)\">\r\n    <image height=\"19\" id=\"imagebd518242f7\" transform=\"scale(1 -1)translate(0 -19)\" width=\"19\" x=\"7.2\" xlink:href=\"data:image/png;base64,\r\niVBORw0KGgoAAAANSUhEUgAAABMAAAATCAYAAAByUDbMAAAABHNCSVQICAgIfAhkiAAAAc1JREFUOI3FlEFIVFEUhr9z34yvGZlpGAscKWFaRGpRuQhRiMRoFdWqRREtgsAIIchFgbSINoKLIAIhCdoEKhVtQyikWVSLyiAaJKVX0qivsZma95rRd9tF0xsbYaTu9nz345xzL7+oQEKzTketBRIRgkZgfWSHG9tZvNhBa7y5dplGo5LNNNXFapc9z8+ACDdjHhEzXJss8y0Lrkuibydb6htW5Xxb3d2QJGyYPtCbXyRw7BQnzAwDWBVl8vvXUKJYGjiA2n/QBxrJPciGekqP79LWe48PuXkf4xtTYlECLV2ora1ghsDJQ+ErpduDLL95gtq2i5ZwU/UxPe0xPJjj3KHPlG4NcXZUeO3OsaI9Pn63uTQiXLjTw3EvziNReNr7e2fXC1M4V68gic1M5qd5+8Uinf1EoegyXpxFz77jyD6LaIVX9cms3AL9k3FURzfDwTYMZfyqvbJnmLqcJnT+JO0bk9VlAGP2S7zUBJ3dGSJ1obLajaBg7OjkzMqmtcnyPwo8HHIxe0+zPVK+7BeOxXLqAXujNiJSXQYwYiyg597TEyyXZZwlivcnKt5ZNQpSdpqj/cKz7PQfXTtce9pICEHr8vSSf55n/0X2E6w1k+rvQdtrAAAAAElFTkSuQmCC\" y=\"-95.077288\"/>\r\n   </g>\r\n  </g>\r\n  <g id=\"axes_22\">\r\n   <g clip-path=\"url(#p60d859d4ae)\">\r\n    <image height=\"19\" id=\"image7e82610c4b\" transform=\"scale(1 -1)translate(0 -19)\" width=\"19\" x=\"76.468966\" xlink:href=\"data:image/png;base64,\r\niVBORw0KGgoAAAANSUhEUgAAABMAAAATCAYAAAByUDbMAAAABHNCSVQICAgIfAhkiAAAAddJREFUOI2t1Ltrk1EYx/HvyXvrxbwxYJo0tLa2RkSCQwWx0mAh2RzFXXH0sgotonUSOihu9U9wEBwcKi6KULwRrPVSUIMphlzUJNU35H3zXpwUq0lMNL/xec75cDjP4QifPOzRo/h6BQHIzYqKJHMktI/dks4ru0zOLJP9WsJyGt1hiiRzaSjB2VMeYiRK7VYedSzExnKYRbuPm8VnmLbVFBO/39l4IMxtPcpp0+TNt4/4hCChx7i+q4J+8hC5xTSpfIGNzdLfsX5FY3TbDt5V8ziu87OuySrHhqZYWoixNrdOsrpKzaq3x9pFCMGd4Awz51Smrr3mbSW3pd/VND3PY1DYIEn4hPij33SaP04RGQyiKwNUGgaGVadPVomnymRu1MlsFjrHJgIRHid11KOHcR6lqb006J/UkPaOMv+gQMOxO8eG1SDamRO4D+9RvG8DGp+yCvN3iywXV5vuaYkZromXe8+TqwbJL2utlm1JywGUzCrOylMOHDc6gtpijudCw0ZOzXI+Ost4IIwqKf+GWa5NecVEjMS4sDTNi4vTfEiMcTC0pyXW9tH6tQEm/RFCsp/LjkZ8YYLMlXX2Z9PdY79Gk1Xi23diew7PP2f+D+skPf0cvwNPIqBgsH9SeAAAAABJRU5ErkJggg==\" y=\"-95.077288\"/>\r\n   </g>\r\n  </g>\r\n  <g id=\"axes_23\">\r\n   <g clip-path=\"url(#p253314e783)\">\r\n    <image height=\"19\" id=\"image3240aed46e\" transform=\"scale(1 -1)translate(0 -19)\" width=\"19\" x=\"145.737931\" xlink:href=\"data:image/png;base64,\r\niVBORw0KGgoAAAANSUhEUgAAABMAAAATCAYAAAByUDbMAAAABHNCSVQICAgIfAhkiAAAAoBJREFUOI2t1EtIVFEYwPH/vXec0dFx0lHzwRAoWkJFKUnRg4iwFISUWvRaRIu0hYnoziLatLC0hmgR2UsT7bUxLBOUoMzJhYkZ2SCSwvh2fIyOM3fuva2sJvER+O3O4Xy/7+M7nCOIujiNdQpxvSAA3b8bFmM4u8ITiRZD6Fxw0jc7jEf2/j8mCiL2TVZib+UhJmzG31jN+BMjN1xRPBrrwCN70bTlpyL8PbOjsTt48eo8knXrnxOKjDo1jNrWSHvZIKXiED2uAWTFvzJWbzlIzqditIlBFipsKLMKhvQEgs4UIoRFgs+DXGdjf0UvXRP9S7CAC7AbNLT5KZSWBjKaZ0hqdbLldjenDl3HsbcYpf8LuhMXeWYJJUwfsgSTBNF0dXHR65+kaE8E0u5MHC9/0ubqw+3z8N3t5MHcJH3vZsg2f8N8IQfjGx/N7sDuAjpzLbjpLupEMMdQnm8kIzoFQRAA8Pp91DrbyaschKkxCkrDMeqDl8c0TaNAHUVpqCLobAlvD0vEhG4ISGgd7eFpfidCcipZlm3LYwBfXQNcKh9BcXwm+PI1PlrjyYhOwaDTA6CoCq+labS5WbIV08qYoio8HrZTc7oFVJWEJhstVbncidyHXgoCIFEMRYiKJ1jVVsYWwdLpdpoO3EUd+oEuPZuT99I5ErMdk8FISfwIYnwyisDqGMCsd57jUx+oyXmO/L4ewZpKlmrmYVgGkfevoDod1EqugBxhtV8jSNKRFplEqRpHZpEe3bFzCOYYfLYyIm7aUTV19c4WQ1b82Md6KfR1o45MQogJua6S3Gp3ALSmzn5XFUR2WhJJ02+kSx6jY9yx5NGvGVtTwfWCAH4BeMH55jigqm4AAAAASUVORK5CYII=\" y=\"-95.077288\"/>\r\n   </g>\r\n  </g>\r\n  <g id=\"axes_24\">\r\n   <g clip-path=\"url(#pcccc7aaf22)\">\r\n    <image height=\"19\" id=\"image7b3140230d\" transform=\"scale(1 -1)translate(0 -19)\" width=\"19\" x=\"215.006897\" xlink:href=\"data:image/png;base64,\r\niVBORw0KGgoAAAANSUhEUgAAABMAAAATCAYAAAByUDbMAAAABHNCSVQICAgIfAhkiAAAAR1JREFUOI3F1L1Kw2AUxvF/3tY2qRUT/AitFKQUQRwVJ0Gl4BX0Ahw7ursIXkYXJydvo/ixqSBaxE5KQhWbqFQTk9crSN/SBjzzw49nOOdoIluSpDQiLeh/MKEJhKaOKhNH5V2et6vc1dY4LO9QyOnjYcuzNgeNT+o3AXuuS0PzKRWsxHx2GGbnTPy2z0zGYD9fo0VI13PHawbw+yNoUuZWG9ByzollPF6zt/CD194Szfc2QRQi5fCVHNrssf+CoYdMT+WVkBIDuP6yqFurSmgk7DTbZ10W08Eevh0qocTU1aAS63ouF/mIDbM6ORbLmMvAYUvMTY4BXPU6ZCRsLqxMjgGcDO45jhaxi8nnNDL25Dmc6ZKKMZ+Y0dL8tH90N1UfAiTgdAAAAABJRU5ErkJggg==\" y=\"-95.077288\"/>\r\n   </g>\r\n  </g>\r\n  <g id=\"axes_25\">\r\n   <g clip-path=\"url(#pe15d40edb9)\">\r\n    <image height=\"19\" id=\"image74aaedcf86\" transform=\"scale(1 -1)translate(0 -19)\" width=\"19\" x=\"284.275862\" xlink:href=\"data:image/png;base64,\r\niVBORw0KGgoAAAANSUhEUgAAABMAAAATCAYAAAByUDbMAAAABHNCSVQICAgIfAhkiAAAApBJREFUOI29lEloU1EUhr/38pJHEmM6xRA0bqpobYs4RLFdCeKAE6I40I1FECwoUkRQF+rKgaJScWFxRhFBRFTEhQtBrQOiLYJaa4vQVtNajW3SpC/Je8eFNg6JQUT8V5fLOd895z+cq6haQPhHUv8VKC/MptrwjyrEo7v+GKb9ehEc7aPeVUlF0mDGoggDz4XHPX4SqsI5tZ+7/S9JmemcMOVHz4KjfTyZ5cXTuA8cThSHEywTSQ6DWFg9r4gfPMGGVi83e1swLTM3rMTlpXl8kHE39kMiSurkYd5csr4+MvUzzvUL0apXIsYQ6YuNrD7Wx61wyy+maQFRtYDMGztf4tcaxHj/StomLZBAwRTR9aDoelC87lIp84Xkvn+FxG8cEuPdC4kdqJVVwWUykq9qAckMoC81iHS2A+ApGSaaTJAy06TMNFEjTlukm/mDz9ha14zZeht7TT0NxTF0zfG9sJFDRzTMx/OvIW1QeHQbC4srswxOpAzO9j7ieu0DrM9hfNurCRVNyIYlUgZn+gLI0ABqYCKn1yjM9E3MAqbMNKe0CNLZija3hgp7UTYMoKH/IeG1e5DYJ+ybdnJzhlBWFMRu03Da9UxcgaqD7kTiAwyLlRsWSyaofttL1/LdYJl4mo7zqK6UK94q7pVUMsZdwLSSUpoWG9gmV5E8spc7Qx2ZfCXXbvpHFdK+bTraus0ouguJRcCmYd67Cm4P2uwlSDrJ46qDzP30ABH5PQxgjLuAC3o5cy4vxTYhBMq3JsRChoeI1tVT3vyB/vhA/spG5LDZ2eKvYkd1mA8tDsbuCkEsxtPdXWy0umiLdP8UnxeWMVZREQQF5WtxSKa1H5W16LlkfZuYkP/d//Of/Y2+ANsRCUNP1vh9AAAAAElFTkSuQmCC\" y=\"-95.077288\"/>\r\n   </g>\r\n  </g>\r\n  <g id=\"axes_26\">\r\n   <g clip-path=\"url(#pb656047f20)\">\r\n    <image height=\"19\" id=\"image8be328ed72\" transform=\"scale(1 -1)translate(0 -19)\" width=\"19\" x=\"7.2\" xlink:href=\"data:image/png;base64,\r\niVBORw0KGgoAAAANSUhEUgAAABMAAAATCAYAAAByUDbMAAAABHNCSVQICAgIfAhkiAAAAddJREFUOI2t1Ltrk1EYx/HvyXvrxbwxYJo0tLa2RkSCQwWx0mAh2RzFXXH0sgotonUSOihu9U9wEBwcKi6KULwRrPVSUIMphlzUJNU35H3zXpwUq0lMNL/xec75cDjP4QifPOzRo/h6BQHIzYqKJHMktI/dks4ru0zOLJP9WsJyGt1hiiRzaSjB2VMeYiRK7VYedSzExnKYRbuPm8VnmLbVFBO/39l4IMxtPcpp0+TNt4/4hCChx7i+q4J+8hC5xTSpfIGNzdLfsX5FY3TbDt5V8ziu87OuySrHhqZYWoixNrdOsrpKzaq3x9pFCMGd4Awz51Smrr3mbSW3pd/VND3PY1DYIEn4hPij33SaP04RGQyiKwNUGgaGVadPVomnymRu1MlsFjrHJgIRHid11KOHcR6lqb006J/UkPaOMv+gQMOxO8eG1SDamRO4D+9RvG8DGp+yCvN3iywXV5vuaYkZromXe8+TqwbJL2utlm1JywGUzCrOylMOHDc6gtpijudCw0ZOzXI+Ost4IIwqKf+GWa5NecVEjMS4sDTNi4vTfEiMcTC0pyXW9tH6tQEm/RFCsp/LjkZ8YYLMlXX2Z9PdY79Gk1Xi23diew7PP2f+D+skPf0cvwNPIqBgsH9SeAAAAABJRU5ErkJggg==\" y=\"-117.189831\"/>\r\n   </g>\r\n  </g>\r\n  <g id=\"axes_27\">\r\n   <g clip-path=\"url(#p91d62a4b3b)\">\r\n    <image height=\"19\" id=\"image699357c69e\" transform=\"scale(1 -1)translate(0 -19)\" width=\"19\" x=\"76.468966\" xlink:href=\"data:image/png;base64,\r\niVBORw0KGgoAAAANSUhEUgAAABMAAAATCAYAAAByUDbMAAAABHNCSVQICAgIfAhkiAAAAoBJREFUOI2t1EtIVFEYwPH/vXec0dFx0lHzwRAoWkJFKUnRg4iwFISUWvRaRIu0hYnoziLatLC0hmgR2UsT7bUxLBOUoMzJhYkZ2SCSwvh2fIyOM3fuva2sJvER+O3O4Xy/7+M7nCOIujiNdQpxvSAA3b8bFmM4u8ITiRZD6Fxw0jc7jEf2/j8mCiL2TVZib+UhJmzG31jN+BMjN1xRPBrrwCN70bTlpyL8PbOjsTt48eo8knXrnxOKjDo1jNrWSHvZIKXiED2uAWTFvzJWbzlIzqditIlBFipsKLMKhvQEgs4UIoRFgs+DXGdjf0UvXRP9S7CAC7AbNLT5KZSWBjKaZ0hqdbLldjenDl3HsbcYpf8LuhMXeWYJJUwfsgSTBNF0dXHR65+kaE8E0u5MHC9/0ubqw+3z8N3t5MHcJH3vZsg2f8N8IQfjGx/N7sDuAjpzLbjpLupEMMdQnm8kIzoFQRAA8Pp91DrbyaschKkxCkrDMeqDl8c0TaNAHUVpqCLobAlvD0vEhG4ISGgd7eFpfidCcipZlm3LYwBfXQNcKh9BcXwm+PI1PlrjyYhOwaDTA6CoCq+labS5WbIV08qYoio8HrZTc7oFVJWEJhstVbncidyHXgoCIFEMRYiKJ1jVVsYWwdLpdpoO3EUd+oEuPZuT99I5ErMdk8FISfwIYnwyisDqGMCsd57jUx+oyXmO/L4ewZpKlmrmYVgGkfevoDod1EqugBxhtV8jSNKRFplEqRpHZpEe3bFzCOYYfLYyIm7aUTV19c4WQ1b82Md6KfR1o45MQogJua6S3Gp3ALSmzn5XFUR2WhJJ02+kSx6jY9yx5NGvGVtTwfWCAH4BeMH55jigqm4AAAAASUVORK5CYII=\" y=\"-117.189831\"/>\r\n   </g>\r\n  </g>\r\n  <g id=\"axes_28\">\r\n   <g clip-path=\"url(#pdbdf41eec0)\">\r\n    <image height=\"19\" id=\"imagec84e04b634\" transform=\"scale(1 -1)translate(0 -19)\" width=\"19\" x=\"145.737931\" xlink:href=\"data:image/png;base64,\r\niVBORw0KGgoAAAANSUhEUgAAABMAAAATCAYAAAByUDbMAAAABHNCSVQICAgIfAhkiAAAAR1JREFUOI3F1L1Kw2AUxvF/3tY2qRUT/AitFKQUQRwVJ0Gl4BX0Ahw7ursIXkYXJydvo/ixqSBaxE5KQhWbqFQTk9crSN/SBjzzw49nOOdoIluSpDQiLeh/MKEJhKaOKhNH5V2et6vc1dY4LO9QyOnjYcuzNgeNT+o3AXuuS0PzKRWsxHx2GGbnTPy2z0zGYD9fo0VI13PHawbw+yNoUuZWG9ByzollPF6zt/CD194Szfc2QRQi5fCVHNrssf+CoYdMT+WVkBIDuP6yqFurSmgk7DTbZ10W08Eevh0qocTU1aAS63ouF/mIDbM6ORbLmMvAYUvMTY4BXPU6ZCRsLqxMjgGcDO45jhaxi8nnNDL25Dmc6ZKKMZ+Y0dL8tH90N1UfAiTgdAAAAABJRU5ErkJggg==\" y=\"-117.189831\"/>\r\n   </g>\r\n  </g>\r\n  <g id=\"axes_29\">\r\n   <g clip-path=\"url(#p592d48659c)\">\r\n    <image height=\"19\" id=\"imagec15290980c\" transform=\"scale(1 -1)translate(0 -19)\" width=\"19\" x=\"215.006897\" xlink:href=\"data:image/png;base64,\r\niVBORw0KGgoAAAANSUhEUgAAABMAAAATCAYAAAByUDbMAAAABHNCSVQICAgIfAhkiAAAApBJREFUOI29lEloU1EUhr/38pJHEmM6xRA0bqpobYs4RLFdCeKAE6I40I1FECwoUkRQF+rKgaJScWFxRhFBRFTEhQtBrQOiLYJaa4vQVtNajW3SpC/Je8eFNg6JQUT8V5fLOd895z+cq6haQPhHUv8VKC/MptrwjyrEo7v+GKb9ehEc7aPeVUlF0mDGoggDz4XHPX4SqsI5tZ+7/S9JmemcMOVHz4KjfTyZ5cXTuA8cThSHEywTSQ6DWFg9r4gfPMGGVi83e1swLTM3rMTlpXl8kHE39kMiSurkYd5csr4+MvUzzvUL0apXIsYQ6YuNrD7Wx61wyy+maQFRtYDMGztf4tcaxHj/StomLZBAwRTR9aDoelC87lIp84Xkvn+FxG8cEuPdC4kdqJVVwWUykq9qAckMoC81iHS2A+ApGSaaTJAy06TMNFEjTlukm/mDz9ha14zZeht7TT0NxTF0zfG9sJFDRzTMx/OvIW1QeHQbC4srswxOpAzO9j7ieu0DrM9hfNurCRVNyIYlUgZn+gLI0ABqYCKn1yjM9E3MAqbMNKe0CNLZija3hgp7UTYMoKH/IeG1e5DYJ+ybdnJzhlBWFMRu03Da9UxcgaqD7kTiAwyLlRsWSyaofttL1/LdYJl4mo7zqK6UK94q7pVUMsZdwLSSUpoWG9gmV5E8spc7Qx2ZfCXXbvpHFdK+bTraus0ouguJRcCmYd67Cm4P2uwlSDrJ46qDzP30ABH5PQxgjLuAC3o5cy4vxTYhBMq3JsRChoeI1tVT3vyB/vhA/spG5LDZ2eKvYkd1mA8tDsbuCkEsxtPdXWy0umiLdP8UnxeWMVZREQQF5WtxSKa1H5W16LlkfZuYkP/d//Of/Y2+ANsRCUNP1vh9AAAAAElFTkSuQmCC\" y=\"-117.189831\"/>\r\n   </g>\r\n  </g>\r\n  <g id=\"axes_30\">\r\n   <g clip-path=\"url(#pb37d0aa360)\">\r\n    <image height=\"19\" id=\"imagec9847b19cd\" transform=\"scale(1 -1)translate(0 -19)\" width=\"19\" x=\"284.275862\" xlink:href=\"data:image/png;base64,\r\niVBORw0KGgoAAAANSUhEUgAAABMAAAATCAYAAAByUDbMAAAABHNCSVQICAgIfAhkiAAAAhxJREFUOI2tlEtIVGEYhp9zcXScM5e8zNEio4wQq0Fc1KaSkLBFi0rIaCHULGaRi1q0sqJ2BYFQLZKiFl2goBYSFS0MzdnUIrVFTSiWWM7FQafRcWaO499qIjxnTGHe3f9dHj54v++XZLVWUCTJxQJZwhRZoUXfxcmNe9G1Daac1+FBkRVLmCLJziv/Bmq1Ct4fc3O8p4tAbAQ97kPVPHRpjVyvcNF9xIkSaWAw+d0EU1cGhBAsz2eRq7dgv3SVQOdnAqXlUGqHzCLiyydm3k5bTmaChRdm8Q9u43F4nOWhV1y7McemnExGgpCSJZieIjT30xImWbkpSRL3qg/S8fQwoyeeczQVIpZKIMTqxlu6KYTgQvIjwfY+fM/aGaipo7myflVQwcny8pRpvHY24nt5mlx/H/5bcfqiw2SWsuuHAVSWu7hf1kRrbzM4XNw9M8T5cL9lrWk1VmrRyPAi+4v5IZVW/wGaW2wE3/3mx0LUVLumC8jmDHpjH5ju7EHesYfLhtuyriBMs9nRbPa/71Q2zZ1EFSIRpelQHK/DY+ox7VleQb2Bqs3znJ1w8y0TZSIZYWR5DhGbxIgtkckZa4c9ybm5eG4/jxQVMRNhpHuc+oYZpLqdjI0OkEiPmXoKulmiqLR5fdzWU1Sc2o68rw3ZU4Px8CYdD5K8CQ+vHZaXvaSUrU6d3WW1OFEJpif5OjtleQ3/ha1HRf0c/wBdZbk+jWMaPQAAAABJRU5ErkJggg==\" y=\"-117.189831\"/>\r\n   </g>\r\n  </g>\r\n  <g id=\"axes_31\">\r\n   <g clip-path=\"url(#p14b6658206)\">\r\n    <image height=\"19\" id=\"imagec6fcdeef1a\" transform=\"scale(1 -1)translate(0 -19)\" width=\"19\" x=\"7.2\" xlink:href=\"data:image/png;base64,\r\niVBORw0KGgoAAAANSUhEUgAAABMAAAATCAYAAAByUDbMAAAABHNCSVQICAgIfAhkiAAAAoBJREFUOI2t1EtIVFEYwPH/vXec0dFx0lHzwRAoWkJFKUnRg4iwFISUWvRaRIu0hYnoziLatLC0hmgR2UsT7bUxLBOUoMzJhYkZ2SCSwvh2fIyOM3fuva2sJvER+O3O4Xy/7+M7nCOIujiNdQpxvSAA3b8bFmM4u8ITiRZD6Fxw0jc7jEf2/j8mCiL2TVZib+UhJmzG31jN+BMjN1xRPBrrwCN70bTlpyL8PbOjsTt48eo8knXrnxOKjDo1jNrWSHvZIKXiED2uAWTFvzJWbzlIzqditIlBFipsKLMKhvQEgs4UIoRFgs+DXGdjf0UvXRP9S7CAC7AbNLT5KZSWBjKaZ0hqdbLldjenDl3HsbcYpf8LuhMXeWYJJUwfsgSTBNF0dXHR65+kaE8E0u5MHC9/0ubqw+3z8N3t5MHcJH3vZsg2f8N8IQfjGx/N7sDuAjpzLbjpLupEMMdQnm8kIzoFQRAA8Pp91DrbyaschKkxCkrDMeqDl8c0TaNAHUVpqCLobAlvD0vEhG4ISGgd7eFpfidCcipZlm3LYwBfXQNcKh9BcXwm+PI1PlrjyYhOwaDTA6CoCq+labS5WbIV08qYoio8HrZTc7oFVJWEJhstVbncidyHXgoCIFEMRYiKJ1jVVsYWwdLpdpoO3EUd+oEuPZuT99I5ErMdk8FISfwIYnwyisDqGMCsd57jUx+oyXmO/L4ewZpKlmrmYVgGkfevoDod1EqugBxhtV8jSNKRFplEqRpHZpEe3bFzCOYYfLYyIm7aUTV19c4WQ1b82Md6KfR1o45MQogJua6S3Gp3ALSmzn5XFUR2WhJJ02+kSx6jY9yx5NGvGVtTwfWCAH4BeMH55jigqm4AAAAASUVORK5CYII=\" y=\"-139.302373\"/>\r\n   </g>\r\n  </g>\r\n  <g id=\"axes_32\">\r\n   <g clip-path=\"url(#p6a64dbbbf4)\">\r\n    <image height=\"19\" id=\"image5c94f836ed\" transform=\"scale(1 -1)translate(0 -19)\" width=\"19\" x=\"76.468966\" xlink:href=\"data:image/png;base64,\r\niVBORw0KGgoAAAANSUhEUgAAABMAAAATCAYAAAByUDbMAAAABHNCSVQICAgIfAhkiAAAAR1JREFUOI3F1L1Kw2AUxvF/3tY2qRUT/AitFKQUQRwVJ0Gl4BX0Ahw7ursIXkYXJydvo/ixqSBaxE5KQhWbqFQTk9crSN/SBjzzw49nOOdoIluSpDQiLeh/MKEJhKaOKhNH5V2et6vc1dY4LO9QyOnjYcuzNgeNT+o3AXuuS0PzKRWsxHx2GGbnTPy2z0zGYD9fo0VI13PHawbw+yNoUuZWG9ByzollPF6zt/CD194Szfc2QRQi5fCVHNrssf+CoYdMT+WVkBIDuP6yqFurSmgk7DTbZ10W08Eevh0qocTU1aAS63ouF/mIDbM6ORbLmMvAYUvMTY4BXPU6ZCRsLqxMjgGcDO45jhaxi8nnNDL25Dmc6ZKKMZ+Y0dL8tH90N1UfAiTgdAAAAABJRU5ErkJggg==\" y=\"-139.302373\"/>\r\n   </g>\r\n  </g>\r\n  <g id=\"axes_33\">\r\n   <g clip-path=\"url(#pb8a1b8364e)\">\r\n    <image height=\"19\" id=\"image0d017371a3\" transform=\"scale(1 -1)translate(0 -19)\" width=\"19\" x=\"145.737931\" xlink:href=\"data:image/png;base64,\r\niVBORw0KGgoAAAANSUhEUgAAABMAAAATCAYAAAByUDbMAAAABHNCSVQICAgIfAhkiAAAApBJREFUOI29lEloU1EUhr/38pJHEmM6xRA0bqpobYs4RLFdCeKAE6I40I1FECwoUkRQF+rKgaJScWFxRhFBRFTEhQtBrQOiLYJaa4vQVtNajW3SpC/Je8eFNg6JQUT8V5fLOd895z+cq6haQPhHUv8VKC/MptrwjyrEo7v+GKb9ehEc7aPeVUlF0mDGoggDz4XHPX4SqsI5tZ+7/S9JmemcMOVHz4KjfTyZ5cXTuA8cThSHEywTSQ6DWFg9r4gfPMGGVi83e1swLTM3rMTlpXl8kHE39kMiSurkYd5csr4+MvUzzvUL0apXIsYQ6YuNrD7Wx61wyy+maQFRtYDMGztf4tcaxHj/StomLZBAwRTR9aDoelC87lIp84Xkvn+FxG8cEuPdC4kdqJVVwWUykq9qAckMoC81iHS2A+ApGSaaTJAy06TMNFEjTlukm/mDz9ha14zZeht7TT0NxTF0zfG9sJFDRzTMx/OvIW1QeHQbC4srswxOpAzO9j7ieu0DrM9hfNurCRVNyIYlUgZn+gLI0ABqYCKn1yjM9E3MAqbMNKe0CNLZija3hgp7UTYMoKH/IeG1e5DYJ+ybdnJzhlBWFMRu03Da9UxcgaqD7kTiAwyLlRsWSyaofttL1/LdYJl4mo7zqK6UK94q7pVUMsZdwLSSUpoWG9gmV5E8spc7Qx2ZfCXXbvpHFdK+bTraus0ouguJRcCmYd67Cm4P2uwlSDrJ46qDzP30ABH5PQxgjLuAC3o5cy4vxTYhBMq3JsRChoeI1tVT3vyB/vhA/spG5LDZ2eKvYkd1mA8tDsbuCkEsxtPdXWy0umiLdP8UnxeWMVZREQQF5WtxSKa1H5W16LlkfZuYkP/d//Of/Y2+ANsRCUNP1vh9AAAAAElFTkSuQmCC\" y=\"-139.302373\"/>\r\n   </g>\r\n  </g>\r\n  <g id=\"axes_34\">\r\n   <g clip-path=\"url(#p35c8af01de)\">\r\n    <image height=\"19\" id=\"imageb972cad343\" transform=\"scale(1 -1)translate(0 -19)\" width=\"19\" x=\"215.006897\" xlink:href=\"data:image/png;base64,\r\niVBORw0KGgoAAAANSUhEUgAAABMAAAATCAYAAAByUDbMAAAABHNCSVQICAgIfAhkiAAAAhxJREFUOI2tlEtIVGEYhp9zcXScM5e8zNEio4wQq0Fc1KaSkLBFi0rIaCHULGaRi1q0sqJ2BYFQLZKiFl2goBYSFS0MzdnUIrVFTSiWWM7FQafRcWaO499qIjxnTGHe3f9dHj54v++XZLVWUCTJxQJZwhRZoUXfxcmNe9G1Daac1+FBkRVLmCLJziv/Bmq1Ct4fc3O8p4tAbAQ97kPVPHRpjVyvcNF9xIkSaWAw+d0EU1cGhBAsz2eRq7dgv3SVQOdnAqXlUGqHzCLiyydm3k5bTmaChRdm8Q9u43F4nOWhV1y7McemnExGgpCSJZieIjT30xImWbkpSRL3qg/S8fQwoyeeczQVIpZKIMTqxlu6KYTgQvIjwfY+fM/aGaipo7myflVQwcny8pRpvHY24nt5mlx/H/5bcfqiw2SWsuuHAVSWu7hf1kRrbzM4XNw9M8T5cL9lrWk1VmrRyPAi+4v5IZVW/wGaW2wE3/3mx0LUVLumC8jmDHpjH5ju7EHesYfLhtuyriBMs9nRbPa/71Q2zZ1EFSIRpelQHK/DY+ox7VleQb2Bqs3znJ1w8y0TZSIZYWR5DhGbxIgtkckZa4c9ybm5eG4/jxQVMRNhpHuc+oYZpLqdjI0OkEiPmXoKulmiqLR5fdzWU1Sc2o68rw3ZU4Px8CYdD5K8CQ+vHZaXvaSUrU6d3WW1OFEJpif5OjtleQ3/ha1HRf0c/wBdZbk+jWMaPQAAAABJRU5ErkJggg==\" y=\"-139.302373\"/>\r\n   </g>\r\n  </g>\r\n  <g id=\"axes_35\">\r\n   <g clip-path=\"url(#p43088e2e65)\">\r\n    <image height=\"19\" id=\"imageadacd1ba68\" transform=\"scale(1 -1)translate(0 -19)\" width=\"19\" x=\"284.275862\" xlink:href=\"data:image/png;base64,\r\niVBORw0KGgoAAAANSUhEUgAAABMAAAATCAYAAAByUDbMAAAABHNCSVQICAgIfAhkiAAAAXdJREFUOI2t1MkvQ1EUx/Hvva+ipjbaIEhJSFokJE1MRUXCH2AhbIU/wtIKG1sbISFW4h/AilISMSyNETEtpMRUHfS9a2Fj0Ud5zvb+7ic5ueceIW2lin8qmUmot7SRZVcQpz3PGubOdTDT+kzHXBtdhTXWsJSho0cN9FCI8NOZNewpHuVwrxjZ3ESW1KxhAGvZ2QjNRqCg2joWESkAPDLHOhZO3KIe7+mJfZ+zmR3UuSpot3vQUYRjl6S2DvB74+Tv5/CaTK+aYttD5UhfFSoSgZgX2daJw7dL2XGUk+RN2jtp2xRCIGu9bIxcEJw8YnXKAM2GDHTjtZeYtpkWU0pxPX5AcKICgP6HEJsDK2iVDbTg/B0GMPicwDg9Z73PSaDIx6h2R2pjCX9C/z22EzmhefYK4+2d5bFGFtxZYBjM2+OmmPhpa9S6PEyLcuoHkqwuOhh+3eEl8fY3DD4fRCBQKJQyj5uOxtdSSqH4ee1l9AMyrX/FPgD7MHm4z7jo8gAAAABJRU5ErkJggg==\" y=\"-139.302373\"/>\r\n   </g>\r\n  </g>\r\n  <g id=\"axes_36\">\r\n   <g clip-path=\"url(#pe2a1cf7cde)\">\r\n    <image height=\"19\" id=\"imagefb7411c5b5\" transform=\"scale(1 -1)translate(0 -19)\" width=\"19\" x=\"7.2\" xlink:href=\"data:image/png;base64,\r\niVBORw0KGgoAAAANSUhEUgAAABMAAAATCAYAAAByUDbMAAAABHNCSVQICAgIfAhkiAAAAR1JREFUOI3F1L1Kw2AUxvF/3tY2qRUT/AitFKQUQRwVJ0Gl4BX0Ahw7ursIXkYXJydvo/ixqSBaxE5KQhWbqFQTk9crSN/SBjzzw49nOOdoIluSpDQiLeh/MKEJhKaOKhNH5V2et6vc1dY4LO9QyOnjYcuzNgeNT+o3AXuuS0PzKRWsxHx2GGbnTPy2z0zGYD9fo0VI13PHawbw+yNoUuZWG9ByzollPF6zt/CD194Szfc2QRQi5fCVHNrssf+CoYdMT+WVkBIDuP6yqFurSmgk7DTbZ10W08Eevh0qocTU1aAS63ouF/mIDbM6ORbLmMvAYUvMTY4BXPU6ZCRsLqxMjgGcDO45jhaxi8nnNDL25Dmc6ZKKMZ+Y0dL8tH90N1UfAiTgdAAAAABJRU5ErkJggg==\" y=\"-161.414915\"/>\r\n   </g>\r\n  </g>\r\n  <g id=\"axes_37\">\r\n   <g clip-path=\"url(#pc9c8c52f92)\">\r\n    <image height=\"19\" id=\"image1ddff9a505\" transform=\"scale(1 -1)translate(0 -19)\" width=\"19\" x=\"76.468966\" xlink:href=\"data:image/png;base64,\r\niVBORw0KGgoAAAANSUhEUgAAABMAAAATCAYAAAByUDbMAAAABHNCSVQICAgIfAhkiAAAApBJREFUOI29lEloU1EUhr/38pJHEmM6xRA0bqpobYs4RLFdCeKAE6I40I1FECwoUkRQF+rKgaJScWFxRhFBRFTEhQtBrQOiLYJaa4vQVtNajW3SpC/Je8eFNg6JQUT8V5fLOd895z+cq6haQPhHUv8VKC/MptrwjyrEo7v+GKb9ehEc7aPeVUlF0mDGoggDz4XHPX4SqsI5tZ+7/S9JmemcMOVHz4KjfTyZ5cXTuA8cThSHEywTSQ6DWFg9r4gfPMGGVi83e1swLTM3rMTlpXl8kHE39kMiSurkYd5csr4+MvUzzvUL0apXIsYQ6YuNrD7Wx61wyy+maQFRtYDMGztf4tcaxHj/StomLZBAwRTR9aDoelC87lIp84Xkvn+FxG8cEuPdC4kdqJVVwWUykq9qAckMoC81iHS2A+ApGSaaTJAy06TMNFEjTlukm/mDz9ha14zZeht7TT0NxTF0zfG9sJFDRzTMx/OvIW1QeHQbC4srswxOpAzO9j7ieu0DrM9hfNurCRVNyIYlUgZn+gLI0ABqYCKn1yjM9E3MAqbMNKe0CNLZija3hgp7UTYMoKH/IeG1e5DYJ+ybdnJzhlBWFMRu03Da9UxcgaqD7kTiAwyLlRsWSyaofttL1/LdYJl4mo7zqK6UK94q7pVUMsZdwLSSUpoWG9gmV5E8spc7Qx2ZfCXXbvpHFdK+bTraus0ouguJRcCmYd67Cm4P2uwlSDrJ46qDzP30ABH5PQxgjLuAC3o5cy4vxTYhBMq3JsRChoeI1tVT3vyB/vhA/spG5LDZ2eKvYkd1mA8tDsbuCkEsxtPdXWy0umiLdP8UnxeWMVZREQQF5WtxSKa1H5W16LlkfZuYkP/d//Of/Y2+ANsRCUNP1vh9AAAAAElFTkSuQmCC\" y=\"-161.414915\"/>\r\n   </g>\r\n  </g>\r\n  <g id=\"axes_38\">\r\n   <g clip-path=\"url(#pa726813b8d)\">\r\n    <image height=\"19\" id=\"imaged922ac2910\" transform=\"scale(1 -1)translate(0 -19)\" width=\"19\" x=\"145.737931\" xlink:href=\"data:image/png;base64,\r\niVBORw0KGgoAAAANSUhEUgAAABMAAAATCAYAAAByUDbMAAAABHNCSVQICAgIfAhkiAAAAhxJREFUOI2tlEtIVGEYhp9zcXScM5e8zNEio4wQq0Fc1KaSkLBFi0rIaCHULGaRi1q0sqJ2BYFQLZKiFl2goBYSFS0MzdnUIrVFTSiWWM7FQafRcWaO499qIjxnTGHe3f9dHj54v++XZLVWUCTJxQJZwhRZoUXfxcmNe9G1Daac1+FBkRVLmCLJziv/Bmq1Ct4fc3O8p4tAbAQ97kPVPHRpjVyvcNF9xIkSaWAw+d0EU1cGhBAsz2eRq7dgv3SVQOdnAqXlUGqHzCLiyydm3k5bTmaChRdm8Q9u43F4nOWhV1y7McemnExGgpCSJZieIjT30xImWbkpSRL3qg/S8fQwoyeeczQVIpZKIMTqxlu6KYTgQvIjwfY+fM/aGaipo7myflVQwcny8pRpvHY24nt5mlx/H/5bcfqiw2SWsuuHAVSWu7hf1kRrbzM4XNw9M8T5cL9lrWk1VmrRyPAi+4v5IZVW/wGaW2wE3/3mx0LUVLumC8jmDHpjH5ju7EHesYfLhtuyriBMs9nRbPa/71Q2zZ1EFSIRpelQHK/DY+ox7VleQb2Bqs3znJ1w8y0TZSIZYWR5DhGbxIgtkckZa4c9ybm5eG4/jxQVMRNhpHuc+oYZpLqdjI0OkEiPmXoKulmiqLR5fdzWU1Sc2o68rw3ZU4Px8CYdD5K8CQ+vHZaXvaSUrU6d3WW1OFEJpif5OjtleQ3/ha1HRf0c/wBdZbk+jWMaPQAAAABJRU5ErkJggg==\" y=\"-161.414915\"/>\r\n   </g>\r\n  </g>\r\n  <g id=\"axes_39\">\r\n   <g clip-path=\"url(#pe453c2ed5c)\">\r\n    <image height=\"19\" id=\"image5412704bb9\" transform=\"scale(1 -1)translate(0 -19)\" width=\"19\" x=\"215.006897\" xlink:href=\"data:image/png;base64,\r\niVBORw0KGgoAAAANSUhEUgAAABMAAAATCAYAAAByUDbMAAAABHNCSVQICAgIfAhkiAAAAXdJREFUOI2t1MkvQ1EUx/Hvva+ipjbaIEhJSFokJE1MRUXCH2AhbIU/wtIKG1sbISFW4h/AilISMSyNETEtpMRUHfS9a2Fj0Ud5zvb+7ic5ueceIW2lin8qmUmot7SRZVcQpz3PGubOdTDT+kzHXBtdhTXWsJSho0cN9FCI8NOZNewpHuVwrxjZ3ESW1KxhAGvZ2QjNRqCg2joWESkAPDLHOhZO3KIe7+mJfZ+zmR3UuSpot3vQUYRjl6S2DvB74+Tv5/CaTK+aYttD5UhfFSoSgZgX2daJw7dL2XGUk+RN2jtp2xRCIGu9bIxcEJw8YnXKAM2GDHTjtZeYtpkWU0pxPX5AcKICgP6HEJsDK2iVDbTg/B0GMPicwDg9Z73PSaDIx6h2R2pjCX9C/z22EzmhefYK4+2d5bFGFtxZYBjM2+OmmPhpa9S6PEyLcuoHkqwuOhh+3eEl8fY3DD4fRCBQKJQyj5uOxtdSSqH4ee1l9AMyrX/FPgD7MHm4z7jo8gAAAABJRU5ErkJggg==\" y=\"-161.414915\"/>\r\n   </g>\r\n  </g>\r\n  <g id=\"axes_40\">\r\n   <g clip-path=\"url(#p69c19ea532)\">\r\n    <image height=\"19\" id=\"imaged0f0ffbb14\" transform=\"scale(1 -1)translate(0 -19)\" width=\"19\" x=\"284.275862\" xlink:href=\"data:image/png;base64,\r\niVBORw0KGgoAAAANSUhEUgAAABMAAAATCAYAAAByUDbMAAAABHNCSVQICAgIfAhkiAAAAhZJREFUOI2tk1tIUwEYx39n5zLT5aAYZm1dxKKHkkgfltCFoKAlFAVZ0VvQCiKhSPAlBkoDY75UewmxsId6KBLBh3qQdYOoVpBmEbJVs3JEzMvUeXbO6WG0HNs6Cfs/fvy/33fjEyxStUGJZCkVqOQwybSakFvPwMAwCm+mKKxcKaNt+TbONScRDx/LgCLDJK4+oSVWSd94GE3XcnKEYgcIrNiN964HsaZ+gdmCoaVJD3TT7Bth4Mcb884aHOs51VmTBaXvXyPaNcqqxhRy4yakppPcfHAW5yOZeU3N5hU8wBHJhbh1z9+ArtOj2ll9L8r+jvdoI88pbztN3bK15p39kdpzGcHpRDropd09iu+xDZKzCCtrQRCpkx284tP/wSb6v9ASS9DdFMZ6sR3lRCuGrgOgDYcIzURy/AXHfMEU+mScsiqd0MRHNt8Z48wuP3P+C2hfh9Cib3l4fJDoZDwnr+A1rZJCbN8aKvwd+PYG6fwWAkC0iHiqtjCtp3j68wOqljbvLJWe59ZLF0KFnfMbx7ApSzKj6Rr9318zOD6UByoKA+hVI6i9AZZ2XSJodyOL+etVRBnRIprD3v36zO3rGggih2404HfsyPNYJRllQZGiMN3Q8U2HUYNXEOs9eAMbcFU6cjxTqRlm1ZQ5DCCeTHC0L/MBgrMWt23dv+zFfzNrEARaq3eyfU7nQOJZ3nMvCrYY/QYLX7ztuFh/nAAAAABJRU5ErkJggg==\" y=\"-161.414915\"/>\r\n   </g>\r\n  </g>\r\n  <g id=\"axes_41\">\r\n   <g clip-path=\"url(#p0d2f4d946a)\">\r\n    <image height=\"19\" id=\"image0d88769990\" transform=\"scale(1 -1)translate(0 -19)\" width=\"19\" x=\"7.2\" xlink:href=\"data:image/png;base64,\r\niVBORw0KGgoAAAANSUhEUgAAABMAAAATCAYAAAByUDbMAAAABHNCSVQICAgIfAhkiAAAApBJREFUOI29lEloU1EUhr/38pJHEmM6xRA0bqpobYs4RLFdCeKAE6I40I1FECwoUkRQF+rKgaJScWFxRhFBRFTEhQtBrQOiLYJaa4vQVtNajW3SpC/Je8eFNg6JQUT8V5fLOd895z+cq6haQPhHUv8VKC/MptrwjyrEo7v+GKb9ehEc7aPeVUlF0mDGoggDz4XHPX4SqsI5tZ+7/S9JmemcMOVHz4KjfTyZ5cXTuA8cThSHEywTSQ6DWFg9r4gfPMGGVi83e1swLTM3rMTlpXl8kHE39kMiSurkYd5csr4+MvUzzvUL0apXIsYQ6YuNrD7Wx61wyy+maQFRtYDMGztf4tcaxHj/StomLZBAwRTR9aDoelC87lIp84Xkvn+FxG8cEuPdC4kdqJVVwWUykq9qAckMoC81iHS2A+ApGSaaTJAy06TMNFEjTlukm/mDz9ha14zZeht7TT0NxTF0zfG9sJFDRzTMx/OvIW1QeHQbC4srswxOpAzO9j7ieu0DrM9hfNurCRVNyIYlUgZn+gLI0ABqYCKn1yjM9E3MAqbMNKe0CNLZija3hgp7UTYMoKH/IeG1e5DYJ+ybdnJzhlBWFMRu03Da9UxcgaqD7kTiAwyLlRsWSyaofttL1/LdYJl4mo7zqK6UK94q7pVUMsZdwLSSUpoWG9gmV5E8spc7Qx2ZfCXXbvpHFdK+bTraus0ouguJRcCmYd67Cm4P2uwlSDrJ46qDzP30ABH5PQxgjLuAC3o5cy4vxTYhBMq3JsRChoeI1tVT3vyB/vhA/spG5LDZ2eKvYkd1mA8tDsbuCkEsxtPdXWy0umiLdP8UnxeWMVZREQQF5WtxSKa1H5W16LlkfZuYkP/d//Of/Y2+ANsRCUNP1vh9AAAAAElFTkSuQmCC\" y=\"-183.527458\"/>\r\n   </g>\r\n  </g>\r\n  <g id=\"axes_42\">\r\n   <g clip-path=\"url(#p25d687b4b9)\">\r\n    <image height=\"19\" id=\"imagea68886d202\" transform=\"scale(1 -1)translate(0 -19)\" width=\"19\" x=\"76.468966\" xlink:href=\"data:image/png;base64,\r\niVBORw0KGgoAAAANSUhEUgAAABMAAAATCAYAAAByUDbMAAAABHNCSVQICAgIfAhkiAAAAhxJREFUOI2tlEtIVGEYhp9zcXScM5e8zNEio4wQq0Fc1KaSkLBFi0rIaCHULGaRi1q0sqJ2BYFQLZKiFl2goBYSFS0MzdnUIrVFTSiWWM7FQafRcWaO499qIjxnTGHe3f9dHj54v++XZLVWUCTJxQJZwhRZoUXfxcmNe9G1Daac1+FBkRVLmCLJziv/Bmq1Ct4fc3O8p4tAbAQ97kPVPHRpjVyvcNF9xIkSaWAw+d0EU1cGhBAsz2eRq7dgv3SVQOdnAqXlUGqHzCLiyydm3k5bTmaChRdm8Q9u43F4nOWhV1y7McemnExGgpCSJZieIjT30xImWbkpSRL3qg/S8fQwoyeeczQVIpZKIMTqxlu6KYTgQvIjwfY+fM/aGaipo7myflVQwcny8pRpvHY24nt5mlx/H/5bcfqiw2SWsuuHAVSWu7hf1kRrbzM4XNw9M8T5cL9lrWk1VmrRyPAi+4v5IZVW/wGaW2wE3/3mx0LUVLumC8jmDHpjH5ju7EHesYfLhtuyriBMs9nRbPa/71Q2zZ1EFSIRpelQHK/DY+ox7VleQb2Bqs3znJ1w8y0TZSIZYWR5DhGbxIgtkckZa4c9ybm5eG4/jxQVMRNhpHuc+oYZpLqdjI0OkEiPmXoKulmiqLR5fdzWU1Sc2o68rw3ZU4Px8CYdD5K8CQ+vHZaXvaSUrU6d3WW1OFEJpif5OjtleQ3/ha1HRf0c/wBdZbk+jWMaPQAAAABJRU5ErkJggg==\" y=\"-183.527458\"/>\r\n   </g>\r\n  </g>\r\n  <g id=\"axes_43\">\r\n   <g clip-path=\"url(#p756d32c0e3)\">\r\n    <image height=\"19\" id=\"image0dccedd2ef\" transform=\"scale(1 -1)translate(0 -19)\" width=\"19\" x=\"145.737931\" xlink:href=\"data:image/png;base64,\r\niVBORw0KGgoAAAANSUhEUgAAABMAAAATCAYAAAByUDbMAAAABHNCSVQICAgIfAhkiAAAAXdJREFUOI2t1MkvQ1EUx/Hvva+ipjbaIEhJSFokJE1MRUXCH2AhbIU/wtIKG1sbISFW4h/AilISMSyNETEtpMRUHfS9a2Fj0Ud5zvb+7ic5ueceIW2lin8qmUmot7SRZVcQpz3PGubOdTDT+kzHXBtdhTXWsJSho0cN9FCI8NOZNewpHuVwrxjZ3ESW1KxhAGvZ2QjNRqCg2joWESkAPDLHOhZO3KIe7+mJfZ+zmR3UuSpot3vQUYRjl6S2DvB74+Tv5/CaTK+aYttD5UhfFSoSgZgX2daJw7dL2XGUk+RN2jtp2xRCIGu9bIxcEJw8YnXKAM2GDHTjtZeYtpkWU0pxPX5AcKICgP6HEJsDK2iVDbTg/B0GMPicwDg9Z73PSaDIx6h2R2pjCX9C/z22EzmhefYK4+2d5bFGFtxZYBjM2+OmmPhpa9S6PEyLcuoHkqwuOhh+3eEl8fY3DD4fRCBQKJQyj5uOxtdSSqH4ee1l9AMyrX/FPgD7MHm4z7jo8gAAAABJRU5ErkJggg==\" y=\"-183.527458\"/>\r\n   </g>\r\n  </g>\r\n  <g id=\"axes_44\">\r\n   <g clip-path=\"url(#pc4253eac5c)\">\r\n    <image height=\"19\" id=\"image0531defac8\" transform=\"scale(1 -1)translate(0 -19)\" width=\"19\" x=\"215.006897\" xlink:href=\"data:image/png;base64,\r\niVBORw0KGgoAAAANSUhEUgAAABMAAAATCAYAAAByUDbMAAAABHNCSVQICAgIfAhkiAAAAhZJREFUOI2tk1tIUwEYx39n5zLT5aAYZm1dxKKHkkgfltCFoKAlFAVZ0VvQCiKhSPAlBkoDY75UewmxsId6KBLBh3qQdYOoVpBmEbJVs3JEzMvUeXbO6WG0HNs6Cfs/fvy/33fjEyxStUGJZCkVqOQwybSakFvPwMAwCm+mKKxcKaNt+TbONScRDx/LgCLDJK4+oSVWSd94GE3XcnKEYgcIrNiN964HsaZ+gdmCoaVJD3TT7Bth4Mcb884aHOs51VmTBaXvXyPaNcqqxhRy4yakppPcfHAW5yOZeU3N5hU8wBHJhbh1z9+ArtOj2ll9L8r+jvdoI88pbztN3bK15p39kdpzGcHpRDropd09iu+xDZKzCCtrQRCpkx284tP/wSb6v9ASS9DdFMZ6sR3lRCuGrgOgDYcIzURy/AXHfMEU+mScsiqd0MRHNt8Z48wuP3P+C2hfh9Cib3l4fJDoZDwnr+A1rZJCbN8aKvwd+PYG6fwWAkC0iHiqtjCtp3j68wOqljbvLJWe59ZLF0KFnfMbx7ApSzKj6Rr9318zOD6UByoKA+hVI6i9AZZ2XSJodyOL+etVRBnRIprD3v36zO3rGggih2404HfsyPNYJRllQZGiMN3Q8U2HUYNXEOs9eAMbcFU6cjxTqRlm1ZQ5DCCeTHC0L/MBgrMWt23dv+zFfzNrEARaq3eyfU7nQOJZ3nMvCrYY/QYLX7ztuFh/nAAAAABJRU5ErkJggg==\" y=\"-183.527458\"/>\r\n   </g>\r\n  </g>\r\n  <g id=\"axes_45\">\r\n   <g clip-path=\"url(#p3e07521d51)\">\r\n    <image height=\"19\" id=\"imagec74e486bd7\" transform=\"scale(1 -1)translate(0 -19)\" width=\"19\" x=\"284.275862\" xlink:href=\"data:image/png;base64,\r\niVBORw0KGgoAAAANSUhEUgAAABMAAAATCAYAAAByUDbMAAAABHNCSVQICAgIfAhkiAAAAflJREFUOI29k09Ik2Ecxz/P++zd5ubyT25DkYJEtMss2wIPER2qmUEdhJEdjCDwYF1kp6BDh04lEWQEBZ2K0EMEsTQywopiMoJkBmqHBuaM1pjE/rC9T6ei2N45Ifpen+/v8/D9ffkJzdKq+EeybGbQpQWBQKEwlMJQBkpV/r8qzO/uZDbchebzU3r5nFz0C5MfdnApEyWV3Sjzi2ox97Z0cE7upM5QuAzFkfMSeSxEpP8+oe9zlIxS7TAhxO9IQgha65uJBZqoHz1BcCTCq/X4X36tWsw/d6OUYnXjG+GPbnC349SsZf6qsErqVnbTt03b/CWpSU56exk9a6ASS6RL2dphVqkz5A3QY9jxFfLsG8pjOT6ASqxwY2yRWGqlbMa0gK6mduYv9qKfGqP47jHFZ7PMPXQxrqd4kVyoLeZ2xzZsUudTZo3Bq5+ZktcRe/q4+aiRy5nX5IsF01WUFRBu8POmw41DtzG99p5DVxYo3LnHhWu7GXD3mIIqwpJakZbxM9x1BnDZHMx/XWL/kzQqHue2P43H2Vg7bCL5lpnBCMHJIMsH2ujzdLOcXuXpLbCfPkpbXbMprGxn+WKB4R9RpkM5fFMjzCzGMBJetM5doGlYhDSFmbZplTr9Hh+HjQYO2lNkczoTUufB+rxpCVVvc6va8jn9N9hPATWrPYovuScAAAAASUVORK5CYII=\" y=\"-183.527458\"/>\r\n   </g>\r\n  </g>\r\n  <g id=\"axes_46\">\r\n   <g clip-path=\"url(#p0b6dcf1b9c)\">\r\n    <image height=\"19\" id=\"imagee9ab49cf52\" transform=\"scale(1 -1)translate(0 -19)\" width=\"19\" x=\"7.2\" xlink:href=\"data:image/png;base64,\r\niVBORw0KGgoAAAANSUhEUgAAABMAAAATCAYAAAByUDbMAAAABHNCSVQICAgIfAhkiAAAAhxJREFUOI2tlEtIVGEYhp9zcXScM5e8zNEio4wQq0Fc1KaSkLBFi0rIaCHULGaRi1q0sqJ2BYFQLZKiFl2goBYSFS0MzdnUIrVFTSiWWM7FQafRcWaO499qIjxnTGHe3f9dHj54v++XZLVWUCTJxQJZwhRZoUXfxcmNe9G1Daac1+FBkRVLmCLJziv/Bmq1Ct4fc3O8p4tAbAQ97kPVPHRpjVyvcNF9xIkSaWAw+d0EU1cGhBAsz2eRq7dgv3SVQOdnAqXlUGqHzCLiyydm3k5bTmaChRdm8Q9u43F4nOWhV1y7McemnExGgpCSJZieIjT30xImWbkpSRL3qg/S8fQwoyeeczQVIpZKIMTqxlu6KYTgQvIjwfY+fM/aGaipo7myflVQwcny8pRpvHY24nt5mlx/H/5bcfqiw2SWsuuHAVSWu7hf1kRrbzM4XNw9M8T5cL9lrWk1VmrRyPAi+4v5IZVW/wGaW2wE3/3mx0LUVLumC8jmDHpjH5ju7EHesYfLhtuyriBMs9nRbPa/71Q2zZ1EFSIRpelQHK/DY+ox7VleQb2Bqs3znJ1w8y0TZSIZYWR5DhGbxIgtkckZa4c9ybm5eG4/jxQVMRNhpHuc+oYZpLqdjI0OkEiPmXoKulmiqLR5fdzWU1Sc2o68rw3ZU4Px8CYdD5K8CQ+vHZaXvaSUrU6d3WW1OFEJpif5OjtleQ3/ha1HRf0c/wBdZbk+jWMaPQAAAABJRU5ErkJggg==\" y=\"-205.64\"/>\r\n   </g>\r\n  </g>\r\n  <g id=\"axes_47\">\r\n   <g clip-path=\"url(#p341982d828)\">\r\n    <image height=\"19\" id=\"image3e6f439777\" transform=\"scale(1 -1)translate(0 -19)\" width=\"19\" x=\"76.468966\" xlink:href=\"data:image/png;base64,\r\niVBORw0KGgoAAAANSUhEUgAAABMAAAATCAYAAAByUDbMAAAABHNCSVQICAgIfAhkiAAAAXdJREFUOI2t1MkvQ1EUx/Hvva+ipjbaIEhJSFokJE1MRUXCH2AhbIU/wtIKG1sbISFW4h/AilISMSyNETEtpMRUHfS9a2Fj0Ud5zvb+7ic5ueceIW2lin8qmUmot7SRZVcQpz3PGubOdTDT+kzHXBtdhTXWsJSho0cN9FCI8NOZNewpHuVwrxjZ3ESW1KxhAGvZ2QjNRqCg2joWESkAPDLHOhZO3KIe7+mJfZ+zmR3UuSpot3vQUYRjl6S2DvB74+Tv5/CaTK+aYttD5UhfFSoSgZgX2daJw7dL2XGUk+RN2jtp2xRCIGu9bIxcEJw8YnXKAM2GDHTjtZeYtpkWU0pxPX5AcKICgP6HEJsDK2iVDbTg/B0GMPicwDg9Z73PSaDIx6h2R2pjCX9C/z22EzmhefYK4+2d5bFGFtxZYBjM2+OmmPhpa9S6PEyLcuoHkqwuOhh+3eEl8fY3DD4fRCBQKJQyj5uOxtdSSqH4ee1l9AMyrX/FPgD7MHm4z7jo8gAAAABJRU5ErkJggg==\" y=\"-205.64\"/>\r\n   </g>\r\n  </g>\r\n  <g id=\"axes_48\">\r\n   <g clip-path=\"url(#pb1373ec985)\">\r\n    <image height=\"19\" id=\"imageb7de2b9dcf\" transform=\"scale(1 -1)translate(0 -19)\" width=\"19\" x=\"145.737931\" xlink:href=\"data:image/png;base64,\r\niVBORw0KGgoAAAANSUhEUgAAABMAAAATCAYAAAByUDbMAAAABHNCSVQICAgIfAhkiAAAAhZJREFUOI2tk1tIUwEYx39n5zLT5aAYZm1dxKKHkkgfltCFoKAlFAVZ0VvQCiKhSPAlBkoDY75UewmxsId6KBLBh3qQdYOoVpBmEbJVs3JEzMvUeXbO6WG0HNs6Cfs/fvy/33fjEyxStUGJZCkVqOQwybSakFvPwMAwCm+mKKxcKaNt+TbONScRDx/LgCLDJK4+oSVWSd94GE3XcnKEYgcIrNiN964HsaZ+gdmCoaVJD3TT7Bth4Mcb884aHOs51VmTBaXvXyPaNcqqxhRy4yakppPcfHAW5yOZeU3N5hU8wBHJhbh1z9+ArtOj2ll9L8r+jvdoI88pbztN3bK15p39kdpzGcHpRDropd09iu+xDZKzCCtrQRCpkx284tP/wSb6v9ASS9DdFMZ6sR3lRCuGrgOgDYcIzURy/AXHfMEU+mScsiqd0MRHNt8Z48wuP3P+C2hfh9Cib3l4fJDoZDwnr+A1rZJCbN8aKvwd+PYG6fwWAkC0iHiqtjCtp3j68wOqljbvLJWe59ZLF0KFnfMbx7ApSzKj6Rr9318zOD6UByoKA+hVI6i9AZZ2XSJodyOL+etVRBnRIprD3v36zO3rGggih2404HfsyPNYJRllQZGiMN3Q8U2HUYNXEOs9eAMbcFU6cjxTqRlm1ZQ5DCCeTHC0L/MBgrMWt23dv+zFfzNrEARaq3eyfU7nQOJZ3nMvCrYY/QYLX7ztuFh/nAAAAABJRU5ErkJggg==\" y=\"-205.64\"/>\r\n   </g>\r\n  </g>\r\n  <g id=\"axes_49\">\r\n   <g clip-path=\"url(#p7514988f76)\">\r\n    <image height=\"19\" id=\"image287df84306\" transform=\"scale(1 -1)translate(0 -19)\" width=\"19\" x=\"215.006897\" xlink:href=\"data:image/png;base64,\r\niVBORw0KGgoAAAANSUhEUgAAABMAAAATCAYAAAByUDbMAAAABHNCSVQICAgIfAhkiAAAAflJREFUOI29k09Ik2Ecxz/P++zd5ubyT25DkYJEtMss2wIPER2qmUEdhJEdjCDwYF1kp6BDh04lEWQEBZ2K0EMEsTQywopiMoJkBmqHBuaM1pjE/rC9T6ei2N45Ifpen+/v8/D9ffkJzdKq+EeybGbQpQWBQKEwlMJQBkpV/r8qzO/uZDbchebzU3r5nFz0C5MfdnApEyWV3Sjzi2ox97Z0cE7upM5QuAzFkfMSeSxEpP8+oe9zlIxS7TAhxO9IQgha65uJBZqoHz1BcCTCq/X4X36tWsw/d6OUYnXjG+GPbnC349SsZf6qsErqVnbTt03b/CWpSU56exk9a6ASS6RL2dphVqkz5A3QY9jxFfLsG8pjOT6ASqxwY2yRWGqlbMa0gK6mduYv9qKfGqP47jHFZ7PMPXQxrqd4kVyoLeZ2xzZsUudTZo3Bq5+ZktcRe/q4+aiRy5nX5IsF01WUFRBu8POmw41DtzG99p5DVxYo3LnHhWu7GXD3mIIqwpJakZbxM9x1BnDZHMx/XWL/kzQqHue2P43H2Vg7bCL5lpnBCMHJIMsH2ujzdLOcXuXpLbCfPkpbXbMprGxn+WKB4R9RpkM5fFMjzCzGMBJetM5doGlYhDSFmbZplTr9Hh+HjQYO2lNkczoTUufB+rxpCVVvc6va8jn9N9hPATWrPYovuScAAAAASUVORK5CYII=\" y=\"-205.64\"/>\r\n   </g>\r\n  </g>\r\n  <g id=\"axes_50\">\r\n   <g clip-path=\"url(#pe46d5d9d43)\">\r\n    <image height=\"19\" id=\"image64734a9d69\" transform=\"scale(1 -1)translate(0 -19)\" width=\"19\" x=\"284.275862\" xlink:href=\"data:image/png;base64,\r\niVBORw0KGgoAAAANSUhEUgAAABMAAAATCAYAAAByUDbMAAAABHNCSVQICAgIfAhkiAAAAehJREFUOI3d011IU3EYx/HvecmNc/bCdlrqiqwbxRGtyLwIoxcysothUaRIkBcRUQZdVAS7iKgIoSAI6qqoKCIikeh2GZhl1kDMlIJWGZGyLbe1ndLtnK7qIjputbt+l/+XD8/zwCOIcrWJRfxOjVZXgD79Pa+SH6ye/Yo412WdUk33lWYerbFR6fCUh/XHx4kfu4V6/hz7XCvKw2YLeU5NaZipKfbXTpSHAfRMj6Cf6cbZFcLv1MrDpr9luT2wCLxVhJUgomD9pShWMAqEU88wXw/T0f4Vv8P7d5goiDQtCLDT30ijrxY9P0Pf8QnkPQdpddVbYvLvB267Sq8apOH6ZqiwQzaFMTRI7OoXROd8Tm5Mcu2OQuZ7rnhlGzz1rI4cALmC/h0P6O18ystLWZZ2ekCSsR0+wi5tZWltxmYSGJG7GNEBDplv6Yg/ZF3yBcsvjDK46gSIIqeXTaIpruLYcCLGjbMppPUhnmxy0FwVJG8UeJeaZGsmSv7mZZS2tSxWfMVnBhBODxHq+ojn4lF6dr9h9j58jphodTrStnbMsed/bFOwWnS3XWWvt4Hw9ixyyxakQBOCTSU//pjRtnu0ZMZI6pnSsJ9Z4q6kxu5joeRgHgKfjBzRdIxELl16Zf+Sohvwf2A/AH/7nKLvEAObAAAAAElFTkSuQmCC\" y=\"-205.64\"/>\r\n   </g>\r\n  </g>\r\n </g>\r\n <defs>\r\n  <clipPath id=\"pa251bb971f\">\r\n   <rect height=\"18.427119\" width=\"18.427119\" x=\"7.2\" y=\"7.2\"/>\r\n  </clipPath>\r\n  <clipPath id=\"pd5caacef18\">\r\n   <rect height=\"18.427119\" width=\"18.427119\" x=\"76.468966\" y=\"7.2\"/>\r\n  </clipPath>\r\n  <clipPath id=\"p4a2573ada2\">\r\n   <rect height=\"18.427119\" width=\"18.427119\" x=\"145.737931\" y=\"7.2\"/>\r\n  </clipPath>\r\n  <clipPath id=\"p883e9719d8\">\r\n   <rect height=\"18.427119\" width=\"18.427119\" x=\"215.006897\" y=\"7.2\"/>\r\n  </clipPath>\r\n  <clipPath id=\"p0eaa082dca\">\r\n   <rect height=\"18.427119\" width=\"18.427119\" x=\"284.275862\" y=\"7.2\"/>\r\n  </clipPath>\r\n  <clipPath id=\"p4ee1af5d10\">\r\n   <rect height=\"18.427119\" width=\"18.427119\" x=\"7.2\" y=\"29.312542\"/>\r\n  </clipPath>\r\n  <clipPath id=\"pcff85424ae\">\r\n   <rect height=\"18.427119\" width=\"18.427119\" x=\"76.468966\" y=\"29.312542\"/>\r\n  </clipPath>\r\n  <clipPath id=\"pbe0d9be317\">\r\n   <rect height=\"18.427119\" width=\"18.427119\" x=\"145.737931\" y=\"29.312542\"/>\r\n  </clipPath>\r\n  <clipPath id=\"pf82a89e95b\">\r\n   <rect height=\"18.427119\" width=\"18.427119\" x=\"215.006897\" y=\"29.312542\"/>\r\n  </clipPath>\r\n  <clipPath id=\"p7b588a383c\">\r\n   <rect height=\"18.427119\" width=\"18.427119\" x=\"284.275862\" y=\"29.312542\"/>\r\n  </clipPath>\r\n  <clipPath id=\"p99fa0bf69f\">\r\n   <rect height=\"18.427119\" width=\"18.427119\" x=\"7.2\" y=\"51.425085\"/>\r\n  </clipPath>\r\n  <clipPath id=\"p6aec29aba7\">\r\n   <rect height=\"18.427119\" width=\"18.427119\" x=\"76.468966\" y=\"51.425085\"/>\r\n  </clipPath>\r\n  <clipPath id=\"p9d2b44c3b5\">\r\n   <rect height=\"18.427119\" width=\"18.427119\" x=\"145.737931\" y=\"51.425085\"/>\r\n  </clipPath>\r\n  <clipPath id=\"p7c9bbd360f\">\r\n   <rect height=\"18.427119\" width=\"18.427119\" x=\"215.006897\" y=\"51.425085\"/>\r\n  </clipPath>\r\n  <clipPath id=\"p43c173c416\">\r\n   <rect height=\"18.427119\" width=\"18.427119\" x=\"284.275862\" y=\"51.425085\"/>\r\n  </clipPath>\r\n  <clipPath id=\"p292cce9805\">\r\n   <rect height=\"18.427119\" width=\"18.427119\" x=\"7.2\" y=\"73.537627\"/>\r\n  </clipPath>\r\n  <clipPath id=\"p17047acb94\">\r\n   <rect height=\"18.427119\" width=\"18.427119\" x=\"76.468966\" y=\"73.537627\"/>\r\n  </clipPath>\r\n  <clipPath id=\"p1b733eb6cf\">\r\n   <rect height=\"18.427119\" width=\"18.427119\" x=\"145.737931\" y=\"73.537627\"/>\r\n  </clipPath>\r\n  <clipPath id=\"p44f0e9f1ba\">\r\n   <rect height=\"18.427119\" width=\"18.427119\" x=\"215.006897\" y=\"73.537627\"/>\r\n  </clipPath>\r\n  <clipPath id=\"p9b1af40780\">\r\n   <rect height=\"18.427119\" width=\"18.427119\" x=\"284.275862\" y=\"73.537627\"/>\r\n  </clipPath>\r\n  <clipPath id=\"pf981e5a2ed\">\r\n   <rect height=\"18.427119\" width=\"18.427119\" x=\"7.2\" y=\"95.650169\"/>\r\n  </clipPath>\r\n  <clipPath id=\"p60d859d4ae\">\r\n   <rect height=\"18.427119\" width=\"18.427119\" x=\"76.468966\" y=\"95.650169\"/>\r\n  </clipPath>\r\n  <clipPath id=\"p253314e783\">\r\n   <rect height=\"18.427119\" width=\"18.427119\" x=\"145.737931\" y=\"95.650169\"/>\r\n  </clipPath>\r\n  <clipPath id=\"pcccc7aaf22\">\r\n   <rect height=\"18.427119\" width=\"18.427119\" x=\"215.006897\" y=\"95.650169\"/>\r\n  </clipPath>\r\n  <clipPath id=\"pe15d40edb9\">\r\n   <rect height=\"18.427119\" width=\"18.427119\" x=\"284.275862\" y=\"95.650169\"/>\r\n  </clipPath>\r\n  <clipPath id=\"pb656047f20\">\r\n   <rect height=\"18.427119\" width=\"18.427119\" x=\"7.2\" y=\"117.762712\"/>\r\n  </clipPath>\r\n  <clipPath id=\"p91d62a4b3b\">\r\n   <rect height=\"18.427119\" width=\"18.427119\" x=\"76.468966\" y=\"117.762712\"/>\r\n  </clipPath>\r\n  <clipPath id=\"pdbdf41eec0\">\r\n   <rect height=\"18.427119\" width=\"18.427119\" x=\"145.737931\" y=\"117.762712\"/>\r\n  </clipPath>\r\n  <clipPath id=\"p592d48659c\">\r\n   <rect height=\"18.427119\" width=\"18.427119\" x=\"215.006897\" y=\"117.762712\"/>\r\n  </clipPath>\r\n  <clipPath id=\"pb37d0aa360\">\r\n   <rect height=\"18.427119\" width=\"18.427119\" x=\"284.275862\" y=\"117.762712\"/>\r\n  </clipPath>\r\n  <clipPath id=\"p14b6658206\">\r\n   <rect height=\"18.427119\" width=\"18.427119\" x=\"7.2\" y=\"139.875254\"/>\r\n  </clipPath>\r\n  <clipPath id=\"p6a64dbbbf4\">\r\n   <rect height=\"18.427119\" width=\"18.427119\" x=\"76.468966\" y=\"139.875254\"/>\r\n  </clipPath>\r\n  <clipPath id=\"pb8a1b8364e\">\r\n   <rect height=\"18.427119\" width=\"18.427119\" x=\"145.737931\" y=\"139.875254\"/>\r\n  </clipPath>\r\n  <clipPath id=\"p35c8af01de\">\r\n   <rect height=\"18.427119\" width=\"18.427119\" x=\"215.006897\" y=\"139.875254\"/>\r\n  </clipPath>\r\n  <clipPath id=\"p43088e2e65\">\r\n   <rect height=\"18.427119\" width=\"18.427119\" x=\"284.275862\" y=\"139.875254\"/>\r\n  </clipPath>\r\n  <clipPath id=\"pe2a1cf7cde\">\r\n   <rect height=\"18.427119\" width=\"18.427119\" x=\"7.2\" y=\"161.987797\"/>\r\n  </clipPath>\r\n  <clipPath id=\"pc9c8c52f92\">\r\n   <rect height=\"18.427119\" width=\"18.427119\" x=\"76.468966\" y=\"161.987797\"/>\r\n  </clipPath>\r\n  <clipPath id=\"pa726813b8d\">\r\n   <rect height=\"18.427119\" width=\"18.427119\" x=\"145.737931\" y=\"161.987797\"/>\r\n  </clipPath>\r\n  <clipPath id=\"pe453c2ed5c\">\r\n   <rect height=\"18.427119\" width=\"18.427119\" x=\"215.006897\" y=\"161.987797\"/>\r\n  </clipPath>\r\n  <clipPath id=\"p69c19ea532\">\r\n   <rect height=\"18.427119\" width=\"18.427119\" x=\"284.275862\" y=\"161.987797\"/>\r\n  </clipPath>\r\n  <clipPath id=\"p0d2f4d946a\">\r\n   <rect height=\"18.427119\" width=\"18.427119\" x=\"7.2\" y=\"184.100339\"/>\r\n  </clipPath>\r\n  <clipPath id=\"p25d687b4b9\">\r\n   <rect height=\"18.427119\" width=\"18.427119\" x=\"76.468966\" y=\"184.100339\"/>\r\n  </clipPath>\r\n  <clipPath id=\"p756d32c0e3\">\r\n   <rect height=\"18.427119\" width=\"18.427119\" x=\"145.737931\" y=\"184.100339\"/>\r\n  </clipPath>\r\n  <clipPath id=\"pc4253eac5c\">\r\n   <rect height=\"18.427119\" width=\"18.427119\" x=\"215.006897\" y=\"184.100339\"/>\r\n  </clipPath>\r\n  <clipPath id=\"p3e07521d51\">\r\n   <rect height=\"18.427119\" width=\"18.427119\" x=\"284.275862\" y=\"184.100339\"/>\r\n  </clipPath>\r\n  <clipPath id=\"p0b6dcf1b9c\">\r\n   <rect height=\"18.427119\" width=\"18.427119\" x=\"7.2\" y=\"206.212881\"/>\r\n  </clipPath>\r\n  <clipPath id=\"p341982d828\">\r\n   <rect height=\"18.427119\" width=\"18.427119\" x=\"76.468966\" y=\"206.212881\"/>\r\n  </clipPath>\r\n  <clipPath id=\"pb1373ec985\">\r\n   <rect height=\"18.427119\" width=\"18.427119\" x=\"145.737931\" y=\"206.212881\"/>\r\n  </clipPath>\r\n  <clipPath id=\"p7514988f76\">\r\n   <rect height=\"18.427119\" width=\"18.427119\" x=\"215.006897\" y=\"206.212881\"/>\r\n  </clipPath>\r\n  <clipPath id=\"pe46d5d9d43\">\r\n   <rect height=\"18.427119\" width=\"18.427119\" x=\"284.275862\" y=\"206.212881\"/>\r\n  </clipPath>\r\n </defs>\r\n</svg>\r\n",
      "image/png": "[encoded data removed]"
     },
     "metadata": {}
    },
    {
     "output_type": "display_data",
     "data": {
      "text/plain": "<Figure size 1440x1440 with 0 Axes>"
     },
     "metadata": {}
    }
   ],
   "source": [
    "fig, ax = plt.subplots(10,5)\n",
    "plt.figure(figsize=(20,20))\n",
    "i=0\n",
    "j=0\n",
    "while j < 5:\n",
    "    while i < 10:\n",
    "        ax[i,j].imshow(images[i+j])\n",
    "        ax[i,j].axis('off')\n",
    "        i= i+1\n",
    "    if i == 10:\n",
    "        j= j+1\n",
    "        i = 0\n",
    "fig.savefig('numbers.png') "
   ]
  },
  {
   "cell_type": "code",
   "execution_count": 160,
   "metadata": {},
   "outputs": [],
   "source": [
    "#Input numbers shown above into this array\n",
    "y_representative_digits = np.array([2,1,5,5,4,5,0,6,0,2,9,6,3,9,4,9,5,8,6,8,1,7,3,0,7,2,6,3,9,3,7,0,5,7,8,0,6,1,7,9,3,2,4,7,0,4,8,1,6,4])"
   ]
  },
  {
   "cell_type": "code",
   "execution_count": 161,
   "metadata": {},
   "outputs": [],
   "source": [
    "y_train_propagated = np.empty(len(X_train), dtype=np.int32)\n",
    "for i in range(k):\n",
    "    y_train_propagated[kmeans.labels_ ==i] = y_representative_digits[i]"
   ]
  },
  {
   "cell_type": "code",
   "execution_count": 162,
   "metadata": {},
   "outputs": [
    {
     "output_type": "execute_result",
     "data": {
      "text/plain": [
       "0.7984523809523809"
      ]
     },
     "metadata": {},
     "execution_count": 162
    }
   ],
   "source": [
    "from sklearn.linear_model import LogisticRegression\n",
    "log_reg = LogisticRegression()\n",
    "log_reg.fit(X_train, y_train_propagated)\n",
    "log_reg.score(X_test, y_test)"
   ]
  },
  {
   "source": [
    "Going to try and propagate the labels to the 20% of the instances that are closest to the centroids to see if we can improve our score"
   ],
   "cell_type": "markdown",
   "metadata": {}
  },
  {
   "cell_type": "code",
   "execution_count": 163,
   "metadata": {},
   "outputs": [],
   "source": [
    "percentile_closest = 20\n",
    "\n",
    "X_cluster_dist = X_digits_dist[np.arange(len(X_train)), kmeans.labels_]\n",
    "for i in range(k):\n",
    "    in_cluster = (kmeans.labels_ == i)\n",
    "    cluster_dist = X_cluster_dist[in_cluster]\n",
    "    cutoff_distance = np.percentile(cluster_dist, percentile_closest)\n",
    "    above_cutoff = (X_cluster_dist > cutoff_distance)\n",
    "    X_cluster_dist[in_cluster & above_cutoff] = -1\n",
    "\n",
    "partially_propagated = (X_cluster_dist != -1)\n",
    "X_train_partially_propagated = X_train[partially_propagated]\n",
    "y_train_partially_propagated = y_train_propagated[partially_propagated]"
   ]
  },
  {
   "cell_type": "code",
   "execution_count": 164,
   "metadata": {},
   "outputs": [
    {
     "output_type": "execute_result",
     "data": {
      "text/plain": [
       "0.7446428571428572"
      ]
     },
     "metadata": {},
     "execution_count": 164
    }
   ],
   "source": [
    "log_reg = LogisticRegression()\n",
    "log_reg.fit(X_train_partially_propagated, y_train_partially_propagated)\n",
    "log_reg.score(X_test, y_test)"
   ]
  },
  {
   "source": [
    "Well that didn't help. Lets try GridSearchCV. Note only run this once. It takes 2+ hours to run."
   ],
   "cell_type": "markdown",
   "metadata": {}
  },
  {
   "cell_type": "code",
   "execution_count": 165,
   "metadata": {
    "tags": [
     "outputPrepend"
    ]
   },
   "outputs": [
    {
     "output_type": "stream",
     "name": "stdout",
     "text": [
      "........... kmeans__n_clusters=53, total=  51.0s\n",
      "[CV] kmeans__n_clusters=53 ...........................................\n",
      "[CV] ............................ kmeans__n_clusters=53, total=  48.3s\n",
      "[CV] kmeans__n_clusters=53 ...........................................\n",
      "[CV] ............................ kmeans__n_clusters=53, total=  47.5s\n",
      "[CV] kmeans__n_clusters=54 ...........................................\n",
      "[CV] ............................ kmeans__n_clusters=54, total=  52.5s\n",
      "[CV] kmeans__n_clusters=54 ...........................................\n",
      "[CV] ............................ kmeans__n_clusters=54, total=  50.1s\n",
      "[CV] kmeans__n_clusters=54 ...........................................\n",
      "[CV] ............................ kmeans__n_clusters=54, total=  50.6s\n",
      "[CV] kmeans__n_clusters=55 ...........................................\n",
      "[CV] ............................ kmeans__n_clusters=55, total=  52.5s\n",
      "[CV] kmeans__n_clusters=55 ...........................................\n",
      "[CV] ............................ kmeans__n_clusters=55, total=  57.2s\n",
      "[CV] kmeans__n_clusters=55 ...........................................\n",
      "[CV] ............................ kmeans__n_clusters=55, total=  59.2s\n",
      "[CV] kmeans__n_clusters=56 ...........................................\n",
      "[CV] ............................ kmeans__n_clusters=56, total=  56.5s\n",
      "[CV] kmeans__n_clusters=56 ...........................................\n",
      "[CV] ............................ kmeans__n_clusters=56, total= 1.0min\n",
      "[CV] kmeans__n_clusters=56 ...........................................\n",
      "[CV] ............................ kmeans__n_clusters=56, total=  59.0s\n",
      "[CV] kmeans__n_clusters=57 ...........................................\n",
      "[CV] ............................ kmeans__n_clusters=57, total=  57.8s\n",
      "[CV] kmeans__n_clusters=57 ...........................................\n",
      "[CV] ............................ kmeans__n_clusters=57, total=  45.2s\n",
      "[CV] kmeans__n_clusters=57 ...........................................\n",
      "[CV] ............................ kmeans__n_clusters=57, total=  43.4s\n",
      "[CV] kmeans__n_clusters=58 ...........................................\n",
      "[CV] ............................ kmeans__n_clusters=58, total=  45.5s\n",
      "[CV] kmeans__n_clusters=58 ...........................................\n",
      "[CV] ............................ kmeans__n_clusters=58, total=  43.1s\n",
      "[CV] kmeans__n_clusters=58 ...........................................\n",
      "[CV] ............................ kmeans__n_clusters=58, total=  44.0s\n",
      "[CV] kmeans__n_clusters=59 ...........................................\n",
      "[CV] ............................ kmeans__n_clusters=59, total=  44.6s\n",
      "[CV] kmeans__n_clusters=59 ...........................................\n",
      "[CV] ............................ kmeans__n_clusters=59, total=  45.2s\n",
      "[CV] kmeans__n_clusters=59 ...........................................\n",
      "[CV] ............................ kmeans__n_clusters=59, total=  45.8s\n",
      "[CV] kmeans__n_clusters=60 ...........................................\n",
      "[CV] ............................ kmeans__n_clusters=60, total=  45.1s\n",
      "[CV] kmeans__n_clusters=60 ...........................................\n",
      "[CV] ............................ kmeans__n_clusters=60, total=  45.0s\n",
      "[CV] kmeans__n_clusters=60 ...........................................\n",
      "[CV] ............................ kmeans__n_clusters=60, total=  47.9s\n",
      "[CV] kmeans__n_clusters=61 ...........................................\n",
      "[CV] ............................ kmeans__n_clusters=61, total=  48.7s\n",
      "[CV] kmeans__n_clusters=61 ...........................................\n",
      "[CV] ............................ kmeans__n_clusters=61, total=  45.3s\n",
      "[CV] kmeans__n_clusters=61 ...........................................\n",
      "[CV] ............................ kmeans__n_clusters=61, total=  47.4s\n",
      "[CV] kmeans__n_clusters=62 ...........................................\n",
      "[CV] ............................ kmeans__n_clusters=62, total=  45.5s\n",
      "[CV] kmeans__n_clusters=62 ...........................................\n",
      "[CV] ............................ kmeans__n_clusters=62, total=  48.6s\n",
      "[CV] kmeans__n_clusters=62 ...........................................\n",
      "[CV] ............................ kmeans__n_clusters=62, total=  47.1s\n",
      "[CV] kmeans__n_clusters=63 ...........................................\n",
      "[CV] ............................ kmeans__n_clusters=63, total=  47.8s\n",
      "[CV] kmeans__n_clusters=63 ...........................................\n",
      "[CV] ............................ kmeans__n_clusters=63, total=  49.0s\n",
      "[CV] kmeans__n_clusters=63 ...........................................\n",
      "[CV] ............................ kmeans__n_clusters=63, total=  47.0s\n",
      "[CV] kmeans__n_clusters=64 ...........................................\n",
      "[CV] ............................ kmeans__n_clusters=64, total=  47.6s\n",
      "[CV] kmeans__n_clusters=64 ...........................................\n",
      "[CV] ............................ kmeans__n_clusters=64, total=  48.9s\n",
      "[CV] kmeans__n_clusters=64 ...........................................\n",
      "[CV] ............................ kmeans__n_clusters=64, total=  47.1s\n",
      "[CV] kmeans__n_clusters=65 ...........................................\n",
      "[CV] ............................ kmeans__n_clusters=65, total=  48.7s\n",
      "[CV] kmeans__n_clusters=65 ...........................................\n",
      "[CV] ............................ kmeans__n_clusters=65, total=  47.4s\n",
      "[CV] kmeans__n_clusters=65 ...........................................\n",
      "[CV] ............................ kmeans__n_clusters=65, total=  47.6s\n",
      "[CV] kmeans__n_clusters=66 ...........................................\n",
      "[CV] ............................ kmeans__n_clusters=66, total=  48.2s\n",
      "[CV] kmeans__n_clusters=66 ...........................................\n",
      "[CV] ............................ kmeans__n_clusters=66, total=  50.1s\n",
      "[CV] kmeans__n_clusters=66 ...........................................\n",
      "[CV] ............................ kmeans__n_clusters=66, total=  48.4s\n",
      "[CV] kmeans__n_clusters=67 ...........................................\n",
      "[CV] ............................ kmeans__n_clusters=67, total=  51.2s\n",
      "[CV] kmeans__n_clusters=67 ...........................................\n",
      "[CV] ............................ kmeans__n_clusters=67, total=  49.8s\n",
      "[CV] kmeans__n_clusters=67 ...........................................\n",
      "[CV] ............................ kmeans__n_clusters=67, total=  49.0s\n",
      "[CV] kmeans__n_clusters=68 ...........................................\n",
      "[CV] ............................ kmeans__n_clusters=68, total=  49.7s\n",
      "[CV] kmeans__n_clusters=68 ...........................................\n",
      "[CV] ............................ kmeans__n_clusters=68, total=  49.9s\n",
      "[CV] kmeans__n_clusters=68 ...........................................\n",
      "[CV] ............................ kmeans__n_clusters=68, total=  49.6s\n",
      "[CV] kmeans__n_clusters=69 ...........................................\n",
      "[CV] ............................ kmeans__n_clusters=69, total=  50.6s\n",
      "[CV] kmeans__n_clusters=69 ...........................................\n",
      "[CV] ............................ kmeans__n_clusters=69, total=  52.3s\n",
      "[CV] kmeans__n_clusters=69 ...........................................\n",
      "[CV] ............................ kmeans__n_clusters=69, total=  51.5s\n",
      "[CV] kmeans__n_clusters=70 ...........................................\n",
      "[CV] ............................ kmeans__n_clusters=70, total=  51.3s\n",
      "[CV] kmeans__n_clusters=70 ...........................................\n",
      "[CV] ............................ kmeans__n_clusters=70, total=  50.9s\n",
      "[CV] kmeans__n_clusters=70 ...........................................\n",
      "[CV] ............................ kmeans__n_clusters=70, total=  50.3s\n",
      "[CV] kmeans__n_clusters=71 ...........................................\n",
      "[CV] ............................ kmeans__n_clusters=71, total=  52.4s\n",
      "[CV] kmeans__n_clusters=71 ...........................................\n",
      "[CV] ............................ kmeans__n_clusters=71, total=  53.2s\n",
      "[CV] kmeans__n_clusters=71 ...........................................\n",
      "[CV] ............................ kmeans__n_clusters=71, total=  51.9s\n",
      "[CV] kmeans__n_clusters=72 ...........................................\n",
      "[CV] ............................ kmeans__n_clusters=72, total=  52.9s\n",
      "[CV] kmeans__n_clusters=72 ...........................................\n",
      "[CV] ............................ kmeans__n_clusters=72, total=  52.5s\n",
      "[CV] kmeans__n_clusters=72 ...........................................\n",
      "[CV] ............................ kmeans__n_clusters=72, total=  53.9s\n",
      "[CV] kmeans__n_clusters=73 ...........................................\n",
      "[CV] ............................ kmeans__n_clusters=73, total=  53.0s\n",
      "[CV] kmeans__n_clusters=73 ...........................................\n",
      "[CV] ............................ kmeans__n_clusters=73, total=  53.8s\n",
      "[CV] kmeans__n_clusters=73 ...........................................\n",
      "[CV] ............................ kmeans__n_clusters=73, total=  53.9s\n",
      "[CV] kmeans__n_clusters=74 ...........................................\n",
      "[CV] ............................ kmeans__n_clusters=74, total=  54.2s\n",
      "[CV] kmeans__n_clusters=74 ...........................................\n",
      "[CV] ............................ kmeans__n_clusters=74, total=  53.7s\n",
      "[CV] kmeans__n_clusters=74 ...........................................\n",
      "[CV] ............................ kmeans__n_clusters=74, total=  52.5s\n",
      "[CV] kmeans__n_clusters=75 ...........................................\n",
      "[CV] ............................ kmeans__n_clusters=75, total=  55.0s\n",
      "[CV] kmeans__n_clusters=75 ...........................................\n",
      "[CV] ............................ kmeans__n_clusters=75, total=  54.9s\n",
      "[CV] kmeans__n_clusters=75 ...........................................\n",
      "[CV] ............................ kmeans__n_clusters=75, total=  55.1s\n",
      "[CV] kmeans__n_clusters=76 ...........................................\n",
      "[CV] ............................ kmeans__n_clusters=76, total=  55.0s\n",
      "[CV] kmeans__n_clusters=76 ...........................................\n",
      "[CV] ............................ kmeans__n_clusters=76, total=  54.5s\n",
      "[CV] kmeans__n_clusters=76 ...........................................\n",
      "[CV] ............................ kmeans__n_clusters=76, total=  55.2s\n",
      "[CV] kmeans__n_clusters=77 ...........................................\n",
      "[CV] ............................ kmeans__n_clusters=77, total=  55.5s\n",
      "[CV] kmeans__n_clusters=77 ...........................................\n",
      "[CV] ............................ kmeans__n_clusters=77, total=  56.5s\n",
      "[CV] kmeans__n_clusters=77 ...........................................\n",
      "[CV] ............................ kmeans__n_clusters=77, total=  57.8s\n",
      "[CV] kmeans__n_clusters=78 ...........................................\n",
      "[CV] ............................ kmeans__n_clusters=78, total=  56.2s\n",
      "[CV] kmeans__n_clusters=78 ...........................................\n",
      "[CV] ............................ kmeans__n_clusters=78, total=  56.8s\n",
      "[CV] kmeans__n_clusters=78 ...........................................\n",
      "[CV] ............................ kmeans__n_clusters=78, total=  54.9s\n",
      "[CV] kmeans__n_clusters=79 ...........................................\n",
      "[CV] ............................ kmeans__n_clusters=79, total=  56.4s\n",
      "[CV] kmeans__n_clusters=79 ...........................................\n",
      "[CV] ............................ kmeans__n_clusters=79, total=  57.4s\n",
      "[CV] kmeans__n_clusters=79 ...........................................\n",
      "[CV] ............................ kmeans__n_clusters=79, total=  57.6s\n",
      "[CV] kmeans__n_clusters=80 ...........................................\n",
      "[CV] ............................ kmeans__n_clusters=80, total=  57.2s\n",
      "[CV] kmeans__n_clusters=80 ...........................................\n",
      "[CV] ............................ kmeans__n_clusters=80, total= 1.0min\n",
      "[CV] kmeans__n_clusters=80 ...........................................\n",
      "[CV] ............................ kmeans__n_clusters=80, total=  56.7s\n",
      "[CV] kmeans__n_clusters=81 ...........................................\n",
      "[CV] ............................ kmeans__n_clusters=81, total=  57.2s\n",
      "[CV] kmeans__n_clusters=81 ...........................................\n",
      "[CV] ............................ kmeans__n_clusters=81, total=  55.5s\n",
      "[CV] kmeans__n_clusters=81 ...........................................\n",
      "[CV] ............................ kmeans__n_clusters=81, total=  56.4s\n",
      "[CV] kmeans__n_clusters=82 ...........................................\n",
      "[CV] ............................ kmeans__n_clusters=82, total=  57.1s\n",
      "[CV] kmeans__n_clusters=82 ...........................................\n",
      "[CV] ............................ kmeans__n_clusters=82, total=  57.5s\n",
      "[CV] kmeans__n_clusters=82 ...........................................\n",
      "[CV] ............................ kmeans__n_clusters=82, total=  57.8s\n",
      "[CV] kmeans__n_clusters=83 ...........................................\n",
      "[CV] ............................ kmeans__n_clusters=83, total=  58.8s\n",
      "[CV] kmeans__n_clusters=83 ...........................................\n",
      "[CV] ............................ kmeans__n_clusters=83, total=  59.3s\n",
      "[CV] kmeans__n_clusters=83 ...........................................\n",
      "[CV] ............................ kmeans__n_clusters=83, total=  58.7s\n",
      "[CV] kmeans__n_clusters=84 ...........................................\n",
      "[CV] ............................ kmeans__n_clusters=84, total=  59.6s\n",
      "[CV] kmeans__n_clusters=84 ...........................................\n",
      "[CV] ............................ kmeans__n_clusters=84, total=  59.0s\n",
      "[CV] kmeans__n_clusters=84 ...........................................\n",
      "[CV] ............................ kmeans__n_clusters=84, total=  57.2s\n",
      "[CV] kmeans__n_clusters=85 ...........................................\n",
      "[CV] ............................ kmeans__n_clusters=85, total=  58.3s\n",
      "[CV] kmeans__n_clusters=85 ...........................................\n",
      "[CV] ............................ kmeans__n_clusters=85, total=  58.5s\n",
      "[CV] kmeans__n_clusters=85 ...........................................\n",
      "[CV] ............................ kmeans__n_clusters=85, total=  58.8s\n",
      "[CV] kmeans__n_clusters=86 ...........................................\n",
      "[CV] ............................ kmeans__n_clusters=86, total= 1.0min\n",
      "[CV] kmeans__n_clusters=86 ...........................................\n",
      "[CV] ............................ kmeans__n_clusters=86, total=  59.6s\n",
      "[CV] kmeans__n_clusters=86 ...........................................\n",
      "[CV] ............................ kmeans__n_clusters=86, total= 1.0min\n",
      "[CV] kmeans__n_clusters=87 ...........................................\n",
      "[CV] ............................ kmeans__n_clusters=87, total= 1.0min\n",
      "[CV] kmeans__n_clusters=87 ...........................................\n",
      "[CV] ............................ kmeans__n_clusters=87, total=  59.9s\n",
      "[CV] kmeans__n_clusters=87 ...........................................\n",
      "[CV] ............................ kmeans__n_clusters=87, total= 1.0min\n",
      "[CV] kmeans__n_clusters=88 ...........................................\n",
      "[CV] ............................ kmeans__n_clusters=88, total= 1.0min\n",
      "[CV] kmeans__n_clusters=88 ...........................................\n",
      "[CV] ............................ kmeans__n_clusters=88, total= 1.0min\n",
      "[CV] kmeans__n_clusters=88 ...........................................\n",
      "[CV] ............................ kmeans__n_clusters=88, total= 1.0min\n",
      "[CV] kmeans__n_clusters=89 ...........................................\n",
      "[CV] ............................ kmeans__n_clusters=89, total= 1.1min\n",
      "[CV] kmeans__n_clusters=89 ...........................................\n",
      "[CV] ............................ kmeans__n_clusters=89, total= 1.0min\n",
      "[CV] kmeans__n_clusters=89 ...........................................\n",
      "[CV] ............................ kmeans__n_clusters=89, total= 1.1min\n",
      "[CV] kmeans__n_clusters=90 ...........................................\n",
      "[CV] ............................ kmeans__n_clusters=90, total= 1.1min\n",
      "[CV] kmeans__n_clusters=90 ...........................................\n",
      "[CV] ............................ kmeans__n_clusters=90, total= 1.0min\n",
      "[CV] kmeans__n_clusters=90 ...........................................\n",
      "[CV] ............................ kmeans__n_clusters=90, total= 1.0min\n",
      "[CV] kmeans__n_clusters=91 ...........................................\n",
      "[CV] ............................ kmeans__n_clusters=91, total= 1.0min\n",
      "[CV] kmeans__n_clusters=91 ...........................................\n",
      "[CV] ............................ kmeans__n_clusters=91, total= 1.1min\n",
      "[CV] kmeans__n_clusters=91 ...........................................\n",
      "[CV] ............................ kmeans__n_clusters=91, total= 1.1min\n",
      "[CV] kmeans__n_clusters=92 ...........................................\n",
      "[CV] ............................ kmeans__n_clusters=92, total= 1.1min\n",
      "[CV] kmeans__n_clusters=92 ...........................................\n",
      "[CV] ............................ kmeans__n_clusters=92, total= 1.1min\n",
      "[CV] kmeans__n_clusters=92 ...........................................\n",
      "[CV] ............................ kmeans__n_clusters=92, total= 1.1min\n",
      "[CV] kmeans__n_clusters=93 ...........................................\n",
      "[CV] ............................ kmeans__n_clusters=93, total= 1.1min\n",
      "[CV] kmeans__n_clusters=93 ...........................................\n",
      "[CV] ............................ kmeans__n_clusters=93, total= 1.1min\n",
      "[CV] kmeans__n_clusters=93 ...........................................\n",
      "[CV] ............................ kmeans__n_clusters=93, total= 1.1min\n",
      "[CV] kmeans__n_clusters=94 ...........................................\n",
      "[CV] ............................ kmeans__n_clusters=94, total= 1.1min\n",
      "[CV] kmeans__n_clusters=94 ...........................................\n",
      "[CV] ............................ kmeans__n_clusters=94, total= 1.1min\n",
      "[CV] kmeans__n_clusters=94 ...........................................\n",
      "[CV] ............................ kmeans__n_clusters=94, total= 1.1min\n",
      "[CV] kmeans__n_clusters=95 ...........................................\n",
      "[CV] ............................ kmeans__n_clusters=95, total= 1.1min\n",
      "[CV] kmeans__n_clusters=95 ...........................................\n",
      "[CV] ............................ kmeans__n_clusters=95, total= 1.1min\n",
      "[CV] kmeans__n_clusters=95 ...........................................\n",
      "[CV] ............................ kmeans__n_clusters=95, total= 1.1min\n",
      "[CV] kmeans__n_clusters=96 ...........................................\n",
      "[CV] ............................ kmeans__n_clusters=96, total= 1.1min\n",
      "[CV] kmeans__n_clusters=96 ...........................................\n",
      "[CV] ............................ kmeans__n_clusters=96, total= 1.1min\n",
      "[CV] kmeans__n_clusters=96 ...........................................\n",
      "[CV] ............................ kmeans__n_clusters=96, total= 1.1min\n",
      "[CV] kmeans__n_clusters=97 ...........................................\n",
      "[CV] ............................ kmeans__n_clusters=97, total= 1.1min\n",
      "[CV] kmeans__n_clusters=97 ...........................................\n",
      "[CV] ............................ kmeans__n_clusters=97, total= 1.1min\n",
      "[CV] kmeans__n_clusters=97 ...........................................\n",
      "[CV] ............................ kmeans__n_clusters=97, total= 1.1min\n",
      "[CV] kmeans__n_clusters=98 ...........................................\n",
      "[CV] ............................ kmeans__n_clusters=98, total= 1.1min\n",
      "[CV] kmeans__n_clusters=98 ...........................................\n",
      "[CV] ............................ kmeans__n_clusters=98, total= 1.1min\n",
      "[CV] kmeans__n_clusters=98 ...........................................\n",
      "[CV] ............................ kmeans__n_clusters=98, total= 1.1min\n",
      "[CV] kmeans__n_clusters=99 ...........................................\n",
      "[CV] ............................ kmeans__n_clusters=99, total= 1.1min\n",
      "[CV] kmeans__n_clusters=99 ...........................................\n",
      "[CV] ............................ kmeans__n_clusters=99, total= 1.1min\n",
      "[CV] kmeans__n_clusters=99 ...........................................\n",
      "[CV] ............................ kmeans__n_clusters=99, total= 1.1min\n",
      "[Parallel(n_jobs=1)]: Done 294 out of 294 | elapsed: 210.4min finished\n"
     ]
    },
    {
     "output_type": "execute_result",
     "data": {
      "text/plain": [
       "GridSearchCV(cv=3,\n",
       "             estimator=Pipeline(steps=[('kmeans', KMeans(n_clusters=50)),\n",
       "                                       ('log_reg', LogisticRegression())]),\n",
       "             param_grid={'kmeans__n_clusters': range(2, 100)}, verbose=2)"
      ]
     },
     "metadata": {},
     "execution_count": 165
    }
   ],
   "source": [
    "from sklearn.pipeline import Pipeline\n",
    "from sklearn.model_selection import GridSearchCV\n",
    "\n",
    "pipeline = Pipeline([\n",
    "    ('kmeans', KMeans(n_clusters=92)),\n",
    "    ('log_reg', LogisticRegression()),\n",
    "])\n",
    "pipeline.fit(X_train, y_train)\n",
    "\n",
    "param_grid = dict(kmeans__n_clusters=range(2,100))\n",
    "grid_clf = GridSearchCV(pipeline, param_grid, cv=3, verbose=2)\n",
    "grid_clf.fit(X_train, y_train)"
   ]
  },
  {
   "cell_type": "code",
   "execution_count": 168,
   "metadata": {},
   "outputs": [
    {
     "output_type": "execute_result",
     "data": {
      "text/plain": [
       "Pipeline(steps=[('kmeans', KMeans(n_clusters=92)),\n",
       "                ('log_reg', LogisticRegression())])"
      ]
     },
     "metadata": {},
     "execution_count": 168
    }
   ],
   "source": [
    "from sklearn.pipeline import Pipeline\n",
    "from sklearn.model_selection import GridSearchCV\n",
    "\n",
    "pipeline = Pipeline([\n",
    "    ('kmeans', KMeans(n_clusters=92)),\n",
    "    ('log_reg', LogisticRegression()),\n",
    "])\n",
    "pipeline.fit(X_train, y_train)"
   ]
  },
  {
   "cell_type": "code",
   "execution_count": 169,
   "metadata": {},
   "outputs": [
    {
     "output_type": "execute_result",
     "data": {
      "text/plain": [
       "0.8679761904761905"
      ]
     },
     "metadata": {},
     "execution_count": 169
    }
   ],
   "source": [
    "pipeline.score(X_test, y_test)"
   ]
  },
  {
   "cell_type": "code",
   "execution_count": 167,
   "metadata": {},
   "outputs": [
    {
     "output_type": "execute_result",
     "data": {
      "text/plain": [
       "{'kmeans__n_clusters': 92}"
      ]
     },
     "metadata": {},
     "execution_count": 167
    }
   ],
   "source": [
    "grid_clf.best_params_"
   ]
  },
  {
   "cell_type": "code",
   "execution_count": 170,
   "metadata": {},
   "outputs": [
    {
     "output_type": "execute_result",
     "data": {
      "text/plain": [
       "0.866547619047619"
      ]
     },
     "metadata": {},
     "execution_count": 170
    }
   ],
   "source": [
    "grid_clf.score(X_test, y_test)"
   ]
  },
  {
   "cell_type": "code",
   "execution_count": null,
   "metadata": {},
   "outputs": [],
   "source": []
  }
 ],
 "metadata": {
  "kernelspec": {
   "display_name": "Python 3",
   "language": "python",
   "name": "python3"
  },
  "language_info": {
   "codemirror_mode": {
    "name": "ipython",
    "version": 3
   },
   "file_extension": ".py",
   "mimetype": "text/x-python",
   "name": "python",
   "nbconvert_exporter": "python",
   "pygments_lexer": "ipython3",
   "version": "3.8.3-final"
  }
 },
 "nbformat": 4,
 "nbformat_minor": 2
}