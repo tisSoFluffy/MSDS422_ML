{
 "cells": [
  {
   "cell_type": "code",
   "execution_count": 1,
   "metadata": {},
   "outputs": [],
   "source": [
    "import numpy as np\n",
    "import pandas as pd\n",
    "import tensorflow as tf\n",
    "from tensorflow import keras\n",
    "import matplotlib.image as mpimg\n"
   ]
  },
  {
   "cell_type": "markdown",
   "metadata": {},
   "source": [
    "### Let's start by processing the colored cats & dog data "
   ]
  },
  {
   "cell_type": "code",
   "execution_count": 2,
   "metadata": {},
   "outputs": [],
   "source": [
    "cats_3 = np.load('cats_1000_64_64_3.npy')"
   ]
  },
  {
   "cell_type": "code",
   "execution_count": 3,
   "metadata": {},
   "outputs": [],
   "source": [
    "dogs_3 = np.load('dogs_1000_64_64_3.npy')"
   ]
  },
  {
   "cell_type": "code",
   "execution_count": 4,
   "metadata": {},
   "outputs": [
    {
     "data": {
      "text/plain": [
       "(1000, 64, 64, 3)"
      ]
     },
     "execution_count": 4,
     "metadata": {},
     "output_type": "execute_result"
    }
   ],
   "source": [
    "cats_3.shape # investigate the shape"
   ]
  },
  {
   "cell_type": "code",
   "execution_count": 5,
   "metadata": {},
   "outputs": [
    {
     "data": {
      "text/plain": [
       "(1000, 64, 64, 3)"
      ]
     },
     "execution_count": 5,
     "metadata": {},
     "output_type": "execute_result"
    }
   ],
   "source": [
    "dogs_3.shape # investigate the shape"
   ]
  },
  {
   "cell_type": "code",
   "execution_count": 6,
   "metadata": {},
   "outputs": [
    {
     "data": {
      "text/plain": [
       "(dtype('float64'), dtype('float64'))"
      ]
     },
     "execution_count": 6,
     "metadata": {},
     "output_type": "execute_result"
    }
   ],
   "source": [
    "cats_3.dtype, dogs_3.dtype # look at dtype"
   ]
  },
  {
   "cell_type": "code",
   "execution_count": 7,
   "metadata": {},
   "outputs": [],
   "source": [
    "dogs_3_y= np.repeat(1,1000) # Let's create training labels for dogs "
   ]
  },
  {
   "cell_type": "code",
   "execution_count": 8,
   "metadata": {},
   "outputs": [],
   "source": [
    "cats_3_y = np.repeat(0,1000) # Let's create training labels for cats"
   ]
  },
  {
   "cell_type": "code",
   "execution_count": 9,
   "metadata": {},
   "outputs": [
    {
     "data": {
      "text/plain": [
       "array([1, 1, 1, ..., 0, 0, 0])"
      ]
     },
     "execution_count": 9,
     "metadata": {},
     "output_type": "execute_result"
    }
   ],
   "source": [
    "# create labels 1=dog, 0=cat\n",
    "# combine into one array for training labels\n",
    "y_train_3 = np.concatenate((dogs_3_y, cats_3_y),axis=0)\n",
    "y_train_3"
   ]
  },
  {
   "cell_type": "code",
   "execution_count": 10,
   "metadata": {},
   "outputs": [
    {
     "data": {
      "text/plain": [
       "array([[[[115., 113., 126.],\n",
       "         [144., 143., 151.],\n",
       "         [160., 161., 165.],\n",
       "         ...,\n",
       "         [152., 154., 166.],\n",
       "         [139., 141., 153.],\n",
       "         [134., 136., 146.]],\n",
       "\n",
       "        [[120., 118., 131.],\n",
       "         [146., 145., 153.],\n",
       "         [159., 160., 165.],\n",
       "         ...,\n",
       "         [154., 156., 168.],\n",
       "         [148., 150., 162.],\n",
       "         [139., 142., 152.]],\n",
       "\n",
       "        [[125., 123., 136.],\n",
       "         [146., 145., 153.],\n",
       "         [165., 166., 171.],\n",
       "         ...,\n",
       "         [158., 160., 172.],\n",
       "         [148., 150., 162.],\n",
       "         [144., 147., 157.]],\n",
       "\n",
       "        ...,\n",
       "\n",
       "        [[147., 139., 208.],\n",
       "         [104.,  85., 122.],\n",
       "         [104.,  97., 113.],\n",
       "         ...,\n",
       "         [ 79.,  88.,  91.],\n",
       "         [ 68.,  78.,  80.],\n",
       "         [ 63.,  73.,  75.]],\n",
       "\n",
       "        [[ 74.,  78.,  91.],\n",
       "         [ 78.,  85.,  88.],\n",
       "         [ 71.,  81.,  79.],\n",
       "         ...,\n",
       "         [ 64.,  72.,  75.],\n",
       "         [ 66.,  76.,  78.],\n",
       "         [ 59.,  68.,  71.]],\n",
       "\n",
       "        [[ 72.,  78.,  82.],\n",
       "         [ 66.,  77.,  79.],\n",
       "         [ 75.,  86.,  89.],\n",
       "         ...,\n",
       "         [ 69.,  79.,  81.],\n",
       "         [ 67.,  76.,  81.],\n",
       "         [ 79.,  88.,  93.]]],\n",
       "\n",
       "\n",
       "       [[[136., 103.,  74.],\n",
       "         [158., 112.,  72.],\n",
       "         [136.,  92.,  54.],\n",
       "         ...,\n",
       "         [126.,  84.,  53.],\n",
       "         [ 92.,  58.,  32.],\n",
       "         [ 84.,  53.,  28.]],\n",
       "\n",
       "        [[ 80.,  56.,  37.],\n",
       "         [130.,  82.,  40.],\n",
       "         [119.,  85.,  55.],\n",
       "         ...,\n",
       "         [129., 108.,  76.],\n",
       "         [ 97.,  81.,  51.],\n",
       "         [ 99.,  78.,  49.]],\n",
       "\n",
       "        [[ 94.,  79.,  50.],\n",
       "         [121.,  84.,  30.],\n",
       "         [120.,  86.,  46.],\n",
       "         ...,\n",
       "         [100.,  89.,  60.],\n",
       "         [ 95.,  87.,  65.],\n",
       "         [ 85.,  69.,  36.]],\n",
       "\n",
       "        ...,\n",
       "\n",
       "        [[248., 248., 238.],\n",
       "         [247., 250., 228.],\n",
       "         [251., 253., 235.],\n",
       "         ...,\n",
       "         [240., 237., 220.],\n",
       "         [235., 232., 213.],\n",
       "         [235., 233., 210.]],\n",
       "\n",
       "        [[248., 248., 236.],\n",
       "         [245., 247., 225.],\n",
       "         [244., 245., 227.],\n",
       "         ...,\n",
       "         [237., 235., 215.],\n",
       "         [224., 221., 198.],\n",
       "         [231., 229., 208.]],\n",
       "\n",
       "        [[247., 244., 231.],\n",
       "         [242., 241., 215.],\n",
       "         [248., 246., 225.],\n",
       "         ...,\n",
       "         [244., 241., 222.],\n",
       "         [242., 241., 220.],\n",
       "         [234., 236., 214.]]],\n",
       "\n",
       "\n",
       "       [[[199., 174., 143.],\n",
       "         [165., 161., 153.],\n",
       "         [147., 168., 189.],\n",
       "         ...,\n",
       "         [192., 173., 140.],\n",
       "         [167., 147., 112.],\n",
       "         [182., 163., 121.]],\n",
       "\n",
       "        [[162., 138., 102.],\n",
       "         [133., 130., 117.],\n",
       "         [158., 179., 195.],\n",
       "         ...,\n",
       "         [192., 174., 136.],\n",
       "         [191., 173., 135.],\n",
       "         [182., 164., 124.]],\n",
       "\n",
       "        [[155., 131.,  93.],\n",
       "         [127., 125., 108.],\n",
       "         [165., 187., 198.],\n",
       "         ...,\n",
       "         [188., 169., 129.],\n",
       "         [187., 170., 132.],\n",
       "         [154., 139., 103.]],\n",
       "\n",
       "        ...,\n",
       "\n",
       "        [[178., 171., 165.],\n",
       "         [176., 169., 163.],\n",
       "         [179., 172., 166.],\n",
       "         ...,\n",
       "         [204., 203., 191.],\n",
       "         [199., 192., 183.],\n",
       "         [197., 190., 179.]],\n",
       "\n",
       "        [[177., 170., 164.],\n",
       "         [178., 171., 165.],\n",
       "         [183., 177., 171.],\n",
       "         ...,\n",
       "         [208., 204., 198.],\n",
       "         [212., 207., 201.],\n",
       "         [212., 207., 201.]],\n",
       "\n",
       "        [[185., 178., 172.],\n",
       "         [182., 175., 169.],\n",
       "         [178., 171., 165.],\n",
       "         ...,\n",
       "         [210., 205., 199.],\n",
       "         [215., 210., 204.],\n",
       "         [221., 216., 210.]]],\n",
       "\n",
       "\n",
       "       ...,\n",
       "\n",
       "\n",
       "       [[[196., 183., 177.],\n",
       "         [113.,  99.,  88.],\n",
       "         [188., 167., 164.],\n",
       "         ...,\n",
       "         [121., 104.,  94.],\n",
       "         [115., 105.,  96.],\n",
       "         [ 88.,  80.,  72.]],\n",
       "\n",
       "        [[154., 150., 134.],\n",
       "         [135., 114., 100.],\n",
       "         [179., 162., 155.],\n",
       "         ...,\n",
       "         [105.,  91.,  80.],\n",
       "         [112., 101.,  92.],\n",
       "         [ 98.,  95.,  86.]],\n",
       "\n",
       "        [[107.,  95.,  88.],\n",
       "         [131., 116., 103.],\n",
       "         [ 19.,   7.,   4.],\n",
       "         ...,\n",
       "         [ 70.,  56.,  45.],\n",
       "         [124., 114., 105.],\n",
       "         [ 58.,  45.,  39.]],\n",
       "\n",
       "        ...,\n",
       "\n",
       "        [[ 96.,  83.,  78.],\n",
       "         [170., 155., 155.],\n",
       "         [ 87.,  89.,  84.],\n",
       "         ...,\n",
       "         [ 86.,  81.,  87.],\n",
       "         [140., 135., 139.],\n",
       "         [ 95.,  94.,  96.]],\n",
       "\n",
       "        [[ 98.,  95.,  86.],\n",
       "         [119., 116., 111.],\n",
       "         [210., 209., 205.],\n",
       "         ...,\n",
       "         [175., 175., 177.],\n",
       "         [122., 122., 124.],\n",
       "         [ 88.,  88.,  89.]],\n",
       "\n",
       "        [[195., 187., 179.],\n",
       "         [192., 183., 181.],\n",
       "         [180., 175., 172.],\n",
       "         ...,\n",
       "         [136., 142., 140.],\n",
       "         [129., 133., 134.],\n",
       "         [105., 106., 107.]]],\n",
       "\n",
       "\n",
       "       [[[237., 230., 238.],\n",
       "         [236., 229., 237.],\n",
       "         [238., 232., 240.],\n",
       "         ...,\n",
       "         [237., 230., 238.],\n",
       "         [237., 230., 238.],\n",
       "         [239., 233., 237.]],\n",
       "\n",
       "        [[236., 229., 237.],\n",
       "         [231., 224., 232.],\n",
       "         [239., 232., 240.],\n",
       "         ...,\n",
       "         [241., 234., 242.],\n",
       "         [236., 229., 237.],\n",
       "         [237., 231., 235.]],\n",
       "\n",
       "        [[237., 230., 238.],\n",
       "         [237., 230., 238.],\n",
       "         [237., 230., 238.],\n",
       "         ...,\n",
       "         [236., 229., 237.],\n",
       "         [236., 229., 237.],\n",
       "         [238., 231., 239.]],\n",
       "\n",
       "        ...,\n",
       "\n",
       "        [[234., 223., 217.],\n",
       "         [230., 219., 213.],\n",
       "         [232., 221., 215.],\n",
       "         ...,\n",
       "         [237., 230., 222.],\n",
       "         [236., 229., 221.],\n",
       "         [237., 230., 222.]],\n",
       "\n",
       "        [[236., 225., 219.],\n",
       "         [236., 225., 219.],\n",
       "         [234., 223., 217.],\n",
       "         ...,\n",
       "         [235., 228., 220.],\n",
       "         [237., 230., 222.],\n",
       "         [238., 231., 223.]],\n",
       "\n",
       "        [[237., 226., 223.],\n",
       "         [235., 224., 221.],\n",
       "         [236., 225., 222.],\n",
       "         ...,\n",
       "         [238., 231., 223.],\n",
       "         [241., 234., 226.],\n",
       "         [236., 229., 221.]]],\n",
       "\n",
       "\n",
       "       [[[203., 139., 111.],\n",
       "         [215., 144., 114.],\n",
       "         [216., 149., 124.],\n",
       "         ...,\n",
       "         [ 85.,  69.,  62.],\n",
       "         [ 81.,  68.,  62.],\n",
       "         [ 78.,  65.,  59.]],\n",
       "\n",
       "        [[206., 145., 119.],\n",
       "         [212., 145., 116.],\n",
       "         [212., 146., 125.],\n",
       "         ...,\n",
       "         [ 89.,  72.,  65.],\n",
       "         [ 86.,  71.,  66.],\n",
       "         [ 82.,  67.,  62.]],\n",
       "\n",
       "        [[199., 141., 118.],\n",
       "         [211., 145., 119.],\n",
       "         [208., 145., 127.],\n",
       "         ...,\n",
       "         [ 90.,  73.,  66.],\n",
       "         [ 91.,  72.,  68.],\n",
       "         [ 92.,  73.,  69.]],\n",
       "\n",
       "        ...,\n",
       "\n",
       "        [[183., 186., 185.],\n",
       "         [149., 150., 151.],\n",
       "         [ 59.,  59.,  57.],\n",
       "         ...,\n",
       "         [186., 178., 180.],\n",
       "         [190., 168., 164.],\n",
       "         [175., 146., 138.]],\n",
       "\n",
       "        [[186., 187., 186.],\n",
       "         [159., 161., 160.],\n",
       "         [ 70.,  72.,  71.],\n",
       "         ...,\n",
       "         [185., 178., 185.],\n",
       "         [168., 146., 144.],\n",
       "         [162., 133., 126.]],\n",
       "\n",
       "        [[179., 181., 181.],\n",
       "         [153., 154., 153.],\n",
       "         [ 81.,  84.,  82.],\n",
       "         ...,\n",
       "         [182., 176., 183.],\n",
       "         [166., 146., 148.],\n",
       "         [151., 124., 120.]]]])"
      ]
     },
     "execution_count": 10,
     "metadata": {},
     "output_type": "execute_result"
    }
   ],
   "source": [
    "# combine dogs & cats for training \n",
    "x_train_3 = np.concatenate((dogs_3,cats_3),axis=0)\n",
    "x_train_3"
   ]
  },
  {
   "cell_type": "code",
   "execution_count": 11,
   "metadata": {},
   "outputs": [],
   "source": [
    "# create class names\n",
    "class_names= ['cats','dogs']"
   ]
  },
  {
   "cell_type": "markdown",
   "metadata": {},
   "source": [
    "### Next let's create our gray scale data"
   ]
  },
  {
   "cell_type": "code",
   "execution_count": 12,
   "metadata": {},
   "outputs": [],
   "source": [
    "\n",
    "cats_1 = np.load('cats_1000_64_64_1.npy')\n",
    "dogs_1 = np.load('dogs_1000_64_64_1.npy')"
   ]
  },
  {
   "cell_type": "code",
   "execution_count": 13,
   "metadata": {},
   "outputs": [
    {
     "data": {
      "text/plain": [
       "(1000, 64, 64, 1)"
      ]
     },
     "execution_count": 13,
     "metadata": {},
     "output_type": "execute_result"
    }
   ],
   "source": [
    "cats_1.shape\n"
   ]
  },
  {
   "cell_type": "code",
   "execution_count": 14,
   "metadata": {},
   "outputs": [
    {
     "data": {
      "text/plain": [
       "(1000, 64, 64, 1)"
      ]
     },
     "execution_count": 14,
     "metadata": {},
     "output_type": "execute_result"
    }
   ],
   "source": [
    "dogs_1.shape"
   ]
  },
  {
   "cell_type": "code",
   "execution_count": 15,
   "metadata": {},
   "outputs": [
    {
     "data": {
      "text/plain": [
       "(dtype('float64'), dtype('float64'))"
      ]
     },
     "execution_count": 15,
     "metadata": {},
     "output_type": "execute_result"
    }
   ],
   "source": [
    "cats_1.dtype, dogs_1.dtype"
   ]
  },
  {
   "cell_type": "code",
   "execution_count": 16,
   "metadata": {},
   "outputs": [],
   "source": [
    "dogs_1_y = np.repeat(1,1000)"
   ]
  },
  {
   "cell_type": "code",
   "execution_count": 17,
   "metadata": {},
   "outputs": [],
   "source": [
    "cats_1_y= np.repeat(0,1000)"
   ]
  },
  {
   "cell_type": "code",
   "execution_count": 18,
   "metadata": {},
   "outputs": [],
   "source": [
    "y_train_1 = np.concatenate((dogs_1_y, cats_1_y),axis=0)"
   ]
  },
  {
   "cell_type": "code",
   "execution_count": 19,
   "metadata": {},
   "outputs": [],
   "source": [
    "x_train_1 = np.concatenate((dogs_1,cats_1),axis=0)"
   ]
  },
  {
   "cell_type": "markdown",
   "metadata": {},
   "source": [
    "### create train, validate & test set"
   ]
  },
  {
   "cell_type": "code",
   "execution_count": 20,
   "metadata": {},
   "outputs": [],
   "source": [
    "# create train, validate & test set\n",
    "from sklearn.model_selection import train_test_split"
   ]
  },
  {
   "cell_type": "code",
   "execution_count": 21,
   "metadata": {},
   "outputs": [],
   "source": [
    "# initial test train split for 3 colors\n",
    "x_train_3, x_test_3, y_train_3, y_test_3 = train_test_split(x_train_3, y_train_3, test_size=.30, random_state=55)"
   ]
  },
  {
   "cell_type": "code",
   "execution_count": 22,
   "metadata": {},
   "outputs": [],
   "source": [
    "# train vs validation set\n",
    "X_train_3, x_valid_3, y_train_3, y_valid_3 = train_test_split(x_train_3,y_train_3, test_size=.20, random_state=55)"
   ]
  },
  {
   "cell_type": "code",
   "execution_count": 23,
   "metadata": {},
   "outputs": [
    {
     "data": {
      "text/plain": [
       "(1120, 64, 64, 3)"
      ]
     },
     "execution_count": 23,
     "metadata": {},
     "output_type": "execute_result"
    }
   ],
   "source": [
    "X_train_3.shape"
   ]
  },
  {
   "cell_type": "code",
   "execution_count": 24,
   "metadata": {},
   "outputs": [],
   "source": [
    "x_train_1, x_test_1, y_train_1, y_test_1 = train_test_split(x_train_1, y_train_1, test_size=.30, random_state=55)"
   ]
  },
  {
   "cell_type": "code",
   "execution_count": 25,
   "metadata": {},
   "outputs": [],
   "source": [
    "X_train_1, x_valid_1, y_train_1, y_valid_1 = train_test_split(x_train_1,y_train_1, test_size=.20, random_state=55)"
   ]
  },
  {
   "cell_type": "code",
   "execution_count": 26,
   "metadata": {},
   "outputs": [],
   "source": [
    "#### Let's start building the models "
   ]
  },
  {
   "cell_type": "code",
   "execution_count": 27,
   "metadata": {},
   "outputs": [],
   "source": [
    "model = keras.models.Sequential([\n",
    "    keras.layers.Conv2D(filters= 64, kernel_size=3,strides=1, activation='relu', padding='same',\n",
    "                       input_shape=[64,64,3]),\n",
    "    keras.layers.BatchNormalization(),\n",
    "    keras.layers.Activation('relu'),\n",
    "    keras.layers.MaxPooling2D(pool_size=2, strides=2),\n",
    "    keras.layers.Conv2D(128,3, activation='relu',padding='same'),\n",
    "    keras.layers.Conv2D(128,3, activation='relu',padding='same'),\n",
    "    keras.layers.MaxPooling2D(pool_size=2, strides=2),\n",
    "    keras.layers.Conv2D(256,3, activation='relu',padding='same'),\n",
    "    keras.layers.Conv2D(256,3, activation='relu',padding='same'),\n",
    "    keras.layers.MaxPooling2D(pool_size=2, strides=2),\n",
    "    keras.layers.Flatten(),\n",
    "    keras.layers.BatchNormalization(),\n",
    "    keras.layers.Dense(1000, activation='relu'),\n",
    "    keras.layers.Dropout(0.5),\n",
    "    keras.layers.BatchNormalization(),\n",
    "    keras.layers.Dense(100, activation='relu'),\n",
    "    keras.layers.Dropout(0.5),\n",
    "    keras.layers.BatchNormalization(),\n",
    "    keras.layers.Dense(10, activation='softmax')\n",
    "])"
   ]
  },
  {
   "cell_type": "code",
   "execution_count": 28,
   "metadata": {},
   "outputs": [
    {
     "name": "stdout",
     "output_type": "stream",
     "text": [
      "Epoch 1/5\n",
      "35/35 [==============================] - 61s 2s/step - loss: 2.6378 - accuracy: 0.2429 - val_loss: 83.4646 - val_accuracy: 0.4464\n",
      "Epoch 2/5\n",
      "35/35 [==============================] - 63s 2s/step - loss: 2.0496 - accuracy: 0.4634 - val_loss: 4.2185 - val_accuracy: 0.4143\n",
      "Epoch 3/5\n",
      "35/35 [==============================] - 59s 2s/step - loss: 1.7354 - accuracy: 0.5348 - val_loss: 24.0028 - val_accuracy: 0.4071\n",
      "Epoch 4/5\n",
      "35/35 [==============================] - 62s 2s/step - loss: 1.4512 - accuracy: 0.6143 - val_loss: 1.8083 - val_accuracy: 0.6250\n",
      "Epoch 5/5\n",
      "35/35 [==============================] - 58s 2s/step - loss: 1.2251 - accuracy: 0.6536 - val_loss: 1.9176 - val_accuracy: 0.6214\n",
      "19/19 [==============================] - 6s 305ms/step - loss: 1.7331 - accuracy: 0.6033\n"
     ]
    }
   ],
   "source": [
    "model.compile(loss=\"sparse_categorical_crossentropy\", optimizer=\"nadam\", metrics=[\"accuracy\"])\n",
    "history = model.fit(X_train_3, y_train_3, epochs=5, validation_data=(x_valid_3, y_valid_3))\n",
    "score = model.evaluate(x_test_3, y_test_3)"
   ]
  },
  {
   "cell_type": "code",
   "execution_count": 29,
   "metadata": {},
   "outputs": [],
   "source": [
    "model = keras.models.Sequential([\n",
    "    keras.layers.Conv2D(filters= 64, kernel_size=3,strides=1, activation='relu', padding='same',\n",
    "                       input_shape=[64,64,3]),\n",
    "    keras.layers.BatchNormalization(),\n",
    "    keras.layers.Activation('relu'),\n",
    "    keras.layers.MaxPooling2D(pool_size=2, strides=2),\n",
    "    keras.layers.Conv2D(128,3, activation='relu',padding='same'),\n",
    "    keras.layers.Conv2D(128,3, activation='relu',padding='same'),\n",
    "    keras.layers.MaxPooling2D(pool_size=2, strides=2),\n",
    "    keras.layers.Conv2D(256,3, activation='relu',padding='same'),\n",
    "    keras.layers.Conv2D(256,3, activation='relu',padding='same'),\n",
    "    keras.layers.MaxPooling2D(pool_size=2, strides=2),\n",
    "    keras.layers.Flatten(),\n",
    "    keras.layers.BatchNormalization(),\n",
    "    keras.layers.Dense(300, activation='relu'),\n",
    "    keras.layers.Dropout(0.5),\n",
    "    keras.layers.BatchNormalization(),\n",
    "    keras.layers.Dense(100, activation='relu'),\n",
    "    keras.layers.Dropout(0.5),\n",
    "    keras.layers.BatchNormalization(),\n",
    "    keras.layers.Dense(10, activation='softmax')\n",
    "])"
   ]
  },
  {
   "cell_type": "code",
   "execution_count": 30,
   "metadata": {},
   "outputs": [
    {
     "name": "stdout",
     "output_type": "stream",
     "text": [
      "Epoch 1/5\n",
      "35/35 [==============================] - 49s 1s/step - loss: 1.7281 - accuracy: 0.3964 - val_loss: 56.5172 - val_accuracy: 0.2107\n",
      "Epoch 2/5\n",
      "35/35 [==============================] - 47s 1s/step - loss: 0.8113 - accuracy: 0.5312 - val_loss: 2.0279 - val_accuracy: 0.5536\n",
      "Epoch 3/5\n",
      "35/35 [==============================] - 68s 2s/step - loss: 0.7529 - accuracy: 0.5402 - val_loss: 1.1253 - val_accuracy: 0.5250\n",
      "Epoch 4/5\n",
      "35/35 [==============================] - 61s 2s/step - loss: 0.7426 - accuracy: 0.5063 - val_loss: 0.8749 - val_accuracy: 0.5571\n",
      "Epoch 5/5\n",
      "35/35 [==============================] - 52s 1s/step - loss: 0.7189 - accuracy: 0.5625 - val_loss: 0.7104 - val_accuracy: 0.5321\n",
      "19/19 [==============================] - 6s 304ms/step - loss: 0.7276 - accuracy: 0.5267\n"
     ]
    }
   ],
   "source": [
    "optimizer = keras.optimizers.SGD(lr=.02, momentum=0.9, decay=0.01)\n",
    "model.compile(loss=\"sparse_categorical_crossentropy\", optimizer=optimizer, metrics=[\"accuracy\"])\n",
    "history = model.fit(X_train_3, y_train_3, epochs=5, validation_data=(x_valid_3, y_valid_3))\n",
    "score = model.evaluate(x_test_3, y_test_3)"
   ]
  },
  {
   "cell_type": "code",
   "execution_count": 31,
   "metadata": {},
   "outputs": [],
   "source": [
    "model = keras.models.Sequential([\n",
    "    keras.layers.Conv2D(filters= 64, kernel_size=3,strides=1, activation='relu', padding='same',\n",
    "                       input_shape=[64,64,1]),\n",
    "    keras.layers.BatchNormalization(),\n",
    "    keras.layers.Activation('relu'),\n",
    "    keras.layers.MaxPooling2D(pool_size=2, strides=2),\n",
    "    keras.layers.Conv2D(128,3, activation='relu',padding='same'),\n",
    "    keras.layers.Conv2D(128,3, activation='relu',padding='same'),\n",
    "    keras.layers.MaxPooling2D(pool_size=2, strides=2),\n",
    "    keras.layers.Conv2D(256,3, activation='relu',padding='same'),\n",
    "    keras.layers.Conv2D(256,3, activation='relu',padding='same'),\n",
    "    keras.layers.MaxPooling2D(pool_size=2, strides=2),\n",
    "    keras.layers.Flatten(),\n",
    "    keras.layers.BatchNormalization(),\n",
    "    keras.layers.Dense(1000, activation='relu'),\n",
    "    keras.layers.Dropout(0.5),\n",
    "    keras.layers.BatchNormalization(),\n",
    "    keras.layers.Dense(100, activation='relu'),\n",
    "    keras.layers.Dropout(0.5),\n",
    "    keras.layers.BatchNormalization(),\n",
    "    keras.layers.Dense(10, activation='softmax')\n",
    "])"
   ]
  },
  {
   "cell_type": "code",
   "execution_count": null,
   "metadata": {},
   "outputs": [
    {
     "name": "stdout",
     "output_type": "stream",
     "text": [
      "Epoch 1/5\n",
      "35/35 [==============================] - 73s 2s/step - loss: 2.6072 - accuracy: 0.2375 - val_loss: 13.7774 - val_accuracy: 0.4071\n",
      "Epoch 2/5\n",
      "35/35 [==============================] - 62s 2s/step - loss: 2.1731 - accuracy: 0.3884 - val_loss: 2.5570 - val_accuracy: 0.4821\n",
      "Epoch 3/5\n",
      "35/35 [==============================] - 66s 2s/step - loss: 1.7191 - accuracy: 0.5500 - val_loss: 6.5051 - val_accuracy: 0.5536\n",
      "Epoch 4/5\n",
      "35/35 [==============================] - 61s 2s/step - loss: 1.4820 - accuracy: 0.6330 - val_loss: 2.4853 - val_accuracy: 0.5857\n",
      "Epoch 5/5\n",
      "23/35 [==================>...........] - ETA: 19s - loss: 1.1803 - accuracy: 0.6739"
     ]
    }
   ],
   "source": [
    "model.compile(loss=\"sparse_categorical_crossentropy\", optimizer=\"nadam\", metrics=[\"accuracy\"])\n",
    "history = model.fit(X_train_1, y_train_1, epochs=5, validation_data=(x_valid_1, y_valid_1))\n",
    "score = model.evaluate(x_test_1, y_test_1)"
   ]
  }
 ],
 "metadata": {
  "kernelspec": {
   "display_name": "Python 3",
   "language": "python",
   "name": "python3"
  },
  "language_info": {
   "codemirror_mode": {
    "name": "ipython",
    "version": 3
   },
   "file_extension": ".py",
   "mimetype": "text/x-python",
   "name": "python",
   "nbconvert_exporter": "python",
   "pygments_lexer": "ipython3",
   "version": "3.8.3"
  }
 },
 "nbformat": 4,
 "nbformat_minor": 4
}
