{
 "cells": [
  {
   "cell_type": "code",
   "execution_count": 2,
   "metadata": {},
   "outputs": [],
   "source": [
    "import pandas as pd\n",
    "import numpy as np\n",
    "import tensorflow as tf\n",
    "from tensorflow import keras\n",
    "from tensorflow.keras.layers import Dense, Flatten\n",
    "import pydot"
   ]
  },
  {
   "cell_type": "code",
   "execution_count": 7,
   "metadata": {},
   "outputs": [],
   "source": [
    "#Importing the Data\n",
    "digit_data = pd.read_csv('train.csv')\n",
    "X_test = pd.read_csv('test.csv')"
   ]
  },
  {
   "cell_type": "code",
   "execution_count": 74,
   "metadata": {},
   "outputs": [
    {
     "output_type": "execute_result",
     "data": {
      "text/plain": [
       "array([[1, 0, 0, ..., 0, 0, 0],\n",
       "       [0, 0, 0, ..., 0, 0, 0],\n",
       "       [1, 0, 0, ..., 0, 0, 0],\n",
       "       ...,\n",
       "       [7, 0, 0, ..., 0, 0, 0],\n",
       "       [6, 0, 0, ..., 0, 0, 0],\n",
       "       [9, 0, 0, ..., 0, 0, 0]], dtype=int64)"
      ]
     },
     "metadata": {},
     "execution_count": 74
    }
   ],
   "source": [
    "digit_data.values"
   ]
  },
  {
   "cell_type": "code",
   "execution_count": 75,
   "metadata": {},
   "outputs": [],
   "source": [
    "X_train = digit_data.drop('label', axis=1) /255.0\n",
    "y_train = digit_data['label']"
   ]
  },
  {
   "cell_type": "code",
   "execution_count": 76,
   "metadata": {},
   "outputs": [
    {
     "output_type": "execute_result",
     "data": {
      "text/plain": [
       "(42000, 784)"
      ]
     },
     "metadata": {},
     "execution_count": 76
    }
   ],
   "source": [
    "X_train.shape"
   ]
  },
  {
   "cell_type": "code",
   "execution_count": 77,
   "metadata": {},
   "outputs": [],
   "source": [
    "class_names = [0,1,2,3,4,5,6,7,8,9]"
   ]
  },
  {
   "cell_type": "code",
   "execution_count": 78,
   "metadata": {},
   "outputs": [
    {
     "output_type": "execute_result",
     "data": {
      "text/plain": [
       "8"
      ]
     },
     "metadata": {},
     "execution_count": 78
    }
   ],
   "source": [
    "class_names[y_train[10]]"
   ]
  },
  {
   "cell_type": "code",
   "execution_count": 79,
   "metadata": {},
   "outputs": [],
   "source": [
    "model = keras.models.Sequential([\n",
    "    Flatten(input_shape=[784]),\n",
    "    Dense(300,activation='relu'),\n",
    "    Dense(100,activation='relu'),\n",
    "    Dense(10,activation='softmax')\n",
    "])"
   ]
  },
  {
   "cell_type": "code",
   "execution_count": 80,
   "metadata": {},
   "outputs": [
    {
     "output_type": "stream",
     "name": "stdout",
     "text": [
      "Model: \"sequential_7\"\n_________________________________________________________________\nLayer (type)                 Output Shape              Param #   \n=================================================================\nflatten_7 (Flatten)          (None, 784)               0         \n_________________________________________________________________\ndense_21 (Dense)             (None, 300)               235500    \n_________________________________________________________________\ndense_22 (Dense)             (None, 100)               30100     \n_________________________________________________________________\ndense_23 (Dense)             (None, 10)                1010      \n=================================================================\nTotal params: 266,610\nTrainable params: 266,610\nNon-trainable params: 0\n_________________________________________________________________\n"
     ]
    }
   ],
   "source": [
    "model.summary()"
   ]
  },
  {
   "cell_type": "code",
   "execution_count": 81,
   "metadata": {},
   "outputs": [
    {
     "output_type": "execute_result",
     "data": {
      "text/plain": [
       "[<tensorflow.python.keras.layers.core.Flatten at 0x1846c7f1bb0>,\n",
       " <tensorflow.python.keras.layers.core.Dense at 0x1846c7f1e80>,\n",
       " <tensorflow.python.keras.layers.core.Dense at 0x1846c7f1100>,\n",
       " <tensorflow.python.keras.layers.core.Dense at 0x1846c7f6670>]"
      ]
     },
     "metadata": {},
     "execution_count": 81
    }
   ],
   "source": [
    "model.layers"
   ]
  },
  {
   "cell_type": "code",
   "execution_count": 82,
   "metadata": {},
   "outputs": [
    {
     "output_type": "execute_result",
     "data": {
      "text/plain": [
       "'dense_21'"
      ]
     },
     "metadata": {},
     "execution_count": 82
    }
   ],
   "source": [
    "model.layers[1].name"
   ]
  },
  {
   "cell_type": "code",
   "execution_count": 83,
   "metadata": {},
   "outputs": [],
   "source": [
    "weights, biases = model.layers[1].get_weights()"
   ]
  },
  {
   "cell_type": "code",
   "execution_count": 84,
   "metadata": {},
   "outputs": [
    {
     "output_type": "execute_result",
     "data": {
      "text/plain": [
       "array([[-0.01323024,  0.0297045 , -0.06149854, ..., -0.05665134,\n",
       "         0.06567675,  0.02564642],\n",
       "       [ 0.05571403, -0.0397069 , -0.05531481, ..., -0.03190142,\n",
       "        -0.05579529,  0.00511274],\n",
       "       [ 0.0677316 ,  0.01424887, -0.00752091, ...,  0.03243157,\n",
       "         0.02167271,  0.0114958 ],\n",
       "       ...,\n",
       "       [ 0.01233703, -0.07384609,  0.04177248, ...,  0.035254  ,\n",
       "        -0.03679354,  0.01246992],\n",
       "       [ 0.01556972,  0.0107758 , -0.00896987, ...,  0.07035199,\n",
       "        -0.0544989 , -0.01918253],\n",
       "       [-0.07002307, -0.02340953, -0.03568223, ..., -0.04516084,\n",
       "         0.04210074, -0.00062413]], dtype=float32)"
      ]
     },
     "metadata": {},
     "execution_count": 84
    }
   ],
   "source": [
    "weights"
   ]
  },
  {
   "cell_type": "code",
   "execution_count": 85,
   "metadata": {},
   "outputs": [
    {
     "output_type": "execute_result",
     "data": {
      "text/plain": [
       "array([0., 0., 0., 0., 0., 0., 0., 0., 0., 0., 0., 0., 0., 0., 0., 0., 0.,\n",
       "       0., 0., 0., 0., 0., 0., 0., 0., 0., 0., 0., 0., 0., 0., 0., 0., 0.,\n",
       "       0., 0., 0., 0., 0., 0., 0., 0., 0., 0., 0., 0., 0., 0., 0., 0., 0.,\n",
       "       0., 0., 0., 0., 0., 0., 0., 0., 0., 0., 0., 0., 0., 0., 0., 0., 0.,\n",
       "       0., 0., 0., 0., 0., 0., 0., 0., 0., 0., 0., 0., 0., 0., 0., 0., 0.,\n",
       "       0., 0., 0., 0., 0., 0., 0., 0., 0., 0., 0., 0., 0., 0., 0., 0., 0.,\n",
       "       0., 0., 0., 0., 0., 0., 0., 0., 0., 0., 0., 0., 0., 0., 0., 0., 0.,\n",
       "       0., 0., 0., 0., 0., 0., 0., 0., 0., 0., 0., 0., 0., 0., 0., 0., 0.,\n",
       "       0., 0., 0., 0., 0., 0., 0., 0., 0., 0., 0., 0., 0., 0., 0., 0., 0.,\n",
       "       0., 0., 0., 0., 0., 0., 0., 0., 0., 0., 0., 0., 0., 0., 0., 0., 0.,\n",
       "       0., 0., 0., 0., 0., 0., 0., 0., 0., 0., 0., 0., 0., 0., 0., 0., 0.,\n",
       "       0., 0., 0., 0., 0., 0., 0., 0., 0., 0., 0., 0., 0., 0., 0., 0., 0.,\n",
       "       0., 0., 0., 0., 0., 0., 0., 0., 0., 0., 0., 0., 0., 0., 0., 0., 0.,\n",
       "       0., 0., 0., 0., 0., 0., 0., 0., 0., 0., 0., 0., 0., 0., 0., 0., 0.,\n",
       "       0., 0., 0., 0., 0., 0., 0., 0., 0., 0., 0., 0., 0., 0., 0., 0., 0.,\n",
       "       0., 0., 0., 0., 0., 0., 0., 0., 0., 0., 0., 0., 0., 0., 0., 0., 0.,\n",
       "       0., 0., 0., 0., 0., 0., 0., 0., 0., 0., 0., 0., 0., 0., 0., 0., 0.,\n",
       "       0., 0., 0., 0., 0., 0., 0., 0., 0., 0., 0.], dtype=float32)"
      ]
     },
     "metadata": {},
     "execution_count": 85
    }
   ],
   "source": [
    "biases"
   ]
  },
  {
   "cell_type": "code",
   "execution_count": 86,
   "metadata": {},
   "outputs": [
    {
     "output_type": "execute_result",
     "data": {
      "text/plain": [
       "(784, 300)"
      ]
     },
     "metadata": {},
     "execution_count": 86
    }
   ],
   "source": [
    "weights.shape"
   ]
  },
  {
   "cell_type": "code",
   "execution_count": 87,
   "metadata": {},
   "outputs": [
    {
     "output_type": "execute_result",
     "data": {
      "text/plain": [
       "(300,)"
      ]
     },
     "metadata": {},
     "execution_count": 87
    }
   ],
   "source": [
    "biases.shape"
   ]
  },
  {
   "cell_type": "code",
   "execution_count": 88,
   "metadata": {},
   "outputs": [],
   "source": [
    "model.compile(loss='sparse_categorical_crossentropy',\n",
    "    optimizer='sgd',\n",
    "    metrics=['accuracy'])"
   ]
  },
  {
   "cell_type": "code",
   "execution_count": 90,
   "metadata": {},
   "outputs": [
    {
     "output_type": "stream",
     "name": "stdout",
     "text": [
      "Epoch 1/40\n",
      "1050/1050 [==============================] - 1s 1ms/step - loss: 0.0395 - accuracy: 0.9913 - val_loss: 0.0960 - val_accuracy: 0.9705\n",
      "Epoch 2/40\n",
      "1050/1050 [==============================] - 1s 1ms/step - loss: 0.0376 - accuracy: 0.9919 - val_loss: 0.0922 - val_accuracy: 0.9719\n",
      "Epoch 3/40\n",
      "1050/1050 [==============================] - 1s 1ms/step - loss: 0.0356 - accuracy: 0.9920 - val_loss: 0.0926 - val_accuracy: 0.9719\n",
      "Epoch 4/40\n",
      "1050/1050 [==============================] - 1s 1ms/step - loss: 0.0337 - accuracy: 0.9929 - val_loss: 0.0930 - val_accuracy: 0.9719\n",
      "Epoch 5/40\n",
      "1050/1050 [==============================] - 1s 1ms/step - loss: 0.0319 - accuracy: 0.9934 - val_loss: 0.0906 - val_accuracy: 0.9731\n",
      "Epoch 6/40\n",
      "1050/1050 [==============================] - 1s 1ms/step - loss: 0.0305 - accuracy: 0.9936 - val_loss: 0.0916 - val_accuracy: 0.9723\n",
      "Epoch 7/40\n",
      "1050/1050 [==============================] - 1s 1ms/step - loss: 0.0291 - accuracy: 0.9940 - val_loss: 0.0897 - val_accuracy: 0.9730\n",
      "Epoch 8/40\n",
      "1050/1050 [==============================] - 1s 1ms/step - loss: 0.0275 - accuracy: 0.9945 - val_loss: 0.0904 - val_accuracy: 0.9732\n",
      "Epoch 9/40\n",
      "1050/1050 [==============================] - 1s 1ms/step - loss: 0.0262 - accuracy: 0.9954 - val_loss: 0.0903 - val_accuracy: 0.9725\n",
      "Epoch 10/40\n",
      "1050/1050 [==============================] - 1s 1ms/step - loss: 0.0251 - accuracy: 0.9952 - val_loss: 0.0909 - val_accuracy: 0.9736\n",
      "Epoch 11/40\n",
      "1050/1050 [==============================] - 1s 1ms/step - loss: 0.0239 - accuracy: 0.9957 - val_loss: 0.0889 - val_accuracy: 0.9735\n",
      "Epoch 12/40\n",
      "1050/1050 [==============================] - 1s 1ms/step - loss: 0.0226 - accuracy: 0.9963 - val_loss: 0.0907 - val_accuracy: 0.9727\n",
      "Epoch 13/40\n",
      "1050/1050 [==============================] - 1s 1ms/step - loss: 0.0217 - accuracy: 0.9967 - val_loss: 0.0888 - val_accuracy: 0.9737\n",
      "Epoch 14/40\n",
      "1050/1050 [==============================] - 1s 1ms/step - loss: 0.0206 - accuracy: 0.9966 - val_loss: 0.0898 - val_accuracy: 0.9743\n",
      "Epoch 15/40\n",
      "1050/1050 [==============================] - 1s 1ms/step - loss: 0.0197 - accuracy: 0.9969 - val_loss: 0.0882 - val_accuracy: 0.9735\n",
      "Epoch 16/40\n",
      "1050/1050 [==============================] - 1s 1ms/step - loss: 0.0187 - accuracy: 0.9975 - val_loss: 0.0890 - val_accuracy: 0.9737\n",
      "Epoch 17/40\n",
      "1050/1050 [==============================] - 1s 1ms/step - loss: 0.0179 - accuracy: 0.9975 - val_loss: 0.0883 - val_accuracy: 0.9733\n",
      "Epoch 18/40\n",
      "1050/1050 [==============================] - 1s 1ms/step - loss: 0.0171 - accuracy: 0.9976 - val_loss: 0.0894 - val_accuracy: 0.9742\n",
      "Epoch 19/40\n",
      "1050/1050 [==============================] - 1s 1ms/step - loss: 0.0164 - accuracy: 0.9980 - val_loss: 0.0887 - val_accuracy: 0.9730\n",
      "Epoch 20/40\n",
      "1050/1050 [==============================] - 1s 1ms/step - loss: 0.0156 - accuracy: 0.9980 - val_loss: 0.0909 - val_accuracy: 0.9736\n",
      "Epoch 21/40\n",
      "1050/1050 [==============================] - 1s 1ms/step - loss: 0.0149 - accuracy: 0.9983 - val_loss: 0.0895 - val_accuracy: 0.9739\n",
      "Epoch 22/40\n",
      "1050/1050 [==============================] - 1s 1ms/step - loss: 0.0144 - accuracy: 0.9984 - val_loss: 0.0890 - val_accuracy: 0.9731\n",
      "Epoch 23/40\n",
      "1050/1050 [==============================] - 1s 1ms/step - loss: 0.0136 - accuracy: 0.9987 - val_loss: 0.0900 - val_accuracy: 0.9732\n",
      "Epoch 24/40\n",
      "1050/1050 [==============================] - 1s 1ms/step - loss: 0.0131 - accuracy: 0.9988 - val_loss: 0.0896 - val_accuracy: 0.9729\n",
      "Epoch 25/40\n",
      "1050/1050 [==============================] - 1s 1ms/step - loss: 0.0126 - accuracy: 0.9988 - val_loss: 0.0910 - val_accuracy: 0.9732\n",
      "Epoch 26/40\n",
      "1050/1050 [==============================] - 1s 1ms/step - loss: 0.0121 - accuracy: 0.9989 - val_loss: 0.0898 - val_accuracy: 0.9749\n",
      "Epoch 27/40\n",
      "1050/1050 [==============================] - 1s 1ms/step - loss: 0.0116 - accuracy: 0.9990 - val_loss: 0.0909 - val_accuracy: 0.9740\n",
      "Epoch 28/40\n",
      "1050/1050 [==============================] - 1s 1ms/step - loss: 0.0111 - accuracy: 0.9991 - val_loss: 0.0896 - val_accuracy: 0.9744\n",
      "Epoch 29/40\n",
      "1050/1050 [==============================] - 1s 1ms/step - loss: 0.0106 - accuracy: 0.9992 - val_loss: 0.0912 - val_accuracy: 0.9743\n",
      "Epoch 30/40\n",
      "1050/1050 [==============================] - 1s 1ms/step - loss: 0.0102 - accuracy: 0.9993 - val_loss: 0.0887 - val_accuracy: 0.9745\n",
      "Epoch 31/40\n",
      "1050/1050 [==============================] - 1s 1ms/step - loss: 0.0098 - accuracy: 0.9993 - val_loss: 0.0896 - val_accuracy: 0.9746\n",
      "Epoch 32/40\n",
      "1050/1050 [==============================] - 1s 1ms/step - loss: 0.0095 - accuracy: 0.9995 - val_loss: 0.0912 - val_accuracy: 0.9748\n",
      "Epoch 33/40\n",
      "1050/1050 [==============================] - 1s 1ms/step - loss: 0.0092 - accuracy: 0.9997 - val_loss: 0.0904 - val_accuracy: 0.9752\n",
      "Epoch 34/40\n",
      "1050/1050 [==============================] - 1s 1ms/step - loss: 0.0088 - accuracy: 0.9996 - val_loss: 0.0907 - val_accuracy: 0.9743\n",
      "Epoch 35/40\n",
      "1050/1050 [==============================] - 1s 1ms/step - loss: 0.0085 - accuracy: 0.9996 - val_loss: 0.0905 - val_accuracy: 0.9744\n",
      "Epoch 36/40\n",
      "1050/1050 [==============================] - 1s 1ms/step - loss: 0.0082 - accuracy: 0.9997 - val_loss: 0.0903 - val_accuracy: 0.9750\n",
      "Epoch 37/40\n",
      "1050/1050 [==============================] - 1s 1ms/step - loss: 0.0079 - accuracy: 0.9997 - val_loss: 0.0901 - val_accuracy: 0.9750\n",
      "Epoch 38/40\n",
      "1050/1050 [==============================] - 1s 1ms/step - loss: 0.0077 - accuracy: 0.9998 - val_loss: 0.0904 - val_accuracy: 0.9744\n",
      "Epoch 39/40\n",
      "1050/1050 [==============================] - 1s 1ms/step - loss: 0.0074 - accuracy: 0.9998 - val_loss: 0.0907 - val_accuracy: 0.9750\n",
      "Epoch 40/40\n",
      "1050/1050 [==============================] - 1s 1ms/step - loss: 0.0071 - accuracy: 0.9998 - val_loss: 0.0920 - val_accuracy: 0.9750\n"
     ]
    }
   ],
   "source": [
    "digits = model.fit(X_train, y_train,\n",
    "    epochs=40,\n",
    "    validation_split=0.2)"
   ]
  },
  {
   "cell_type": "code",
   "execution_count": null,
   "metadata": {},
   "outputs": [],
   "source": []
  }
 ],
 "metadata": {
  "kernelspec": {
   "display_name": "Python 3.8.3 64-bit ('base': conda)",
   "metadata": {
    "interpreter": {
     "hash": "be2e7877c44afa397199e9cfbcd571547135c18cd55cff007376fb6d8ac3a739"
    }
   },
   "name": "Python 3.8.3 64-bit ('base': conda)"
  },
  "language_info": {
   "codemirror_mode": {
    "name": "ipython",
    "version": 3
   },
   "file_extension": ".py",
   "mimetype": "text/x-python",
   "name": "python",
   "nbconvert_exporter": "python",
   "pygments_lexer": "ipython3",
   "version": "3.8.3-final"
  }
 },
 "nbformat": 4,
 "nbformat_minor": 2
}