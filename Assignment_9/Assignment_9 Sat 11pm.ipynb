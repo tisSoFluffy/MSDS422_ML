{
 "cells": [
  {
   "cell_type": "code",
   "execution_count": 1,
   "metadata": {
    "ExecuteTime": {
     "end_time": "2020-11-14T20:37:18.506480Z",
     "start_time": "2020-11-14T20:37:10.311397Z"
    }
   },
   "outputs": [],
   "source": [
    "import matplotlib.pyplot as plt\n",
    "import numpy as np\n",
    "import pandas as pd\n",
    "import tensorflow as tf\n",
    "\n",
    "from sklearn.metrics import accuracy_score, precision_score, recall_score\n",
    "from sklearn.model_selection import train_test_split\n",
    "from tensorflow.keras import layers, losses\n",
    "from tensorflow.keras.models import Model\n",
    "\n"
   ]
  },
  {
   "cell_type": "markdown",
   "metadata": {},
   "source": [
    "## Import and processing data"
   ]
  },
  {
   "cell_type": "code",
   "execution_count": 133,
   "metadata": {
    "ExecuteTime": {
     "end_time": "2020-11-15T02:30:57.704974Z",
     "start_time": "2020-11-15T02:30:53.588915Z"
    }
   },
   "outputs": [],
   "source": [
    "x_train = pd.read_csv('train.csv')\n",
    "y_train = np.asarray(x_train['label'], dtype='float32')\n",
    "x_train = x_train.drop('label', axis=1)\n",
    "x_test = pd.read_csv('test.csv')"
   ]
  },
  {
   "cell_type": "code",
   "execution_count": 57,
   "metadata": {
    "ExecuteTime": {
     "end_time": "2020-11-14T22:59:56.169682Z",
     "start_time": "2020-11-14T22:59:55.779698Z"
    }
   },
   "outputs": [],
   "source": [
    "#x_train, x_valid, y_train, y_valid = train_test_split(x_train_full,y_train_full, test_size=.10, random_state=42)"
   ]
  },
  {
   "cell_type": "code",
   "execution_count": 135,
   "metadata": {
    "ExecuteTime": {
     "end_time": "2020-11-15T02:31:35.237711Z",
     "start_time": "2020-11-15T02:31:34.987415Z"
    }
   },
   "outputs": [],
   "source": [
    "x_train = x_train.values.reshape(-1,28,28,1)\n",
    "x_train = x_train.astype('float32') / 255."
   ]
  },
  {
   "cell_type": "code",
   "execution_count": 62,
   "metadata": {
    "ExecuteTime": {
     "end_time": "2020-11-14T23:03:58.831302Z",
     "start_time": "2020-11-14T23:03:58.792408Z"
    }
   },
   "outputs": [],
   "source": [
    "#x_valid = x_valid.values.reshape(-1,28,28,1)\n",
    "#x_valid = x_valid.astype('float32') / 255."
   ]
  },
  {
   "cell_type": "code",
   "execution_count": 136,
   "metadata": {
    "ExecuteTime": {
     "end_time": "2020-11-15T02:31:46.809956Z",
     "start_time": "2020-11-15T02:31:46.666372Z"
    }
   },
   "outputs": [],
   "source": [
    "x_test = x_test.values.reshape(-1,28,28,1)\n",
    "x_test = x_test.astype('float32') / 255."
   ]
  },
  {
   "cell_type": "code",
   "execution_count": 140,
   "metadata": {
    "ExecuteTime": {
     "end_time": "2020-11-15T02:32:04.659313Z",
     "start_time": "2020-11-15T02:32:04.649824Z"
    }
   },
   "outputs": [
    {
     "data": {
      "text/plain": [
       "(42000, 28, 28, 1)"
      ]
     },
     "execution_count": 140,
     "metadata": {},
     "output_type": "execute_result"
    }
   ],
   "source": [
    "x_train.shape"
   ]
  },
  {
   "cell_type": "code",
   "execution_count": 141,
   "metadata": {
    "ExecuteTime": {
     "end_time": "2020-11-15T02:32:06.050108Z",
     "start_time": "2020-11-15T02:32:06.039137Z"
    }
   },
   "outputs": [
    {
     "data": {
      "text/plain": [
       "(28000, 28, 28, 1)"
      ]
     },
     "execution_count": 141,
     "metadata": {},
     "output_type": "execute_result"
    }
   ],
   "source": [
    "x_test.shape"
   ]
  },
  {
   "cell_type": "code",
   "execution_count": 142,
   "metadata": {
    "ExecuteTime": {
     "end_time": "2020-11-15T02:32:09.696834Z",
     "start_time": "2020-11-15T02:32:09.501386Z"
    }
   },
   "outputs": [
    {
     "data": {
      "image/png": "[encoded data removed]",
      "text/plain": [
       "<Figure size 432x288 with 1 Axes>"
      ]
     },
     "metadata": {
      "needs_background": "light"
     },
     "output_type": "display_data"
    }
   ],
   "source": [
    "# Plot image data from x_train\n",
    "plt.imshow(x_train[2], cmap = \"gray\")\n",
    "plt.show()"
   ]
  },
  {
   "cell_type": "markdown",
   "metadata": {},
   "source": [
    "## Define autoencoder and train model"
   ]
  },
  {
   "cell_type": "code",
   "execution_count": 143,
   "metadata": {
    "ExecuteTime": {
     "end_time": "2020-11-15T02:32:56.517193Z",
     "start_time": "2020-11-15T02:32:55.421099Z"
    }
   },
   "outputs": [],
   "source": [
    "#Adding noise to images\n",
    "noise_factor = 0.2\n",
    "x_train_noisy = x_train + noise_factor * tf.random.normal(shape=x_train.shape)\n",
    "x_test_noisy = x_test + noise_factor * tf.random.normal(shape=x_test.shape)\n",
    "\n",
    "x_train_noisy = tf.clip_by_value(x_train_noisy, clip_value_min=0., clip_value_max=1.)\n",
    "x_test_noisy = tf.clip_by_value(x_test_noisy, clip_value_min=0., clip_value_max=1.)"
   ]
  },
  {
   "cell_type": "code",
   "execution_count": 258,
   "metadata": {
    "ExecuteTime": {
     "end_time": "2020-11-15T04:00:50.852307Z",
     "start_time": "2020-11-15T04:00:50.797457Z"
    }
   },
   "outputs": [],
   "source": [
    "class Denoise(Model):\n",
    "    def __init__(self):\n",
    "        super(Denoise, self).__init__()\n",
    "        self.encoder = tf.keras.Sequential([\n",
    "            layers.Input(shape=(28,28,1)),                  \n",
    "            layers.Conv2D(16, (3,3), activation='relu', padding='same', strides=2),   \n",
    "            layers.Conv2D(32, (3,3), activation='relu', padding='same', strides=2),    \n",
    "        ])\n",
    "        self.decoder = tf.keras.Sequential([\n",
    "            layers.Conv2DTranspose(32, kernel_size=3, strides=2, activation='relu', padding='same'),\n",
    "            layers.Conv2DTranspose(16, kernel_size=3, strides=2, activation='relu', padding='same'),          \n",
    "            layers.Conv2D(1, kernel_size=3,activation=\"sigmoid\", padding=\"same\")\n",
    "        ])\n",
    "    def call(self, x):\n",
    "        encoded = self.encoder(x)\n",
    "        decoded = self.decoder(encoded)\n",
    "        return decoded\n",
    "autoencoder = Denoise()"
   ]
  },
  {
   "cell_type": "code",
   "execution_count": 259,
   "metadata": {
    "ExecuteTime": {
     "end_time": "2020-11-15T04:00:51.595319Z",
     "start_time": "2020-11-15T04:00:51.583351Z"
    }
   },
   "outputs": [],
   "source": [
    "autoencoder.compile(optimizer='adam', loss=\"binary_crossentropy\",metrics=[\"accuracy\"])"
   ]
  },
  {
   "cell_type": "code",
   "execution_count": 260,
   "metadata": {
    "ExecuteTime": {
     "end_time": "2020-11-15T04:07:24.822225Z",
     "start_time": "2020-11-15T04:00:52.182751Z"
    }
   },
   "outputs": [
    {
     "name": "stdout",
     "output_type": "stream",
     "text": [
      "Epoch 1/10\n",
      "1182/1182 [==============================] - 35s 30ms/step - loss: 0.1009 - accuracy: 0.8140 - val_loss: 0.0720 - val_accuracy: 0.8150\n",
      "Epoch 2/10\n",
      "1182/1182 [==============================] - 35s 30ms/step - loss: 0.0716 - accuracy: 0.8152 - val_loss: 0.0712 - val_accuracy: 0.8150\n",
      "Epoch 3/10\n",
      "1182/1182 [==============================] - 39s 33ms/step - loss: 0.0708 - accuracy: 0.8152 - val_loss: 0.0704 - val_accuracy: 0.8150\n",
      "Epoch 4/10\n",
      "1182/1182 [==============================] - 41s 35ms/step - loss: 0.0704 - accuracy: 0.8152 - val_loss: 0.0701 - val_accuracy: 0.8150\n",
      "Epoch 5/10\n",
      "1182/1182 [==============================] - 41s 35ms/step - loss: 0.0700 - accuracy: 0.8152 - val_loss: 0.0698 - val_accuracy: 0.8150\n",
      "Epoch 6/10\n",
      "1182/1182 [==============================] - 35s 30ms/step - loss: 0.0697 - accuracy: 0.8152 - val_loss: 0.0695 - val_accuracy: 0.8150\n",
      "Epoch 7/10\n",
      "1182/1182 [==============================] - 39s 33ms/step - loss: 0.0695 - accuracy: 0.8152 - val_loss: 0.0695 - val_accuracy: 0.8150\n",
      "Epoch 8/10\n",
      "1182/1182 [==============================] - 41s 35ms/step - loss: 0.0694 - accuracy: 0.8152 - val_loss: 0.0694 - val_accuracy: 0.8150\n",
      "Epoch 9/10\n",
      "1182/1182 [==============================] - 42s 35ms/step - loss: 0.0693 - accuracy: 0.8152 - val_loss: 0.0691 - val_accuracy: 0.8150\n",
      "Epoch 10/10\n",
      "1182/1182 [==============================] - 42s 36ms/step - loss: 0.0692 - accuracy: 0.8152 - val_loss: 0.0690 - val_accuracy: 0.8150\n"
     ]
    }
   ],
   "source": [
    "history=autoencoder.fit(x_train_noisy, x_train, epochs=10, validation_split=0.1)"
   ]
  },
  {
   "cell_type": "code",
   "execution_count": 261,
   "metadata": {
    "ExecuteTime": {
     "end_time": "2020-11-15T04:07:52.726566Z",
     "start_time": "2020-11-15T04:07:52.714601Z"
    }
   },
   "outputs": [
    {
     "data": {
      "text/plain": [
       "{'loss': [0.10088429600000381,\n",
       "  0.07155349850654602,\n",
       "  0.07084143161773682,\n",
       "  0.0703631266951561,\n",
       "  0.06998566538095474,\n",
       "  0.06970416009426117,\n",
       "  0.06952923536300659,\n",
       "  0.06938165426254272,\n",
       "  0.0692702978849411,\n",
       "  0.0691695511341095],\n",
       " 'accuracy': [0.8139694929122925,\n",
       "  0.8152240514755249,\n",
       "  0.8152337670326233,\n",
       "  0.8152393102645874,\n",
       "  0.8152428865432739,\n",
       "  0.8152432441711426,\n",
       "  0.815244734287262,\n",
       "  0.8152461051940918,\n",
       "  0.8152470588684082,\n",
       "  0.8152484893798828],\n",
       " 'val_loss': [0.07195045799016953,\n",
       "  0.07118789851665497,\n",
       "  0.07039184123277664,\n",
       "  0.07005298137664795,\n",
       "  0.06978459656238556,\n",
       "  0.06947673857212067,\n",
       "  0.0695253387093544,\n",
       "  0.06942672282457352,\n",
       "  0.06912772357463837,\n",
       "  0.06900892406702042],\n",
       " 'val_accuracy': [0.815008819103241,\n",
       "  0.8150163888931274,\n",
       "  0.8150321841239929,\n",
       "  0.8150349259376526,\n",
       "  0.8150376677513123,\n",
       "  0.8150398135185242,\n",
       "  0.8150416016578674,\n",
       "  0.8150418996810913,\n",
       "  0.8150398135185242,\n",
       "  0.8150413036346436]}"
      ]
     },
     "execution_count": 261,
     "metadata": {},
     "output_type": "execute_result"
    }
   ],
   "source": [
    "history.history"
   ]
  },
  {
   "cell_type": "code",
   "execution_count": 262,
   "metadata": {
    "ExecuteTime": {
     "end_time": "2020-11-15T04:07:57.038028Z",
     "start_time": "2020-11-15T04:07:57.028060Z"
    }
   },
   "outputs": [
    {
     "name": "stdout",
     "output_type": "stream",
     "text": [
      "Model: \"denoise_50\"\n",
      "_________________________________________________________________\n",
      "Layer (type)                 Output Shape              Param #   \n",
      "=================================================================\n",
      "sequential_107 (Sequential)  (None, 7, 7, 32)          4800      \n",
      "_________________________________________________________________\n",
      "sequential_108 (Sequential)  (None, 28, 28, 1)         14017     \n",
      "=================================================================\n",
      "Total params: 18,817\n",
      "Trainable params: 18,817\n",
      "Non-trainable params: 0\n",
      "_________________________________________________________________\n"
     ]
    }
   ],
   "source": [
    "autoencoder.summary()"
   ]
  },
  {
   "cell_type": "markdown",
   "metadata": {},
   "source": [
    "## Image Visualization"
   ]
  },
  {
   "cell_type": "code",
   "execution_count": 263,
   "metadata": {
    "ExecuteTime": {
     "end_time": "2020-11-15T04:08:10.871054Z",
     "start_time": "2020-11-15T04:08:10.739370Z"
    }
   },
   "outputs": [],
   "source": [
    "samples=x_train_noisy[:5]\n",
    "targets=y_train[:5]\n",
    "denoised_images=autoencoder.predict(samples)"
   ]
  },
  {
   "cell_type": "code",
   "execution_count": 264,
   "metadata": {
    "ExecuteTime": {
     "end_time": "2020-11-15T04:08:11.532253Z",
     "start_time": "2020-11-15T04:08:11.525272Z"
    }
   },
   "outputs": [
    {
     "data": {
      "text/plain": [
       "TensorShape([5, 28, 28, 1])"
      ]
     },
     "execution_count": 264,
     "metadata": {},
     "output_type": "execute_result"
    }
   ],
   "source": [
    "samples.shape"
   ]
  },
  {
   "cell_type": "code",
   "execution_count": 265,
   "metadata": {
    "ExecuteTime": {
     "end_time": "2020-11-15T04:08:12.326165Z",
     "start_time": "2020-11-15T04:08:12.314157Z"
    }
   },
   "outputs": [
    {
     "data": {
      "text/plain": [
       "(5, 28, 28, 1)"
      ]
     },
     "execution_count": 265,
     "metadata": {},
     "output_type": "execute_result"
    }
   ],
   "source": [
    "denoised_images.shape"
   ]
  },
  {
   "cell_type": "code",
   "execution_count": 266,
   "metadata": {
    "ExecuteTime": {
     "end_time": "2020-11-15T04:08:16.628129Z",
     "start_time": "2020-11-15T04:08:15.267804Z"
    }
   },
   "outputs": [
    {
     "data": {
      "image/png": "[encoded data removed]",
      "text/plain": [
       "<Figure size 576x252 with 3 Axes>"
      ]
     },
     "metadata": {
      "needs_background": "light"
     },
     "output_type": "display_data"
    },
    {
     "data": {
      "image/png": "[encoded data removed]",
      "text/plain": [
       "<Figure size 576x252 with 3 Axes>"
      ]
     },
     "metadata": {
      "needs_background": "light"
     },
     "output_type": "display_data"
    },
    {
     "data": {
      "image/png": "[encoded data removed]",
      "text/plain": [
       "<Figure size 576x252 with 3 Axes>"
      ]
     },
     "metadata": {
      "needs_background": "light"
     },
     "output_type": "display_data"
    },
    {
     "data": {
      "image/png": "[encoded data removed]",
      "text/plain": [
       "<Figure size 576x252 with 3 Axes>"
      ]
     },
     "metadata": {
      "needs_background": "light"
     },
     "output_type": "display_data"
    },
    {
     "data": {
      "image/png": "[encoded data removed]",
      "text/plain": [
       "<Figure size 576x252 with 3 Axes>"
      ]
     },
     "metadata": {
      "needs_background": "light"
     },
     "output_type": "display_data"
    }
   ],
   "source": [
    "for i in range(0,5):\n",
    "    noisy_image=x_train_noisy[i][:,:,0]\n",
    "    pure_image=x_train[i][:,:,0]\n",
    "    denoised_image=denoised_images[i][:,:,0]\n",
    "# Matplotlib preparations\n",
    "    fig,axes=plt.subplots(1,3)\n",
    "    fig.set_size_inches(8, 3.5)\n",
    "    axes[0].imshow(noisy_image)\n",
    "    axes[0].set_title('Noisy image')\n",
    "    axes[1].imshow(pure_image)\n",
    "    axes[1].set_title('Pure image')\n",
    "    axes[2].imshow(denoised_image)\n",
    "    axes[2].set_title('Denoised image')\n",
    "    plt.show()"
   ]
  },
  {
   "cell_type": "code",
   "execution_count": null,
   "metadata": {},
   "outputs": [],
   "source": []
  }
 ],
 "metadata": {
  "kernelspec": {
   "display_name": "PyCharm (pythonProject1)",
   "language": "python",
   "name": "pycharm-d610e1a"
  },
  "language_info": {
   "codemirror_mode": {
    "name": "ipython",
    "version": 3
   },
   "file_extension": ".py",
   "mimetype": "text/x-python",
   "name": "python",
   "nbconvert_exporter": "python",
   "pygments_lexer": "ipython3",
   "version": "3.7.3"
  },
  "toc": {
   "base_numbering": 1,
   "nav_menu": {},
   "number_sections": true,
   "sideBar": true,
   "skip_h1_title": false,
   "title_cell": "Table of Contents",
   "title_sidebar": "Contents",
   "toc_cell": false,
   "toc_position": {},
   "toc_section_display": true,
   "toc_window_display": false
  }
 },
 "nbformat": 4,
 "nbformat_minor": 2
}
