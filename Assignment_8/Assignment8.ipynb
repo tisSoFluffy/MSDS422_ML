{
 "metadata": {
  "language_info": {
   "codemirror_mode": {
    "name": "ipython",
    "version": 3
   },
   "file_extension": ".py",
   "mimetype": "text/x-python",
   "name": "python",
   "nbconvert_exporter": "python",
   "pygments_lexer": "ipython3",
   "version": "3.8.3-final"
  },
  "orig_nbformat": 2,
  "kernelspec": {
   "name": "python3",
   "display_name": "Python 3"
  }
 },
 "nbformat": 4,
 "nbformat_minor": 2,
 "cells": [
  {
   "cell_type": "code",
   "execution_count": 2,
   "metadata": {},
   "outputs": [],
   "source": [
    "import pandas as pd\n",
    "import numpy as np\n",
    "import tensorflow as tf\n",
    "from tensorflow import keras\n",
    "import matplotlib.image as mpimg\n",
    "from collections import Counter"
   ]
  },
  {
   "source": [
    "train_data = pd.read_csv('train.csv')\n",
    "test_data = pd.read_csv('test.csv')"
   ],
   "cell_type": "code",
   "metadata": {},
   "execution_count": 3,
   "outputs": []
  },
  {
   "cell_type": "code",
   "execution_count": 4,
   "metadata": {},
   "outputs": [
    {
     "output_type": "execute_result",
     "data": {
      "text/plain": [
       "   id keyword location                                               text  \\\n",
       "0   1     NaN      NaN  Our Deeds are the Reason of this #earthquake M...   \n",
       "1   4     NaN      NaN             Forest fire near La Ronge Sask. Canada   \n",
       "2   5     NaN      NaN  All residents asked to 'shelter in place' are ...   \n",
       "3   6     NaN      NaN  13,000 people receive #wildfires evacuation or...   \n",
       "4   7     NaN      NaN  Just got sent this photo from Ruby #Alaska as ...   \n",
       "\n",
       "   target  \n",
       "0       1  \n",
       "1       1  \n",
       "2       1  \n",
       "3       1  \n",
       "4       1  "
      ],
      "text/html": "<div>\n<style scoped>\n    .dataframe tbody tr th:only-of-type {\n        vertical-align: middle;\n    }\n\n    .dataframe tbody tr th {\n        vertical-align: top;\n    }\n\n    .dataframe thead th {\n        text-align: right;\n    }\n</style>\n<table border=\"1\" class=\"dataframe\">\n  <thead>\n    <tr style=\"text-align: right;\">\n      <th></th>\n      <th>id</th>\n      <th>keyword</th>\n      <th>location</th>\n      <th>text</th>\n      <th>target</th>\n    </tr>\n  </thead>\n  <tbody>\n    <tr>\n      <th>0</th>\n      <td>1</td>\n      <td>NaN</td>\n      <td>NaN</td>\n      <td>Our Deeds are the Reason of this #earthquake M...</td>\n      <td>1</td>\n    </tr>\n    <tr>\n      <th>1</th>\n      <td>4</td>\n      <td>NaN</td>\n      <td>NaN</td>\n      <td>Forest fire near La Ronge Sask. Canada</td>\n      <td>1</td>\n    </tr>\n    <tr>\n      <th>2</th>\n      <td>5</td>\n      <td>NaN</td>\n      <td>NaN</td>\n      <td>All residents asked to 'shelter in place' are ...</td>\n      <td>1</td>\n    </tr>\n    <tr>\n      <th>3</th>\n      <td>6</td>\n      <td>NaN</td>\n      <td>NaN</td>\n      <td>13,000 people receive #wildfires evacuation or...</td>\n      <td>1</td>\n    </tr>\n    <tr>\n      <th>4</th>\n      <td>7</td>\n      <td>NaN</td>\n      <td>NaN</td>\n      <td>Just got sent this photo from Ruby #Alaska as ...</td>\n      <td>1</td>\n    </tr>\n  </tbody>\n</table>\n</div>"
     },
     "metadata": {},
     "execution_count": 4
    }
   ],
   "source": [
    "train_data.head()"
   ]
  },
  {
   "cell_type": "code",
   "execution_count": 5,
   "metadata": {},
   "outputs": [
    {
     "output_type": "stream",
     "name": "stdout",
     "text": [
      "<class 'pandas.core.frame.DataFrame'>\nRangeIndex: 7613 entries, 0 to 7612\nData columns (total 5 columns):\n #   Column    Non-Null Count  Dtype \n---  ------    --------------  ----- \n 0   id        7613 non-null   int64 \n 1   keyword   7552 non-null   object\n 2   location  5080 non-null   object\n 3   text      7613 non-null   object\n 4   target    7613 non-null   int64 \ndtypes: int64(2), object(3)\nmemory usage: 297.5+ KB\n"
     ]
    }
   ],
   "source": [
    "train_data.info()"
   ]
  },
  {
   "source": [
    "Predict whether a given tweet is about a real distaster or not."
   ],
   "cell_type": "markdown",
   "metadata": {}
  },
  {
   "cell_type": "code",
   "execution_count": 6,
   "metadata": {},
   "outputs": [],
   "source": [
    "tokenizer = keras.preprocessing.text.Tokenizer(char_level=True)"
   ]
  },
  {
   "cell_type": "code",
   "execution_count": 7,
   "metadata": {},
   "outputs": [],
   "source": [
    "vocabulary = Counter()\n",
    "for tweet in train_data['text']:\n",
    "    #tweet = tf.strings.regex_replace(tweet, b'[^a-zA-Z]', b' ')\n",
    "    tweet = tf.strings.split(tweet)\n",
    "    vocabulary.update(list(tweet.numpy()))"
   ]
  },
  {
   "cell_type": "code",
   "execution_count": 8,
   "metadata": {},
   "outputs": [
    {
     "output_type": "execute_result",
     "data": {
      "text/plain": [
       "31924"
      ]
     },
     "metadata": {},
     "execution_count": 8
    }
   ],
   "source": [
    "len(vocabulary.keys())"
   ]
  },
  {
   "source": [
    "It looks like we have 31924 words in our dictionary. Lets take the top 10,000 of them and used them in our model."
   ],
   "cell_type": "markdown",
   "metadata": {}
  },
  {
   "cell_type": "code",
   "execution_count": 9,
   "metadata": {},
   "outputs": [],
   "source": [
    "vocab_size = 10000\n",
    "truncated_vocabulary = [ word for word, count in vocabulary.most_common()[:vocab_size]]"
   ]
  },
  {
   "cell_type": "code",
   "execution_count": 10,
   "metadata": {},
   "outputs": [],
   "source": [
    "#preprocess to replace each word with its ID (index)\n",
    "words = tf.constant(truncated_vocabulary)\n",
    "word_ids = tf.range(len(truncated_vocabulary), dtype=tf.int64)\n",
    "vocab_init = tf.lookup.KeyValueTensorInitializer(words, word_ids)\n",
    "num_oov_buckets = 1000\n",
    "table = tf.lookup.StaticVocabularyTable(vocab_init,num_oov_buckets)"
   ]
  },
  {
   "cell_type": "code",
   "execution_count": 11,
   "metadata": {},
   "outputs": [
    {
     "output_type": "execute_result",
     "data": {
      "text/plain": [
       "<tf.Tensor: shape=(1, 4), dtype=int64, numpy=array([[   24,   337,    21, 10770]], dtype=int64)>"
      ]
     },
     "metadata": {},
     "execution_count": 11
    }
   ],
   "source": [
    "table.lookup(tf.constant([b'this movie was faaaaaaantastic'.split()]))"
   ]
  },
  {
   "cell_type": "code",
   "execution_count": 12,
   "metadata": {},
   "outputs": [],
   "source": [
    "def encode_words(X_batch, y_batch):\n",
    "    return table.lookup(X_batch), y_batch"
   ]
  },
  {
   "cell_type": "code",
   "execution_count": 13,
   "metadata": {},
   "outputs": [],
   "source": [
    "train_set = train_data[['text','target']]\n",
    "target = train_set.pop('target')\n",
    "target = target.values.reshape((7613, 1))\n",
    "dataset = tf.data.Dataset.from_tensor_slices((train_set.values, target))\n",
    "train_set_model1 = dataset.batch(32).map(encode_words).prefetch(1)"
   ]
  },
  {
   "source": [
    "Lets make sure that the dataset converted correctly. We are going to iterate over the dataset and print it's features and target"
   ],
   "cell_type": "markdown",
   "metadata": {}
  },
  {
   "cell_type": "code",
   "execution_count": 14,
   "metadata": {},
   "outputs": [
    {
     "output_type": "stream",
     "name": "stdout",
     "text": [
      "Features: [b'Our Deeds are the Reason of this #earthquake May ALLAH Forgive us all'], Target: [1]\nFeatures: [b'Forest fire near La Ronge Sask. Canada'], Target: [1]\nFeatures: [b\"All residents asked to 'shelter in place' are being notified by officers. No other evacuation or shelter in place orders are expected\"], Target: [1]\nFeatures: [b'13,000 people receive #wildfires evacuation orders in California '], Target: [1]\nFeatures: [b'Just got sent this photo from Ruby #Alaska as smoke from #wildfires pours into a school '], Target: [1]\n"
     ]
    }
   ],
   "source": [
    "for feat, targ in dataset.take(5):\n",
    "  print ('Features: {}, Target: {}'.format(feat, targ))"
   ]
  },
  {
   "cell_type": "code",
   "execution_count": 34,
   "metadata": {},
   "outputs": [
    {
     "output_type": "stream",
     "name": "stdout",
     "text": [
      "Epoch 1/25\n",
      "238/238 [==============================] - 4s 17ms/step - loss: 0.6889 - accuracy: 0.5684\n",
      "Epoch 2/25\n",
      "238/238 [==============================] - 4s 17ms/step - loss: 0.6623 - accuracy: 0.6087\n",
      "Epoch 3/25\n",
      "238/238 [==============================] - 4s 17ms/step - loss: 0.5959 - accuracy: 0.6708\n",
      "Epoch 4/25\n",
      "238/238 [==============================] - 4s 17ms/step - loss: 0.5718 - accuracy: 0.6851\n",
      "Epoch 5/25\n",
      "238/238 [==============================] - 4s 16ms/step - loss: 0.5615 - accuracy: 0.6909\n",
      "Epoch 6/25\n",
      "238/238 [==============================] - 4s 17ms/step - loss: 0.5553 - accuracy: 0.6962\n",
      "Epoch 7/25\n",
      "238/238 [==============================] - 4s 17ms/step - loss: 0.5542 - accuracy: 0.6958\n",
      "Epoch 8/25\n",
      "238/238 [==============================] - 4s 17ms/step - loss: 0.5510 - accuracy: 0.7033\n",
      "Epoch 9/25\n",
      "238/238 [==============================] - 4s 17ms/step - loss: 0.5527 - accuracy: 0.7005\n",
      "Epoch 10/25\n",
      "238/238 [==============================] - 4s 17ms/step - loss: 0.5501 - accuracy: 0.7046\n",
      "Epoch 11/25\n",
      "238/238 [==============================] - 4s 16ms/step - loss: 0.5535 - accuracy: 0.7016\n",
      "Epoch 12/25\n",
      "238/238 [==============================] - 4s 17ms/step - loss: 0.5502 - accuracy: 0.7045\n",
      "Epoch 13/25\n",
      "238/238 [==============================] - 4s 17ms/step - loss: 0.5550 - accuracy: 0.7010\n",
      "Epoch 14/25\n",
      "238/238 [==============================] - 4s 17ms/step - loss: 0.5500 - accuracy: 0.7050\n",
      "Epoch 15/25\n",
      "238/238 [==============================] - 4s 16ms/step - loss: 0.5540 - accuracy: 0.7005\n",
      "Epoch 16/25\n",
      "238/238 [==============================] - 4s 17ms/step - loss: 0.5539 - accuracy: 0.6978\n",
      "Epoch 17/25\n",
      "238/238 [==============================] - 4s 17ms/step - loss: 0.5572 - accuracy: 0.6920\n",
      "Epoch 18/25\n",
      "238/238 [==============================] - 4s 17ms/step - loss: 0.5631 - accuracy: 0.6836\n",
      "Epoch 19/25\n",
      "238/238 [==============================] - 4s 17ms/step - loss: 0.5655 - accuracy: 0.6834\n",
      "Epoch 20/25\n",
      "238/238 [==============================] - 4s 17ms/step - loss: 0.5647 - accuracy: 0.6858\n",
      "Epoch 21/25\n",
      "238/238 [==============================] - 4s 17ms/step - loss: 0.5769 - accuracy: 0.6757\n",
      "Epoch 22/25\n",
      "238/238 [==============================] - 4s 17ms/step - loss: 0.5932 - accuracy: 0.6595\n",
      "Epoch 23/25\n",
      "238/238 [==============================] - 4s 17ms/step - loss: 0.6042 - accuracy: 0.6434\n",
      "Epoch 24/25\n",
      "238/238 [==============================] - 4s 17ms/step - loss: 0.6197 - accuracy: 0.6220\n",
      "Epoch 25/25\n",
      "238/238 [==============================] - 4s 17ms/step - loss: 0.6370 - accuracy: 0.6180\n"
     ]
    }
   ],
   "source": [
    "embed_size = 128\n",
    "model = keras.models.Sequential([\n",
    "    keras.layers.Embedding(vocab_size + num_oov_buckets, embed_size, input_shape=[None]),\n",
    "    keras.layers.GRU(128, return_sequences=True),\n",
    "    keras.layers.GRU(128),\n",
    "    keras.layers.Dense(1, activation='sigmoid')\n",
    "])\n",
    "model.compile(loss= 'binary_crossentropy', optimizer='Adam', metrics=['accuracy'])\n",
    "\n",
    "trained_model1 = model.fit(train_set_model1, epochs=25)"
   ]
  },
  {
   "cell_type": "code",
   "execution_count": 17,
   "metadata": {},
   "outputs": [],
   "source": [
    "import tensorflow_hub as hub\n",
    "\n",
    "model = keras.Sequential([\n",
    "    hub.KerasLayer('https://tfhub.dev/google/tf2-preview/nnlm-en-dim50/1', dtype=tf.string, input_shape=[], output_shape=[50]),\n",
    "    keras.layers.Dense(128, activation='relu'),\n",
    "    keras.layers.Dense(1, activation='sigmoid')\n",
    "])\n",
    "model.compile(loss='binary_crossentropy', optimizer='adam', metrics=['accuracy'])"
   ]
  },
  {
   "cell_type": "code",
   "execution_count": 18,
   "metadata": {},
   "outputs": [
    {
     "output_type": "stream",
     "name": "stdout",
     "text": [
      "Epoch 1/5\n",
      "238/238 [==============================] - 15s 65ms/step - loss: 0.5659 - accuracy: 0.7344\n",
      "Epoch 2/5\n",
      "238/238 [==============================] - 15s 64ms/step - loss: 0.5064 - accuracy: 0.7607\n",
      "Epoch 3/5\n",
      "238/238 [==============================] - 15s 63ms/step - loss: 0.4955 - accuracy: 0.7686\n",
      "Epoch 4/5\n",
      "238/238 [==============================] - 15s 64ms/step - loss: 0.4893 - accuracy: 0.7729\n",
      "Epoch 5/5\n",
      "238/238 [==============================] - 15s 64ms/step - loss: 0.4845 - accuracy: 0.7754\n"
     ]
    }
   ],
   "source": [
    "# This is broken\n",
    "batch_size = 32\n",
    "train_set = dataset.batch(batch_size).prefetch(1)\n",
    "tweet_model = model.fit(train_set, epochs=5)"
   ]
  },
  {
   "cell_type": "code",
   "execution_count": null,
   "metadata": {},
   "outputs": [],
   "source": []
  }
 ]
}