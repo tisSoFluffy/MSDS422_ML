{
 "cells": [
  {
   "cell_type": "code",
   "execution_count": 1,
   "metadata": {
    "ExecuteTime": {
     "end_time": "2020-09-28T01:09:16.147844Z",
     "start_time": "2020-09-28T01:09:16.133882Z"
    }
   },
   "outputs": [],
   "source": [
    "#  import neccessary packages \n",
    "import warnings\n",
    "warnings.simplefilter(action='ignore', category=FutureWarning)"
   ]
  },
  {
   "cell_type": "code",
   "execution_count": 2,
   "metadata": {
    "ExecuteTime": {
     "end_time": "2020-09-28T01:09:26.832855Z",
     "start_time": "2020-09-28T01:09:24.512954Z"
    }
   },
   "outputs": [],
   "source": [
    "import numpy as np\n",
    "import pandas as pd\n",
    "import seaborn as sns\n",
    "import matplotlib.pyplot as plt\n",
    "%matplotlib inline\n",
    "sns.set(style='darkgrid')"
   ]
  },
  {
   "cell_type": "code",
   "execution_count": 4,
   "metadata": {
    "ExecuteTime": {
     "end_time": "2020-09-28T01:09:54.268296Z",
     "start_time": "2020-09-28T01:09:54.243356Z"
    }
   },
   "outputs": [],
   "source": [
    "# read the data\n",
    "boston = pd.read_csv(\"boston.csv\")"
   ]
  },
  {
   "cell_type": "code",
   "execution_count": 5,
   "metadata": {
    "ExecuteTime": {
     "end_time": "2020-09-28T01:09:56.247960Z",
     "start_time": "2020-09-28T01:09:56.201061Z"
    }
   },
   "outputs": [
    {
     "data": {
      "text/html": [
       "<div>\n",
       "<style scoped>\n",
       "    .dataframe tbody tr th:only-of-type {\n",
       "        vertical-align: middle;\n",
       "    }\n",
       "\n",
       "    .dataframe tbody tr th {\n",
       "        vertical-align: top;\n",
       "    }\n",
       "\n",
       "    .dataframe thead th {\n",
       "        text-align: right;\n",
       "    }\n",
       "</style>\n",
       "<table border=\"1\" class=\"dataframe\">\n",
       "  <thead>\n",
       "    <tr style=\"text-align: right;\">\n",
       "      <th></th>\n",
       "      <th>neighborhood</th>\n",
       "      <th>crim</th>\n",
       "      <th>zn</th>\n",
       "      <th>indus</th>\n",
       "      <th>chas</th>\n",
       "      <th>nox</th>\n",
       "      <th>rooms</th>\n",
       "      <th>age</th>\n",
       "      <th>dis</th>\n",
       "      <th>rad</th>\n",
       "      <th>tax</th>\n",
       "      <th>ptratio</th>\n",
       "      <th>lstat</th>\n",
       "      <th>mv</th>\n",
       "    </tr>\n",
       "  </thead>\n",
       "  <tbody>\n",
       "    <tr>\n",
       "      <th>0</th>\n",
       "      <td>Nahant</td>\n",
       "      <td>0.00632</td>\n",
       "      <td>18.0</td>\n",
       "      <td>2.31</td>\n",
       "      <td>0</td>\n",
       "      <td>0.538</td>\n",
       "      <td>6.575</td>\n",
       "      <td>65.2</td>\n",
       "      <td>4.0900</td>\n",
       "      <td>1</td>\n",
       "      <td>296</td>\n",
       "      <td>15.3</td>\n",
       "      <td>4.98</td>\n",
       "      <td>24.0</td>\n",
       "    </tr>\n",
       "    <tr>\n",
       "      <th>1</th>\n",
       "      <td>Swampscott</td>\n",
       "      <td>0.02731</td>\n",
       "      <td>0.0</td>\n",
       "      <td>7.07</td>\n",
       "      <td>0</td>\n",
       "      <td>0.469</td>\n",
       "      <td>6.421</td>\n",
       "      <td>78.9</td>\n",
       "      <td>4.9671</td>\n",
       "      <td>2</td>\n",
       "      <td>242</td>\n",
       "      <td>17.8</td>\n",
       "      <td>9.14</td>\n",
       "      <td>21.6</td>\n",
       "    </tr>\n",
       "    <tr>\n",
       "      <th>2</th>\n",
       "      <td>Swanpscott</td>\n",
       "      <td>0.02729</td>\n",
       "      <td>0.0</td>\n",
       "      <td>7.07</td>\n",
       "      <td>0</td>\n",
       "      <td>0.469</td>\n",
       "      <td>7.185</td>\n",
       "      <td>61.1</td>\n",
       "      <td>4.9671</td>\n",
       "      <td>2</td>\n",
       "      <td>242</td>\n",
       "      <td>17.8</td>\n",
       "      <td>4.03</td>\n",
       "      <td>34.7</td>\n",
       "    </tr>\n",
       "    <tr>\n",
       "      <th>3</th>\n",
       "      <td>Marblehead</td>\n",
       "      <td>0.03237</td>\n",
       "      <td>0.0</td>\n",
       "      <td>2.18</td>\n",
       "      <td>0</td>\n",
       "      <td>0.458</td>\n",
       "      <td>6.998</td>\n",
       "      <td>45.8</td>\n",
       "      <td>6.0622</td>\n",
       "      <td>3</td>\n",
       "      <td>222</td>\n",
       "      <td>18.7</td>\n",
       "      <td>2.94</td>\n",
       "      <td>33.4</td>\n",
       "    </tr>\n",
       "    <tr>\n",
       "      <th>4</th>\n",
       "      <td>Marblehead</td>\n",
       "      <td>0.06905</td>\n",
       "      <td>0.0</td>\n",
       "      <td>2.18</td>\n",
       "      <td>0</td>\n",
       "      <td>0.458</td>\n",
       "      <td>7.147</td>\n",
       "      <td>54.2</td>\n",
       "      <td>6.0622</td>\n",
       "      <td>3</td>\n",
       "      <td>222</td>\n",
       "      <td>18.7</td>\n",
       "      <td>5.33</td>\n",
       "      <td>36.2</td>\n",
       "    </tr>\n",
       "  </tbody>\n",
       "</table>\n",
       "</div>"
      ],
      "text/plain": [
       "  neighborhood     crim    zn  indus  chas    nox  rooms   age     dis  rad  \\\n",
       "0       Nahant  0.00632  18.0   2.31     0  0.538  6.575  65.2  4.0900    1   \n",
       "1   Swampscott  0.02731   0.0   7.07     0  0.469  6.421  78.9  4.9671    2   \n",
       "2   Swanpscott  0.02729   0.0   7.07     0  0.469  7.185  61.1  4.9671    2   \n",
       "3   Marblehead  0.03237   0.0   2.18     0  0.458  6.998  45.8  6.0622    3   \n",
       "4   Marblehead  0.06905   0.0   2.18     0  0.458  7.147  54.2  6.0622    3   \n",
       "\n",
       "   tax  ptratio  lstat    mv  \n",
       "0  296     15.3   4.98  24.0  \n",
       "1  242     17.8   9.14  21.6  \n",
       "2  242     17.8   4.03  34.7  \n",
       "3  222     18.7   2.94  33.4  \n",
       "4  222     18.7   5.33  36.2  "
      ]
     },
     "execution_count": 5,
     "metadata": {},
     "output_type": "execute_result"
    }
   ],
   "source": [
    "# preview of the data\n",
    "boston.head()"
   ]
  },
  {
   "cell_type": "code",
   "execution_count": 6,
   "metadata": {
    "ExecuteTime": {
     "end_time": "2020-09-28T01:09:57.307371Z",
     "start_time": "2020-09-28T01:09:57.277455Z"
    }
   },
   "outputs": [
    {
     "data": {
      "text/html": [
       "<div>\n",
       "<style scoped>\n",
       "    .dataframe tbody tr th:only-of-type {\n",
       "        vertical-align: middle;\n",
       "    }\n",
       "\n",
       "    .dataframe tbody tr th {\n",
       "        vertical-align: top;\n",
       "    }\n",
       "\n",
       "    .dataframe thead th {\n",
       "        text-align: right;\n",
       "    }\n",
       "</style>\n",
       "<table border=\"1\" class=\"dataframe\">\n",
       "  <thead>\n",
       "    <tr style=\"text-align: right;\">\n",
       "      <th></th>\n",
       "      <th>neighborhood</th>\n",
       "      <th>crim</th>\n",
       "      <th>zn</th>\n",
       "      <th>indus</th>\n",
       "      <th>chas</th>\n",
       "      <th>nox</th>\n",
       "      <th>rooms</th>\n",
       "      <th>age</th>\n",
       "      <th>dis</th>\n",
       "      <th>rad</th>\n",
       "      <th>tax</th>\n",
       "      <th>ptratio</th>\n",
       "      <th>lstat</th>\n",
       "      <th>mv</th>\n",
       "    </tr>\n",
       "  </thead>\n",
       "  <tbody>\n",
       "    <tr>\n",
       "      <th>501</th>\n",
       "      <td>Winthrop</td>\n",
       "      <td>0.06263</td>\n",
       "      <td>0.0</td>\n",
       "      <td>11.93</td>\n",
       "      <td>0</td>\n",
       "      <td>0.573</td>\n",
       "      <td>6.593</td>\n",
       "      <td>69.1</td>\n",
       "      <td>2.4786</td>\n",
       "      <td>1</td>\n",
       "      <td>273</td>\n",
       "      <td>21.0</td>\n",
       "      <td>9.67</td>\n",
       "      <td>22.4</td>\n",
       "    </tr>\n",
       "    <tr>\n",
       "      <th>502</th>\n",
       "      <td>Winthrop</td>\n",
       "      <td>0.04527</td>\n",
       "      <td>0.0</td>\n",
       "      <td>11.93</td>\n",
       "      <td>0</td>\n",
       "      <td>0.573</td>\n",
       "      <td>6.120</td>\n",
       "      <td>76.7</td>\n",
       "      <td>2.2875</td>\n",
       "      <td>1</td>\n",
       "      <td>273</td>\n",
       "      <td>21.0</td>\n",
       "      <td>9.08</td>\n",
       "      <td>20.6</td>\n",
       "    </tr>\n",
       "    <tr>\n",
       "      <th>503</th>\n",
       "      <td>Winthrop</td>\n",
       "      <td>0.06076</td>\n",
       "      <td>0.0</td>\n",
       "      <td>11.93</td>\n",
       "      <td>0</td>\n",
       "      <td>0.573</td>\n",
       "      <td>6.976</td>\n",
       "      <td>91.0</td>\n",
       "      <td>2.1675</td>\n",
       "      <td>1</td>\n",
       "      <td>273</td>\n",
       "      <td>21.0</td>\n",
       "      <td>5.64</td>\n",
       "      <td>23.9</td>\n",
       "    </tr>\n",
       "    <tr>\n",
       "      <th>504</th>\n",
       "      <td>Winthrop</td>\n",
       "      <td>0.10959</td>\n",
       "      <td>0.0</td>\n",
       "      <td>11.93</td>\n",
       "      <td>0</td>\n",
       "      <td>0.573</td>\n",
       "      <td>6.794</td>\n",
       "      <td>89.3</td>\n",
       "      <td>2.3889</td>\n",
       "      <td>1</td>\n",
       "      <td>273</td>\n",
       "      <td>21.0</td>\n",
       "      <td>6.48</td>\n",
       "      <td>22.0</td>\n",
       "    </tr>\n",
       "    <tr>\n",
       "      <th>505</th>\n",
       "      <td>Winthrop</td>\n",
       "      <td>0.04741</td>\n",
       "      <td>0.0</td>\n",
       "      <td>11.93</td>\n",
       "      <td>0</td>\n",
       "      <td>0.573</td>\n",
       "      <td>6.030</td>\n",
       "      <td>80.8</td>\n",
       "      <td>2.5050</td>\n",
       "      <td>1</td>\n",
       "      <td>273</td>\n",
       "      <td>21.0</td>\n",
       "      <td>7.88</td>\n",
       "      <td>19.0</td>\n",
       "    </tr>\n",
       "  </tbody>\n",
       "</table>\n",
       "</div>"
      ],
      "text/plain": [
       "    neighborhood     crim   zn  indus  chas    nox  rooms   age     dis  rad  \\\n",
       "501     Winthrop  0.06263  0.0  11.93     0  0.573  6.593  69.1  2.4786    1   \n",
       "502     Winthrop  0.04527  0.0  11.93     0  0.573  6.120  76.7  2.2875    1   \n",
       "503     Winthrop  0.06076  0.0  11.93     0  0.573  6.976  91.0  2.1675    1   \n",
       "504     Winthrop  0.10959  0.0  11.93     0  0.573  6.794  89.3  2.3889    1   \n",
       "505     Winthrop  0.04741  0.0  11.93     0  0.573  6.030  80.8  2.5050    1   \n",
       "\n",
       "     tax  ptratio  lstat    mv  \n",
       "501  273     21.0   9.67  22.4  \n",
       "502  273     21.0   9.08  20.6  \n",
       "503  273     21.0   5.64  23.9  \n",
       "504  273     21.0   6.48  22.0  \n",
       "505  273     21.0   7.88  19.0  "
      ]
     },
     "execution_count": 6,
     "metadata": {},
     "output_type": "execute_result"
    }
   ],
   "source": [
    "boston.tail()"
   ]
  },
  {
   "cell_type": "code",
   "execution_count": 7,
   "metadata": {
    "ExecuteTime": {
     "end_time": "2020-09-28T01:09:59.218736Z",
     "start_time": "2020-09-28T01:09:59.179812Z"
    }
   },
   "outputs": [
    {
     "name": "stdout",
     "output_type": "stream",
     "text": [
      "<class 'pandas.core.frame.DataFrame'>\n",
      "RangeIndex: 506 entries, 0 to 505\n",
      "Data columns (total 14 columns):\n",
      " #   Column        Non-Null Count  Dtype  \n",
      "---  ------        --------------  -----  \n",
      " 0   neighborhood  506 non-null    object \n",
      " 1   crim          506 non-null    float64\n",
      " 2   zn            506 non-null    float64\n",
      " 3   indus         506 non-null    float64\n",
      " 4   chas          506 non-null    int64  \n",
      " 5   nox           506 non-null    float64\n",
      " 6   rooms         506 non-null    float64\n",
      " 7   age           506 non-null    float64\n",
      " 8   dis           506 non-null    float64\n",
      " 9   rad           506 non-null    int64  \n",
      " 10  tax           506 non-null    int64  \n",
      " 11  ptratio       506 non-null    float64\n",
      " 12  lstat         506 non-null    float64\n",
      " 13  mv            506 non-null    float64\n",
      "dtypes: float64(10), int64(3), object(1)\n",
      "memory usage: 55.5+ KB\n"
     ]
    }
   ],
   "source": [
    "boston.info() # investigate null values, if any"
   ]
  },
  {
   "cell_type": "markdown",
   "metadata": {},
   "source": [
    "**Variable Description**\\\n",
    "neighborhood &nbsp; &nbsp; &nbsp;  Name of the Boston neighborhood\\\n",
    "mv &nbsp; &nbsp; &nbsp; Median value of homes in thousands of 1970 dollars\\\n",
    "nox  &nbsp; &nbsp; &nbsp;                   Air pollution\\\n",
    "crim  &nbsp; &nbsp; &nbsp;                  Crime rate\\\n",
    "zn   &nbsp; &nbsp; &nbsp;                   Percent of land zoned for lots\\\n",
    "indus  &nbsp; &nbsp; &nbsp;                 Percent of business that is industrial or nonretail\\\n",
    "chas   &nbsp; &nbsp; &nbsp;                 On the Charles River (1) or not (0)\\\n",
    "rooms  &nbsp; &nbsp; &nbsp;                 Average number of rooms per home\\\n",
    "age    &nbsp; &nbsp; &nbsp;                 Percentage of homes built before 1940\\\n",
    "dis   &nbsp; &nbsp; &nbsp;                  Weighted distance to employment centers\\\n",
    "rad   &nbsp; &nbsp; &nbsp;                  Accessibility to radial highways\\\n",
    "tax   &nbsp; &nbsp; &nbsp;                  Tax rate\\\n",
    "ptratio   &nbsp; &nbsp; &nbsp;              Pupil/teach ratio in public schools\\\n",
    "lstat     &nbsp; &nbsp; &nbsp;              Percentage of population of lower socio-economic status\\"
   ]
  },
  {
   "cell_type": "markdown",
   "metadata": {},
   "source": [
    "**There are no non-null values. There is one object parameter i.e., Neighborhood that is not required in the current assessment and will be dropped. There are 3 parameters i.e., ‘chas’, ‘rad’, ‘ tax’ that have integer values. ‘chas’ and ‘rad’ are measures indicative of geographical position of the properties w.r.t. to the river & radial highway and its proximity is expected to play an important role in the value of the house. The 3rd integer value of ‘tax’ represents the tax rate a property is likely to incur and also expected to play a dominant role in determining the property price.**"
   ]
  },
  {
   "cell_type": "code",
   "execution_count": 8,
   "metadata": {
    "ExecuteTime": {
     "end_time": "2020-09-28T01:12:20.363577Z",
     "start_time": "2020-09-28T01:12:20.353290Z"
    }
   },
   "outputs": [],
   "source": [
    "# drop neighborhood variable \n",
    "boston = boston.drop(['neighborhood'],axis= 1)"
   ]
  },
  {
   "cell_type": "code",
   "execution_count": 9,
   "metadata": {
    "ExecuteTime": {
     "end_time": "2020-09-28T01:12:21.409616Z",
     "start_time": "2020-09-28T01:12:21.386651Z"
    }
   },
   "outputs": [
    {
     "data": {
      "text/html": [
       "<div>\n",
       "<style scoped>\n",
       "    .dataframe tbody tr th:only-of-type {\n",
       "        vertical-align: middle;\n",
       "    }\n",
       "\n",
       "    .dataframe tbody tr th {\n",
       "        vertical-align: top;\n",
       "    }\n",
       "\n",
       "    .dataframe thead th {\n",
       "        text-align: right;\n",
       "    }\n",
       "</style>\n",
       "<table border=\"1\" class=\"dataframe\">\n",
       "  <thead>\n",
       "    <tr style=\"text-align: right;\">\n",
       "      <th></th>\n",
       "      <th>crim</th>\n",
       "      <th>zn</th>\n",
       "      <th>indus</th>\n",
       "      <th>chas</th>\n",
       "      <th>nox</th>\n",
       "      <th>rooms</th>\n",
       "      <th>age</th>\n",
       "      <th>dis</th>\n",
       "      <th>rad</th>\n",
       "      <th>tax</th>\n",
       "      <th>ptratio</th>\n",
       "      <th>lstat</th>\n",
       "      <th>mv</th>\n",
       "    </tr>\n",
       "  </thead>\n",
       "  <tbody>\n",
       "    <tr>\n",
       "      <th>0</th>\n",
       "      <td>0.00632</td>\n",
       "      <td>18.0</td>\n",
       "      <td>2.31</td>\n",
       "      <td>0</td>\n",
       "      <td>0.538</td>\n",
       "      <td>6.575</td>\n",
       "      <td>65.2</td>\n",
       "      <td>4.0900</td>\n",
       "      <td>1</td>\n",
       "      <td>296</td>\n",
       "      <td>15.3</td>\n",
       "      <td>4.98</td>\n",
       "      <td>24.0</td>\n",
       "    </tr>\n",
       "    <tr>\n",
       "      <th>1</th>\n",
       "      <td>0.02731</td>\n",
       "      <td>0.0</td>\n",
       "      <td>7.07</td>\n",
       "      <td>0</td>\n",
       "      <td>0.469</td>\n",
       "      <td>6.421</td>\n",
       "      <td>78.9</td>\n",
       "      <td>4.9671</td>\n",
       "      <td>2</td>\n",
       "      <td>242</td>\n",
       "      <td>17.8</td>\n",
       "      <td>9.14</td>\n",
       "      <td>21.6</td>\n",
       "    </tr>\n",
       "    <tr>\n",
       "      <th>2</th>\n",
       "      <td>0.02729</td>\n",
       "      <td>0.0</td>\n",
       "      <td>7.07</td>\n",
       "      <td>0</td>\n",
       "      <td>0.469</td>\n",
       "      <td>7.185</td>\n",
       "      <td>61.1</td>\n",
       "      <td>4.9671</td>\n",
       "      <td>2</td>\n",
       "      <td>242</td>\n",
       "      <td>17.8</td>\n",
       "      <td>4.03</td>\n",
       "      <td>34.7</td>\n",
       "    </tr>\n",
       "    <tr>\n",
       "      <th>3</th>\n",
       "      <td>0.03237</td>\n",
       "      <td>0.0</td>\n",
       "      <td>2.18</td>\n",
       "      <td>0</td>\n",
       "      <td>0.458</td>\n",
       "      <td>6.998</td>\n",
       "      <td>45.8</td>\n",
       "      <td>6.0622</td>\n",
       "      <td>3</td>\n",
       "      <td>222</td>\n",
       "      <td>18.7</td>\n",
       "      <td>2.94</td>\n",
       "      <td>33.4</td>\n",
       "    </tr>\n",
       "    <tr>\n",
       "      <th>4</th>\n",
       "      <td>0.06905</td>\n",
       "      <td>0.0</td>\n",
       "      <td>2.18</td>\n",
       "      <td>0</td>\n",
       "      <td>0.458</td>\n",
       "      <td>7.147</td>\n",
       "      <td>54.2</td>\n",
       "      <td>6.0622</td>\n",
       "      <td>3</td>\n",
       "      <td>222</td>\n",
       "      <td>18.7</td>\n",
       "      <td>5.33</td>\n",
       "      <td>36.2</td>\n",
       "    </tr>\n",
       "  </tbody>\n",
       "</table>\n",
       "</div>"
      ],
      "text/plain": [
       "      crim    zn  indus  chas    nox  rooms   age     dis  rad  tax  ptratio  \\\n",
       "0  0.00632  18.0   2.31     0  0.538  6.575  65.2  4.0900    1  296     15.3   \n",
       "1  0.02731   0.0   7.07     0  0.469  6.421  78.9  4.9671    2  242     17.8   \n",
       "2  0.02729   0.0   7.07     0  0.469  7.185  61.1  4.9671    2  242     17.8   \n",
       "3  0.03237   0.0   2.18     0  0.458  6.998  45.8  6.0622    3  222     18.7   \n",
       "4  0.06905   0.0   2.18     0  0.458  7.147  54.2  6.0622    3  222     18.7   \n",
       "\n",
       "   lstat    mv  \n",
       "0   4.98  24.0  \n",
       "1   9.14  21.6  \n",
       "2   4.03  34.7  \n",
       "3   2.94  33.4  \n",
       "4   5.33  36.2  "
      ]
     },
     "execution_count": 9,
     "metadata": {},
     "output_type": "execute_result"
    }
   ],
   "source": [
    "boston.head()"
   ]
  },
  {
   "cell_type": "code",
   "execution_count": 10,
   "metadata": {
    "ExecuteTime": {
     "end_time": "2020-09-28T01:12:35.690051Z",
     "start_time": "2020-09-28T01:12:35.073878Z"
    }
   },
   "outputs": [],
   "source": [
    "# Let's create a test and train set\n",
    "from sklearn.model_selection import train_test_split\n",
    "train_set, test_set = train_test_split(boston, test_size=0.2, random_state = 42)"
   ]
  },
  {
   "cell_type": "code",
   "execution_count": 11,
   "metadata": {
    "ExecuteTime": {
     "end_time": "2020-09-28T01:12:36.748230Z",
     "start_time": "2020-09-28T01:12:36.699365Z"
    }
   },
   "outputs": [
    {
     "data": {
      "text/html": [
       "<div>\n",
       "<style scoped>\n",
       "    .dataframe tbody tr th:only-of-type {\n",
       "        vertical-align: middle;\n",
       "    }\n",
       "\n",
       "    .dataframe tbody tr th {\n",
       "        vertical-align: top;\n",
       "    }\n",
       "\n",
       "    .dataframe thead th {\n",
       "        text-align: right;\n",
       "    }\n",
       "</style>\n",
       "<table border=\"1\" class=\"dataframe\">\n",
       "  <thead>\n",
       "    <tr style=\"text-align: right;\">\n",
       "      <th></th>\n",
       "      <th>crim</th>\n",
       "      <th>zn</th>\n",
       "      <th>indus</th>\n",
       "      <th>chas</th>\n",
       "      <th>nox</th>\n",
       "      <th>rooms</th>\n",
       "      <th>age</th>\n",
       "      <th>dis</th>\n",
       "      <th>rad</th>\n",
       "      <th>tax</th>\n",
       "      <th>ptratio</th>\n",
       "      <th>lstat</th>\n",
       "      <th>mv</th>\n",
       "    </tr>\n",
       "  </thead>\n",
       "  <tbody>\n",
       "    <tr>\n",
       "      <th>crim</th>\n",
       "      <td>1.000000</td>\n",
       "      <td>-0.198855</td>\n",
       "      <td>0.400198</td>\n",
       "      <td>-0.044589</td>\n",
       "      <td>0.396406</td>\n",
       "      <td>-0.200303</td>\n",
       "      <td>0.334090</td>\n",
       "      <td>-0.366487</td>\n",
       "      <td>0.615947</td>\n",
       "      <td>0.576894</td>\n",
       "      <td>0.288970</td>\n",
       "      <td>0.414142</td>\n",
       "      <td>-0.381589</td>\n",
       "    </tr>\n",
       "    <tr>\n",
       "      <th>zn</th>\n",
       "      <td>-0.198855</td>\n",
       "      <td>1.000000</td>\n",
       "      <td>-0.533489</td>\n",
       "      <td>-0.043754</td>\n",
       "      <td>-0.526414</td>\n",
       "      <td>0.274661</td>\n",
       "      <td>-0.575078</td>\n",
       "      <td>0.681817</td>\n",
       "      <td>-0.313790</td>\n",
       "      <td>-0.294267</td>\n",
       "      <td>-0.389163</td>\n",
       "      <td>-0.396572</td>\n",
       "      <td>0.309001</td>\n",
       "    </tr>\n",
       "    <tr>\n",
       "      <th>indus</th>\n",
       "      <td>0.400198</td>\n",
       "      <td>-0.533489</td>\n",
       "      <td>1.000000</td>\n",
       "      <td>0.095158</td>\n",
       "      <td>0.770957</td>\n",
       "      <td>-0.398690</td>\n",
       "      <td>0.636569</td>\n",
       "      <td>-0.707566</td>\n",
       "      <td>0.588952</td>\n",
       "      <td>0.702353</td>\n",
       "      <td>0.348303</td>\n",
       "      <td>0.603644</td>\n",
       "      <td>-0.471009</td>\n",
       "    </tr>\n",
       "    <tr>\n",
       "      <th>chas</th>\n",
       "      <td>-0.044589</td>\n",
       "      <td>-0.043754</td>\n",
       "      <td>0.095158</td>\n",
       "      <td>1.000000</td>\n",
       "      <td>0.135476</td>\n",
       "      <td>0.111272</td>\n",
       "      <td>0.096016</td>\n",
       "      <td>-0.121671</td>\n",
       "      <td>0.028685</td>\n",
       "      <td>0.007746</td>\n",
       "      <td>-0.113003</td>\n",
       "      <td>-0.070652</td>\n",
       "      <td>0.191005</td>\n",
       "    </tr>\n",
       "    <tr>\n",
       "      <th>nox</th>\n",
       "      <td>0.396406</td>\n",
       "      <td>-0.526414</td>\n",
       "      <td>0.770957</td>\n",
       "      <td>0.135476</td>\n",
       "      <td>1.000000</td>\n",
       "      <td>-0.299615</td>\n",
       "      <td>0.720417</td>\n",
       "      <td>-0.772330</td>\n",
       "      <td>0.589061</td>\n",
       "      <td>0.650247</td>\n",
       "      <td>0.161253</td>\n",
       "      <td>0.593862</td>\n",
       "      <td>-0.416781</td>\n",
       "    </tr>\n",
       "    <tr>\n",
       "      <th>rooms</th>\n",
       "      <td>-0.200303</td>\n",
       "      <td>0.274661</td>\n",
       "      <td>-0.398690</td>\n",
       "      <td>0.111272</td>\n",
       "      <td>-0.299615</td>\n",
       "      <td>1.000000</td>\n",
       "      <td>-0.210863</td>\n",
       "      <td>0.198299</td>\n",
       "      <td>-0.199738</td>\n",
       "      <td>-0.281127</td>\n",
       "      <td>-0.342643</td>\n",
       "      <td>-0.612577</td>\n",
       "      <td>0.712355</td>\n",
       "    </tr>\n",
       "    <tr>\n",
       "      <th>age</th>\n",
       "      <td>0.334090</td>\n",
       "      <td>-0.575078</td>\n",
       "      <td>0.636569</td>\n",
       "      <td>0.096016</td>\n",
       "      <td>0.720417</td>\n",
       "      <td>-0.210863</td>\n",
       "      <td>1.000000</td>\n",
       "      <td>-0.756589</td>\n",
       "      <td>0.430321</td>\n",
       "      <td>0.471670</td>\n",
       "      <td>0.240841</td>\n",
       "      <td>0.571051</td>\n",
       "      <td>-0.340479</td>\n",
       "    </tr>\n",
       "    <tr>\n",
       "      <th>dis</th>\n",
       "      <td>-0.366487</td>\n",
       "      <td>0.681817</td>\n",
       "      <td>-0.707566</td>\n",
       "      <td>-0.121671</td>\n",
       "      <td>-0.772330</td>\n",
       "      <td>0.198299</td>\n",
       "      <td>-0.756589</td>\n",
       "      <td>1.000000</td>\n",
       "      <td>-0.483329</td>\n",
       "      <td>-0.523577</td>\n",
       "      <td>-0.217588</td>\n",
       "      <td>-0.494921</td>\n",
       "      <td>0.233617</td>\n",
       "    </tr>\n",
       "    <tr>\n",
       "      <th>rad</th>\n",
       "      <td>0.615947</td>\n",
       "      <td>-0.313790</td>\n",
       "      <td>0.588952</td>\n",
       "      <td>0.028685</td>\n",
       "      <td>0.589061</td>\n",
       "      <td>-0.199738</td>\n",
       "      <td>0.430321</td>\n",
       "      <td>-0.483329</td>\n",
       "      <td>1.000000</td>\n",
       "      <td>0.912527</td>\n",
       "      <td>0.472257</td>\n",
       "      <td>0.480301</td>\n",
       "      <td>-0.389827</td>\n",
       "    </tr>\n",
       "    <tr>\n",
       "      <th>tax</th>\n",
       "      <td>0.576894</td>\n",
       "      <td>-0.294267</td>\n",
       "      <td>0.702353</td>\n",
       "      <td>0.007746</td>\n",
       "      <td>0.650247</td>\n",
       "      <td>-0.281127</td>\n",
       "      <td>0.471670</td>\n",
       "      <td>-0.523577</td>\n",
       "      <td>0.912527</td>\n",
       "      <td>1.000000</td>\n",
       "      <td>0.444836</td>\n",
       "      <td>0.530632</td>\n",
       "      <td>-0.462698</td>\n",
       "    </tr>\n",
       "    <tr>\n",
       "      <th>ptratio</th>\n",
       "      <td>0.288970</td>\n",
       "      <td>-0.389163</td>\n",
       "      <td>0.348303</td>\n",
       "      <td>-0.113003</td>\n",
       "      <td>0.161253</td>\n",
       "      <td>-0.342643</td>\n",
       "      <td>0.240841</td>\n",
       "      <td>-0.217588</td>\n",
       "      <td>0.472257</td>\n",
       "      <td>0.444836</td>\n",
       "      <td>1.000000</td>\n",
       "      <td>0.360167</td>\n",
       "      <td>-0.488105</td>\n",
       "    </tr>\n",
       "    <tr>\n",
       "      <th>lstat</th>\n",
       "      <td>0.414142</td>\n",
       "      <td>-0.396572</td>\n",
       "      <td>0.603644</td>\n",
       "      <td>-0.070652</td>\n",
       "      <td>0.593862</td>\n",
       "      <td>-0.612577</td>\n",
       "      <td>0.571051</td>\n",
       "      <td>-0.494921</td>\n",
       "      <td>0.480301</td>\n",
       "      <td>0.530632</td>\n",
       "      <td>0.360167</td>\n",
       "      <td>1.000000</td>\n",
       "      <td>-0.740217</td>\n",
       "    </tr>\n",
       "    <tr>\n",
       "      <th>mv</th>\n",
       "      <td>-0.381589</td>\n",
       "      <td>0.309001</td>\n",
       "      <td>-0.471009</td>\n",
       "      <td>0.191005</td>\n",
       "      <td>-0.416781</td>\n",
       "      <td>0.712355</td>\n",
       "      <td>-0.340479</td>\n",
       "      <td>0.233617</td>\n",
       "      <td>-0.389827</td>\n",
       "      <td>-0.462698</td>\n",
       "      <td>-0.488105</td>\n",
       "      <td>-0.740217</td>\n",
       "      <td>1.000000</td>\n",
       "    </tr>\n",
       "  </tbody>\n",
       "</table>\n",
       "</div>"
      ],
      "text/plain": [
       "             crim        zn     indus      chas       nox     rooms       age  \\\n",
       "crim     1.000000 -0.198855  0.400198 -0.044589  0.396406 -0.200303  0.334090   \n",
       "zn      -0.198855  1.000000 -0.533489 -0.043754 -0.526414  0.274661 -0.575078   \n",
       "indus    0.400198 -0.533489  1.000000  0.095158  0.770957 -0.398690  0.636569   \n",
       "chas    -0.044589 -0.043754  0.095158  1.000000  0.135476  0.111272  0.096016   \n",
       "nox      0.396406 -0.526414  0.770957  0.135476  1.000000 -0.299615  0.720417   \n",
       "rooms   -0.200303  0.274661 -0.398690  0.111272 -0.299615  1.000000 -0.210863   \n",
       "age      0.334090 -0.575078  0.636569  0.096016  0.720417 -0.210863  1.000000   \n",
       "dis     -0.366487  0.681817 -0.707566 -0.121671 -0.772330  0.198299 -0.756589   \n",
       "rad      0.615947 -0.313790  0.588952  0.028685  0.589061 -0.199738  0.430321   \n",
       "tax      0.576894 -0.294267  0.702353  0.007746  0.650247 -0.281127  0.471670   \n",
       "ptratio  0.288970 -0.389163  0.348303 -0.113003  0.161253 -0.342643  0.240841   \n",
       "lstat    0.414142 -0.396572  0.603644 -0.070652  0.593862 -0.612577  0.571051   \n",
       "mv      -0.381589  0.309001 -0.471009  0.191005 -0.416781  0.712355 -0.340479   \n",
       "\n",
       "              dis       rad       tax   ptratio     lstat        mv  \n",
       "crim    -0.366487  0.615947  0.576894  0.288970  0.414142 -0.381589  \n",
       "zn       0.681817 -0.313790 -0.294267 -0.389163 -0.396572  0.309001  \n",
       "indus   -0.707566  0.588952  0.702353  0.348303  0.603644 -0.471009  \n",
       "chas    -0.121671  0.028685  0.007746 -0.113003 -0.070652  0.191005  \n",
       "nox     -0.772330  0.589061  0.650247  0.161253  0.593862 -0.416781  \n",
       "rooms    0.198299 -0.199738 -0.281127 -0.342643 -0.612577  0.712355  \n",
       "age     -0.756589  0.430321  0.471670  0.240841  0.571051 -0.340479  \n",
       "dis      1.000000 -0.483329 -0.523577 -0.217588 -0.494921  0.233617  \n",
       "rad     -0.483329  1.000000  0.912527  0.472257  0.480301 -0.389827  \n",
       "tax     -0.523577  0.912527  1.000000  0.444836  0.530632 -0.462698  \n",
       "ptratio -0.217588  0.472257  0.444836  1.000000  0.360167 -0.488105  \n",
       "lstat   -0.494921  0.480301  0.530632  0.360167  1.000000 -0.740217  \n",
       "mv       0.233617 -0.389827 -0.462698 -0.488105 -0.740217  1.000000  "
      ]
     },
     "execution_count": 11,
     "metadata": {},
     "output_type": "execute_result"
    }
   ],
   "source": [
    "train_set.corr()"
   ]
  },
  {
   "cell_type": "code",
   "execution_count": 12,
   "metadata": {
    "ExecuteTime": {
     "end_time": "2020-09-28T01:12:44.343305Z",
     "start_time": "2020-09-28T01:12:41.478498Z"
    }
   },
   "outputs": [
    {
     "name": "stdout",
     "output_type": "stream",
     "text": [
      "\n",
      "Histogram of Data of Boston DataFrame:\n"
     ]
    },
    {
     "data": {
      "image/png": "[encoded data removed]",
      "text/plain": [
       "<Figure size 1440x1080 with 16 Axes>"
      ]
     },
     "metadata": {},
     "output_type": "display_data"
    }
   ],
   "source": [
    "# histogram of data\n",
    "print('\\nHistogram of Data of Boston DataFrame:')\n",
    "train_set.hist(bins=50, figsize=(20,15))\n",
    "plt.show()"
   ]
  },
  {
   "cell_type": "code",
   "execution_count": 13,
   "metadata": {},
   "outputs": [],
   "source": [
    "#### by transforming features logarithmically and polynomially does it give us better predictors?"
   ]
  },
  {
   "cell_type": "code",
   "execution_count": 13,
   "metadata": {
    "ExecuteTime": {
     "end_time": "2020-09-28T01:13:02.886671Z",
     "start_time": "2020-09-28T01:13:02.866724Z"
    }
   },
   "outputs": [
    {
     "name": "stderr",
     "output_type": "stream",
     "text": [
      "C:\\Users\\Jianglan\\Anaconda3\\lib\\site-packages\\ipykernel_launcher.py:1: SettingWithCopyWarning: \n",
      "A value is trying to be set on a copy of a slice from a DataFrame.\n",
      "Try using .loc[row_indexer,col_indexer] = value instead\n",
      "\n",
      "See the caveats in the documentation: https://pandas.pydata.org/pandas-docs/stable/user_guide/indexing.html#returning-a-view-versus-a-copy\n",
      "  \"\"\"Entry point for launching an IPython kernel.\n",
      "C:\\Users\\Jianglan\\Anaconda3\\lib\\site-packages\\ipykernel_launcher.py:2: SettingWithCopyWarning: \n",
      "A value is trying to be set on a copy of a slice from a DataFrame.\n",
      "Try using .loc[row_indexer,col_indexer] = value instead\n",
      "\n",
      "See the caveats in the documentation: https://pandas.pydata.org/pandas-docs/stable/user_guide/indexing.html#returning-a-view-versus-a-copy\n",
      "  \n",
      "C:\\Users\\Jianglan\\Anaconda3\\lib\\site-packages\\ipykernel_launcher.py:3: SettingWithCopyWarning: \n",
      "A value is trying to be set on a copy of a slice from a DataFrame.\n",
      "Try using .loc[row_indexer,col_indexer] = value instead\n",
      "\n",
      "See the caveats in the documentation: https://pandas.pydata.org/pandas-docs/stable/user_guide/indexing.html#returning-a-view-versus-a-copy\n",
      "  This is separate from the ipykernel package so we can avoid doing imports until\n",
      "C:\\Users\\Jianglan\\Anaconda3\\lib\\site-packages\\ipykernel_launcher.py:4: SettingWithCopyWarning: \n",
      "A value is trying to be set on a copy of a slice from a DataFrame.\n",
      "Try using .loc[row_indexer,col_indexer] = value instead\n",
      "\n",
      "See the caveats in the documentation: https://pandas.pydata.org/pandas-docs/stable/user_guide/indexing.html#returning-a-view-versus-a-copy\n",
      "  after removing the cwd from sys.path.\n",
      "C:\\Users\\Jianglan\\Anaconda3\\lib\\site-packages\\ipykernel_launcher.py:5: SettingWithCopyWarning: \n",
      "A value is trying to be set on a copy of a slice from a DataFrame.\n",
      "Try using .loc[row_indexer,col_indexer] = value instead\n",
      "\n",
      "See the caveats in the documentation: https://pandas.pydata.org/pandas-docs/stable/user_guide/indexing.html#returning-a-view-versus-a-copy\n",
      "  \"\"\"\n",
      "C:\\Users\\Jianglan\\Anaconda3\\lib\\site-packages\\ipykernel_launcher.py:6: SettingWithCopyWarning: \n",
      "A value is trying to be set on a copy of a slice from a DataFrame.\n",
      "Try using .loc[row_indexer,col_indexer] = value instead\n",
      "\n",
      "See the caveats in the documentation: https://pandas.pydata.org/pandas-docs/stable/user_guide/indexing.html#returning-a-view-versus-a-copy\n",
      "  \n",
      "C:\\Users\\Jianglan\\Anaconda3\\lib\\site-packages\\ipykernel_launcher.py:7: SettingWithCopyWarning: \n",
      "A value is trying to be set on a copy of a slice from a DataFrame.\n",
      "Try using .loc[row_indexer,col_indexer] = value instead\n",
      "\n",
      "See the caveats in the documentation: https://pandas.pydata.org/pandas-docs/stable/user_guide/indexing.html#returning-a-view-versus-a-copy\n",
      "  import sys\n"
     ]
    }
   ],
   "source": [
    "train_set['logAge'] = np.log10(train_set['age'])\n",
    "train_set['logLstat'] = np.log10(train_set['lstat'])\n",
    "train_set['logDis']= np.log10(train_set['dis'])\n",
    "train_set['logMv'] = np.log10(train_set['mv'])\n",
    "train_set['sqAge'] = np.square(train_set['age'])\n",
    "train_set['sqLstat'] = np.square(train_set['lstat'])\n",
    "train_set['sqDis'] = np.square(train_set['dis'])"
   ]
  },
  {
   "cell_type": "code",
   "execution_count": 14,
   "metadata": {
    "ExecuteTime": {
     "end_time": "2020-09-28T01:13:10.649356Z",
     "start_time": "2020-09-28T01:13:10.600518Z"
    }
   },
   "outputs": [
    {
     "data": {
      "text/html": [
       "<div>\n",
       "<style scoped>\n",
       "    .dataframe tbody tr th:only-of-type {\n",
       "        vertical-align: middle;\n",
       "    }\n",
       "\n",
       "    .dataframe tbody tr th {\n",
       "        vertical-align: top;\n",
       "    }\n",
       "\n",
       "    .dataframe thead th {\n",
       "        text-align: right;\n",
       "    }\n",
       "</style>\n",
       "<table border=\"1\" class=\"dataframe\">\n",
       "  <thead>\n",
       "    <tr style=\"text-align: right;\">\n",
       "      <th></th>\n",
       "      <th>crim</th>\n",
       "      <th>zn</th>\n",
       "      <th>indus</th>\n",
       "      <th>chas</th>\n",
       "      <th>nox</th>\n",
       "      <th>rooms</th>\n",
       "      <th>age</th>\n",
       "      <th>dis</th>\n",
       "      <th>rad</th>\n",
       "      <th>tax</th>\n",
       "      <th>ptratio</th>\n",
       "      <th>lstat</th>\n",
       "      <th>mv</th>\n",
       "      <th>logAge</th>\n",
       "      <th>logLstat</th>\n",
       "      <th>logDis</th>\n",
       "      <th>logMv</th>\n",
       "      <th>sqAge</th>\n",
       "      <th>sqLstat</th>\n",
       "      <th>sqDis</th>\n",
       "    </tr>\n",
       "  </thead>\n",
       "  <tbody>\n",
       "    <tr>\n",
       "      <th>crim</th>\n",
       "      <td>1.000000</td>\n",
       "      <td>-0.198855</td>\n",
       "      <td>0.400198</td>\n",
       "      <td>-0.044589</td>\n",
       "      <td>0.396406</td>\n",
       "      <td>-0.200303</td>\n",
       "      <td>0.334090</td>\n",
       "      <td>-0.366487</td>\n",
       "      <td>0.615947</td>\n",
       "      <td>0.576894</td>\n",
       "      <td>0.288970</td>\n",
       "      <td>0.414142</td>\n",
       "      <td>-0.381589</td>\n",
       "      <td>0.275269</td>\n",
       "      <td>0.372532</td>\n",
       "      <td>-0.445025</td>\n",
       "      <td>-0.514660</td>\n",
       "      <td>0.361844</td>\n",
       "      <td>0.398172</td>\n",
       "      <td>-0.288052</td>\n",
       "    </tr>\n",
       "    <tr>\n",
       "      <th>zn</th>\n",
       "      <td>-0.198855</td>\n",
       "      <td>1.000000</td>\n",
       "      <td>-0.533489</td>\n",
       "      <td>-0.043754</td>\n",
       "      <td>-0.526414</td>\n",
       "      <td>0.274661</td>\n",
       "      <td>-0.575078</td>\n",
       "      <td>0.681817</td>\n",
       "      <td>-0.313790</td>\n",
       "      <td>-0.294267</td>\n",
       "      <td>-0.389163</td>\n",
       "      <td>-0.396572</td>\n",
       "      <td>0.309001</td>\n",
       "      <td>-0.525689</td>\n",
       "      <td>-0.443067</td>\n",
       "      <td>0.606355</td>\n",
       "      <td>0.331421</td>\n",
       "      <td>-0.550211</td>\n",
       "      <td>-0.318388</td>\n",
       "      <td>0.706115</td>\n",
       "    </tr>\n",
       "    <tr>\n",
       "      <th>indus</th>\n",
       "      <td>0.400198</td>\n",
       "      <td>-0.533489</td>\n",
       "      <td>1.000000</td>\n",
       "      <td>0.095158</td>\n",
       "      <td>0.770957</td>\n",
       "      <td>-0.398690</td>\n",
       "      <td>0.636569</td>\n",
       "      <td>-0.707566</td>\n",
       "      <td>0.588952</td>\n",
       "      <td>0.702353</td>\n",
       "      <td>0.348303</td>\n",
       "      <td>0.603644</td>\n",
       "      <td>-0.471009</td>\n",
       "      <td>0.534948</td>\n",
       "      <td>0.587353</td>\n",
       "      <td>-0.759717</td>\n",
       "      <td>-0.533247</td>\n",
       "      <td>0.670606</td>\n",
       "      <td>0.536730</td>\n",
       "      <td>-0.619169</td>\n",
       "    </tr>\n",
       "    <tr>\n",
       "      <th>chas</th>\n",
       "      <td>-0.044589</td>\n",
       "      <td>-0.043754</td>\n",
       "      <td>0.095158</td>\n",
       "      <td>1.000000</td>\n",
       "      <td>0.135476</td>\n",
       "      <td>0.111272</td>\n",
       "      <td>0.096016</td>\n",
       "      <td>-0.121671</td>\n",
       "      <td>0.028685</td>\n",
       "      <td>0.007746</td>\n",
       "      <td>-0.113003</td>\n",
       "      <td>-0.070652</td>\n",
       "      <td>0.191005</td>\n",
       "      <td>0.098205</td>\n",
       "      <td>-0.093815</td>\n",
       "      <td>-0.119420</td>\n",
       "      <td>0.163793</td>\n",
       "      <td>0.088351</td>\n",
       "      <td>-0.060314</td>\n",
       "      <td>-0.119460</td>\n",
       "    </tr>\n",
       "    <tr>\n",
       "      <th>nox</th>\n",
       "      <td>0.396406</td>\n",
       "      <td>-0.526414</td>\n",
       "      <td>0.770957</td>\n",
       "      <td>0.135476</td>\n",
       "      <td>1.000000</td>\n",
       "      <td>-0.299615</td>\n",
       "      <td>0.720417</td>\n",
       "      <td>-0.772330</td>\n",
       "      <td>0.589061</td>\n",
       "      <td>0.650247</td>\n",
       "      <td>0.161253</td>\n",
       "      <td>0.593862</td>\n",
       "      <td>-0.416781</td>\n",
       "      <td>0.628373</td>\n",
       "      <td>0.575079</td>\n",
       "      <td>-0.831965</td>\n",
       "      <td>-0.502542</td>\n",
       "      <td>0.744978</td>\n",
       "      <td>0.536696</td>\n",
       "      <td>-0.671874</td>\n",
       "    </tr>\n",
       "    <tr>\n",
       "      <th>rooms</th>\n",
       "      <td>-0.200303</td>\n",
       "      <td>0.274661</td>\n",
       "      <td>-0.398690</td>\n",
       "      <td>0.111272</td>\n",
       "      <td>-0.299615</td>\n",
       "      <td>1.000000</td>\n",
       "      <td>-0.210863</td>\n",
       "      <td>0.198299</td>\n",
       "      <td>-0.199738</td>\n",
       "      <td>-0.281127</td>\n",
       "      <td>-0.342643</td>\n",
       "      <td>-0.612577</td>\n",
       "      <td>0.712355</td>\n",
       "      <td>-0.188589</td>\n",
       "      <td>-0.670184</td>\n",
       "      <td>0.249672</td>\n",
       "      <td>0.643921</td>\n",
       "      <td>-0.223871</td>\n",
       "      <td>-0.535569</td>\n",
       "      <td>0.155541</td>\n",
       "    </tr>\n",
       "    <tr>\n",
       "      <th>age</th>\n",
       "      <td>0.334090</td>\n",
       "      <td>-0.575078</td>\n",
       "      <td>0.636569</td>\n",
       "      <td>0.096016</td>\n",
       "      <td>0.720417</td>\n",
       "      <td>-0.210863</td>\n",
       "      <td>1.000000</td>\n",
       "      <td>-0.756589</td>\n",
       "      <td>0.430321</td>\n",
       "      <td>0.471670</td>\n",
       "      <td>0.240841</td>\n",
       "      <td>0.571051</td>\n",
       "      <td>-0.340479</td>\n",
       "      <td>0.947223</td>\n",
       "      <td>0.568656</td>\n",
       "      <td>-0.780887</td>\n",
       "      <td>-0.423135</td>\n",
       "      <td>0.981690</td>\n",
       "      <td>0.500416</td>\n",
       "      <td>-0.681339</td>\n",
       "    </tr>\n",
       "    <tr>\n",
       "      <th>dis</th>\n",
       "      <td>-0.366487</td>\n",
       "      <td>0.681817</td>\n",
       "      <td>-0.707566</td>\n",
       "      <td>-0.121671</td>\n",
       "      <td>-0.772330</td>\n",
       "      <td>0.198299</td>\n",
       "      <td>-0.756589</td>\n",
       "      <td>1.000000</td>\n",
       "      <td>-0.483329</td>\n",
       "      <td>-0.523577</td>\n",
       "      <td>-0.217588</td>\n",
       "      <td>-0.494921</td>\n",
       "      <td>0.233617</td>\n",
       "      <td>-0.687870</td>\n",
       "      <td>-0.476937</td>\n",
       "      <td>0.966825</td>\n",
       "      <td>0.331354</td>\n",
       "      <td>-0.755102</td>\n",
       "      <td>-0.445521</td>\n",
       "      <td>0.969567</td>\n",
       "    </tr>\n",
       "    <tr>\n",
       "      <th>rad</th>\n",
       "      <td>0.615947</td>\n",
       "      <td>-0.313790</td>\n",
       "      <td>0.588952</td>\n",
       "      <td>0.028685</td>\n",
       "      <td>0.589061</td>\n",
       "      <td>-0.199738</td>\n",
       "      <td>0.430321</td>\n",
       "      <td>-0.483329</td>\n",
       "      <td>1.000000</td>\n",
       "      <td>0.912527</td>\n",
       "      <td>0.472257</td>\n",
       "      <td>0.480301</td>\n",
       "      <td>-0.389827</td>\n",
       "      <td>0.370353</td>\n",
       "      <td>0.453553</td>\n",
       "      <td>-0.544004</td>\n",
       "      <td>-0.496900</td>\n",
       "      <td>0.448185</td>\n",
       "      <td>0.438240</td>\n",
       "      <td>-0.402445</td>\n",
       "    </tr>\n",
       "    <tr>\n",
       "      <th>tax</th>\n",
       "      <td>0.576894</td>\n",
       "      <td>-0.294267</td>\n",
       "      <td>0.702353</td>\n",
       "      <td>0.007746</td>\n",
       "      <td>0.650247</td>\n",
       "      <td>-0.281127</td>\n",
       "      <td>0.471670</td>\n",
       "      <td>-0.523577</td>\n",
       "      <td>0.912527</td>\n",
       "      <td>1.000000</td>\n",
       "      <td>0.444836</td>\n",
       "      <td>0.530632</td>\n",
       "      <td>-0.462698</td>\n",
       "      <td>0.393381</td>\n",
       "      <td>0.505188</td>\n",
       "      <td>-0.601859</td>\n",
       "      <td>-0.559916</td>\n",
       "      <td>0.504871</td>\n",
       "      <td>0.480748</td>\n",
       "      <td>-0.424721</td>\n",
       "    </tr>\n",
       "    <tr>\n",
       "      <th>ptratio</th>\n",
       "      <td>0.288970</td>\n",
       "      <td>-0.389163</td>\n",
       "      <td>0.348303</td>\n",
       "      <td>-0.113003</td>\n",
       "      <td>0.161253</td>\n",
       "      <td>-0.342643</td>\n",
       "      <td>0.240841</td>\n",
       "      <td>-0.217588</td>\n",
       "      <td>0.472257</td>\n",
       "      <td>0.444836</td>\n",
       "      <td>1.000000</td>\n",
       "      <td>0.360167</td>\n",
       "      <td>-0.488105</td>\n",
       "      <td>0.217928</td>\n",
       "      <td>0.396618</td>\n",
       "      <td>-0.213802</td>\n",
       "      <td>-0.489638</td>\n",
       "      <td>0.235179</td>\n",
       "      <td>0.290313</td>\n",
       "      <td>-0.197624</td>\n",
       "    </tr>\n",
       "    <tr>\n",
       "      <th>lstat</th>\n",
       "      <td>0.414142</td>\n",
       "      <td>-0.396572</td>\n",
       "      <td>0.603644</td>\n",
       "      <td>-0.070652</td>\n",
       "      <td>0.593862</td>\n",
       "      <td>-0.612577</td>\n",
       "      <td>0.571051</td>\n",
       "      <td>-0.494921</td>\n",
       "      <td>0.480301</td>\n",
       "      <td>0.530632</td>\n",
       "      <td>0.360167</td>\n",
       "      <td>1.000000</td>\n",
       "      <td>-0.740217</td>\n",
       "      <td>0.496488</td>\n",
       "      <td>0.943939</td>\n",
       "      <td>-0.558166</td>\n",
       "      <td>-0.806598</td>\n",
       "      <td>0.596890</td>\n",
       "      <td>0.961526</td>\n",
       "      <td>-0.420010</td>\n",
       "    </tr>\n",
       "    <tr>\n",
       "      <th>mv</th>\n",
       "      <td>-0.381589</td>\n",
       "      <td>0.309001</td>\n",
       "      <td>-0.471009</td>\n",
       "      <td>0.191005</td>\n",
       "      <td>-0.416781</td>\n",
       "      <td>0.712355</td>\n",
       "      <td>-0.340479</td>\n",
       "      <td>0.233617</td>\n",
       "      <td>-0.389827</td>\n",
       "      <td>-0.462698</td>\n",
       "      <td>-0.488105</td>\n",
       "      <td>-0.740217</td>\n",
       "      <td>1.000000</td>\n",
       "      <td>-0.299621</td>\n",
       "      <td>-0.817302</td>\n",
       "      <td>0.274144</td>\n",
       "      <td>0.954805</td>\n",
       "      <td>-0.353475</td>\n",
       "      <td>-0.625046</td>\n",
       "      <td>0.186771</td>\n",
       "    </tr>\n",
       "    <tr>\n",
       "      <th>logAge</th>\n",
       "      <td>0.275269</td>\n",
       "      <td>-0.525689</td>\n",
       "      <td>0.534948</td>\n",
       "      <td>0.098205</td>\n",
       "      <td>0.628373</td>\n",
       "      <td>-0.188589</td>\n",
       "      <td>0.947223</td>\n",
       "      <td>-0.687870</td>\n",
       "      <td>0.370353</td>\n",
       "      <td>0.393381</td>\n",
       "      <td>0.217928</td>\n",
       "      <td>0.496488</td>\n",
       "      <td>-0.299621</td>\n",
       "      <td>1.000000</td>\n",
       "      <td>0.522193</td>\n",
       "      <td>-0.691755</td>\n",
       "      <td>-0.366267</td>\n",
       "      <td>0.876107</td>\n",
       "      <td>0.415526</td>\n",
       "      <td>-0.631855</td>\n",
       "    </tr>\n",
       "    <tr>\n",
       "      <th>logLstat</th>\n",
       "      <td>0.372532</td>\n",
       "      <td>-0.443067</td>\n",
       "      <td>0.587353</td>\n",
       "      <td>-0.093815</td>\n",
       "      <td>0.575079</td>\n",
       "      <td>-0.670184</td>\n",
       "      <td>0.568656</td>\n",
       "      <td>-0.476937</td>\n",
       "      <td>0.453553</td>\n",
       "      <td>0.505188</td>\n",
       "      <td>0.396618</td>\n",
       "      <td>0.943939</td>\n",
       "      <td>-0.817302</td>\n",
       "      <td>0.522193</td>\n",
       "      <td>1.000000</td>\n",
       "      <td>-0.516409</td>\n",
       "      <td>-0.825943</td>\n",
       "      <td>0.573358</td>\n",
       "      <td>0.826045</td>\n",
       "      <td>-0.416898</td>\n",
       "    </tr>\n",
       "    <tr>\n",
       "      <th>logDis</th>\n",
       "      <td>-0.445025</td>\n",
       "      <td>0.606355</td>\n",
       "      <td>-0.759717</td>\n",
       "      <td>-0.119420</td>\n",
       "      <td>-0.831965</td>\n",
       "      <td>0.249672</td>\n",
       "      <td>-0.780887</td>\n",
       "      <td>0.966825</td>\n",
       "      <td>-0.544004</td>\n",
       "      <td>-0.601859</td>\n",
       "      <td>-0.213802</td>\n",
       "      <td>-0.558166</td>\n",
       "      <td>0.274144</td>\n",
       "      <td>-0.691755</td>\n",
       "      <td>-0.516409</td>\n",
       "      <td>1.000000</td>\n",
       "      <td>0.391753</td>\n",
       "      <td>-0.797375</td>\n",
       "      <td>-0.523578</td>\n",
       "      <td>0.879977</td>\n",
       "    </tr>\n",
       "    <tr>\n",
       "      <th>logMv</th>\n",
       "      <td>-0.514660</td>\n",
       "      <td>0.331421</td>\n",
       "      <td>-0.533247</td>\n",
       "      <td>0.163793</td>\n",
       "      <td>-0.502542</td>\n",
       "      <td>0.643921</td>\n",
       "      <td>-0.423135</td>\n",
       "      <td>0.331354</td>\n",
       "      <td>-0.496900</td>\n",
       "      <td>-0.559916</td>\n",
       "      <td>-0.489638</td>\n",
       "      <td>-0.806598</td>\n",
       "      <td>0.954805</td>\n",
       "      <td>-0.366267</td>\n",
       "      <td>-0.825943</td>\n",
       "      <td>0.391753</td>\n",
       "      <td>1.000000</td>\n",
       "      <td>-0.444517</td>\n",
       "      <td>-0.722950</td>\n",
       "      <td>0.264620</td>\n",
       "    </tr>\n",
       "    <tr>\n",
       "      <th>sqAge</th>\n",
       "      <td>0.361844</td>\n",
       "      <td>-0.550211</td>\n",
       "      <td>0.670606</td>\n",
       "      <td>0.088351</td>\n",
       "      <td>0.744978</td>\n",
       "      <td>-0.223871</td>\n",
       "      <td>0.981690</td>\n",
       "      <td>-0.755102</td>\n",
       "      <td>0.448185</td>\n",
       "      <td>0.504871</td>\n",
       "      <td>0.235179</td>\n",
       "      <td>0.596890</td>\n",
       "      <td>-0.353475</td>\n",
       "      <td>0.876107</td>\n",
       "      <td>0.573358</td>\n",
       "      <td>-0.797375</td>\n",
       "      <td>-0.444517</td>\n",
       "      <td>1.000000</td>\n",
       "      <td>0.538255</td>\n",
       "      <td>-0.667526</td>\n",
       "    </tr>\n",
       "    <tr>\n",
       "      <th>sqLstat</th>\n",
       "      <td>0.398172</td>\n",
       "      <td>-0.318388</td>\n",
       "      <td>0.536730</td>\n",
       "      <td>-0.060314</td>\n",
       "      <td>0.536696</td>\n",
       "      <td>-0.535569</td>\n",
       "      <td>0.500416</td>\n",
       "      <td>-0.445521</td>\n",
       "      <td>0.438240</td>\n",
       "      <td>0.480748</td>\n",
       "      <td>0.290313</td>\n",
       "      <td>0.961526</td>\n",
       "      <td>-0.625046</td>\n",
       "      <td>0.415526</td>\n",
       "      <td>0.826045</td>\n",
       "      <td>-0.523578</td>\n",
       "      <td>-0.722950</td>\n",
       "      <td>0.538255</td>\n",
       "      <td>1.000000</td>\n",
       "      <td>-0.366464</td>\n",
       "    </tr>\n",
       "    <tr>\n",
       "      <th>sqDis</th>\n",
       "      <td>-0.288052</td>\n",
       "      <td>0.706115</td>\n",
       "      <td>-0.619169</td>\n",
       "      <td>-0.119460</td>\n",
       "      <td>-0.671874</td>\n",
       "      <td>0.155541</td>\n",
       "      <td>-0.681339</td>\n",
       "      <td>0.969567</td>\n",
       "      <td>-0.402445</td>\n",
       "      <td>-0.424721</td>\n",
       "      <td>-0.197624</td>\n",
       "      <td>-0.420010</td>\n",
       "      <td>0.186771</td>\n",
       "      <td>-0.631855</td>\n",
       "      <td>-0.416898</td>\n",
       "      <td>0.879977</td>\n",
       "      <td>0.264620</td>\n",
       "      <td>-0.667526</td>\n",
       "      <td>-0.366464</td>\n",
       "      <td>1.000000</td>\n",
       "    </tr>\n",
       "  </tbody>\n",
       "</table>\n",
       "</div>"
      ],
      "text/plain": [
       "              crim        zn     indus      chas       nox     rooms  \\\n",
       "crim      1.000000 -0.198855  0.400198 -0.044589  0.396406 -0.200303   \n",
       "zn       -0.198855  1.000000 -0.533489 -0.043754 -0.526414  0.274661   \n",
       "indus     0.400198 -0.533489  1.000000  0.095158  0.770957 -0.398690   \n",
       "chas     -0.044589 -0.043754  0.095158  1.000000  0.135476  0.111272   \n",
       "nox       0.396406 -0.526414  0.770957  0.135476  1.000000 -0.299615   \n",
       "rooms    -0.200303  0.274661 -0.398690  0.111272 -0.299615  1.000000   \n",
       "age       0.334090 -0.575078  0.636569  0.096016  0.720417 -0.210863   \n",
       "dis      -0.366487  0.681817 -0.707566 -0.121671 -0.772330  0.198299   \n",
       "rad       0.615947 -0.313790  0.588952  0.028685  0.589061 -0.199738   \n",
       "tax       0.576894 -0.294267  0.702353  0.007746  0.650247 -0.281127   \n",
       "ptratio   0.288970 -0.389163  0.348303 -0.113003  0.161253 -0.342643   \n",
       "lstat     0.414142 -0.396572  0.603644 -0.070652  0.593862 -0.612577   \n",
       "mv       -0.381589  0.309001 -0.471009  0.191005 -0.416781  0.712355   \n",
       "logAge    0.275269 -0.525689  0.534948  0.098205  0.628373 -0.188589   \n",
       "logLstat  0.372532 -0.443067  0.587353 -0.093815  0.575079 -0.670184   \n",
       "logDis   -0.445025  0.606355 -0.759717 -0.119420 -0.831965  0.249672   \n",
       "logMv    -0.514660  0.331421 -0.533247  0.163793 -0.502542  0.643921   \n",
       "sqAge     0.361844 -0.550211  0.670606  0.088351  0.744978 -0.223871   \n",
       "sqLstat   0.398172 -0.318388  0.536730 -0.060314  0.536696 -0.535569   \n",
       "sqDis    -0.288052  0.706115 -0.619169 -0.119460 -0.671874  0.155541   \n",
       "\n",
       "               age       dis       rad       tax   ptratio     lstat  \\\n",
       "crim      0.334090 -0.366487  0.615947  0.576894  0.288970  0.414142   \n",
       "zn       -0.575078  0.681817 -0.313790 -0.294267 -0.389163 -0.396572   \n",
       "indus     0.636569 -0.707566  0.588952  0.702353  0.348303  0.603644   \n",
       "chas      0.096016 -0.121671  0.028685  0.007746 -0.113003 -0.070652   \n",
       "nox       0.720417 -0.772330  0.589061  0.650247  0.161253  0.593862   \n",
       "rooms    -0.210863  0.198299 -0.199738 -0.281127 -0.342643 -0.612577   \n",
       "age       1.000000 -0.756589  0.430321  0.471670  0.240841  0.571051   \n",
       "dis      -0.756589  1.000000 -0.483329 -0.523577 -0.217588 -0.494921   \n",
       "rad       0.430321 -0.483329  1.000000  0.912527  0.472257  0.480301   \n",
       "tax       0.471670 -0.523577  0.912527  1.000000  0.444836  0.530632   \n",
       "ptratio   0.240841 -0.217588  0.472257  0.444836  1.000000  0.360167   \n",
       "lstat     0.571051 -0.494921  0.480301  0.530632  0.360167  1.000000   \n",
       "mv       -0.340479  0.233617 -0.389827 -0.462698 -0.488105 -0.740217   \n",
       "logAge    0.947223 -0.687870  0.370353  0.393381  0.217928  0.496488   \n",
       "logLstat  0.568656 -0.476937  0.453553  0.505188  0.396618  0.943939   \n",
       "logDis   -0.780887  0.966825 -0.544004 -0.601859 -0.213802 -0.558166   \n",
       "logMv    -0.423135  0.331354 -0.496900 -0.559916 -0.489638 -0.806598   \n",
       "sqAge     0.981690 -0.755102  0.448185  0.504871  0.235179  0.596890   \n",
       "sqLstat   0.500416 -0.445521  0.438240  0.480748  0.290313  0.961526   \n",
       "sqDis    -0.681339  0.969567 -0.402445 -0.424721 -0.197624 -0.420010   \n",
       "\n",
       "                mv    logAge  logLstat    logDis     logMv     sqAge  \\\n",
       "crim     -0.381589  0.275269  0.372532 -0.445025 -0.514660  0.361844   \n",
       "zn        0.309001 -0.525689 -0.443067  0.606355  0.331421 -0.550211   \n",
       "indus    -0.471009  0.534948  0.587353 -0.759717 -0.533247  0.670606   \n",
       "chas      0.191005  0.098205 -0.093815 -0.119420  0.163793  0.088351   \n",
       "nox      -0.416781  0.628373  0.575079 -0.831965 -0.502542  0.744978   \n",
       "rooms     0.712355 -0.188589 -0.670184  0.249672  0.643921 -0.223871   \n",
       "age      -0.340479  0.947223  0.568656 -0.780887 -0.423135  0.981690   \n",
       "dis       0.233617 -0.687870 -0.476937  0.966825  0.331354 -0.755102   \n",
       "rad      -0.389827  0.370353  0.453553 -0.544004 -0.496900  0.448185   \n",
       "tax      -0.462698  0.393381  0.505188 -0.601859 -0.559916  0.504871   \n",
       "ptratio  -0.488105  0.217928  0.396618 -0.213802 -0.489638  0.235179   \n",
       "lstat    -0.740217  0.496488  0.943939 -0.558166 -0.806598  0.596890   \n",
       "mv        1.000000 -0.299621 -0.817302  0.274144  0.954805 -0.353475   \n",
       "logAge   -0.299621  1.000000  0.522193 -0.691755 -0.366267  0.876107   \n",
       "logLstat -0.817302  0.522193  1.000000 -0.516409 -0.825943  0.573358   \n",
       "logDis    0.274144 -0.691755 -0.516409  1.000000  0.391753 -0.797375   \n",
       "logMv     0.954805 -0.366267 -0.825943  0.391753  1.000000 -0.444517   \n",
       "sqAge    -0.353475  0.876107  0.573358 -0.797375 -0.444517  1.000000   \n",
       "sqLstat  -0.625046  0.415526  0.826045 -0.523578 -0.722950  0.538255   \n",
       "sqDis     0.186771 -0.631855 -0.416898  0.879977  0.264620 -0.667526   \n",
       "\n",
       "           sqLstat     sqDis  \n",
       "crim      0.398172 -0.288052  \n",
       "zn       -0.318388  0.706115  \n",
       "indus     0.536730 -0.619169  \n",
       "chas     -0.060314 -0.119460  \n",
       "nox       0.536696 -0.671874  \n",
       "rooms    -0.535569  0.155541  \n",
       "age       0.500416 -0.681339  \n",
       "dis      -0.445521  0.969567  \n",
       "rad       0.438240 -0.402445  \n",
       "tax       0.480748 -0.424721  \n",
       "ptratio   0.290313 -0.197624  \n",
       "lstat     0.961526 -0.420010  \n",
       "mv       -0.625046  0.186771  \n",
       "logAge    0.415526 -0.631855  \n",
       "logLstat  0.826045 -0.416898  \n",
       "logDis   -0.523578  0.879977  \n",
       "logMv    -0.722950  0.264620  \n",
       "sqAge     0.538255 -0.667526  \n",
       "sqLstat   1.000000 -0.366464  \n",
       "sqDis    -0.366464  1.000000  "
      ]
     },
     "execution_count": 14,
     "metadata": {},
     "output_type": "execute_result"
    }
   ],
   "source": [
    "train_set.corr()"
   ]
  },
  {
   "cell_type": "code",
   "execution_count": 15,
   "metadata": {
    "ExecuteTime": {
     "end_time": "2020-09-28T01:13:15.635382Z",
     "start_time": "2020-09-28T01:13:14.149273Z"
    }
   },
   "outputs": [
    {
     "data": {
      "text/plain": [
       "array([[<AxesSubplot:xlabel='mv', ylabel='mv'>,\n",
       "        <AxesSubplot:xlabel='logAge', ylabel='mv'>,\n",
       "        <AxesSubplot:xlabel='logLstat', ylabel='mv'>,\n",
       "        <AxesSubplot:xlabel='logDis', ylabel='mv'>],\n",
       "       [<AxesSubplot:xlabel='mv', ylabel='logAge'>,\n",
       "        <AxesSubplot:xlabel='logAge', ylabel='logAge'>,\n",
       "        <AxesSubplot:xlabel='logLstat', ylabel='logAge'>,\n",
       "        <AxesSubplot:xlabel='logDis', ylabel='logAge'>],\n",
       "       [<AxesSubplot:xlabel='mv', ylabel='logLstat'>,\n",
       "        <AxesSubplot:xlabel='logAge', ylabel='logLstat'>,\n",
       "        <AxesSubplot:xlabel='logLstat', ylabel='logLstat'>,\n",
       "        <AxesSubplot:xlabel='logDis', ylabel='logLstat'>],\n",
       "       [<AxesSubplot:xlabel='mv', ylabel='logDis'>,\n",
       "        <AxesSubplot:xlabel='logAge', ylabel='logDis'>,\n",
       "        <AxesSubplot:xlabel='logLstat', ylabel='logDis'>,\n",
       "        <AxesSubplot:xlabel='logDis', ylabel='logDis'>]], dtype=object)"
      ]
     },
     "execution_count": 15,
     "metadata": {},
     "output_type": "execute_result"
    },
    {
     "data": {
      "image/png": "[encoded data removed]",
      "text/plain": [
       "<Figure size 1440x1080 with 16 Axes>"
      ]
     },
     "metadata": {},
     "output_type": "display_data"
    }
   ],
   "source": [
    "# let's look at how log changes have impacted the linearity of features\n",
    "from pandas.plotting import scatter_matrix\n",
    "scatter_matrix(train_set[['mv', 'logAge','logLstat','logDis']], figsize=(20,15))"
   ]
  },
  {
   "cell_type": "code",
   "execution_count": 16,
   "metadata": {
    "ExecuteTime": {
     "end_time": "2020-09-28T01:13:25.544997Z",
     "start_time": "2020-09-28T01:13:25.538048Z"
    }
   },
   "outputs": [],
   "source": [
    "# We have to decide how we are going to deal with outliers.\n",
    "# Let's take a loo\n",
    "def outliers(dataset,attribute):\n",
    "    q1 = dataset[attribute].quantile(0.25)\n",
    "    q3 = dataset[attribute].quantile(0.75)\n",
    "    IQR = q3 - q1\n",
    "    L_out = q1 - 1.5* IQR\n",
    "    U_out = q3 + 1.5* IQR\n",
    "    return L_out, U_out"
   ]
  },
  {
   "cell_type": "code",
   "execution_count": 17,
   "metadata": {
    "ExecuteTime": {
     "end_time": "2020-09-28T01:13:26.516029Z",
     "start_time": "2020-09-28T01:13:26.506437Z"
    }
   },
   "outputs": [],
   "source": [
    "train_outliers = outliers(train_set,'mv')"
   ]
  },
  {
   "cell_type": "code",
   "execution_count": 18,
   "metadata": {
    "ExecuteTime": {
     "end_time": "2020-09-28T01:13:27.127011Z",
     "start_time": "2020-09-28T01:13:27.093070Z"
    }
   },
   "outputs": [
    {
     "data": {
      "text/plain": [
       "477    False\n",
       "15     False\n",
       "332    False\n",
       "423    False\n",
       "19     False\n",
       "       ...  \n",
       "106    False\n",
       "270    False\n",
       "348    False\n",
       "435    False\n",
       "102    False\n",
       "Name: mv, Length: 404, dtype: bool"
      ]
     },
     "execution_count": 18,
     "metadata": {},
     "output_type": "execute_result"
    }
   ],
   "source": [
    "# look at extreme outliers\n",
    "(train_set['mv'] >= train_outliers[1]) | (train_set['mv'] <= train_outliers[0])"
   ]
  },
  {
   "cell_type": "code",
   "execution_count": 19,
   "metadata": {
    "ExecuteTime": {
     "end_time": "2020-09-28T01:13:33.743648Z",
     "start_time": "2020-09-28T01:13:33.738660Z"
    }
   },
   "outputs": [],
   "source": [
    "# create a median variable\n",
    "mv_med= train_set['mv'].median()"
   ]
  },
  {
   "cell_type": "code",
   "execution_count": 20,
   "metadata": {
    "ExecuteTime": {
     "end_time": "2020-09-28T01:13:34.675945Z",
     "start_time": "2020-09-28T01:13:34.657993Z"
    }
   },
   "outputs": [
    {
     "name": "stderr",
     "output_type": "stream",
     "text": [
      "C:\\Users\\Jianglan\\Anaconda3\\lib\\site-packages\\pandas\\core\\indexing.py:1765: SettingWithCopyWarning: \n",
      "A value is trying to be set on a copy of a slice from a DataFrame.\n",
      "Try using .loc[row_indexer,col_indexer] = value instead\n",
      "\n",
      "See the caveats in the documentation: https://pandas.pydata.org/pandas-docs/stable/user_guide/indexing.html#returning-a-view-versus-a-copy\n",
      "  isetter(loc, value)\n"
     ]
    }
   ],
   "source": [
    "# replace all extreme outliers with the median\n",
    "\n",
    "train_set.loc[(train_set['mv'] >= train_outliers[1]) | (train_set['mv'] <= train_outliers[0]),'mv'] =  mv_med"
   ]
  },
  {
   "cell_type": "code",
   "execution_count": 21,
   "metadata": {
    "ExecuteTime": {
     "end_time": "2020-09-28T01:13:36.496361Z",
     "start_time": "2020-09-28T01:13:36.448521Z"
    }
   },
   "outputs": [
    {
     "data": {
      "text/html": [
       "<div>\n",
       "<style scoped>\n",
       "    .dataframe tbody tr th:only-of-type {\n",
       "        vertical-align: middle;\n",
       "    }\n",
       "\n",
       "    .dataframe tbody tr th {\n",
       "        vertical-align: top;\n",
       "    }\n",
       "\n",
       "    .dataframe thead th {\n",
       "        text-align: right;\n",
       "    }\n",
       "</style>\n",
       "<table border=\"1\" class=\"dataframe\">\n",
       "  <thead>\n",
       "    <tr style=\"text-align: right;\">\n",
       "      <th></th>\n",
       "      <th>crim</th>\n",
       "      <th>zn</th>\n",
       "      <th>indus</th>\n",
       "      <th>chas</th>\n",
       "      <th>nox</th>\n",
       "      <th>rooms</th>\n",
       "      <th>age</th>\n",
       "      <th>dis</th>\n",
       "      <th>rad</th>\n",
       "      <th>tax</th>\n",
       "      <th>ptratio</th>\n",
       "      <th>lstat</th>\n",
       "      <th>mv</th>\n",
       "      <th>logAge</th>\n",
       "      <th>logLstat</th>\n",
       "      <th>logDis</th>\n",
       "      <th>logMv</th>\n",
       "      <th>sqAge</th>\n",
       "      <th>sqLstat</th>\n",
       "      <th>sqDis</th>\n",
       "    </tr>\n",
       "  </thead>\n",
       "  <tbody>\n",
       "    <tr>\n",
       "      <th>477</th>\n",
       "      <td>15.02340</td>\n",
       "      <td>0.0</td>\n",
       "      <td>18.10</td>\n",
       "      <td>0</td>\n",
       "      <td>0.6140</td>\n",
       "      <td>5.304</td>\n",
       "      <td>97.3</td>\n",
       "      <td>2.1007</td>\n",
       "      <td>24</td>\n",
       "      <td>666</td>\n",
       "      <td>20.2</td>\n",
       "      <td>24.91</td>\n",
       "      <td>12.0</td>\n",
       "      <td>1.988113</td>\n",
       "      <td>1.396374</td>\n",
       "      <td>0.322364</td>\n",
       "      <td>1.079181</td>\n",
       "      <td>9467.29</td>\n",
       "      <td>620.5081</td>\n",
       "      <td>4.412940</td>\n",
       "    </tr>\n",
       "    <tr>\n",
       "      <th>15</th>\n",
       "      <td>0.62739</td>\n",
       "      <td>0.0</td>\n",
       "      <td>8.14</td>\n",
       "      <td>0</td>\n",
       "      <td>0.5380</td>\n",
       "      <td>5.834</td>\n",
       "      <td>56.5</td>\n",
       "      <td>4.4986</td>\n",
       "      <td>4</td>\n",
       "      <td>307</td>\n",
       "      <td>21.0</td>\n",
       "      <td>8.47</td>\n",
       "      <td>19.9</td>\n",
       "      <td>1.752048</td>\n",
       "      <td>0.927883</td>\n",
       "      <td>0.653077</td>\n",
       "      <td>1.298853</td>\n",
       "      <td>3192.25</td>\n",
       "      <td>71.7409</td>\n",
       "      <td>20.237402</td>\n",
       "    </tr>\n",
       "    <tr>\n",
       "      <th>332</th>\n",
       "      <td>0.03466</td>\n",
       "      <td>35.0</td>\n",
       "      <td>6.06</td>\n",
       "      <td>0</td>\n",
       "      <td>0.4379</td>\n",
       "      <td>6.031</td>\n",
       "      <td>23.3</td>\n",
       "      <td>6.6407</td>\n",
       "      <td>1</td>\n",
       "      <td>304</td>\n",
       "      <td>16.9</td>\n",
       "      <td>7.83</td>\n",
       "      <td>19.4</td>\n",
       "      <td>1.367356</td>\n",
       "      <td>0.893762</td>\n",
       "      <td>0.822214</td>\n",
       "      <td>1.287802</td>\n",
       "      <td>542.89</td>\n",
       "      <td>61.3089</td>\n",
       "      <td>44.098896</td>\n",
       "    </tr>\n",
       "    <tr>\n",
       "      <th>423</th>\n",
       "      <td>7.05042</td>\n",
       "      <td>0.0</td>\n",
       "      <td>18.10</td>\n",
       "      <td>0</td>\n",
       "      <td>0.6140</td>\n",
       "      <td>6.103</td>\n",
       "      <td>85.1</td>\n",
       "      <td>2.0218</td>\n",
       "      <td>24</td>\n",
       "      <td>666</td>\n",
       "      <td>20.2</td>\n",
       "      <td>23.29</td>\n",
       "      <td>13.4</td>\n",
       "      <td>1.929930</td>\n",
       "      <td>1.367169</td>\n",
       "      <td>0.305738</td>\n",
       "      <td>1.127105</td>\n",
       "      <td>7242.01</td>\n",
       "      <td>542.4241</td>\n",
       "      <td>4.087675</td>\n",
       "    </tr>\n",
       "    <tr>\n",
       "      <th>19</th>\n",
       "      <td>0.72580</td>\n",
       "      <td>0.0</td>\n",
       "      <td>8.14</td>\n",
       "      <td>0</td>\n",
       "      <td>0.5380</td>\n",
       "      <td>5.727</td>\n",
       "      <td>69.5</td>\n",
       "      <td>3.7965</td>\n",
       "      <td>4</td>\n",
       "      <td>307</td>\n",
       "      <td>21.0</td>\n",
       "      <td>11.28</td>\n",
       "      <td>18.2</td>\n",
       "      <td>1.841985</td>\n",
       "      <td>1.052309</td>\n",
       "      <td>0.579383</td>\n",
       "      <td>1.260071</td>\n",
       "      <td>4830.25</td>\n",
       "      <td>127.2384</td>\n",
       "      <td>14.413412</td>\n",
       "    </tr>\n",
       "    <tr>\n",
       "      <th>...</th>\n",
       "      <td>...</td>\n",
       "      <td>...</td>\n",
       "      <td>...</td>\n",
       "      <td>...</td>\n",
       "      <td>...</td>\n",
       "      <td>...</td>\n",
       "      <td>...</td>\n",
       "      <td>...</td>\n",
       "      <td>...</td>\n",
       "      <td>...</td>\n",
       "      <td>...</td>\n",
       "      <td>...</td>\n",
       "      <td>...</td>\n",
       "      <td>...</td>\n",
       "      <td>...</td>\n",
       "      <td>...</td>\n",
       "      <td>...</td>\n",
       "      <td>...</td>\n",
       "      <td>...</td>\n",
       "      <td>...</td>\n",
       "    </tr>\n",
       "    <tr>\n",
       "      <th>106</th>\n",
       "      <td>0.17120</td>\n",
       "      <td>0.0</td>\n",
       "      <td>8.56</td>\n",
       "      <td>0</td>\n",
       "      <td>0.5200</td>\n",
       "      <td>5.836</td>\n",
       "      <td>91.9</td>\n",
       "      <td>2.2110</td>\n",
       "      <td>5</td>\n",
       "      <td>384</td>\n",
       "      <td>20.9</td>\n",
       "      <td>18.66</td>\n",
       "      <td>19.5</td>\n",
       "      <td>1.963316</td>\n",
       "      <td>1.270912</td>\n",
       "      <td>0.344589</td>\n",
       "      <td>1.290035</td>\n",
       "      <td>8445.61</td>\n",
       "      <td>348.1956</td>\n",
       "      <td>4.888521</td>\n",
       "    </tr>\n",
       "    <tr>\n",
       "      <th>270</th>\n",
       "      <td>0.29916</td>\n",
       "      <td>20.0</td>\n",
       "      <td>6.96</td>\n",
       "      <td>0</td>\n",
       "      <td>0.4640</td>\n",
       "      <td>5.856</td>\n",
       "      <td>42.1</td>\n",
       "      <td>4.4290</td>\n",
       "      <td>3</td>\n",
       "      <td>223</td>\n",
       "      <td>18.6</td>\n",
       "      <td>13.00</td>\n",
       "      <td>21.1</td>\n",
       "      <td>1.624282</td>\n",
       "      <td>1.113943</td>\n",
       "      <td>0.646306</td>\n",
       "      <td>1.324282</td>\n",
       "      <td>1772.41</td>\n",
       "      <td>169.0000</td>\n",
       "      <td>19.616041</td>\n",
       "    </tr>\n",
       "    <tr>\n",
       "      <th>348</th>\n",
       "      <td>0.01501</td>\n",
       "      <td>80.0</td>\n",
       "      <td>2.01</td>\n",
       "      <td>0</td>\n",
       "      <td>0.4350</td>\n",
       "      <td>6.635</td>\n",
       "      <td>29.7</td>\n",
       "      <td>8.3440</td>\n",
       "      <td>4</td>\n",
       "      <td>280</td>\n",
       "      <td>17.0</td>\n",
       "      <td>5.99</td>\n",
       "      <td>24.5</td>\n",
       "      <td>1.472756</td>\n",
       "      <td>0.777427</td>\n",
       "      <td>0.921374</td>\n",
       "      <td>1.389166</td>\n",
       "      <td>882.09</td>\n",
       "      <td>35.8801</td>\n",
       "      <td>69.622336</td>\n",
       "    </tr>\n",
       "    <tr>\n",
       "      <th>435</th>\n",
       "      <td>11.16040</td>\n",
       "      <td>0.0</td>\n",
       "      <td>18.10</td>\n",
       "      <td>0</td>\n",
       "      <td>0.7400</td>\n",
       "      <td>6.629</td>\n",
       "      <td>94.6</td>\n",
       "      <td>2.1247</td>\n",
       "      <td>24</td>\n",
       "      <td>666</td>\n",
       "      <td>20.2</td>\n",
       "      <td>23.27</td>\n",
       "      <td>13.4</td>\n",
       "      <td>1.975891</td>\n",
       "      <td>1.366796</td>\n",
       "      <td>0.327298</td>\n",
       "      <td>1.127105</td>\n",
       "      <td>8949.16</td>\n",
       "      <td>541.4929</td>\n",
       "      <td>4.514350</td>\n",
       "    </tr>\n",
       "    <tr>\n",
       "      <th>102</th>\n",
       "      <td>0.22876</td>\n",
       "      <td>0.0</td>\n",
       "      <td>8.56</td>\n",
       "      <td>0</td>\n",
       "      <td>0.5200</td>\n",
       "      <td>6.405</td>\n",
       "      <td>85.4</td>\n",
       "      <td>2.7147</td>\n",
       "      <td>5</td>\n",
       "      <td>384</td>\n",
       "      <td>20.9</td>\n",
       "      <td>10.63</td>\n",
       "      <td>18.6</td>\n",
       "      <td>1.931458</td>\n",
       "      <td>1.026533</td>\n",
       "      <td>0.433722</td>\n",
       "      <td>1.269513</td>\n",
       "      <td>7293.16</td>\n",
       "      <td>112.9969</td>\n",
       "      <td>7.369596</td>\n",
       "    </tr>\n",
       "  </tbody>\n",
       "</table>\n",
       "<p>404 rows × 20 columns</p>\n",
       "</div>"
      ],
      "text/plain": [
       "         crim    zn  indus  chas     nox  rooms   age     dis  rad  tax  \\\n",
       "477  15.02340   0.0  18.10     0  0.6140  5.304  97.3  2.1007   24  666   \n",
       "15    0.62739   0.0   8.14     0  0.5380  5.834  56.5  4.4986    4  307   \n",
       "332   0.03466  35.0   6.06     0  0.4379  6.031  23.3  6.6407    1  304   \n",
       "423   7.05042   0.0  18.10     0  0.6140  6.103  85.1  2.0218   24  666   \n",
       "19    0.72580   0.0   8.14     0  0.5380  5.727  69.5  3.7965    4  307   \n",
       "..        ...   ...    ...   ...     ...    ...   ...     ...  ...  ...   \n",
       "106   0.17120   0.0   8.56     0  0.5200  5.836  91.9  2.2110    5  384   \n",
       "270   0.29916  20.0   6.96     0  0.4640  5.856  42.1  4.4290    3  223   \n",
       "348   0.01501  80.0   2.01     0  0.4350  6.635  29.7  8.3440    4  280   \n",
       "435  11.16040   0.0  18.10     0  0.7400  6.629  94.6  2.1247   24  666   \n",
       "102   0.22876   0.0   8.56     0  0.5200  6.405  85.4  2.7147    5  384   \n",
       "\n",
       "     ptratio  lstat    mv    logAge  logLstat    logDis     logMv    sqAge  \\\n",
       "477     20.2  24.91  12.0  1.988113  1.396374  0.322364  1.079181  9467.29   \n",
       "15      21.0   8.47  19.9  1.752048  0.927883  0.653077  1.298853  3192.25   \n",
       "332     16.9   7.83  19.4  1.367356  0.893762  0.822214  1.287802   542.89   \n",
       "423     20.2  23.29  13.4  1.929930  1.367169  0.305738  1.127105  7242.01   \n",
       "19      21.0  11.28  18.2  1.841985  1.052309  0.579383  1.260071  4830.25   \n",
       "..       ...    ...   ...       ...       ...       ...       ...      ...   \n",
       "106     20.9  18.66  19.5  1.963316  1.270912  0.344589  1.290035  8445.61   \n",
       "270     18.6  13.00  21.1  1.624282  1.113943  0.646306  1.324282  1772.41   \n",
       "348     17.0   5.99  24.5  1.472756  0.777427  0.921374  1.389166   882.09   \n",
       "435     20.2  23.27  13.4  1.975891  1.366796  0.327298  1.127105  8949.16   \n",
       "102     20.9  10.63  18.6  1.931458  1.026533  0.433722  1.269513  7293.16   \n",
       "\n",
       "      sqLstat      sqDis  \n",
       "477  620.5081   4.412940  \n",
       "15    71.7409  20.237402  \n",
       "332   61.3089  44.098896  \n",
       "423  542.4241   4.087675  \n",
       "19   127.2384  14.413412  \n",
       "..        ...        ...  \n",
       "106  348.1956   4.888521  \n",
       "270  169.0000  19.616041  \n",
       "348   35.8801  69.622336  \n",
       "435  541.4929   4.514350  \n",
       "102  112.9969   7.369596  \n",
       "\n",
       "[404 rows x 20 columns]"
      ]
     },
     "execution_count": 21,
     "metadata": {},
     "output_type": "execute_result"
    }
   ],
   "source": [
    "train_set"
   ]
  },
  {
   "cell_type": "code",
   "execution_count": 22,
   "metadata": {
    "ExecuteTime": {
     "end_time": "2020-09-28T01:13:48.160469Z",
     "start_time": "2020-09-28T01:13:48.148500Z"
    }
   },
   "outputs": [
    {
     "data": {
      "text/plain": [
       "477    False\n",
       "15     False\n",
       "332    False\n",
       "423    False\n",
       "19     False\n",
       "       ...  \n",
       "106    False\n",
       "270    False\n",
       "348    False\n",
       "435    False\n",
       "102    False\n",
       "Name: mv, Length: 404, dtype: bool"
      ]
     },
     "execution_count": 22,
     "metadata": {},
     "output_type": "execute_result"
    }
   ],
   "source": [
    "# no extreme outliers exist now \n",
    "(train_set['mv'] >= train_outliers[1]) | (train_set['mv'] <= train_outliers[0])"
   ]
  },
  {
   "cell_type": "code",
   "execution_count": 23,
   "metadata": {
    "ExecuteTime": {
     "end_time": "2020-09-28T01:13:50.195931Z",
     "start_time": "2020-09-28T01:13:50.186955Z"
    }
   },
   "outputs": [],
   "source": [
    "corr_matrix = train_set.corr()"
   ]
  },
  {
   "cell_type": "code",
   "execution_count": 24,
   "metadata": {
    "ExecuteTime": {
     "end_time": "2020-09-28T01:13:52.851646Z",
     "start_time": "2020-09-28T01:13:52.833718Z"
    }
   },
   "outputs": [
    {
     "data": {
      "text/plain": [
       "mv          1.000000\n",
       "logMv       0.836645\n",
       "rooms       0.519580\n",
       "logDis      0.470785\n",
       "dis         0.404733\n",
       "zn          0.396503\n",
       "sqDis       0.329670\n",
       "chas        0.054941\n",
       "logAge     -0.428386\n",
       "ptratio    -0.450305\n",
       "crim       -0.474918\n",
       "age        -0.495594\n",
       "rad        -0.513277\n",
       "sqAge      -0.518774\n",
       "nox        -0.560027\n",
       "tax        -0.583354\n",
       "indus      -0.607141\n",
       "sqLstat    -0.672598\n",
       "logLstat   -0.722319\n",
       "lstat      -0.740004\n",
       "Name: mv, dtype: float64"
      ]
     },
     "execution_count": 24,
     "metadata": {},
     "output_type": "execute_result"
    }
   ],
   "source": [
    "# look at correlation again and visualize attributes \n",
    "corr_matrix['mv'].sort_values(ascending=False)"
   ]
  },
  {
   "cell_type": "code",
   "execution_count": 25,
   "metadata": {
    "ExecuteTime": {
     "end_time": "2020-09-28T01:13:58.380241Z",
     "start_time": "2020-09-28T01:13:56.073177Z"
    }
   },
   "outputs": [
    {
     "data": {
      "image/png": "[encoded data removed]",
      "text/plain": [
       "<Figure size 432x288 with 1 Axes>"
      ]
     },
     "metadata": {},
     "output_type": "display_data"
    },
    {
     "data": {
      "image/png": "[encoded data removed]",
      "text/plain": [
       "<Figure size 432x288 with 1 Axes>"
      ]
     },
     "metadata": {},
     "output_type": "display_data"
    },
    {
     "data": {
      "image/png": "[encoded data removed]",
      "text/plain": [
       "<Figure size 432x288 with 1 Axes>"
      ]
     },
     "metadata": {},
     "output_type": "display_data"
    },
    {
     "data": {
      "image/png": "[encoded data removed]",
      "text/plain": [
       "<Figure size 432x288 with 1 Axes>"
      ]
     },
     "metadata": {},
     "output_type": "display_data"
    },
    {
     "data": {
      "image/png": "[encoded data removed]",
      "text/plain": [
       "<Figure size 432x288 with 1 Axes>"
      ]
     },
     "metadata": {},
     "output_type": "display_data"
    },
    {
     "data": {
      "image/png": "[encoded data removed]",
      "text/plain": [
       "<Figure size 432x288 with 1 Axes>"
      ]
     },
     "metadata": {},
     "output_type": "display_data"
    },
    {
     "data": {
      "image/png": "[encoded data removed]",
      "text/plain": [
       "<Figure size 432x288 with 1 Axes>"
      ]
     },
     "metadata": {},
     "output_type": "display_data"
    },
    {
     "data": {
      "image/png": "[encoded data removed]",
      "text/plain": [
       "<Figure size 432x288 with 1 Axes>"
      ]
     },
     "metadata": {},
     "output_type": "display_data"
    },
    {
     "data": {
      "image/png": "[encoded data removed]",
      "text/plain": [
       "<Figure size 432x288 with 1 Axes>"
      ]
     },
     "metadata": {},
     "output_type": "display_data"
    },
    {
     "data": {
      "image/png": "[encoded data removed]",
      "text/plain": [
       "<Figure size 432x288 with 1 Axes>"
      ]
     },
     "metadata": {},
     "output_type": "display_data"
    },
    {
     "data": {
      "image/png": "[encoded data removed]",
      "text/plain": [
       "<Figure size 432x288 with 1 Axes>"
      ]
     },
     "metadata": {},
     "output_type": "display_data"
    },
    {
     "data": {
      "image/png": "[encoded data removed]",
      "text/plain": [
       "<Figure size 432x288 with 1 Axes>"
      ]
     },
     "metadata": {},
     "output_type": "display_data"
    }
   ],
   "source": [
    "attributes = ['logDis', 'rooms','zn','sqDis','crim','rad',\n",
    "             'logAge','tax','sqLstat','indus','lstat','logLstat']\n",
    "\n",
    "for j in attributes:\n",
    "    sns.scatterplot(x=train_set['mv'],y=train_set[j])\n",
    "    plt.show()\n",
    "        "
   ]
  },
  {
   "cell_type": "code",
   "execution_count": 26,
   "metadata": {
    "ExecuteTime": {
     "end_time": "2020-09-28T01:14:02.736612Z",
     "start_time": "2020-09-28T01:14:02.730308Z"
    }
   },
   "outputs": [],
   "source": [
    "# create a function that returns a df with only the variables of interest\n",
    "def train_attributes(data,attribute_list):\n",
    "    return data[attribute_list]"
   ]
  },
  {
   "cell_type": "code",
   "execution_count": 27,
   "metadata": {
    "ExecuteTime": {
     "end_time": "2020-09-28T01:14:05.118246Z",
     "start_time": "2020-09-28T01:14:05.111266Z"
    }
   },
   "outputs": [],
   "source": [
    "# remove labels values from df\n",
    "def labels(data,label):\n",
    "    return data[label]"
   ]
  },
  {
   "cell_type": "code",
   "execution_count": 28,
   "metadata": {
    "ExecuteTime": {
     "end_time": "2020-09-28T01:14:09.216213Z",
     "start_time": "2020-09-28T01:14:09.209229Z"
    }
   },
   "outputs": [],
   "source": [
    "# create our train predictors\n",
    "train_predictors = ['logDis','rooms','logAge','lstat']\n",
    "train_df = train_attributes(train_set, train_predictors)"
   ]
  },
  {
   "cell_type": "code",
   "execution_count": 29,
   "metadata": {
    "ExecuteTime": {
     "end_time": "2020-09-28T01:14:11.276309Z",
     "start_time": "2020-09-28T01:14:11.268360Z"
    }
   },
   "outputs": [
    {
     "data": {
      "text/plain": [
       "477    12.0\n",
       "15     19.9\n",
       "332    19.4\n",
       "423    13.4\n",
       "19     18.2\n",
       "       ... \n",
       "106    19.5\n",
       "270    21.1\n",
       "348    24.5\n",
       "435    13.4\n",
       "102    18.6\n",
       "Name: mv, Length: 404, dtype: float64"
      ]
     },
     "execution_count": 29,
     "metadata": {},
     "output_type": "execute_result"
    }
   ],
   "source": [
    "# create our train label \n",
    "train_labels = labels(train_set, 'mv')\n",
    "train_labels"
   ]
  },
  {
   "cell_type": "code",
   "execution_count": 30,
   "metadata": {
    "ExecuteTime": {
     "end_time": "2020-09-28T01:14:13.409072Z",
     "start_time": "2020-09-28T01:14:13.402326Z"
    }
   },
   "outputs": [],
   "source": [
    "# now we'll have to standard our features by converting them to z scores\n",
    "from sklearn.preprocessing import StandardScaler "
   ]
  },
  {
   "cell_type": "code",
   "execution_count": 31,
   "metadata": {
    "ExecuteTime": {
     "end_time": "2020-09-28T01:14:15.811149Z",
     "start_time": "2020-09-28T01:14:15.791203Z"
    }
   },
   "outputs": [],
   "source": [
    "scaler = StandardScaler()\n",
    "scaler.fit(train_df)\n",
    "train = scaler.fit_transform(train_df)"
   ]
  },
  {
   "cell_type": "code",
   "execution_count": 32,
   "metadata": {
    "ExecuteTime": {
     "end_time": "2020-09-28T01:14:19.966511Z",
     "start_time": "2020-09-28T01:14:19.953556Z"
    }
   },
   "outputs": [
    {
     "data": {
      "text/plain": [
       "array([[-0.81554376, -1.42806858,  0.79823817,  1.75350503],\n",
       "       [ 0.57861263, -0.68008655, -0.09335305, -0.5614742 ],\n",
       "       [ 1.29162501, -0.40206304, -1.54629762, -0.65159505],\n",
       "       ...,\n",
       "       [ 1.7096461 ,  0.45035421, -1.14821054, -0.91069248],\n",
       "       [-0.79474573,  0.44188648,  0.75207804,  1.52257036],\n",
       "       [-0.34610337,  0.12575823,  0.58425811, -0.25731635]])"
      ]
     },
     "execution_count": 32,
     "metadata": {},
     "output_type": "execute_result"
    }
   ],
   "source": [
    "train"
   ]
  },
  {
   "cell_type": "code",
   "execution_count": 33,
   "metadata": {
    "ExecuteTime": {
     "end_time": "2020-09-28T01:14:21.092359Z",
     "start_time": "2020-09-28T01:14:21.083808Z"
    }
   },
   "outputs": [],
   "source": [
    "# create the df with standardized training features\n",
    "scaled_train = pd.DataFrame(train, index=train_df.index,\n",
    "                            columns=train_df.columns)"
   ]
  },
  {
   "cell_type": "code",
   "execution_count": 34,
   "metadata": {
    "ExecuteTime": {
     "end_time": "2020-09-28T01:14:22.897427Z",
     "start_time": "2020-09-28T01:14:22.877438Z"
    }
   },
   "outputs": [
    {
     "data": {
      "text/html": [
       "<div>\n",
       "<style scoped>\n",
       "    .dataframe tbody tr th:only-of-type {\n",
       "        vertical-align: middle;\n",
       "    }\n",
       "\n",
       "    .dataframe tbody tr th {\n",
       "        vertical-align: top;\n",
       "    }\n",
       "\n",
       "    .dataframe thead th {\n",
       "        text-align: right;\n",
       "    }\n",
       "</style>\n",
       "<table border=\"1\" class=\"dataframe\">\n",
       "  <thead>\n",
       "    <tr style=\"text-align: right;\">\n",
       "      <th></th>\n",
       "      <th>logDis</th>\n",
       "      <th>rooms</th>\n",
       "      <th>logAge</th>\n",
       "      <th>lstat</th>\n",
       "    </tr>\n",
       "  </thead>\n",
       "  <tbody>\n",
       "    <tr>\n",
       "      <th>477</th>\n",
       "      <td>-0.815544</td>\n",
       "      <td>-1.428069</td>\n",
       "      <td>0.798238</td>\n",
       "      <td>1.753505</td>\n",
       "    </tr>\n",
       "    <tr>\n",
       "      <th>15</th>\n",
       "      <td>0.578613</td>\n",
       "      <td>-0.680087</td>\n",
       "      <td>-0.093353</td>\n",
       "      <td>-0.561474</td>\n",
       "    </tr>\n",
       "    <tr>\n",
       "      <th>332</th>\n",
       "      <td>1.291625</td>\n",
       "      <td>-0.402063</td>\n",
       "      <td>-1.546298</td>\n",
       "      <td>-0.651595</td>\n",
       "    </tr>\n",
       "    <tr>\n",
       "      <th>423</th>\n",
       "      <td>-0.885632</td>\n",
       "      <td>-0.300450</td>\n",
       "      <td>0.578486</td>\n",
       "      <td>1.525387</td>\n",
       "    </tr>\n",
       "    <tr>\n",
       "      <th>19</th>\n",
       "      <td>0.267948</td>\n",
       "      <td>-0.831094</td>\n",
       "      <td>0.246327</td>\n",
       "      <td>-0.165787</td>\n",
       "    </tr>\n",
       "    <tr>\n",
       "      <th>...</th>\n",
       "      <td>...</td>\n",
       "      <td>...</td>\n",
       "      <td>...</td>\n",
       "      <td>...</td>\n",
       "    </tr>\n",
       "    <tr>\n",
       "      <th>106</th>\n",
       "      <td>-0.721853</td>\n",
       "      <td>-0.677264</td>\n",
       "      <td>0.704581</td>\n",
       "      <td>0.873419</td>\n",
       "    </tr>\n",
       "    <tr>\n",
       "      <th>270</th>\n",
       "      <td>0.550066</td>\n",
       "      <td>-0.649038</td>\n",
       "      <td>-0.575914</td>\n",
       "      <td>0.076412</td>\n",
       "    </tr>\n",
       "    <tr>\n",
       "      <th>348</th>\n",
       "      <td>1.709646</td>\n",
       "      <td>0.450354</td>\n",
       "      <td>-1.148211</td>\n",
       "      <td>-0.910692</td>\n",
       "    </tr>\n",
       "    <tr>\n",
       "      <th>435</th>\n",
       "      <td>-0.794746</td>\n",
       "      <td>0.441886</td>\n",
       "      <td>0.752078</td>\n",
       "      <td>1.522570</td>\n",
       "    </tr>\n",
       "    <tr>\n",
       "      <th>102</th>\n",
       "      <td>-0.346103</td>\n",
       "      <td>0.125758</td>\n",
       "      <td>0.584258</td>\n",
       "      <td>-0.257316</td>\n",
       "    </tr>\n",
       "  </tbody>\n",
       "</table>\n",
       "<p>404 rows × 4 columns</p>\n",
       "</div>"
      ],
      "text/plain": [
       "       logDis     rooms    logAge     lstat\n",
       "477 -0.815544 -1.428069  0.798238  1.753505\n",
       "15   0.578613 -0.680087 -0.093353 -0.561474\n",
       "332  1.291625 -0.402063 -1.546298 -0.651595\n",
       "423 -0.885632 -0.300450  0.578486  1.525387\n",
       "19   0.267948 -0.831094  0.246327 -0.165787\n",
       "..        ...       ...       ...       ...\n",
       "106 -0.721853 -0.677264  0.704581  0.873419\n",
       "270  0.550066 -0.649038 -0.575914  0.076412\n",
       "348  1.709646  0.450354 -1.148211 -0.910692\n",
       "435 -0.794746  0.441886  0.752078  1.522570\n",
       "102 -0.346103  0.125758  0.584258 -0.257316\n",
       "\n",
       "[404 rows x 4 columns]"
      ]
     },
     "execution_count": 34,
     "metadata": {},
     "output_type": "execute_result"
    }
   ],
   "source": [
    "scaled_train"
   ]
  },
  {
   "cell_type": "code",
   "execution_count": 35,
   "metadata": {
    "ExecuteTime": {
     "end_time": "2020-09-28T01:14:34.802169Z",
     "start_time": "2020-09-28T01:14:34.670935Z"
    }
   },
   "outputs": [],
   "source": [
    "# let's run a linear regression on the data\n",
    "from sklearn.linear_model import LinearRegression"
   ]
  },
  {
   "cell_type": "code",
   "execution_count": 36,
   "metadata": {
    "ExecuteTime": {
     "end_time": "2020-09-28T01:14:39.938223Z",
     "start_time": "2020-09-28T01:14:39.931600Z"
    }
   },
   "outputs": [],
   "source": [
    "lin_reg = LinearRegression()"
   ]
  },
  {
   "cell_type": "code",
   "execution_count": 37,
   "metadata": {
    "ExecuteTime": {
     "end_time": "2020-09-28T01:14:40.730387Z",
     "start_time": "2020-09-28T01:14:40.685547Z"
    }
   },
   "outputs": [
    {
     "data": {
      "text/plain": [
       "LinearRegression()"
      ]
     },
     "execution_count": 37,
     "metadata": {},
     "output_type": "execute_result"
    }
   ],
   "source": [
    "lin_reg.fit(scaled_train,train_labels)"
   ]
  },
  {
   "cell_type": "code",
   "execution_count": 38,
   "metadata": {
    "ExecuteTime": {
     "end_time": "2020-09-28T01:14:42.514375Z",
     "start_time": "2020-09-28T01:14:42.508392Z"
    }
   },
   "outputs": [
    {
     "data": {
      "text/plain": [
       "(21.149752475247524,\n",
       " array([ 0.40380133,  0.85091494, -0.44870445, -3.97185525]))"
      ]
     },
     "execution_count": 38,
     "metadata": {},
     "output_type": "execute_result"
    }
   ],
   "source": [
    "# Fitted model yields \n",
    "lin_reg.intercept_,lin_reg.coef_"
   ]
  },
  {
   "cell_type": "code",
   "execution_count": 39,
   "metadata": {
    "ExecuteTime": {
     "end_time": "2020-09-28T01:14:46.278955Z",
     "start_time": "2020-09-28T01:14:46.272749Z"
    }
   },
   "outputs": [],
   "source": [
    "from sklearn.metrics import mean_squared_error\n"
   ]
  },
  {
   "cell_type": "code",
   "execution_count": 40,
   "metadata": {
    "ExecuteTime": {
     "end_time": "2020-09-28T01:14:48.210661Z",
     "start_time": "2020-09-28T01:14:48.197697Z"
    }
   },
   "outputs": [
    {
     "data": {
      "text/plain": [
       "4.410896567346878"
      ]
     },
     "execution_count": 40,
     "metadata": {},
     "output_type": "execute_result"
    }
   ],
   "source": [
    "# Let's calculate the root mean squared of our training data \n",
    "training_predictions = lin_reg.predict(scaled_train)\n",
    "lin_mse = mean_squared_error(train_labels, training_predictions)\n",
    "lin_rmse = np.sqrt(lin_mse)\n",
    "lin_rmse"
   ]
  },
  {
   "cell_type": "markdown",
   "metadata": {},
   "source": [
    "**we have a rmse of 4.35 suggesting our predictions vary by 4.35. Let's cross validate this to make sure our prediction isn't over/ underfitting the data**"
   ]
  },
  {
   "cell_type": "code",
   "execution_count": 66,
   "metadata": {
    "ExecuteTime": {
     "end_time": "2020-09-28T01:22:05.747323Z",
     "start_time": "2020-09-28T01:22:05.741379Z"
    }
   },
   "outputs": [],
   "source": [
    "from sklearn.model_selection import cross_val_score\n",
    "from sklearn import linear_model"
   ]
  },
  {
   "cell_type": "code",
   "execution_count": 67,
   "metadata": {
    "ExecuteTime": {
     "end_time": "2020-09-28T01:22:06.434753Z",
     "start_time": "2020-09-28T01:22:06.426987Z"
    }
   },
   "outputs": [],
   "source": [
    "regr = linear_model.LinearRegression()"
   ]
  },
  {
   "cell_type": "code",
   "execution_count": 68,
   "metadata": {
    "ExecuteTime": {
     "end_time": "2020-09-28T01:22:07.189357Z",
     "start_time": "2020-09-28T01:22:07.101591Z"
    }
   },
   "outputs": [],
   "source": [
    "lr_scores = cross_val_score(regr, scaled_train, train_labels,\n",
    "                        scoring = 'neg_mean_squared_error', cv=10)"
   ]
  },
  {
   "cell_type": "code",
   "execution_count": 72,
   "metadata": {
    "ExecuteTime": {
     "end_time": "2020-09-28T01:23:19.919162Z",
     "start_time": "2020-09-28T01:23:19.911680Z"
    }
   },
   "outputs": [],
   "source": [
    "lr_rmse_scores = np.sqrt(-lr_scores)"
   ]
  },
  {
   "cell_type": "code",
   "execution_count": 73,
   "metadata": {
    "ExecuteTime": {
     "end_time": "2020-09-28T01:23:23.185517Z",
     "start_time": "2020-09-28T01:23:23.179512Z"
    }
   },
   "outputs": [
    {
     "data": {
      "text/plain": [
       "array([5.67240951, 3.93723559, 4.46313453, 3.68314043, 4.96759358,\n",
       "       4.71530515, 4.76757908, 4.31090942, 4.57063398, 3.51337053])"
      ]
     },
     "metadata": {},
     "output_type": "display_data"
    }
   ],
   "source": [
    "display(lr_rmse_scores)"
   ]
  },
  {
   "cell_type": "code",
   "execution_count": 74,
   "metadata": {
    "ExecuteTime": {
     "end_time": "2020-09-28T01:23:28.512834Z",
     "start_time": "2020-09-28T01:23:28.502895Z"
    }
   },
   "outputs": [
    {
     "data": {
      "text/plain": [
       "0.6078447150832014"
      ]
     },
     "execution_count": 74,
     "metadata": {},
     "output_type": "execute_result"
    }
   ],
   "source": [
    "lr_rmse_scores.std()"
   ]
  },
  {
   "cell_type": "code",
   "execution_count": 75,
   "metadata": {
    "ExecuteTime": {
     "end_time": "2020-09-28T01:23:33.376140Z",
     "start_time": "2020-09-28T01:23:33.368937Z"
    }
   },
   "outputs": [
    {
     "data": {
      "text/plain": [
       "4.460131180786317"
      ]
     },
     "execution_count": 75,
     "metadata": {},
     "output_type": "execute_result"
    }
   ],
   "source": [
    "lr_rmse_scores.mean()"
   ]
  },
  {
   "cell_type": "markdown",
   "metadata": {},
   "source": [
    "our cross validated rmse score is pretty similar, the linear regression is only performing better slightly better\n",
    "\n",
    "when we examined correlates we saw that there may be some multicollinearity. When your multipe regression suffers from multicollinearity the least squares are unbiased, but the variances tend to be large. Looking at our first examination of the full test set we say some predictions that were pretty accurate, and others that have high variance. \n",
    "\n",
    "We also see large positive and negative coefficients which can be a result of correlated variables and have implications for prediction \n",
    "\n",
    "Implementing ridge regression can help us by imposing restrictions on our coefficient\n",
    "\n",
    "Let's implement ridge regression on our data! We will use grid search that will allow us to automatically perform cross validation with a range of reguarlization paramters to find  optimal value of alpha "
   ]
  },
  {
   "cell_type": "code",
   "execution_count": 76,
   "metadata": {
    "ExecuteTime": {
     "end_time": "2020-09-28T01:23:37.979129Z",
     "start_time": "2020-09-28T01:23:37.974144Z"
    }
   },
   "outputs": [],
   "source": [
    "from sklearn.model_selection import GridSearchCV\n",
    "from sklearn.linear_model import Ridge"
   ]
  },
  {
   "cell_type": "code",
   "execution_count": 77,
   "metadata": {
    "ExecuteTime": {
     "end_time": "2020-09-28T01:23:38.600213Z",
     "start_time": "2020-09-28T01:23:38.591268Z"
    }
   },
   "outputs": [],
   "source": [
    "ridge= Ridge()"
   ]
  },
  {
   "cell_type": "code",
   "execution_count": 78,
   "metadata": {
    "ExecuteTime": {
     "end_time": "2020-09-28T01:23:40.810350Z",
     "start_time": "2020-09-28T01:23:40.276694Z"
    }
   },
   "outputs": [
    {
     "data": {
      "text/plain": [
       "GridSearchCV(cv=10, estimator=Ridge(),\n",
       "             param_grid={'alpha': [1e-15, 1e-10, 1e-08, 0.0001, 0.001, 0.01, 1,\n",
       "                                   5, 10, 20]},\n",
       "             scoring='neg_mean_squared_error')"
      ]
     },
     "execution_count": 78,
     "metadata": {},
     "output_type": "execute_result"
    }
   ],
   "source": [
    "parameters = {'alpha':[1e-15, 1e-10, 1e-8, 1e-4, 1e-3,1e-2, 1, 5, 10, 20]}\n",
    "ridge_regression = GridSearchCV(ridge, parameters, scoring='neg_mean_squared_error', cv=10)\n",
    "ridge_regression.fit(scaled_train,train_labels)"
   ]
  },
  {
   "cell_type": "code",
   "execution_count": 79,
   "metadata": {
    "ExecuteTime": {
     "end_time": "2020-09-28T01:23:43.547792Z",
     "start_time": "2020-09-28T01:23:43.540445Z"
    }
   },
   "outputs": [
    {
     "data": {
      "text/plain": [
       "{'alpha': 10}"
      ]
     },
     "execution_count": 79,
     "metadata": {},
     "output_type": "execute_result"
    }
   ],
   "source": [
    "ridge_regression.best_params_ # our best alpha score is 10"
   ]
  },
  {
   "cell_type": "code",
   "execution_count": 80,
   "metadata": {
    "ExecuteTime": {
     "end_time": "2020-09-28T01:23:44.926567Z",
     "start_time": "2020-09-28T01:23:44.917592Z"
    }
   },
   "outputs": [
    {
     "data": {
      "text/plain": [
       "-20.239371552656127"
      ]
     },
     "execution_count": 80,
     "metadata": {},
     "output_type": "execute_result"
    }
   ],
   "source": [
    "ridge_regression.best_score_ # lr seems to performn better than ridge regression"
   ]
  },
  {
   "cell_type": "code",
   "execution_count": 81,
   "metadata": {
    "ExecuteTime": {
     "end_time": "2020-09-28T01:23:46.518160Z",
     "start_time": "2020-09-28T01:23:46.505162Z"
    }
   },
   "outputs": [
    {
     "data": {
      "text/plain": [
       "Ridge(alpha=10, solver='cholesky')"
      ]
     },
     "execution_count": 81,
     "metadata": {},
     "output_type": "execute_result"
    }
   ],
   "source": [
    "ridge_reg_2 = Ridge(alpha =10, solver = 'cholesky')\n",
    "ridge_reg_2.fit(scaled_train,train_labels)"
   ]
  },
  {
   "cell_type": "code",
   "execution_count": 82,
   "metadata": {
    "ExecuteTime": {
     "end_time": "2020-09-28T01:23:47.607429Z",
     "start_time": "2020-09-28T01:23:47.597456Z"
    }
   },
   "outputs": [
    {
     "data": {
      "text/plain": [
       "(21.149752475247524,\n",
       " array([ 0.4557909 ,  0.91941846, -0.4768009 , -3.79303618]))"
      ]
     },
     "execution_count": 82,
     "metadata": {},
     "output_type": "execute_result"
    }
   ],
   "source": [
    "ridge_reg_2.intercept_,ridge_reg_2.coef_"
   ]
  },
  {
   "cell_type": "code",
   "execution_count": 83,
   "metadata": {
    "ExecuteTime": {
     "end_time": "2020-09-28T01:24:13.359415Z",
     "start_time": "2020-09-28T01:24:13.285643Z"
    }
   },
   "outputs": [],
   "source": [
    "rid= Ridge()\n",
    "rid_scores = cross_val_score(rid, scaled_train, train_labels,\n",
    "                        scoring = 'neg_mean_squared_error', cv=10)"
   ]
  },
  {
   "cell_type": "code",
   "execution_count": 84,
   "metadata": {
    "ExecuteTime": {
     "end_time": "2020-09-28T01:24:24.473962Z",
     "start_time": "2020-09-28T01:24:24.469972Z"
    }
   },
   "outputs": [],
   "source": [
    "rid_rmse_scores = np.sqrt(-rid_scores)"
   ]
  },
  {
   "cell_type": "code",
   "execution_count": 86,
   "metadata": {
    "ExecuteTime": {
     "end_time": "2020-09-28T01:25:32.635373Z",
     "start_time": "2020-09-28T01:25:32.623406Z"
    }
   },
   "outputs": [
    {
     "data": {
      "text/plain": [
       "array([5.67103901, 3.93501872, 4.46162207, 3.68234394, 4.96998605,\n",
       "       4.71449702, 4.77061795, 4.31051928, 4.57279102, 3.50622188])"
      ]
     },
     "metadata": {},
     "output_type": "display_data"
    },
    {
     "data": {
      "text/plain": [
       "4.459465693856482"
      ]
     },
     "execution_count": 86,
     "metadata": {},
     "output_type": "execute_result"
    }
   ],
   "source": [
    "display(rid_rmse_scores)\n",
    "rid_rmse_scores.mean()\n"
   ]
  },
  {
   "cell_type": "code",
   "execution_count": 87,
   "metadata": {
    "ExecuteTime": {
     "end_time": "2020-09-28T01:25:34.910892Z",
     "start_time": "2020-09-28T01:25:34.901916Z"
    }
   },
   "outputs": [
    {
     "data": {
      "text/plain": [
       "0.609349370629651"
      ]
     },
     "execution_count": 87,
     "metadata": {},
     "output_type": "execute_result"
    }
   ],
   "source": [
    "rid_rmse_scores.std()"
   ]
  },
  {
   "cell_type": "markdown",
   "metadata": {},
   "source": [
    "**Now that we've gotten our models we can see how it performs on our testing data!**"
   ]
  },
  {
   "cell_type": "code",
   "execution_count": 88,
   "metadata": {
    "ExecuteTime": {
     "end_time": "2020-09-28T01:29:09.042794Z",
     "start_time": "2020-09-28T01:29:09.013871Z"
    }
   },
   "outputs": [
    {
     "data": {
      "text/html": [
       "<div>\n",
       "<style scoped>\n",
       "    .dataframe tbody tr th:only-of-type {\n",
       "        vertical-align: middle;\n",
       "    }\n",
       "\n",
       "    .dataframe tbody tr th {\n",
       "        vertical-align: top;\n",
       "    }\n",
       "\n",
       "    .dataframe thead th {\n",
       "        text-align: right;\n",
       "    }\n",
       "</style>\n",
       "<table border=\"1\" class=\"dataframe\">\n",
       "  <thead>\n",
       "    <tr style=\"text-align: right;\">\n",
       "      <th></th>\n",
       "      <th>crim</th>\n",
       "      <th>zn</th>\n",
       "      <th>indus</th>\n",
       "      <th>chas</th>\n",
       "      <th>nox</th>\n",
       "      <th>rooms</th>\n",
       "      <th>age</th>\n",
       "      <th>dis</th>\n",
       "      <th>rad</th>\n",
       "      <th>tax</th>\n",
       "      <th>ptratio</th>\n",
       "      <th>lstat</th>\n",
       "      <th>mv</th>\n",
       "    </tr>\n",
       "  </thead>\n",
       "  <tbody>\n",
       "    <tr>\n",
       "      <th>173</th>\n",
       "      <td>0.09178</td>\n",
       "      <td>0.0</td>\n",
       "      <td>4.05</td>\n",
       "      <td>0</td>\n",
       "      <td>0.510</td>\n",
       "      <td>6.416</td>\n",
       "      <td>84.1</td>\n",
       "      <td>2.6463</td>\n",
       "      <td>5</td>\n",
       "      <td>296</td>\n",
       "      <td>16.6</td>\n",
       "      <td>9.04</td>\n",
       "      <td>23.6</td>\n",
       "    </tr>\n",
       "    <tr>\n",
       "      <th>274</th>\n",
       "      <td>0.05644</td>\n",
       "      <td>40.0</td>\n",
       "      <td>6.41</td>\n",
       "      <td>1</td>\n",
       "      <td>0.447</td>\n",
       "      <td>6.758</td>\n",
       "      <td>32.9</td>\n",
       "      <td>4.0776</td>\n",
       "      <td>4</td>\n",
       "      <td>254</td>\n",
       "      <td>17.6</td>\n",
       "      <td>3.53</td>\n",
       "      <td>32.4</td>\n",
       "    </tr>\n",
       "    <tr>\n",
       "      <th>491</th>\n",
       "      <td>0.10574</td>\n",
       "      <td>0.0</td>\n",
       "      <td>27.74</td>\n",
       "      <td>0</td>\n",
       "      <td>0.609</td>\n",
       "      <td>5.983</td>\n",
       "      <td>98.8</td>\n",
       "      <td>1.8681</td>\n",
       "      <td>4</td>\n",
       "      <td>711</td>\n",
       "      <td>20.1</td>\n",
       "      <td>18.07</td>\n",
       "      <td>13.6</td>\n",
       "    </tr>\n",
       "    <tr>\n",
       "      <th>72</th>\n",
       "      <td>0.09164</td>\n",
       "      <td>0.0</td>\n",
       "      <td>10.81</td>\n",
       "      <td>0</td>\n",
       "      <td>0.413</td>\n",
       "      <td>6.065</td>\n",
       "      <td>7.8</td>\n",
       "      <td>5.2873</td>\n",
       "      <td>4</td>\n",
       "      <td>305</td>\n",
       "      <td>19.2</td>\n",
       "      <td>5.52</td>\n",
       "      <td>22.8</td>\n",
       "    </tr>\n",
       "    <tr>\n",
       "      <th>452</th>\n",
       "      <td>5.09017</td>\n",
       "      <td>0.0</td>\n",
       "      <td>18.10</td>\n",
       "      <td>0</td>\n",
       "      <td>0.713</td>\n",
       "      <td>6.297</td>\n",
       "      <td>91.8</td>\n",
       "      <td>2.3682</td>\n",
       "      <td>24</td>\n",
       "      <td>666</td>\n",
       "      <td>20.2</td>\n",
       "      <td>17.27</td>\n",
       "      <td>16.1</td>\n",
       "    </tr>\n",
       "    <tr>\n",
       "      <th>...</th>\n",
       "      <td>...</td>\n",
       "      <td>...</td>\n",
       "      <td>...</td>\n",
       "      <td>...</td>\n",
       "      <td>...</td>\n",
       "      <td>...</td>\n",
       "      <td>...</td>\n",
       "      <td>...</td>\n",
       "      <td>...</td>\n",
       "      <td>...</td>\n",
       "      <td>...</td>\n",
       "      <td>...</td>\n",
       "      <td>...</td>\n",
       "    </tr>\n",
       "    <tr>\n",
       "      <th>412</th>\n",
       "      <td>18.81100</td>\n",
       "      <td>0.0</td>\n",
       "      <td>18.10</td>\n",
       "      <td>0</td>\n",
       "      <td>0.597</td>\n",
       "      <td>4.628</td>\n",
       "      <td>100.0</td>\n",
       "      <td>1.5539</td>\n",
       "      <td>24</td>\n",
       "      <td>666</td>\n",
       "      <td>20.2</td>\n",
       "      <td>34.37</td>\n",
       "      <td>17.9</td>\n",
       "    </tr>\n",
       "    <tr>\n",
       "      <th>436</th>\n",
       "      <td>14.42080</td>\n",
       "      <td>0.0</td>\n",
       "      <td>18.10</td>\n",
       "      <td>0</td>\n",
       "      <td>0.740</td>\n",
       "      <td>6.461</td>\n",
       "      <td>93.3</td>\n",
       "      <td>2.0026</td>\n",
       "      <td>24</td>\n",
       "      <td>666</td>\n",
       "      <td>20.2</td>\n",
       "      <td>18.05</td>\n",
       "      <td>9.6</td>\n",
       "    </tr>\n",
       "    <tr>\n",
       "      <th>411</th>\n",
       "      <td>14.05070</td>\n",
       "      <td>0.0</td>\n",
       "      <td>18.10</td>\n",
       "      <td>0</td>\n",
       "      <td>0.597</td>\n",
       "      <td>6.657</td>\n",
       "      <td>100.0</td>\n",
       "      <td>1.5275</td>\n",
       "      <td>24</td>\n",
       "      <td>666</td>\n",
       "      <td>20.2</td>\n",
       "      <td>21.22</td>\n",
       "      <td>17.2</td>\n",
       "    </tr>\n",
       "    <tr>\n",
       "      <th>86</th>\n",
       "      <td>0.05188</td>\n",
       "      <td>0.0</td>\n",
       "      <td>4.49</td>\n",
       "      <td>0</td>\n",
       "      <td>0.449</td>\n",
       "      <td>6.015</td>\n",
       "      <td>45.1</td>\n",
       "      <td>4.4272</td>\n",
       "      <td>3</td>\n",
       "      <td>247</td>\n",
       "      <td>18.5</td>\n",
       "      <td>12.86</td>\n",
       "      <td>22.5</td>\n",
       "    </tr>\n",
       "    <tr>\n",
       "      <th>75</th>\n",
       "      <td>0.09512</td>\n",
       "      <td>0.0</td>\n",
       "      <td>12.83</td>\n",
       "      <td>0</td>\n",
       "      <td>0.437</td>\n",
       "      <td>6.286</td>\n",
       "      <td>45.0</td>\n",
       "      <td>4.5026</td>\n",
       "      <td>5</td>\n",
       "      <td>398</td>\n",
       "      <td>18.7</td>\n",
       "      <td>8.94</td>\n",
       "      <td>21.4</td>\n",
       "    </tr>\n",
       "  </tbody>\n",
       "</table>\n",
       "<p>102 rows × 13 columns</p>\n",
       "</div>"
      ],
      "text/plain": [
       "         crim    zn  indus  chas    nox  rooms    age     dis  rad  tax  \\\n",
       "173   0.09178   0.0   4.05     0  0.510  6.416   84.1  2.6463    5  296   \n",
       "274   0.05644  40.0   6.41     1  0.447  6.758   32.9  4.0776    4  254   \n",
       "491   0.10574   0.0  27.74     0  0.609  5.983   98.8  1.8681    4  711   \n",
       "72    0.09164   0.0  10.81     0  0.413  6.065    7.8  5.2873    4  305   \n",
       "452   5.09017   0.0  18.10     0  0.713  6.297   91.8  2.3682   24  666   \n",
       "..        ...   ...    ...   ...    ...    ...    ...     ...  ...  ...   \n",
       "412  18.81100   0.0  18.10     0  0.597  4.628  100.0  1.5539   24  666   \n",
       "436  14.42080   0.0  18.10     0  0.740  6.461   93.3  2.0026   24  666   \n",
       "411  14.05070   0.0  18.10     0  0.597  6.657  100.0  1.5275   24  666   \n",
       "86    0.05188   0.0   4.49     0  0.449  6.015   45.1  4.4272    3  247   \n",
       "75    0.09512   0.0  12.83     0  0.437  6.286   45.0  4.5026    5  398   \n",
       "\n",
       "     ptratio  lstat    mv  \n",
       "173     16.6   9.04  23.6  \n",
       "274     17.6   3.53  32.4  \n",
       "491     20.1  18.07  13.6  \n",
       "72      19.2   5.52  22.8  \n",
       "452     20.2  17.27  16.1  \n",
       "..       ...    ...   ...  \n",
       "412     20.2  34.37  17.9  \n",
       "436     20.2  18.05   9.6  \n",
       "411     20.2  21.22  17.2  \n",
       "86      18.5  12.86  22.5  \n",
       "75      18.7   8.94  21.4  \n",
       "\n",
       "[102 rows x 13 columns]"
      ]
     },
     "execution_count": 88,
     "metadata": {},
     "output_type": "execute_result"
    }
   ],
   "source": [
    "test_set"
   ]
  },
  {
   "cell_type": "code",
   "execution_count": 89,
   "metadata": {
    "ExecuteTime": {
     "end_time": "2020-09-28T01:29:14.118748Z",
     "start_time": "2020-09-28T01:29:14.101789Z"
    }
   },
   "outputs": [
    {
     "name": "stderr",
     "output_type": "stream",
     "text": [
      "C:\\Users\\Jianglan\\Anaconda3\\lib\\site-packages\\ipykernel_launcher.py:2: SettingWithCopyWarning: \n",
      "A value is trying to be set on a copy of a slice from a DataFrame.\n",
      "Try using .loc[row_indexer,col_indexer] = value instead\n",
      "\n",
      "See the caveats in the documentation: https://pandas.pydata.org/pandas-docs/stable/user_guide/indexing.html#returning-a-view-versus-a-copy\n",
      "  \n",
      "C:\\Users\\Jianglan\\Anaconda3\\lib\\site-packages\\ipykernel_launcher.py:3: SettingWithCopyWarning: \n",
      "A value is trying to be set on a copy of a slice from a DataFrame.\n",
      "Try using .loc[row_indexer,col_indexer] = value instead\n",
      "\n",
      "See the caveats in the documentation: https://pandas.pydata.org/pandas-docs/stable/user_guide/indexing.html#returning-a-view-versus-a-copy\n",
      "  This is separate from the ipykernel package so we can avoid doing imports until\n",
      "C:\\Users\\Jianglan\\Anaconda3\\lib\\site-packages\\ipykernel_launcher.py:4: SettingWithCopyWarning: \n",
      "A value is trying to be set on a copy of a slice from a DataFrame.\n",
      "Try using .loc[row_indexer,col_indexer] = value instead\n",
      "\n",
      "See the caveats in the documentation: https://pandas.pydata.org/pandas-docs/stable/user_guide/indexing.html#returning-a-view-versus-a-copy\n",
      "  after removing the cwd from sys.path.\n",
      "C:\\Users\\Jianglan\\Anaconda3\\lib\\site-packages\\ipykernel_launcher.py:5: SettingWithCopyWarning: \n",
      "A value is trying to be set on a copy of a slice from a DataFrame.\n",
      "Try using .loc[row_indexer,col_indexer] = value instead\n",
      "\n",
      "See the caveats in the documentation: https://pandas.pydata.org/pandas-docs/stable/user_guide/indexing.html#returning-a-view-versus-a-copy\n",
      "  \"\"\"\n",
      "C:\\Users\\Jianglan\\Anaconda3\\lib\\site-packages\\ipykernel_launcher.py:6: SettingWithCopyWarning: \n",
      "A value is trying to be set on a copy of a slice from a DataFrame.\n",
      "Try using .loc[row_indexer,col_indexer] = value instead\n",
      "\n",
      "See the caveats in the documentation: https://pandas.pydata.org/pandas-docs/stable/user_guide/indexing.html#returning-a-view-versus-a-copy\n",
      "  \n",
      "C:\\Users\\Jianglan\\Anaconda3\\lib\\site-packages\\ipykernel_launcher.py:7: SettingWithCopyWarning: \n",
      "A value is trying to be set on a copy of a slice from a DataFrame.\n",
      "Try using .loc[row_indexer,col_indexer] = value instead\n",
      "\n",
      "See the caveats in the documentation: https://pandas.pydata.org/pandas-docs/stable/user_guide/indexing.html#returning-a-view-versus-a-copy\n",
      "  import sys\n",
      "C:\\Users\\Jianglan\\Anaconda3\\lib\\site-packages\\ipykernel_launcher.py:8: SettingWithCopyWarning: \n",
      "A value is trying to be set on a copy of a slice from a DataFrame.\n",
      "Try using .loc[row_indexer,col_indexer] = value instead\n",
      "\n",
      "See the caveats in the documentation: https://pandas.pydata.org/pandas-docs/stable/user_guide/indexing.html#returning-a-view-versus-a-copy\n",
      "  \n"
     ]
    }
   ],
   "source": [
    "# create new features\n",
    "test_set['logAge'] = np.log10(test_set['age'])\n",
    "test_set['logLstat'] = np.log10(test_set['lstat'])\n",
    "test_set['logDis']= np.log10(test_set['dis'])\n",
    "test_set['logMv'] = np.log10(test_set['mv'])\n",
    "test_set['sqAge'] = np.square(test_set['age'])\n",
    "test_set['sqLstat'] = np.square(test_set['lstat'])\n",
    "test_set['sqDis'] = np.square(test_set['dis'])"
   ]
  },
  {
   "cell_type": "code",
   "execution_count": 90,
   "metadata": {
    "ExecuteTime": {
     "end_time": "2020-09-28T01:29:17.003970Z",
     "start_time": "2020-09-28T01:29:16.945161Z"
    }
   },
   "outputs": [
    {
     "data": {
      "text/html": [
       "<div>\n",
       "<style scoped>\n",
       "    .dataframe tbody tr th:only-of-type {\n",
       "        vertical-align: middle;\n",
       "    }\n",
       "\n",
       "    .dataframe tbody tr th {\n",
       "        vertical-align: top;\n",
       "    }\n",
       "\n",
       "    .dataframe thead th {\n",
       "        text-align: right;\n",
       "    }\n",
       "</style>\n",
       "<table border=\"1\" class=\"dataframe\">\n",
       "  <thead>\n",
       "    <tr style=\"text-align: right;\">\n",
       "      <th></th>\n",
       "      <th>crim</th>\n",
       "      <th>zn</th>\n",
       "      <th>indus</th>\n",
       "      <th>chas</th>\n",
       "      <th>nox</th>\n",
       "      <th>rooms</th>\n",
       "      <th>age</th>\n",
       "      <th>dis</th>\n",
       "      <th>rad</th>\n",
       "      <th>tax</th>\n",
       "      <th>ptratio</th>\n",
       "      <th>lstat</th>\n",
       "      <th>mv</th>\n",
       "      <th>logAge</th>\n",
       "      <th>logLstat</th>\n",
       "      <th>logDis</th>\n",
       "      <th>logMv</th>\n",
       "      <th>sqAge</th>\n",
       "      <th>sqLstat</th>\n",
       "      <th>sqDis</th>\n",
       "    </tr>\n",
       "  </thead>\n",
       "  <tbody>\n",
       "    <tr>\n",
       "      <th>173</th>\n",
       "      <td>0.09178</td>\n",
       "      <td>0.0</td>\n",
       "      <td>4.05</td>\n",
       "      <td>0</td>\n",
       "      <td>0.510</td>\n",
       "      <td>6.416</td>\n",
       "      <td>84.1</td>\n",
       "      <td>2.6463</td>\n",
       "      <td>5</td>\n",
       "      <td>296</td>\n",
       "      <td>16.6</td>\n",
       "      <td>9.04</td>\n",
       "      <td>23.6</td>\n",
       "      <td>1.924796</td>\n",
       "      <td>0.956168</td>\n",
       "      <td>0.422639</td>\n",
       "      <td>1.372912</td>\n",
       "      <td>7072.81</td>\n",
       "      <td>81.7216</td>\n",
       "      <td>7.002904</td>\n",
       "    </tr>\n",
       "    <tr>\n",
       "      <th>274</th>\n",
       "      <td>0.05644</td>\n",
       "      <td>40.0</td>\n",
       "      <td>6.41</td>\n",
       "      <td>1</td>\n",
       "      <td>0.447</td>\n",
       "      <td>6.758</td>\n",
       "      <td>32.9</td>\n",
       "      <td>4.0776</td>\n",
       "      <td>4</td>\n",
       "      <td>254</td>\n",
       "      <td>17.6</td>\n",
       "      <td>3.53</td>\n",
       "      <td>32.4</td>\n",
       "      <td>1.517196</td>\n",
       "      <td>0.547775</td>\n",
       "      <td>0.610405</td>\n",
       "      <td>1.510545</td>\n",
       "      <td>1082.41</td>\n",
       "      <td>12.4609</td>\n",
       "      <td>16.626822</td>\n",
       "    </tr>\n",
       "    <tr>\n",
       "      <th>491</th>\n",
       "      <td>0.10574</td>\n",
       "      <td>0.0</td>\n",
       "      <td>27.74</td>\n",
       "      <td>0</td>\n",
       "      <td>0.609</td>\n",
       "      <td>5.983</td>\n",
       "      <td>98.8</td>\n",
       "      <td>1.8681</td>\n",
       "      <td>4</td>\n",
       "      <td>711</td>\n",
       "      <td>20.1</td>\n",
       "      <td>18.07</td>\n",
       "      <td>13.6</td>\n",
       "      <td>1.994757</td>\n",
       "      <td>1.256958</td>\n",
       "      <td>0.271400</td>\n",
       "      <td>1.133539</td>\n",
       "      <td>9761.44</td>\n",
       "      <td>326.5249</td>\n",
       "      <td>3.489798</td>\n",
       "    </tr>\n",
       "    <tr>\n",
       "      <th>72</th>\n",
       "      <td>0.09164</td>\n",
       "      <td>0.0</td>\n",
       "      <td>10.81</td>\n",
       "      <td>0</td>\n",
       "      <td>0.413</td>\n",
       "      <td>6.065</td>\n",
       "      <td>7.8</td>\n",
       "      <td>5.2873</td>\n",
       "      <td>4</td>\n",
       "      <td>305</td>\n",
       "      <td>19.2</td>\n",
       "      <td>5.52</td>\n",
       "      <td>22.8</td>\n",
       "      <td>0.892095</td>\n",
       "      <td>0.741939</td>\n",
       "      <td>0.723234</td>\n",
       "      <td>1.357935</td>\n",
       "      <td>60.84</td>\n",
       "      <td>30.4704</td>\n",
       "      <td>27.955541</td>\n",
       "    </tr>\n",
       "    <tr>\n",
       "      <th>452</th>\n",
       "      <td>5.09017</td>\n",
       "      <td>0.0</td>\n",
       "      <td>18.10</td>\n",
       "      <td>0</td>\n",
       "      <td>0.713</td>\n",
       "      <td>6.297</td>\n",
       "      <td>91.8</td>\n",
       "      <td>2.3682</td>\n",
       "      <td>24</td>\n",
       "      <td>666</td>\n",
       "      <td>20.2</td>\n",
       "      <td>17.27</td>\n",
       "      <td>16.1</td>\n",
       "      <td>1.962843</td>\n",
       "      <td>1.237292</td>\n",
       "      <td>0.374418</td>\n",
       "      <td>1.206826</td>\n",
       "      <td>8427.24</td>\n",
       "      <td>298.2529</td>\n",
       "      <td>5.608371</td>\n",
       "    </tr>\n",
       "    <tr>\n",
       "      <th>...</th>\n",
       "      <td>...</td>\n",
       "      <td>...</td>\n",
       "      <td>...</td>\n",
       "      <td>...</td>\n",
       "      <td>...</td>\n",
       "      <td>...</td>\n",
       "      <td>...</td>\n",
       "      <td>...</td>\n",
       "      <td>...</td>\n",
       "      <td>...</td>\n",
       "      <td>...</td>\n",
       "      <td>...</td>\n",
       "      <td>...</td>\n",
       "      <td>...</td>\n",
       "      <td>...</td>\n",
       "      <td>...</td>\n",
       "      <td>...</td>\n",
       "      <td>...</td>\n",
       "      <td>...</td>\n",
       "      <td>...</td>\n",
       "    </tr>\n",
       "    <tr>\n",
       "      <th>412</th>\n",
       "      <td>18.81100</td>\n",
       "      <td>0.0</td>\n",
       "      <td>18.10</td>\n",
       "      <td>0</td>\n",
       "      <td>0.597</td>\n",
       "      <td>4.628</td>\n",
       "      <td>100.0</td>\n",
       "      <td>1.5539</td>\n",
       "      <td>24</td>\n",
       "      <td>666</td>\n",
       "      <td>20.2</td>\n",
       "      <td>34.37</td>\n",
       "      <td>17.9</td>\n",
       "      <td>2.000000</td>\n",
       "      <td>1.536180</td>\n",
       "      <td>0.191423</td>\n",
       "      <td>1.252853</td>\n",
       "      <td>10000.00</td>\n",
       "      <td>1181.2969</td>\n",
       "      <td>2.414605</td>\n",
       "    </tr>\n",
       "    <tr>\n",
       "      <th>436</th>\n",
       "      <td>14.42080</td>\n",
       "      <td>0.0</td>\n",
       "      <td>18.10</td>\n",
       "      <td>0</td>\n",
       "      <td>0.740</td>\n",
       "      <td>6.461</td>\n",
       "      <td>93.3</td>\n",
       "      <td>2.0026</td>\n",
       "      <td>24</td>\n",
       "      <td>666</td>\n",
       "      <td>20.2</td>\n",
       "      <td>18.05</td>\n",
       "      <td>9.6</td>\n",
       "      <td>1.969882</td>\n",
       "      <td>1.256477</td>\n",
       "      <td>0.301594</td>\n",
       "      <td>0.982271</td>\n",
       "      <td>8704.89</td>\n",
       "      <td>325.8025</td>\n",
       "      <td>4.010407</td>\n",
       "    </tr>\n",
       "    <tr>\n",
       "      <th>411</th>\n",
       "      <td>14.05070</td>\n",
       "      <td>0.0</td>\n",
       "      <td>18.10</td>\n",
       "      <td>0</td>\n",
       "      <td>0.597</td>\n",
       "      <td>6.657</td>\n",
       "      <td>100.0</td>\n",
       "      <td>1.5275</td>\n",
       "      <td>24</td>\n",
       "      <td>666</td>\n",
       "      <td>20.2</td>\n",
       "      <td>21.22</td>\n",
       "      <td>17.2</td>\n",
       "      <td>2.000000</td>\n",
       "      <td>1.326745</td>\n",
       "      <td>0.183981</td>\n",
       "      <td>1.235528</td>\n",
       "      <td>10000.00</td>\n",
       "      <td>450.2884</td>\n",
       "      <td>2.333256</td>\n",
       "    </tr>\n",
       "    <tr>\n",
       "      <th>86</th>\n",
       "      <td>0.05188</td>\n",
       "      <td>0.0</td>\n",
       "      <td>4.49</td>\n",
       "      <td>0</td>\n",
       "      <td>0.449</td>\n",
       "      <td>6.015</td>\n",
       "      <td>45.1</td>\n",
       "      <td>4.4272</td>\n",
       "      <td>3</td>\n",
       "      <td>247</td>\n",
       "      <td>18.5</td>\n",
       "      <td>12.86</td>\n",
       "      <td>22.5</td>\n",
       "      <td>1.654177</td>\n",
       "      <td>1.109241</td>\n",
       "      <td>0.646129</td>\n",
       "      <td>1.352183</td>\n",
       "      <td>2034.01</td>\n",
       "      <td>165.3796</td>\n",
       "      <td>19.600100</td>\n",
       "    </tr>\n",
       "    <tr>\n",
       "      <th>75</th>\n",
       "      <td>0.09512</td>\n",
       "      <td>0.0</td>\n",
       "      <td>12.83</td>\n",
       "      <td>0</td>\n",
       "      <td>0.437</td>\n",
       "      <td>6.286</td>\n",
       "      <td>45.0</td>\n",
       "      <td>4.5026</td>\n",
       "      <td>5</td>\n",
       "      <td>398</td>\n",
       "      <td>18.7</td>\n",
       "      <td>8.94</td>\n",
       "      <td>21.4</td>\n",
       "      <td>1.653213</td>\n",
       "      <td>0.951338</td>\n",
       "      <td>0.653463</td>\n",
       "      <td>1.330414</td>\n",
       "      <td>2025.00</td>\n",
       "      <td>79.9236</td>\n",
       "      <td>20.273407</td>\n",
       "    </tr>\n",
       "  </tbody>\n",
       "</table>\n",
       "<p>102 rows × 20 columns</p>\n",
       "</div>"
      ],
      "text/plain": [
       "         crim    zn  indus  chas    nox  rooms    age     dis  rad  tax  \\\n",
       "173   0.09178   0.0   4.05     0  0.510  6.416   84.1  2.6463    5  296   \n",
       "274   0.05644  40.0   6.41     1  0.447  6.758   32.9  4.0776    4  254   \n",
       "491   0.10574   0.0  27.74     0  0.609  5.983   98.8  1.8681    4  711   \n",
       "72    0.09164   0.0  10.81     0  0.413  6.065    7.8  5.2873    4  305   \n",
       "452   5.09017   0.0  18.10     0  0.713  6.297   91.8  2.3682   24  666   \n",
       "..        ...   ...    ...   ...    ...    ...    ...     ...  ...  ...   \n",
       "412  18.81100   0.0  18.10     0  0.597  4.628  100.0  1.5539   24  666   \n",
       "436  14.42080   0.0  18.10     0  0.740  6.461   93.3  2.0026   24  666   \n",
       "411  14.05070   0.0  18.10     0  0.597  6.657  100.0  1.5275   24  666   \n",
       "86    0.05188   0.0   4.49     0  0.449  6.015   45.1  4.4272    3  247   \n",
       "75    0.09512   0.0  12.83     0  0.437  6.286   45.0  4.5026    5  398   \n",
       "\n",
       "     ptratio  lstat    mv    logAge  logLstat    logDis     logMv     sqAge  \\\n",
       "173     16.6   9.04  23.6  1.924796  0.956168  0.422639  1.372912   7072.81   \n",
       "274     17.6   3.53  32.4  1.517196  0.547775  0.610405  1.510545   1082.41   \n",
       "491     20.1  18.07  13.6  1.994757  1.256958  0.271400  1.133539   9761.44   \n",
       "72      19.2   5.52  22.8  0.892095  0.741939  0.723234  1.357935     60.84   \n",
       "452     20.2  17.27  16.1  1.962843  1.237292  0.374418  1.206826   8427.24   \n",
       "..       ...    ...   ...       ...       ...       ...       ...       ...   \n",
       "412     20.2  34.37  17.9  2.000000  1.536180  0.191423  1.252853  10000.00   \n",
       "436     20.2  18.05   9.6  1.969882  1.256477  0.301594  0.982271   8704.89   \n",
       "411     20.2  21.22  17.2  2.000000  1.326745  0.183981  1.235528  10000.00   \n",
       "86      18.5  12.86  22.5  1.654177  1.109241  0.646129  1.352183   2034.01   \n",
       "75      18.7   8.94  21.4  1.653213  0.951338  0.653463  1.330414   2025.00   \n",
       "\n",
       "       sqLstat      sqDis  \n",
       "173    81.7216   7.002904  \n",
       "274    12.4609  16.626822  \n",
       "491   326.5249   3.489798  \n",
       "72     30.4704  27.955541  \n",
       "452   298.2529   5.608371  \n",
       "..         ...        ...  \n",
       "412  1181.2969   2.414605  \n",
       "436   325.8025   4.010407  \n",
       "411   450.2884   2.333256  \n",
       "86    165.3796  19.600100  \n",
       "75     79.9236  20.273407  \n",
       "\n",
       "[102 rows x 20 columns]"
      ]
     },
     "execution_count": 90,
     "metadata": {},
     "output_type": "execute_result"
    }
   ],
   "source": [
    "test_set"
   ]
  },
  {
   "cell_type": "markdown",
   "metadata": {},
   "source": [
    "*Change MV outliers*"
   ]
  },
  {
   "cell_type": "code",
   "execution_count": 91,
   "metadata": {
    "ExecuteTime": {
     "end_time": "2020-09-28T01:29:27.460308Z",
     "start_time": "2020-09-28T01:29:27.449335Z"
    }
   },
   "outputs": [
    {
     "data": {
      "text/plain": [
       "(6.074999999999996, 34.87500000000001)"
      ]
     },
     "execution_count": 91,
     "metadata": {},
     "output_type": "execute_result"
    }
   ],
   "source": [
    "test_set_outliers = outliers(test_set,'mv')\n",
    "test_set_outliers"
   ]
  },
  {
   "cell_type": "code",
   "execution_count": 92,
   "metadata": {
    "ExecuteTime": {
     "end_time": "2020-09-28T01:29:28.379616Z",
     "start_time": "2020-09-28T01:29:28.369643Z"
    }
   },
   "outputs": [
    {
     "data": {
      "text/plain": [
       "20.15"
      ]
     },
     "execution_count": 92,
     "metadata": {},
     "output_type": "execute_result"
    }
   ],
   "source": [
    "test_set_med = test_set['mv'].median()\n",
    "test_set_med"
   ]
  },
  {
   "cell_type": "code",
   "execution_count": 93,
   "metadata": {
    "ExecuteTime": {
     "end_time": "2020-09-28T01:29:29.422127Z",
     "start_time": "2020-09-28T01:29:29.413186Z"
    }
   },
   "outputs": [
    {
     "name": "stderr",
     "output_type": "stream",
     "text": [
      "C:\\Users\\Jianglan\\Anaconda3\\lib\\site-packages\\pandas\\core\\indexing.py:1765: SettingWithCopyWarning: \n",
      "A value is trying to be set on a copy of a slice from a DataFrame.\n",
      "Try using .loc[row_indexer,col_indexer] = value instead\n",
      "\n",
      "See the caveats in the documentation: https://pandas.pydata.org/pandas-docs/stable/user_guide/indexing.html#returning-a-view-versus-a-copy\n",
      "  isetter(loc, value)\n"
     ]
    }
   ],
   "source": [
    "test_set.loc[(test_set['mv']>= test_set_outliers[1]) | (test_set['mv'] <= test_set_outliers[0]),'mv']= test_set_med"
   ]
  },
  {
   "cell_type": "code",
   "execution_count": 94,
   "metadata": {
    "ExecuteTime": {
     "end_time": "2020-09-28T01:29:30.335834Z",
     "start_time": "2020-09-28T01:29:30.325831Z"
    }
   },
   "outputs": [
    {
     "data": {
      "text/plain": [
       "173    23.6\n",
       "274    32.4\n",
       "491    13.6\n",
       "72     22.8\n",
       "452    16.1\n",
       "       ... \n",
       "412    17.9\n",
       "436     9.6\n",
       "411    17.2\n",
       "86     22.5\n",
       "75     21.4\n",
       "Name: mv, Length: 102, dtype: float64"
      ]
     },
     "execution_count": 94,
     "metadata": {},
     "output_type": "execute_result"
    }
   ],
   "source": [
    "# create our test labels\n",
    "test_labels = labels(test_set,'mv')\n",
    "test_labels"
   ]
  },
  {
   "cell_type": "code",
   "execution_count": 95,
   "metadata": {
    "ExecuteTime": {
     "end_time": "2020-09-28T01:29:31.174805Z",
     "start_time": "2020-09-28T01:29:31.149904Z"
    }
   },
   "outputs": [
    {
     "data": {
      "text/html": [
       "<div>\n",
       "<style scoped>\n",
       "    .dataframe tbody tr th:only-of-type {\n",
       "        vertical-align: middle;\n",
       "    }\n",
       "\n",
       "    .dataframe tbody tr th {\n",
       "        vertical-align: top;\n",
       "    }\n",
       "\n",
       "    .dataframe thead th {\n",
       "        text-align: right;\n",
       "    }\n",
       "</style>\n",
       "<table border=\"1\" class=\"dataframe\">\n",
       "  <thead>\n",
       "    <tr style=\"text-align: right;\">\n",
       "      <th></th>\n",
       "      <th>logDis</th>\n",
       "      <th>rooms</th>\n",
       "      <th>logAge</th>\n",
       "      <th>lstat</th>\n",
       "    </tr>\n",
       "  </thead>\n",
       "  <tbody>\n",
       "    <tr>\n",
       "      <th>173</th>\n",
       "      <td>0.422639</td>\n",
       "      <td>6.416</td>\n",
       "      <td>1.924796</td>\n",
       "      <td>9.04</td>\n",
       "    </tr>\n",
       "    <tr>\n",
       "      <th>274</th>\n",
       "      <td>0.610405</td>\n",
       "      <td>6.758</td>\n",
       "      <td>1.517196</td>\n",
       "      <td>3.53</td>\n",
       "    </tr>\n",
       "    <tr>\n",
       "      <th>491</th>\n",
       "      <td>0.271400</td>\n",
       "      <td>5.983</td>\n",
       "      <td>1.994757</td>\n",
       "      <td>18.07</td>\n",
       "    </tr>\n",
       "    <tr>\n",
       "      <th>72</th>\n",
       "      <td>0.723234</td>\n",
       "      <td>6.065</td>\n",
       "      <td>0.892095</td>\n",
       "      <td>5.52</td>\n",
       "    </tr>\n",
       "    <tr>\n",
       "      <th>452</th>\n",
       "      <td>0.374418</td>\n",
       "      <td>6.297</td>\n",
       "      <td>1.962843</td>\n",
       "      <td>17.27</td>\n",
       "    </tr>\n",
       "    <tr>\n",
       "      <th>...</th>\n",
       "      <td>...</td>\n",
       "      <td>...</td>\n",
       "      <td>...</td>\n",
       "      <td>...</td>\n",
       "    </tr>\n",
       "    <tr>\n",
       "      <th>412</th>\n",
       "      <td>0.191423</td>\n",
       "      <td>4.628</td>\n",
       "      <td>2.000000</td>\n",
       "      <td>34.37</td>\n",
       "    </tr>\n",
       "    <tr>\n",
       "      <th>436</th>\n",
       "      <td>0.301594</td>\n",
       "      <td>6.461</td>\n",
       "      <td>1.969882</td>\n",
       "      <td>18.05</td>\n",
       "    </tr>\n",
       "    <tr>\n",
       "      <th>411</th>\n",
       "      <td>0.183981</td>\n",
       "      <td>6.657</td>\n",
       "      <td>2.000000</td>\n",
       "      <td>21.22</td>\n",
       "    </tr>\n",
       "    <tr>\n",
       "      <th>86</th>\n",
       "      <td>0.646129</td>\n",
       "      <td>6.015</td>\n",
       "      <td>1.654177</td>\n",
       "      <td>12.86</td>\n",
       "    </tr>\n",
       "    <tr>\n",
       "      <th>75</th>\n",
       "      <td>0.653463</td>\n",
       "      <td>6.286</td>\n",
       "      <td>1.653213</td>\n",
       "      <td>8.94</td>\n",
       "    </tr>\n",
       "  </tbody>\n",
       "</table>\n",
       "<p>102 rows × 4 columns</p>\n",
       "</div>"
      ],
      "text/plain": [
       "       logDis  rooms    logAge  lstat\n",
       "173  0.422639  6.416  1.924796   9.04\n",
       "274  0.610405  6.758  1.517196   3.53\n",
       "491  0.271400  5.983  1.994757  18.07\n",
       "72   0.723234  6.065  0.892095   5.52\n",
       "452  0.374418  6.297  1.962843  17.27\n",
       "..        ...    ...       ...    ...\n",
       "412  0.191423  4.628  2.000000  34.37\n",
       "436  0.301594  6.461  1.969882  18.05\n",
       "411  0.183981  6.657  2.000000  21.22\n",
       "86   0.646129  6.015  1.654177  12.86\n",
       "75   0.653463  6.286  1.653213   8.94\n",
       "\n",
       "[102 rows x 4 columns]"
      ]
     },
     "execution_count": 95,
     "metadata": {},
     "output_type": "execute_result"
    }
   ],
   "source": [
    "# create our train labels\n",
    "test_df = train_attributes(test_set, train_predictors)\n",
    "test_df"
   ]
  },
  {
   "cell_type": "markdown",
   "metadata": {},
   "source": [
    "**Standardize to z scores**"
   ]
  },
  {
   "cell_type": "code",
   "execution_count": 96,
   "metadata": {
    "ExecuteTime": {
     "end_time": "2020-09-28T01:29:45.029003Z",
     "start_time": "2020-09-28T01:29:45.018032Z"
    }
   },
   "outputs": [],
   "source": [
    "test = scaler.fit(test_df)\n",
    "test = scaler.fit_transform(test_df)"
   ]
  },
  {
   "cell_type": "code",
   "execution_count": 97,
   "metadata": {
    "ExecuteTime": {
     "end_time": "2020-09-28T01:29:45.584111Z",
     "start_time": "2020-09-28T01:29:45.559209Z"
    }
   },
   "outputs": [
    {
     "data": {
      "text/html": [
       "<div>\n",
       "<style scoped>\n",
       "    .dataframe tbody tr th:only-of-type {\n",
       "        vertical-align: middle;\n",
       "    }\n",
       "\n",
       "    .dataframe tbody tr th {\n",
       "        vertical-align: top;\n",
       "    }\n",
       "\n",
       "    .dataframe thead th {\n",
       "        text-align: right;\n",
       "    }\n",
       "</style>\n",
       "<table border=\"1\" class=\"dataframe\">\n",
       "  <thead>\n",
       "    <tr style=\"text-align: right;\">\n",
       "      <th></th>\n",
       "      <th>logDis</th>\n",
       "      <th>rooms</th>\n",
       "      <th>logAge</th>\n",
       "      <th>lstat</th>\n",
       "    </tr>\n",
       "  </thead>\n",
       "  <tbody>\n",
       "    <tr>\n",
       "      <th>173</th>\n",
       "      <td>-0.424094</td>\n",
       "      <td>0.386286</td>\n",
       "      <td>0.559736</td>\n",
       "      <td>-0.608716</td>\n",
       "    </tr>\n",
       "    <tr>\n",
       "      <th>274</th>\n",
       "      <td>0.424429</td>\n",
       "      <td>0.904026</td>\n",
       "      <td>-0.973668</td>\n",
       "      <td>-1.373038</td>\n",
       "    </tr>\n",
       "    <tr>\n",
       "      <th>491</th>\n",
       "      <td>-1.107551</td>\n",
       "      <td>-0.269215</td>\n",
       "      <td>0.822931</td>\n",
       "      <td>0.643885</td>\n",
       "    </tr>\n",
       "    <tr>\n",
       "      <th>72</th>\n",
       "      <td>0.934311</td>\n",
       "      <td>-0.145078</td>\n",
       "      <td>-3.325317</td>\n",
       "      <td>-1.096995</td>\n",
       "    </tr>\n",
       "    <tr>\n",
       "      <th>452</th>\n",
       "      <td>-0.642006</td>\n",
       "      <td>0.206137</td>\n",
       "      <td>0.702869</td>\n",
       "      <td>0.532912</td>\n",
       "    </tr>\n",
       "    <tr>\n",
       "      <th>...</th>\n",
       "      <td>...</td>\n",
       "      <td>...</td>\n",
       "      <td>...</td>\n",
       "      <td>...</td>\n",
       "    </tr>\n",
       "    <tr>\n",
       "      <th>412</th>\n",
       "      <td>-1.468971</td>\n",
       "      <td>-2.320494</td>\n",
       "      <td>0.842656</td>\n",
       "      <td>2.904947</td>\n",
       "    </tr>\n",
       "    <tr>\n",
       "      <th>436</th>\n",
       "      <td>-0.971102</td>\n",
       "      <td>0.454410</td>\n",
       "      <td>0.729349</td>\n",
       "      <td>0.641110</td>\n",
       "    </tr>\n",
       "    <tr>\n",
       "      <th>411</th>\n",
       "      <td>-1.502601</td>\n",
       "      <td>0.751127</td>\n",
       "      <td>0.842656</td>\n",
       "      <td>1.080838</td>\n",
       "    </tr>\n",
       "    <tr>\n",
       "      <th>86</th>\n",
       "      <td>0.585870</td>\n",
       "      <td>-0.220771</td>\n",
       "      <td>-0.458342</td>\n",
       "      <td>-0.078823</td>\n",
       "    </tr>\n",
       "    <tr>\n",
       "      <th>75</th>\n",
       "      <td>0.619014</td>\n",
       "      <td>0.189485</td>\n",
       "      <td>-0.461969</td>\n",
       "      <td>-0.622588</td>\n",
       "    </tr>\n",
       "  </tbody>\n",
       "</table>\n",
       "<p>102 rows × 4 columns</p>\n",
       "</div>"
      ],
      "text/plain": [
       "       logDis     rooms    logAge     lstat\n",
       "173 -0.424094  0.386286  0.559736 -0.608716\n",
       "274  0.424429  0.904026 -0.973668 -1.373038\n",
       "491 -1.107551 -0.269215  0.822931  0.643885\n",
       "72   0.934311 -0.145078 -3.325317 -1.096995\n",
       "452 -0.642006  0.206137  0.702869  0.532912\n",
       "..        ...       ...       ...       ...\n",
       "412 -1.468971 -2.320494  0.842656  2.904947\n",
       "436 -0.971102  0.454410  0.729349  0.641110\n",
       "411 -1.502601  0.751127  0.842656  1.080838\n",
       "86   0.585870 -0.220771 -0.458342 -0.078823\n",
       "75   0.619014  0.189485 -0.461969 -0.622588\n",
       "\n",
       "[102 rows x 4 columns]"
      ]
     },
     "execution_count": 97,
     "metadata": {},
     "output_type": "execute_result"
    }
   ],
   "source": [
    "scaled_test = pd.DataFrame(test, index= test_df.index, columns= test_df.columns)\n",
    "scaled_test"
   ]
  },
  {
   "cell_type": "code",
   "execution_count": 98,
   "metadata": {
    "ExecuteTime": {
     "end_time": "2020-09-28T01:29:47.126455Z",
     "start_time": "2020-09-28T01:29:47.118584Z"
    }
   },
   "outputs": [],
   "source": [
    "testing_predictions_lr = lin_reg.predict(scaled_test)"
   ]
  },
  {
   "cell_type": "code",
   "execution_count": 99,
   "metadata": {
    "ExecuteTime": {
     "end_time": "2020-09-28T01:29:47.921061Z",
     "start_time": "2020-09-28T01:29:47.913421Z"
    }
   },
   "outputs": [
    {
     "data": {
      "text/plain": [
       "array([23.47377637, 27.9807862 , 17.54677384, 27.25276791, 18.63388435])"
      ]
     },
     "execution_count": 99,
     "metadata": {},
     "output_type": "execute_result"
    }
   ],
   "source": [
    "testing_predictions_lr[0:5]"
   ]
  },
  {
   "cell_type": "code",
   "execution_count": 100,
   "metadata": {
    "ExecuteTime": {
     "end_time": "2020-09-28T01:29:48.716910Z",
     "start_time": "2020-09-28T01:29:48.706745Z"
    }
   },
   "outputs": [
    {
     "data": {
      "text/plain": [
       "173    -0.126224\n",
       "274    -4.419214\n",
       "491     3.946774\n",
       "72      4.452768\n",
       "452     2.533884\n",
       "         ...    \n",
       "412   -11.234096\n",
       "436     8.670625\n",
       "411    -0.688892\n",
       "86     -0.782796\n",
       "75      2.841062\n",
       "Name: mv, Length: 102, dtype: float64"
      ]
     },
     "execution_count": 100,
     "metadata": {},
     "output_type": "execute_result"
    }
   ],
   "source": [
    "testing_predictions_lr - test_labels"
   ]
  },
  {
   "cell_type": "code",
   "execution_count": 147,
   "metadata": {
    "ExecuteTime": {
     "end_time": "2020-09-28T02:44:53.259196Z",
     "start_time": "2020-09-28T02:44:53.246264Z"
    }
   },
   "outputs": [
    {
     "data": {
      "text/plain": [
       "4.184031816256407"
      ]
     },
     "execution_count": 147,
     "metadata": {},
     "output_type": "execute_result"
    }
   ],
   "source": [
    "test_lr_mse = mean_squared_error(test_labels, testing_predictions_lr)\n",
    "test_lr_rmse = np.sqrt(test_lr_mse)\n",
    "test_lr_rmse"
   ]
  },
  {
   "cell_type": "code",
   "execution_count": 102,
   "metadata": {
    "ExecuteTime": {
     "end_time": "2020-09-28T01:30:09.218117Z",
     "start_time": "2020-09-28T01:30:09.210174Z"
    }
   },
   "outputs": [],
   "source": [
    "testing_predictions_ridge = ridge_reg_2.predict(scaled_test)"
   ]
  },
  {
   "cell_type": "code",
   "execution_count": 148,
   "metadata": {
    "ExecuteTime": {
     "end_time": "2020-09-28T02:44:58.807986Z",
     "start_time": "2020-09-28T02:44:58.798357Z"
    }
   },
   "outputs": [
    {
     "data": {
      "text/plain": [
       "4.182626572838461"
      ]
     },
     "execution_count": 148,
     "metadata": {},
     "output_type": "execute_result"
    }
   ],
   "source": [
    "test_ridge_mse = mean_squared_error(test_labels, testing_predictions_ridge)\n",
    "test_ridge_rmse = np.sqrt(test_ridge_mse)\n",
    "test_ridge_rmse"
   ]
  },
  {
   "cell_type": "code",
   "execution_count": 103,
   "metadata": {
    "ExecuteTime": {
     "end_time": "2020-09-28T01:30:23.387641Z",
     "start_time": "2020-09-28T01:30:23.378662Z"
    }
   },
   "outputs": [
    {
     "data": {
      "text/plain": [
       "(21.149752475247524,\n",
       " array([ 0.40380133,  0.85091494, -0.44870445, -3.97185525]))"
      ]
     },
     "execution_count": 103,
     "metadata": {},
     "output_type": "execute_result"
    }
   ],
   "source": [
    "lin_reg.intercept_,lin_reg.coef_"
   ]
  },
  {
   "cell_type": "code",
   "execution_count": 104,
   "metadata": {
    "ExecuteTime": {
     "end_time": "2020-09-28T01:30:26.710220Z",
     "start_time": "2020-09-28T01:30:26.701278Z"
    }
   },
   "outputs": [
    {
     "data": {
      "text/plain": [
       "(21.149752475247524,\n",
       " array([ 0.4557909 ,  0.91941846, -0.4768009 , -3.79303618]))"
      ]
     },
     "execution_count": 104,
     "metadata": {},
     "output_type": "execute_result"
    }
   ],
   "source": [
    "ridge_reg_2.intercept_,ridge_reg_2.coef_"
   ]
  },
  {
   "cell_type": "code",
   "execution_count": 175,
   "metadata": {
    "ExecuteTime": {
     "end_time": "2020-09-28T02:52:11.878259Z",
     "start_time": "2020-09-28T02:52:11.869287Z"
    }
   },
   "outputs": [
    {
     "data": {
      "text/plain": [
       "0.21011828332339785"
      ]
     },
     "execution_count": 175,
     "metadata": {},
     "output_type": "execute_result"
    }
   ],
   "source": [
    "test_lr_rmse/test_labels.mean()"
   ]
  },
  {
   "cell_type": "code",
   "execution_count": 176,
   "metadata": {
    "ExecuteTime": {
     "end_time": "2020-09-28T02:52:12.432952Z",
     "start_time": "2020-09-28T02:52:12.422981Z"
    }
   },
   "outputs": [
    {
     "data": {
      "text/plain": [
       "0.21004771327336066"
      ]
     },
     "execution_count": 176,
     "metadata": {},
     "output_type": "execute_result"
    }
   ],
   "source": [
    "test_ridge_rmse/test_labels.mean()"
   ]
  },
  {
   "cell_type": "code",
   "execution_count": 105,
   "metadata": {
    "ExecuteTime": {
     "end_time": "2020-09-28T01:31:01.972158Z",
     "start_time": "2020-09-28T01:31:01.600409Z"
    }
   },
   "outputs": [
    {
     "data": {
      "text/plain": [
       "<AxesSubplot:ylabel='mv'>"
      ]
     },
     "execution_count": 105,
     "metadata": {},
     "output_type": "execute_result"
    },
    {
     "data": {
      "image/png": "[encoded data removed]",
      "text/plain": [
       "<Figure size 432x288 with 2 Axes>"
      ]
     },
     "metadata": {},
     "output_type": "display_data"
    }
   ],
   "source": [
    "f, axes= plt.subplots(1,2)\n",
    "sns.distplot(test_labels, ax=axes[0])\n",
    "sns.distplot(testing_predictions_lr, ax=axes[0])\n",
    "sns.distplot(testing_predictions_ridge, ax=axes[0])\n",
    "sns.scatterplot(test_labels.index, test_labels, ax=axes[1])\n",
    "sns.scatterplot(test_labels.index,testing_predictions_lr, ax=axes[1])\n",
    "sns.scatterplot(test_labels.index,testing_predictions_ridge, ax=axes[1])"
   ]
  },
  {
   "cell_type": "markdown",
   "metadata": {},
   "source": [
    "**what a surprise, both linear regression and ridge regrssion cannot accurately predict.**\\\n",
    "**We may make another try on logMV!**"
   ]
  },
  {
   "cell_type": "code",
   "execution_count": 153,
   "metadata": {
    "ExecuteTime": {
     "end_time": "2020-09-28T02:51:53.799217Z",
     "start_time": "2020-09-28T02:51:53.772293Z"
    }
   },
   "outputs": [
    {
     "data": {
      "text/html": [
       "<div>\n",
       "<style scoped>\n",
       "    .dataframe tbody tr th:only-of-type {\n",
       "        vertical-align: middle;\n",
       "    }\n",
       "\n",
       "    .dataframe tbody tr th {\n",
       "        vertical-align: top;\n",
       "    }\n",
       "\n",
       "    .dataframe thead th {\n",
       "        text-align: right;\n",
       "    }\n",
       "</style>\n",
       "<table border=\"1\" class=\"dataframe\">\n",
       "  <thead>\n",
       "    <tr style=\"text-align: right;\">\n",
       "      <th></th>\n",
       "      <th>rooms</th>\n",
       "      <th>logLstat</th>\n",
       "      <th>tax</th>\n",
       "      <th>indus</th>\n",
       "      <th>crim</th>\n",
       "    </tr>\n",
       "  </thead>\n",
       "  <tbody>\n",
       "    <tr>\n",
       "      <th>477</th>\n",
       "      <td>5.304</td>\n",
       "      <td>1.396374</td>\n",
       "      <td>666</td>\n",
       "      <td>18.10</td>\n",
       "      <td>15.02340</td>\n",
       "    </tr>\n",
       "    <tr>\n",
       "      <th>15</th>\n",
       "      <td>5.834</td>\n",
       "      <td>0.927883</td>\n",
       "      <td>307</td>\n",
       "      <td>8.14</td>\n",
       "      <td>0.62739</td>\n",
       "    </tr>\n",
       "    <tr>\n",
       "      <th>332</th>\n",
       "      <td>6.031</td>\n",
       "      <td>0.893762</td>\n",
       "      <td>304</td>\n",
       "      <td>6.06</td>\n",
       "      <td>0.03466</td>\n",
       "    </tr>\n",
       "    <tr>\n",
       "      <th>423</th>\n",
       "      <td>6.103</td>\n",
       "      <td>1.367169</td>\n",
       "      <td>666</td>\n",
       "      <td>18.10</td>\n",
       "      <td>7.05042</td>\n",
       "    </tr>\n",
       "    <tr>\n",
       "      <th>19</th>\n",
       "      <td>5.727</td>\n",
       "      <td>1.052309</td>\n",
       "      <td>307</td>\n",
       "      <td>8.14</td>\n",
       "      <td>0.72580</td>\n",
       "    </tr>\n",
       "    <tr>\n",
       "      <th>...</th>\n",
       "      <td>...</td>\n",
       "      <td>...</td>\n",
       "      <td>...</td>\n",
       "      <td>...</td>\n",
       "      <td>...</td>\n",
       "    </tr>\n",
       "    <tr>\n",
       "      <th>106</th>\n",
       "      <td>5.836</td>\n",
       "      <td>1.270912</td>\n",
       "      <td>384</td>\n",
       "      <td>8.56</td>\n",
       "      <td>0.17120</td>\n",
       "    </tr>\n",
       "    <tr>\n",
       "      <th>270</th>\n",
       "      <td>5.856</td>\n",
       "      <td>1.113943</td>\n",
       "      <td>223</td>\n",
       "      <td>6.96</td>\n",
       "      <td>0.29916</td>\n",
       "    </tr>\n",
       "    <tr>\n",
       "      <th>348</th>\n",
       "      <td>6.635</td>\n",
       "      <td>0.777427</td>\n",
       "      <td>280</td>\n",
       "      <td>2.01</td>\n",
       "      <td>0.01501</td>\n",
       "    </tr>\n",
       "    <tr>\n",
       "      <th>435</th>\n",
       "      <td>6.629</td>\n",
       "      <td>1.366796</td>\n",
       "      <td>666</td>\n",
       "      <td>18.10</td>\n",
       "      <td>11.16040</td>\n",
       "    </tr>\n",
       "    <tr>\n",
       "      <th>102</th>\n",
       "      <td>6.405</td>\n",
       "      <td>1.026533</td>\n",
       "      <td>384</td>\n",
       "      <td>8.56</td>\n",
       "      <td>0.22876</td>\n",
       "    </tr>\n",
       "  </tbody>\n",
       "</table>\n",
       "<p>404 rows × 5 columns</p>\n",
       "</div>"
      ],
      "text/plain": [
       "     rooms  logLstat  tax  indus      crim\n",
       "477  5.304  1.396374  666  18.10  15.02340\n",
       "15   5.834  0.927883  307   8.14   0.62739\n",
       "332  6.031  0.893762  304   6.06   0.03466\n",
       "423  6.103  1.367169  666  18.10   7.05042\n",
       "19   5.727  1.052309  307   8.14   0.72580\n",
       "..     ...       ...  ...    ...       ...\n",
       "106  5.836  1.270912  384   8.56   0.17120\n",
       "270  5.856  1.113943  223   6.96   0.29916\n",
       "348  6.635  0.777427  280   2.01   0.01501\n",
       "435  6.629  1.366796  666  18.10  11.16040\n",
       "102  6.405  1.026533  384   8.56   0.22876\n",
       "\n",
       "[404 rows x 5 columns]"
      ]
     },
     "execution_count": 153,
     "metadata": {},
     "output_type": "execute_result"
    }
   ],
   "source": [
    "# create our train predictors\n",
    "train_predictors_log = ['rooms','logLstat','tax','indus','crim']\n",
    "train_df_log = train_attributes(train_set, train_predictors_log)\n",
    "train_df_log"
   ]
  },
  {
   "cell_type": "code",
   "execution_count": 154,
   "metadata": {
    "ExecuteTime": {
     "end_time": "2020-09-28T02:51:59.886970Z",
     "start_time": "2020-09-28T02:51:59.876515Z"
    }
   },
   "outputs": [
    {
     "data": {
      "text/plain": [
       "477    1.079181\n",
       "15     1.298853\n",
       "332    1.287802\n",
       "423    1.127105\n",
       "19     1.260071\n",
       "         ...   \n",
       "106    1.290035\n",
       "270    1.324282\n",
       "348    1.389166\n",
       "435    1.127105\n",
       "102    1.269513\n",
       "Name: logMv, Length: 404, dtype: float64"
      ]
     },
     "execution_count": 154,
     "metadata": {},
     "output_type": "execute_result"
    }
   ],
   "source": [
    "train_labels_log = labels(train_set, 'logMv')\n",
    "train_labels_log"
   ]
  },
  {
   "cell_type": "code",
   "execution_count": 155,
   "metadata": {
    "ExecuteTime": {
     "end_time": "2020-09-28T02:52:00.798097Z",
     "start_time": "2020-09-28T02:52:00.772205Z"
    }
   },
   "outputs": [
    {
     "data": {
      "text/plain": [
       "array([[-1.42806858,  1.43207192,  1.57843444,  1.03323679,  1.28770177],\n",
       "       [-0.68008655, -0.36078346, -0.58464788, -0.41315956, -0.33638447],\n",
       "       [-0.40206304, -0.49136285, -0.60272378, -0.71521823, -0.40325332],\n",
       "       ...,\n",
       "       [ 0.45035421, -0.9365625 , -0.74733095, -1.30336132, -0.40547014],\n",
       "       [ 0.44188648,  1.31888303,  1.57843444,  1.03323679,  0.85189733],\n",
       "       [ 0.12575823,  0.01673752, -0.12069986, -0.35216694, -0.38135592]])"
      ]
     },
     "execution_count": 155,
     "metadata": {},
     "output_type": "execute_result"
    }
   ],
   "source": [
    "scaler = StandardScaler()\n",
    "scaler.fit(train_df_log)\n",
    "train_log = scaler.fit_transform(train_df_log)\n",
    "train_log"
   ]
  },
  {
   "cell_type": "code",
   "execution_count": 156,
   "metadata": {
    "ExecuteTime": {
     "end_time": "2020-09-28T02:52:01.431146Z",
     "start_time": "2020-09-28T02:52:01.424165Z"
    }
   },
   "outputs": [],
   "source": [
    "scaled_train_log = pd.DataFrame(train_log, index=train_df_log.index,columns=train_df_log.columns)"
   ]
  },
  {
   "cell_type": "code",
   "execution_count": 157,
   "metadata": {
    "ExecuteTime": {
     "end_time": "2020-09-28T02:52:02.048967Z",
     "start_time": "2020-09-28T02:52:02.028468Z"
    }
   },
   "outputs": [
    {
     "data": {
      "text/plain": [
       "(1.3227829913016171,\n",
       " array([ 0.0351633 , -0.10487198, -0.02470479,  0.01253913, -0.03630077]))"
      ]
     },
     "execution_count": 157,
     "metadata": {},
     "output_type": "execute_result"
    }
   ],
   "source": [
    "from sklearn.linear_model import LinearRegression\n",
    "lin_reg_log = LinearRegression()\n",
    "lin_reg_log.fit(scaled_train_log,train_labels_log)\n",
    "lin_reg_log.intercept_,lin_reg_log.coef_"
   ]
  },
  {
   "cell_type": "code",
   "execution_count": 158,
   "metadata": {
    "ExecuteTime": {
     "end_time": "2020-09-28T02:52:02.600256Z",
     "start_time": "2020-09-28T02:52:02.590518Z"
    }
   },
   "outputs": [
    {
     "data": {
      "text/plain": [
       "0.08748642999900633"
      ]
     },
     "execution_count": 158,
     "metadata": {},
     "output_type": "execute_result"
    }
   ],
   "source": [
    "training_predictions_log = lin_reg_log.predict(scaled_train_log)\n",
    "lin_mse_log = mean_squared_error(train_labels_log, training_predictions_log)\n",
    "lin_rmse_log = np.sqrt(lin_mse_log)\n",
    "lin_rmse_log"
   ]
  },
  {
   "cell_type": "code",
   "execution_count": 159,
   "metadata": {
    "ExecuteTime": {
     "end_time": "2020-09-28T02:52:03.182817Z",
     "start_time": "2020-09-28T02:52:03.111041Z"
    }
   },
   "outputs": [],
   "source": [
    "regr_log = linear_model.LinearRegression()\n",
    "scores_log = cross_val_score(regr_log, scaled_train_log, train_labels_log,\n",
    "                        scoring = 'neg_mean_squared_error', cv=10)\n",
    "lr_rmse_scores_log = np.sqrt(-scores_log)"
   ]
  },
  {
   "cell_type": "code",
   "execution_count": 160,
   "metadata": {
    "ExecuteTime": {
     "end_time": "2020-09-28T02:52:03.644079Z",
     "start_time": "2020-09-28T02:52:03.635106Z"
    }
   },
   "outputs": [
    {
     "data": {
      "text/plain": [
       "0.08995576438772804"
      ]
     },
     "execution_count": 160,
     "metadata": {},
     "output_type": "execute_result"
    }
   ],
   "source": [
    "lr_rmse_scores_log.mean()"
   ]
  },
  {
   "cell_type": "code",
   "execution_count": 161,
   "metadata": {
    "ExecuteTime": {
     "end_time": "2020-09-28T02:52:04.596588Z",
     "start_time": "2020-09-28T02:52:04.132117Z"
    }
   },
   "outputs": [
    {
     "data": {
      "text/plain": [
       "GridSearchCV(cv=10, estimator=Ridge(),\n",
       "             param_grid={'alpha': [1e-15, 1e-10, 1e-08, 0.0001, 0.001, 0.01, 1,\n",
       "                                   5, 10, 20]},\n",
       "             scoring='neg_mean_squared_error')"
      ]
     },
     "execution_count": 161,
     "metadata": {},
     "output_type": "execute_result"
    }
   ],
   "source": [
    "from sklearn.model_selection import GridSearchCV\n",
    "from sklearn.linear_model import Ridge\n",
    "ridge_log= Ridge()\n",
    "parameters = {'alpha':[1e-15, 1e-10, 1e-8, 1e-4, 1e-3,1e-2, 1, 5, 10, 20]}\n",
    "ridge_regression_log = GridSearchCV(ridge_log, parameters, scoring='neg_mean_squared_error', cv=10)\n",
    "ridge_regression_log.fit(scaled_train_log,train_labels_log)"
   ]
  },
  {
   "cell_type": "code",
   "execution_count": 162,
   "metadata": {
    "ExecuteTime": {
     "end_time": "2020-09-28T02:52:04.607195Z",
     "start_time": "2020-09-28T02:52:04.600578Z"
    }
   },
   "outputs": [
    {
     "data": {
      "text/plain": [
       "{'alpha': 10}"
      ]
     },
     "execution_count": 162,
     "metadata": {},
     "output_type": "execute_result"
    }
   ],
   "source": [
    "ridge_regression.best_params_"
   ]
  },
  {
   "cell_type": "code",
   "execution_count": 163,
   "metadata": {
    "ExecuteTime": {
     "end_time": "2020-09-28T02:52:05.169433Z",
     "start_time": "2020-09-28T02:52:05.154473Z"
    }
   },
   "outputs": [
    {
     "data": {
      "text/plain": [
       "Ridge(alpha=10, solver='cholesky')"
      ]
     },
     "execution_count": 163,
     "metadata": {},
     "output_type": "execute_result"
    }
   ],
   "source": [
    "ridge_reg_log = Ridge(alpha =10, solver = 'cholesky')\n",
    "ridge_reg_log.fit(scaled_train_log,train_labels_log)"
   ]
  },
  {
   "cell_type": "code",
   "execution_count": 164,
   "metadata": {
    "ExecuteTime": {
     "end_time": "2020-09-28T02:52:05.687535Z",
     "start_time": "2020-09-28T02:52:05.677558Z"
    }
   },
   "outputs": [
    {
     "data": {
      "text/plain": [
       "(1.3227829913016171,\n",
       " array([ 0.03643845, -0.10015549, -0.02422441,  0.00958464, -0.03600591]))"
      ]
     },
     "execution_count": 164,
     "metadata": {},
     "output_type": "execute_result"
    }
   ],
   "source": [
    "ridge_reg_log.intercept_,ridge_reg_log.coef_"
   ]
  },
  {
   "cell_type": "code",
   "execution_count": 165,
   "metadata": {
    "ExecuteTime": {
     "end_time": "2020-09-28T02:52:06.200826Z",
     "start_time": "2020-09-28T02:52:06.186833Z"
    }
   },
   "outputs": [
    {
     "data": {
      "text/plain": [
       "0.08748642999900633"
      ]
     },
     "execution_count": 165,
     "metadata": {},
     "output_type": "execute_result"
    }
   ],
   "source": [
    "training_predictions_Ridlog = ridge_reg_log.predict(scaled_train_log)\n",
    "rid_mse_log = mean_squared_error(train_labels_log, training_predictions_log)\n",
    "rid_rmse_log = np.sqrt(rid_mse_log)\n",
    "rid_rmse_log"
   ]
  },
  {
   "cell_type": "code",
   "execution_count": 166,
   "metadata": {
    "ExecuteTime": {
     "end_time": "2020-09-28T02:52:06.751843Z",
     "start_time": "2020-09-28T02:52:06.681033Z"
    }
   },
   "outputs": [],
   "source": [
    "rid_log= Ridge()\n",
    "rid_scores_log = cross_val_score(rid_log, scaled_train_log, train_labels_log,\n",
    "                        scoring = 'neg_mean_squared_error', cv=10)\n",
    "rid_rmse_scores_log = np.sqrt(-rid_scores_log)"
   ]
  },
  {
   "cell_type": "code",
   "execution_count": 167,
   "metadata": {
    "ExecuteTime": {
     "end_time": "2020-09-28T02:52:07.187689Z",
     "start_time": "2020-09-28T02:52:07.177752Z"
    }
   },
   "outputs": [
    {
     "data": {
      "text/plain": [
       "0.08994318280494977"
      ]
     },
     "execution_count": 167,
     "metadata": {},
     "output_type": "execute_result"
    }
   ],
   "source": [
    "rid_rmse_scores_log.mean()"
   ]
  },
  {
   "cell_type": "markdown",
   "metadata": {},
   "source": [
    "**Let's use test set for validation**"
   ]
  },
  {
   "cell_type": "code",
   "execution_count": 168,
   "metadata": {
    "ExecuteTime": {
     "end_time": "2020-09-28T02:52:08.255147Z",
     "start_time": "2020-09-28T02:52:08.245172Z"
    }
   },
   "outputs": [
    {
     "data": {
      "text/plain": [
       "173    1.372912\n",
       "274    1.510545\n",
       "491    1.133539\n",
       "72     1.357935\n",
       "452    1.206826\n",
       "         ...   \n",
       "412    1.252853\n",
       "436    0.982271\n",
       "411    1.235528\n",
       "86     1.352183\n",
       "75     1.330414\n",
       "Name: logMv, Length: 102, dtype: float64"
      ]
     },
     "execution_count": 168,
     "metadata": {},
     "output_type": "execute_result"
    }
   ],
   "source": [
    "test_labels_log = labels(test_set,'logMv')\n",
    "test_labels_log"
   ]
  },
  {
   "cell_type": "code",
   "execution_count": 169,
   "metadata": {
    "ExecuteTime": {
     "end_time": "2020-09-28T02:52:08.784808Z",
     "start_time": "2020-09-28T02:52:08.766748Z"
    }
   },
   "outputs": [
    {
     "data": {
      "text/html": [
       "<div>\n",
       "<style scoped>\n",
       "    .dataframe tbody tr th:only-of-type {\n",
       "        vertical-align: middle;\n",
       "    }\n",
       "\n",
       "    .dataframe tbody tr th {\n",
       "        vertical-align: top;\n",
       "    }\n",
       "\n",
       "    .dataframe thead th {\n",
       "        text-align: right;\n",
       "    }\n",
       "</style>\n",
       "<table border=\"1\" class=\"dataframe\">\n",
       "  <thead>\n",
       "    <tr style=\"text-align: right;\">\n",
       "      <th></th>\n",
       "      <th>rooms</th>\n",
       "      <th>logLstat</th>\n",
       "      <th>tax</th>\n",
       "      <th>indus</th>\n",
       "      <th>crim</th>\n",
       "    </tr>\n",
       "  </thead>\n",
       "  <tbody>\n",
       "    <tr>\n",
       "      <th>173</th>\n",
       "      <td>6.416</td>\n",
       "      <td>0.956168</td>\n",
       "      <td>296</td>\n",
       "      <td>4.05</td>\n",
       "      <td>0.09178</td>\n",
       "    </tr>\n",
       "    <tr>\n",
       "      <th>274</th>\n",
       "      <td>6.758</td>\n",
       "      <td>0.547775</td>\n",
       "      <td>254</td>\n",
       "      <td>6.41</td>\n",
       "      <td>0.05644</td>\n",
       "    </tr>\n",
       "    <tr>\n",
       "      <th>491</th>\n",
       "      <td>5.983</td>\n",
       "      <td>1.256958</td>\n",
       "      <td>711</td>\n",
       "      <td>27.74</td>\n",
       "      <td>0.10574</td>\n",
       "    </tr>\n",
       "    <tr>\n",
       "      <th>72</th>\n",
       "      <td>6.065</td>\n",
       "      <td>0.741939</td>\n",
       "      <td>305</td>\n",
       "      <td>10.81</td>\n",
       "      <td>0.09164</td>\n",
       "    </tr>\n",
       "    <tr>\n",
       "      <th>452</th>\n",
       "      <td>6.297</td>\n",
       "      <td>1.237292</td>\n",
       "      <td>666</td>\n",
       "      <td>18.10</td>\n",
       "      <td>5.09017</td>\n",
       "    </tr>\n",
       "    <tr>\n",
       "      <th>...</th>\n",
       "      <td>...</td>\n",
       "      <td>...</td>\n",
       "      <td>...</td>\n",
       "      <td>...</td>\n",
       "      <td>...</td>\n",
       "    </tr>\n",
       "    <tr>\n",
       "      <th>412</th>\n",
       "      <td>4.628</td>\n",
       "      <td>1.536180</td>\n",
       "      <td>666</td>\n",
       "      <td>18.10</td>\n",
       "      <td>18.81100</td>\n",
       "    </tr>\n",
       "    <tr>\n",
       "      <th>436</th>\n",
       "      <td>6.461</td>\n",
       "      <td>1.256477</td>\n",
       "      <td>666</td>\n",
       "      <td>18.10</td>\n",
       "      <td>14.42080</td>\n",
       "    </tr>\n",
       "    <tr>\n",
       "      <th>411</th>\n",
       "      <td>6.657</td>\n",
       "      <td>1.326745</td>\n",
       "      <td>666</td>\n",
       "      <td>18.10</td>\n",
       "      <td>14.05070</td>\n",
       "    </tr>\n",
       "    <tr>\n",
       "      <th>86</th>\n",
       "      <td>6.015</td>\n",
       "      <td>1.109241</td>\n",
       "      <td>247</td>\n",
       "      <td>4.49</td>\n",
       "      <td>0.05188</td>\n",
       "    </tr>\n",
       "    <tr>\n",
       "      <th>75</th>\n",
       "      <td>6.286</td>\n",
       "      <td>0.951338</td>\n",
       "      <td>398</td>\n",
       "      <td>12.83</td>\n",
       "      <td>0.09512</td>\n",
       "    </tr>\n",
       "  </tbody>\n",
       "</table>\n",
       "<p>102 rows × 5 columns</p>\n",
       "</div>"
      ],
      "text/plain": [
       "     rooms  logLstat  tax  indus      crim\n",
       "173  6.416  0.956168  296   4.05   0.09178\n",
       "274  6.758  0.547775  254   6.41   0.05644\n",
       "491  5.983  1.256958  711  27.74   0.10574\n",
       "72   6.065  0.741939  305  10.81   0.09164\n",
       "452  6.297  1.237292  666  18.10   5.09017\n",
       "..     ...       ...  ...    ...       ...\n",
       "412  4.628  1.536180  666  18.10  18.81100\n",
       "436  6.461  1.256477  666  18.10  14.42080\n",
       "411  6.657  1.326745  666  18.10  14.05070\n",
       "86   6.015  1.109241  247   4.49   0.05188\n",
       "75   6.286  0.951338  398  12.83   0.09512\n",
       "\n",
       "[102 rows x 5 columns]"
      ]
     },
     "execution_count": 169,
     "metadata": {},
     "output_type": "execute_result"
    }
   ],
   "source": [
    "test_df_log = train_attributes(test_set, train_predictors_log)\n",
    "test_df_log"
   ]
  },
  {
   "cell_type": "code",
   "execution_count": 170,
   "metadata": {
    "ExecuteTime": {
     "end_time": "2020-09-28T02:52:09.309908Z",
     "start_time": "2020-09-28T02:52:09.272010Z"
    }
   },
   "outputs": [
    {
     "data": {
      "text/html": [
       "<div>\n",
       "<style scoped>\n",
       "    .dataframe tbody tr th:only-of-type {\n",
       "        vertical-align: middle;\n",
       "    }\n",
       "\n",
       "    .dataframe tbody tr th {\n",
       "        vertical-align: top;\n",
       "    }\n",
       "\n",
       "    .dataframe thead th {\n",
       "        text-align: right;\n",
       "    }\n",
       "</style>\n",
       "<table border=\"1\" class=\"dataframe\">\n",
       "  <thead>\n",
       "    <tr style=\"text-align: right;\">\n",
       "      <th></th>\n",
       "      <th>rooms</th>\n",
       "      <th>logLstat</th>\n",
       "      <th>tax</th>\n",
       "      <th>indus</th>\n",
       "      <th>crim</th>\n",
       "    </tr>\n",
       "  </thead>\n",
       "  <tbody>\n",
       "    <tr>\n",
       "      <th>173</th>\n",
       "      <td>0.386286</td>\n",
       "      <td>-0.403634</td>\n",
       "      <td>-0.729893</td>\n",
       "      <td>-1.149219</td>\n",
       "      <td>-0.476787</td>\n",
       "    </tr>\n",
       "    <tr>\n",
       "      <th>274</th>\n",
       "      <td>0.904026</td>\n",
       "      <td>-1.998110</td>\n",
       "      <td>-0.967732</td>\n",
       "      <td>-0.796429</td>\n",
       "      <td>-0.481548</td>\n",
       "    </tr>\n",
       "    <tr>\n",
       "      <th>491</th>\n",
       "      <td>-0.269215</td>\n",
       "      <td>0.770727</td>\n",
       "      <td>1.620178</td>\n",
       "      <td>2.392130</td>\n",
       "      <td>-0.474906</td>\n",
       "    </tr>\n",
       "    <tr>\n",
       "      <th>72</th>\n",
       "      <td>-0.145078</td>\n",
       "      <td>-1.240042</td>\n",
       "      <td>-0.678928</td>\n",
       "      <td>-0.138686</td>\n",
       "      <td>-0.476806</td>\n",
       "    </tr>\n",
       "    <tr>\n",
       "      <th>452</th>\n",
       "      <td>0.206137</td>\n",
       "      <td>0.693947</td>\n",
       "      <td>1.365351</td>\n",
       "      <td>0.951075</td>\n",
       "      <td>0.196583</td>\n",
       "    </tr>\n",
       "    <tr>\n",
       "      <th>...</th>\n",
       "      <td>...</td>\n",
       "      <td>...</td>\n",
       "      <td>...</td>\n",
       "      <td>...</td>\n",
       "      <td>...</td>\n",
       "    </tr>\n",
       "    <tr>\n",
       "      <th>412</th>\n",
       "      <td>-2.320494</td>\n",
       "      <td>1.860880</td>\n",
       "      <td>1.365351</td>\n",
       "      <td>0.951075</td>\n",
       "      <td>2.045016</td>\n",
       "    </tr>\n",
       "    <tr>\n",
       "      <th>436</th>\n",
       "      <td>0.454410</td>\n",
       "      <td>0.768849</td>\n",
       "      <td>1.365351</td>\n",
       "      <td>0.951075</td>\n",
       "      <td>1.453580</td>\n",
       "    </tr>\n",
       "    <tr>\n",
       "      <th>411</th>\n",
       "      <td>0.751127</td>\n",
       "      <td>1.043195</td>\n",
       "      <td>1.365351</td>\n",
       "      <td>0.951075</td>\n",
       "      <td>1.403721</td>\n",
       "    </tr>\n",
       "    <tr>\n",
       "      <th>86</th>\n",
       "      <td>-0.220771</td>\n",
       "      <td>0.194001</td>\n",
       "      <td>-1.007372</td>\n",
       "      <td>-1.083444</td>\n",
       "      <td>-0.482162</td>\n",
       "    </tr>\n",
       "    <tr>\n",
       "      <th>75</th>\n",
       "      <td>0.189485</td>\n",
       "      <td>-0.422496</td>\n",
       "      <td>-0.152285</td>\n",
       "      <td>0.163278</td>\n",
       "      <td>-0.476337</td>\n",
       "    </tr>\n",
       "  </tbody>\n",
       "</table>\n",
       "<p>102 rows × 5 columns</p>\n",
       "</div>"
      ],
      "text/plain": [
       "        rooms  logLstat       tax     indus      crim\n",
       "173  0.386286 -0.403634 -0.729893 -1.149219 -0.476787\n",
       "274  0.904026 -1.998110 -0.967732 -0.796429 -0.481548\n",
       "491 -0.269215  0.770727  1.620178  2.392130 -0.474906\n",
       "72  -0.145078 -1.240042 -0.678928 -0.138686 -0.476806\n",
       "452  0.206137  0.693947  1.365351  0.951075  0.196583\n",
       "..        ...       ...       ...       ...       ...\n",
       "412 -2.320494  1.860880  1.365351  0.951075  2.045016\n",
       "436  0.454410  0.768849  1.365351  0.951075  1.453580\n",
       "411  0.751127  1.043195  1.365351  0.951075  1.403721\n",
       "86  -0.220771  0.194001 -1.007372 -1.083444 -0.482162\n",
       "75   0.189485 -0.422496 -0.152285  0.163278 -0.476337\n",
       "\n",
       "[102 rows x 5 columns]"
      ]
     },
     "execution_count": 170,
     "metadata": {},
     "output_type": "execute_result"
    }
   ],
   "source": [
    "test_log = scaler.fit(test_df_log)\n",
    "test_log = scaler.fit_transform(test_df_log)\n",
    "scaled_test_log = pd.DataFrame(test_log, index= test_df_log.index, columns= test_df_log.columns)\n",
    "scaled_test_log"
   ]
  },
  {
   "cell_type": "code",
   "execution_count": 171,
   "metadata": {
    "ExecuteTime": {
     "end_time": "2020-09-28T02:52:09.784606Z",
     "start_time": "2020-09-28T02:52:09.772059Z"
    }
   },
   "outputs": [
    {
     "data": {
      "text/plain": [
       "0.0938047690568652"
      ]
     },
     "execution_count": 171,
     "metadata": {},
     "output_type": "execute_result"
    }
   ],
   "source": [
    "testing_predictions_lr_log = lin_reg_log.predict(scaled_test_log)\n",
    "test_lr_mse_log = mean_squared_error(test_labels_log, testing_predictions_lr_log)\n",
    "test_lr_rmse_log = np.sqrt(test_lr_mse_log)\n",
    "test_lr_rmse_log"
   ]
  },
  {
   "cell_type": "code",
   "execution_count": 172,
   "metadata": {
    "ExecuteTime": {
     "end_time": "2020-09-28T02:52:10.282742Z",
     "start_time": "2020-09-28T02:52:10.269778Z"
    }
   },
   "outputs": [
    {
     "data": {
      "text/plain": [
       "0.09360712115073434"
      ]
     },
     "execution_count": 172,
     "metadata": {},
     "output_type": "execute_result"
    }
   ],
   "source": [
    "testing_predictions_ridge_log = ridge_reg_log.predict(scaled_test_log)\n",
    "test_ridge_mse_log=mean_squared_error(test_labels_log, testing_predictions_ridge_log)\n",
    "test_ridge_rmse_log = np.sqrt(test_ridge_mse_log)\n",
    "test_ridge_rmse_log"
   ]
  },
  {
   "cell_type": "code",
   "execution_count": 173,
   "metadata": {
    "ExecuteTime": {
     "end_time": "2020-09-28T02:52:10.782056Z",
     "start_time": "2020-09-28T02:52:10.775078Z"
    }
   },
   "outputs": [
    {
     "data": {
      "text/plain": [
       "0.07223982280902136"
      ]
     },
     "execution_count": 173,
     "metadata": {},
     "output_type": "execute_result"
    }
   ],
   "source": [
    "test_lr_rmse_log/test_labels_log.mean()"
   ]
  },
  {
   "cell_type": "code",
   "execution_count": 174,
   "metadata": {
    "ExecuteTime": {
     "end_time": "2020-09-28T02:52:11.312919Z",
     "start_time": "2020-09-28T02:52:11.302945Z"
    }
   },
   "outputs": [
    {
     "data": {
      "text/plain": [
       "0.07208761253377605"
      ]
     },
     "execution_count": 174,
     "metadata": {},
     "output_type": "execute_result"
    }
   ],
   "source": [
    "test_ridge_rmse_log/test_labels_log.mean()"
   ]
  },
  {
   "cell_type": "code",
   "execution_count": 177,
   "metadata": {
    "ExecuteTime": {
     "end_time": "2020-09-28T03:07:41.891033Z",
     "start_time": "2020-09-28T03:07:41.437762Z"
    }
   },
   "outputs": [
    {
     "data": {
      "text/plain": [
       "<AxesSubplot:ylabel='logMv'>"
      ]
     },
     "execution_count": 177,
     "metadata": {},
     "output_type": "execute_result"
    },
    {
     "data": {
      "image/png": "[encoded data removed]",
      "text/plain": [
       "<Figure size 432x288 with 2 Axes>"
      ]
     },
     "metadata": {},
     "output_type": "display_data"
    }
   ],
   "source": [
    "f, axes= plt.subplots(1,2)\n",
    "sns.distplot(test_labels_log, ax=axes[0])\n",
    "sns.distplot(testing_predictions_lr_log, ax=axes[0])\n",
    "sns.distplot(testing_predictions_ridge_log, ax=axes[0])\n",
    "sns.scatterplot(test_labels_log.index, test_labels_log, ax=axes[1])\n",
    "sns.scatterplot(test_labels_log.index,testing_predictions_lr_log, ax=axes[1])\n",
    "sns.scatterplot(test_labels_log.index,testing_predictions_ridge_log, ax=axes[1])"
   ]
  },
  {
   "cell_type": "code",
   "execution_count": null,
   "metadata": {},
   "outputs": [],
   "source": []
  }
 ],
 "metadata": {
  "kernelspec": {
   "display_name": "Python 3",
   "language": "python",
   "name": "python3"
  },
  "language_info": {
   "codemirror_mode": {
    "name": "ipython",
    "version": 3
   },
   "file_extension": ".py",
   "mimetype": "text/x-python",
   "name": "python",
   "nbconvert_exporter": "python",
   "pygments_lexer": "ipython3",
   "version": "3.7.3"
  },
  "toc": {
   "base_numbering": 1,
   "nav_menu": {},
   "number_sections": true,
   "sideBar": true,
   "skip_h1_title": false,
   "title_cell": "Table of Contents",
   "title_sidebar": "Contents",
   "toc_cell": false,
   "toc_position": {},
   "toc_section_display": true,
   "toc_window_display": false
  }
 },
 "nbformat": 4,
 "nbformat_minor": 4
}
