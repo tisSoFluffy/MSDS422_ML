{
 "metadata": {
  "language_info": {
   "codemirror_mode": {
    "name": "ipython",
    "version": 3
   },
   "file_extension": ".py",
   "mimetype": "text/x-python",
   "name": "python",
   "nbconvert_exporter": "python",
   "pygments_lexer": "ipython3",
   "version": "3.8.3-final"
  },
  "orig_nbformat": 2,
  "kernelspec": {
   "name": "python3",
   "display_name": "Python 3"
  }
 },
 "nbformat": 4,
 "nbformat_minor": 2,
 "cells": [
  {
   "cell_type": "code",
   "execution_count": 1,
   "metadata": {},
   "outputs": [],
   "source": [
    "import pandas as pd\n",
    "import numpy as np\n",
    "import tensorflow as tf\n",
    "from tensorflow import keras\n",
    "import matplotlib.image as mpimg\n",
    "from collections import Counter"
   ]
  },
  {
   "source": [
    "train_data = pd.read_csv('train.csv')\n",
    "test_data = pd.read_csv('test.csv')"
   ],
   "cell_type": "code",
   "metadata": {},
   "execution_count": 2,
   "outputs": []
  },
  {
   "cell_type": "code",
   "execution_count": 3,
   "metadata": {},
   "outputs": [
    {
     "output_type": "execute_result",
     "data": {
      "text/plain": [
       "   id keyword location                                               text  \\\n",
       "0   1     NaN      NaN  Our Deeds are the Reason of this #earthquake M...   \n",
       "1   4     NaN      NaN             Forest fire near La Ronge Sask. Canada   \n",
       "2   5     NaN      NaN  All residents asked to 'shelter in place' are ...   \n",
       "3   6     NaN      NaN  13,000 people receive #wildfires evacuation or...   \n",
       "4   7     NaN      NaN  Just got sent this photo from Ruby #Alaska as ...   \n",
       "\n",
       "   target  \n",
       "0       1  \n",
       "1       1  \n",
       "2       1  \n",
       "3       1  \n",
       "4       1  "
      ],
      "text/html": "<div>\n<style scoped>\n    .dataframe tbody tr th:only-of-type {\n        vertical-align: middle;\n    }\n\n    .dataframe tbody tr th {\n        vertical-align: top;\n    }\n\n    .dataframe thead th {\n        text-align: right;\n    }\n</style>\n<table border=\"1\" class=\"dataframe\">\n  <thead>\n    <tr style=\"text-align: right;\">\n      <th></th>\n      <th>id</th>\n      <th>keyword</th>\n      <th>location</th>\n      <th>text</th>\n      <th>target</th>\n    </tr>\n  </thead>\n  <tbody>\n    <tr>\n      <th>0</th>\n      <td>1</td>\n      <td>NaN</td>\n      <td>NaN</td>\n      <td>Our Deeds are the Reason of this #earthquake M...</td>\n      <td>1</td>\n    </tr>\n    <tr>\n      <th>1</th>\n      <td>4</td>\n      <td>NaN</td>\n      <td>NaN</td>\n      <td>Forest fire near La Ronge Sask. Canada</td>\n      <td>1</td>\n    </tr>\n    <tr>\n      <th>2</th>\n      <td>5</td>\n      <td>NaN</td>\n      <td>NaN</td>\n      <td>All residents asked to 'shelter in place' are ...</td>\n      <td>1</td>\n    </tr>\n    <tr>\n      <th>3</th>\n      <td>6</td>\n      <td>NaN</td>\n      <td>NaN</td>\n      <td>13,000 people receive #wildfires evacuation or...</td>\n      <td>1</td>\n    </tr>\n    <tr>\n      <th>4</th>\n      <td>7</td>\n      <td>NaN</td>\n      <td>NaN</td>\n      <td>Just got sent this photo from Ruby #Alaska as ...</td>\n      <td>1</td>\n    </tr>\n  </tbody>\n</table>\n</div>"
     },
     "metadata": {},
     "execution_count": 3
    }
   ],
   "source": [
    "train_data.head()"
   ]
  },
  {
   "cell_type": "code",
   "execution_count": 4,
   "metadata": {},
   "outputs": [
    {
     "output_type": "stream",
     "name": "stdout",
     "text": [
      "<class 'pandas.core.frame.DataFrame'>\nRangeIndex: 7613 entries, 0 to 7612\nData columns (total 5 columns):\n #   Column    Non-Null Count  Dtype \n---  ------    --------------  ----- \n 0   id        7613 non-null   int64 \n 1   keyword   7552 non-null   object\n 2   location  5080 non-null   object\n 3   text      7613 non-null   object\n 4   target    7613 non-null   int64 \ndtypes: int64(2), object(3)\nmemory usage: 297.5+ KB\n"
     ]
    }
   ],
   "source": [
    "train_data.info()"
   ]
  },
  {
   "source": [
    "Predict whether a given tweet is about a real distaster or not."
   ],
   "cell_type": "markdown",
   "metadata": {}
  },
  {
   "cell_type": "code",
   "execution_count": 5,
   "metadata": {},
   "outputs": [],
   "source": [
    "tokenizer = keras.preprocessing.text.Tokenizer(char_level=True)"
   ]
  },
  {
   "cell_type": "code",
   "execution_count": 6,
   "metadata": {},
   "outputs": [],
   "source": [
    "vocabulary = Counter()\n",
    "for tweet in train_data['text']:\n",
    "    #tweet = tf.strings.regex_replace(tweet, b'[^a-zA-Z]', b' ')\n",
    "    tweet = tf.strings.split(tweet)\n",
    "    vocabulary.update(list(tweet.numpy()))"
   ]
  },
  {
   "cell_type": "code",
   "execution_count": 7,
   "metadata": {},
   "outputs": [
    {
     "output_type": "execute_result",
     "data": {
      "text/plain": [
       "31924"
      ]
     },
     "metadata": {},
     "execution_count": 7
    }
   ],
   "source": [
    "len(vocabulary.keys())"
   ]
  },
  {
   "source": [
    "It looks like we have 31924 words in our dictionary. Lets take the top 10,000 of them and used them in our model."
   ],
   "cell_type": "markdown",
   "metadata": {}
  },
  {
   "cell_type": "code",
   "execution_count": 8,
   "metadata": {},
   "outputs": [],
   "source": [
    "vocab_size = 10000\n",
    "truncated_vocabulary = [ word for word, count in vocabulary.most_common()[:vocab_size]]"
   ]
  },
  {
   "cell_type": "code",
   "execution_count": 9,
   "metadata": {},
   "outputs": [],
   "source": [
    "#preprocess to replace each word with its ID (index)\n",
    "words = tf.constant(truncated_vocabulary)\n",
    "word_ids = tf.range(len(truncated_vocabulary), dtype=tf.int64)\n",
    "vocab_init = tf.lookup.KeyValueTensorInitializer(words, word_ids)\n",
    "num_oov_buckets = 1000\n",
    "table = tf.lookup.StaticVocabularyTable(vocab_init,num_oov_buckets)"
   ]
  },
  {
   "cell_type": "code",
   "execution_count": 10,
   "metadata": {},
   "outputs": [
    {
     "output_type": "execute_result",
     "data": {
      "text/plain": [
       "<tf.Tensor: shape=(1, 4), dtype=int64, numpy=array([[   24,   337,    21, 10770]], dtype=int64)>"
      ]
     },
     "metadata": {},
     "execution_count": 10
    }
   ],
   "source": [
    "table.lookup(tf.constant([b'this movie was faaaaaaantastic'.split()]))"
   ]
  },
  {
   "cell_type": "code",
   "execution_count": 11,
   "metadata": {},
   "outputs": [],
   "source": [
    "def encode_words(X_batch, y_batch=0):\n",
    "    return table.lookup(X_batch), y_batch"
   ]
  },
  {
   "cell_type": "code",
   "execution_count": 12,
   "metadata": {},
   "outputs": [],
   "source": [
    "train_set = train_data[['text','target']]\n",
    "target = train_set.pop('target')\n",
    "target = target.values.reshape((7613, 1))\n",
    "dataset = tf.data.Dataset.from_tensor_slices((train_set.values, target))\n",
    "train_set_model1 = dataset.batch(32).map(encode_words).prefetch(1)"
   ]
  },
  {
   "source": [
    "Lets make sure that the dataset converted correctly. We are going to iterate over the dataset and print it's features and target"
   ],
   "cell_type": "markdown",
   "metadata": {}
  },
  {
   "cell_type": "code",
   "execution_count": 13,
   "metadata": {},
   "outputs": [
    {
     "output_type": "stream",
     "name": "stdout",
     "text": [
      "Features: [b'Our Deeds are the Reason of this #earthquake May ALLAH Forgive us all'], Target: [1]\nFeatures: [b'Forest fire near La Ronge Sask. Canada'], Target: [1]\nFeatures: [b\"All residents asked to 'shelter in place' are being notified by officers. No other evacuation or shelter in place orders are expected\"], Target: [1]\nFeatures: [b'13,000 people receive #wildfires evacuation orders in California '], Target: [1]\nFeatures: [b'Just got sent this photo from Ruby #Alaska as smoke from #wildfires pours into a school '], Target: [1]\n"
     ]
    }
   ],
   "source": [
    "for feat, targ in dataset.take(5):\n",
    "  print ('Features: {}, Target: {}'.format(feat, targ))"
   ]
  },
  {
   "cell_type": "code",
   "execution_count": 14,
   "metadata": {},
   "outputs": [
    {
     "output_type": "stream",
     "name": "stdout",
     "text": [
      "Epoch 1/25\n",
      "238/238 [==============================] - 3s 14ms/step - loss: 0.6891 - accuracy: 0.5697\n",
      "Epoch 2/25\n",
      "238/238 [==============================] - 3s 14ms/step - loss: 0.6632 - accuracy: 0.6062\n",
      "Epoch 3/25\n",
      "238/238 [==============================] - 3s 14ms/step - loss: 0.5970 - accuracy: 0.6698\n",
      "Epoch 4/25\n",
      "238/238 [==============================] - 3s 14ms/step - loss: 0.5697 - accuracy: 0.6850\n",
      "Epoch 5/25\n",
      "238/238 [==============================] - 3s 14ms/step - loss: 0.5564 - accuracy: 0.6957\n",
      "Epoch 6/25\n",
      "238/238 [==============================] - 3s 14ms/step - loss: 0.5533 - accuracy: 0.6963\n",
      "Epoch 7/25\n",
      "238/238 [==============================] - 3s 14ms/step - loss: 0.5501 - accuracy: 0.7012\n",
      "Epoch 8/25\n",
      "238/238 [==============================] - 3s 14ms/step - loss: 0.5493 - accuracy: 0.7031\n",
      "Epoch 9/25\n",
      "238/238 [==============================] - 3s 14ms/step - loss: 0.5482 - accuracy: 0.7079\n",
      "Epoch 10/25\n",
      "238/238 [==============================] - 3s 14ms/step - loss: 0.5470 - accuracy: 0.7083\n",
      "Epoch 11/25\n",
      "238/238 [==============================] - 3s 14ms/step - loss: 0.5472 - accuracy: 0.7092\n",
      "Epoch 12/25\n",
      "238/238 [==============================] - 3s 15ms/step - loss: 0.5467 - accuracy: 0.7089\n",
      "Epoch 13/25\n",
      "238/238 [==============================] - 4s 15ms/step - loss: 0.5484 - accuracy: 0.7062\n",
      "Epoch 14/25\n",
      "238/238 [==============================] - 4s 15ms/step - loss: 0.5470 - accuracy: 0.7085\n",
      "Epoch 15/25\n",
      "238/238 [==============================] - 3s 14ms/step - loss: 0.5486 - accuracy: 0.7041\n",
      "Epoch 16/25\n",
      "238/238 [==============================] - 3s 14ms/step - loss: 0.5469 - accuracy: 0.7092\n",
      "Epoch 17/25\n",
      "238/238 [==============================] - 3s 14ms/step - loss: 0.5611 - accuracy: 0.6930\n",
      "Epoch 18/25\n",
      "238/238 [==============================] - 4s 15ms/step - loss: 0.5592 - accuracy: 0.6920\n",
      "Epoch 19/25\n",
      "238/238 [==============================] - 3s 14ms/step - loss: 0.5682 - accuracy: 0.6817\n",
      "Epoch 20/25\n",
      "238/238 [==============================] - 3s 14ms/step - loss: 0.5645 - accuracy: 0.6817\n",
      "Epoch 21/25\n",
      "238/238 [==============================] - 3s 14ms/step - loss: 0.5827 - accuracy: 0.6740\n",
      "Epoch 22/25\n",
      "238/238 [==============================] - 3s 14ms/step - loss: 0.5750 - accuracy: 0.6703\n",
      "Epoch 23/25\n",
      "238/238 [==============================] - 3s 14ms/step - loss: 0.5942 - accuracy: 0.6549\n",
      "Epoch 24/25\n",
      "238/238 [==============================] - 4s 15ms/step - loss: 0.6111 - accuracy: 0.6318\n",
      "Epoch 25/25\n",
      "238/238 [==============================] - 3s 14ms/step - loss: 0.6215 - accuracy: 0.6200\n"
     ]
    }
   ],
   "source": [
    "embed_size = 128\n",
    "model = keras.models.Sequential([\n",
    "    keras.layers.Embedding(vocab_size + num_oov_buckets, embed_size, input_shape=[None]),\n",
    "    keras.layers.GRU(128, return_sequences=True),\n",
    "    keras.layers.GRU(128),\n",
    "    keras.layers.Dense(1, activation='sigmoid')\n",
    "])\n",
    "model.compile(loss= 'binary_crossentropy', optimizer='Adam', metrics=['accuracy'])\n",
    "\n",
    "trained_model1 = model.fit(train_set_model1, epochs=25)"
   ]
  },
  {
   "cell_type": "code",
   "execution_count": 15,
   "metadata": {},
   "outputs": [],
   "source": [
    "import tensorflow_hub as hub\n",
    "\n",
    "model1 = keras.Sequential([\n",
    "    hub.KerasLayer('https://tfhub.dev/google/tf2-preview/nnlm-en-dim50/1', dtype=tf.string, input_shape=[], output_shape=[50]),\n",
    "    keras.layers.Dense(128, activation='relu'),\n",
    "    keras.layers.Dense(1, activation='sigmoid')\n",
    "])\n",
    "model1.compile(loss='binary_crossentropy', optimizer='adam', metrics=['accuracy'])"
   ]
  },
  {
   "cell_type": "code",
   "execution_count": 16,
   "metadata": {},
   "outputs": [
    {
     "output_type": "stream",
     "name": "stdout",
     "text": [
      "Model: \"sequential_1\"\n_________________________________________________________________\nLayer (type)                 Output Shape              Param #   \n=================================================================\nkeras_layer (KerasLayer)     (None, 50)                48190600  \n_________________________________________________________________\ndense_1 (Dense)              (None, 128)               6528      \n_________________________________________________________________\ndense_2 (Dense)              (None, 1)                 129       \n=================================================================\nTotal params: 48,197,257\nTrainable params: 6,657\nNon-trainable params: 48,190,600\n_________________________________________________________________\n"
     ]
    }
   ],
   "source": [
    "model1.summary()"
   ]
  },
  {
   "cell_type": "code",
   "execution_count": 17,
   "metadata": {},
   "outputs": [
    {
     "output_type": "stream",
     "name": "stdout",
     "text": [
      "Epoch 1/25\n",
      "238/238 [==============================] - 16s 69ms/step - loss: 0.5662 - accuracy: 0.7263\n",
      "Epoch 2/25\n",
      "238/238 [==============================] - 16s 69ms/step - loss: 0.5066 - accuracy: 0.7592\n",
      "Epoch 3/25\n",
      "238/238 [==============================] - 16s 67ms/step - loss: 0.4952 - accuracy: 0.7672\n",
      "Epoch 4/25\n",
      "238/238 [==============================] - 16s 66ms/step - loss: 0.4886 - accuracy: 0.7722\n",
      "Epoch 5/25\n",
      "238/238 [==============================] - 16s 66ms/step - loss: 0.4837 - accuracy: 0.7771\n",
      "Epoch 6/25\n",
      "238/238 [==============================] - 16s 67ms/step - loss: 0.4795 - accuracy: 0.7799\n",
      "Epoch 7/25\n",
      "238/238 [==============================] - 16s 66ms/step - loss: 0.4757 - accuracy: 0.7814\n",
      "Epoch 8/25\n",
      "238/238 [==============================] - 16s 67ms/step - loss: 0.4721 - accuracy: 0.7831\n",
      "Epoch 9/25\n",
      "238/238 [==============================] - 16s 67ms/step - loss: 0.4686 - accuracy: 0.7838\n",
      "Epoch 10/25\n",
      "238/238 [==============================] - 16s 67ms/step - loss: 0.4653 - accuracy: 0.7864\n",
      "Epoch 11/25\n",
      "238/238 [==============================] - 16s 67ms/step - loss: 0.4620 - accuracy: 0.7869\n",
      "Epoch 12/25\n",
      "238/238 [==============================] - 16s 67ms/step - loss: 0.4587 - accuracy: 0.7888\n",
      "Epoch 13/25\n",
      "238/238 [==============================] - 16s 67ms/step - loss: 0.4555 - accuracy: 0.7900\n",
      "Epoch 14/25\n",
      "238/238 [==============================] - 16s 66ms/step - loss: 0.4523 - accuracy: 0.7914\n",
      "Epoch 15/25\n",
      "238/238 [==============================] - 16s 68ms/step - loss: 0.4491 - accuracy: 0.7931\n",
      "Epoch 16/25\n",
      "238/238 [==============================] - 16s 66ms/step - loss: 0.4460 - accuracy: 0.7944\n",
      "Epoch 17/25\n",
      "238/238 [==============================] - 16s 66ms/step - loss: 0.4428 - accuracy: 0.7963\n",
      "Epoch 18/25\n",
      "238/238 [==============================] - 16s 68ms/step - loss: 0.4396 - accuracy: 0.7984\n",
      "Epoch 19/25\n",
      "238/238 [==============================] - 16s 68ms/step - loss: 0.4365 - accuracy: 0.8002\n",
      "Epoch 20/25\n",
      "238/238 [==============================] - 16s 68ms/step - loss: 0.4334 - accuracy: 0.8032\n",
      "Epoch 21/25\n",
      "238/238 [==============================] - 16s 67ms/step - loss: 0.4304 - accuracy: 0.8047\n",
      "Epoch 22/25\n",
      "238/238 [==============================] - 16s 68ms/step - loss: 0.4274 - accuracy: 0.8061\n",
      "Epoch 23/25\n",
      "238/238 [==============================] - 16s 67ms/step - loss: 0.4244 - accuracy: 0.8084\n",
      "Epoch 24/25\n",
      "238/238 [==============================] - 16s 68ms/step - loss: 0.4215 - accuracy: 0.8097\n",
      "Epoch 25/25\n",
      "238/238 [==============================] - 16s 67ms/step - loss: 0.4186 - accuracy: 0.8118\n"
     ]
    }
   ],
   "source": [
    "batch_size = 32\n",
    "train_set = dataset.batch(batch_size).prefetch(1)\n",
    "tweet_model = model1.fit(train_set, epochs=25)"
   ]
  },
  {
   "cell_type": "code",
   "execution_count": 18,
   "metadata": {},
   "outputs": [],
   "source": [
    "converted_test_data = []\n",
    "for val in test_data['text']:\n",
    "    converted_test_data.append(table.lookup(tf.constant(val.split())))"
   ]
  },
  {
   "cell_type": "code",
   "execution_count": 19,
   "metadata": {},
   "outputs": [],
   "source": [
    "t_data = tf.data.Dataset.from_tensor_slices(test_data['text'])"
   ]
  },
  {
   "cell_type": "code",
   "execution_count": 20,
   "metadata": {},
   "outputs": [],
   "source": [
    "model_predictions = model.predict(t_data.map(encode_words).batch(32).prefetch(1))"
   ]
  },
  {
   "cell_type": "code",
   "execution_count": 21,
   "metadata": {},
   "outputs": [],
   "source": [
    "preds = model1.predict(test_data['text'])"
   ]
  },
  {
   "cell_type": "code",
   "execution_count": 22,
   "metadata": {},
   "outputs": [],
   "source": [
    "#Because I didn't think about using np.round(), I created this function :)\n",
    "def val(arr):\n",
    "    v = 0\n",
    "    if arr >= .5:\n",
    "        v = 1\n",
    "    return v"
   ]
  },
  {
   "cell_type": "code",
   "execution_count": 23,
   "metadata": {},
   "outputs": [],
   "source": [
    "results = []\n",
    "for pred in preds:\n",
    "    results.append(val(pred))"
   ]
  },
  {
   "cell_type": "code",
   "execution_count": 24,
   "metadata": {},
   "outputs": [],
   "source": [
    "results = pd.DataFrame(results)\n",
    "results['id'] = test_data['id'].astype('int32')\n",
    "results.columns =['target','id']\n",
    "results['id'] = pd.to_numeric(results['id'], errors='coerce')"
   ]
  },
  {
   "cell_type": "code",
   "execution_count": 25,
   "metadata": {},
   "outputs": [],
   "source": [
    "results.to_csv(f'model_results.csv', index=False)"
   ]
  },
  {
   "cell_type": "code",
   "execution_count": 33,
   "metadata": {
    "tags": []
   },
   "outputs": [],
   "source": [
    "results_1 = []\n",
    "for pred in model_predictions:\n",
    "    for v in pred:\n",
    "        results_1.append(val(v))"
   ]
  },
  {
   "cell_type": "code",
   "execution_count": 28,
   "metadata": {},
   "outputs": [],
   "source": [
    "results_1 = pd.DataFrame(results_1)\n",
    "results_1['id'] = test_data['id'].astype('int32')\n",
    "results_1.columns = ['target','id']"
   ]
  },
  {
   "cell_type": "code",
   "execution_count": 29,
   "metadata": {},
   "outputs": [],
   "source": [
    "results_1.to_csv(f'model1_results.csv', index=False)"
   ]
  }
 ]
}