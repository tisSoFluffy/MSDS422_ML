{
 "cells": [
  {
   "cell_type": "markdown",
   "metadata": {
    "id": "Y1S9a74xxAL6"
   },
   "source": [
    "Build an autoencoder for the Kaggle MNIST training dataset.\n",
    "\n",
    "Import and preprocess data\n",
    "\n",
    "1.   Import and preprocess data\n",
    "2.   Set parameters and define autoencoder backpropagation function\n",
    "3.   Run a process to train autoencoder\n",
    "4.   Visualise what the autoencoder has learned\n",
    "\n",
    "Take the output of that autoencoder and use it to classify the MNIST test set observations.  Submit your results to Kaggle.com."
   ]
  },
  {
   "cell_type": "markdown",
   "metadata": {},
   "source": [
    "## Import Libraries"
   ]
  },
  {
   "cell_type": "code",
   "execution_count": 1,
   "metadata": {
    "executionInfo": {
     "elapsed": 928,
     "status": "ok",
     "timestamp": 1604980878961,
     "user": {
      "displayName": "Amit Kumar",
      "photoUrl": "https://lh3.googleusercontent.com/a-/AOh14GjFLbeQCo2PLnsgqeWxBxArkwZ7De5q1DW0VFUrtg=s64",
      "userId": "17506913788084945150"
     },
     "user_tz": -330
    },
    "id": "IbvJOF3u651H"
   },
   "outputs": [
    {
     "name": "stderr",
     "output_type": "stream",
     "text": [
      "Using TensorFlow backend.\n"
     ]
    }
   ],
   "source": [
    "import pandas as pd\n",
    "import numpy as np\n",
    "from tensorflow import keras\n",
    "from keras.layers import Input, Dense\n",
    "from keras.models import Model\n",
    "from keras.datasets import mnist\n",
    "import matplotlib.pyplot as plt"
   ]
  },
  {
   "cell_type": "markdown",
   "metadata": {
    "id": "wtaK4fl8x3zq"
   },
   "source": [
    "## Import & preprocess data"
   ]
  },
  {
   "cell_type": "code",
   "execution_count": 2,
   "metadata": {
    "id": "E7wxLyvm9B9F"
   },
   "outputs": [],
   "source": [
    "data = pd.read_csv('train.csv')\n",
    "test_data = pd.read_csv('test.csv')"
   ]
  },
  {
   "cell_type": "code",
   "execution_count": 3,
   "metadata": {},
   "outputs": [
    {
     "data": {
      "text/plain": [
       "(42000, 785)"
      ]
     },
     "execution_count": 3,
     "metadata": {},
     "output_type": "execute_result"
    }
   ],
   "source": [
    "data.shape"
   ]
  },
  {
   "cell_type": "code",
   "execution_count": 4,
   "metadata": {
    "id": "K5c9Sf1ZLAQM"
   },
   "outputs": [],
   "source": [
    "x_train=data.drop('label',axis=1)\n",
    "y_train=data['label']"
   ]
  },
  {
   "cell_type": "code",
   "execution_count": 5,
   "metadata": {
    "colab": {
     "base_uri": "https://localhost:8080/"
    },
    "executionInfo": {
     "elapsed": 931,
     "status": "ok",
     "timestamp": 1604944957005,
     "user": {
      "displayName": "Amit Kumar",
      "photoUrl": "https://lh3.googleusercontent.com/a-/AOh14GjFLbeQCo2PLnsgqeWxBxArkwZ7De5q1DW0VFUrtg=s64",
      "userId": "17506913788084945150"
     },
     "user_tz": -330
    },
    "id": "7uU4QPv6LHF6",
    "outputId": "15d4b04b-1685-4b6e-c6f3-d85c488808f4"
   },
   "outputs": [
    {
     "data": {
      "text/plain": [
       "(42000, 784)"
      ]
     },
     "execution_count": 5,
     "metadata": {},
     "output_type": "execute_result"
    }
   ],
   "source": [
    "x_train.shape"
   ]
  },
  {
   "cell_type": "code",
   "execution_count": 6,
   "metadata": {
    "colab": {
     "base_uri": "https://localhost:8080/"
    },
    "executionInfo": {
     "elapsed": 922,
     "status": "ok",
     "timestamp": 1604944984620,
     "user": {
      "displayName": "Amit Kumar",
      "photoUrl": "https://lh3.googleusercontent.com/a-/AOh14GjFLbeQCo2PLnsgqeWxBxArkwZ7De5q1DW0VFUrtg=s64",
      "userId": "17506913788084945150"
     },
     "user_tz": -330
    },
    "id": "9m9mHJFOLOQa",
    "outputId": "90c2f3fa-feae-4fd4-a7bc-a1ef3fb083d0"
   },
   "outputs": [
    {
     "data": {
      "text/plain": [
       "(42000,)"
      ]
     },
     "execution_count": 6,
     "metadata": {},
     "output_type": "execute_result"
    }
   ],
   "source": [
    "y_train.shape"
   ]
  },
  {
   "cell_type": "code",
   "execution_count": 7,
   "metadata": {},
   "outputs": [
    {
     "data": {
      "text/plain": [
       "(28000, 784)"
      ]
     },
     "execution_count": 7,
     "metadata": {},
     "output_type": "execute_result"
    }
   ],
   "source": [
    "test_data.shape"
   ]
  },
  {
   "cell_type": "code",
   "execution_count": 8,
   "metadata": {},
   "outputs": [],
   "source": [
    "from keras.utils import np_utils"
   ]
  },
  {
   "cell_type": "code",
   "execution_count": 9,
   "metadata": {},
   "outputs": [],
   "source": [
    "train = x_train.values.reshape(-1, 28, 28, 1)\n",
    "test = test_data.values.reshape(-1, 28, 28, 1)\n",
    "target = np_utils.to_categorical(y_train, 10)"
   ]
  },
  {
   "cell_type": "code",
   "execution_count": 10,
   "metadata": {},
   "outputs": [],
   "source": [
    "# dividing the data into traing and validation\n",
    "\n",
    "import sklearn\n",
    "from sklearn import model_selection\n",
    "\n",
    "x_train, x_val, y_train, y_val = model_selection.train_test_split(\n",
    "    train, target, test_size=0.20, random_state=1234567890)"
   ]
  },
  {
   "cell_type": "code",
   "execution_count": 11,
   "metadata": {},
   "outputs": [
    {
     "name": "stdout",
     "output_type": "stream",
     "text": [
      "Number of images in X_train: (33600, 28, 28, 1)\n",
      "Number of images in y_train: (33600, 10)\n"
     ]
    }
   ],
   "source": [
    "print(\"Number of images in X_train: {}\".format(x_train.shape))\n",
    "print(\"Number of images in y_train: {}\".format(y_train.shape))"
   ]
  },
  {
   "cell_type": "code",
   "execution_count": 13,
   "metadata": {},
   "outputs": [
    {
     "name": "stdout",
     "output_type": "stream",
     "text": [
      "Number of images in X_train: (8400, 28, 28, 1)\n",
      "Number of images in y_train: (8400, 10)\n"
     ]
    }
   ],
   "source": [
    "print(\"Number of images in X_train: {}\".format(x_val.shape))\n",
    "print(\"Number of images in y_train: {}\".format(y_val.shape))"
   ]
  },
  {
   "cell_type": "markdown",
   "metadata": {},
   "source": [
    "## Define Autoencoder\n",
    "### Used Convolutional Autoencoder"
   ]
  },
  {
   "cell_type": "code",
   "execution_count": 14,
   "metadata": {
    "id": "Dj--pMiXSDhK"
   },
   "outputs": [],
   "source": [
    "conv_encoder = keras.models.Sequential(\n",
    "    [\n",
    "     keras.layers.Reshape([28,28,1], input_shape = [28, 28]),\n",
    "     keras.layers.Conv2D(16, kernel_size = 3, padding = \"same\", activation=\"selu\"),\n",
    "     keras.layers.MaxPool2D(pool_size=2),\n",
    "     keras.layers.Conv2D(32, kernel_size=3, padding=\"same\", activation=\"selu\"),\n",
    "     keras.layers.MaxPool2D(pool_size=2),\n",
    "     keras.layers.Conv2D(64, kernel_size=3, padding=\"same\", activation=\"selu\"),\n",
    "     keras.layers.MaxPool2D(pool_size=2) \n",
    "    ]\n",
    ")\n",
    "conv_decoder = keras.models.Sequential(\n",
    "    [\n",
    "     keras.layers.Conv2DTranspose(32,kernel_size=3, strides=2, padding=\"valid\", activation=\"selu\", input_shape=[3,3,64]),\n",
    "     keras.layers.Conv2DTranspose(16, kernel_size=3, strides=2, padding=\"same\", activation=\"selu\"),\n",
    "     keras.layers.Conv2DTranspose(1, kernel_size=3, strides=2, padding=\"same\", activation=\"sigmoid\"),\n",
    "     keras.layers.Reshape([28,28])                                   \n",
    "])\n",
    "conv_ae = keras.models.Sequential([conv_encoder, conv_decoder])"
   ]
  },
  {
   "cell_type": "code",
   "execution_count": null,
   "metadata": {},
   "outputs": [],
   "source": []
  }
 ],
 "metadata": {
  "colab": {
   "authorship_tag": "ABX9TyPetU2/rwpe2+g4pEoJ8WrM",
   "collapsed_sections": [],
   "name": "Assignment 9.ipynb",
   "provenance": []
  },
  "kernelspec": {
   "display_name": "Python 3",
   "language": "python",
   "name": "python3"
  },
  "language_info": {
   "codemirror_mode": {
    "name": "ipython",
    "version": 3
   },
   "file_extension": ".py",
   "mimetype": "text/x-python",
   "name": "python",
   "nbconvert_exporter": "python",
   "pygments_lexer": "ipython3",
   "version": "3.7.4"
  }
 },
 "nbformat": 4,
 "nbformat_minor": 1
}
