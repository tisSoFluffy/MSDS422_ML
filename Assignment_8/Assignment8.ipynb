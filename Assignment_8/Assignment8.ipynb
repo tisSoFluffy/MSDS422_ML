{
 "metadata": {
  "language_info": {
   "codemirror_mode": {
    "name": "ipython",
    "version": 3
   },
   "file_extension": ".py",
   "mimetype": "text/x-python",
   "name": "python",
   "nbconvert_exporter": "python",
   "pygments_lexer": "ipython3",
   "version": "3.8.3-final"
  },
  "orig_nbformat": 2,
  "kernelspec": {
   "name": "python3",
   "display_name": "Python 3"
  }
 },
 "nbformat": 4,
 "nbformat_minor": 2,
 "cells": [
  {
   "cell_type": "code",
   "execution_count": 1,
   "metadata": {},
   "outputs": [],
   "source": [
    "import pandas as pd\n",
    "import numpy as np\n",
    "import tensorflow as tf\n",
    "from tensorflow import keras\n",
    "import matplotlib.image as mpimg\n",
    "from collections import Counter"
   ]
  },
  {
   "source": [
    "train_data = pd.read_csv('train.csv')\n",
    "test_data = pd.read_csv('test.csv')"
   ],
   "cell_type": "code",
   "metadata": {},
   "execution_count": 2,
   "outputs": []
  },
  {
   "cell_type": "code",
   "execution_count": 3,
   "metadata": {},
   "outputs": [
    {
     "output_type": "execute_result",
     "data": {
      "text/plain": [
       "   id keyword location                                               text  \\\n",
       "0   1     NaN      NaN  Our Deeds are the Reason of this #earthquake M...   \n",
       "1   4     NaN      NaN             Forest fire near La Ronge Sask. Canada   \n",
       "2   5     NaN      NaN  All residents asked to 'shelter in place' are ...   \n",
       "3   6     NaN      NaN  13,000 people receive #wildfires evacuation or...   \n",
       "4   7     NaN      NaN  Just got sent this photo from Ruby #Alaska as ...   \n",
       "\n",
       "   target  \n",
       "0       1  \n",
       "1       1  \n",
       "2       1  \n",
       "3       1  \n",
       "4       1  "
      ],
      "text/html": "<div>\n<style scoped>\n    .dataframe tbody tr th:only-of-type {\n        vertical-align: middle;\n    }\n\n    .dataframe tbody tr th {\n        vertical-align: top;\n    }\n\n    .dataframe thead th {\n        text-align: right;\n    }\n</style>\n<table border=\"1\" class=\"dataframe\">\n  <thead>\n    <tr style=\"text-align: right;\">\n      <th></th>\n      <th>id</th>\n      <th>keyword</th>\n      <th>location</th>\n      <th>text</th>\n      <th>target</th>\n    </tr>\n  </thead>\n  <tbody>\n    <tr>\n      <th>0</th>\n      <td>1</td>\n      <td>NaN</td>\n      <td>NaN</td>\n      <td>Our Deeds are the Reason of this #earthquake M...</td>\n      <td>1</td>\n    </tr>\n    <tr>\n      <th>1</th>\n      <td>4</td>\n      <td>NaN</td>\n      <td>NaN</td>\n      <td>Forest fire near La Ronge Sask. Canada</td>\n      <td>1</td>\n    </tr>\n    <tr>\n      <th>2</th>\n      <td>5</td>\n      <td>NaN</td>\n      <td>NaN</td>\n      <td>All residents asked to 'shelter in place' are ...</td>\n      <td>1</td>\n    </tr>\n    <tr>\n      <th>3</th>\n      <td>6</td>\n      <td>NaN</td>\n      <td>NaN</td>\n      <td>13,000 people receive #wildfires evacuation or...</td>\n      <td>1</td>\n    </tr>\n    <tr>\n      <th>4</th>\n      <td>7</td>\n      <td>NaN</td>\n      <td>NaN</td>\n      <td>Just got sent this photo from Ruby #Alaska as ...</td>\n      <td>1</td>\n    </tr>\n  </tbody>\n</table>\n</div>"
     },
     "metadata": {},
     "execution_count": 3
    }
   ],
   "source": [
    "train_data.head()"
   ]
  },
  {
   "cell_type": "code",
   "execution_count": 4,
   "metadata": {},
   "outputs": [
    {
     "output_type": "stream",
     "name": "stdout",
     "text": [
      "<class 'pandas.core.frame.DataFrame'>\nRangeIndex: 7613 entries, 0 to 7612\nData columns (total 5 columns):\n #   Column    Non-Null Count  Dtype \n---  ------    --------------  ----- \n 0   id        7613 non-null   int64 \n 1   keyword   7552 non-null   object\n 2   location  5080 non-null   object\n 3   text      7613 non-null   object\n 4   target    7613 non-null   int64 \ndtypes: int64(2), object(3)\nmemory usage: 297.5+ KB\n"
     ]
    }
   ],
   "source": [
    "train_data.info()"
   ]
  },
  {
   "source": [
    "Predict whether a given tweet is about a real distaster or not."
   ],
   "cell_type": "markdown",
   "metadata": {}
  },
  {
   "cell_type": "code",
   "execution_count": 5,
   "metadata": {},
   "outputs": [],
   "source": [
    "tokenizer = keras.preprocessing.text.Tokenizer(char_level=True)"
   ]
  },
  {
   "cell_type": "code",
   "execution_count": 6,
   "metadata": {},
   "outputs": [],
   "source": [
    "def vocab_counter(text,key):\n",
    "    vocabulary = Counter()\n",
    "    for tweet in text[key]:\n",
    "        tweet = tf.strings.split(tweet)\n",
    "        vocabulary.update(list(tweet.numpy()))\n",
    "    return vocabulary\n",
    "\n",
    "def truncated_vocabulary(vocabulary,vocab_size,):\n",
    "    truncated_vocabulary = [ word for word, count in vocabulary.most_common()[:vocab_size]]\n",
    "    return truncated_vocabulary\n",
    "\n",
    "def preprocess(truncated_vocabulary, num_oov_buckets):\n",
    "    words = tf.constant(truncated_vocabulary)\n",
    "    len_truncated_vocab = len(truncated_vocabulary)\n",
    "    word_ids = tf.range(len_truncated_vocab, dtype=tf.int64)\n",
    "    vocab_init = tf.lookup.KeyValueTensorInitializer(words, word_ids)\n",
    "    table = tf.lookup.StaticVocabularyTable(vocab_init,num_oov_buckets)\n",
    "    return table\n",
    "\n",
    "def encode_words(X_batch, y_batch):\n",
    "    return table.lookup(X_batch), y_batch\n",
    "\n",
    "def encode_test_words(X_batch, y_batch=None):\n",
    "    return table.lookup(X_batch)\n",
    "\n",
    "def train_target(train_data,text_label,target_label):\n",
    "    train_set = train_data[[text_label,target_label]]\n",
    "    target = train_set.pop(target_label)\n",
    "    target = target.values.reshape(len(target),1)\n",
    "    dataset = tf.data.Dataset.from_tensor_slices((train_set.values, target))\n",
    "    train_set_model= dataset.batch(32).map(encode_words).prefetch(1)\n",
    "    return dataset,train_set_model\n",
    "\n",
    "def test(test_data, text_label):\n",
    "    test_set = test_data[text_label]\n",
    "    test_set = test_set.values.reshape(len(test_set),1)\n",
    "    test_set = tf.data.Dataset.from_tensor_slices(test_data[text_label])\n",
    "    test = test_set.batch(32).map(encode_test_words).prefetch(1)\n",
    "    return test"
   ]
  },
  {
   "cell_type": "code",
   "execution_count": 7,
   "metadata": {},
   "outputs": [],
   "source": [
    "vocab_size = 10000\n",
    "num_oov_buckets = 1000\n",
    "v = vocab_counter(train_data,'text')\n",
    "t= truncated_vocabulary(v,num_oov_buckets)\n",
    "table= preprocess(t,num_oov_buckets)\n",
    "train_set_model = train_target(train_data,'text','target')\n",
    "\n"
   ]
  },
  {
   "cell_type": "code",
   "execution_count": 8,
   "metadata": {},
   "outputs": [
    {
     "output_type": "execute_result",
     "data": {
      "text/plain": [
       "<PrefetchDataset shapes: (None,), types: tf.int64>"
      ]
     },
     "metadata": {},
     "execution_count": 8
    }
   ],
   "source": [
    "test_set = test(test_data,'text')\n",
    "test_set"
   ]
  },
  {
   "cell_type": "code",
   "execution_count": 9,
   "metadata": {
    "tags": []
   },
   "outputs": [],
   "source": [
    "dataset = train_set_model[0]\n",
    "train_set_model1 = train_set_model[1]"
   ]
  },
  {
   "cell_type": "code",
   "execution_count": 10,
   "metadata": {},
   "outputs": [
    {
     "output_type": "execute_result",
     "data": {
      "text/plain": [
       "31924"
      ]
     },
     "metadata": {},
     "execution_count": 10
    }
   ],
   "source": [
    "len(v.keys())"
   ]
  },
  {
   "source": [
    "It looks like we have 31924 words in our dictionary. Lets take the top 10,000 of them and used them in our model."
   ],
   "cell_type": "markdown",
   "metadata": {}
  },
  {
   "cell_type": "code",
   "execution_count": 11,
   "metadata": {},
   "outputs": [
    {
     "output_type": "execute_result",
     "data": {
      "text/plain": [
       "<tf.Tensor: shape=(1, 4), dtype=int64, numpy=array([[  24,  337,   21, 1770]])>"
      ]
     },
     "metadata": {},
     "execution_count": 11
    }
   ],
   "source": [
    "table.lookup(tf.constant([b'this movie was faaaaaaantastic'.split()]))"
   ]
  },
  {
   "source": [
    "Lets make sure that the dataset converted correctly. We are going to iterate over the dataset and print it's features and target"
   ],
   "cell_type": "markdown",
   "metadata": {}
  },
  {
   "cell_type": "code",
   "execution_count": 12,
   "metadata": {},
   "outputs": [
    {
     "output_type": "stream",
     "name": "stdout",
     "text": [
      "Features: [b'Our Deeds are the Reason of this #earthquake May ALLAH Forgive us all'], Target: [1]\nFeatures: [b'Forest fire near La Ronge Sask. Canada'], Target: [1]\nFeatures: [b\"All residents asked to 'shelter in place' are being notified by officers. No other evacuation or shelter in place orders are expected\"], Target: [1]\nFeatures: [b'13,000 people receive #wildfires evacuation orders in California '], Target: [1]\nFeatures: [b'Just got sent this photo from Ruby #Alaska as smoke from #wildfires pours into a school '], Target: [1]\n"
     ]
    }
   ],
   "source": [
    "for feat, targ in dataset.take(5):\n",
    "  print ('Features: {}, Target: {}'.format(feat, targ))"
   ]
  },
  {
   "cell_type": "code",
   "execution_count": 128,
   "metadata": {},
   "outputs": [],
   "source": [
    "my_callbacks = [\n",
    "    tf.keras.callbacks.EarlyStopping(monitor='loss',patience=3),\n",
    "    tf.keras.callbacks.ReduceLROnPlateau(monitor='loss', factor=0.2, patience=2, min_lr=0.0001)\n",
    "]\n",
    "adam_optimizer = keras.optimizers.Adam(learning_rate=0.001,\n",
    "                                                 beta_1=0.9,\n",
    "                                                 beta_2=0.999)\n",
    "\n",
    "sgd_optimizer = keras.optimizers.SGD(lr=0.2, momentum=0.9, decay=0.01)\n"
   ]
  },
  {
   "cell_type": "code",
   "execution_count": 44,
   "metadata": {},
   "outputs": [
    {
     "output_type": "stream",
     "name": "stdout",
     "text": [
      "Epoch 1/25\n",
      "238/238 [==============================] - 13s 55ms/step - loss: 0.5807 - accuracy: 0.6771\n",
      "Epoch 2/25\n",
      "238/238 [==============================] - 14s 57ms/step - loss: 0.5873 - accuracy: 0.6753\n",
      "Epoch 3/25\n",
      "238/238 [==============================] - 13s 55ms/step - loss: 0.5882 - accuracy: 0.6727\n",
      "Epoch 4/25\n",
      "238/238 [==============================] - 14s 59ms/step - loss: 0.5984 - accuracy: 0.6706\n",
      "Epoch 5/25\n",
      "238/238 [==============================] - 16s 66ms/step - loss: 0.5816 - accuracy: 0.6767\n",
      "Epoch 6/25\n",
      "238/238 [==============================] - 14s 58ms/step - loss: 0.5837 - accuracy: 0.6753\n",
      "Epoch 7/25\n",
      "238/238 [==============================] - 14s 58ms/step - loss: 0.5818 - accuracy: 0.6790\n",
      "Epoch 8/25\n",
      "238/238 [==============================] - 16s 67ms/step - loss: 0.5884 - accuracy: 0.6653\n",
      "Epoch 9/25\n",
      "238/238 [==============================] - 15s 64ms/step - loss: 0.5944 - accuracy: 0.6691\n",
      "Epoch 10/25\n",
      "238/238 [==============================] - 16s 66ms/step - loss: 0.5768 - accuracy: 0.6861\n",
      "Epoch 11/25\n",
      "238/238 [==============================] - 14s 59ms/step - loss: 0.5810 - accuracy: 0.6798\n",
      "Epoch 12/25\n",
      "238/238 [==============================] - 14s 60ms/step - loss: 0.5843 - accuracy: 0.6781\n",
      "Epoch 13/25\n",
      "238/238 [==============================] - 15s 62ms/step - loss: 0.5865 - accuracy: 0.6766\n",
      "Epoch 14/25\n",
      "238/238 [==============================] - 14s 57ms/step - loss: 0.5808 - accuracy: 0.6784\n",
      "Epoch 15/25\n",
      "238/238 [==============================] - 14s 58ms/step - loss: 0.6012 - accuracy: 0.6615\n",
      "Epoch 16/25\n",
      "238/238 [==============================] - 14s 59ms/step - loss: 0.5857 - accuracy: 0.6736\n",
      "Epoch 17/25\n",
      "238/238 [==============================] - 20s 82ms/step - loss: 0.6013 - accuracy: 0.6594\n",
      "Epoch 18/25\n",
      "238/238 [==============================] - 21s 87ms/step - loss: 0.5937 - accuracy: 0.6703\n",
      "Epoch 19/25\n",
      "238/238 [==============================] - 26s 111ms/step - loss: 0.5872 - accuracy: 0.6696\n",
      "Epoch 20/25\n",
      "238/238 [==============================] - 22s 95ms/step - loss: 0.5903 - accuracy: 0.6687\n",
      "Epoch 21/25\n",
      "238/238 [==============================] - 20s 83ms/step - loss: 0.5981 - accuracy: 0.6669\n",
      "Epoch 22/25\n",
      "238/238 [==============================] - 18s 76ms/step - loss: 0.5846 - accuracy: 0.6811\n",
      "Epoch 23/25\n",
      "238/238 [==============================] - 14s 59ms/step - loss: 0.6014 - accuracy: 0.6679\n",
      "Epoch 24/25\n",
      "238/238 [==============================] - 16s 68ms/step - loss: 0.5930 - accuracy: 0.6690\n",
      "Epoch 25/25\n",
      "238/238 [==============================] - 17s 71ms/step - loss: 0.5883 - accuracy: 0.6720\n"
     ]
    }
   ],
   "source": [
    "# og model\n",
    "embed_size = 128\n",
    "model1 = keras.models.Sequential([\n",
    "    keras.layers.Embedding(vocab_size + num_oov_buckets, embed_size, input_shape=[None]),\n",
    "    keras.layers.GRU(128, return_sequences=True),\n",
    "    keras.layers.GRU(128),\n",
    "    keras.layers.Dense(1, activation='sigmoid')\n",
    "])\n",
    "model1.compile(loss= 'binary_crossentropy', optimizer='Adam', metrics=['accuracy'])\n",
    "\n",
    "trained_model1 = model.fit(train_set_model1, epochs=25)\n"
   ]
  },
  {
   "cell_type": "code",
   "execution_count": 131,
   "metadata": {},
   "outputs": [
    {
     "output_type": "stream",
     "name": "stdout",
     "text": [
      "Epoch 1/25\n",
      "238/238 [==============================] - 16s 65ms/step - loss: 0.6173 - accuracy: 0.6438\n",
      "Epoch 2/25\n",
      "238/238 [==============================] - 16s 67ms/step - loss: 0.6164 - accuracy: 0.6407\n",
      "Epoch 3/25\n",
      "238/238 [==============================] - 16s 68ms/step - loss: 0.6152 - accuracy: 0.6439\n",
      "Epoch 4/25\n",
      "238/238 [==============================] - 14s 60ms/step - loss: 0.6170 - accuracy: 0.6427\n",
      "Epoch 5/25\n",
      "238/238 [==============================] - 14s 61ms/step - loss: 0.6170 - accuracy: 0.6456\n",
      "Epoch 6/25\n",
      "238/238 [==============================] - 15s 61ms/step - loss: 0.6182 - accuracy: 0.6434\n"
     ]
    }
   ],
   "source": [
    "embed_size = 128\n",
    "model3 = keras.models.Sequential([\n",
    "    keras.layers.Embedding(vocab_size + num_oov_buckets, embed_size, input_shape=[None], mask_zero=True),\n",
    "    keras.layers.SpatialDropout1D(0.2),\n",
    "    keras.layers.Bidirectional(keras.layers.LSTM(128, dropout=0.2, recurrent_dropout=0.2,return_sequences=True)),\n",
    "    keras.layers.Bidirectional(keras.layers.LSTM(128, dropout=0.2, recurrent_dropout=0.2,)),\n",
    "    keras.layers.Dense(128),\n",
    "    keras.layers.Dense(1, activation='sigmoid')\n",
    "])\n",
    "model3.compile(loss= 'binary_crossentropy', optimizer=adam_optimizer, metrics=['accuracy'])\n",
    "\n",
    "trained_model3 = model.fit(train_set_model1, epochs=25, callbacks= my_callbacks)"
   ]
  },
  {
   "cell_type": "code",
   "execution_count": 35,
   "metadata": {},
   "outputs": [
    {
     "output_type": "execute_result",
     "data": {
      "text/plain": [
       "array([[0.50071144],\n",
       "       [0.49993077],\n",
       "       [0.5001224 ],\n",
       "       ...,\n",
       "       [0.5001627 ],\n",
       "       [0.49998587],\n",
       "       [0.5001549 ]], dtype=float32)"
      ]
     },
     "metadata": {},
     "execution_count": 35
    }
   ],
   "source": [
    "model1_predictions = model1.predict(test_set)\n",
    "model1_predictions\n",
    "model3_predictions = model3.predict(test_set)\n",
    "model3_predictions\n",
    "#np.savetxt('predictions3'.csv, model3_predictions, delimeters=',')\n",
    "#np.savetxt('predictions1'.csv, model1_predictions, delimeters=',')\n",
    "\n"
   ]
  },
  {
   "cell_type": "code",
   "execution_count": 39,
   "metadata": {},
   "outputs": [
    {
     "output_type": "stream",
     "name": "stdout",
     "text": [
      "WARNING:tensorflow:9 out of the last 9 calls to <function recreate_function.<locals>.restored_function_body at 0x7fbf949f8820> triggered tf.function retracing. Tracing is expensive and the excessive number of tracings could be due to (1) creating @tf.function repeatedly in a loop, (2) passing tensors with different shapes, (3) passing Python objects instead of tensors. For (1), please define your @tf.function outside of the loop. For (2), @tf.function has experimental_relax_shapes=True option that relaxes argument shapes that can avoid unnecessary retracing. For (3), please refer to https://www.tensorflow.org/tutorials/customization/performance#python_or_tensor_args and https://www.tensorflow.org/api_docs/python/tf/function for  more details.\n",
      "WARNING:tensorflow:9 out of the last 9 calls to <function recreate_function.<locals>.restored_function_body at 0x7fbf949f8820> triggered tf.function retracing. Tracing is expensive and the excessive number of tracings could be due to (1) creating @tf.function repeatedly in a loop, (2) passing tensors with different shapes, (3) passing Python objects instead of tensors. For (1), please define your @tf.function outside of the loop. For (2), @tf.function has experimental_relax_shapes=True option that relaxes argument shapes that can avoid unnecessary retracing. For (3), please refer to https://www.tensorflow.org/tutorials/customization/performance#python_or_tensor_args and https://www.tensorflow.org/api_docs/python/tf/function for  more details.\n",
      "WARNING:tensorflow:10 out of the last 10 calls to <function recreate_function.<locals>.restored_function_body at 0x7fbf94638ca0> triggered tf.function retracing. Tracing is expensive and the excessive number of tracings could be due to (1) creating @tf.function repeatedly in a loop, (2) passing tensors with different shapes, (3) passing Python objects instead of tensors. For (1), please define your @tf.function outside of the loop. For (2), @tf.function has experimental_relax_shapes=True option that relaxes argument shapes that can avoid unnecessary retracing. For (3), please refer to https://www.tensorflow.org/tutorials/customization/performance#python_or_tensor_args and https://www.tensorflow.org/api_docs/python/tf/function for  more details.\n",
      "WARNING:tensorflow:10 out of the last 10 calls to <function recreate_function.<locals>.restored_function_body at 0x7fbf94638ca0> triggered tf.function retracing. Tracing is expensive and the excessive number of tracings could be due to (1) creating @tf.function repeatedly in a loop, (2) passing tensors with different shapes, (3) passing Python objects instead of tensors. For (1), please define your @tf.function outside of the loop. For (2), @tf.function has experimental_relax_shapes=True option that relaxes argument shapes that can avoid unnecessary retracing. For (3), please refer to https://www.tensorflow.org/tutorials/customization/performance#python_or_tensor_args and https://www.tensorflow.org/api_docs/python/tf/function for  more details.\n"
     ]
    }
   ],
   "source": [
    "import tensorflow_hub as hub\n",
    "\n",
    "model4 = keras.Sequential([\n",
    "    hub.KerasLayer('https://tfhub.dev/google/tf2-preview/nnlm-en-dim50/1', dtype=tf.string, input_shape=[], output_shape=[50]),\n",
    "    keras.layers.Dense(128, activation='relu'),\n",
    "    keras.layers.Dense(1, activation='sigmoid')\n",
    "])\n",
    "model4.compile(loss='binary_crossentropy', optimizer='adam', metrics=['accuracy'])"
   ]
  },
  {
   "cell_type": "code",
   "execution_count": 41,
   "metadata": {},
   "outputs": [
    {
     "output_type": "stream",
     "name": "stdout",
     "text": [
      "Epoch 1/10\n",
      "238/238 [==============================] - 15s 65ms/step - loss: 0.5824 - accuracy: 0.6648\n",
      "Epoch 2/10\n",
      "238/238 [==============================] - 14s 61ms/step - loss: 0.5899 - accuracy: 0.6703\n",
      "Epoch 3/10\n",
      "238/238 [==============================] - 16s 65ms/step - loss: 0.5730 - accuracy: 0.6754\n",
      "Epoch 4/10\n",
      "238/238 [==============================] - 15s 62ms/step - loss: 0.5944 - accuracy: 0.6636\n",
      "Epoch 5/10\n",
      "238/238 [==============================] - 14s 61ms/step - loss: 0.5743 - accuracy: 0.6762\n",
      "Epoch 6/10\n",
      "238/238 [==============================] - 15s 63ms/step - loss: 0.5902 - accuracy: 0.6654\n",
      "Epoch 7/10\n",
      "238/238 [==============================] - 16s 67ms/step - loss: 0.5725 - accuracy: 0.6837\n",
      "Epoch 8/10\n",
      "238/238 [==============================] - 15s 63ms/step - loss: 0.5914 - accuracy: 0.6671\n",
      "Epoch 9/10\n",
      "238/238 [==============================] - 16s 66ms/step - loss: 0.5858 - accuracy: 0.6717\n",
      "Epoch 10/10\n",
      "238/238 [==============================] - 16s 66ms/step - loss: 0.5801 - accuracy: 0.6695\n"
     ]
    }
   ],
   "source": [
    "# This is broken\n",
    "batch_size = 32\n",
    "#train_set = dataset.batch(batch_size).prefetch(1)\n",
    "tweet_model = model.fit(train_set_model1, epochs=10)"
   ]
  },
  {
   "cell_type": "code",
   "execution_count": null,
   "metadata": {},
   "outputs": [],
   "source": [
    "model4_predictions = model4.predict(test_set)\n",
    "model4_predictions\n",
    "#np.savetxt('predictions4'.csv, model4_predictions, delimeters=',')"
   ]
  }
 ]
}