{
 "cells": [
  {
   "cell_type": "code",
   "execution_count": 1,
   "metadata": {
    "ExecuteTime": {
     "end_time": "2020-10-30T23:37:53.818911Z",
     "start_time": "2020-10-30T23:37:47.604158Z"
    }
   },
   "outputs": [],
   "source": [
    "import numpy as np\n",
    "import pandas as pd\n",
    "import tensorflow as tf\n",
    "from tensorflow import keras\n",
    "import matplotlib.image as mpimg\n",
    "from datetime import datetime"
   ]
  },
  {
   "cell_type": "markdown",
   "metadata": {},
   "source": [
    "### Let's start by processing the colored cats & dog data "
   ]
  },
  {
   "cell_type": "code",
   "execution_count": 2,
   "metadata": {
    "ExecuteTime": {
     "end_time": "2020-10-30T23:37:54.435944Z",
     "start_time": "2020-10-30T23:37:53.818911Z"
    }
   },
   "outputs": [],
   "source": [
    "cats_3 = np.load('cats_1000_128_128_3.npy')"
   ]
  },
  {
   "cell_type": "code",
   "execution_count": 3,
   "metadata": {
    "ExecuteTime": {
     "end_time": "2020-10-30T23:37:55.106682Z",
     "start_time": "2020-10-30T23:37:54.435944Z"
    }
   },
   "outputs": [],
   "source": [
    "dogs_3 = np.load('dogs_1000_128_128_3.npy')"
   ]
  },
  {
   "cell_type": "code",
   "execution_count": 4,
   "metadata": {
    "ExecuteTime": {
     "end_time": "2020-10-30T23:37:55.122129Z",
     "start_time": "2020-10-30T23:37:55.106682Z"
    }
   },
   "outputs": [
    {
     "data": {
      "text/plain": [
       "(1000, 128, 128, 3)"
      ]
     },
     "execution_count": 4,
     "metadata": {},
     "output_type": "execute_result"
    }
   ],
   "source": [
    "cats_3.shape # investigate the shape"
   ]
  },
  {
   "cell_type": "code",
   "execution_count": 5,
   "metadata": {
    "ExecuteTime": {
     "end_time": "2020-10-30T23:37:55.137752Z",
     "start_time": "2020-10-30T23:37:55.122129Z"
    }
   },
   "outputs": [
    {
     "data": {
      "text/plain": [
       "(1000, 128, 128, 3)"
      ]
     },
     "execution_count": 5,
     "metadata": {},
     "output_type": "execute_result"
    }
   ],
   "source": [
    "dogs_3.shape # investigate the shape"
   ]
  },
  {
   "cell_type": "code",
   "execution_count": 6,
   "metadata": {
    "ExecuteTime": {
     "end_time": "2020-10-30T23:37:55.153410Z",
     "start_time": "2020-10-30T23:37:55.137752Z"
    }
   },
   "outputs": [
    {
     "data": {
      "text/plain": [
       "(dtype('float64'), dtype('float64'))"
      ]
     },
     "execution_count": 6,
     "metadata": {},
     "output_type": "execute_result"
    }
   ],
   "source": [
    "cats_3.dtype, dogs_3.dtype # look at dtype"
   ]
  },
  {
   "cell_type": "code",
   "execution_count": 7,
   "metadata": {
    "ExecuteTime": {
     "end_time": "2020-10-30T23:37:55.175550Z",
     "start_time": "2020-10-30T23:37:55.153410Z"
    }
   },
   "outputs": [],
   "source": [
    "dogs_3_y= np.repeat(1,1000) # Let's create training labels for dogs "
   ]
  },
  {
   "cell_type": "code",
   "execution_count": 8,
   "metadata": {
    "ExecuteTime": {
     "end_time": "2020-10-30T23:37:55.191177Z",
     "start_time": "2020-10-30T23:37:55.175550Z"
    }
   },
   "outputs": [],
   "source": [
    "cats_3_y = np.repeat(0,1000) # Let's create training labels for cats"
   ]
  },
  {
   "cell_type": "code",
   "execution_count": 9,
   "metadata": {
    "ExecuteTime": {
     "end_time": "2020-10-30T23:37:55.206801Z",
     "start_time": "2020-10-30T23:37:55.191177Z"
    }
   },
   "outputs": [
    {
     "data": {
      "text/plain": [
       "array([1, 1, 1, ..., 0, 0, 0])"
      ]
     },
     "execution_count": 9,
     "metadata": {},
     "output_type": "execute_result"
    }
   ],
   "source": [
    "# create labels 1=dog, 0=cat\n",
    "# combine into one array for training labels\n",
    "y_train_3 = np.concatenate((dogs_3_y, cats_3_y),axis=0)\n",
    "y_train_3"
   ]
  },
  {
   "cell_type": "code",
   "execution_count": 10,
   "metadata": {
    "ExecuteTime": {
     "end_time": "2020-10-30T23:37:55.874224Z",
     "start_time": "2020-10-30T23:37:55.206801Z"
    }
   },
   "outputs": [
    {
     "data": {
      "text/plain": [
       "array([[[[118., 116., 128.],\n",
       "         [106., 104., 119.],\n",
       "         [120., 118., 131.],\n",
       "         ...,\n",
       "         [139., 141., 153.],\n",
       "         [133., 135., 147.],\n",
       "         [133., 133., 142.]],\n",
       "\n",
       "        [[122., 120., 132.],\n",
       "         [109., 107., 122.],\n",
       "         [122., 120., 133.],\n",
       "         ...,\n",
       "         [141., 143., 155.],\n",
       "         [137., 138., 151.],\n",
       "         [136., 136., 145.]],\n",
       "\n",
       "        [[125., 123., 135.],\n",
       "         [112., 110., 125.],\n",
       "         [123., 121., 134.],\n",
       "         ...,\n",
       "         [142., 144., 156.],\n",
       "         [139., 141., 153.],\n",
       "         [139., 142., 149.]],\n",
       "\n",
       "        ...,\n",
       "\n",
       "        [[ 70.,  84.,  87.],\n",
       "         [ 87.,  90.,  96.],\n",
       "         [ 73.,  78.,  82.],\n",
       "         ...,\n",
       "         [ 67.,  77.,  79.],\n",
       "         [ 60.,  69.,  72.],\n",
       "         [ 63.,  73.,  75.]],\n",
       "\n",
       "        [[ 73.,  78.,  82.],\n",
       "         [ 69.,  77.,  80.],\n",
       "         [ 72.,  82.,  84.],\n",
       "         ...,\n",
       "         [ 63.,  72.,  77.],\n",
       "         [ 60.,  69.,  74.],\n",
       "         [ 75.,  85.,  87.]],\n",
       "\n",
       "        [[ 68.,  73.,  77.],\n",
       "         [ 70.,  79.,  82.],\n",
       "         [ 64.,  74.,  76.],\n",
       "         ...,\n",
       "         [ 70.,  79.,  84.],\n",
       "         [ 83.,  92.,  97.],\n",
       "         [ 65.,  75.,  77.]]],\n",
       "\n",
       "\n",
       "       [[[189., 169., 151.],\n",
       "         [142., 109.,  80.],\n",
       "         [161., 122.,  88.],\n",
       "         ...,\n",
       "         [112.,  81.,  59.],\n",
       "         [115.,  85.,  63.],\n",
       "         [ 98.,  68.,  46.]],\n",
       "\n",
       "        [[181., 153., 128.],\n",
       "         [124.,  80.,  43.],\n",
       "         [144.,  90.,  44.],\n",
       "         ...,\n",
       "         [111.,  78.,  51.],\n",
       "         [120.,  89.,  61.],\n",
       "         [107.,  76.,  48.]],\n",
       "\n",
       "        [[166., 152., 139.],\n",
       "         [104.,  71.,  41.],\n",
       "         [103.,  58.,  18.],\n",
       "         ...,\n",
       "         [107.,  81.,  50.],\n",
       "         [107.,  80.,  51.],\n",
       "         [ 87.,  60.,  31.]],\n",
       "\n",
       "        ...,\n",
       "\n",
       "        [[251., 249., 238.],\n",
       "         [244., 242., 227.],\n",
       "         [245., 244., 223.],\n",
       "         ...,\n",
       "         [235., 234., 213.],\n",
       "         [235., 234., 213.],\n",
       "         [232., 231., 210.]],\n",
       "\n",
       "        [[253., 250., 238.],\n",
       "         [242., 239., 222.],\n",
       "         [240., 238., 216.],\n",
       "         ...,\n",
       "         [238., 237., 216.],\n",
       "         [235., 237., 215.],\n",
       "         [230., 231., 209.]],\n",
       "\n",
       "        [[254., 255., 242.],\n",
       "         [248., 249., 230.],\n",
       "         [246., 247., 226.],\n",
       "         ...,\n",
       "         [240., 241., 226.],\n",
       "         [244., 245., 230.],\n",
       "         [241., 242., 227.]]],\n",
       "\n",
       "\n",
       "       [[[185., 157., 125.],\n",
       "         [201., 179., 153.],\n",
       "         [167., 156., 142.],\n",
       "         ...,\n",
       "         [173., 153., 117.],\n",
       "         [179., 159., 120.],\n",
       "         [198., 176., 135.]],\n",
       "\n",
       "        [[185., 157., 124.],\n",
       "         [183., 161., 134.],\n",
       "         [167., 157., 141.],\n",
       "         ...,\n",
       "         [166., 146., 109.],\n",
       "         [175., 156., 115.],\n",
       "         [192., 172., 131.]],\n",
       "\n",
       "        [[195., 167., 132.],\n",
       "         [158., 137., 108.],\n",
       "         [145., 135., 118.],\n",
       "         ...,\n",
       "         [194., 174., 136.],\n",
       "         [182., 163., 123.],\n",
       "         [182., 164., 122.]],\n",
       "\n",
       "        ...,\n",
       "\n",
       "        [[178., 171., 165.],\n",
       "         [178., 171., 165.],\n",
       "         [180., 173., 167.],\n",
       "         ...,\n",
       "         [212., 207., 201.],\n",
       "         [212., 207., 201.],\n",
       "         [209., 204., 198.]],\n",
       "\n",
       "        [[183., 176., 170.],\n",
       "         [184., 177., 171.],\n",
       "         [184., 177., 171.],\n",
       "         ...,\n",
       "         [217., 212., 206.],\n",
       "         [220., 215., 209.],\n",
       "         [217., 212., 206.]],\n",
       "\n",
       "        [[183., 177., 173.],\n",
       "         [182., 176., 172.],\n",
       "         [181., 175., 171.],\n",
       "         ...,\n",
       "         [207., 202., 196.],\n",
       "         [205., 200., 194.],\n",
       "         [206., 200., 195.]]],\n",
       "\n",
       "\n",
       "       ...,\n",
       "\n",
       "\n",
       "       [[[169., 155., 152.],\n",
       "         [184., 166., 162.],\n",
       "         [181., 165., 158.],\n",
       "         ...,\n",
       "         [130., 120., 113.],\n",
       "         [102.,  94.,  88.],\n",
       "         [123., 107., 101.]],\n",
       "\n",
       "        [[169., 161., 152.],\n",
       "         [ 95.,  80.,  72.],\n",
       "         [166., 148., 137.],\n",
       "         ...,\n",
       "         [104.,  95.,  88.],\n",
       "         [ 69.,  61.,  55.],\n",
       "         [ 99.,  99.,  86.]],\n",
       "\n",
       "        [[164., 163., 148.],\n",
       "         [ 96.,  85.,  71.],\n",
       "         [151., 133., 119.],\n",
       "         ...,\n",
       "         [108.,  99.,  91.],\n",
       "         [115., 107., 101.],\n",
       "         [108., 111.,  98.]],\n",
       "\n",
       "        ...,\n",
       "\n",
       "        [[170., 165., 155.],\n",
       "         [138., 136., 127.],\n",
       "         [191., 188., 183.],\n",
       "         ...,\n",
       "         [108., 108., 110.],\n",
       "         [120., 120., 122.],\n",
       "         [ 65.,  65.,  65.]],\n",
       "\n",
       "        [[208., 198., 190.],\n",
       "         [203., 201., 192.],\n",
       "         [156., 155., 150.],\n",
       "         ...,\n",
       "         [ 97., 100., 101.],\n",
       "         [113., 117., 118.],\n",
       "         [105., 105., 105.]],\n",
       "\n",
       "        [[167., 153., 147.],\n",
       "         [167., 163., 155.],\n",
       "         [176., 172., 167.],\n",
       "         ...,\n",
       "         [115., 119., 120.],\n",
       "         [126., 130., 131.],\n",
       "         [107., 107., 107.]]],\n",
       "\n",
       "\n",
       "       [[[241., 234., 242.],\n",
       "         [238., 231., 239.],\n",
       "         [235., 228., 236.],\n",
       "         ...,\n",
       "         [236., 229., 237.],\n",
       "         [239., 233., 237.],\n",
       "         [241., 235., 240.]],\n",
       "\n",
       "        [[240., 233., 241.],\n",
       "         [238., 231., 239.],\n",
       "         [237., 230., 238.],\n",
       "         ...,\n",
       "         [235., 228., 235.],\n",
       "         [235., 228., 233.],\n",
       "         [234., 228., 232.]],\n",
       "\n",
       "        [[233., 226., 234.],\n",
       "         [235., 229., 236.],\n",
       "         [234., 227., 235.],\n",
       "         ...,\n",
       "         [235., 229., 236.],\n",
       "         [236., 230., 234.],\n",
       "         [236., 230., 234.]],\n",
       "\n",
       "        ...,\n",
       "\n",
       "        [[233., 223., 216.],\n",
       "         [234., 223., 217.],\n",
       "         [234., 223., 217.],\n",
       "         ...,\n",
       "         [238., 231., 223.],\n",
       "         [242., 235., 227.],\n",
       "         [242., 235., 227.]],\n",
       "\n",
       "        [[238., 227., 221.],\n",
       "         [236., 225., 219.],\n",
       "         [233., 222., 216.],\n",
       "         ...,\n",
       "         [236., 229., 221.],\n",
       "         [236., 229., 221.],\n",
       "         [236., 229., 221.]],\n",
       "\n",
       "        [[236., 224., 224.],\n",
       "         [237., 226., 226.],\n",
       "         [239., 227., 227.],\n",
       "         ...,\n",
       "         [240., 233., 225.],\n",
       "         [237., 230., 222.],\n",
       "         [236., 229., 221.]]],\n",
       "\n",
       "\n",
       "       [[[199., 138., 110.],\n",
       "         [207., 142., 114.],\n",
       "         [215., 146., 116.],\n",
       "         ...,\n",
       "         [ 80.,  67.,  61.],\n",
       "         [ 79.,  66.,  60.],\n",
       "         [ 79.,  66.,  60.]],\n",
       "\n",
       "        [[198., 137., 109.],\n",
       "         [208., 144., 116.],\n",
       "         [211., 143., 114.],\n",
       "         ...,\n",
       "         [ 81.,  68.,  61.],\n",
       "         [ 78.,  65.,  59.],\n",
       "         [ 78.,  65.,  59.]],\n",
       "\n",
       "        [[203., 142., 117.],\n",
       "         [209., 145., 118.],\n",
       "         [211., 144., 115.],\n",
       "         ...,\n",
       "         [ 85.,  70.,  64.],\n",
       "         [ 83.,  68.,  63.],\n",
       "         [ 81.,  66.,  61.]],\n",
       "\n",
       "        ...,\n",
       "\n",
       "        [[191., 193., 192.],\n",
       "         [179., 181., 180.],\n",
       "         [163., 165., 164.],\n",
       "         ...,\n",
       "         [165., 142., 138.],\n",
       "         [177., 150., 143.],\n",
       "         [176., 148., 142.]],\n",
       "\n",
       "        [[190., 192., 191.],\n",
       "         [176., 178., 177.],\n",
       "         [162., 164., 163.],\n",
       "         ...,\n",
       "         [166., 143., 142.],\n",
       "         [169., 144., 139.],\n",
       "         [161., 134., 130.]],\n",
       "\n",
       "        [[162., 164., 162.],\n",
       "         [152., 154., 153.],\n",
       "         [142., 144., 143.],\n",
       "         ...,\n",
       "         [140., 120., 118.],\n",
       "         [132., 108., 104.],\n",
       "         [129., 104., 100.]]]])"
      ]
     },
     "execution_count": 10,
     "metadata": {},
     "output_type": "execute_result"
    }
   ],
   "source": [
    "# combine dogs & cats for training \n",
    "x_train_3 = np.concatenate((dogs_3,cats_3),axis=0)\n",
    "x_train_3"
   ]
  },
  {
   "cell_type": "code",
   "execution_count": 11,
   "metadata": {
    "ExecuteTime": {
     "end_time": "2020-10-30T23:37:55.889850Z",
     "start_time": "2020-10-30T23:37:55.874224Z"
    }
   },
   "outputs": [],
   "source": [
    "# create class names\n",
    "class_names= ['cats','dogs']"
   ]
  },
  {
   "cell_type": "markdown",
   "metadata": {},
   "source": [
    "### create train, validate & test set"
   ]
  },
  {
   "cell_type": "code",
   "execution_count": 12,
   "metadata": {
    "ExecuteTime": {
     "end_time": "2020-10-30T23:37:56.627874Z",
     "start_time": "2020-10-30T23:37:55.889850Z"
    }
   },
   "outputs": [],
   "source": [
    "# create train, validate & test set\n",
    "from sklearn.model_selection import train_test_split"
   ]
  },
  {
   "cell_type": "code",
   "execution_count": 13,
   "metadata": {
    "ExecuteTime": {
     "end_time": "2020-10-30T23:37:57.234022Z",
     "start_time": "2020-10-30T23:37:56.627874Z"
    }
   },
   "outputs": [],
   "source": [
    "# initial test train split for 3 colors\n",
    "x_train_3, x_test_3, y_train_3, y_test_3 = train_test_split(x_train_3, y_train_3, test_size=.30, random_state=55)"
   ]
  },
  {
   "cell_type": "code",
   "execution_count": 14,
   "metadata": {
    "ExecuteTime": {
     "end_time": "2020-10-30T23:37:58.029202Z",
     "start_time": "2020-10-30T23:37:57.234022Z"
    }
   },
   "outputs": [],
   "source": [
    "# train vs validation set\n",
    "X_train_3, x_valid_3, y_train_3, y_valid_3 = train_test_split(x_train_3,y_train_3, test_size=.20, random_state=55)"
   ]
  },
  {
   "cell_type": "code",
   "execution_count": 15,
   "metadata": {
    "ExecuteTime": {
     "end_time": "2020-10-30T23:37:58.122937Z",
     "start_time": "2020-10-30T23:37:58.029202Z"
    }
   },
   "outputs": [
    {
     "data": {
      "text/plain": [
       "(1120, 128, 128, 3)"
      ]
     },
     "execution_count": 15,
     "metadata": {},
     "output_type": "execute_result"
    }
   ],
   "source": [
    "X_train_3.shape"
   ]
  },
  {
   "cell_type": "markdown",
   "metadata": {
    "ExecuteTime": {
     "end_time": "2020-10-30T20:53:52.858440Z",
     "start_time": "2020-10-30T20:53:52.832296Z"
    }
   },
   "source": [
    "#### 1st Model"
   ]
  },
  {
   "cell_type": "code",
   "execution_count": 16,
   "metadata": {
    "ExecuteTime": {
     "end_time": "2020-10-30T23:37:59.240416Z",
     "start_time": "2020-10-30T23:37:58.122937Z"
    }
   },
   "outputs": [],
   "source": [
    "#clear keras session\n",
    "tf.keras.backend.clear_session()"
   ]
  },
  {
   "cell_type": "code",
   "execution_count": 17,
   "metadata": {
    "ExecuteTime": {
     "end_time": "2020-10-30T23:38:01.655592Z",
     "start_time": "2020-10-30T23:37:59.242444Z"
    }
   },
   "outputs": [],
   "source": [
    "model1 = keras.models.Sequential([\n",
    "    keras.layers.Conv2D(filters= 64, kernel_size=(3,3),strides=1, activation='relu', padding='same',\n",
    "                       input_shape=[128,128,3]),\n",
    "    keras.layers.BatchNormalization(),\n",
    "    keras.layers.Activation('relu'),\n",
    "    keras.layers.MaxPooling2D(pool_size=2, strides=2),\n",
    "    keras.layers.Conv2D(128,3, activation='relu',padding='same'),\n",
    "    keras.layers.Conv2D(128,3, activation='relu',padding='same'),\n",
    "    keras.layers.MaxPooling2D(pool_size=2, strides=2),\n",
    "    keras.layers.Conv2D(256,3, activation='relu',padding='same'),\n",
    "    keras.layers.Conv2D(256,3, activation='relu',padding='same'),\n",
    "    keras.layers.MaxPooling2D(pool_size=2, strides=2),\n",
    "    keras.layers.Flatten(),\n",
    "    keras.layers.BatchNormalization(),\n",
    "    keras.layers.Dense(1000, activation='relu'),\n",
    "    keras.layers.Dropout(0.5),\n",
    "    keras.layers.BatchNormalization(),\n",
    "    keras.layers.Dense(100, activation='relu'),\n",
    "    keras.layers.Dropout(0.5),\n",
    "    keras.layers.BatchNormalization(),\n",
    "    keras.layers.Dense(2, activation='softmax')\n",
    "])"
   ]
  },
  {
   "cell_type": "code",
   "execution_count": 18,
   "metadata": {
    "ExecuteTime": {
     "end_time": "2020-10-30T23:53:39.398600Z",
     "start_time": "2020-10-30T23:38:01.657616Z"
    }
   },
   "outputs": [
    {
     "name": "stdout",
     "output_type": "stream",
     "text": [
      "Epoch 1/5\n",
      "35/35 [==============================] - 163s 5s/step - loss: 0.9430 - accuracy: 0.5188 - val_loss: 4.3346 - val_accuracy: 0.4500\n",
      "Epoch 2/5\n",
      "35/35 [==============================] - 177s 5s/step - loss: 0.8499 - accuracy: 0.5080 - val_loss: 0.7157 - val_accuracy: 0.4821\n",
      "Epoch 3/5\n",
      "35/35 [==============================] - 181s 5s/step - loss: 0.8089 - accuracy: 0.5179 - val_loss: 0.6981 - val_accuracy: 0.5429\n",
      "Epoch 4/5\n",
      "35/35 [==============================] - 182s 5s/step - loss: 0.7725 - accuracy: 0.5018 - val_loss: 0.7221 - val_accuracy: 0.5464\n",
      "Epoch 5/5\n",
      "35/35 [==============================] - 203s 6s/step - loss: 0.7440 - accuracy: 0.5071 - val_loss: 0.6982 - val_accuracy: 0.4429\n",
      "Time elapsed\n",
      "0:15:37.653104\n",
      "Fit model on training data\n"
     ]
    },
    {
     "data": {
      "text/plain": [
       "{'loss': [0.9430389404296875,\n",
       "  0.849875271320343,\n",
       "  0.8088871240615845,\n",
       "  0.772548496723175,\n",
       "  0.7439581155776978],\n",
       " 'accuracy': [0.518750011920929,\n",
       "  0.5080357193946838,\n",
       "  0.5178571343421936,\n",
       "  0.5017856955528259,\n",
       "  0.5071428418159485],\n",
       " 'val_loss': [4.3346357345581055,\n",
       "  0.715673565864563,\n",
       "  0.6980524063110352,\n",
       "  0.722124457359314,\n",
       "  0.6981799602508545],\n",
       " 'val_accuracy': [0.44999998807907104,\n",
       "  0.4821428656578064,\n",
       "  0.5428571701049805,\n",
       "  0.5464285612106323,\n",
       "  0.44285714626312256]}"
      ]
     },
     "execution_count": 18,
     "metadata": {},
     "output_type": "execute_result"
    }
   ],
   "source": [
    "model1.compile(loss=\"binary_crossentropy\", optimizer=\"nadam\", metrics=[\"accuracy\"])\n",
    "\n",
    "# fit model\n",
    "time_start = datetime.now()\n",
    "history1 = model1.fit(X_train_3, y_train_3, epochs=5, validation_data=(x_valid_3, y_valid_3))\n",
    "time_end = datetime.now()\n",
    "time_elapsed = time_end - time_start\n",
    "\n",
    "print('Time elapsed')\n",
    "print(time_elapsed)\n",
    "print(\"Fit model on training data\")\n",
    "history1.history"
   ]
  },
  {
   "cell_type": "code",
   "execution_count": 19,
   "metadata": {
    "ExecuteTime": {
     "end_time": "2020-10-30T23:54:24.516071Z",
     "start_time": "2020-10-30T23:53:39.398600Z"
    }
   },
   "outputs": [
    {
     "name": "stdout",
     "output_type": "stream",
     "text": [
      "Evaluate on test data\n",
      "19/19 [==============================] - 21s 1s/step - loss: 0.6974 - accuracy: 0.4733\n"
     ]
    },
    {
     "data": {
      "text/plain": [
       "array([[0.47074765, 0.52925235],\n",
       "       [0.462852  , 0.537148  ],\n",
       "       [0.4505388 , 0.5494612 ],\n",
       "       ...,\n",
       "       [0.506216  , 0.4937841 ],\n",
       "       [0.53833896, 0.46166098],\n",
       "       [0.44039816, 0.5596018 ]], dtype=float32)"
      ]
     },
     "execution_count": 19,
     "metadata": {},
     "output_type": "execute_result"
    }
   ],
   "source": [
    "print(\"Evaluate on test data\")\n",
    "score = model1.evaluate(x_test_3, y_test_3)\n",
    "predictions = model1.predict(x_test_3)\n",
    "predictions"
   ]
  },
  {
   "cell_type": "markdown",
   "metadata": {},
   "source": [
    "#### 2nd Model"
   ]
  },
  {
   "cell_type": "code",
   "execution_count": 20,
   "metadata": {
    "ExecuteTime": {
     "end_time": "2020-10-30T23:54:24.531691Z",
     "start_time": "2020-10-30T23:54:24.516071Z"
    }
   },
   "outputs": [],
   "source": [
    "#clear keras session\n",
    "tf.keras.backend.clear_session()"
   ]
  },
  {
   "cell_type": "code",
   "execution_count": 21,
   "metadata": {
    "ExecuteTime": {
     "end_time": "2020-10-30T23:54:25.608145Z",
     "start_time": "2020-10-30T23:54:24.531691Z"
    }
   },
   "outputs": [],
   "source": [
    "model2 = keras.models.Sequential([\n",
    "    keras.layers.Conv2D(filters= 64, kernel_size=3,strides=1, activation='relu', padding='same',\n",
    "                       input_shape=[128,128,3]),\n",
    "    keras.layers.BatchNormalization(),\n",
    "    keras.layers.Activation('relu'),\n",
    "    keras.layers.MaxPooling2D(pool_size=2),\n",
    "    keras.layers.Conv2D(128,3, activation='relu',padding='same'),\n",
    "    keras.layers.Conv2D(128,3, activation='relu',padding='same'),\n",
    "    keras.layers.MaxPooling2D(pool_size=2),\n",
    "    keras.layers.Conv2D(256,3, activation='relu',padding='same'),\n",
    "    keras.layers.Conv2D(256,3, activation='relu',padding='same'),\n",
    "    keras.layers.MaxPooling2D(pool_size=2),\n",
    "    keras.layers.Flatten(),\n",
    "    keras.layers.BatchNormalization(),\n",
    "    keras.layers.Dense(1000, activation='relu'),\n",
    "    keras.layers.Dropout(0.25),\n",
    "    keras.layers.BatchNormalization(),\n",
    "    keras.layers.Dense(100, activation='relu'),\n",
    "    keras.layers.Dropout(0.25),\n",
    "    keras.layers.BatchNormalization(),\n",
    "    keras.layers.Dense(2, activation='softmax')\n",
    "])"
   ]
  },
  {
   "cell_type": "code",
   "execution_count": 22,
   "metadata": {
    "ExecuteTime": {
     "end_time": "2020-10-30T23:54:25.684576Z",
     "start_time": "2020-10-30T23:54:25.630426Z"
    }
   },
   "outputs": [],
   "source": [
    "optimizer = keras.optimizers.SGD(lr=.02, momentum=0.9, decay=0.01)\n",
    "model2.compile(loss=\"binary_crossentropy\", optimizer=optimizer, metrics=[\"accuracy\"])"
   ]
  },
  {
   "cell_type": "code",
   "execution_count": 23,
   "metadata": {
    "ExecuteTime": {
     "end_time": "2020-10-31T00:08:51.800410Z",
     "start_time": "2020-10-30T23:54:25.684576Z"
    }
   },
   "outputs": [
    {
     "name": "stdout",
     "output_type": "stream",
     "text": [
      "Epoch 1/5\n",
      "35/35 [==============================] - 157s 4s/step - loss: 0.8375 - accuracy: 0.4911 - val_loss: 7.6595 - val_accuracy: 0.4464\n",
      "Epoch 2/5\n",
      "35/35 [==============================] - 157s 4s/step - loss: 0.6998 - accuracy: 0.4839 - val_loss: 1.0358 - val_accuracy: 0.4464\n",
      "Epoch 3/5\n",
      "35/35 [==============================] - 182s 5s/step - loss: 0.6942 - accuracy: 0.4821 - val_loss: 0.6985 - val_accuracy: 0.4929\n",
      "Epoch 4/5\n",
      "35/35 [==============================] - 176s 5s/step - loss: 0.6934 - accuracy: 0.4982 - val_loss: 0.6934 - val_accuracy: 0.5250\n",
      "Epoch 5/5\n",
      "35/35 [==============================] - 168s 5s/step - loss: 0.6932 - accuracy: 0.5134 - val_loss: 0.6932 - val_accuracy: 0.5357\n",
      "Time elapsed\n",
      "0:14:26.053345\n",
      "Fit model on training data\n"
     ]
    },
    {
     "data": {
      "text/plain": [
       "{'loss': [0.8375232815742493,\n",
       "  0.699844479560852,\n",
       "  0.694226861000061,\n",
       "  0.6934159994125366,\n",
       "  0.6932228803634644],\n",
       " 'accuracy': [0.4910714328289032,\n",
       "  0.4839285612106323,\n",
       "  0.4821428656578064,\n",
       "  0.4982142746448517,\n",
       "  0.5133928656578064],\n",
       " 'val_loss': [7.659478664398193,\n",
       "  1.0357990264892578,\n",
       "  0.698529839515686,\n",
       "  0.693350076675415,\n",
       "  0.6931714415550232],\n",
       " 'val_accuracy': [0.4464285671710968,\n",
       "  0.4464285671710968,\n",
       "  0.4928571283817291,\n",
       "  0.5249999761581421,\n",
       "  0.5357142686843872]}"
      ]
     },
     "execution_count": 23,
     "metadata": {},
     "output_type": "execute_result"
    }
   ],
   "source": [
    "# fit model\n",
    "time_start = datetime.now()\n",
    "history2 = model2.fit(X_train_3, y_train_3, epochs=5, validation_data=(x_valid_3, y_valid_3))\n",
    "time_end = datetime.now()\n",
    "time_elapsed = time_end - time_start\n",
    "\n",
    "print('Time elapsed')\n",
    "print(time_elapsed)\n",
    "print(\"Fit model on training data\")\n",
    "history2.history"
   ]
  },
  {
   "cell_type": "code",
   "execution_count": 24,
   "metadata": {
    "ExecuteTime": {
     "end_time": "2020-10-31T00:09:34.669961Z",
     "start_time": "2020-10-31T00:08:51.800410Z"
    }
   },
   "outputs": [
    {
     "name": "stdout",
     "output_type": "stream",
     "text": [
      "Evaluate on test data\n",
      "19/19 [==============================] - 20s 1s/step - loss: 0.6932 - accuracy: 0.4967\n"
     ]
    },
    {
     "data": {
      "text/plain": [
       "array([[0.50097275, 0.4990273 ],\n",
       "       [0.5005776 , 0.49942234],\n",
       "       [0.49440962, 0.50559044],\n",
       "       ...,\n",
       "       [0.5021207 , 0.49787936],\n",
       "       [0.49824727, 0.50175273],\n",
       "       [0.49730712, 0.5026929 ]], dtype=float32)"
      ]
     },
     "execution_count": 24,
     "metadata": {},
     "output_type": "execute_result"
    }
   ],
   "source": [
    "print(\"Evaluate on test data\")\n",
    "score = model2.evaluate(x_test_3, y_test_3)\n",
    "predictions = model2.predict(x_test_3)\n",
    "predictions"
   ]
  },
  {
   "cell_type": "markdown",
   "metadata": {},
   "source": [
    "#### 3rd Model"
   ]
  },
  {
   "cell_type": "code",
   "execution_count": 25,
   "metadata": {
    "ExecuteTime": {
     "end_time": "2020-10-31T00:09:34.692624Z",
     "start_time": "2020-10-31T00:09:34.676996Z"
    }
   },
   "outputs": [],
   "source": [
    "#clear keras session\n",
    "tf.keras.backend.clear_session()"
   ]
  },
  {
   "cell_type": "code",
   "execution_count": 26,
   "metadata": {
    "ExecuteTime": {
     "end_time": "2020-10-31T00:09:35.694477Z",
     "start_time": "2020-10-31T00:09:34.692624Z"
    }
   },
   "outputs": [],
   "source": [
    "model3 = keras.models.Sequential([\n",
    "    keras.layers.Conv2D(filters= 64, kernel_size=3,strides=1, activation='relu', padding='same',\n",
    "                       input_shape=[128,128,3]),\n",
    "    keras.layers.BatchNormalization(),\n",
    "    keras.layers.Activation('relu'),\n",
    "    keras.layers.MaxPooling2D(pool_size=2),\n",
    "    keras.layers.Conv2D(128,3, activation='relu',padding='same'),\n",
    "    keras.layers.Conv2D(128,3, activation='relu',padding='same'),\n",
    "    keras.layers.MaxPooling2D(pool_size=2),\n",
    "    keras.layers.Conv2D(256,3, activation='relu',padding='same'),\n",
    "    keras.layers.Conv2D(256,3, activation='relu',padding='same'),\n",
    "    keras.layers.MaxPooling2D(pool_size=2),\n",
    "    keras.layers.Flatten(),\n",
    "    keras.layers.BatchNormalization(),\n",
    "    keras.layers.Dense(1000, activation='relu'),\n",
    "    keras.layers.Dropout(0.25),\n",
    "    keras.layers.BatchNormalization(),\n",
    "    keras.layers.Dense(100, activation='relu'),\n",
    "    keras.layers.Dropout(0.25),\n",
    "    keras.layers.BatchNormalization(),\n",
    "    keras.layers.Dense(2, activation='softmax')\n",
    "])"
   ]
  },
  {
   "cell_type": "code",
   "execution_count": 27,
   "metadata": {
    "ExecuteTime": {
     "end_time": "2020-10-31T00:09:35.734708Z",
     "start_time": "2020-10-31T00:09:35.696531Z"
    }
   },
   "outputs": [],
   "source": [
    "optimizer=tf.keras.optimizers.Adam(learning_rate=0.001,\n",
    "                                                 beta_1=0.9,\n",
    "                                                 beta_2=0.999)\n",
    "model3.compile(loss=tf.keras.losses.binary_crossentropy,\n",
    "              optimizer=optimizer,\n",
    "              metrics=['accuracy'])"
   ]
  },
  {
   "cell_type": "code",
   "execution_count": 28,
   "metadata": {
    "ExecuteTime": {
     "end_time": "2020-10-31T00:24:50.846673Z",
     "start_time": "2020-10-31T00:09:35.734708Z"
    }
   },
   "outputs": [
    {
     "name": "stdout",
     "output_type": "stream",
     "text": [
      "Epoch 1/5\n",
      "35/35 [==============================] - 166s 5s/step - loss: 0.9192 - accuracy: 0.4911 - val_loss: 7.5063 - val_accuracy: 0.4464\n",
      "Epoch 2/5\n",
      "35/35 [==============================] - 184s 5s/step - loss: 0.8137 - accuracy: 0.5000 - val_loss: 1.4621 - val_accuracy: 0.5000\n",
      "Epoch 3/5\n",
      "35/35 [==============================] - 173s 5s/step - loss: 0.7815 - accuracy: 0.5116 - val_loss: 1.9691 - val_accuracy: 0.5500\n",
      "Epoch 4/5\n",
      "35/35 [==============================] - 171s 5s/step - loss: 0.7722 - accuracy: 0.5071 - val_loss: 0.9387 - val_accuracy: 0.5250\n",
      "Epoch 5/5\n",
      "35/35 [==============================] - 193s 6s/step - loss: 0.7466 - accuracy: 0.5152 - val_loss: 0.7475 - val_accuracy: 0.5429\n",
      "Time elapsed\n",
      "0:15:15.070698\n",
      "Fit model on training data\n"
     ]
    },
    {
     "data": {
      "text/plain": [
       "{'loss': [0.9192102551460266,\n",
       "  0.8137125968933105,\n",
       "  0.7815183997154236,\n",
       "  0.7722200155258179,\n",
       "  0.7466049194335938],\n",
       " 'accuracy': [0.4910714328289032,\n",
       "  0.5,\n",
       "  0.5116071701049805,\n",
       "  0.5071428418159485,\n",
       "  0.5151785612106323],\n",
       " 'val_loss': [7.506314754486084,\n",
       "  1.4621055126190186,\n",
       "  1.9690730571746826,\n",
       "  0.938718318939209,\n",
       "  0.7475073933601379],\n",
       " 'val_accuracy': [0.4464285671710968,\n",
       "  0.5,\n",
       "  0.550000011920929,\n",
       "  0.5249999761581421,\n",
       "  0.5428571701049805]}"
      ]
     },
     "execution_count": 28,
     "metadata": {},
     "output_type": "execute_result"
    }
   ],
   "source": [
    "# fit model\n",
    "time_start = datetime.now()\n",
    "history3 = model3.fit(X_train_3, y_train_3, epochs=5, validation_data=(x_valid_3, y_valid_3))\n",
    "time_end = datetime.now()\n",
    "time_elapsed = time_end - time_start\n",
    "\n",
    "print('Time elapsed')\n",
    "print(time_elapsed)\n",
    "print(\"Fit model on training data\")\n",
    "history3.history"
   ]
  },
  {
   "cell_type": "code",
   "execution_count": 29,
   "metadata": {
    "ExecuteTime": {
     "end_time": "2020-10-31T00:25:40.166823Z",
     "start_time": "2020-10-31T00:24:50.862293Z"
    }
   },
   "outputs": [
    {
     "name": "stdout",
     "output_type": "stream",
     "text": [
      "Evaluate on test data\n",
      "19/19 [==============================] - 23s 1s/step - loss: 0.7485 - accuracy: 0.4683\n"
     ]
    },
    {
     "data": {
      "text/plain": [
       "array([[0.71046466, 0.2895354 ],\n",
       "       [0.4165964 , 0.58340365],\n",
       "       [0.5151246 , 0.48487535],\n",
       "       ...,\n",
       "       [0.65270674, 0.3472932 ],\n",
       "       [0.62614465, 0.3738553 ],\n",
       "       [0.7704488 , 0.22955123]], dtype=float32)"
      ]
     },
     "execution_count": 29,
     "metadata": {},
     "output_type": "execute_result"
    }
   ],
   "source": [
    "print(\"Evaluate on test data\")\n",
    "score = model3.evaluate(x_test_3, y_test_3)\n",
    "predictions = model3.predict(x_test_3)\n",
    "predictions"
   ]
  },
  {
   "cell_type": "markdown",
   "metadata": {},
   "source": [
    "#### 4th Model"
   ]
  },
  {
   "cell_type": "code",
   "execution_count": 30,
   "metadata": {
    "ExecuteTime": {
     "end_time": "2020-10-31T00:25:40.207228Z",
     "start_time": "2020-10-31T00:25:40.168872Z"
    }
   },
   "outputs": [],
   "source": [
    "#clear keras session\n",
    "tf.keras.backend.clear_session()"
   ]
  },
  {
   "cell_type": "code",
   "execution_count": 31,
   "metadata": {
    "ExecuteTime": {
     "end_time": "2020-10-31T00:25:42.826692Z",
     "start_time": "2020-10-31T00:25:40.207228Z"
    }
   },
   "outputs": [],
   "source": [
    "model4 = keras.models.Sequential([\n",
    "    keras.layers.Conv2D(filters= 64, kernel_size=(3,3),strides=1, activation='relu', padding='same',\n",
    "                       input_shape=[128,128,3]),\n",
    "    keras.layers.MaxPooling2D(pool_size=2),\n",
    "    keras.layers.Conv2D(128,3, activation='relu',padding='same'),\n",
    "    keras.layers.Conv2D(128,3, activation='relu',padding='same'),\n",
    "    keras.layers.MaxPooling2D(pool_size=2),\n",
    "    keras.layers.Conv2D(256,3, activation='relu',padding='same'),\n",
    "    keras.layers.Conv2D(256,3, activation='relu',padding='same'),\n",
    "    keras.layers.MaxPooling2D(pool_size=2),\n",
    "    keras.layers.Flatten(),\n",
    "    keras.layers.BatchNormalization(),\n",
    "    keras.layers.Dense(1000, activation='relu'),\n",
    "    keras.layers.Dropout(0.25),\n",
    "    keras.layers.BatchNormalization(),\n",
    "    keras.layers.Dense(100, activation='relu'),\n",
    "    keras.layers.Dropout(0.25),\n",
    "    keras.layers.BatchNormalization(),\n",
    "    keras.layers.Dense(2, activation='softmax')\n",
    "])"
   ]
  },
  {
   "cell_type": "code",
   "execution_count": 32,
   "metadata": {
    "ExecuteTime": {
     "end_time": "2020-10-31T00:25:42.866904Z",
     "start_time": "2020-10-31T00:25:42.826692Z"
    }
   },
   "outputs": [],
   "source": [
    "optimizer=tf.keras.optimizers.Adam(learning_rate=0.001,\n",
    "                                                 beta_1=0.9,\n",
    "                                                 beta_2=0.999)\n",
    "model4.compile(loss=tf.keras.losses.binary_crossentropy,\n",
    "              optimizer=optimizer,\n",
    "              metrics=['accuracy'])"
   ]
  },
  {
   "cell_type": "code",
   "execution_count": 33,
   "metadata": {
    "ExecuteTime": {
     "end_time": "2020-10-31T01:40:32.879564Z",
     "start_time": "2020-10-31T00:25:42.866904Z"
    }
   },
   "outputs": [
    {
     "name": "stdout",
     "output_type": "stream",
     "text": [
      "Epoch 1/30\n",
      "35/35 [==============================] - 148s 4s/step - loss: 0.8935 - accuracy: 0.4964 - val_loss: 5.1348 - val_accuracy: 0.5393\n",
      "Epoch 2/30\n",
      "35/35 [==============================] - 143s 4s/step - loss: 0.8098 - accuracy: 0.4884 - val_loss: 1.6549 - val_accuracy: 0.5143\n",
      "Epoch 3/30\n",
      "35/35 [==============================] - 138s 4s/step - loss: 0.7871 - accuracy: 0.5152 - val_loss: 0.8480 - val_accuracy: 0.5000\n",
      "Epoch 4/30\n",
      "35/35 [==============================] - 128s 4s/step - loss: 0.7616 - accuracy: 0.4786 - val_loss: 0.7294 - val_accuracy: 0.5321\n",
      "Epoch 5/30\n",
      "35/35 [==============================] - 127s 4s/step - loss: 0.7451 - accuracy: 0.5196 - val_loss: 0.7055 - val_accuracy: 0.5714\n",
      "Epoch 6/30\n",
      "35/35 [==============================] - 124s 4s/step - loss: 0.7299 - accuracy: 0.4982 - val_loss: 0.7198 - val_accuracy: 0.5143\n",
      "Epoch 7/30\n",
      "35/35 [==============================] - 235s 7s/step - loss: 0.7235 - accuracy: 0.5143 - val_loss: 0.7050 - val_accuracy: 0.4964\n",
      "Epoch 8/30\n",
      "35/35 [==============================] - 152s 4s/step - loss: 0.7151 - accuracy: 0.5018 - val_loss: 0.6982 - val_accuracy: 0.5143\n",
      "Epoch 9/30\n",
      "35/35 [==============================] - 134s 4s/step - loss: 0.7111 - accuracy: 0.5321 - val_loss: 0.6942 - val_accuracy: 0.5214\n",
      "Epoch 10/30\n",
      "35/35 [==============================] - 136s 4s/step - loss: 0.7063 - accuracy: 0.4946 - val_loss: 0.6944 - val_accuracy: 0.5179\n",
      "Epoch 11/30\n",
      "35/35 [==============================] - 133s 4s/step - loss: 0.7016 - accuracy: 0.5036 - val_loss: 0.6935 - val_accuracy: 0.5643\n",
      "Epoch 12/30\n",
      "35/35 [==============================] - 136s 4s/step - loss: 0.6994 - accuracy: 0.5116 - val_loss: 0.6936 - val_accuracy: 0.4929\n",
      "Epoch 13/30\n",
      "35/35 [==============================] - 151s 4s/step - loss: 0.6973 - accuracy: 0.5018 - val_loss: 0.6933 - val_accuracy: 0.5393\n",
      "Epoch 14/30\n",
      "35/35 [==============================] - 151s 4s/step - loss: 0.6962 - accuracy: 0.5080 - val_loss: 0.6933 - val_accuracy: 0.4750\n",
      "Epoch 15/30\n",
      "35/35 [==============================] - 143s 4s/step - loss: 0.6955 - accuracy: 0.5214 - val_loss: 0.6933 - val_accuracy: 0.4714\n",
      "Epoch 16/30\n",
      "35/35 [==============================] - 146s 4s/step - loss: 0.6946 - accuracy: 0.4786 - val_loss: 0.6932 - val_accuracy: 0.5179\n",
      "Epoch 17/30\n",
      "35/35 [==============================] - 181s 5s/step - loss: 0.6940 - accuracy: 0.4893 - val_loss: 0.6932 - val_accuracy: 0.5036\n",
      "Epoch 18/30\n",
      "35/35 [==============================] - 144s 4s/step - loss: 0.6937 - accuracy: 0.5152 - val_loss: 0.6932 - val_accuracy: 0.5214\n",
      "Epoch 19/30\n",
      "35/35 [==============================] - 140s 4s/step - loss: 0.6935 - accuracy: 0.4759 - val_loss: 0.6932 - val_accuracy: 0.5143\n",
      "Epoch 20/30\n",
      "35/35 [==============================] - 136s 4s/step - loss: 0.6934 - accuracy: 0.4821 - val_loss: 0.6932 - val_accuracy: 0.5786\n",
      "Epoch 21/30\n",
      "35/35 [==============================] - 142s 4s/step - loss: 0.6933 - accuracy: 0.4839 - val_loss: 0.6932 - val_accuracy: 0.5929\n",
      "Epoch 22/30\n",
      "35/35 [==============================] - 142s 4s/step - loss: 0.6933 - accuracy: 0.5295 - val_loss: 0.6932 - val_accuracy: 0.5500\n",
      "Epoch 23/30\n",
      "35/35 [==============================] - 138s 4s/step - loss: 0.6932 - accuracy: 0.4982 - val_loss: 0.6931 - val_accuracy: 0.4500\n",
      "Epoch 24/30\n",
      "35/35 [==============================] - 139s 4s/step - loss: 0.6932 - accuracy: 0.4580 - val_loss: 0.6932 - val_accuracy: 0.5357\n",
      "Epoch 25/30\n",
      "35/35 [==============================] - 175s 5s/step - loss: 0.6932 - accuracy: 0.5134 - val_loss: 0.6931 - val_accuracy: 0.4964\n",
      "Epoch 26/30\n",
      "35/35 [==============================] - 143s 4s/step - loss: 0.6932 - accuracy: 0.5080 - val_loss: 0.6931 - val_accuracy: 0.4893\n",
      "Epoch 27/30\n",
      "35/35 [==============================] - 138s 4s/step - loss: 0.6932 - accuracy: 0.4973 - val_loss: 0.6931 - val_accuracy: 0.4786\n",
      "Epoch 28/30\n",
      "35/35 [==============================] - 132s 4s/step - loss: 0.6932 - accuracy: 0.5045 - val_loss: 0.6931 - val_accuracy: 0.5393\n",
      "Epoch 29/30\n",
      "35/35 [==============================] - 150s 4s/step - loss: 0.6932 - accuracy: 0.4777 - val_loss: 0.6931 - val_accuracy: 0.5179\n",
      "Epoch 30/30\n",
      "35/35 [==============================] - 142s 4s/step - loss: 0.6931 - accuracy: 0.4911 - val_loss: 0.6931 - val_accuracy: 0.5071\n",
      "Time elapsed\n",
      "1:14:49.908909\n",
      "Fit model on training data\n"
     ]
    },
    {
     "data": {
      "text/plain": [
       "{'loss': [0.893451988697052,\n",
       "  0.8098247051239014,\n",
       "  0.7870779037475586,\n",
       "  0.7616016268730164,\n",
       "  0.7450919151306152,\n",
       "  0.7299392223358154,\n",
       "  0.7235498428344727,\n",
       "  0.7150565385818481,\n",
       "  0.7110903263092041,\n",
       "  0.7062570452690125,\n",
       "  0.7015829086303711,\n",
       "  0.6993505954742432,\n",
       "  0.6972599625587463,\n",
       "  0.6961533427238464,\n",
       "  0.6954903602600098,\n",
       "  0.6946434378623962,\n",
       "  0.6939894556999207,\n",
       "  0.6936895251274109,\n",
       "  0.6935034394264221,\n",
       "  0.6933761239051819,\n",
       "  0.6933070421218872,\n",
       "  0.6932669281959534,\n",
       "  0.6932176947593689,\n",
       "  0.6931871175765991,\n",
       "  0.6931712627410889,\n",
       "  0.6931636929512024,\n",
       "  0.6931569576263428,\n",
       "  0.6931530237197876,\n",
       "  0.6931505799293518,\n",
       "  0.6931489109992981],\n",
       " 'accuracy': [0.49642857909202576,\n",
       "  0.4883928596973419,\n",
       "  0.5151785612106323,\n",
       "  0.47857141494750977,\n",
       "  0.5196428298950195,\n",
       "  0.4982142746448517,\n",
       "  0.5142857432365417,\n",
       "  0.5017856955528259,\n",
       "  0.5321428775787354,\n",
       "  0.49464285373687744,\n",
       "  0.5035714507102966,\n",
       "  0.5116071701049805,\n",
       "  0.5017856955528259,\n",
       "  0.5080357193946838,\n",
       "  0.5214285850524902,\n",
       "  0.47857141494750977,\n",
       "  0.4892857074737549,\n",
       "  0.5151785612106323,\n",
       "  0.4758928716182709,\n",
       "  0.4821428656578064,\n",
       "  0.4839285612106323,\n",
       "  0.5294643044471741,\n",
       "  0.4982142746448517,\n",
       "  0.4580357074737549,\n",
       "  0.5133928656578064,\n",
       "  0.5080357193946838,\n",
       "  0.4973214268684387,\n",
       "  0.5044642686843872,\n",
       "  0.4776785671710968,\n",
       "  0.4910714328289032],\n",
       " 'val_loss': [5.134833812713623,\n",
       "  1.654882788658142,\n",
       "  0.848028838634491,\n",
       "  0.7294098734855652,\n",
       "  0.7055150270462036,\n",
       "  0.7197879552841187,\n",
       "  0.7049644589424133,\n",
       "  0.698216438293457,\n",
       "  0.6942344307899475,\n",
       "  0.6943554878234863,\n",
       "  0.6934895515441895,\n",
       "  0.6935612559318542,\n",
       "  0.6933035254478455,\n",
       "  0.6932578682899475,\n",
       "  0.693314790725708,\n",
       "  0.6931917667388916,\n",
       "  0.6931766271591187,\n",
       "  0.6931679248809814,\n",
       "  0.6931670308113098,\n",
       "  0.6931576132774353,\n",
       "  0.6931527853012085,\n",
       "  0.6931512951850891,\n",
       "  0.6931493282318115,\n",
       "  0.6931508183479309,\n",
       "  0.6931494474411011,\n",
       "  0.6931474804878235,\n",
       "  0.6931479573249817,\n",
       "  0.6931471824645996,\n",
       "  0.6931471228599548,\n",
       "  0.6931471824645996],\n",
       " 'val_accuracy': [0.5392857193946838,\n",
       "  0.5142857432365417,\n",
       "  0.5,\n",
       "  0.5321428775787354,\n",
       "  0.5714285969734192,\n",
       "  0.5142857432365417,\n",
       "  0.49642857909202576,\n",
       "  0.5142857432365417,\n",
       "  0.5214285850524902,\n",
       "  0.5178571343421936,\n",
       "  0.5642856955528259,\n",
       "  0.4928571283817291,\n",
       "  0.5392857193946838,\n",
       "  0.4749999940395355,\n",
       "  0.4714285731315613,\n",
       "  0.5178571343421936,\n",
       "  0.5035714507102966,\n",
       "  0.5214285850524902,\n",
       "  0.5142857432365417,\n",
       "  0.5785714387893677,\n",
       "  0.5928571224212646,\n",
       "  0.550000011920929,\n",
       "  0.44999998807907104,\n",
       "  0.5357142686843872,\n",
       "  0.49642857909202576,\n",
       "  0.4892857074737549,\n",
       "  0.47857141494750977,\n",
       "  0.5392857193946838,\n",
       "  0.5178571343421936,\n",
       "  0.5071428418159485]}"
      ]
     },
     "execution_count": 33,
     "metadata": {},
     "output_type": "execute_result"
    }
   ],
   "source": [
    "# fit model\n",
    "time_start = datetime.now()\n",
    "history4 = model4.fit(X_train_3, y_train_3, epochs=30, validation_data=(x_valid_3, y_valid_3))\n",
    "time_end = datetime.now()\n",
    "time_elapsed = time_end - time_start\n",
    "\n",
    "print('Time elapsed')\n",
    "print(time_elapsed)\n",
    "print(\"Fit model on training data\")\n",
    "history4.history"
   ]
  },
  {
   "cell_type": "code",
   "execution_count": 34,
   "metadata": {
    "ExecuteTime": {
     "end_time": "2020-10-31T01:41:15.738799Z",
     "start_time": "2020-10-31T01:40:32.917386Z"
    }
   },
   "outputs": [
    {
     "name": "stdout",
     "output_type": "stream",
     "text": [
      "Evaluate on test data\n",
      "19/19 [==============================] - 20s 1s/step - loss: 0.6931 - accuracy: 0.5033\n"
     ]
    },
    {
     "data": {
      "text/plain": [
       "array([[0.49984252, 0.50015754],\n",
       "       [0.49961546, 0.5003845 ],\n",
       "       [0.50019634, 0.49980366],\n",
       "       ...,\n",
       "       [0.5002598 , 0.49974012],\n",
       "       [0.49968863, 0.5003113 ],\n",
       "       [0.50026023, 0.49973977]], dtype=float32)"
      ]
     },
     "execution_count": 34,
     "metadata": {},
     "output_type": "execute_result"
    }
   ],
   "source": [
    "print(\"Evaluate on test data\")\n",
    "score = model4.evaluate(x_test_3, y_test_3)\n",
    "predictions = model4.predict(x_test_3)\n",
    "predictions"
   ]
  },
  {
   "cell_type": "code",
   "execution_count": null,
   "metadata": {},
   "outputs": [],
   "source": []
  }
 ],
 "metadata": {
  "kernelspec": {
   "display_name": "Python 3",
   "language": "python",
   "name": "python3"
  },
  "language_info": {
   "codemirror_mode": {
    "name": "ipython",
    "version": 3
   },
   "file_extension": ".py",
   "mimetype": "text/x-python",
   "name": "python",
   "nbconvert_exporter": "python",
   "pygments_lexer": "ipython3",
   "version": "3.7.3"
  },
  "toc": {
   "base_numbering": 1,
   "nav_menu": {},
   "number_sections": true,
   "sideBar": true,
   "skip_h1_title": false,
   "title_cell": "Table of Contents",
   "title_sidebar": "Contents",
   "toc_cell": false,
   "toc_position": {},
   "toc_section_display": true,
   "toc_window_display": false
  }
 },
 "nbformat": 4,
 "nbformat_minor": 4
}
