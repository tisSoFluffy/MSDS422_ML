{
 "cells": [
  {
   "cell_type": "markdown",
   "metadata": {},
   "source": [
    "# Assignment 5 - Group 1"
   ]
  },
  {
   "cell_type": "markdown",
   "metadata": {},
   "source": [
    "## Kaggle Submission ID:"
   ]
  },
  {
   "cell_type": "markdown",
   "metadata": {},
   "source": [
    "## Import Libraries"
   ]
  },
  {
   "cell_type": "code",
   "execution_count": 62,
   "metadata": {},
   "outputs": [],
   "source": [
    "import pandas as pd\n",
    "import numpy as np\n",
    "import matplotlib.pyplot as plt\n",
    "%matplotlib inline\n",
    "import seaborn as sns\n",
    "sns.set(style='darkgrid')\n",
    "import datetime\n",
    "\n",
    "from sklearn.decomposition import PCA\n",
    "from sklearn.metrics import accuracy_score\n",
    "from sklearn.model_selection import train_test_split\n",
    "\n",
    "#Classifiers\n",
    "from sklearn.ensemble import RandomForestClassifier"
   ]
  },
  {
   "cell_type": "markdown",
   "metadata": {},
   "source": [
    "## Import & explore data"
   ]
  },
  {
   "cell_type": "code",
   "execution_count": 63,
   "metadata": {},
   "outputs": [],
   "source": [
    "data = pd.read_csv('train.csv')\n",
    "test_data = pd.read_csv('test.csv')"
   ]
  },
  {
   "cell_type": "code",
   "execution_count": 64,
   "metadata": {},
   "outputs": [
    {
     "output_type": "stream",
     "name": "stdout",
     "text": [
      "<class 'pandas.core.frame.DataFrame'>\nRangeIndex: 42000 entries, 0 to 41999\nColumns: 785 entries, label to pixel783\ndtypes: int64(785)\nmemory usage: 251.5 MB\n"
     ]
    }
   ],
   "source": [
    "data.info()"
   ]
  },
  {
   "cell_type": "code",
   "execution_count": 65,
   "metadata": {},
   "outputs": [
    {
     "output_type": "execute_result",
     "data": {
      "text/plain": [
       "0    4132\n",
       "1    4684\n",
       "2    4177\n",
       "3    4351\n",
       "4    4072\n",
       "5    3795\n",
       "6    4137\n",
       "7    4401\n",
       "8    4063\n",
       "9    4188\n",
       "Name: label, dtype: int64"
      ]
     },
     "metadata": {},
     "execution_count": 65
    }
   ],
   "source": [
    "data['label'].value_counts().sort_index()"
   ]
  },
  {
   "cell_type": "code",
   "execution_count": 66,
   "metadata": {},
   "outputs": [
    {
     "output_type": "stream",
     "name": "stdout",
     "text": [
      "<class 'pandas.core.frame.DataFrame'>\nRangeIndex: 28000 entries, 0 to 27999\nColumns: 784 entries, pixel0 to pixel783\ndtypes: int64(784)\nmemory usage: 167.5 MB\n"
     ]
    }
   ],
   "source": [
    "test_data.info()"
   ]
  },
  {
   "cell_type": "code",
   "execution_count": 67,
   "metadata": {},
   "outputs": [
    {
     "output_type": "execute_result",
     "data": {
      "text/plain": [
       "   label  pixel0  pixel1  pixel2  pixel3  pixel4  pixel5  pixel6  pixel7  \\\n",
       "0      1       0       0       0       0       0       0       0       0   \n",
       "1      0       0       0       0       0       0       0       0       0   \n",
       "2      1       0       0       0       0       0       0       0       0   \n",
       "3      4       0       0       0       0       0       0       0       0   \n",
       "4      0       0       0       0       0       0       0       0       0   \n",
       "\n",
       "   pixel8  ...  pixel774  pixel775  pixel776  pixel777  pixel778  pixel779  \\\n",
       "0       0  ...         0         0         0         0         0         0   \n",
       "1       0  ...         0         0         0         0         0         0   \n",
       "2       0  ...         0         0         0         0         0         0   \n",
       "3       0  ...         0         0         0         0         0         0   \n",
       "4       0  ...         0         0         0         0         0         0   \n",
       "\n",
       "   pixel780  pixel781  pixel782  pixel783  \n",
       "0         0         0         0         0  \n",
       "1         0         0         0         0  \n",
       "2         0         0         0         0  \n",
       "3         0         0         0         0  \n",
       "4         0         0         0         0  \n",
       "\n",
       "[5 rows x 785 columns]"
      ],
      "text/html": "<div>\n<style scoped>\n    .dataframe tbody tr th:only-of-type {\n        vertical-align: middle;\n    }\n\n    .dataframe tbody tr th {\n        vertical-align: top;\n    }\n\n    .dataframe thead th {\n        text-align: right;\n    }\n</style>\n<table border=\"1\" class=\"dataframe\">\n  <thead>\n    <tr style=\"text-align: right;\">\n      <th></th>\n      <th>label</th>\n      <th>pixel0</th>\n      <th>pixel1</th>\n      <th>pixel2</th>\n      <th>pixel3</th>\n      <th>pixel4</th>\n      <th>pixel5</th>\n      <th>pixel6</th>\n      <th>pixel7</th>\n      <th>pixel8</th>\n      <th>...</th>\n      <th>pixel774</th>\n      <th>pixel775</th>\n      <th>pixel776</th>\n      <th>pixel777</th>\n      <th>pixel778</th>\n      <th>pixel779</th>\n      <th>pixel780</th>\n      <th>pixel781</th>\n      <th>pixel782</th>\n      <th>pixel783</th>\n    </tr>\n  </thead>\n  <tbody>\n    <tr>\n      <th>0</th>\n      <td>1</td>\n      <td>0</td>\n      <td>0</td>\n      <td>0</td>\n      <td>0</td>\n      <td>0</td>\n      <td>0</td>\n      <td>0</td>\n      <td>0</td>\n      <td>0</td>\n      <td>...</td>\n      <td>0</td>\n      <td>0</td>\n      <td>0</td>\n      <td>0</td>\n      <td>0</td>\n      <td>0</td>\n      <td>0</td>\n      <td>0</td>\n      <td>0</td>\n      <td>0</td>\n    </tr>\n    <tr>\n      <th>1</th>\n      <td>0</td>\n      <td>0</td>\n      <td>0</td>\n      <td>0</td>\n      <td>0</td>\n      <td>0</td>\n      <td>0</td>\n      <td>0</td>\n      <td>0</td>\n      <td>0</td>\n      <td>...</td>\n      <td>0</td>\n      <td>0</td>\n      <td>0</td>\n      <td>0</td>\n      <td>0</td>\n      <td>0</td>\n      <td>0</td>\n      <td>0</td>\n      <td>0</td>\n      <td>0</td>\n    </tr>\n    <tr>\n      <th>2</th>\n      <td>1</td>\n      <td>0</td>\n      <td>0</td>\n      <td>0</td>\n      <td>0</td>\n      <td>0</td>\n      <td>0</td>\n      <td>0</td>\n      <td>0</td>\n      <td>0</td>\n      <td>...</td>\n      <td>0</td>\n      <td>0</td>\n      <td>0</td>\n      <td>0</td>\n      <td>0</td>\n      <td>0</td>\n      <td>0</td>\n      <td>0</td>\n      <td>0</td>\n      <td>0</td>\n    </tr>\n    <tr>\n      <th>3</th>\n      <td>4</td>\n      <td>0</td>\n      <td>0</td>\n      <td>0</td>\n      <td>0</td>\n      <td>0</td>\n      <td>0</td>\n      <td>0</td>\n      <td>0</td>\n      <td>0</td>\n      <td>...</td>\n      <td>0</td>\n      <td>0</td>\n      <td>0</td>\n      <td>0</td>\n      <td>0</td>\n      <td>0</td>\n      <td>0</td>\n      <td>0</td>\n      <td>0</td>\n      <td>0</td>\n    </tr>\n    <tr>\n      <th>4</th>\n      <td>0</td>\n      <td>0</td>\n      <td>0</td>\n      <td>0</td>\n      <td>0</td>\n      <td>0</td>\n      <td>0</td>\n      <td>0</td>\n      <td>0</td>\n      <td>0</td>\n      <td>...</td>\n      <td>0</td>\n      <td>0</td>\n      <td>0</td>\n      <td>0</td>\n      <td>0</td>\n      <td>0</td>\n      <td>0</td>\n      <td>0</td>\n      <td>0</td>\n      <td>0</td>\n    </tr>\n  </tbody>\n</table>\n<p>5 rows × 785 columns</p>\n</div>"
     },
     "metadata": {},
     "execution_count": 67
    }
   ],
   "source": [
    "data.head()"
   ]
  },
  {
   "cell_type": "code",
   "execution_count": 68,
   "metadata": {},
   "outputs": [
    {
     "output_type": "execute_result",
     "data": {
      "text/plain": [
       "              label   pixel0   pixel1   pixel2   pixel3   pixel4   pixel5  \\\n",
       "count  42000.000000  42000.0  42000.0  42000.0  42000.0  42000.0  42000.0   \n",
       "mean       4.456643      0.0      0.0      0.0      0.0      0.0      0.0   \n",
       "std        2.887730      0.0      0.0      0.0      0.0      0.0      0.0   \n",
       "min        0.000000      0.0      0.0      0.0      0.0      0.0      0.0   \n",
       "25%        2.000000      0.0      0.0      0.0      0.0      0.0      0.0   \n",
       "50%        4.000000      0.0      0.0      0.0      0.0      0.0      0.0   \n",
       "75%        7.000000      0.0      0.0      0.0      0.0      0.0      0.0   \n",
       "max        9.000000      0.0      0.0      0.0      0.0      0.0      0.0   \n",
       "\n",
       "        pixel6   pixel7   pixel8  ...      pixel774      pixel775  \\\n",
       "count  42000.0  42000.0  42000.0  ...  42000.000000  42000.000000   \n",
       "mean       0.0      0.0      0.0  ...      0.219286      0.117095   \n",
       "std        0.0      0.0      0.0  ...      6.312890      4.633819   \n",
       "min        0.0      0.0      0.0  ...      0.000000      0.000000   \n",
       "25%        0.0      0.0      0.0  ...      0.000000      0.000000   \n",
       "50%        0.0      0.0      0.0  ...      0.000000      0.000000   \n",
       "75%        0.0      0.0      0.0  ...      0.000000      0.000000   \n",
       "max        0.0      0.0      0.0  ...    254.000000    254.000000   \n",
       "\n",
       "           pixel776     pixel777      pixel778      pixel779  pixel780  \\\n",
       "count  42000.000000  42000.00000  42000.000000  42000.000000   42000.0   \n",
       "mean       0.059024      0.02019      0.017238      0.002857       0.0   \n",
       "std        3.274488      1.75987      1.894498      0.414264       0.0   \n",
       "min        0.000000      0.00000      0.000000      0.000000       0.0   \n",
       "25%        0.000000      0.00000      0.000000      0.000000       0.0   \n",
       "50%        0.000000      0.00000      0.000000      0.000000       0.0   \n",
       "75%        0.000000      0.00000      0.000000      0.000000       0.0   \n",
       "max      253.000000    253.00000    254.000000     62.000000       0.0   \n",
       "\n",
       "       pixel781  pixel782  pixel783  \n",
       "count   42000.0   42000.0   42000.0  \n",
       "mean        0.0       0.0       0.0  \n",
       "std         0.0       0.0       0.0  \n",
       "min         0.0       0.0       0.0  \n",
       "25%         0.0       0.0       0.0  \n",
       "50%         0.0       0.0       0.0  \n",
       "75%         0.0       0.0       0.0  \n",
       "max         0.0       0.0       0.0  \n",
       "\n",
       "[8 rows x 785 columns]"
      ],
      "text/html": "<div>\n<style scoped>\n    .dataframe tbody tr th:only-of-type {\n        vertical-align: middle;\n    }\n\n    .dataframe tbody tr th {\n        vertical-align: top;\n    }\n\n    .dataframe thead th {\n        text-align: right;\n    }\n</style>\n<table border=\"1\" class=\"dataframe\">\n  <thead>\n    <tr style=\"text-align: right;\">\n      <th></th>\n      <th>label</th>\n      <th>pixel0</th>\n      <th>pixel1</th>\n      <th>pixel2</th>\n      <th>pixel3</th>\n      <th>pixel4</th>\n      <th>pixel5</th>\n      <th>pixel6</th>\n      <th>pixel7</th>\n      <th>pixel8</th>\n      <th>...</th>\n      <th>pixel774</th>\n      <th>pixel775</th>\n      <th>pixel776</th>\n      <th>pixel777</th>\n      <th>pixel778</th>\n      <th>pixel779</th>\n      <th>pixel780</th>\n      <th>pixel781</th>\n      <th>pixel782</th>\n      <th>pixel783</th>\n    </tr>\n  </thead>\n  <tbody>\n    <tr>\n      <th>count</th>\n      <td>42000.000000</td>\n      <td>42000.0</td>\n      <td>42000.0</td>\n      <td>42000.0</td>\n      <td>42000.0</td>\n      <td>42000.0</td>\n      <td>42000.0</td>\n      <td>42000.0</td>\n      <td>42000.0</td>\n      <td>42000.0</td>\n      <td>...</td>\n      <td>42000.000000</td>\n      <td>42000.000000</td>\n      <td>42000.000000</td>\n      <td>42000.00000</td>\n      <td>42000.000000</td>\n      <td>42000.000000</td>\n      <td>42000.0</td>\n      <td>42000.0</td>\n      <td>42000.0</td>\n      <td>42000.0</td>\n    </tr>\n    <tr>\n      <th>mean</th>\n      <td>4.456643</td>\n      <td>0.0</td>\n      <td>0.0</td>\n      <td>0.0</td>\n      <td>0.0</td>\n      <td>0.0</td>\n      <td>0.0</td>\n      <td>0.0</td>\n      <td>0.0</td>\n      <td>0.0</td>\n      <td>...</td>\n      <td>0.219286</td>\n      <td>0.117095</td>\n      <td>0.059024</td>\n      <td>0.02019</td>\n      <td>0.017238</td>\n      <td>0.002857</td>\n      <td>0.0</td>\n      <td>0.0</td>\n      <td>0.0</td>\n      <td>0.0</td>\n    </tr>\n    <tr>\n      <th>std</th>\n      <td>2.887730</td>\n      <td>0.0</td>\n      <td>0.0</td>\n      <td>0.0</td>\n      <td>0.0</td>\n      <td>0.0</td>\n      <td>0.0</td>\n      <td>0.0</td>\n      <td>0.0</td>\n      <td>0.0</td>\n      <td>...</td>\n      <td>6.312890</td>\n      <td>4.633819</td>\n      <td>3.274488</td>\n      <td>1.75987</td>\n      <td>1.894498</td>\n      <td>0.414264</td>\n      <td>0.0</td>\n      <td>0.0</td>\n      <td>0.0</td>\n      <td>0.0</td>\n    </tr>\n    <tr>\n      <th>min</th>\n      <td>0.000000</td>\n      <td>0.0</td>\n      <td>0.0</td>\n      <td>0.0</td>\n      <td>0.0</td>\n      <td>0.0</td>\n      <td>0.0</td>\n      <td>0.0</td>\n      <td>0.0</td>\n      <td>0.0</td>\n      <td>...</td>\n      <td>0.000000</td>\n      <td>0.000000</td>\n      <td>0.000000</td>\n      <td>0.00000</td>\n      <td>0.000000</td>\n      <td>0.000000</td>\n      <td>0.0</td>\n      <td>0.0</td>\n      <td>0.0</td>\n      <td>0.0</td>\n    </tr>\n    <tr>\n      <th>25%</th>\n      <td>2.000000</td>\n      <td>0.0</td>\n      <td>0.0</td>\n      <td>0.0</td>\n      <td>0.0</td>\n      <td>0.0</td>\n      <td>0.0</td>\n      <td>0.0</td>\n      <td>0.0</td>\n      <td>0.0</td>\n      <td>...</td>\n      <td>0.000000</td>\n      <td>0.000000</td>\n      <td>0.000000</td>\n      <td>0.00000</td>\n      <td>0.000000</td>\n      <td>0.000000</td>\n      <td>0.0</td>\n      <td>0.0</td>\n      <td>0.0</td>\n      <td>0.0</td>\n    </tr>\n    <tr>\n      <th>50%</th>\n      <td>4.000000</td>\n      <td>0.0</td>\n      <td>0.0</td>\n      <td>0.0</td>\n      <td>0.0</td>\n      <td>0.0</td>\n      <td>0.0</td>\n      <td>0.0</td>\n      <td>0.0</td>\n      <td>0.0</td>\n      <td>...</td>\n      <td>0.000000</td>\n      <td>0.000000</td>\n      <td>0.000000</td>\n      <td>0.00000</td>\n      <td>0.000000</td>\n      <td>0.000000</td>\n      <td>0.0</td>\n      <td>0.0</td>\n      <td>0.0</td>\n      <td>0.0</td>\n    </tr>\n    <tr>\n      <th>75%</th>\n      <td>7.000000</td>\n      <td>0.0</td>\n      <td>0.0</td>\n      <td>0.0</td>\n      <td>0.0</td>\n      <td>0.0</td>\n      <td>0.0</td>\n      <td>0.0</td>\n      <td>0.0</td>\n      <td>0.0</td>\n      <td>...</td>\n      <td>0.000000</td>\n      <td>0.000000</td>\n      <td>0.000000</td>\n      <td>0.00000</td>\n      <td>0.000000</td>\n      <td>0.000000</td>\n      <td>0.0</td>\n      <td>0.0</td>\n      <td>0.0</td>\n      <td>0.0</td>\n    </tr>\n    <tr>\n      <th>max</th>\n      <td>9.000000</td>\n      <td>0.0</td>\n      <td>0.0</td>\n      <td>0.0</td>\n      <td>0.0</td>\n      <td>0.0</td>\n      <td>0.0</td>\n      <td>0.0</td>\n      <td>0.0</td>\n      <td>0.0</td>\n      <td>...</td>\n      <td>254.000000</td>\n      <td>254.000000</td>\n      <td>253.000000</td>\n      <td>253.00000</td>\n      <td>254.000000</td>\n      <td>62.000000</td>\n      <td>0.0</td>\n      <td>0.0</td>\n      <td>0.0</td>\n      <td>0.0</td>\n    </tr>\n  </tbody>\n</table>\n<p>8 rows × 785 columns</p>\n</div>"
     },
     "metadata": {},
     "execution_count": 68
    }
   ],
   "source": [
    "data.describe()"
   ]
  },
  {
   "cell_type": "code",
   "execution_count": 69,
   "metadata": {},
   "outputs": [],
   "source": [
    "# Split training data & extract labels\n",
    "\n",
    "train_set, test_set = train_test_split(data, test_size=0.2, random_state = 42)\n",
    "y_train = train_set['label']\n",
    "X_train = train_set.drop('label', axis=1)\n",
    "y_test = test_set['label']\n",
    "X_test = test_set.drop('label', axis=1)"
   ]
  },
  {
   "cell_type": "code",
   "execution_count": 70,
   "metadata": {},
   "outputs": [
    {
     "output_type": "execute_result",
     "data": {
      "text/plain": [
       "(33600, 784)"
      ]
     },
     "metadata": {},
     "execution_count": 70
    }
   ],
   "source": [
    "#Shape of the data\n",
    "X_train.shape"
   ]
  },
  {
   "cell_type": "code",
   "execution_count": 71,
   "metadata": {},
   "outputs": [
    {
     "output_type": "execute_result",
     "data": {
      "text/plain": [
       "(8400, 784)"
      ]
     },
     "metadata": {},
     "execution_count": 71
    }
   ],
   "source": [
    "X_test.shape"
   ]
  },
  {
   "cell_type": "markdown",
   "metadata": {},
   "source": [
    "## 1. Fitting a Random Forest Classifier"
   ]
  },
  {
   "cell_type": "code",
   "execution_count": 72,
   "metadata": {},
   "outputs": [
    {
     "output_type": "stream",
     "name": "stdout",
     "text": [
      "Random classifier took 0:00:23.045313 seconds to run on raw data\n"
     ]
    }
   ],
   "source": [
    "rnd_clf = RandomForestClassifier()\n",
    "start = datetime.datetime.now()\n",
    "rnd_clf.fit(X_train,y_train)\n",
    "end = datetime.datetime.now()\n",
    "print(f'Random classifier took {end - start} seconds to run on raw data')"
   ]
  },
  {
   "cell_type": "code",
   "execution_count": 73,
   "metadata": {},
   "outputs": [],
   "source": [
    "y_pred = rnd_clf.predict(X_test)"
   ]
  },
  {
   "cell_type": "code",
   "execution_count": 74,
   "metadata": {},
   "outputs": [
    {
     "output_type": "execute_result",
     "data": {
      "text/plain": [
       "0.9633333333333334"
      ]
     },
     "metadata": {},
     "execution_count": 74
    }
   ],
   "source": [
    "accuracy_score(y_test,y_pred)"
   ]
  },
  {
   "cell_type": "markdown",
   "metadata": {},
   "source": [
    "# Kaggle Score is:"
   ]
  },
  {
   "cell_type": "markdown",
   "metadata": {},
   "source": [
    "## 2. Perform PCA on the combined training and test set data together"
   ]
  },
  {
   "cell_type": "code",
   "execution_count": 75,
   "metadata": {},
   "outputs": [],
   "source": [
    "# Combine the data set\n",
    "\n",
    "full_data = X_test.append(X_train).append(test_data)"
   ]
  },
  {
   "cell_type": "code",
   "execution_count": 76,
   "metadata": {},
   "outputs": [
    {
     "output_type": "stream",
     "name": "stdout",
     "text": [
      "<class 'pandas.core.frame.DataFrame'>\nInt64Index: 70000 entries, 5457 to 27999\nColumns: 784 entries, pixel0 to pixel783\ndtypes: int64(784)\nmemory usage: 419.2 MB\n"
     ]
    }
   ],
   "source": [
    "full_data.info()"
   ]
  },
  {
   "cell_type": "code",
   "execution_count": 77,
   "metadata": {},
   "outputs": [
    {
     "output_type": "stream",
     "name": "stdout",
     "text": [
      "It took 0:00:05.994341 seconds to identify the PCA\n"
     ]
    }
   ],
   "source": [
    "# Generating principal components that represent 95 percent of the variability in the explanatory variables\n",
    "start = datetime.datetime.now()\n",
    "pca = PCA(n_components=0.95)\n",
    "X_reduced = pca.fit_transform(full_data)\n",
    "end = datetime.datetime.now()\n",
    "print(f'It took {end - start} seconds to identify the PCA')"
   ]
  },
  {
   "cell_type": "code",
   "execution_count": 78,
   "metadata": {},
   "outputs": [
    {
     "output_type": "execute_result",
     "data": {
      "text/plain": [
       "array([[-436.4309755 , -259.5779328 ,  198.38827636, ...,   49.36565913,\n",
       "         -12.56603673,   57.27269646],\n",
       "       [-942.43851218, -400.01792167,   10.34166076, ...,  -49.61726703,\n",
       "          74.44900231,    8.75278918],\n",
       "       [-525.66257263,  617.26294383,  -86.15405218, ...,  -32.35437731,\n",
       "         -21.66636008,  -34.7747831 ],\n",
       "       ...,\n",
       "       [-138.40587705, -644.81877827, -880.68880607, ...,   38.03280932,\n",
       "           7.46148739,   33.7243298 ],\n",
       "       [ -49.43276834,  578.10899532, -323.9904944 , ...,    1.21587393,\n",
       "          37.84560288,   12.56067207],\n",
       "       [ 597.31312568,  141.72661007,  818.14854751, ...,   77.30176102,\n",
       "          48.1828624 ,   69.49837151]])"
      ]
     },
     "metadata": {},
     "execution_count": 78
    }
   ],
   "source": [
    "X_reduced"
   ]
  },
  {
   "cell_type": "code",
   "execution_count": 79,
   "metadata": {},
   "outputs": [
    {
     "output_type": "stream",
     "name": "stdout",
     "text": [
      "The Principal components count is:  154\n"
     ]
    }
   ],
   "source": [
    "print('The Principal components count is: ', pca.n_components_)"
   ]
  },
  {
   "cell_type": "code",
   "execution_count": 80,
   "metadata": {},
   "outputs": [
    {
     "output_type": "execute_result",
     "data": {
      "text/plain": [
       "(70000, 154)"
      ]
     },
     "metadata": {},
     "execution_count": 80
    }
   ],
   "source": [
    "X_reduced.shape"
   ]
  },
  {
   "cell_type": "code",
   "execution_count": 81,
   "metadata": {},
   "outputs": [
    {
     "output_type": "execute_result",
     "data": {
      "text/plain": [
       "array([0.09746116, 0.07155445, 0.06149531, 0.05403385, 0.04888934,\n",
       "       0.04305227, 0.03278262, 0.02889642, 0.02758364, 0.0234214 ,\n",
       "       0.02106689, 0.02037553, 0.01707064, 0.0169402 , 0.01583382,\n",
       "       0.01486345, 0.01319358, 0.01279014, 0.01187272, 0.01152937,\n",
       "       0.0106604 , 0.01009794, 0.00959151, 0.00909635, 0.00883287,\n",
       "       0.00838818, 0.00809832, 0.00785718, 0.00740262, 0.00690014,\n",
       "       0.00656144, 0.0064547 , 0.00600819, 0.00585612, 0.00566754,\n",
       "       0.00543471, 0.00504717, 0.00487079, 0.00478955, 0.00467594,\n",
       "       0.00454369, 0.00444918, 0.00418217, 0.00396164, 0.00383708,\n",
       "       0.00375785, 0.00361426, 0.00349025, 0.00338732, 0.00319696,\n",
       "       0.00316854, 0.00310145, 0.0029648 , 0.00287101, 0.00282514,\n",
       "       0.00269423, 0.00268392, 0.00256509, 0.00253168, 0.00244648,\n",
       "       0.00239702, 0.00238581, 0.00229234, 0.00220949, 0.0021306 ,\n",
       "       0.00206317, 0.00202781, 0.00195035, 0.00191471, 0.0018855 ,\n",
       "       0.00186976, 0.00180104, 0.00176787, 0.00173359, 0.00164849,\n",
       "       0.00163237, 0.00161408, 0.00154304, 0.0014702 , 0.00142199,\n",
       "       0.00141016, 0.00140146, 0.00139605, 0.00135025, 0.00132371,\n",
       "       0.00131893, 0.00129197, 0.00125172, 0.00122529, 0.00120419,\n",
       "       0.00116363, 0.00114319, 0.00112547, 0.00109862, 0.00108343,\n",
       "       0.00107175, 0.00103692, 0.00103418, 0.00100591, 0.00099933,\n",
       "       0.00097674, 0.00094161, 0.00093583, 0.00091166, 0.00090074,\n",
       "       0.0008895 , 0.00086158, 0.00085255, 0.000841  , 0.00081723,\n",
       "       0.00078602, 0.0007775 , 0.00077581, 0.00076479, 0.00076057,\n",
       "       0.00074879, 0.00073024, 0.00072536, 0.00071584, 0.00070341,\n",
       "       0.00069175, 0.00068692, 0.00067938, 0.00067174, 0.00066127,\n",
       "       0.00064267, 0.00063277, 0.0006284 , 0.00061963, 0.0006014 ,\n",
       "       0.00060026, 0.00059379, 0.00058628, 0.00058345, 0.0005789 ,\n",
       "       0.00057275, 0.00056338, 0.0005523 , 0.00053557, 0.00052572,\n",
       "       0.00052274, 0.0005099 , 0.0005023 , 0.00049814, 0.00049585,\n",
       "       0.00049234, 0.00048378, 0.0004809 , 0.00047157, 0.00046671,\n",
       "       0.00046423, 0.00046199, 0.00045828, 0.0004495 ])"
      ]
     },
     "metadata": {},
     "execution_count": 81
    }
   ],
   "source": [
    "pca.explained_variance_ratio_"
   ]
  },
  {
   "cell_type": "code",
   "execution_count": 82,
   "metadata": {},
   "outputs": [
    {
     "output_type": "display_data",
     "data": {
      "text/plain": "<Figure size 432x288 with 1 Axes>",
      "image/svg+xml": "<?xml version=\"1.0\" encoding=\"utf-8\" standalone=\"no\"?>\r\n<!DOCTYPE svg PUBLIC \"-//W3C//DTD SVG 1.1//EN\"\r\n  \"http://www.w3.org/Graphics/SVG/1.1/DTD/svg11.dtd\">\r\n<!-- Created with matplotlib (https://matplotlib.org/) -->\r\n<svg height=\"266.520469pt\" version=\"1.1\" viewBox=\"0 0 396.846874 266.520469\" width=\"396.846874pt\" xmlns=\"http://www.w3.org/2000/svg\" xmlns:xlink=\"http://www.w3.org/1999/xlink\">\r\n <defs>\r\n  <style type=\"text/css\">\r\n*{stroke-linecap:butt;stroke-linejoin:round;}\r\n  </style>\r\n </defs>\r\n <g id=\"figure_1\">\r\n  <g id=\"patch_1\">\r\n   <path d=\"M 0 266.520469 \r\nL 396.846874 266.520469 \r\nL 396.846874 0 \r\nL 0 0 \r\nz\r\n\" style=\"fill:#ffffff;\"/>\r\n  </g>\r\n  <g id=\"axes_1\">\r\n   <g id=\"patch_2\">\r\n    <path d=\"M 46.964375 224.64 \r\nL 381.764375 224.64 \r\nL 381.764375 7.2 \r\nL 46.964375 7.2 \r\nz\r\n\" style=\"fill:#eaeaf2;\"/>\r\n   </g>\r\n   <g id=\"matplotlib.axis_1\">\r\n    <g id=\"xtick_1\">\r\n     <g id=\"line2d_1\">\r\n      <path clip-path=\"url(#pab4b2154d6)\" d=\"M 62.182557 224.64 \r\nL 62.182557 7.2 \r\n\" style=\"fill:none;stroke:#ffffff;stroke-linecap:round;\"/>\r\n     </g>\r\n     <g id=\"text_1\">\r\n      <!-- 0 -->\r\n      <defs>\r\n       <path d=\"M 4.15625 35.296875 \r\nQ 4.15625 48 6.765625 55.734375 \r\nQ 9.375 63.484375 14.515625 67.671875 \r\nQ 19.671875 71.875 27.484375 71.875 \r\nQ 33.25 71.875 37.59375 69.546875 \r\nQ 41.9375 67.234375 44.765625 62.859375 \r\nQ 47.609375 58.5 49.21875 52.21875 \r\nQ 50.828125 45.953125 50.828125 35.296875 \r\nQ 50.828125 22.703125 48.234375 14.96875 \r\nQ 45.65625 7.234375 40.5 3 \r\nQ 35.359375 -1.21875 27.484375 -1.21875 \r\nQ 17.140625 -1.21875 11.234375 6.203125 \r\nQ 4.15625 15.140625 4.15625 35.296875 \r\nz\r\nM 13.1875 35.296875 \r\nQ 13.1875 17.671875 17.3125 11.828125 \r\nQ 21.4375 6 27.484375 6 \r\nQ 33.546875 6 37.671875 11.859375 \r\nQ 41.796875 17.71875 41.796875 35.296875 \r\nQ 41.796875 52.984375 37.671875 58.78125 \r\nQ 33.546875 64.59375 27.390625 64.59375 \r\nQ 21.34375 64.59375 17.71875 59.46875 \r\nQ 13.1875 52.9375 13.1875 35.296875 \r\nz\r\n\" id=\"ArialMT-48\"/>\r\n      </defs>\r\n      <g style=\"fill:#262626;\" transform=\"translate(59.124041 242.013594)scale(0.11 -0.11)\">\r\n       <use xlink:href=\"#ArialMT-48\"/>\r\n      </g>\r\n     </g>\r\n    </g>\r\n    <g id=\"xtick_2\">\r\n     <g id=\"line2d_2\">\r\n      <path clip-path=\"url(#pab4b2154d6)\" d=\"M 101.968653 224.64 \r\nL 101.968653 7.2 \r\n\" style=\"fill:none;stroke:#ffffff;stroke-linecap:round;\"/>\r\n     </g>\r\n     <g id=\"text_2\">\r\n      <!-- 20 -->\r\n      <defs>\r\n       <path d=\"M 50.34375 8.453125 \r\nL 50.34375 0 \r\nL 3.03125 0 \r\nQ 2.9375 3.171875 4.046875 6.109375 \r\nQ 5.859375 10.9375 9.828125 15.625 \r\nQ 13.8125 20.3125 21.34375 26.46875 \r\nQ 33.015625 36.03125 37.109375 41.625 \r\nQ 41.21875 47.21875 41.21875 52.203125 \r\nQ 41.21875 57.421875 37.46875 61 \r\nQ 33.734375 64.59375 27.734375 64.59375 \r\nQ 21.390625 64.59375 17.578125 60.78125 \r\nQ 13.765625 56.984375 13.71875 50.25 \r\nL 4.6875 51.171875 \r\nQ 5.609375 61.28125 11.65625 66.578125 \r\nQ 17.71875 71.875 27.9375 71.875 \r\nQ 38.234375 71.875 44.234375 66.15625 \r\nQ 50.25 60.453125 50.25 52 \r\nQ 50.25 47.703125 48.484375 43.546875 \r\nQ 46.734375 39.40625 42.65625 34.8125 \r\nQ 38.578125 30.21875 29.109375 22.21875 \r\nQ 21.1875 15.578125 18.9375 13.203125 \r\nQ 16.703125 10.84375 15.234375 8.453125 \r\nz\r\n\" id=\"ArialMT-50\"/>\r\n      </defs>\r\n      <g style=\"fill:#262626;\" transform=\"translate(95.851622 242.013594)scale(0.11 -0.11)\">\r\n       <use xlink:href=\"#ArialMT-50\"/>\r\n       <use x=\"55.615234\" xlink:href=\"#ArialMT-48\"/>\r\n      </g>\r\n     </g>\r\n    </g>\r\n    <g id=\"xtick_3\">\r\n     <g id=\"line2d_3\">\r\n      <path clip-path=\"url(#pab4b2154d6)\" d=\"M 141.754749 224.64 \r\nL 141.754749 7.2 \r\n\" style=\"fill:none;stroke:#ffffff;stroke-linecap:round;\"/>\r\n     </g>\r\n     <g id=\"text_3\">\r\n      <!-- 40 -->\r\n      <defs>\r\n       <path d=\"M 32.328125 0 \r\nL 32.328125 17.140625 \r\nL 1.265625 17.140625 \r\nL 1.265625 25.203125 \r\nL 33.9375 71.578125 \r\nL 41.109375 71.578125 \r\nL 41.109375 25.203125 \r\nL 50.78125 25.203125 \r\nL 50.78125 17.140625 \r\nL 41.109375 17.140625 \r\nL 41.109375 0 \r\nz\r\nM 32.328125 25.203125 \r\nL 32.328125 57.46875 \r\nL 9.90625 25.203125 \r\nz\r\n\" id=\"ArialMT-52\"/>\r\n      </defs>\r\n      <g style=\"fill:#262626;\" transform=\"translate(135.637718 242.013594)scale(0.11 -0.11)\">\r\n       <use xlink:href=\"#ArialMT-52\"/>\r\n       <use x=\"55.615234\" xlink:href=\"#ArialMT-48\"/>\r\n      </g>\r\n     </g>\r\n    </g>\r\n    <g id=\"xtick_4\">\r\n     <g id=\"line2d_4\">\r\n      <path clip-path=\"url(#pab4b2154d6)\" d=\"M 181.540846 224.64 \r\nL 181.540846 7.2 \r\n\" style=\"fill:none;stroke:#ffffff;stroke-linecap:round;\"/>\r\n     </g>\r\n     <g id=\"text_4\">\r\n      <!-- 60 -->\r\n      <defs>\r\n       <path d=\"M 49.75 54.046875 \r\nL 41.015625 53.375 \r\nQ 39.84375 58.546875 37.703125 60.890625 \r\nQ 34.125 64.65625 28.90625 64.65625 \r\nQ 24.703125 64.65625 21.53125 62.3125 \r\nQ 17.390625 59.28125 14.984375 53.46875 \r\nQ 12.59375 47.65625 12.5 36.921875 \r\nQ 15.671875 41.75 20.265625 44.09375 \r\nQ 24.859375 46.4375 29.890625 46.4375 \r\nQ 38.671875 46.4375 44.84375 39.96875 \r\nQ 51.03125 33.5 51.03125 23.25 \r\nQ 51.03125 16.5 48.125 10.71875 \r\nQ 45.21875 4.9375 40.140625 1.859375 \r\nQ 35.0625 -1.21875 28.609375 -1.21875 \r\nQ 17.625 -1.21875 10.6875 6.859375 \r\nQ 3.765625 14.9375 3.765625 33.5 \r\nQ 3.765625 54.25 11.421875 63.671875 \r\nQ 18.109375 71.875 29.4375 71.875 \r\nQ 37.890625 71.875 43.28125 67.140625 \r\nQ 48.6875 62.40625 49.75 54.046875 \r\nz\r\nM 13.875 23.1875 \r\nQ 13.875 18.65625 15.796875 14.5 \r\nQ 17.71875 10.359375 21.1875 8.171875 \r\nQ 24.65625 6 28.46875 6 \r\nQ 34.03125 6 38.03125 10.484375 \r\nQ 42.046875 14.984375 42.046875 22.703125 \r\nQ 42.046875 30.125 38.078125 34.390625 \r\nQ 34.125 38.671875 28.125 38.671875 \r\nQ 22.171875 38.671875 18.015625 34.390625 \r\nQ 13.875 30.125 13.875 23.1875 \r\nz\r\n\" id=\"ArialMT-54\"/>\r\n      </defs>\r\n      <g style=\"fill:#262626;\" transform=\"translate(175.423814 242.013594)scale(0.11 -0.11)\">\r\n       <use xlink:href=\"#ArialMT-54\"/>\r\n       <use x=\"55.615234\" xlink:href=\"#ArialMT-48\"/>\r\n      </g>\r\n     </g>\r\n    </g>\r\n    <g id=\"xtick_5\">\r\n     <g id=\"line2d_5\">\r\n      <path clip-path=\"url(#pab4b2154d6)\" d=\"M 221.326942 224.64 \r\nL 221.326942 7.2 \r\n\" style=\"fill:none;stroke:#ffffff;stroke-linecap:round;\"/>\r\n     </g>\r\n     <g id=\"text_5\">\r\n      <!-- 80 -->\r\n      <defs>\r\n       <path d=\"M 17.671875 38.8125 \r\nQ 12.203125 40.828125 9.5625 44.53125 \r\nQ 6.9375 48.25 6.9375 53.421875 \r\nQ 6.9375 61.234375 12.546875 66.546875 \r\nQ 18.171875 71.875 27.484375 71.875 \r\nQ 36.859375 71.875 42.578125 66.421875 \r\nQ 48.296875 60.984375 48.296875 53.171875 \r\nQ 48.296875 48.1875 45.671875 44.5 \r\nQ 43.0625 40.828125 37.75 38.8125 \r\nQ 44.34375 36.671875 47.78125 31.875 \r\nQ 51.21875 27.09375 51.21875 20.453125 \r\nQ 51.21875 11.28125 44.71875 5.03125 \r\nQ 38.234375 -1.21875 27.640625 -1.21875 \r\nQ 17.046875 -1.21875 10.546875 5.046875 \r\nQ 4.046875 11.328125 4.046875 20.703125 \r\nQ 4.046875 27.6875 7.59375 32.390625 \r\nQ 11.140625 37.109375 17.671875 38.8125 \r\nz\r\nM 15.921875 53.71875 \r\nQ 15.921875 48.640625 19.1875 45.40625 \r\nQ 22.46875 42.1875 27.6875 42.1875 \r\nQ 32.765625 42.1875 36.015625 45.375 \r\nQ 39.265625 48.578125 39.265625 53.21875 \r\nQ 39.265625 58.0625 35.90625 61.359375 \r\nQ 32.5625 64.65625 27.59375 64.65625 \r\nQ 22.5625 64.65625 19.234375 61.421875 \r\nQ 15.921875 58.203125 15.921875 53.71875 \r\nz\r\nM 13.09375 20.65625 \r\nQ 13.09375 16.890625 14.875 13.375 \r\nQ 16.65625 9.859375 20.171875 7.921875 \r\nQ 23.6875 6 27.734375 6 \r\nQ 34.03125 6 38.125 10.046875 \r\nQ 42.234375 14.109375 42.234375 20.359375 \r\nQ 42.234375 26.703125 38.015625 30.859375 \r\nQ 33.796875 35.015625 27.4375 35.015625 \r\nQ 21.234375 35.015625 17.15625 30.90625 \r\nQ 13.09375 26.8125 13.09375 20.65625 \r\nz\r\n\" id=\"ArialMT-56\"/>\r\n      </defs>\r\n      <g style=\"fill:#262626;\" transform=\"translate(215.209911 242.013594)scale(0.11 -0.11)\">\r\n       <use xlink:href=\"#ArialMT-56\"/>\r\n       <use x=\"55.615234\" xlink:href=\"#ArialMT-48\"/>\r\n      </g>\r\n     </g>\r\n    </g>\r\n    <g id=\"xtick_6\">\r\n     <g id=\"line2d_6\">\r\n      <path clip-path=\"url(#pab4b2154d6)\" d=\"M 261.113038 224.64 \r\nL 261.113038 7.2 \r\n\" style=\"fill:none;stroke:#ffffff;stroke-linecap:round;\"/>\r\n     </g>\r\n     <g id=\"text_6\">\r\n      <!-- 100 -->\r\n      <defs>\r\n       <path d=\"M 37.25 0 \r\nL 28.46875 0 \r\nL 28.46875 56 \r\nQ 25.296875 52.984375 20.140625 49.953125 \r\nQ 14.984375 46.921875 10.890625 45.40625 \r\nL 10.890625 53.90625 \r\nQ 18.265625 57.375 23.78125 62.296875 \r\nQ 29.296875 67.234375 31.59375 71.875 \r\nL 37.25 71.875 \r\nz\r\n\" id=\"ArialMT-49\"/>\r\n      </defs>\r\n      <g style=\"fill:#262626;\" transform=\"translate(251.937491 242.013594)scale(0.11 -0.11)\">\r\n       <use xlink:href=\"#ArialMT-49\"/>\r\n       <use x=\"55.615234\" xlink:href=\"#ArialMT-48\"/>\r\n       <use x=\"111.230469\" xlink:href=\"#ArialMT-48\"/>\r\n      </g>\r\n     </g>\r\n    </g>\r\n    <g id=\"xtick_7\">\r\n     <g id=\"line2d_7\">\r\n      <path clip-path=\"url(#pab4b2154d6)\" d=\"M 300.899134 224.64 \r\nL 300.899134 7.2 \r\n\" style=\"fill:none;stroke:#ffffff;stroke-linecap:round;\"/>\r\n     </g>\r\n     <g id=\"text_7\">\r\n      <!-- 120 -->\r\n      <g style=\"fill:#262626;\" transform=\"translate(291.723587 242.013594)scale(0.11 -0.11)\">\r\n       <use xlink:href=\"#ArialMT-49\"/>\r\n       <use x=\"55.615234\" xlink:href=\"#ArialMT-50\"/>\r\n       <use x=\"111.230469\" xlink:href=\"#ArialMT-48\"/>\r\n      </g>\r\n     </g>\r\n    </g>\r\n    <g id=\"xtick_8\">\r\n     <g id=\"line2d_8\">\r\n      <path clip-path=\"url(#pab4b2154d6)\" d=\"M 340.685231 224.64 \r\nL 340.685231 7.2 \r\n\" style=\"fill:none;stroke:#ffffff;stroke-linecap:round;\"/>\r\n     </g>\r\n     <g id=\"text_8\">\r\n      <!-- 140 -->\r\n      <g style=\"fill:#262626;\" transform=\"translate(331.509684 242.013594)scale(0.11 -0.11)\">\r\n       <use xlink:href=\"#ArialMT-49\"/>\r\n       <use x=\"55.615234\" xlink:href=\"#ArialMT-52\"/>\r\n       <use x=\"111.230469\" xlink:href=\"#ArialMT-48\"/>\r\n      </g>\r\n     </g>\r\n    </g>\r\n    <g id=\"xtick_9\">\r\n     <g id=\"line2d_9\">\r\n      <path clip-path=\"url(#pab4b2154d6)\" d=\"M 380.471327 224.64 \r\nL 380.471327 7.2 \r\n\" style=\"fill:none;stroke:#ffffff;stroke-linecap:round;\"/>\r\n     </g>\r\n     <g id=\"text_9\">\r\n      <!-- 160 -->\r\n      <g style=\"fill:#262626;\" transform=\"translate(371.29578 242.013594)scale(0.11 -0.11)\">\r\n       <use xlink:href=\"#ArialMT-49\"/>\r\n       <use x=\"55.615234\" xlink:href=\"#ArialMT-54\"/>\r\n       <use x=\"111.230469\" xlink:href=\"#ArialMT-48\"/>\r\n      </g>\r\n     </g>\r\n    </g>\r\n    <g id=\"text_10\">\r\n     <!-- number of components -->\r\n     <defs>\r\n      <path d=\"M 6.59375 0 \r\nL 6.59375 51.859375 \r\nL 14.5 51.859375 \r\nL 14.5 44.484375 \r\nQ 20.21875 53.03125 31 53.03125 \r\nQ 35.6875 53.03125 39.625 51.34375 \r\nQ 43.5625 49.65625 45.515625 46.921875 \r\nQ 47.46875 44.1875 48.25 40.4375 \r\nQ 48.734375 37.984375 48.734375 31.890625 \r\nL 48.734375 0 \r\nL 39.9375 0 \r\nL 39.9375 31.546875 \r\nQ 39.9375 36.921875 38.90625 39.578125 \r\nQ 37.890625 42.234375 35.28125 43.8125 \r\nQ 32.671875 45.40625 29.15625 45.40625 \r\nQ 23.53125 45.40625 19.453125 41.84375 \r\nQ 15.375 38.28125 15.375 28.328125 \r\nL 15.375 0 \r\nz\r\n\" id=\"ArialMT-110\"/>\r\n      <path d=\"M 40.578125 0 \r\nL 40.578125 7.625 \r\nQ 34.515625 -1.171875 24.125 -1.171875 \r\nQ 19.53125 -1.171875 15.546875 0.578125 \r\nQ 11.578125 2.34375 9.640625 5 \r\nQ 7.71875 7.671875 6.9375 11.53125 \r\nQ 6.390625 14.109375 6.390625 19.734375 \r\nL 6.390625 51.859375 \r\nL 15.1875 51.859375 \r\nL 15.1875 23.09375 \r\nQ 15.1875 16.21875 15.71875 13.8125 \r\nQ 16.546875 10.359375 19.234375 8.375 \r\nQ 21.921875 6.390625 25.875 6.390625 \r\nQ 29.828125 6.390625 33.296875 8.421875 \r\nQ 36.765625 10.453125 38.203125 13.9375 \r\nQ 39.65625 17.4375 39.65625 24.078125 \r\nL 39.65625 51.859375 \r\nL 48.4375 51.859375 \r\nL 48.4375 0 \r\nz\r\n\" id=\"ArialMT-117\"/>\r\n      <path d=\"M 6.59375 0 \r\nL 6.59375 51.859375 \r\nL 14.453125 51.859375 \r\nL 14.453125 44.578125 \r\nQ 16.890625 48.390625 20.9375 50.703125 \r\nQ 25 53.03125 30.171875 53.03125 \r\nQ 35.9375 53.03125 39.625 50.640625 \r\nQ 43.3125 48.25 44.828125 43.953125 \r\nQ 50.984375 53.03125 60.84375 53.03125 \r\nQ 68.5625 53.03125 72.703125 48.75 \r\nQ 76.859375 44.484375 76.859375 35.59375 \r\nL 76.859375 0 \r\nL 68.109375 0 \r\nL 68.109375 32.671875 \r\nQ 68.109375 37.9375 67.25 40.25 \r\nQ 66.40625 42.578125 64.15625 43.984375 \r\nQ 61.921875 45.40625 58.890625 45.40625 \r\nQ 53.421875 45.40625 49.796875 41.765625 \r\nQ 46.1875 38.140625 46.1875 30.125 \r\nL 46.1875 0 \r\nL 37.40625 0 \r\nL 37.40625 33.6875 \r\nQ 37.40625 39.546875 35.25 42.46875 \r\nQ 33.109375 45.40625 28.21875 45.40625 \r\nQ 24.515625 45.40625 21.359375 43.453125 \r\nQ 18.21875 41.5 16.796875 37.734375 \r\nQ 15.375 33.984375 15.375 26.90625 \r\nL 15.375 0 \r\nz\r\n\" id=\"ArialMT-109\"/>\r\n      <path d=\"M 14.703125 0 \r\nL 6.546875 0 \r\nL 6.546875 71.578125 \r\nL 15.328125 71.578125 \r\nL 15.328125 46.046875 \r\nQ 20.90625 53.03125 29.546875 53.03125 \r\nQ 34.328125 53.03125 38.59375 51.09375 \r\nQ 42.875 49.171875 45.625 45.671875 \r\nQ 48.390625 42.1875 49.953125 37.25 \r\nQ 51.515625 32.328125 51.515625 26.703125 \r\nQ 51.515625 13.375 44.921875 6.09375 \r\nQ 38.328125 -1.171875 29.109375 -1.171875 \r\nQ 19.921875 -1.171875 14.703125 6.5 \r\nz\r\nM 14.59375 26.3125 \r\nQ 14.59375 17 17.140625 12.84375 \r\nQ 21.296875 6.0625 28.375 6.0625 \r\nQ 34.125 6.0625 38.328125 11.0625 \r\nQ 42.53125 16.0625 42.53125 25.984375 \r\nQ 42.53125 36.140625 38.5 40.96875 \r\nQ 34.46875 45.796875 28.765625 45.796875 \r\nQ 23 45.796875 18.796875 40.796875 \r\nQ 14.59375 35.796875 14.59375 26.3125 \r\nz\r\n\" id=\"ArialMT-98\"/>\r\n      <path d=\"M 42.09375 16.703125 \r\nL 51.171875 15.578125 \r\nQ 49.03125 7.625 43.21875 3.21875 \r\nQ 37.40625 -1.171875 28.375 -1.171875 \r\nQ 17 -1.171875 10.328125 5.828125 \r\nQ 3.65625 12.84375 3.65625 25.484375 \r\nQ 3.65625 38.578125 10.390625 45.796875 \r\nQ 17.140625 53.03125 27.875 53.03125 \r\nQ 38.28125 53.03125 44.875 45.953125 \r\nQ 51.46875 38.875 51.46875 26.03125 \r\nQ 51.46875 25.25 51.421875 23.6875 \r\nL 12.75 23.6875 \r\nQ 13.234375 15.140625 17.578125 10.59375 \r\nQ 21.921875 6.0625 28.421875 6.0625 \r\nQ 33.25 6.0625 36.671875 8.59375 \r\nQ 40.09375 11.140625 42.09375 16.703125 \r\nz\r\nM 13.234375 30.90625 \r\nL 42.1875 30.90625 \r\nQ 41.609375 37.453125 38.875 40.71875 \r\nQ 34.671875 45.796875 27.984375 45.796875 \r\nQ 21.921875 45.796875 17.796875 41.75 \r\nQ 13.671875 37.703125 13.234375 30.90625 \r\nz\r\n\" id=\"ArialMT-101\"/>\r\n      <path d=\"M 6.5 0 \r\nL 6.5 51.859375 \r\nL 14.40625 51.859375 \r\nL 14.40625 44 \r\nQ 17.4375 49.515625 20 51.265625 \r\nQ 22.5625 53.03125 25.640625 53.03125 \r\nQ 30.078125 53.03125 34.671875 50.203125 \r\nL 31.640625 42.046875 \r\nQ 28.421875 43.953125 25.203125 43.953125 \r\nQ 22.3125 43.953125 20.015625 42.21875 \r\nQ 17.71875 40.484375 16.75 37.40625 \r\nQ 15.28125 32.71875 15.28125 27.15625 \r\nL 15.28125 0 \r\nz\r\n\" id=\"ArialMT-114\"/>\r\n      <path id=\"ArialMT-32\"/>\r\n      <path d=\"M 3.328125 25.921875 \r\nQ 3.328125 40.328125 11.328125 47.265625 \r\nQ 18.015625 53.03125 27.640625 53.03125 \r\nQ 38.328125 53.03125 45.109375 46.015625 \r\nQ 51.90625 39.015625 51.90625 26.65625 \r\nQ 51.90625 16.65625 48.90625 10.90625 \r\nQ 45.90625 5.171875 40.15625 2 \r\nQ 34.421875 -1.171875 27.640625 -1.171875 \r\nQ 16.75 -1.171875 10.03125 5.8125 \r\nQ 3.328125 12.796875 3.328125 25.921875 \r\nz\r\nM 12.359375 25.921875 \r\nQ 12.359375 15.96875 16.703125 11.015625 \r\nQ 21.046875 6.0625 27.640625 6.0625 \r\nQ 34.1875 6.0625 38.53125 11.03125 \r\nQ 42.875 16.015625 42.875 26.21875 \r\nQ 42.875 35.84375 38.5 40.796875 \r\nQ 34.125 45.75 27.640625 45.75 \r\nQ 21.046875 45.75 16.703125 40.8125 \r\nQ 12.359375 35.890625 12.359375 25.921875 \r\nz\r\n\" id=\"ArialMT-111\"/>\r\n      <path d=\"M 8.6875 0 \r\nL 8.6875 45.015625 \r\nL 0.921875 45.015625 \r\nL 0.921875 51.859375 \r\nL 8.6875 51.859375 \r\nL 8.6875 57.375 \r\nQ 8.6875 62.59375 9.625 65.140625 \r\nQ 10.890625 68.5625 14.078125 70.671875 \r\nQ 17.28125 72.796875 23.046875 72.796875 \r\nQ 26.765625 72.796875 31.25 71.921875 \r\nL 29.9375 64.265625 \r\nQ 27.203125 64.75 24.75 64.75 \r\nQ 20.75 64.75 19.09375 63.03125 \r\nQ 17.4375 61.328125 17.4375 56.640625 \r\nL 17.4375 51.859375 \r\nL 27.546875 51.859375 \r\nL 27.546875 45.015625 \r\nL 17.4375 45.015625 \r\nL 17.4375 0 \r\nz\r\n\" id=\"ArialMT-102\"/>\r\n      <path d=\"M 40.4375 19 \r\nL 49.078125 17.875 \r\nQ 47.65625 8.9375 41.8125 3.875 \r\nQ 35.984375 -1.171875 27.484375 -1.171875 \r\nQ 16.84375 -1.171875 10.375 5.78125 \r\nQ 3.90625 12.75 3.90625 25.734375 \r\nQ 3.90625 34.125 6.6875 40.421875 \r\nQ 9.46875 46.734375 15.15625 49.875 \r\nQ 20.84375 53.03125 27.546875 53.03125 \r\nQ 35.984375 53.03125 41.359375 48.75 \r\nQ 46.734375 44.484375 48.25 36.625 \r\nL 39.703125 35.296875 \r\nQ 38.484375 40.53125 35.375 43.15625 \r\nQ 32.28125 45.796875 27.875 45.796875 \r\nQ 21.234375 45.796875 17.078125 41.03125 \r\nQ 12.9375 36.28125 12.9375 25.984375 \r\nQ 12.9375 15.53125 16.9375 10.796875 \r\nQ 20.953125 6.0625 27.390625 6.0625 \r\nQ 32.5625 6.0625 36.03125 9.234375 \r\nQ 39.5 12.40625 40.4375 19 \r\nz\r\n\" id=\"ArialMT-99\"/>\r\n      <path d=\"M 6.59375 -19.875 \r\nL 6.59375 51.859375 \r\nL 14.59375 51.859375 \r\nL 14.59375 45.125 \r\nQ 17.4375 49.078125 21 51.046875 \r\nQ 24.5625 53.03125 29.640625 53.03125 \r\nQ 36.28125 53.03125 41.359375 49.609375 \r\nQ 46.4375 46.1875 49.015625 39.953125 \r\nQ 51.609375 33.734375 51.609375 26.3125 \r\nQ 51.609375 18.359375 48.75 11.984375 \r\nQ 45.90625 5.609375 40.453125 2.21875 \r\nQ 35.015625 -1.171875 29 -1.171875 \r\nQ 24.609375 -1.171875 21.109375 0.6875 \r\nQ 17.625 2.546875 15.375 5.375 \r\nL 15.375 -19.875 \r\nz\r\nM 14.546875 25.640625 \r\nQ 14.546875 15.625 18.59375 10.84375 \r\nQ 22.65625 6.0625 28.421875 6.0625 \r\nQ 34.28125 6.0625 38.453125 11.015625 \r\nQ 42.625 15.96875 42.625 26.375 \r\nQ 42.625 36.28125 38.546875 41.203125 \r\nQ 34.46875 46.140625 28.8125 46.140625 \r\nQ 23.1875 46.140625 18.859375 40.890625 \r\nQ 14.546875 35.640625 14.546875 25.640625 \r\nz\r\n\" id=\"ArialMT-112\"/>\r\n      <path d=\"M 25.78125 7.859375 \r\nL 27.046875 0.09375 \r\nQ 23.34375 -0.6875 20.40625 -0.6875 \r\nQ 15.625 -0.6875 12.984375 0.828125 \r\nQ 10.359375 2.34375 9.28125 4.8125 \r\nQ 8.203125 7.28125 8.203125 15.1875 \r\nL 8.203125 45.015625 \r\nL 1.765625 45.015625 \r\nL 1.765625 51.859375 \r\nL 8.203125 51.859375 \r\nL 8.203125 64.703125 \r\nL 16.9375 69.96875 \r\nL 16.9375 51.859375 \r\nL 25.78125 51.859375 \r\nL 25.78125 45.015625 \r\nL 16.9375 45.015625 \r\nL 16.9375 14.703125 \r\nQ 16.9375 10.9375 17.40625 9.859375 \r\nQ 17.875 8.796875 18.921875 8.15625 \r\nQ 19.96875 7.515625 21.921875 7.515625 \r\nQ 23.390625 7.515625 25.78125 7.859375 \r\nz\r\n\" id=\"ArialMT-116\"/>\r\n      <path d=\"M 3.078125 15.484375 \r\nL 11.765625 16.84375 \r\nQ 12.5 11.625 15.84375 8.84375 \r\nQ 19.1875 6.0625 25.203125 6.0625 \r\nQ 31.25 6.0625 34.171875 8.515625 \r\nQ 37.109375 10.984375 37.109375 14.3125 \r\nQ 37.109375 17.28125 34.515625 19 \r\nQ 32.71875 20.171875 25.53125 21.96875 \r\nQ 15.875 24.421875 12.140625 26.203125 \r\nQ 8.40625 27.984375 6.46875 31.125 \r\nQ 4.546875 34.28125 4.546875 38.09375 \r\nQ 4.546875 41.546875 6.125 44.5 \r\nQ 7.71875 47.46875 10.453125 49.421875 \r\nQ 12.5 50.921875 16.03125 51.96875 \r\nQ 19.578125 53.03125 23.640625 53.03125 \r\nQ 29.734375 53.03125 34.34375 51.265625 \r\nQ 38.96875 49.515625 41.15625 46.5 \r\nQ 43.359375 43.5 44.1875 38.484375 \r\nL 35.59375 37.3125 \r\nQ 35.015625 41.3125 32.203125 43.546875 \r\nQ 29.390625 45.796875 24.265625 45.796875 \r\nQ 18.21875 45.796875 15.625 43.796875 \r\nQ 13.03125 41.796875 13.03125 39.109375 \r\nQ 13.03125 37.40625 14.109375 36.03125 \r\nQ 15.1875 34.625 17.484375 33.6875 \r\nQ 18.796875 33.203125 25.25 31.453125 \r\nQ 34.578125 28.953125 38.25 27.359375 \r\nQ 41.9375 25.78125 44.03125 22.75 \r\nQ 46.140625 19.734375 46.140625 15.234375 \r\nQ 46.140625 10.84375 43.578125 6.953125 \r\nQ 41.015625 3.078125 36.171875 0.953125 \r\nQ 31.34375 -1.171875 25.25 -1.171875 \r\nQ 15.140625 -1.171875 9.84375 3.03125 \r\nQ 4.546875 7.234375 3.078125 15.484375 \r\nz\r\n\" id=\"ArialMT-115\"/>\r\n     </defs>\r\n     <g style=\"fill:#262626;\" transform=\"translate(153.00125 256.935469)scale(0.12 -0.12)\">\r\n      <use xlink:href=\"#ArialMT-110\"/>\r\n      <use x=\"55.615234\" xlink:href=\"#ArialMT-117\"/>\r\n      <use x=\"111.230469\" xlink:href=\"#ArialMT-109\"/>\r\n      <use x=\"194.53125\" xlink:href=\"#ArialMT-98\"/>\r\n      <use x=\"250.146484\" xlink:href=\"#ArialMT-101\"/>\r\n      <use x=\"305.761719\" xlink:href=\"#ArialMT-114\"/>\r\n      <use x=\"339.0625\" xlink:href=\"#ArialMT-32\"/>\r\n      <use x=\"366.845703\" xlink:href=\"#ArialMT-111\"/>\r\n      <use x=\"422.460938\" xlink:href=\"#ArialMT-102\"/>\r\n      <use x=\"450.244141\" xlink:href=\"#ArialMT-32\"/>\r\n      <use x=\"478.027344\" xlink:href=\"#ArialMT-99\"/>\r\n      <use x=\"528.027344\" xlink:href=\"#ArialMT-111\"/>\r\n      <use x=\"583.642578\" xlink:href=\"#ArialMT-109\"/>\r\n      <use x=\"666.943359\" xlink:href=\"#ArialMT-112\"/>\r\n      <use x=\"722.558594\" xlink:href=\"#ArialMT-111\"/>\r\n      <use x=\"778.173828\" xlink:href=\"#ArialMT-110\"/>\r\n      <use x=\"833.789062\" xlink:href=\"#ArialMT-101\"/>\r\n      <use x=\"889.404297\" xlink:href=\"#ArialMT-110\"/>\r\n      <use x=\"945.019531\" xlink:href=\"#ArialMT-116\"/>\r\n      <use x=\"972.802734\" xlink:href=\"#ArialMT-115\"/>\r\n     </g>\r\n    </g>\r\n   </g>\r\n   <g id=\"matplotlib.axis_2\">\r\n    <g id=\"ytick_1\">\r\n     <g id=\"line2d_10\">\r\n      <path clip-path=\"url(#pab4b2154d6)\" d=\"M 46.964375 190.991094 \r\nL 381.764375 190.991094 \r\n\" style=\"fill:none;stroke:#ffffff;stroke-linecap:round;\"/>\r\n     </g>\r\n     <g id=\"text_11\">\r\n      <!-- 0.2 -->\r\n      <defs>\r\n       <path d=\"M 9.078125 0 \r\nL 9.078125 10.015625 \r\nL 19.09375 10.015625 \r\nL 19.09375 0 \r\nz\r\n\" id=\"ArialMT-46\"/>\r\n      </defs>\r\n      <g style=\"fill:#262626;\" transform=\"translate(22.174375 194.927891)scale(0.11 -0.11)\">\r\n       <use xlink:href=\"#ArialMT-48\"/>\r\n       <use x=\"55.615234\" xlink:href=\"#ArialMT-46\"/>\r\n       <use x=\"83.398438\" xlink:href=\"#ArialMT-50\"/>\r\n      </g>\r\n     </g>\r\n    </g>\r\n    <g id=\"ytick_2\">\r\n     <g id=\"line2d_11\">\r\n      <path clip-path=\"url(#pab4b2154d6)\" d=\"M 46.964375 144.637402 \r\nL 381.764375 144.637402 \r\n\" style=\"fill:none;stroke:#ffffff;stroke-linecap:round;\"/>\r\n     </g>\r\n     <g id=\"text_12\">\r\n      <!-- 0.4 -->\r\n      <g style=\"fill:#262626;\" transform=\"translate(22.174375 148.574199)scale(0.11 -0.11)\">\r\n       <use xlink:href=\"#ArialMT-48\"/>\r\n       <use x=\"55.615234\" xlink:href=\"#ArialMT-46\"/>\r\n       <use x=\"83.398438\" xlink:href=\"#ArialMT-52\"/>\r\n      </g>\r\n     </g>\r\n    </g>\r\n    <g id=\"ytick_3\">\r\n     <g id=\"line2d_12\">\r\n      <path clip-path=\"url(#pab4b2154d6)\" d=\"M 46.964375 98.28371 \r\nL 381.764375 98.28371 \r\n\" style=\"fill:none;stroke:#ffffff;stroke-linecap:round;\"/>\r\n     </g>\r\n     <g id=\"text_13\">\r\n      <!-- 0.6 -->\r\n      <g style=\"fill:#262626;\" transform=\"translate(22.174375 102.220507)scale(0.11 -0.11)\">\r\n       <use xlink:href=\"#ArialMT-48\"/>\r\n       <use x=\"55.615234\" xlink:href=\"#ArialMT-46\"/>\r\n       <use x=\"83.398438\" xlink:href=\"#ArialMT-54\"/>\r\n      </g>\r\n     </g>\r\n    </g>\r\n    <g id=\"ytick_4\">\r\n     <g id=\"line2d_13\">\r\n      <path clip-path=\"url(#pab4b2154d6)\" d=\"M 46.964375 51.930018 \r\nL 381.764375 51.930018 \r\n\" style=\"fill:none;stroke:#ffffff;stroke-linecap:round;\"/>\r\n     </g>\r\n     <g id=\"text_14\">\r\n      <!-- 0.8 -->\r\n      <g style=\"fill:#262626;\" transform=\"translate(22.174375 55.866814)scale(0.11 -0.11)\">\r\n       <use xlink:href=\"#ArialMT-48\"/>\r\n       <use x=\"55.615234\" xlink:href=\"#ArialMT-46\"/>\r\n       <use x=\"83.398438\" xlink:href=\"#ArialMT-56\"/>\r\n      </g>\r\n     </g>\r\n    </g>\r\n    <g id=\"text_15\">\r\n     <!-- cumulative explained variance -->\r\n     <defs>\r\n      <path d=\"M 6.390625 0 \r\nL 6.390625 71.578125 \r\nL 15.1875 71.578125 \r\nL 15.1875 0 \r\nz\r\n\" id=\"ArialMT-108\"/>\r\n      <path d=\"M 40.4375 6.390625 \r\nQ 35.546875 2.25 31.03125 0.53125 \r\nQ 26.515625 -1.171875 21.34375 -1.171875 \r\nQ 12.796875 -1.171875 8.203125 3 \r\nQ 3.609375 7.171875 3.609375 13.671875 \r\nQ 3.609375 17.484375 5.34375 20.625 \r\nQ 7.078125 23.78125 9.890625 25.6875 \r\nQ 12.703125 27.59375 16.21875 28.5625 \r\nQ 18.796875 29.25 24.03125 29.890625 \r\nQ 34.671875 31.15625 39.703125 32.90625 \r\nQ 39.75 34.71875 39.75 35.203125 \r\nQ 39.75 40.578125 37.25 42.78125 \r\nQ 33.890625 45.75 27.25 45.75 \r\nQ 21.046875 45.75 18.09375 43.578125 \r\nQ 15.140625 41.40625 13.71875 35.890625 \r\nL 5.125 37.0625 \r\nQ 6.296875 42.578125 8.984375 45.96875 \r\nQ 11.671875 49.359375 16.75 51.1875 \r\nQ 21.828125 53.03125 28.515625 53.03125 \r\nQ 35.15625 53.03125 39.296875 51.46875 \r\nQ 43.453125 49.90625 45.40625 47.53125 \r\nQ 47.359375 45.171875 48.140625 41.546875 \r\nQ 48.578125 39.3125 48.578125 33.453125 \r\nL 48.578125 21.734375 \r\nQ 48.578125 9.46875 49.140625 6.21875 \r\nQ 49.703125 2.984375 51.375 0 \r\nL 42.1875 0 \r\nQ 40.828125 2.734375 40.4375 6.390625 \r\nz\r\nM 39.703125 26.03125 \r\nQ 34.90625 24.078125 25.34375 22.703125 \r\nQ 19.921875 21.921875 17.671875 20.9375 \r\nQ 15.4375 19.96875 14.203125 18.09375 \r\nQ 12.984375 16.21875 12.984375 13.921875 \r\nQ 12.984375 10.40625 15.640625 8.0625 \r\nQ 18.3125 5.71875 23.4375 5.71875 \r\nQ 28.515625 5.71875 32.46875 7.9375 \r\nQ 36.421875 10.15625 38.28125 14.015625 \r\nQ 39.703125 17 39.703125 22.796875 \r\nz\r\n\" id=\"ArialMT-97\"/>\r\n      <path d=\"M 6.640625 61.46875 \r\nL 6.640625 71.578125 \r\nL 15.4375 71.578125 \r\nL 15.4375 61.46875 \r\nz\r\nM 6.640625 0 \r\nL 6.640625 51.859375 \r\nL 15.4375 51.859375 \r\nL 15.4375 0 \r\nz\r\n\" id=\"ArialMT-105\"/>\r\n      <path d=\"M 21 0 \r\nL 1.265625 51.859375 \r\nL 10.546875 51.859375 \r\nL 21.6875 20.796875 \r\nQ 23.484375 15.765625 25 10.359375 \r\nQ 26.171875 14.453125 28.265625 20.21875 \r\nL 39.796875 51.859375 \r\nL 48.828125 51.859375 \r\nL 29.203125 0 \r\nz\r\n\" id=\"ArialMT-118\"/>\r\n      <path d=\"M 0.734375 0 \r\nL 19.671875 26.953125 \r\nL 2.15625 51.859375 \r\nL 13.140625 51.859375 \r\nL 21.09375 39.703125 \r\nQ 23.34375 36.234375 24.703125 33.890625 \r\nQ 26.859375 37.109375 28.65625 39.59375 \r\nL 37.40625 51.859375 \r\nL 47.90625 51.859375 \r\nL 29.984375 27.4375 \r\nL 49.265625 0 \r\nL 38.484375 0 \r\nL 27.828125 16.109375 \r\nL 25 20.453125 \r\nL 11.375 0 \r\nz\r\n\" id=\"ArialMT-120\"/>\r\n      <path d=\"M 40.234375 0 \r\nL 40.234375 6.546875 \r\nQ 35.296875 -1.171875 25.734375 -1.171875 \r\nQ 19.53125 -1.171875 14.328125 2.25 \r\nQ 9.125 5.671875 6.265625 11.796875 \r\nQ 3.421875 17.921875 3.421875 25.875 \r\nQ 3.421875 33.640625 6 39.96875 \r\nQ 8.59375 46.296875 13.765625 49.65625 \r\nQ 18.953125 53.03125 25.34375 53.03125 \r\nQ 30.03125 53.03125 33.6875 51.046875 \r\nQ 37.359375 49.078125 39.65625 45.90625 \r\nL 39.65625 71.578125 \r\nL 48.390625 71.578125 \r\nL 48.390625 0 \r\nz\r\nM 12.453125 25.875 \r\nQ 12.453125 15.921875 16.640625 10.984375 \r\nQ 20.84375 6.0625 26.5625 6.0625 \r\nQ 32.328125 6.0625 36.34375 10.765625 \r\nQ 40.375 15.484375 40.375 25.140625 \r\nQ 40.375 35.796875 36.265625 40.765625 \r\nQ 32.171875 45.75 26.171875 45.75 \r\nQ 20.3125 45.75 16.375 40.96875 \r\nQ 12.453125 36.1875 12.453125 25.875 \r\nz\r\n\" id=\"ArialMT-100\"/>\r\n     </defs>\r\n     <g style=\"fill:#262626;\" transform=\"translate(15.789375 196.29375)rotate(-90)scale(0.12 -0.12)\">\r\n      <use xlink:href=\"#ArialMT-99\"/>\r\n      <use x=\"50\" xlink:href=\"#ArialMT-117\"/>\r\n      <use x=\"105.615234\" xlink:href=\"#ArialMT-109\"/>\r\n      <use x=\"188.916016\" xlink:href=\"#ArialMT-117\"/>\r\n      <use x=\"244.53125\" xlink:href=\"#ArialMT-108\"/>\r\n      <use x=\"266.748047\" xlink:href=\"#ArialMT-97\"/>\r\n      <use x=\"322.363281\" xlink:href=\"#ArialMT-116\"/>\r\n      <use x=\"350.146484\" xlink:href=\"#ArialMT-105\"/>\r\n      <use x=\"372.363281\" xlink:href=\"#ArialMT-118\"/>\r\n      <use x=\"422.363281\" xlink:href=\"#ArialMT-101\"/>\r\n      <use x=\"477.978516\" xlink:href=\"#ArialMT-32\"/>\r\n      <use x=\"505.761719\" xlink:href=\"#ArialMT-101\"/>\r\n      <use x=\"561.376953\" xlink:href=\"#ArialMT-120\"/>\r\n      <use x=\"611.376953\" xlink:href=\"#ArialMT-112\"/>\r\n      <use x=\"666.992188\" xlink:href=\"#ArialMT-108\"/>\r\n      <use x=\"689.208984\" xlink:href=\"#ArialMT-97\"/>\r\n      <use x=\"744.824219\" xlink:href=\"#ArialMT-105\"/>\r\n      <use x=\"767.041016\" xlink:href=\"#ArialMT-110\"/>\r\n      <use x=\"822.65625\" xlink:href=\"#ArialMT-101\"/>\r\n      <use x=\"878.271484\" xlink:href=\"#ArialMT-100\"/>\r\n      <use x=\"933.886719\" xlink:href=\"#ArialMT-32\"/>\r\n      <use x=\"961.669922\" xlink:href=\"#ArialMT-118\"/>\r\n      <use x=\"1011.669922\" xlink:href=\"#ArialMT-97\"/>\r\n      <use x=\"1067.285156\" xlink:href=\"#ArialMT-114\"/>\r\n      <use x=\"1100.585938\" xlink:href=\"#ArialMT-105\"/>\r\n      <use x=\"1122.802734\" xlink:href=\"#ArialMT-97\"/>\r\n      <use x=\"1178.417969\" xlink:href=\"#ArialMT-110\"/>\r\n      <use x=\"1234.033203\" xlink:href=\"#ArialMT-99\"/>\r\n      <use x=\"1284.033203\" xlink:href=\"#ArialMT-101\"/>\r\n     </g>\r\n    </g>\r\n   </g>\r\n   <g id=\"line2d_14\">\r\n    <path clip-path=\"url(#pab4b2154d6)\" d=\"M 62.182557 214.756364 \r\nL 64.171862 198.1723 \r\nL 66.161166 183.919627 \r\nL 68.150471 171.396285 \r\nL 70.139776 160.065279 \r\nL 72.129081 150.08712 \r\nL 74.118386 142.489144 \r\nL 78.096995 129.398848 \r\nL 80.0863 123.970506 \r\nL 84.06491 114.36546 \r\nL 88.043519 106.48282 \r\nL 92.022129 99.368161 \r\nL 96.000739 93.345952 \r\nL 99.979348 87.922086 \r\nL 103.957958 83.110957 \r\nL 107.936568 78.779699 \r\nL 111.915177 74.788403 \r\nL 115.893787 71.090422 \r\nL 119.872396 67.775493 \r\nL 123.851006 64.758761 \r\nL 129.81892 60.695432 \r\nL 133.79753 58.266064 \r\nL 139.765445 54.943366 \r\nL 145.733359 51.889809 \r\nL 151.701273 49.211361 \r\nL 157.669188 46.779687 \r\nL 165.626407 43.898399 \r\nL 173.583626 41.331725 \r\nL 183.53015 38.474927 \r\nL 191.48737 36.45956 \r\nL 201.433894 34.223428 \r\nL 211.380418 32.234075 \r\nL 219.337637 30.832033 \r\nL 233.262771 28.631963 \r\nL 245.1986 26.983279 \r\nL 261.113038 25.058007 \r\nL 277.027477 23.40446 \r\nL 294.93122 21.80843 \r\nL 314.824268 20.252302 \r\nL 336.706621 18.771831 \r\nL 362.567584 17.294033 \r\nL 366.546193 17.083636 \r\nL 366.546193 17.083636 \r\n\" style=\"fill:none;stroke:#4c72b0;stroke-linecap:round;stroke-width:1.5;\"/>\r\n   </g>\r\n   <g id=\"patch_3\">\r\n    <path d=\"M 46.964375 224.64 \r\nL 46.964375 7.2 \r\n\" style=\"fill:none;stroke:#ffffff;stroke-linecap:square;stroke-linejoin:miter;stroke-width:1.25;\"/>\r\n   </g>\r\n   <g id=\"patch_4\">\r\n    <path d=\"M 381.764375 224.64 \r\nL 381.764375 7.2 \r\n\" style=\"fill:none;stroke:#ffffff;stroke-linecap:square;stroke-linejoin:miter;stroke-width:1.25;\"/>\r\n   </g>\r\n   <g id=\"patch_5\">\r\n    <path d=\"M 46.964375 224.64 \r\nL 381.764375 224.64 \r\n\" style=\"fill:none;stroke:#ffffff;stroke-linecap:square;stroke-linejoin:miter;stroke-width:1.25;\"/>\r\n   </g>\r\n   <g id=\"patch_6\">\r\n    <path d=\"M 46.964375 7.2 \r\nL 381.764375 7.2 \r\n\" style=\"fill:none;stroke:#ffffff;stroke-linecap:square;stroke-linejoin:miter;stroke-width:1.25;\"/>\r\n   </g>\r\n  </g>\r\n </g>\r\n <defs>\r\n  <clipPath id=\"pab4b2154d6\">\r\n   <rect height=\"217.44\" width=\"334.8\" x=\"46.964375\" y=\"7.2\"/>\r\n  </clipPath>\r\n </defs>\r\n</svg>\r\n",
      "image/png": "[encoded data removed]"
     },
     "metadata": {}
    }
   ],
   "source": [
    "#Explained variance plot\n",
    "\n",
    "cumsum = np.cumsum(pca.explained_variance_ratio_)\n",
    "plt.plot(np.cumsum(pca.explained_variance_ratio_))\n",
    "plt.xlabel('number of components')\n",
    "plt.ylabel('cumulative explained variance')\n",
    "plt.show()"
   ]
  },
  {
   "cell_type": "markdown",
   "metadata": {},
   "source": [
    "## 3. Using the identified PC from above, use the train.csv to build another random forest classifier."
   ]
  },
  {
   "cell_type": "code",
   "execution_count": 83,
   "metadata": {},
   "outputs": [],
   "source": [
    "X_reduced_train = X_reduced[0:33600, :]\n",
    "X_reduced_test = X_reduced[33600:42000, :]"
   ]
  },
  {
   "cell_type": "code",
   "execution_count": 84,
   "metadata": {},
   "outputs": [],
   "source": [
    "# Convert to integers\n",
    "X_reduced_train = X_reduced_train.astype(int)\n",
    "X_reduced_test = X_reduced_test.astype(int)"
   ]
  },
  {
   "cell_type": "code",
   "execution_count": 85,
   "metadata": {},
   "outputs": [
    {
     "output_type": "stream",
     "name": "stdout",
     "text": [
      "Random classifier took 0:01:24.166400 seconds to run on Test data using PCA\n"
     ]
    }
   ],
   "source": [
    "## Here we have used train.csv data to build another random forest classifier and record the time along with accuracy.\n",
    "\n",
    "start = datetime.datetime.now()\n",
    "rnd_clf2 = RandomForestClassifier(n_estimators = 154, random_state = 42)\n",
    "rnd_clf2.fit(X_reduced_train, y_train)\n",
    "end = datetime.datetime.now()\n",
    "print(f'Random classifier took {end - start} seconds to run on Test data using PCA')"
   ]
  },
  {
   "cell_type": "code",
   "execution_count": 86,
   "metadata": {},
   "outputs": [],
   "source": [
    "y_pred2 = rnd_clf2.predict(X_reduced_test)"
   ]
  },
  {
   "cell_type": "code",
   "execution_count": 87,
   "metadata": {},
   "outputs": [
    {
     "output_type": "stream",
     "name": "stdout",
     "text": [
      "Accuracy:  0.1075\n"
     ]
    }
   ],
   "source": [
    "print('Accuracy: ', accuracy_score(y_test,y_pred2))"
   ]
  },
  {
   "cell_type": "code",
   "execution_count": 88,
   "metadata": {},
   "outputs": [
    {
     "output_type": "stream",
     "name": "stdout",
     "text": [
      "F1 accuracy:  0.10282705843258588\n"
     ]
    }
   ],
   "source": [
    "from sklearn.metrics import confusion_matrix, precision_score, recall_score, f1_score, classification_report\n",
    "print('F1 accuracy: ', f1_score(y_pred2, y_test, average='macro'))"
   ]
  },
  {
   "cell_type": "markdown",
   "metadata": {},
   "source": [
    "## 4. Submit both RF & PCA RF to Kaggle"
   ]
  },
  {
   "cell_type": "markdown",
   "metadata": {},
   "source": [
    "## 5. Identify design flaw  re-run experiment"
   ]
  },
  {
   "cell_type": "markdown",
   "metadata": {},
   "source": [
    "## 6.  k-means clustering to group MNIST observations into 1 of 10 categories & assign labels"
   ]
  },
  {
   "cell_type": "code",
   "execution_count": 147,
   "metadata": {},
   "outputs": [
    {
     "output_type": "error",
     "ename": "KeyError",
     "evalue": "'Passing list-likes to .loc or [] with any missing labels is no longer supported, see https://pandas.pydata.org/pandas-docs/stable/user_guide/indexing.html#deprecate-loc-reindex-listlike'",
     "traceback": [
      "\u001b[1;31m---------------------------------------------------------------------------\u001b[0m",
      "\u001b[1;31mKeyError\u001b[0m                                  Traceback (most recent call last)",
      "\u001b[1;32m<ipython-input-147-2b55db596eea>\u001b[0m in \u001b[0;36m<module>\u001b[1;34m\u001b[0m\n\u001b[0;32m      6\u001b[0m \u001b[0mX_digits_dist\u001b[0m \u001b[1;33m=\u001b[0m \u001b[0mkmeans\u001b[0m\u001b[1;33m.\u001b[0m\u001b[0mfit_transform\u001b[0m\u001b[1;33m(\u001b[0m\u001b[0mX_train\u001b[0m\u001b[1;33m)\u001b[0m\u001b[1;33m\u001b[0m\u001b[1;33m\u001b[0m\u001b[0m\n\u001b[0;32m      7\u001b[0m \u001b[0mrepresentative_digit_idx\u001b[0m \u001b[1;33m=\u001b[0m \u001b[0mnp\u001b[0m\u001b[1;33m.\u001b[0m\u001b[0margmin\u001b[0m\u001b[1;33m(\u001b[0m\u001b[0mX_digits_dist\u001b[0m\u001b[1;33m,\u001b[0m \u001b[0maxis\u001b[0m\u001b[1;33m=\u001b[0m\u001b[1;36m0\u001b[0m\u001b[1;33m)\u001b[0m\u001b[1;33m\u001b[0m\u001b[1;33m\u001b[0m\u001b[0m\n\u001b[1;32m----> 8\u001b[1;33m \u001b[0mX_representative_digits\u001b[0m \u001b[1;33m=\u001b[0m \u001b[0mX_train\u001b[0m\u001b[1;33m.\u001b[0m\u001b[0mloc\u001b[0m\u001b[1;33m[\u001b[0m\u001b[0mrepresentative_digit_idx\u001b[0m\u001b[1;33m]\u001b[0m\u001b[1;33m\u001b[0m\u001b[1;33m\u001b[0m\u001b[0m\n\u001b[0m",
      "\u001b[1;32m~\\anaconda3\\lib\\site-packages\\pandas\\core\\indexing.py\u001b[0m in \u001b[0;36m__getitem__\u001b[1;34m(self, key)\u001b[0m\n\u001b[0;32m   1766\u001b[0m \u001b[1;33m\u001b[0m\u001b[0m\n\u001b[0;32m   1767\u001b[0m             \u001b[0mmaybe_callable\u001b[0m \u001b[1;33m=\u001b[0m \u001b[0mcom\u001b[0m\u001b[1;33m.\u001b[0m\u001b[0mapply_if_callable\u001b[0m\u001b[1;33m(\u001b[0m\u001b[0mkey\u001b[0m\u001b[1;33m,\u001b[0m \u001b[0mself\u001b[0m\u001b[1;33m.\u001b[0m\u001b[0mobj\u001b[0m\u001b[1;33m)\u001b[0m\u001b[1;33m\u001b[0m\u001b[1;33m\u001b[0m\u001b[0m\n\u001b[1;32m-> 1768\u001b[1;33m             \u001b[1;32mreturn\u001b[0m \u001b[0mself\u001b[0m\u001b[1;33m.\u001b[0m\u001b[0m_getitem_axis\u001b[0m\u001b[1;33m(\u001b[0m\u001b[0mmaybe_callable\u001b[0m\u001b[1;33m,\u001b[0m \u001b[0maxis\u001b[0m\u001b[1;33m=\u001b[0m\u001b[0maxis\u001b[0m\u001b[1;33m)\u001b[0m\u001b[1;33m\u001b[0m\u001b[1;33m\u001b[0m\u001b[0m\n\u001b[0m\u001b[0;32m   1769\u001b[0m \u001b[1;33m\u001b[0m\u001b[0m\n\u001b[0;32m   1770\u001b[0m     \u001b[1;32mdef\u001b[0m \u001b[0m_is_scalar_access\u001b[0m\u001b[1;33m(\u001b[0m\u001b[0mself\u001b[0m\u001b[1;33m,\u001b[0m \u001b[0mkey\u001b[0m\u001b[1;33m:\u001b[0m \u001b[0mTuple\u001b[0m\u001b[1;33m)\u001b[0m\u001b[1;33m:\u001b[0m\u001b[1;33m\u001b[0m\u001b[1;33m\u001b[0m\u001b[0m\n",
      "\u001b[1;32m~\\anaconda3\\lib\\site-packages\\pandas\\core\\indexing.py\u001b[0m in \u001b[0;36m_getitem_axis\u001b[1;34m(self, key, axis)\u001b[0m\n\u001b[0;32m   1952\u001b[0m                     \u001b[1;32mraise\u001b[0m \u001b[0mValueError\u001b[0m\u001b[1;33m(\u001b[0m\u001b[1;34m\"Cannot index with multidimensional key\"\u001b[0m\u001b[1;33m)\u001b[0m\u001b[1;33m\u001b[0m\u001b[1;33m\u001b[0m\u001b[0m\n\u001b[0;32m   1953\u001b[0m \u001b[1;33m\u001b[0m\u001b[0m\n\u001b[1;32m-> 1954\u001b[1;33m                 \u001b[1;32mreturn\u001b[0m \u001b[0mself\u001b[0m\u001b[1;33m.\u001b[0m\u001b[0m_getitem_iterable\u001b[0m\u001b[1;33m(\u001b[0m\u001b[0mkey\u001b[0m\u001b[1;33m,\u001b[0m \u001b[0maxis\u001b[0m\u001b[1;33m=\u001b[0m\u001b[0maxis\u001b[0m\u001b[1;33m)\u001b[0m\u001b[1;33m\u001b[0m\u001b[1;33m\u001b[0m\u001b[0m\n\u001b[0m\u001b[0;32m   1955\u001b[0m \u001b[1;33m\u001b[0m\u001b[0m\n\u001b[0;32m   1956\u001b[0m             \u001b[1;31m# nested tuple slicing\u001b[0m\u001b[1;33m\u001b[0m\u001b[1;33m\u001b[0m\u001b[1;33m\u001b[0m\u001b[0m\n",
      "\u001b[1;32m~\\anaconda3\\lib\\site-packages\\pandas\\core\\indexing.py\u001b[0m in \u001b[0;36m_getitem_iterable\u001b[1;34m(self, key, axis)\u001b[0m\n\u001b[0;32m   1593\u001b[0m         \u001b[1;32melse\u001b[0m\u001b[1;33m:\u001b[0m\u001b[1;33m\u001b[0m\u001b[1;33m\u001b[0m\u001b[0m\n\u001b[0;32m   1594\u001b[0m             \u001b[1;31m# A collection of keys\u001b[0m\u001b[1;33m\u001b[0m\u001b[1;33m\u001b[0m\u001b[1;33m\u001b[0m\u001b[0m\n\u001b[1;32m-> 1595\u001b[1;33m             \u001b[0mkeyarr\u001b[0m\u001b[1;33m,\u001b[0m \u001b[0mindexer\u001b[0m \u001b[1;33m=\u001b[0m \u001b[0mself\u001b[0m\u001b[1;33m.\u001b[0m\u001b[0m_get_listlike_indexer\u001b[0m\u001b[1;33m(\u001b[0m\u001b[0mkey\u001b[0m\u001b[1;33m,\u001b[0m \u001b[0maxis\u001b[0m\u001b[1;33m,\u001b[0m \u001b[0mraise_missing\u001b[0m\u001b[1;33m=\u001b[0m\u001b[1;32mFalse\u001b[0m\u001b[1;33m)\u001b[0m\u001b[1;33m\u001b[0m\u001b[1;33m\u001b[0m\u001b[0m\n\u001b[0m\u001b[0;32m   1596\u001b[0m             return self.obj._reindex_with_indexers(\n\u001b[0;32m   1597\u001b[0m                 \u001b[1;33m{\u001b[0m\u001b[0maxis\u001b[0m\u001b[1;33m:\u001b[0m \u001b[1;33m[\u001b[0m\u001b[0mkeyarr\u001b[0m\u001b[1;33m,\u001b[0m \u001b[0mindexer\u001b[0m\u001b[1;33m]\u001b[0m\u001b[1;33m}\u001b[0m\u001b[1;33m,\u001b[0m \u001b[0mcopy\u001b[0m\u001b[1;33m=\u001b[0m\u001b[1;32mTrue\u001b[0m\u001b[1;33m,\u001b[0m \u001b[0mallow_dups\u001b[0m\u001b[1;33m=\u001b[0m\u001b[1;32mTrue\u001b[0m\u001b[1;33m\u001b[0m\u001b[1;33m\u001b[0m\u001b[0m\n",
      "\u001b[1;32m~\\anaconda3\\lib\\site-packages\\pandas\\core\\indexing.py\u001b[0m in \u001b[0;36m_get_listlike_indexer\u001b[1;34m(self, key, axis, raise_missing)\u001b[0m\n\u001b[0;32m   1550\u001b[0m             \u001b[0mkeyarr\u001b[0m\u001b[1;33m,\u001b[0m \u001b[0mindexer\u001b[0m\u001b[1;33m,\u001b[0m \u001b[0mnew_indexer\u001b[0m \u001b[1;33m=\u001b[0m \u001b[0max\u001b[0m\u001b[1;33m.\u001b[0m\u001b[0m_reindex_non_unique\u001b[0m\u001b[1;33m(\u001b[0m\u001b[0mkeyarr\u001b[0m\u001b[1;33m)\u001b[0m\u001b[1;33m\u001b[0m\u001b[1;33m\u001b[0m\u001b[0m\n\u001b[0;32m   1551\u001b[0m \u001b[1;33m\u001b[0m\u001b[0m\n\u001b[1;32m-> 1552\u001b[1;33m         self._validate_read_indexer(\n\u001b[0m\u001b[0;32m   1553\u001b[0m             \u001b[0mkeyarr\u001b[0m\u001b[1;33m,\u001b[0m \u001b[0mindexer\u001b[0m\u001b[1;33m,\u001b[0m \u001b[0mo\u001b[0m\u001b[1;33m.\u001b[0m\u001b[0m_get_axis_number\u001b[0m\u001b[1;33m(\u001b[0m\u001b[0maxis\u001b[0m\u001b[1;33m)\u001b[0m\u001b[1;33m,\u001b[0m \u001b[0mraise_missing\u001b[0m\u001b[1;33m=\u001b[0m\u001b[0mraise_missing\u001b[0m\u001b[1;33m\u001b[0m\u001b[1;33m\u001b[0m\u001b[0m\n\u001b[0;32m   1554\u001b[0m         )\n",
      "\u001b[1;32m~\\anaconda3\\lib\\site-packages\\pandas\\core\\indexing.py\u001b[0m in \u001b[0;36m_validate_read_indexer\u001b[1;34m(self, key, indexer, axis, raise_missing)\u001b[0m\n\u001b[0;32m   1652\u001b[0m             \u001b[1;31m# just raising\u001b[0m\u001b[1;33m\u001b[0m\u001b[1;33m\u001b[0m\u001b[1;33m\u001b[0m\u001b[0m\n\u001b[0;32m   1653\u001b[0m             \u001b[1;32mif\u001b[0m \u001b[1;32mnot\u001b[0m \u001b[1;33m(\u001b[0m\u001b[0max\u001b[0m\u001b[1;33m.\u001b[0m\u001b[0mis_categorical\u001b[0m\u001b[1;33m(\u001b[0m\u001b[1;33m)\u001b[0m \u001b[1;32mor\u001b[0m \u001b[0max\u001b[0m\u001b[1;33m.\u001b[0m\u001b[0mis_interval\u001b[0m\u001b[1;33m(\u001b[0m\u001b[1;33m)\u001b[0m\u001b[1;33m)\u001b[0m\u001b[1;33m:\u001b[0m\u001b[1;33m\u001b[0m\u001b[1;33m\u001b[0m\u001b[0m\n\u001b[1;32m-> 1654\u001b[1;33m                 raise KeyError(\n\u001b[0m\u001b[0;32m   1655\u001b[0m                     \u001b[1;34m\"Passing list-likes to .loc or [] with any missing labels \"\u001b[0m\u001b[1;33m\u001b[0m\u001b[1;33m\u001b[0m\u001b[0m\n\u001b[0;32m   1656\u001b[0m                     \u001b[1;34m\"is no longer supported, see \"\u001b[0m\u001b[1;33m\u001b[0m\u001b[1;33m\u001b[0m\u001b[0m\n",
      "\u001b[1;31mKeyError\u001b[0m: 'Passing list-likes to .loc or [] with any missing labels is no longer supported, see https://pandas.pydata.org/pandas-docs/stable/user_guide/indexing.html#deprecate-loc-reindex-listlike'"
     ]
    }
   ],
   "source": [
    "#Manual method\n",
    "from sklearn.cluster import KMeans\n",
    "\n",
    "k = 50\n",
    "kmeans = KMeans(n_clusters=k)\n",
    "X_digits_dist = kmeans.fit_transform(X_train)\n",
    "representative_digit_idx = np.argmin(X_digits_dist, axis=0)"
   ]
  },
  {
   "cell_type": "code",
   "execution_count": 149,
   "metadata": {},
   "outputs": [],
   "source": [
    "X_representative_digits = X_train.iloc[representative_digit_idx]"
   ]
  },
  {
   "cell_type": "code",
   "execution_count": 151,
   "metadata": {},
   "outputs": [
    {
     "output_type": "execute_result",
     "data": {
      "text/plain": [
       "array([10646, 24572,  1648, 33496, 11605, 18773, 24356,  5853, 10376,\n",
       "       24416, 10605,   530, 32683,  9735, 14238, 20591, 29388,  4873,\n",
       "        2774, 29462,  2365, 15251,  1523, 24472,  8212, 12291, 19931,\n",
       "       22841, 20242,  5039,  8749, 28213, 24228,  9124,   215,  1335,\n",
       "       28429, 10377, 23150, 30848, 30165, 25923, 16884, 19568, 23549,\n",
       "       18942,   117, 22344, 10442, 31446], dtype=int64)"
      ]
     },
     "metadata": {},
     "execution_count": 151
    }
   ],
   "source": [
    "representative_digit_idx"
   ]
  },
  {
   "cell_type": "code",
   "execution_count": 152,
   "metadata": {},
   "outputs": [],
   "source": [
    "def convertImage(dfrow):\n",
    "    image = np.array(X_train.iloc[dfrow], dtype='float').reshape((28,28))\n",
    "    return image"
   ]
  },
  {
   "cell_type": "code",
   "execution_count": 153,
   "metadata": {},
   "outputs": [],
   "source": [
    "images = []\n",
    "for digit in representative_digit_idx:\n",
    "    image = convertImage(digit)\n",
    "    images.append(image)"
   ]
  },
  {
   "cell_type": "code",
   "execution_count": 154,
   "metadata": {},
   "outputs": [
    {
     "output_type": "display_data",
     "data": {
      "text/plain": "<Figure size 36x36 with 1 Axes>",
      "image/svg+xml": "<?xml version=\"1.0\" encoding=\"utf-8\" standalone=\"no\"?>\r\n<!DOCTYPE svg PUBLIC \"-//W3C//DTD SVG 1.1//EN\"\r\n  \"http://www.w3.org/Graphics/SVG/1.1/DTD/svg11.dtd\">\r\n<!-- Created with matplotlib (https://matplotlib.org/) -->\r\n<svg height=\"41.58pt\" version=\"1.1\" viewBox=\"0 0 41.58 41.58\" width=\"41.58pt\" xmlns=\"http://www.w3.org/2000/svg\" xmlns:xlink=\"http://www.w3.org/1999/xlink\">\r\n <defs>\r\n  <style type=\"text/css\">\r\n*{stroke-linecap:butt;stroke-linejoin:round;}\r\n  </style>\r\n </defs>\r\n <g id=\"figure_1\">\r\n  <g id=\"patch_1\">\r\n   <path d=\"M 0 41.58 \r\nL 41.58 41.58 \r\nL 41.58 0 \r\nL 0 0 \r\nz\r\n\" style=\"fill:#ffffff;\"/>\r\n  </g>\r\n  <g id=\"axes_1\">\r\n   <g clip-path=\"url(#pffc8633e7c)\">\r\n    <image height=\"28\" id=\"imageac362024c3\" transform=\"scale(1 -1)translate(0 -28)\" width=\"28\" x=\"7.2\" xlink:href=\"data:image/png;base64,\r\niVBORw0KGgoAAAANSUhEUgAAABwAAAAcCAYAAAByDd+UAAAABHNCSVQICAgIfAhkiAAAAgZJREFUSIntlr3LcXEYx7/3Q5SXpAxKDJKUQV4GWUxGs4VSRiMWGQwiK5OFP8CiY/InIH+BwSkMBkre6ee6l9vpcd9eDrkNT8+3rjrnevt0nc7vOucDAOGN+vNO2H/gr0j6G01tNhusVusPP8dx4oClUgkKhUK4z+Vy4Hn+R14kEoHf74fL5YLD4TiLlctlcByHD9w5FlarFd1uFyqVSvANBgNEo9GzPKfTiWKxCLlcDgBYr9fIZrPQ6/UoFApYLpfY7/fAF/CqVatVYoyJNp7nKZFIUCwWu9jv7iMdj8dgjEEikVyMz+dzjMdjGI1GZDIZNBoNjEajmz1vTgiAKpXKxWl2ux2FQiECQOFw+G6fL7ufpFaryePxUK/Xo+FwSNvtlhhjtFqtSKvVigWJB363TqcjTNlut8lisYiufergHw4H4drj8cDtdouufQoYDAbR6/WeKX0OOJvNUKvV3gc8KZ/PvxeYTqdfC4zH40ilUpBKz/eDTCaDyWR6GHbS1VeYiIgxRsVikXw+n+A3GAxnC+B0+EXa9eDxeBSaDodD8nq9ZDabieM4wd9sNkmj0bwG2Gg0bi7q3W73yEq7D9TpdFSv1ymZTNJ0OqXD4XAGnEwmD2+pm8Dv1u/3iTFGi8WCqtUq2e32h4F3P8B/KxAIQKlUYrPZoNVqiS0700PAV+jf/038BITaCOg8nZMUAAAAAElFTkSuQmCC\" y=\"-6.38\"/>\r\n   </g>\r\n  </g>\r\n </g>\r\n <defs>\r\n  <clipPath id=\"pffc8633e7c\">\r\n   <rect height=\"27.18\" width=\"27.18\" x=\"7.2\" y=\"7.2\"/>\r\n  </clipPath>\r\n </defs>\r\n</svg>\r\n",
      "image/png": "[encoded data removed]"
     },
     "metadata": {}
    },
    {
     "output_type": "display_data",
     "data": {
      "text/plain": "<Figure size 36x36 with 1 Axes>",
      "image/svg+xml": "<?xml version=\"1.0\" encoding=\"utf-8\" standalone=\"no\"?>\r\n<!DOCTYPE svg PUBLIC \"-//W3C//DTD SVG 1.1//EN\"\r\n  \"http://www.w3.org/Graphics/SVG/1.1/DTD/svg11.dtd\">\r\n<!-- Created with matplotlib (https://matplotlib.org/) -->\r\n<svg height=\"41.58pt\" version=\"1.1\" viewBox=\"0 0 41.58 41.58\" width=\"41.58pt\" xmlns=\"http://www.w3.org/2000/svg\" xmlns:xlink=\"http://www.w3.org/1999/xlink\">\r\n <defs>\r\n  <style type=\"text/css\">\r\n*{stroke-linecap:butt;stroke-linejoin:round;}\r\n  </style>\r\n </defs>\r\n <g id=\"figure_1\">\r\n  <g id=\"patch_1\">\r\n   <path d=\"M 0 41.58 \r\nL 41.58 41.58 \r\nL 41.58 0 \r\nL 0 0 \r\nz\r\n\" style=\"fill:#ffffff;\"/>\r\n  </g>\r\n  <g id=\"axes_1\">\r\n   <g clip-path=\"url(#p349b29298d)\">\r\n    <image height=\"28\" id=\"image1df2b6df29\" transform=\"scale(1 -1)translate(0 -28)\" width=\"28\" x=\"7.2\" xlink:href=\"data:image/png;base64,\r\niVBORw0KGgoAAAANSUhEUgAAABwAAAAcCAYAAAByDd+UAAAABHNCSVQICAgIfAhkiAAAAWNJREFUSIntlr2KwlAQhU+2VlIErKythBQ2FiJY2EgeIbWFjU+Qp0iRRh8gb5Be7GwNtsHKIoFAyhnPFrsbdmFhL5Eru7ADA7eYw8c5l/vjACCeWC/PhP0Dv9RyuYSIYL1ePwylSadpShGhiDAIAiPNd90p0tVq1dmdMdBxnLaDIOgMBAyjmE6nbaR1XdP3fbuRNk2DpmkAAL1eD9vt1q5DADwejxQRqirzPKfneV1cmg/PZjPWdc37/U5V5W63swsEwPP5TFWliDDPc7quaxc4Go1aoIhwOBzaBQLg5XJpgUmS2AeGYUhVbXsymdgFAuB+v29dRlFkH/j5IiiKwljX+XmqqgpVVQEABoMBFouFsbaTQwCM45iqSpLMssxupMDbESnLkqrKw+FgHwiARVFQVXm73Tifz+3t4UelaQoA8DwPm83GSPOQw36/z9PpxOv1yvF4/OO88754Wv3eX9ufBb4Cd28mnmI13okAAAAASUVORK5CYII=\" y=\"-6.38\"/>\r\n   </g>\r\n  </g>\r\n </g>\r\n <defs>\r\n  <clipPath id=\"p349b29298d\">\r\n   <rect height=\"27.18\" width=\"27.18\" x=\"7.2\" y=\"7.2\"/>\r\n  </clipPath>\r\n </defs>\r\n</svg>\r\n",
      "image/png": "[encoded data removed]"
     },
     "metadata": {}
    },
    {
     "output_type": "display_data",
     "data": {
      "text/plain": "<Figure size 36x36 with 1 Axes>",
      "image/svg+xml": "<?xml version=\"1.0\" encoding=\"utf-8\" standalone=\"no\"?>\r\n<!DOCTYPE svg PUBLIC \"-//W3C//DTD SVG 1.1//EN\"\r\n  \"http://www.w3.org/Graphics/SVG/1.1/DTD/svg11.dtd\">\r\n<!-- Created with matplotlib (https://matplotlib.org/) -->\r\n<svg height=\"41.58pt\" version=\"1.1\" viewBox=\"0 0 41.58 41.58\" width=\"41.58pt\" xmlns=\"http://www.w3.org/2000/svg\" xmlns:xlink=\"http://www.w3.org/1999/xlink\">\r\n <defs>\r\n  <style type=\"text/css\">\r\n*{stroke-linecap:butt;stroke-linejoin:round;}\r\n  </style>\r\n </defs>\r\n <g id=\"figure_1\">\r\n  <g id=\"patch_1\">\r\n   <path d=\"M 0 41.58 \r\nL 41.58 41.58 \r\nL 41.58 0 \r\nL 0 0 \r\nz\r\n\" style=\"fill:#ffffff;\"/>\r\n  </g>\r\n  <g id=\"axes_1\">\r\n   <g clip-path=\"url(#p25d91c6a3d)\">\r\n    <image height=\"28\" id=\"imagef8add6a135\" transform=\"scale(1 -1)translate(0 -28)\" width=\"28\" x=\"7.2\" xlink:href=\"data:image/png;base64,\r\niVBORw0KGgoAAAANSUhEUgAAABwAAAAcCAYAAAByDd+UAAAABHNCSVQICAgIfAhkiAAAAfNJREFUSIntlr+uKVEUxteZmWISf6NREI1EIQqR8QQSapWKREE8gVDxALrpKTQjeqFQ8AgKOsJEEBEmChHs71bkOmecyz2O5N6cL/mqtXd+e63stfZ+IyLQC8W9EvYD/BYJtwIcx5Hf76dWq0WCIFC73abJZELL5ZJKpRIdDoe/hkLPPp8PjLEP3mw2aLfbyOVycDgcunv/YP1Ap9O5QFRVRb1ex2AwQLPZBGMMACDL8vOAvV4PjDFst1uUSiUQEex2O4gIkUgElUoFo9HoecByuQxZluFyuXTjbrcbiqLA6/XC6XR+HchxHHie/3SzJEmo1WoQRfFu4M22YIzR6XS6FSYiokAgQEajkUwm06frftfNtnivUChEwWCQptMpeTweisfjtF6vKZVKkaZpdwOJ7ihDMpm8ao3j8YjdbodsNvvwpbkrw+l0Svv9nkRRpNVqReFwmDRNI1VVH8rs7gyJCIqiXDJsNBqwWCwwGAzPaws9F4vFq9L2+/3vBQqCgHq9fpk0jDGMx2NUq1Wk02nYbLbnAs/OZDK6c5Yxhvl8jkKhgFgsBkmSYLVavw7keR6JRAK73Q6NRgOVSgXdbhfD4fDDARaLxfuZ+zjwbLPZfPViiKKIaDSK2WwGWZaRz+exXq+vgG9n6qv0/38xfoD/PvAXJUtGiA7OsqAAAAAASUVORK5CYII=\" y=\"-6.38\"/>\r\n   </g>\r\n  </g>\r\n </g>\r\n <defs>\r\n  <clipPath id=\"p25d91c6a3d\">\r\n   <rect height=\"27.18\" width=\"27.18\" x=\"7.2\" y=\"7.2\"/>\r\n  </clipPath>\r\n </defs>\r\n</svg>\r\n",
      "image/png": "[encoded data removed]"
     },
     "metadata": {}
    },
    {
     "output_type": "display_data",
     "data": {
      "text/plain": "<Figure size 36x36 with 1 Axes>",
      "image/svg+xml": "<?xml version=\"1.0\" encoding=\"utf-8\" standalone=\"no\"?>\r\n<!DOCTYPE svg PUBLIC \"-//W3C//DTD SVG 1.1//EN\"\r\n  \"http://www.w3.org/Graphics/SVG/1.1/DTD/svg11.dtd\">\r\n<!-- Created with matplotlib (https://matplotlib.org/) -->\r\n<svg height=\"41.58pt\" version=\"1.1\" viewBox=\"0 0 41.58 41.58\" width=\"41.58pt\" xmlns=\"http://www.w3.org/2000/svg\" xmlns:xlink=\"http://www.w3.org/1999/xlink\">\r\n <defs>\r\n  <style type=\"text/css\">\r\n*{stroke-linecap:butt;stroke-linejoin:round;}\r\n  </style>\r\n </defs>\r\n <g id=\"figure_1\">\r\n  <g id=\"patch_1\">\r\n   <path d=\"M 0 41.58 \r\nL 41.58 41.58 \r\nL 41.58 0 \r\nL 0 0 \r\nz\r\n\" style=\"fill:#ffffff;\"/>\r\n  </g>\r\n  <g id=\"axes_1\">\r\n   <g clip-path=\"url(#pc7cbc9217b)\">\r\n    <image height=\"28\" id=\"image16928d896d\" transform=\"scale(1 -1)translate(0 -28)\" width=\"28\" x=\"7.2\" xlink:href=\"data:image/png;base64,\r\niVBORw0KGgoAAAANSUhEUgAAABwAAAAcCAYAAAByDd+UAAAABHNCSVQICAgIfAhkiAAAAkRJREFUSIntVj1rIlEUPa6OEj8QBVs/CkGm9AtTOUUwZUDtBMHOwl7L7cRG/AVqpxZCOsEfkErbEHAgTKMJiIhTTIR53hRLZjGaZUYlpNgDBy5z577DPXPfe2MCQPhG/PpOsZ8nyHEcGo0GVFWFqqqQZRmNRgPJZBIWi+VkUfqKtVqNVFXVyBjT4vv7e0qlUl/W/oPHEzabjcbj8ZeCH+z1eoYEzQB+H2vb6XSiWq3i7e0N+XwerVYLT09PWC6XWC6XCIVCAIBIJILtdouHh4fzLXW73eTxeI523+12iTFGRETb7ZbS6fR5luphv9/XbL67u9NVc9a2mEwmWlwul3XVnCXo9/u1WJIkXTWGNtPV1RVyuRwCgQByuRx4ntdyw+FQ9zq6vG+32/T6+kqMsT0SEXU6HbLZbJcbmlgsRpvN5mAfbjYbarfbhgZNl6U8z8NutwMAFEWBKIp4fHxEs9nEdDrVbSVg8BsCwGw2QzQaNVqmQdeUPj8/Q1EUAEA4HEapVDpZENDp/WKxICIixhgpikL1ep0cDsflDu/PjMfjJMvyweEtyzIJgkBWq/W8w/sz5vM5PB4Prq+v955brVYUi0WkUinc3Nzg5eUFXq8XLpcLq9XqdEsBUKVSOejw2JXFGKP1ek2j0YiCweDeGqYPX/WA4zik02nY7XZIkoR4PI7b21tks9m990wmE4j+LFsoFDAYDP7mjAgeg9lshs/nQz6fh9/vRyKRgCAI2O12kCQJmUwGoiheTtAoftZf23/BU/AOw8Qc4KviMiwAAAAASUVORK5CYII=\" y=\"-6.38\"/>\r\n   </g>\r\n  </g>\r\n </g>\r\n <defs>\r\n  <clipPath id=\"pc7cbc9217b\">\r\n   <rect height=\"27.18\" width=\"27.18\" x=\"7.2\" y=\"7.2\"/>\r\n  </clipPath>\r\n </defs>\r\n</svg>\r\n",
      "image/png": "[encoded data removed]"
     },
     "metadata": {}
    },
    {
     "output_type": "display_data",
     "data": {
      "text/plain": "<Figure size 36x36 with 1 Axes>",
      "image/svg+xml": "<?xml version=\"1.0\" encoding=\"utf-8\" standalone=\"no\"?>\r\n<!DOCTYPE svg PUBLIC \"-//W3C//DTD SVG 1.1//EN\"\r\n  \"http://www.w3.org/Graphics/SVG/1.1/DTD/svg11.dtd\">\r\n<!-- Created with matplotlib (https://matplotlib.org/) -->\r\n<svg height=\"41.58pt\" version=\"1.1\" viewBox=\"0 0 41.58 41.58\" width=\"41.58pt\" xmlns=\"http://www.w3.org/2000/svg\" xmlns:xlink=\"http://www.w3.org/1999/xlink\">\r\n <defs>\r\n  <style type=\"text/css\">\r\n*{stroke-linecap:butt;stroke-linejoin:round;}\r\n  </style>\r\n </defs>\r\n <g id=\"figure_1\">\r\n  <g id=\"patch_1\">\r\n   <path d=\"M 0 41.58 \r\nL 41.58 41.58 \r\nL 41.58 0 \r\nL 0 0 \r\nz\r\n\" style=\"fill:#ffffff;\"/>\r\n  </g>\r\n  <g id=\"axes_1\">\r\n   <g clip-path=\"url(#pf9bb91ba2e)\">\r\n    <image height=\"28\" id=\"image576ee4fd6c\" transform=\"scale(1 -1)translate(0 -28)\" width=\"28\" x=\"7.2\" xlink:href=\"data:image/png;base64,\r\niVBORw0KGgoAAAANSUhEUgAAABwAAAAcCAYAAAByDd+UAAAABHNCSVQICAgIfAhkiAAAAe1JREFUSIntlr2K6lAUhZd6hbFJqYgRRDAWWllImtQSELSztrSw8AUkiK9gJb6AIFYWFtorKiLY+lcoCP40sZC493RTTWLGMMLA3XCqfOuss06yN3EBYLyx3O80+1uG5XIZuq4jlUq9x1AQBPh8PsRisfcY7nY7AIDL5fqxll9ZkiSxruu83+85HA7/RPuaIQC+XC7MzKxpmm2N46+UmSGKom3ekeFisQAAKIqCUChkS+OCyaRpt9sIBoOWYlmW4fF4AACTyQTpdNqW6bd3vV6vmYhsL8MwWFXV332Hs9kM5/MZAOB2u/Hx8fFU88/sQb1eR7PZBAAsl0vM53N0Oh0cDocvZjqdIhKJoNfrIRaLIR6P2zrot9E9Hg+Px2MmIh4Oh5bXVCqVmIh4tVqx3+9/vQ8zmQxfr1e+3W4cCARMuWw2y4ZhMBFxIpFw1viNRoOJiPv9viXXarWYiLhWqzkzVFWVDcNgwzBYlmVTrlqtMhHx/X5nr9frbLSNRiMmIi4UCqaMKIpfLZLL5Zy1RbfbBQDk83lTRtd1bDYbAEA0GrXc72lCQRCYiPjxeHA0GjXlNE1jIuJKpeIs4e12w2AwwPF4hKIoptx2u7Wz3fOEADiZTHKxWLRkJEni0+lkmdB0eP9W/Z2/tv+GZvUJGv/o98X5bYwAAAAASUVORK5CYII=\" y=\"-6.38\"/>\r\n   </g>\r\n  </g>\r\n </g>\r\n <defs>\r\n  <clipPath id=\"pf9bb91ba2e\">\r\n   <rect height=\"27.18\" width=\"27.18\" x=\"7.2\" y=\"7.2\"/>\r\n  </clipPath>\r\n </defs>\r\n</svg>\r\n",
      "image/png": "[encoded data removed]"
     },
     "metadata": {}
    },
    {
     "output_type": "display_data",
     "data": {
      "text/plain": "<Figure size 36x36 with 1 Axes>",
      "image/svg+xml": "<?xml version=\"1.0\" encoding=\"utf-8\" standalone=\"no\"?>\r\n<!DOCTYPE svg PUBLIC \"-//W3C//DTD SVG 1.1//EN\"\r\n  \"http://www.w3.org/Graphics/SVG/1.1/DTD/svg11.dtd\">\r\n<!-- Created with matplotlib (https://matplotlib.org/) -->\r\n<svg height=\"41.58pt\" version=\"1.1\" viewBox=\"0 0 41.58 41.58\" width=\"41.58pt\" xmlns=\"http://www.w3.org/2000/svg\" xmlns:xlink=\"http://www.w3.org/1999/xlink\">\r\n <defs>\r\n  <style type=\"text/css\">\r\n*{stroke-linecap:butt;stroke-linejoin:round;}\r\n  </style>\r\n </defs>\r\n <g id=\"figure_1\">\r\n  <g id=\"patch_1\">\r\n   <path d=\"M 0 41.58 \r\nL 41.58 41.58 \r\nL 41.58 0 \r\nL 0 0 \r\nz\r\n\" style=\"fill:#ffffff;\"/>\r\n  </g>\r\n  <g id=\"axes_1\">\r\n   <g clip-path=\"url(#p7548385b1b)\">\r\n    <image height=\"28\" id=\"imagec54bb85c5b\" transform=\"scale(1 -1)translate(0 -28)\" width=\"28\" x=\"7.2\" xlink:href=\"data:image/png;base64,\r\niVBORw0KGgoAAAANSUhEUgAAABwAAAAcCAYAAAByDd+UAAAABHNCSVQICAgIfAhkiAAAAdpJREFUSIntljGr4kAQx/8r11gsCFZGW0E0lVikS8DSL2Ah2NgKprP0A0Qittoq+AHsLEQx2IiNTWKRQoh1CguL3XnFcY/zHvryzpzcwQ38i+xM9sdkZrLLABBeaIlXwv4DAQC5XA6TyQRCCAgh0O/3YVkWKpUKUqnUl4EMD5omk8lguVyCiLDdbqEoClzXha7rKJVK8DwPm80Gg8EAh8MhMpTuyTRNWq/XlE6nb9Y559RsNmm/35OUksIwpHa7Tclk8u5eP+m+0zAMMgzjrp9zTsVikVzXJSkl9Xq954BRpSgK+b5PQgjSdf1hbCxdGgQBxuMxAKBcLj+MjW0sjsdjpLjYgK1WC4yxSLFP1xAAOY5DYRh+GvctagaqqqLT6YBzjiAIMJvN3n21Wg35fB6j0Si+DB3HISEESSlJCPGuH8+LxYJUVY0vQ8YYGGNYrVbY7XY36+fzGcPhENfrNf4MTdN8qtaRu3Q+nwP4/n99xiIDPc8DANTr9dcAGWNIJBKRZ+1pIBFBSolsNovT6QTLslAoFH7rE0cqdrVaJd/3P4zF5XIh27aJcx61cb52KmiaRpqm3ZyHQgiybTt+4K/inFOj0aDpdErdbjfSOw+vGH/C/r5b2z8PfAMsZbj4Xfr9qwAAAABJRU5ErkJggg==\" y=\"-6.38\"/>\r\n   </g>\r\n  </g>\r\n </g>\r\n <defs>\r\n  <clipPath id=\"p7548385b1b\">\r\n   <rect height=\"27.18\" width=\"27.18\" x=\"7.2\" y=\"7.2\"/>\r\n  </clipPath>\r\n </defs>\r\n</svg>\r\n",
      "image/png": "[encoded data removed]"
     },
     "metadata": {}
    },
    {
     "output_type": "display_data",
     "data": {
      "text/plain": "<Figure size 36x36 with 1 Axes>",
      "image/svg+xml": "<?xml version=\"1.0\" encoding=\"utf-8\" standalone=\"no\"?>\r\n<!DOCTYPE svg PUBLIC \"-//W3C//DTD SVG 1.1//EN\"\r\n  \"http://www.w3.org/Graphics/SVG/1.1/DTD/svg11.dtd\">\r\n<!-- Created with matplotlib (https://matplotlib.org/) -->\r\n<svg height=\"41.58pt\" version=\"1.1\" viewBox=\"0 0 41.58 41.58\" width=\"41.58pt\" xmlns=\"http://www.w3.org/2000/svg\" xmlns:xlink=\"http://www.w3.org/1999/xlink\">\r\n <defs>\r\n  <style type=\"text/css\">\r\n*{stroke-linecap:butt;stroke-linejoin:round;}\r\n  </style>\r\n </defs>\r\n <g id=\"figure_1\">\r\n  <g id=\"patch_1\">\r\n   <path d=\"M 0 41.58 \r\nL 41.58 41.58 \r\nL 41.58 0 \r\nL 0 0 \r\nz\r\n\" style=\"fill:#ffffff;\"/>\r\n  </g>\r\n  <g id=\"axes_1\">\r\n   <g clip-path=\"url(#pa6cc5523d3)\">\r\n    <image height=\"28\" id=\"image40d80f7da3\" transform=\"scale(1 -1)translate(0 -28)\" width=\"28\" x=\"7.2\" xlink:href=\"data:image/png;base64,\r\niVBORw0KGgoAAAANSUhEUgAAABwAAAAcCAYAAAByDd+UAAAABHNCSVQICAgIfAhkiAAAAmlJREFUSInllr9rIlEQxyeXjbI2QRDESCKYlCnsFDshaBMClmKZ/AlB0EICgRSmTOGPdBHFIoUWgpUIIUHERoOJ2C4EFCtFUeHt96o8bnFvN553ctwNDLx9b2Y/M/PevN0tIgJtUL5tEvafA+12OyUSCXp/fyfGGKVSKTo9PSWr1bo2FGrabrfBGFvSj48PFItFeL1eVb8v6PKk2+3GdDpVBX7qfD5Hq9VCLpeDIAjrAR8fHzVhjDEA4ON+v4/r62vs7+/rAgW1Gu/s7PDx8/MzJZNJ/ux0Ouni4oIcDgefs1gsFIvFqNlskiRJq+/h7e0tjz4ejy+t22w2eDwe3N/fK7IeDAYwm82rl/Tw8BD9fh+MMdTrdWxvb6s6GwwG+Hw+1Go1Dr26utLbU/1TGo1GNaMWRRHlcpnbRyKR1YHn5+dYLBa8FVwulyZ0d3cXnU4HjDG0Wq3VgUSEp6cnyLIMWZYxGAxwfHysCfX5fJhMJpjP51p9+vMXnJycYDQa8VLl83mIoqgJjUajfC9XBhIRQqGQ4iQ+PDzg6OhIF1gsFlXXdS/vUqlENzc3NJvNiIgoHA7Ty8sL3d3d0cHBgZ67quj1DYgIb29vikxlWUahUIDValXYSZKkmeGXgYIgIJfLKYCMMVxeXnKbYDDI7+C1gUQEk8mEbDarAGYyGRARLBYLer0eDyiRSKwPJCIYjUYEAgGMx2MsFguk02mcnZ1hOBxyWKfTgcFg+D3AH9Xv96NSqSx9SarVqpbfrwOJCKVSSQF7fX3F3t7enwN6PB40Gg3Isoxutwu73a5pv/VJ3ZT8PX9t/wzwO+XdaEj4TwyBAAAAAElFTkSuQmCC\" y=\"-6.38\"/>\r\n   </g>\r\n  </g>\r\n </g>\r\n <defs>\r\n  <clipPath id=\"pa6cc5523d3\">\r\n   <rect height=\"27.18\" width=\"27.18\" x=\"7.2\" y=\"7.2\"/>\r\n  </clipPath>\r\n </defs>\r\n</svg>\r\n",
      "image/png": "[encoded data removed]"
     },
     "metadata": {}
    },
    {
     "output_type": "display_data",
     "data": {
      "text/plain": "<Figure size 36x36 with 1 Axes>",
      "image/svg+xml": "<?xml version=\"1.0\" encoding=\"utf-8\" standalone=\"no\"?>\r\n<!DOCTYPE svg PUBLIC \"-//W3C//DTD SVG 1.1//EN\"\r\n  \"http://www.w3.org/Graphics/SVG/1.1/DTD/svg11.dtd\">\r\n<!-- Created with matplotlib (https://matplotlib.org/) -->\r\n<svg height=\"41.58pt\" version=\"1.1\" viewBox=\"0 0 41.58 41.58\" width=\"41.58pt\" xmlns=\"http://www.w3.org/2000/svg\" xmlns:xlink=\"http://www.w3.org/1999/xlink\">\r\n <defs>\r\n  <style type=\"text/css\">\r\n*{stroke-linecap:butt;stroke-linejoin:round;}\r\n  </style>\r\n </defs>\r\n <g id=\"figure_1\">\r\n  <g id=\"patch_1\">\r\n   <path d=\"M 0 41.58 \r\nL 41.58 41.58 \r\nL 41.58 0 \r\nL 0 0 \r\nz\r\n\" style=\"fill:#ffffff;\"/>\r\n  </g>\r\n  <g id=\"axes_1\">\r\n   <g clip-path=\"url(#pc118258f52)\">\r\n    <image height=\"28\" id=\"imageba5086f22f\" transform=\"scale(1 -1)translate(0 -28)\" width=\"28\" x=\"7.2\" xlink:href=\"data:image/png;base64,\r\niVBORw0KGgoAAAANSUhEUgAAABwAAAAcCAYAAAByDd+UAAAABHNCSVQICAgIfAhkiAAAAWFJREFUSIntlr2KAjEQx3+e60djs2Sx3QewFQQb260sfIYt9h3sxScQlK0sBbWy1FZEBCsLYQVLBb/7XHMnd8XBzh6muRsYCGH++YXMZJIUoDFobyZh/8A/CnRdl9FoxPl8ZrVa0Wq1SKfTrwFmMhl2ux3b7RalFOVymcPhQKfTEW1ax3XP8/R+v/821+/3te/7sdcQH+l6vaZQKADg+z73+51erxdbb0mBrusyHA6JoojH40Gz2RTpxcDxeEwYhiilWC6XUjkgyGGlUtGTySR2/A8uE8znc53NZhMDxUVzvV4plUpS2dPEwNlshud55oDT6ZRqtWoOuFgsuN1u5HI5M0CAy+VCvV5PBIQEleY4jg6CwEyVAhyPR2q1Go1GQ6xN/B62222UUom0iS/xYDDQjuO8ttN8ddu2dbfbfX0OP+10OpHP5wmCQKT7VTO2LEtvNhtdLBZjxac+BsbM+K/tHV+2ItBitIQaAAAAAElFTkSuQmCC\" y=\"-6.38\"/>\r\n   </g>\r\n  </g>\r\n </g>\r\n <defs>\r\n  <clipPath id=\"pc118258f52\">\r\n   <rect height=\"27.18\" width=\"27.18\" x=\"7.2\" y=\"7.2\"/>\r\n  </clipPath>\r\n </defs>\r\n</svg>\r\n",
      "image/png": "[encoded data removed]"
     },
     "metadata": {}
    },
    {
     "output_type": "display_data",
     "data": {
      "text/plain": "<Figure size 36x36 with 1 Axes>",
      "image/svg+xml": "<?xml version=\"1.0\" encoding=\"utf-8\" standalone=\"no\"?>\r\n<!DOCTYPE svg PUBLIC \"-//W3C//DTD SVG 1.1//EN\"\r\n  \"http://www.w3.org/Graphics/SVG/1.1/DTD/svg11.dtd\">\r\n<!-- Created with matplotlib (https://matplotlib.org/) -->\r\n<svg height=\"41.58pt\" version=\"1.1\" viewBox=\"0 0 41.58 41.58\" width=\"41.58pt\" xmlns=\"http://www.w3.org/2000/svg\" xmlns:xlink=\"http://www.w3.org/1999/xlink\">\r\n <defs>\r\n  <style type=\"text/css\">\r\n*{stroke-linecap:butt;stroke-linejoin:round;}\r\n  </style>\r\n </defs>\r\n <g id=\"figure_1\">\r\n  <g id=\"patch_1\">\r\n   <path d=\"M 0 41.58 \r\nL 41.58 41.58 \r\nL 41.58 0 \r\nL 0 0 \r\nz\r\n\" style=\"fill:#ffffff;\"/>\r\n  </g>\r\n  <g id=\"axes_1\">\r\n   <g clip-path=\"url(#p1cbde5f3e3)\">\r\n    <image height=\"28\" id=\"image84dbfad68e\" transform=\"scale(1 -1)translate(0 -28)\" width=\"28\" x=\"7.2\" xlink:href=\"data:image/png;base64,\r\niVBORw0KGgoAAAANSUhEUgAAABwAAAAcCAYAAAByDd+UAAAABHNCSVQICAgIfAhkiAAAAgRJREFUSIntlr+q4kAUxsdltbASJK0GkiJY2GhhIbaSwlfwCdRCm4CNNmkUDKRLaeULiJVYqLWFiI6QgGliobVNwrdVws1NXOcuF4vdPfAVM5zMb86/IQlCCMgb7cc7Yf8G8CerY7lcJtlsllwuF3I6nb4fmEwmSbfbJdVqNQByHEds2yaHwyHw22w2ZDqdEsdxmKGIk6Io8DwvIgCRtWVZ0DQNtVot9qxPim6qqgrXdWPled7T9Ww2Y4GGN5rNJh6PR3CIaZoYjUYQRTGk8XiM+XweucD9fkcul2MHrlar0AGFQuG3N5ZlGbvdLhTxcrlEvV5nA3Y6nVCNGGoCnucxHA5DNaaUsgHb7XYowslkwgQlhEDTtCDFjuOgWCy+BmYyGViWFQBvt9urmgTiOA77/T74Vtd1ti7dbrehKHVdRzqdZoJ+zhATUJblyPwZhsEEfNUDsW/pYrEg/X6fAAjUaDRIq9WKcw/Zx28AxPvEKZVKQVGUyOAbhoF0Oo1SqRRpfUmScL1eA9/BYMCWUl+JRAKqqoYeAn/OHMeB67oQBAGCIKBSqcA0zaBLbdtGPp//GtAXpZTpafu4Ph6PbHP4LFI/vSxA0zQhSdKfA/2aiqIYmrM4oGVZzwb+a0BfPM+j1+thvV5DlmWcz2dQSkEphaqqL9/ehE99l/39P1H/gd9uvwBHZYYD/qWsqgAAAABJRU5ErkJggg==\" y=\"-6.38\"/>\r\n   </g>\r\n  </g>\r\n </g>\r\n <defs>\r\n  <clipPath id=\"p1cbde5f3e3\">\r\n   <rect height=\"27.18\" width=\"27.18\" x=\"7.2\" y=\"7.2\"/>\r\n  </clipPath>\r\n </defs>\r\n</svg>\r\n",
      "image/png": "[encoded data removed]"
     },
     "metadata": {}
    },
    {
     "output_type": "display_data",
     "data": {
      "text/plain": "<Figure size 36x36 with 1 Axes>",
      "image/svg+xml": "<?xml version=\"1.0\" encoding=\"utf-8\" standalone=\"no\"?>\r\n<!DOCTYPE svg PUBLIC \"-//W3C//DTD SVG 1.1//EN\"\r\n  \"http://www.w3.org/Graphics/SVG/1.1/DTD/svg11.dtd\">\r\n<!-- Created with matplotlib (https://matplotlib.org/) -->\r\n<svg height=\"41.58pt\" version=\"1.1\" viewBox=\"0 0 41.58 41.58\" width=\"41.58pt\" xmlns=\"http://www.w3.org/2000/svg\" xmlns:xlink=\"http://www.w3.org/1999/xlink\">\r\n <defs>\r\n  <style type=\"text/css\">\r\n*{stroke-linecap:butt;stroke-linejoin:round;}\r\n  </style>\r\n </defs>\r\n <g id=\"figure_1\">\r\n  <g id=\"patch_1\">\r\n   <path d=\"M 0 41.58 \r\nL 41.58 41.58 \r\nL 41.58 0 \r\nL 0 0 \r\nz\r\n\" style=\"fill:#ffffff;\"/>\r\n  </g>\r\n  <g id=\"axes_1\">\r\n   <g clip-path=\"url(#p4b063faa43)\">\r\n    <image height=\"28\" id=\"imagec78ae8adf2\" transform=\"scale(1 -1)translate(0 -28)\" width=\"28\" x=\"7.2\" xlink:href=\"data:image/png;base64,\r\niVBORw0KGgoAAAANSUhEUgAAABwAAAAcCAYAAAByDd+UAAAABHNCSVQICAgIfAhkiAAAAhZJREFUSIntljFrIkEAhZ9eISpCRCJWllYWkTQWFoKV0VKs1M7SQjDIdrJNInZaaOlPsNVCUBR/wBYWCW4hKEiK4BK3meVd5ZK7i3Evlw3HcQOvmRnmWx5v540DAPGFw/mVsP9AXF9fY7/fQ9M03N7e4uLi4pc9LpcLwWAQmUwGl5eXlqA8pWKxSCEEDcOgEILr9Zr9fp/xeJyVSoX9fp/D4ZBCCAohuNlsTp71StaBr/XWXLvdPgt04J3fwu/3YzAYIJFIgCTG4zG22y0AoFAoYD6fQ1VVAEC328VqtcJut/u4pQDo9XpJkoZhUJIkcz4UCtHtdlux0LqlR6XTaWqaRiEEa7UanU7nR0AEwG8AGucseHx8hMfjQSwWw83NDV5eXvDw8IDD4XDWvt+29LXK5bIZkF6vx3g8bo+lR/l8PkqSZKZUVVWmUin7gADodrvZaDTMIOm6zru7O3q9XnuARyWTSU4mE9PiTqdjLxAAI5EIn5+fTWg6nbYX+HOQFouF/UCfz8flcmn5Lv3jetI0DbPZDA6HA8FgELlc7t39loD5fB7NZhNXV1dvrk+nU5AESUsfedYGRVHMeqrX64xGoyyVSuZ6tVr9nHo6yuVycTQa/VBFuq5TlmXKsmwm9dOAABgOhynLMp+enk724f39/eenNBAIMJvNstVqUVEUGoZBRVGYz+ct3TbvFrAd4+96tf0TwO/XssxJKKVGXgAAAABJRU5ErkJggg==\" y=\"-6.38\"/>\r\n   </g>\r\n  </g>\r\n </g>\r\n <defs>\r\n  <clipPath id=\"p4b063faa43\">\r\n   <rect height=\"27.18\" width=\"27.18\" x=\"7.2\" y=\"7.2\"/>\r\n  </clipPath>\r\n </defs>\r\n</svg>\r\n",
      "image/png": "[encoded data removed]"
     },
     "metadata": {}
    },
    {
     "output_type": "display_data",
     "data": {
      "text/plain": "<Figure size 36x36 with 1 Axes>",
      "image/svg+xml": "<?xml version=\"1.0\" encoding=\"utf-8\" standalone=\"no\"?>\r\n<!DOCTYPE svg PUBLIC \"-//W3C//DTD SVG 1.1//EN\"\r\n  \"http://www.w3.org/Graphics/SVG/1.1/DTD/svg11.dtd\">\r\n<!-- Created with matplotlib (https://matplotlib.org/) -->\r\n<svg height=\"41.58pt\" version=\"1.1\" viewBox=\"0 0 41.58 41.58\" width=\"41.58pt\" xmlns=\"http://www.w3.org/2000/svg\" xmlns:xlink=\"http://www.w3.org/1999/xlink\">\r\n <defs>\r\n  <style type=\"text/css\">\r\n*{stroke-linecap:butt;stroke-linejoin:round;}\r\n  </style>\r\n </defs>\r\n <g id=\"figure_1\">\r\n  <g id=\"patch_1\">\r\n   <path d=\"M 0 41.58 \r\nL 41.58 41.58 \r\nL 41.58 0 \r\nL 0 0 \r\nz\r\n\" style=\"fill:#ffffff;\"/>\r\n  </g>\r\n  <g id=\"axes_1\">\r\n   <g clip-path=\"url(#p327a29230a)\">\r\n    <image height=\"28\" id=\"image2fe9bda220\" transform=\"scale(1 -1)translate(0 -28)\" width=\"28\" x=\"7.2\" xlink:href=\"data:image/png;base64,\r\niVBORw0KGgoAAAANSUhEUgAAABwAAAAcCAYAAAByDd+UAAAABHNCSVQICAgIfAhkiAAAAcVJREFUSIntlb/K4lAQxc+3IAYCdilS+KcQi4Bgr42FWAkp7gP4AgF9Ad9BUlmkEu0sJZWFNlZWQUEsLQyoTQRFuJezxe5abGXcKLuwA9MMnPvjDHNnvgAQH4xvn4T9EXA0GmG73SKbzcbWMm7atk2lFKWU7PV6sbQvOTRNEwCw2WywWCze77BYLFIpxdlsxlQqFVcfHwiAJKmUomEY728pAMznc5BErVaLpXsZGAQBAKBcLn8G+Gq8DAzDEADQaDRia18aGtM0ud/vGYbhe4amUCjAsixYloV0Oo3D4YDdbgdd11GpVJJ12O/3eT6fKaWklJLL5ZJCCAZBQCklhRBPO/zCE9dCKYX1eo3JZAIAaLfbyOVyIH9Ifd9Hq9VKzuHvW6VYLNLzvIfj1WpFXdeT2zTj8ZhKKTqO86hpmkbP86iUolKKlmUlB7Rtm1EU8Xg8Mp/PP+rNZpP3+51SSlar1WR3aafToZSSp9OJ9Xr9UR8MBpRSstvtJgvUNI1CCF6vV14uFzqOQ8MwOJ1OebvdWCqVkgX+SiEEoyh6HGApJYfDYZw34gHxc0pd16Xv+3Rdl5lM5mntU/8wyfh3rsV/4F8D/A5N7wncud04hQAAAABJRU5ErkJggg==\" y=\"-6.38\"/>\r\n   </g>\r\n  </g>\r\n </g>\r\n <defs>\r\n  <clipPath id=\"p327a29230a\">\r\n   <rect height=\"27.18\" width=\"27.18\" x=\"7.2\" y=\"7.2\"/>\r\n  </clipPath>\r\n </defs>\r\n</svg>\r\n",
      "image/png": "[encoded data removed]"
     },
     "metadata": {}
    },
    {
     "output_type": "display_data",
     "data": {
      "text/plain": "<Figure size 36x36 with 1 Axes>",
      "image/svg+xml": "<?xml version=\"1.0\" encoding=\"utf-8\" standalone=\"no\"?>\r\n<!DOCTYPE svg PUBLIC \"-//W3C//DTD SVG 1.1//EN\"\r\n  \"http://www.w3.org/Graphics/SVG/1.1/DTD/svg11.dtd\">\r\n<!-- Created with matplotlib (https://matplotlib.org/) -->\r\n<svg height=\"41.58pt\" version=\"1.1\" viewBox=\"0 0 41.58 41.58\" width=\"41.58pt\" xmlns=\"http://www.w3.org/2000/svg\" xmlns:xlink=\"http://www.w3.org/1999/xlink\">\r\n <defs>\r\n  <style type=\"text/css\">\r\n*{stroke-linecap:butt;stroke-linejoin:round;}\r\n  </style>\r\n </defs>\r\n <g id=\"figure_1\">\r\n  <g id=\"patch_1\">\r\n   <path d=\"M 0 41.58 \r\nL 41.58 41.58 \r\nL 41.58 0 \r\nL 0 0 \r\nz\r\n\" style=\"fill:#ffffff;\"/>\r\n  </g>\r\n  <g id=\"axes_1\">\r\n   <g clip-path=\"url(#p0508f358a9)\">\r\n    <image height=\"28\" id=\"image2812b56dbd\" transform=\"scale(1 -1)translate(0 -28)\" width=\"28\" x=\"7.2\" xlink:href=\"data:image/png;base64,\r\niVBORw0KGgoAAAANSUhEUgAAABwAAAAcCAYAAAByDd+UAAAABHNCSVQICAgIfAhkiAAAAgpJREFUSIntVr2q6kAQnnNlA4EoRLCwOBZG66SwDIqVTxL0AbQIWAiBYJFXENReLI02opaSxtJOxBDEvwdwd25zTzie42881+begQ82k9n5Mt/ODnkDAIQX2q9Xkv0n/McIQ6EQlEol6HQ6QCn1wRgD27bBMAxQFOWuXHgLhBCs1+tIKf0Gxpi/9jwPM5nMrXy3CavV6lmyr4SUUnRdF1Op1MVcIQCoXStflmWwLAsikciJv9VqwXg8Bp7nwfM84DgOeJ4HQRDgeDzCYDAIJmmj0Thb2VfpcrkcrtdrX9pkMnk2X+Au7Xa7YJomSJIEAACj0QiGwyEAAMRiMZBl+fkKDcPA3W53UulqtULHcdBxHNxut76/VqsFa5rPhKqqYqFQwMPhcLFpPqAoys9I2u/3IZ1Og23bF2MWiwVsNptgkmqahowxZIyhqqq+n+M4DIfDaFmW/x4RkTGG+Xw++D2MRqM4m82QUorz+Rzj8fi3GEEQUNd11HUdJUl6/uJrmuafTaVSuRl/DXed4XQ69dfZbBYIIfdsu2g3v0oURez1en6VpmkiISRolfcFyrKM+/3+4qQ5h/f39+CEAIDNZtMnXC6XqGna1fhEIvEcoaIoJ5PGdd2/J+kHisXiyUQplUo/36Wfrd1uQ7lc9p9FUXw0xeOdRghBz/NwMpkgx3EP7X37s3iZvfyv7Tees9GqxwPkMgAAAABJRU5ErkJggg==\" y=\"-6.38\"/>\r\n   </g>\r\n  </g>\r\n </g>\r\n <defs>\r\n  <clipPath id=\"p0508f358a9\">\r\n   <rect height=\"27.18\" width=\"27.18\" x=\"7.2\" y=\"7.2\"/>\r\n  </clipPath>\r\n </defs>\r\n</svg>\r\n",
      "image/png": "[encoded data removed]"
     },
     "metadata": {}
    },
    {
     "output_type": "display_data",
     "data": {
      "text/plain": "<Figure size 36x36 with 1 Axes>",
      "image/svg+xml": "<?xml version=\"1.0\" encoding=\"utf-8\" standalone=\"no\"?>\r\n<!DOCTYPE svg PUBLIC \"-//W3C//DTD SVG 1.1//EN\"\r\n  \"http://www.w3.org/Graphics/SVG/1.1/DTD/svg11.dtd\">\r\n<!-- Created with matplotlib (https://matplotlib.org/) -->\r\n<svg height=\"41.58pt\" version=\"1.1\" viewBox=\"0 0 41.58 41.58\" width=\"41.58pt\" xmlns=\"http://www.w3.org/2000/svg\" xmlns:xlink=\"http://www.w3.org/1999/xlink\">\r\n <defs>\r\n  <style type=\"text/css\">\r\n*{stroke-linecap:butt;stroke-linejoin:round;}\r\n  </style>\r\n </defs>\r\n <g id=\"figure_1\">\r\n  <g id=\"patch_1\">\r\n   <path d=\"M 0 41.58 \r\nL 41.58 41.58 \r\nL 41.58 0 \r\nL 0 0 \r\nz\r\n\" style=\"fill:#ffffff;\"/>\r\n  </g>\r\n  <g id=\"axes_1\">\r\n   <g clip-path=\"url(#pcf114e9b30)\">\r\n    <image height=\"28\" id=\"imagef841dcafd3\" transform=\"scale(1 -1)translate(0 -28)\" width=\"28\" x=\"7.2\" xlink:href=\"data:image/png;base64,\r\niVBORw0KGgoAAAANSUhEUgAAABwAAAAcCAYAAAByDd+UAAAABHNCSVQICAgIfAhkiAAAAc5JREFUSIndlqGP6kAQxr++PAW2tVRSLFjwSKqxBPgDcJX8EUBw6AYLOAiyQba0Cr0JVbW7+z1VknfcQbnru5fcJptNdibzy+zMfFkDAPGN69d3wv4L8Pcrzu12G4vFAvV6HUmSIIoiXK9XxHGM3W6HOI4LxWHRPRqNSJJKqbszyzK6rlskTnGg4zh3d8PhkEEQUClFKSVN0ywP+NG2LItRFFEpxc1m8++BANhqtSilZBAED/1K7VLDMJ76lAY0TRPkcw0pDei6bqEMgS/Wrtls0vf9W5d6nvfQ38ALWuq6LtI0heM4sCwLvV4PrVYLJJGmKdbrNcbjcTkZzudzSilvmeRnlmVcrVZFh56FpS1JEhiGcavTZDIBSWy328KS9jTDt6rhOA6FEJRSUgjBWq32mbp/LGOXy+XdAT8cDtRaMwzDd+XuU8BcOXzfZ6VSubOHYfjQ/jLQtm0KIUiS0+n0zl6tVhmGIbXW7Pf7Xwfmz5p3o+/7dzXzPI9KKc5ms3KAANjtdimEoNaaQoi/2t91XWqtud/vywPmgfPufDuHSqmXgIWVxrZtDAYDWJaFRqOBTqeD8/mM4/GI5XKJ0+lUJAxekrYy1s//Jv584B/5ZWKZxYasyQAAAABJRU5ErkJggg==\" y=\"-6.38\"/>\r\n   </g>\r\n  </g>\r\n </g>\r\n <defs>\r\n  <clipPath id=\"pcf114e9b30\">\r\n   <rect height=\"27.18\" width=\"27.18\" x=\"7.2\" y=\"7.2\"/>\r\n  </clipPath>\r\n </defs>\r\n</svg>\r\n",
      "image/png": "[encoded data removed]"
     },
     "metadata": {}
    },
    {
     "output_type": "display_data",
     "data": {
      "text/plain": "<Figure size 36x36 with 1 Axes>",
      "image/svg+xml": "<?xml version=\"1.0\" encoding=\"utf-8\" standalone=\"no\"?>\r\n<!DOCTYPE svg PUBLIC \"-//W3C//DTD SVG 1.1//EN\"\r\n  \"http://www.w3.org/Graphics/SVG/1.1/DTD/svg11.dtd\">\r\n<!-- Created with matplotlib (https://matplotlib.org/) -->\r\n<svg height=\"41.58pt\" version=\"1.1\" viewBox=\"0 0 41.58 41.58\" width=\"41.58pt\" xmlns=\"http://www.w3.org/2000/svg\" xmlns:xlink=\"http://www.w3.org/1999/xlink\">\r\n <defs>\r\n  <style type=\"text/css\">\r\n*{stroke-linecap:butt;stroke-linejoin:round;}\r\n  </style>\r\n </defs>\r\n <g id=\"figure_1\">\r\n  <g id=\"patch_1\">\r\n   <path d=\"M 0 41.58 \r\nL 41.58 41.58 \r\nL 41.58 0 \r\nL 0 0 \r\nz\r\n\" style=\"fill:#ffffff;\"/>\r\n  </g>\r\n  <g id=\"axes_1\">\r\n   <g clip-path=\"url(#p044e0425c7)\">\r\n    <image height=\"28\" id=\"image933f160db6\" transform=\"scale(1 -1)translate(0 -28)\" width=\"28\" x=\"7.2\" xlink:href=\"data:image/png;base64,\r\niVBORw0KGgoAAAANSUhEUgAAABwAAAAcCAYAAAByDd+UAAAABHNCSVQICAgIfAhkiAAAAgVJREFUSIntlb1qKlEUhZdiZhrBoE1gECxshDyAL5BGxkIkrSBpfIBAsLK0ElttQtBSOxkEES1SKNNajkVEtEkhIiPIhL1u5XBzE2/8iamyYTXDPvs7+++MBwDxg+Y9xPn+/h4iAsMw4Pf7j4ZyX93c3FBEKCIslUp7n/tH+zsrisJ6vU4R4Wq1YjgcPi8QAFOplJtltVo9GHhQDwGg2+1iMBgAAC4vL+H1Hhzi8D7ouu5mGQqFzpshAFiWBdu2AQC6rp8/QwDM5/MUEc7nc15dXZ1vaLYKBAJuWdPp9PmBqqqy1+tRRGia5t7nPFvqLlNVFbquQ9M0AMBkMkG/34dt24jFYjBNE4qiIJFIoNPp/C+UaztvEwwG+fz87JbubxmGwWQyyeVySRFhs9mkqqqnlXQwGLiA2WzG0Wjkar1ef7iEruunAbdBHcf58IxdX1/z4eGBi8XCBT49PdHr9R4PLBQKFBG+vLwwEonsnFbLslxoPB4/HqgoCsfjMUWE7Xab0Wj0Uz9N09xelsvl09Yil8vx7e2NIsLpdMpsNkufz0ePx/NuRUzTpIiwUqmcvofFYpGO47wbkFarxVqtxlqtxtfXV/f7twAB8Pb2lo1G49MV2Wqz2TCbzX4PEAAvLi6YyWT4+PjI4XBIEeHW+v0+7+7uvozx5Uvz3XbU7+kX+Av8UfsDrqvrE2NqnUMAAAAASUVORK5CYII=\" y=\"-6.38\"/>\r\n   </g>\r\n  </g>\r\n </g>\r\n <defs>\r\n  <clipPath id=\"p044e0425c7\">\r\n   <rect height=\"27.18\" width=\"27.18\" x=\"7.2\" y=\"7.2\"/>\r\n  </clipPath>\r\n </defs>\r\n</svg>\r\n",
      "image/png": "[encoded data removed]"
     },
     "metadata": {}
    },
    {
     "output_type": "display_data",
     "data": {
      "text/plain": "<Figure size 36x36 with 1 Axes>",
      "image/svg+xml": "<?xml version=\"1.0\" encoding=\"utf-8\" standalone=\"no\"?>\r\n<!DOCTYPE svg PUBLIC \"-//W3C//DTD SVG 1.1//EN\"\r\n  \"http://www.w3.org/Graphics/SVG/1.1/DTD/svg11.dtd\">\r\n<!-- Created with matplotlib (https://matplotlib.org/) -->\r\n<svg height=\"41.58pt\" version=\"1.1\" viewBox=\"0 0 41.58 41.58\" width=\"41.58pt\" xmlns=\"http://www.w3.org/2000/svg\" xmlns:xlink=\"http://www.w3.org/1999/xlink\">\r\n <defs>\r\n  <style type=\"text/css\">\r\n*{stroke-linecap:butt;stroke-linejoin:round;}\r\n  </style>\r\n </defs>\r\n <g id=\"figure_1\">\r\n  <g id=\"patch_1\">\r\n   <path d=\"M 0 41.58 \r\nL 41.58 41.58 \r\nL 41.58 0 \r\nL 0 0 \r\nz\r\n\" style=\"fill:#ffffff;\"/>\r\n  </g>\r\n  <g id=\"axes_1\">\r\n   <g clip-path=\"url(#p9216ede225)\">\r\n    <image height=\"28\" id=\"image1e776f231a\" transform=\"scale(1 -1)translate(0 -28)\" width=\"28\" x=\"7.2\" xlink:href=\"data:image/png;base64,\r\niVBORw0KGgoAAAANSUhEUgAAABwAAAAcCAYAAAByDd+UAAAABHNCSVQICAgIfAhkiAAAAbBJREFUSIntlr+KwkAQxr81h8EilYjrGyiWPoAo1pZWNj6CKFhqr72FbyBiaSP4ArIKNhYiIilUsIsBm+xccSR4kDPrnwsc3MDABL7Mb2cyk4QBIIRokTBhfxeo6zrm8zlM00Q6nQ7U06vOOSfHcUhKSY1G4672LRXato39fq+kfQvQsixsNhswxsIBAgARgSh4w0Kf0o9Hb0gkEohEvs55Op1+B9hqtVAoFMAYQz6fRzQaBQBMp1MIIdDtdpWen2u+45tKpajT6ZBt2+Q4jjf2bnx7vVqtyDRNpbX4scJ+v49yuewNwm63w+VygRAC6/UaAFCtVpHJZJDNZpWr861Q0zSazWYkpaTj8Ui1Wo0Mw/A9cb1e/1ZxUIW+QM45SSlJSkm9Xu9uAsMwaLvdevqn3jScc6+Vh8Phbnssy0KlUsH5fFZqpy+wVCp58Wg0CkwihMBisXgeeL1efeN3mC9wMBhguVwCAIrFolKil/YwFotRu90mKSVNJpOHPk/JZPLxKXW92WxSPB5XBo7HY9I07XmgqrvAXC6non8dqOs6DYdDJS1zqWHZ3/xr+wfe2ic+DaNw5Jq+KQAAAABJRU5ErkJggg==\" y=\"-6.38\"/>\r\n   </g>\r\n  </g>\r\n </g>\r\n <defs>\r\n  <clipPath id=\"p9216ede225\">\r\n   <rect height=\"27.18\" width=\"27.18\" x=\"7.2\" y=\"7.2\"/>\r\n  </clipPath>\r\n </defs>\r\n</svg>\r\n",
      "image/png": "[encoded data removed]"
     },
     "metadata": {}
    },
    {
     "output_type": "display_data",
     "data": {
      "text/plain": "<Figure size 36x36 with 1 Axes>",
      "image/svg+xml": "<?xml version=\"1.0\" encoding=\"utf-8\" standalone=\"no\"?>\r\n<!DOCTYPE svg PUBLIC \"-//W3C//DTD SVG 1.1//EN\"\r\n  \"http://www.w3.org/Graphics/SVG/1.1/DTD/svg11.dtd\">\r\n<!-- Created with matplotlib (https://matplotlib.org/) -->\r\n<svg height=\"41.58pt\" version=\"1.1\" viewBox=\"0 0 41.58 41.58\" width=\"41.58pt\" xmlns=\"http://www.w3.org/2000/svg\" xmlns:xlink=\"http://www.w3.org/1999/xlink\">\r\n <defs>\r\n  <style type=\"text/css\">\r\n*{stroke-linecap:butt;stroke-linejoin:round;}\r\n  </style>\r\n </defs>\r\n <g id=\"figure_1\">\r\n  <g id=\"patch_1\">\r\n   <path d=\"M 0 41.58 \r\nL 41.58 41.58 \r\nL 41.58 0 \r\nL 0 0 \r\nz\r\n\" style=\"fill:#ffffff;\"/>\r\n  </g>\r\n  <g id=\"axes_1\">\r\n   <g clip-path=\"url(#p73c1a1a3d5)\">\r\n    <image height=\"28\" id=\"imagec28c1312ad\" transform=\"scale(1 -1)translate(0 -28)\" width=\"28\" x=\"7.2\" xlink:href=\"data:image/png;base64,\r\niVBORw0KGgoAAAANSUhEUgAAABwAAAAcCAYAAAByDd+UAAAABHNCSVQICAgIfAhkiAAAAgRJREFUSIntlr+reXEYx58jk1J3Q5IfEYtFRotBKbPIrERK/gOlDEopZTVINhlt0plkkFUkWYSSIyzH877TVb7f636PH/d2h++7nuXznOd5nedz3k8dgYhAPyjVT8LuAqbTaSoWi/T29vY0FEoinU6DmXE4HJDL5RTV3AhlD9rtdsxmMzAzdrsdvF7vQ0DFVzqZTKhWqxERkVarJYPBoPwO/5Dit9Pr9ajX62BmTKdTlMvl75uQiGi5XNJ6vSYiIpvNRlar9e7pHl4LADQYDEgQhPtr74lQKITj8QhmBjM/Yp77nRaJRAAAzIxWqwWdTve9QK1Wi36/f5myVCq9FhgIBCCKIkRRRC6Xg8lkQjQaBTMDABaLBdRq9WuARqMR1Wr1Mg0zYzQaIZ/PX50lk8nXAIPB4FXjW9FutxUBhQ/qLalUKhoOh+R2u+l8PlM+n7/kYrEYORyOy2pkMhmqVCpftSNF31AURTAzZFmG3++/yhUKBWy3WzAzFosFNBrN86axWCzYbDZgZvR6PTidzqu8z+eDLMtgZjQajdesRTabvTTd7/cIh8PweDxwuVzIZrNgZpxOJ8Tj8dcAiQjNZvNiEkmSIEkSVqsV5vM5mBnz+fw1e/gRgiAgkUhgPB5/6lQlwH+69DOZzWZKpVJ/nXc6Hep2u1/WPgR8Rr/3r+0/8NcC3wGXOZgns59nyQAAAABJRU5ErkJggg==\" y=\"-6.38\"/>\r\n   </g>\r\n  </g>\r\n </g>\r\n <defs>\r\n  <clipPath id=\"p73c1a1a3d5\">\r\n   <rect height=\"27.18\" width=\"27.18\" x=\"7.2\" y=\"7.2\"/>\r\n  </clipPath>\r\n </defs>\r\n</svg>\r\n",
      "image/png": "[encoded data removed]"
     },
     "metadata": {}
    },
    {
     "output_type": "display_data",
     "data": {
      "text/plain": "<Figure size 36x36 with 1 Axes>",
      "image/svg+xml": "<?xml version=\"1.0\" encoding=\"utf-8\" standalone=\"no\"?>\r\n<!DOCTYPE svg PUBLIC \"-//W3C//DTD SVG 1.1//EN\"\r\n  \"http://www.w3.org/Graphics/SVG/1.1/DTD/svg11.dtd\">\r\n<!-- Created with matplotlib (https://matplotlib.org/) -->\r\n<svg height=\"41.58pt\" version=\"1.1\" viewBox=\"0 0 41.58 41.58\" width=\"41.58pt\" xmlns=\"http://www.w3.org/2000/svg\" xmlns:xlink=\"http://www.w3.org/1999/xlink\">\r\n <defs>\r\n  <style type=\"text/css\">\r\n*{stroke-linecap:butt;stroke-linejoin:round;}\r\n  </style>\r\n </defs>\r\n <g id=\"figure_1\">\r\n  <g id=\"patch_1\">\r\n   <path d=\"M 0 41.58 \r\nL 41.58 41.58 \r\nL 41.58 0 \r\nL 0 0 \r\nz\r\n\" style=\"fill:#ffffff;\"/>\r\n  </g>\r\n  <g id=\"axes_1\">\r\n   <g clip-path=\"url(#pcad6c62f83)\">\r\n    <image height=\"28\" id=\"imagef63066f4ac\" transform=\"scale(1 -1)translate(0 -28)\" width=\"28\" x=\"7.2\" xlink:href=\"data:image/png;base64,\r\niVBORw0KGgoAAAANSUhEUgAAABwAAAAcCAYAAAByDd+UAAAABHNCSVQICAgIfAhkiAAAAixJREFUSInllq/L6nAUxp8NJ0PQKIgKgjbXLDYRi5gMNkEMNjEYVwQF/SeWNSmowaRhQawGoyAWEUWDw998Pbe8eN97X+eGiOHeAwcGezif7zk7zzYOAOGDwX8S9n8ALWZEoigiEokgHo8jFoshGAwCADiOQ7fbxWw2g6ZpKJVKpqD0LK1WK+XzeWKM/cjb7Xa/Ph6P1G63KRaLPa1nCCwWi39AVFUlRVFIURSSJIlkWSZVVe/3t9stFQqF14HVavVeLJlMkiAIPzSCIFC5XL7rBoPB68BwOEzr9ZoYY+R0OnV1oihSq9UixhhdLheKRqOvAQFQIBCgcDj8sLvvmclk3gM0m41G475AkiQ91LzVh+PxGABwvV4xmUx0dW/pLpVK0WKxIMYY7XY7XZ2h8fP5PCyWxzKO40BESKfTCIVC4HkeRIRisfi0pu5p7HY77ff7h6b/2/iMMVoul1Sr1chms71mi1wupwtjjBEREWOMRqMRVSoVcrvdhqM39S4FgF6vB1mWAQB+vx8ejweqqgIAptMpTqeT2VL6pxEEgTRNI8YY1ev1tyzXU1tcr1fTpzYbH/8ecvjaHL3QNA02mw3n8xmqqsLj8aDRaAAAdrsdNpsNhsMhlsul6Yk8nfl8Pjdli36/b+oZGnYoSRKq1SoAgOd5JBKJ3+P5Mj4ArFYruFwuw+4Mgd+D53n4fD4AQDabhcPhgNfrxeFwQKfTQbPZfC/wHfHv/yZ+HPgLIo51EH2PH58AAAAASUVORK5CYII=\" y=\"-6.38\"/>\r\n   </g>\r\n  </g>\r\n </g>\r\n <defs>\r\n  <clipPath id=\"pcad6c62f83\">\r\n   <rect height=\"27.18\" width=\"27.18\" x=\"7.2\" y=\"7.2\"/>\r\n  </clipPath>\r\n </defs>\r\n</svg>\r\n",
      "image/png": "[encoded data removed]"
     },
     "metadata": {}
    },
    {
     "output_type": "display_data",
     "data": {
      "text/plain": "<Figure size 36x36 with 1 Axes>",
      "image/svg+xml": "<?xml version=\"1.0\" encoding=\"utf-8\" standalone=\"no\"?>\r\n<!DOCTYPE svg PUBLIC \"-//W3C//DTD SVG 1.1//EN\"\r\n  \"http://www.w3.org/Graphics/SVG/1.1/DTD/svg11.dtd\">\r\n<!-- Created with matplotlib (https://matplotlib.org/) -->\r\n<svg height=\"41.58pt\" version=\"1.1\" viewBox=\"0 0 41.58 41.58\" width=\"41.58pt\" xmlns=\"http://www.w3.org/2000/svg\" xmlns:xlink=\"http://www.w3.org/1999/xlink\">\r\n <defs>\r\n  <style type=\"text/css\">\r\n*{stroke-linecap:butt;stroke-linejoin:round;}\r\n  </style>\r\n </defs>\r\n <g id=\"figure_1\">\r\n  <g id=\"patch_1\">\r\n   <path d=\"M 0 41.58 \r\nL 41.58 41.58 \r\nL 41.58 0 \r\nL 0 0 \r\nz\r\n\" style=\"fill:#ffffff;\"/>\r\n  </g>\r\n  <g id=\"axes_1\">\r\n   <g clip-path=\"url(#p48b06ed315)\">\r\n    <image height=\"28\" id=\"imagebf4036cab6\" transform=\"scale(1 -1)translate(0 -28)\" width=\"28\" x=\"7.2\" xlink:href=\"data:image/png;base64,\r\niVBORw0KGgoAAAANSUhEUgAAABwAAAAcCAYAAAByDd+UAAAABHNCSVQICAgIfAhkiAAAAjlJREFUSInt1rFLMnEYB/CvbxqnZIIQ4iSI4Opk4Frikn+AQ2C4hotLk0sgNihIf4GEY+BUSwoVQS7iKXGTiyChEGKDYOrzbXk7EAf19YqG94Fn+d3vuc89d7+7+5kAED8Yf34S+/2g3W7HxcUFNE2DpmnIZrOw2+1ro1wlDw8P2Wg0KCJzeXNzQ4fDsdI5/ubySaFQiO/v7xQRPj09MZfLMZPJcDqdUkSYz+eNBc/OzvSO9vb29PGDgwOKCDVN4/b29krgRoum1WrBZDLB7/fDbDavXLf0qlwuFyeTCUWER0dHC52rqmpsh71eD/F4HABQKpXgdDoBAB6PBwBwe3uLj48P4zoEwJ2dHV5fX1NEeH9/z3Q6rXcdCASMXTRfqSgKu92uvoBmsxlzuRwtFsv3gAB4eXmpg71eb63atcFIJMLhcPj9oM1mYzKZ1J/ZcDjk4+MjZ7MZX15e6Ha7jQULhYLeVafTYSQS4fHxsT6Wz+e5tbVlDHh6esrxeEwRYbvdptfrJQA6nU7WajUdPTk5MQasVqsUETYaDSqKMnfM7XZzNBpRRPj29sZgMLg5eHV1RRHhYDBgLBZb+KLs7+/z4eGBIsJKpbI5uLu7y0qlot+6YrFIn883NyeRSBgHAmAwGOTd3Z2OTiYTqqpKv9/PUCjE19dXigjL5bIxIAA6HA5Go1GWy2U+Pz8v/Ijr9fpKr4fpS10nrFYrwuEwUqkUms0mAOD8/Bz9fn9p7T+Bm8Tv3rX9B1eJTy9L7iinYx49AAAAAElFTkSuQmCC\" y=\"-6.38\"/>\r\n   </g>\r\n  </g>\r\n </g>\r\n <defs>\r\n  <clipPath id=\"p48b06ed315\">\r\n   <rect height=\"27.18\" width=\"27.18\" x=\"7.2\" y=\"7.2\"/>\r\n  </clipPath>\r\n </defs>\r\n</svg>\r\n",
      "image/png": "[encoded data removed]"
     },
     "metadata": {}
    },
    {
     "output_type": "display_data",
     "data": {
      "text/plain": "<Figure size 36x36 with 1 Axes>",
      "image/svg+xml": "<?xml version=\"1.0\" encoding=\"utf-8\" standalone=\"no\"?>\r\n<!DOCTYPE svg PUBLIC \"-//W3C//DTD SVG 1.1//EN\"\r\n  \"http://www.w3.org/Graphics/SVG/1.1/DTD/svg11.dtd\">\r\n<!-- Created with matplotlib (https://matplotlib.org/) -->\r\n<svg height=\"41.58pt\" version=\"1.1\" viewBox=\"0 0 41.58 41.58\" width=\"41.58pt\" xmlns=\"http://www.w3.org/2000/svg\" xmlns:xlink=\"http://www.w3.org/1999/xlink\">\r\n <defs>\r\n  <style type=\"text/css\">\r\n*{stroke-linecap:butt;stroke-linejoin:round;}\r\n  </style>\r\n </defs>\r\n <g id=\"figure_1\">\r\n  <g id=\"patch_1\">\r\n   <path d=\"M 0 41.58 \r\nL 41.58 41.58 \r\nL 41.58 0 \r\nL 0 0 \r\nz\r\n\" style=\"fill:#ffffff;\"/>\r\n  </g>\r\n  <g id=\"axes_1\">\r\n   <g clip-path=\"url(#p89c29455a5)\">\r\n    <image height=\"28\" id=\"image49fe6a7baf\" transform=\"scale(1 -1)translate(0 -28)\" width=\"28\" x=\"7.2\" xlink:href=\"data:image/png;base64,\r\niVBORw0KGgoAAAANSUhEUgAAABwAAAAcCAYAAAByDd+UAAAABHNCSVQICAgIfAhkiAAAAdBJREFUSInt1r2q4lAUBeB1FVTsoggWFvaWgm0KGyFqKfgIloKg5aRS6xQWYilpRR9AQVTwH0QExUJLUWJjo4Q11T0MzAx6r9FmZsNukpN8WTvkkA8AxBvL9k7sP/gPgZIkoVargSRIYr1eo1gsIhgMfgvlvc7n8/xTnU4nappGn8939x6/9P1FjUZDIJfLhe12m+PxWBxbrVYsl8t0uVzWg4fDgYVCgZIkMZFIcDAY0DRNkuRkMqHD4Xge1DTtt3HO53PKskwAzGazHA6HJElFUZ4Ho9GoSHG73bjf78V4dV1nKBSi1+ulruvWgADY7/fF+wLAdDpNwzDEQyyXS3Y6HevAXC5HkjRNk7FYjAAYiUTYarV4OBzEqC0DXS4X6/U6SbLb7dJms4lzgUCAqqqyUqnQ4/FYAwJgKpUSSfx+/8PXfRuUJImj0YgkOZ1Ov/rBfx0EwGQyKVKWSqXXg06nk9VqVaCqqtJut78O/OxeryfQTCbzetDhcHCxWJAkj8cjw+Hwa0EAlGVZ7Dqz2Yxut/u1IADG43Fut1uSZLPZfAR9DgRARVFEUst2mkfGe71e74J2AD9gQe12O5zPZxiGgc1m89d1H58x31Vv/2v7CQYlD0ymlwJXAAAAAElFTkSuQmCC\" y=\"-6.38\"/>\r\n   </g>\r\n  </g>\r\n </g>\r\n <defs>\r\n  <clipPath id=\"p89c29455a5\">\r\n   <rect height=\"27.18\" width=\"27.18\" x=\"7.2\" y=\"7.2\"/>\r\n  </clipPath>\r\n </defs>\r\n</svg>\r\n",
      "image/png": "[encoded data removed]"
     },
     "metadata": {}
    },
    {
     "output_type": "display_data",
     "data": {
      "text/plain": "<Figure size 36x36 with 1 Axes>",
      "image/svg+xml": "<?xml version=\"1.0\" encoding=\"utf-8\" standalone=\"no\"?>\r\n<!DOCTYPE svg PUBLIC \"-//W3C//DTD SVG 1.1//EN\"\r\n  \"http://www.w3.org/Graphics/SVG/1.1/DTD/svg11.dtd\">\r\n<!-- Created with matplotlib (https://matplotlib.org/) -->\r\n<svg height=\"41.58pt\" version=\"1.1\" viewBox=\"0 0 41.58 41.58\" width=\"41.58pt\" xmlns=\"http://www.w3.org/2000/svg\" xmlns:xlink=\"http://www.w3.org/1999/xlink\">\r\n <defs>\r\n  <style type=\"text/css\">\r\n*{stroke-linecap:butt;stroke-linejoin:round;}\r\n  </style>\r\n </defs>\r\n <g id=\"figure_1\">\r\n  <g id=\"patch_1\">\r\n   <path d=\"M 0 41.58 \r\nL 41.58 41.58 \r\nL 41.58 0 \r\nL 0 0 \r\nz\r\n\" style=\"fill:#ffffff;\"/>\r\n  </g>\r\n  <g id=\"axes_1\">\r\n   <g clip-path=\"url(#pf3ddb72c54)\">\r\n    <image height=\"28\" id=\"image4cda9253c3\" transform=\"scale(1 -1)translate(0 -28)\" width=\"28\" x=\"7.2\" xlink:href=\"data:image/png;base64,\r\niVBORw0KGgoAAAANSUhEUgAAABwAAAAcCAYAAAByDd+UAAAABHNCSVQICAgIfAhkiAAAAg5JREFUSIntlr3K4lAQhufoImIkKNpIxDIXoZUo2KSxsEjziWCTQvASJJ2NpFHBpFJQ8Sb0CtKImCZYWfmHgqAWZ7ZZw+ZTEn8W+YodmCLnvLxPzpyZEAIACB8MzydhPxdICIFCoQCyLMN8PgdKKVBKwTRNkGUZRFEEQsjDUHRKlmWx3W4jpdQxNU3DaDTq6PUnnQXFYtEVds1qtYper/d1IMMwOJ1OLcPL5YK6rqMkSViv13Gz2dxAE4nE68BIJGIzMwwDA4GAtc9xHJqm+RTQsWkopbDf761nnudB0zRgGAYAAJbLJaxWK5cWuQ3HN8pmszdlm0wmKAgC1ut1XK1W1vput8NYLPZe0/j9fiyVSnfv63sKgvB+l16z2+06wvr9PjIM4+rzy63ePp8PcrkcZDIZR93xeARKqZsduJ4wmUw+PIdfX1/o9/vfK2mr1bprrus6iqKI2+3Wtp5Op18fC6c4HA4wGAxAVVXb6IxGI4hGo6+VNBQK4Xq9tp1gs9ngcDjEWq1m6Xq9nk3z995TJQ0Gg2gYhs1MUZQbXT6ft2mazea/u8PT6YSLxQJTqZSlGY/HNk25XH4dyPP83aZRFAUlScJGo4Hn89lan81myLLs60CPx4OVSuXh0XA53WNfmkehnU4Hw+Hw+0AAQEIIxuNxNAwDv4eqqshxHBJC3H2u1E/Fz/xr+w98Jn4Dyvm4sceJ2cYAAAAASUVORK5CYII=\" y=\"-6.38\"/>\r\n   </g>\r\n  </g>\r\n </g>\r\n <defs>\r\n  <clipPath id=\"pf3ddb72c54\">\r\n   <rect height=\"27.18\" width=\"27.18\" x=\"7.2\" y=\"7.2\"/>\r\n  </clipPath>\r\n </defs>\r\n</svg>\r\n",
      "image/png": "[encoded data removed]"
     },
     "metadata": {}
    },
    {
     "output_type": "display_data",
     "data": {
      "text/plain": "<Figure size 36x36 with 1 Axes>",
      "image/svg+xml": "<?xml version=\"1.0\" encoding=\"utf-8\" standalone=\"no\"?>\r\n<!DOCTYPE svg PUBLIC \"-//W3C//DTD SVG 1.1//EN\"\r\n  \"http://www.w3.org/Graphics/SVG/1.1/DTD/svg11.dtd\">\r\n<!-- Created with matplotlib (https://matplotlib.org/) -->\r\n<svg height=\"41.58pt\" version=\"1.1\" viewBox=\"0 0 41.58 41.58\" width=\"41.58pt\" xmlns=\"http://www.w3.org/2000/svg\" xmlns:xlink=\"http://www.w3.org/1999/xlink\">\r\n <defs>\r\n  <style type=\"text/css\">\r\n*{stroke-linecap:butt;stroke-linejoin:round;}\r\n  </style>\r\n </defs>\r\n <g id=\"figure_1\">\r\n  <g id=\"patch_1\">\r\n   <path d=\"M 0 41.58 \r\nL 41.58 41.58 \r\nL 41.58 0 \r\nL 0 0 \r\nz\r\n\" style=\"fill:#ffffff;\"/>\r\n  </g>\r\n  <g id=\"axes_1\">\r\n   <g clip-path=\"url(#pa6704f25b1)\">\r\n    <image height=\"28\" id=\"image38fec53c5e\" transform=\"scale(1 -1)translate(0 -28)\" width=\"28\" x=\"7.2\" xlink:href=\"data:image/png;base64,\r\niVBORw0KGgoAAAANSUhEUgAAABwAAAAcCAYAAAByDd+UAAAABHNCSVQICAgIfAhkiAAAAPlJREFUSInt1jGKhDAUBuBft0kjYiWxTCfew3N4EtlLBM/hGWJl7QlMIdhEQVALeVtNPzFkYHbmQbr8fCQvCQkAEF5Y4SuxzwB/APzahqqqgpQSnHMYYzDPs1WebIeUkh5ljCHO+dNZ5y2t6xrTND093wlc1xVt21plnMBlWTCOo39QCAEASNMURVH4B7MsAwAwxhDHsX+w67o7sfuga1nfQ6UUERFprYkxZpW9tcLHQbmuC8dxWGX//+PtBCql/INlWSJJEgCA1to/GIZuXXivHuZ57h/s+x7btgEAoiiyBq2/GPu+QwiB8zzRNA2GYbACA3z/pe8O/gEeNoXOizFSygAAAABJRU5ErkJggg==\" y=\"-6.38\"/>\r\n   </g>\r\n  </g>\r\n </g>\r\n <defs>\r\n  <clipPath id=\"pa6704f25b1\">\r\n   <rect height=\"27.18\" width=\"27.18\" x=\"7.2\" y=\"7.2\"/>\r\n  </clipPath>\r\n </defs>\r\n</svg>\r\n",
      "image/png": "[encoded data removed]"
     },
     "metadata": {}
    },
    {
     "output_type": "display_data",
     "data": {
      "text/plain": "<Figure size 36x36 with 1 Axes>",
      "image/svg+xml": "<?xml version=\"1.0\" encoding=\"utf-8\" standalone=\"no\"?>\r\n<!DOCTYPE svg PUBLIC \"-//W3C//DTD SVG 1.1//EN\"\r\n  \"http://www.w3.org/Graphics/SVG/1.1/DTD/svg11.dtd\">\r\n<!-- Created with matplotlib (https://matplotlib.org/) -->\r\n<svg height=\"41.58pt\" version=\"1.1\" viewBox=\"0 0 41.58 41.58\" width=\"41.58pt\" xmlns=\"http://www.w3.org/2000/svg\" xmlns:xlink=\"http://www.w3.org/1999/xlink\">\r\n <defs>\r\n  <style type=\"text/css\">\r\n*{stroke-linecap:butt;stroke-linejoin:round;}\r\n  </style>\r\n </defs>\r\n <g id=\"figure_1\">\r\n  <g id=\"patch_1\">\r\n   <path d=\"M 0 41.58 \r\nL 41.58 41.58 \r\nL 41.58 0 \r\nL 0 0 \r\nz\r\n\" style=\"fill:#ffffff;\"/>\r\n  </g>\r\n  <g id=\"axes_1\">\r\n   <g clip-path=\"url(#p62b784946e)\">\r\n    <image height=\"28\" id=\"image9e60ab61ff\" transform=\"scale(1 -1)translate(0 -28)\" width=\"28\" x=\"7.2\" xlink:href=\"data:image/png;base64,\r\niVBORw0KGgoAAAANSUhEUgAAABwAAAAcCAYAAAByDd+UAAAABHNCSVQICAgIfAhkiAAAAepJREFUSIntk72uKVEUx//DpaTxABIKH4mJXoZuMjWlWvQaheJ4A4qRDE8gdOIF8ABDFEYlFDOSkdBMtbd1K5Nzb5jgnDnV+ScrmZW99v7N+hIAEH5QAa9DSZLAGANjDLIs+w/MZrPu92AwQLVa/RYoPTJBEEhVVWKMEWOMVqsVxWKxh/FPmneAKIrU6/WIc06cc9J1/avQ5wKn0ykxxohzTpPJ5G2gZw8fSZIk1Gq1d64iCODjmcDtdotgMIh8Po9QKIRSqYTj8Qhd11+GvlSS0Wjk9pNzTpVKxZ8efrbBYOBOLuecEomEvz3UNA22bbt+Op1+6f5b06YoCp1OJ+Kck2maJMuyfyW9WbfbJSIizjkZhuFfSW+az+e4Xq8gIkQiEeRyuafuvZ0hAGq32+4Amabpb0kBUDwep8Ph4ELr9bpn/B+v1MvlMgqFAjabDTRNuxuz2+3gOI7rp1Ipz3I+BCaTSQyHQ9dXVRXj8RiLxQIAcD6fsd/vcblcEI1GPSH/627q4XCYms2mW6rPi84YI8dxyLZtsizrn/NOp/N+DwVBIEVRqNFokGEY7t7d+wHGGFmWRZlMxhMo3KjPqFgsQhRFEBFisRharRYCgQDW6zX6/T5msxmWy6XnGy8Bv0NfWvxf4C/wR/QXEOsq7uYIP3EAAAAASUVORK5CYII=\" y=\"-6.38\"/>\r\n   </g>\r\n  </g>\r\n </g>\r\n <defs>\r\n  <clipPath id=\"p62b784946e\">\r\n   <rect height=\"27.18\" width=\"27.18\" x=\"7.2\" y=\"7.2\"/>\r\n  </clipPath>\r\n </defs>\r\n</svg>\r\n",
      "image/png": "[encoded data removed]"
     },
     "metadata": {}
    },
    {
     "output_type": "display_data",
     "data": {
      "text/plain": "<Figure size 36x36 with 1 Axes>",
      "image/svg+xml": "<?xml version=\"1.0\" encoding=\"utf-8\" standalone=\"no\"?>\r\n<!DOCTYPE svg PUBLIC \"-//W3C//DTD SVG 1.1//EN\"\r\n  \"http://www.w3.org/Graphics/SVG/1.1/DTD/svg11.dtd\">\r\n<!-- Created with matplotlib (https://matplotlib.org/) -->\r\n<svg height=\"41.58pt\" version=\"1.1\" viewBox=\"0 0 41.58 41.58\" width=\"41.58pt\" xmlns=\"http://www.w3.org/2000/svg\" xmlns:xlink=\"http://www.w3.org/1999/xlink\">\r\n <defs>\r\n  <style type=\"text/css\">\r\n*{stroke-linecap:butt;stroke-linejoin:round;}\r\n  </style>\r\n </defs>\r\n <g id=\"figure_1\">\r\n  <g id=\"patch_1\">\r\n   <path d=\"M 0 41.58 \r\nL 41.58 41.58 \r\nL 41.58 0 \r\nL 0 0 \r\nz\r\n\" style=\"fill:#ffffff;\"/>\r\n  </g>\r\n  <g id=\"axes_1\">\r\n   <g clip-path=\"url(#pf1126dde1e)\">\r\n    <image height=\"28\" id=\"imaged5e86826e3\" transform=\"scale(1 -1)translate(0 -28)\" width=\"28\" x=\"7.2\" xlink:href=\"data:image/png;base64,\r\niVBORw0KGgoAAAANSUhEUgAAABwAAAAcCAYAAAByDd+UAAAABHNCSVQICAgIfAhkiAAAAdhJREFUSIndlr3PIVEUxo/BkBAVE4lGolEoREMlUdFOPwqNv0DUGxWtVoVG6aOSKOkkSiHIa3pUJMzNebbYfSfZZK1hd2zyPsmTzGTumd+595w7dxxEBHqjpHfC/gvQ9WhALpejeDxOHx8fJMsyKYpC7Xabbrfby1Dcc6PRwHg8hq7rGAwGEEKAmdHpdBCJROB0Ou/G/sH3H2qaBrfbbd5nMhksFgsAADOj1+shHA7/O+Dv7PP5UKvVYBgGmBmj0QiSJNkH/HSpVAIzg5mhaZr9QJfLhd1uB2bGbDZDMBi0F0hEqFar5izz+bylmL/ah9vt1rxOp9OWYt6+8YleXE5ZljGZTMDMOBwOiEaj9tUwkUig2Wya9VNV1b4u1TQN5/MZzAxd11EoFJ5N2PpgVVVxuVwghECr1YLf7396dZxE9O1xmX9ICEGn04kURaFUKkWr1YqWy6XVcFNPZ5nNZqHrOtbr9S/fWot+rUsrlQqYGd1uF6FQyH5gMpk0u7RYLFqOe3gAf8rr9VK9Xqfj8Uj9fp8kSaLr9Uoej8fqK0xZyszhcGA+n4OZIYQwj6f9fo9YLGZPl06nUwoEAsTMZBgGDYdDKpfLtNlsLM/O8ZP8Nn3938SvD/wOBDdCyPNIpaEAAAAASUVORK5CYII=\" y=\"-6.38\"/>\r\n   </g>\r\n  </g>\r\n </g>\r\n <defs>\r\n  <clipPath id=\"pf1126dde1e\">\r\n   <rect height=\"27.18\" width=\"27.18\" x=\"7.2\" y=\"7.2\"/>\r\n  </clipPath>\r\n </defs>\r\n</svg>\r\n",
      "image/png": "[encoded data removed]"
     },
     "metadata": {}
    },
    {
     "output_type": "display_data",
     "data": {
      "text/plain": "<Figure size 36x36 with 1 Axes>",
      "image/svg+xml": "<?xml version=\"1.0\" encoding=\"utf-8\" standalone=\"no\"?>\r\n<!DOCTYPE svg PUBLIC \"-//W3C//DTD SVG 1.1//EN\"\r\n  \"http://www.w3.org/Graphics/SVG/1.1/DTD/svg11.dtd\">\r\n<!-- Created with matplotlib (https://matplotlib.org/) -->\r\n<svg height=\"41.58pt\" version=\"1.1\" viewBox=\"0 0 41.58 41.58\" width=\"41.58pt\" xmlns=\"http://www.w3.org/2000/svg\" xmlns:xlink=\"http://www.w3.org/1999/xlink\">\r\n <defs>\r\n  <style type=\"text/css\">\r\n*{stroke-linecap:butt;stroke-linejoin:round;}\r\n  </style>\r\n </defs>\r\n <g id=\"figure_1\">\r\n  <g id=\"patch_1\">\r\n   <path d=\"M 0 41.58 \r\nL 41.58 41.58 \r\nL 41.58 0 \r\nL 0 0 \r\nz\r\n\" style=\"fill:#ffffff;\"/>\r\n  </g>\r\n  <g id=\"axes_1\">\r\n   <g clip-path=\"url(#p3bc4c144c5)\">\r\n    <image height=\"28\" id=\"image4cfeca12ed\" transform=\"scale(1 -1)translate(0 -28)\" width=\"28\" x=\"7.2\" xlink:href=\"data:image/png;base64,\r\niVBORw0KGgoAAAANSUhEUgAAABwAAAAcCAYAAAByDd+UAAAABHNCSVQICAgIfAhkiAAAAe5JREFUSInl1bGq4lAQBuD/7kJIYSUBEeyUIEZERLAQbLTwEexUbPQR7LZVC2MhEa4I2ljY2PgeWhshJMRKxMYmiWdus8rK3kS9LrLLDkz3Z74mM+cNAOGF9e2V2P8Bfgfw455gPB5Hr9fDbDZDIBBAMplELpdDJBLBcrl8CKVbPRwOybIsYoz91qfTiTRNo1qtdnPOz/YOJBIJOhwOn2K/tuM4pGkaxWKx58DRaHQZqqoqSZJEgiCQIAiUSqVIURRSFIVUVSXGGJmmSZIkfR3c7XYXMJ1Ou+aazeYlV6/XXXOef2k0GgXHcQCA+XyO1Wrlmh2Px9A0zWscgBtrUSwW4fP5AADH4xG2bbtmt9st3t/fnwMfrel0+lrwXJFI5LVguVx+LehVd4N+vx88z3tmKpUKAGAymXjmXHcmHA7Ter2+7Jcsy8Tz/KfZUChEuq7f3ENPEAA1Go2rE+aGZrNZYoyRZVlUKpW+DoqiSPv9/gotFApXGY7jaLFYEGOMDMN47pYCoH6/fwXquk6ZTIaCwSAFg0HK5/PEGCPbtqndbj8PRqNRGgwGZNu254ux2WxuzroLPHen0yHHcVyfJ1mW/ywIgKrVKhmGcYXZtk3dbvfeGY+BAKjVatG5TNMkURTv/vbtrL6q/t7T9s+CH5/2fWnnNcHgAAAAAElFTkSuQmCC\" y=\"-6.38\"/>\r\n   </g>\r\n  </g>\r\n </g>\r\n <defs>\r\n  <clipPath id=\"p3bc4c144c5\">\r\n   <rect height=\"27.18\" width=\"27.18\" x=\"7.2\" y=\"7.2\"/>\r\n  </clipPath>\r\n </defs>\r\n</svg>\r\n",
      "image/png": "[encoded data removed]"
     },
     "metadata": {}
    },
    {
     "output_type": "display_data",
     "data": {
      "text/plain": "<Figure size 36x36 with 1 Axes>",
      "image/svg+xml": "<?xml version=\"1.0\" encoding=\"utf-8\" standalone=\"no\"?>\r\n<!DOCTYPE svg PUBLIC \"-//W3C//DTD SVG 1.1//EN\"\r\n  \"http://www.w3.org/Graphics/SVG/1.1/DTD/svg11.dtd\">\r\n<!-- Created with matplotlib (https://matplotlib.org/) -->\r\n<svg height=\"41.58pt\" version=\"1.1\" viewBox=\"0 0 41.58 41.58\" width=\"41.58pt\" xmlns=\"http://www.w3.org/2000/svg\" xmlns:xlink=\"http://www.w3.org/1999/xlink\">\r\n <defs>\r\n  <style type=\"text/css\">\r\n*{stroke-linecap:butt;stroke-linejoin:round;}\r\n  </style>\r\n </defs>\r\n <g id=\"figure_1\">\r\n  <g id=\"patch_1\">\r\n   <path d=\"M 0 41.58 \r\nL 41.58 41.58 \r\nL 41.58 0 \r\nL 0 0 \r\nz\r\n\" style=\"fill:#ffffff;\"/>\r\n  </g>\r\n  <g id=\"axes_1\">\r\n   <g clip-path=\"url(#pf7b93fd678)\">\r\n    <image height=\"28\" id=\"imageda054bb817\" transform=\"scale(1 -1)translate(0 -28)\" width=\"28\" x=\"7.2\" xlink:href=\"data:image/png;base64,\r\niVBORw0KGgoAAAANSUhEUgAAABwAAAAcCAYAAAByDd+UAAAABHNCSVQICAgIfAhkiAAAAaJJREFUSIntlb+OAVEUxj+bzUQiyFUIjaj8KdTTTKJRaoRX8Aii9xA6HkCiZOppplOoKIxGpVAxCMn9tjLZDbuu8afYOMlp7rlnfjnf+W4GAOgnw+Ew2+02+/0+M5nMLb3+gMlkklJKSinZarWU+z7wgLBtW/nuQ4CVSuW1wHw+/3zgarWCaZoAACEEhBDKvb5MA4CGYXjG6Xa7z3UpAGqaRtM0KaXker1mLpd7rksPhwM2mw0AIBQKIRgMKvX5nhAA0+k0HcchSY5GIwohnifpKZvNprdLBVnvB343T6fT8b/DW6yuGr8CdV2HZVkoFotXP7LdbuG6rjL04ui9Xo9SSg4Gg6uSRqNRjsfj+yUFgPl8/mc9EomgXq+jUCgoTfd56TCVSqFUKgEAlsslarXaj3ogEABJlMtl6LqObDbr1abT6VXo2djVatVz3aUkeXa2WCxoGAY1TbvtWcTjcbquqwwcDodsNBqMxWJKT+hM0t1uB8dxMJvNPHkmkwkSiQSEELBtG5Zleff3+z2Ox+NVGb11nMZ8VTzkB/wGvoH/C/gFc2jrAraPalAAAAAASUVORK5CYII=\" y=\"-6.38\"/>\r\n   </g>\r\n  </g>\r\n </g>\r\n <defs>\r\n  <clipPath id=\"pf7b93fd678\">\r\n   <rect height=\"27.18\" width=\"27.18\" x=\"7.2\" y=\"7.2\"/>\r\n  </clipPath>\r\n </defs>\r\n</svg>\r\n",
      "image/png": "[encoded data removed]"
     },
     "metadata": {}
    },
    {
     "output_type": "display_data",
     "data": {
      "text/plain": "<Figure size 36x36 with 1 Axes>",
      "image/svg+xml": "<?xml version=\"1.0\" encoding=\"utf-8\" standalone=\"no\"?>\r\n<!DOCTYPE svg PUBLIC \"-//W3C//DTD SVG 1.1//EN\"\r\n  \"http://www.w3.org/Graphics/SVG/1.1/DTD/svg11.dtd\">\r\n<!-- Created with matplotlib (https://matplotlib.org/) -->\r\n<svg height=\"41.58pt\" version=\"1.1\" viewBox=\"0 0 41.58 41.58\" width=\"41.58pt\" xmlns=\"http://www.w3.org/2000/svg\" xmlns:xlink=\"http://www.w3.org/1999/xlink\">\r\n <defs>\r\n  <style type=\"text/css\">\r\n*{stroke-linecap:butt;stroke-linejoin:round;}\r\n  </style>\r\n </defs>\r\n <g id=\"figure_1\">\r\n  <g id=\"patch_1\">\r\n   <path d=\"M 0 41.58 \r\nL 41.58 41.58 \r\nL 41.58 0 \r\nL 0 0 \r\nz\r\n\" style=\"fill:#ffffff;\"/>\r\n  </g>\r\n  <g id=\"axes_1\">\r\n   <g clip-path=\"url(#p32ad0c8859)\">\r\n    <image height=\"28\" id=\"image1706f2379a\" transform=\"scale(1 -1)translate(0 -28)\" width=\"28\" x=\"7.2\" xlink:href=\"data:image/png;base64,\r\niVBORw0KGgoAAAANSUhEUgAAABwAAAAcCAYAAAByDd+UAAAABHNCSVQICAgIfAhkiAAAAfFJREFUSIntli2oIlEUx/9v2yA+/EiaZJJJg2EQBMNUGQxONVlsFrFYLWajyKBBsyD4Ua2ioCKjIKIwYaYIzhSRe7YNu6vvOaz6WHb3wIF7L+fw48/54L4BIHyhfftK2H/gPwAUBAHFYhH9fh+GYaBSqcDn8z0MpVsuCAJZlkWMsZ/8dDpRLpe7mePE3/DBHHa7XaRSKQCAoiiQZRkulwsAcD6fcTqdrnIMw0Cr1UIoFMJ0OsV4PMZisXCmsFqt2qo0TaPL5XKl9kcfjUa03W6JMUZERIwxOh6PdDgcSFGU+wq9Xi+GwyFisdjnBQEwn88Rj8fhdrvBcdzNmN1u97lCAOT3+ykcDlM4HKZGo0Hlctm+dzodW91ms6FgMOi0jr9X/Pf3d5pOpzZUkqTXAgGQoig2cL1ekyiKrwV6PB6aTCY2VJbl1wIBUDabtYG9Xu9u/MOrbbvd2mee5+/GPww0TROmaTqOfxioqipms9nzgel0Gvl8/updFEUkEgnHQMBBY0iSRJZlUbPZJI7jKBAIUDKZpHq9TpqmEWOMlsslZTKZ53Tp4XAgxhipqkqDweDmLn3q4EejUdJ1/SZotVpRoVAgnucdAT9c3r9aJBJBqVRCJpNBrVaDrusAgHa7jf1+76x4ABwDn2V/1p/mrwB+B6JxJ6WCUIkLAAAAAElFTkSuQmCC\" y=\"-6.38\"/>\r\n   </g>\r\n  </g>\r\n </g>\r\n <defs>\r\n  <clipPath id=\"p32ad0c8859\">\r\n   <rect height=\"27.18\" width=\"27.18\" x=\"7.2\" y=\"7.2\"/>\r\n  </clipPath>\r\n </defs>\r\n</svg>\r\n",
      "image/png": "[encoded data removed]"
     },
     "metadata": {}
    },
    {
     "output_type": "display_data",
     "data": {
      "text/plain": "<Figure size 36x36 with 1 Axes>",
      "image/svg+xml": "<?xml version=\"1.0\" encoding=\"utf-8\" standalone=\"no\"?>\r\n<!DOCTYPE svg PUBLIC \"-//W3C//DTD SVG 1.1//EN\"\r\n  \"http://www.w3.org/Graphics/SVG/1.1/DTD/svg11.dtd\">\r\n<!-- Created with matplotlib (https://matplotlib.org/) -->\r\n<svg height=\"41.58pt\" version=\"1.1\" viewBox=\"0 0 41.58 41.58\" width=\"41.58pt\" xmlns=\"http://www.w3.org/2000/svg\" xmlns:xlink=\"http://www.w3.org/1999/xlink\">\r\n <defs>\r\n  <style type=\"text/css\">\r\n*{stroke-linecap:butt;stroke-linejoin:round;}\r\n  </style>\r\n </defs>\r\n <g id=\"figure_1\">\r\n  <g id=\"patch_1\">\r\n   <path d=\"M 0 41.58 \r\nL 41.58 41.58 \r\nL 41.58 0 \r\nL 0 0 \r\nz\r\n\" style=\"fill:#ffffff;\"/>\r\n  </g>\r\n  <g id=\"axes_1\">\r\n   <g clip-path=\"url(#pc5e6d3e6c4)\">\r\n    <image height=\"28\" id=\"imagef34f1f8e94\" transform=\"scale(1 -1)translate(0 -28)\" width=\"28\" x=\"7.2\" xlink:href=\"data:image/png;base64,\r\niVBORw0KGgoAAAANSUhEUgAAABwAAAAcCAYAAAByDd+UAAAABHNCSVQICAgIfAhkiAAAAf5JREFUSIntlqGrKlEQxue+LXpX0SaCbYtB8G8waDKsQbGYNYlgEGH/ChebRUQQDJtMhgWDLIio2BQRi6B1w4qr893kwuWFt3hd3wtv4Ctnzpzf+SacOR9EBHpj/Hon7D/w7wJFUSRVVel0OhEz036/p3w+/xQUbtRsNsHM33S73dBqtVzVP+TaYSQSISIi27ap2+3SYDAgQRCoXC5Tr9ejWCz2Ood+vx/b7RbMjNVqhVAoBCJCLpfD+XwGM2M2m8Hn87lx+WdgIpH41sp6ve7kkskkjscjmBmyLHsDNAwDoig6+XQ6jev1islk4g2QmdHpdOD3+5090+kUpmlCkqSfA0VRxG63AzOj3W7jcDiAmTEejxEKhZBMJmFZFmzbRjwe/zmQiLBer8HMUFUVjUbDcXo+n2EYBpgZi8XiNS0lIoxGI8ehIAioVquO04dKpdLrgIqigJmhaZqzFovFUCwWUSwWkclkXJ3jGphOp8HMsCwLiUTC7eHPAwVBwHw+BzOj2Ww+DXT9tN3vd9I0jYiICoUChcNht6W/hevbpVIpmKYJZoaiKN629KHH1FgulwgEAt4DJUmCZVlgZvT7fXx+fnoLJCLUajVcLhcwM3RdRzAY9BZIRJBl2RlZuq4jm816CyQiRKNRVCoVbDYbDIdDVzUfD+q74t/9tb0qvgCZN9/qoZ+JzwAAAABJRU5ErkJggg==\" y=\"-6.38\"/>\r\n   </g>\r\n  </g>\r\n </g>\r\n <defs>\r\n  <clipPath id=\"pc5e6d3e6c4\">\r\n   <rect height=\"27.18\" width=\"27.18\" x=\"7.2\" y=\"7.2\"/>\r\n  </clipPath>\r\n </defs>\r\n</svg>\r\n",
      "image/png": "[encoded data removed]"
     },
     "metadata": {}
    },
    {
     "output_type": "display_data",
     "data": {
      "text/plain": "<Figure size 36x36 with 1 Axes>",
      "image/svg+xml": "<?xml version=\"1.0\" encoding=\"utf-8\" standalone=\"no\"?>\r\n<!DOCTYPE svg PUBLIC \"-//W3C//DTD SVG 1.1//EN\"\r\n  \"http://www.w3.org/Graphics/SVG/1.1/DTD/svg11.dtd\">\r\n<!-- Created with matplotlib (https://matplotlib.org/) -->\r\n<svg height=\"41.58pt\" version=\"1.1\" viewBox=\"0 0 41.58 41.58\" width=\"41.58pt\" xmlns=\"http://www.w3.org/2000/svg\" xmlns:xlink=\"http://www.w3.org/1999/xlink\">\r\n <defs>\r\n  <style type=\"text/css\">\r\n*{stroke-linecap:butt;stroke-linejoin:round;}\r\n  </style>\r\n </defs>\r\n <g id=\"figure_1\">\r\n  <g id=\"patch_1\">\r\n   <path d=\"M 0 41.58 \r\nL 41.58 41.58 \r\nL 41.58 0 \r\nL 0 0 \r\nz\r\n\" style=\"fill:#ffffff;\"/>\r\n  </g>\r\n  <g id=\"axes_1\">\r\n   <g clip-path=\"url(#pd363da5e59)\">\r\n    <image height=\"28\" id=\"image76c8841652\" transform=\"scale(1 -1)translate(0 -28)\" width=\"28\" x=\"7.2\" xlink:href=\"data:image/png;base64,\r\niVBORw0KGgoAAAANSUhEUgAAABwAAAAcCAYAAAByDd+UAAAABHNCSVQICAgIfAhkiAAAAi5JREFUSIntlj9rIkEYxt/sHYaIGxeURayWtHZikVKFWKqpxULwA9grYrp8hgWxsrAziJ9CFxeCjVVEEYPGv4Ua9H2uynJ78Yiwe3IcN/A07zMzv3ln5h3mgohAZ2zCOWH/geRyuahWqxEzG6rX6xQOhy1BcUyCICCbzYKZP2k0GiGfz8PpdB4d+4WOG4qimCDL5RLT6dQUGwwGSKVS9gAzmYwxsaZp8Pv9cLvduL+/R6vVAgAwM7bbLfL5PC4vL60BRVFEt9tFp9OBz+czeZIkIZFIQNM0Y1GlUskakIjg8Xggy/JvfUmSUC6XwczYbDYIBoPWgKfo+voa7XYbzIx4PP5lf8t1uFqtaLfbERFRr9c7aYylDCORCMbjMTRNgyRJX/b/fmomHo+HKpUKbTYben9/J0EQiJkpGo2SLMv08PBAi8XCvgxvb29xOByOPgTVavXkHflGRKVTVjUcDsnpdFIgEKDD4UAOh8Pk67pOw+HQvgx/lizLuLu7Q6PRwHa7BTNjvV4jEonYXxZer9dUm/F4HL1eD8wMXdfhdrvtA6bTaUwmE8xmM4RCISN+c3OD0WgEZkYul7MPmEwmjYvy9vaGWCxmeI+Pj8bWer1ee4BXV1d4enoyoPv9HsViEaIoolAoGPFf315LZ6goCprNpqksXl5e0O/3/wzwA6qqKl5fXz/VZL1ehyAI9gI/5HK5kEqloKoq5vM5np+fTZfpmC4+qOdqf9ev7Z8A/gAewfLA0th/VwAAAABJRU5ErkJggg==\" y=\"-6.38\"/>\r\n   </g>\r\n  </g>\r\n </g>\r\n <defs>\r\n  <clipPath id=\"pd363da5e59\">\r\n   <rect height=\"27.18\" width=\"27.18\" x=\"7.2\" y=\"7.2\"/>\r\n  </clipPath>\r\n </defs>\r\n</svg>\r\n",
      "image/png": "[encoded data removed]"
     },
     "metadata": {}
    },
    {
     "output_type": "display_data",
     "data": {
      "text/plain": "<Figure size 36x36 with 1 Axes>",
      "image/svg+xml": "<?xml version=\"1.0\" encoding=\"utf-8\" standalone=\"no\"?>\r\n<!DOCTYPE svg PUBLIC \"-//W3C//DTD SVG 1.1//EN\"\r\n  \"http://www.w3.org/Graphics/SVG/1.1/DTD/svg11.dtd\">\r\n<!-- Created with matplotlib (https://matplotlib.org/) -->\r\n<svg height=\"41.58pt\" version=\"1.1\" viewBox=\"0 0 41.58 41.58\" width=\"41.58pt\" xmlns=\"http://www.w3.org/2000/svg\" xmlns:xlink=\"http://www.w3.org/1999/xlink\">\r\n <defs>\r\n  <style type=\"text/css\">\r\n*{stroke-linecap:butt;stroke-linejoin:round;}\r\n  </style>\r\n </defs>\r\n <g id=\"figure_1\">\r\n  <g id=\"patch_1\">\r\n   <path d=\"M 0 41.58 \r\nL 41.58 41.58 \r\nL 41.58 0 \r\nL 0 0 \r\nz\r\n\" style=\"fill:#ffffff;\"/>\r\n  </g>\r\n  <g id=\"axes_1\">\r\n   <g clip-path=\"url(#p98c3c1185f)\">\r\n    <image height=\"28\" id=\"image7327cd6260\" transform=\"scale(1 -1)translate(0 -28)\" width=\"28\" x=\"7.2\" xlink:href=\"data:image/png;base64,\r\niVBORw0KGgoAAAANSUhEUgAAABwAAAAcCAYAAAByDd+UAAAABHNCSVQICAgIfAhkiAAAAdNJREFUSInt1U+rKXEYB/Cvi05kIZQ0Q8pmMiuT7L0E70ApG+VNyNJeUkISeQFKys6KbEhZUBaSPyU76ve9K1P33BvOOXd0T92nnsXM88zvU8/vqTEBIF4YP16JfRlUFAWbzQaZTMZ40GKxoFarwev14nK5GA/G43FEo1EAgMPhMB6cz+dYrVYwmUyIxWLGg+v1GtvtFuTHlvx7bel+v38tWCwWjQcVRUE4HP4wdAvLM012ux35fB6qqiISicBsNqPdbmO5XH4K5b202Wwsl8sUQnAymbDX6/FwOFAIoWez2bx7xru83xAMBimEYLfbpcvlIgCGw2Fms1kd3O129Pv9T4EPR5pKpQAAlUoFx+MRADCbzSBJkt7jdrvx9vb21DgfLo3P5/vj++FwiFarpT+rqvoUCDwYgaZp+v0FAoFfag6Hg9PplEIIVqvVv3OHHo+Hi8WCQgj2+/3f6uPxmEIIns9nSpL0dRAAQ6EQF4sFL5cLC4UCZVnWa6VSSV+e9xP4NAiAyWSSjUaDQgieTid2Oh0CYCKRMAYEQLPZzHQ6zeVyyev1ytFoxHq9bhx4S6vVSkVRmMvlKMsyNU3jYDCg0+l8+K3ppr4qvtf/8D/4T4A/AYP3lKemhyoTAAAAAElFTkSuQmCC\" y=\"-6.38\"/>\r\n   </g>\r\n  </g>\r\n </g>\r\n <defs>\r\n  <clipPath id=\"p98c3c1185f\">\r\n   <rect height=\"27.18\" width=\"27.18\" x=\"7.2\" y=\"7.2\"/>\r\n  </clipPath>\r\n </defs>\r\n</svg>\r\n",
      "image/png": "[encoded data removed]"
     },
     "metadata": {}
    },
    {
     "output_type": "display_data",
     "data": {
      "text/plain": "<Figure size 36x36 with 1 Axes>",
      "image/svg+xml": "<?xml version=\"1.0\" encoding=\"utf-8\" standalone=\"no\"?>\r\n<!DOCTYPE svg PUBLIC \"-//W3C//DTD SVG 1.1//EN\"\r\n  \"http://www.w3.org/Graphics/SVG/1.1/DTD/svg11.dtd\">\r\n<!-- Created with matplotlib (https://matplotlib.org/) -->\r\n<svg height=\"41.58pt\" version=\"1.1\" viewBox=\"0 0 41.58 41.58\" width=\"41.58pt\" xmlns=\"http://www.w3.org/2000/svg\" xmlns:xlink=\"http://www.w3.org/1999/xlink\">\r\n <defs>\r\n  <style type=\"text/css\">\r\n*{stroke-linecap:butt;stroke-linejoin:round;}\r\n  </style>\r\n </defs>\r\n <g id=\"figure_1\">\r\n  <g id=\"patch_1\">\r\n   <path d=\"M 0 41.58 \r\nL 41.58 41.58 \r\nL 41.58 0 \r\nL 0 0 \r\nz\r\n\" style=\"fill:#ffffff;\"/>\r\n  </g>\r\n  <g id=\"axes_1\">\r\n   <g clip-path=\"url(#pfc524a06cb)\">\r\n    <image height=\"28\" id=\"imagee9a44629e7\" transform=\"scale(1 -1)translate(0 -28)\" width=\"28\" x=\"7.2\" xlink:href=\"data:image/png;base64,\r\niVBORw0KGgoAAAANSUhEUgAAABwAAAAcCAYAAAByDd+UAAAABHNCSVQICAgIfAhkiAAAAiBJREFUSInlVj3PKVEQftwoFBIfEVRWsQkdtY9EIaLiB4hIFDoahVIhFDpRI36ARiEKkQii3oL4qISEiEK/OeY2l7zCvrtcr+LeSZ7k7DOTeTIzmXNWBYDwQfv1SbH/Q1AtF+D1esHzPIgI0WgUkUgEtVoNk8kERARBECAIwlOi9AiJRIJ6vR5tNhtijJEoije4cKvViqrVKnEc9zDPAzx25PP5u+SiKFKr1brjLohGo7KCki1dr9cYDocAgGQyeeWPxyNMJhMAIJfLIRQKwWazAQBSqRQGgwFOp9PzLVUKt9tNpVKJGGNERNRsNl9r6TNwOp20WCyIMUa73Y5cLpdk7FvWYj6fYzweAwAMBgMCgYBk7Nv3cLvdolKp/KygXq+HxWIBACwWC9n4l2dnMpmoXq9Tp9MhxhgNh0OyWq2vrcVX43keHo/nhlOpVDAajYjH4wCA8/mMZrOJ/X7/9xVOp1PJm+aCYrGoqCuKZqhkLg6HQ0kqZRVqtVqy2+1kt9spHA5Tv9+n2Wx2V3W5XH79LpUDz/OUzWaJMXZFo9H4OcGvCAQCJIoiLZdLcjgcr89Qo9GA4zhJv1qtBsdxMJvNAIDRaCQ772/XolQqIZ1Oo1AoPPTrdDpkMpnrd7vd/lbsYpLlB4NB2QdYFEU6Ho8Ui8UUtV/15yBpPp8PPM/fcMlkEn6/H4fDAblcDvv9Ht1uV1F1soLvtn//N/Hjgr8B90A0w1zcAWYAAAAASUVORK5CYII=\" y=\"-6.38\"/>\r\n   </g>\r\n  </g>\r\n </g>\r\n <defs>\r\n  <clipPath id=\"pfc524a06cb\">\r\n   <rect height=\"27.18\" width=\"27.18\" x=\"7.2\" y=\"7.2\"/>\r\n  </clipPath>\r\n </defs>\r\n</svg>\r\n",
      "image/png": "[encoded data removed]"
     },
     "metadata": {}
    },
    {
     "output_type": "display_data",
     "data": {
      "text/plain": "<Figure size 36x36 with 1 Axes>",
      "image/svg+xml": "<?xml version=\"1.0\" encoding=\"utf-8\" standalone=\"no\"?>\r\n<!DOCTYPE svg PUBLIC \"-//W3C//DTD SVG 1.1//EN\"\r\n  \"http://www.w3.org/Graphics/SVG/1.1/DTD/svg11.dtd\">\r\n<!-- Created with matplotlib (https://matplotlib.org/) -->\r\n<svg height=\"41.58pt\" version=\"1.1\" viewBox=\"0 0 41.58 41.58\" width=\"41.58pt\" xmlns=\"http://www.w3.org/2000/svg\" xmlns:xlink=\"http://www.w3.org/1999/xlink\">\r\n <defs>\r\n  <style type=\"text/css\">\r\n*{stroke-linecap:butt;stroke-linejoin:round;}\r\n  </style>\r\n </defs>\r\n <g id=\"figure_1\">\r\n  <g id=\"patch_1\">\r\n   <path d=\"M 0 41.58 \r\nL 41.58 41.58 \r\nL 41.58 0 \r\nL 0 0 \r\nz\r\n\" style=\"fill:#ffffff;\"/>\r\n  </g>\r\n  <g id=\"axes_1\">\r\n   <g clip-path=\"url(#pe4ec09a803)\">\r\n    <image height=\"28\" id=\"imagecd9a5764a9\" transform=\"scale(1 -1)translate(0 -28)\" width=\"28\" x=\"7.2\" xlink:href=\"data:image/png;base64,\r\niVBORw0KGgoAAAANSUhEUgAAABwAAAAcCAYAAAByDd+UAAAABHNCSVQICAgIfAhkiAAAAapJREFUSIntlDGr4lAQhSeSQiwUo5DGH5AiKFilTSui2Fna2vg7rCws1S6doGAa/4KV2ChKwEYURBDUQlAP51Ub9i0LG3Vj9Q4MDNwZPs7h3quICOWDigQdVFVV2u22uK4rhmG8BWWQKpVKBEAALBaLgXb+VoEdrtdr2e/3IiJSLpfDdygibLVaBMDj8UjTNF91GXw4m836sXY6nfCB8Xici8WCADibzZhMJsMFighzuRwfjwcBsNvtUlGUcIEiwtFo5Eer63o4t/R3jcdjvy8UCk/vP+0wlUpxPp8TAD3Po6qq4UYqIqzX636stVot3EhFRLbbrd9nMpmndl9yGI1GuVqtCIC73S78SEWE+Xye5/OZAOg4TvhAEfFdbjYbxmKx8IGGYfB2uxEAq9Xq/wFalsXhcEjbtmnbNtPp9Ldzz/MIgIPB4D2grut0XZfX69V/AgC4XC45mUzY6/VYqVTY7/cJgNPp9D2gaZo8HA4EwPv9TsdxvoH/rLeBIsJEIkFN06hpGiORiN83Gg02m01eLheS5Ol0omVZ/wQqv6if0ss/zQ/wB/gxfQEr3YtcoPIGSgAAAABJRU5ErkJggg==\" y=\"-6.38\"/>\r\n   </g>\r\n  </g>\r\n </g>\r\n <defs>\r\n  <clipPath id=\"pe4ec09a803\">\r\n   <rect height=\"27.18\" width=\"27.18\" x=\"7.2\" y=\"7.2\"/>\r\n  </clipPath>\r\n </defs>\r\n</svg>\r\n",
      "image/png": "[encoded data removed]"
     },
     "metadata": {}
    },
    {
     "output_type": "display_data",
     "data": {
      "text/plain": "<Figure size 36x36 with 1 Axes>",
      "image/svg+xml": "<?xml version=\"1.0\" encoding=\"utf-8\" standalone=\"no\"?>\r\n<!DOCTYPE svg PUBLIC \"-//W3C//DTD SVG 1.1//EN\"\r\n  \"http://www.w3.org/Graphics/SVG/1.1/DTD/svg11.dtd\">\r\n<!-- Created with matplotlib (https://matplotlib.org/) -->\r\n<svg height=\"41.58pt\" version=\"1.1\" viewBox=\"0 0 41.58 41.58\" width=\"41.58pt\" xmlns=\"http://www.w3.org/2000/svg\" xmlns:xlink=\"http://www.w3.org/1999/xlink\">\r\n <defs>\r\n  <style type=\"text/css\">\r\n*{stroke-linecap:butt;stroke-linejoin:round;}\r\n  </style>\r\n </defs>\r\n <g id=\"figure_1\">\r\n  <g id=\"patch_1\">\r\n   <path d=\"M 0 41.58 \r\nL 41.58 41.58 \r\nL 41.58 0 \r\nL 0 0 \r\nz\r\n\" style=\"fill:#ffffff;\"/>\r\n  </g>\r\n  <g id=\"axes_1\">\r\n   <g clip-path=\"url(#p24be328aef)\">\r\n    <image height=\"28\" id=\"imagea40c09bcf3\" transform=\"scale(1 -1)translate(0 -28)\" width=\"28\" x=\"7.2\" xlink:href=\"data:image/png;base64,\r\niVBORw0KGgoAAAANSUhEUgAAABwAAAAcCAYAAAByDd+UAAAABHNCSVQICAgIfAhkiAAAArdJREFUSIntlj1LK0EUhl9vINVKiqCiIGIQEdFqNYQoprPQQoLiTwikshFSCWkEq2jtH9AyGFIoGFJoiJJG7YLYWPgFq0GMbjzDe4uLgx+bZE0hFvfAKZY55zzzzpyZ2TYAxA/an5+E/U7g4OAgNjc3ISIQEWxtbSGRSCCRSLQMpZOHQiFeXl7y8fGRIuLo6XSak5OTjvkN3HlgY2ODtm3XhYkIlVKsVCqMx+P0+XytA2OxGGu1mi68v7/P2dlZDg0NaV9aWqJS6oPacDjcGjCXy+lCCwsLNAzDMTkYDDKTyfDp6YkiwuPjY46NjX0fWC6XdQG/39901slkUk+wUCg0jPUASH7uovHxcYyOjqK7uxu1Wg35fL5R0+Hi4gKWZSEUCsHn8yEQCODg4AC2bTvGN1zSWCzmugP39vZ0Xjwed4xxPIfZbBbkvxtvZmYGHo+nocI3K5VKqFarAADTNOH1et0pBMBKpUKlFJVSbhpB+8rKCpVSvL+/p2ma7hQCQD6fB0mQxOrqqiuFALC7uwuSaG9vRzAYdK/QNE1alkUR4cvLC6emplwp7Onp4enpKUWElmUxEom4u2kMw2Amk9FNUCqV2Nvb2xTo9XqZzWY10CGmfvLIyAivrq40dG5urilwYmKChUKBIsLDw0P3ewgA19fXSKVS+nttbQ3r6+uNUhAOh/Xe3d3dfRl3PPhvVq1WcX5+jmKxCNM0MTAwAMMwEI1G0dXVhdfXV9zc3MDv92N4eBgk0dfXh/7+fnR0dKBcLmN7e/tL3abL1NnZyZ2dHT48PHx5LdLpNI+OjigiPDk50WOpVIqBQOB7e/jZFxcXP7yP71+L9357e8v5+fl6ddwDATAajfL5+dkRaNs2z87O6ilrDQiA09PTzOVyJKlvI6UUl5eXm+a2vVF/yn7fX9t/4HftL49GLaLJpYc+AAAAAElFTkSuQmCC\" y=\"-6.38\"/>\r\n   </g>\r\n  </g>\r\n </g>\r\n <defs>\r\n  <clipPath id=\"p24be328aef\">\r\n   <rect height=\"27.18\" width=\"27.18\" x=\"7.2\" y=\"7.2\"/>\r\n  </clipPath>\r\n </defs>\r\n</svg>\r\n",
      "image/png": "[encoded data removed]"
     },
     "metadata": {}
    },
    {
     "output_type": "display_data",
     "data": {
      "text/plain": "<Figure size 36x36 with 1 Axes>",
      "image/svg+xml": "<?xml version=\"1.0\" encoding=\"utf-8\" standalone=\"no\"?>\r\n<!DOCTYPE svg PUBLIC \"-//W3C//DTD SVG 1.1//EN\"\r\n  \"http://www.w3.org/Graphics/SVG/1.1/DTD/svg11.dtd\">\r\n<!-- Created with matplotlib (https://matplotlib.org/) -->\r\n<svg height=\"41.58pt\" version=\"1.1\" viewBox=\"0 0 41.58 41.58\" width=\"41.58pt\" xmlns=\"http://www.w3.org/2000/svg\" xmlns:xlink=\"http://www.w3.org/1999/xlink\">\r\n <defs>\r\n  <style type=\"text/css\">\r\n*{stroke-linecap:butt;stroke-linejoin:round;}\r\n  </style>\r\n </defs>\r\n <g id=\"figure_1\">\r\n  <g id=\"patch_1\">\r\n   <path d=\"M 0 41.58 \r\nL 41.58 41.58 \r\nL 41.58 0 \r\nL 0 0 \r\nz\r\n\" style=\"fill:#ffffff;\"/>\r\n  </g>\r\n  <g id=\"axes_1\">\r\n   <g clip-path=\"url(#p8ceb039743)\">\r\n    <image height=\"28\" id=\"image7964591088\" transform=\"scale(1 -1)translate(0 -28)\" width=\"28\" x=\"7.2\" xlink:href=\"data:image/png;base64,\r\niVBORw0KGgoAAAANSUhEUgAAABwAAAAcCAYAAAByDd+UAAAABHNCSVQICAgIfAhkiAAAAfNJREFUSIntlq2rKlEUxffV5yAOKAYnTBH8AJNim2Cx2SwGgyJm/wSjitgEMYjRYNExWMdiUEEshhFEUDAIBhXBeFyvPCdcL45f93LD27Bgwt7nd846rMN8EBHoB8vwk7DfC8xkMjSZTIgxRoPBgGq1GkmSRDzPPwXFLdntdhwOBzDGrjSbzRAIBGAymW6u8Um3GxwOhwZot9uo1+tX4GazCUEQ3gPkeR7j8RitVgsWiwUcx8HtdqNQKGC5XGrQTqcDo9H4OvCWXC4Xer2eBk2n098LJCL4fD5st1swxtDtdr8fSERQVRWMMazXa93el3MYj8dJEAQiImo0GnfNvGTnZrPR7jCRSOjOfPz70C1RFCmVStHpdCKv10tERLFYTDudoigUiUQI0F9Od1dOpxOLxeLL8DPGMBwO4fF47nVGv6lUKl1Bjscj+v0+crkcbDbb3dfw5x47LxYSEVWrVZJlmVarFa1Wq3vGr0p3V7IsayezWq0vRejhWASDwadOdamHgfl8nqLRKBkMz0f4IUsvUlUVyWQSoig+auvtBrPZjHK5jOl0+mUkdrsdFEVBNpuF3+9/TyyICBzHged5hMNhVCoVzOfzK/h+v0coFHoP8LN4nockSajX6xiNRjifzwCAYrF4c+7up+1d9Tv/2v4DH6m/WHCUaonlo44AAAAASUVORK5CYII=\" y=\"-6.38\"/>\r\n   </g>\r\n  </g>\r\n </g>\r\n <defs>\r\n  <clipPath id=\"p8ceb039743\">\r\n   <rect height=\"27.18\" width=\"27.18\" x=\"7.2\" y=\"7.2\"/>\r\n  </clipPath>\r\n </defs>\r\n</svg>\r\n",
      "image/png": "[encoded data removed]"
     },
     "metadata": {}
    },
    {
     "output_type": "display_data",
     "data": {
      "text/plain": "<Figure size 36x36 with 1 Axes>",
      "image/svg+xml": "<?xml version=\"1.0\" encoding=\"utf-8\" standalone=\"no\"?>\r\n<!DOCTYPE svg PUBLIC \"-//W3C//DTD SVG 1.1//EN\"\r\n  \"http://www.w3.org/Graphics/SVG/1.1/DTD/svg11.dtd\">\r\n<!-- Created with matplotlib (https://matplotlib.org/) -->\r\n<svg height=\"41.58pt\" version=\"1.1\" viewBox=\"0 0 41.58 41.58\" width=\"41.58pt\" xmlns=\"http://www.w3.org/2000/svg\" xmlns:xlink=\"http://www.w3.org/1999/xlink\">\r\n <defs>\r\n  <style type=\"text/css\">\r\n*{stroke-linecap:butt;stroke-linejoin:round;}\r\n  </style>\r\n </defs>\r\n <g id=\"figure_1\">\r\n  <g id=\"patch_1\">\r\n   <path d=\"M 0 41.58 \r\nL 41.58 41.58 \r\nL 41.58 0 \r\nL 0 0 \r\nz\r\n\" style=\"fill:#ffffff;\"/>\r\n  </g>\r\n  <g id=\"axes_1\">\r\n   <g clip-path=\"url(#pc477af3e1a)\">\r\n    <image height=\"28\" id=\"image4e8f10c8f0\" transform=\"scale(1 -1)translate(0 -28)\" width=\"28\" x=\"7.2\" xlink:href=\"data:image/png;base64,\r\niVBORw0KGgoAAAANSUhEUgAAABwAAAAcCAYAAAByDd+UAAAABHNCSVQICAgIfAhkiAAAAdVJREFUSIntljGr4kAQx/+5OyJGbMRmo2Aj21i5lTaKliKKYGFvYWNjbXMfwFr9CBaCH0GIBIL4EewCWoggpFHJMq94JHjw8s7Iy13zBqZYMrO/zJ+Z3VUAEP6h/QgTXK1WIaWEbdvI5XLRA4UQAADGGPr9/ktA4F3Sp1zXdZJSkuu6tNlsKB6PP5374OESiIiklCSlpGw2Gxr4E8DvMHIoioJKpQIASCQSMAwD9/s9zBbh/lDTNDJNk1zXJdd1aTQaRSspAOp0Oj7QsqxoJQWA6/WKfD4PzjkYYwAAwzCezn+l06jZbNLtdiMpJdm2TYVCITpJPbcsyx+TxWIRPfDFuXwdCIB2u50/l61WK3pgu932O3a73UYP1DSNlsulD2WMRQsEQKVSyQdOp9NPYwPnkHMOwzAwHA6hqirK5TJisRjS6TSOx+MfsafTCYwxCCHAOcdqtcL5fP5oWwRW6B1fXhd6/riezWY0mUyoVqvRYDDwv3e73fCSjsfjvwKD1p8BfwWVPZ/PcblckEwmUSwWAQCNRgP7/R6pVAqZTObDPNM0sV6vA+VUvDKfMV3X4TgOVFWFpmkQQvhXVa/Xw+FwQL1eh+M4XwP8Cgv1pvkGfgP/C/ANiNNlnvhDZS4AAAAASUVORK5CYII=\" y=\"-6.38\"/>\r\n   </g>\r\n  </g>\r\n </g>\r\n <defs>\r\n  <clipPath id=\"pc477af3e1a\">\r\n   <rect height=\"27.18\" width=\"27.18\" x=\"7.2\" y=\"7.2\"/>\r\n  </clipPath>\r\n </defs>\r\n</svg>\r\n",
      "image/png": "[encoded data removed]"
     },
     "metadata": {}
    },
    {
     "output_type": "display_data",
     "data": {
      "text/plain": "<Figure size 36x36 with 1 Axes>",
      "image/svg+xml": "<?xml version=\"1.0\" encoding=\"utf-8\" standalone=\"no\"?>\r\n<!DOCTYPE svg PUBLIC \"-//W3C//DTD SVG 1.1//EN\"\r\n  \"http://www.w3.org/Graphics/SVG/1.1/DTD/svg11.dtd\">\r\n<!-- Created with matplotlib (https://matplotlib.org/) -->\r\n<svg height=\"41.58pt\" version=\"1.1\" viewBox=\"0 0 41.58 41.58\" width=\"41.58pt\" xmlns=\"http://www.w3.org/2000/svg\" xmlns:xlink=\"http://www.w3.org/1999/xlink\">\r\n <defs>\r\n  <style type=\"text/css\">\r\n*{stroke-linecap:butt;stroke-linejoin:round;}\r\n  </style>\r\n </defs>\r\n <g id=\"figure_1\">\r\n  <g id=\"patch_1\">\r\n   <path d=\"M 0 41.58 \r\nL 41.58 41.58 \r\nL 41.58 0 \r\nL 0 0 \r\nz\r\n\" style=\"fill:#ffffff;\"/>\r\n  </g>\r\n  <g id=\"axes_1\">\r\n   <g clip-path=\"url(#p77227f3ba1)\">\r\n    <image height=\"28\" id=\"image9677697b5d\" transform=\"scale(1 -1)translate(0 -28)\" width=\"28\" x=\"7.2\" xlink:href=\"data:image/png;base64,\r\niVBORw0KGgoAAAANSUhEUgAAABwAAAAcCAYAAAByDd+UAAAABHNCSVQICAgIfAhkiAAAAgBJREFUSIntlr+PKVEUx7/7QiEqQeIPEIVqgopKoZBoFKIxEQr/gF4jGaLdCI0wkejUGo1aIqLWSfzoJFRyr+8WL26e3beefW/IFu8kp5gzc+7nnl/3zgsA4ony45mw7wusVCqQUkIIASEEFosFMpnMX0N5S2OxGA+HA6WUFEJcqWmajEajN/3f6x8jjMfjcDgcOJ1OKJfL6HQ6OB6PAIBcLodUKgW3221dhIPBgEIIrtdrZUun01dRJxKJr0R5+wNd19XCtVpN2ZPJJElSSsnhcGgdEACXyyWllNxsNvT7/cp+2choNLKuhgBQrVYBAF6vF81mE6FQ6B63T+WunTUaDdWdq9WKo9FIRdhut61NKQDa7XbW6/WrsXhI07yHNhoNSikppSRJbrdbBgIBa2v4q0QiEZAESZzPZ3g8HhSLRdhstrvXuDu6Wq2m0rndbrnb7dSzYRi02WzWpdTn8101jaZp1DSNq9VK2TOZzGOAvV5P2cPh8BU0n89bB7w0i2maV+80TeNut1OHQzAY/Heg0+nkZDKhEIKLxeJD+nRdV6NSKpWsGYtAIMD9fq/SVygU6HK5PgBns5k1QAA0DENBpZScz+dstVocj8ePAQI/r6fpdPrbS1lKyX6/by3wUtNsNstut6ua6fX1lalUig6H41O/lwv1WfI9/9r+A78ib/3EEjJgIC/xAAAAAElFTkSuQmCC\" y=\"-6.38\"/>\r\n   </g>\r\n  </g>\r\n </g>\r\n <defs>\r\n  <clipPath id=\"p77227f3ba1\">\r\n   <rect height=\"27.18\" width=\"27.18\" x=\"7.2\" y=\"7.2\"/>\r\n  </clipPath>\r\n </defs>\r\n</svg>\r\n",
      "image/png": "[encoded data removed]"
     },
     "metadata": {}
    },
    {
     "output_type": "display_data",
     "data": {
      "text/plain": "<Figure size 36x36 with 1 Axes>",
      "image/svg+xml": "<?xml version=\"1.0\" encoding=\"utf-8\" standalone=\"no\"?>\r\n<!DOCTYPE svg PUBLIC \"-//W3C//DTD SVG 1.1//EN\"\r\n  \"http://www.w3.org/Graphics/SVG/1.1/DTD/svg11.dtd\">\r\n<!-- Created with matplotlib (https://matplotlib.org/) -->\r\n<svg height=\"41.58pt\" version=\"1.1\" viewBox=\"0 0 41.58 41.58\" width=\"41.58pt\" xmlns=\"http://www.w3.org/2000/svg\" xmlns:xlink=\"http://www.w3.org/1999/xlink\">\r\n <defs>\r\n  <style type=\"text/css\">\r\n*{stroke-linecap:butt;stroke-linejoin:round;}\r\n  </style>\r\n </defs>\r\n <g id=\"figure_1\">\r\n  <g id=\"patch_1\">\r\n   <path d=\"M 0 41.58 \r\nL 41.58 41.58 \r\nL 41.58 0 \r\nL 0 0 \r\nz\r\n\" style=\"fill:#ffffff;\"/>\r\n  </g>\r\n  <g id=\"axes_1\">\r\n   <g clip-path=\"url(#p58b37096f6)\">\r\n    <image height=\"28\" id=\"image423bcca238\" transform=\"scale(1 -1)translate(0 -28)\" width=\"28\" x=\"7.2\" xlink:href=\"data:image/png;base64,\r\niVBORw0KGgoAAAANSUhEUgAAABwAAAAcCAYAAAByDd+UAAAABHNCSVQICAgIfAhkiAAAAj1JREFUSInllr2q4mAQhr+zbKOYKoUoBrsg6D2IvegFaCNoYWtjlYBegWBh4wUoVhaClRwEK8VCEIM2/jQiCIqgRDK+p0owe6KJu6zF7geBhBm+Z5h3fvLBGAN74/nxTtj/Afzp1JHneZbJZJjX62WFQoEBYPP5nG23WzYej1mn02GTyYTt93vbu2D3NBoNLJdLaJoGTdNARMb7/fdyuUQ4HLa77zlMkqRvgNPphNVqZRnAZrOBKIq/B5RlGdfrFbfbDUQERVEQCoXg9/vB8zwEQYAgCEin01AUBUQEIsJ6vX4GtYYVi0Uj6uv1CkmSbFMvyzJUVQURod1uIxgMOgPyPG/STJZlW9g9VE9xuVx2BhQEwaSZU5j+KIoCTdPQaDScAUulkqHHcDh8GZhOp0FEOJ1O8Pl8Jptl43s8HgaAAWCfn59WLk9Pr9dj5/OZuVwuVigUTLa/MmlUVX04ACyBi8Xij4But5sFAoGHdsui0TU8Ho8va3hfA6FQyL5oOI7DeDw2qpTjOEcgt9uNRCJhtEW9Xnfe+JVKxQD2+33bGSmKIlqtljHqZrMZIpGIc6AoitjtdsYFh8PhGzQWi6Hb7WIwGBi+eoA8zz8K7nHUmUwGRAQAICLk83nDlsvlcLlcQETGrNX71kaC52maTqembVCr1cAYQ7PZNM3a1WqFbDbrRGv7YqhWq6aU/bof4/H4K1XszDEajWIwGFgu4BdgzoF62SeTSYxGI2M/plKpl4AfOvVd59//TXw78AvEq1cuHCK9UwAAAABJRU5ErkJggg==\" y=\"-6.38\"/>\r\n   </g>\r\n  </g>\r\n </g>\r\n <defs>\r\n  <clipPath id=\"p58b37096f6\">\r\n   <rect height=\"27.18\" width=\"27.18\" x=\"7.2\" y=\"7.2\"/>\r\n  </clipPath>\r\n </defs>\r\n</svg>\r\n",
      "image/png": "[encoded data removed]"
     },
     "metadata": {}
    },
    {
     "output_type": "display_data",
     "data": {
      "text/plain": "<Figure size 36x36 with 1 Axes>",
      "image/svg+xml": "<?xml version=\"1.0\" encoding=\"utf-8\" standalone=\"no\"?>\r\n<!DOCTYPE svg PUBLIC \"-//W3C//DTD SVG 1.1//EN\"\r\n  \"http://www.w3.org/Graphics/SVG/1.1/DTD/svg11.dtd\">\r\n<!-- Created with matplotlib (https://matplotlib.org/) -->\r\n<svg height=\"41.58pt\" version=\"1.1\" viewBox=\"0 0 41.58 41.58\" width=\"41.58pt\" xmlns=\"http://www.w3.org/2000/svg\" xmlns:xlink=\"http://www.w3.org/1999/xlink\">\r\n <defs>\r\n  <style type=\"text/css\">\r\n*{stroke-linecap:butt;stroke-linejoin:round;}\r\n  </style>\r\n </defs>\r\n <g id=\"figure_1\">\r\n  <g id=\"patch_1\">\r\n   <path d=\"M 0 41.58 \r\nL 41.58 41.58 \r\nL 41.58 0 \r\nL 0 0 \r\nz\r\n\" style=\"fill:#ffffff;\"/>\r\n  </g>\r\n  <g id=\"axes_1\">\r\n   <g clip-path=\"url(#p00accbbe23)\">\r\n    <image height=\"28\" id=\"image1e8392a8dc\" transform=\"scale(1 -1)translate(0 -28)\" width=\"28\" x=\"7.2\" xlink:href=\"data:image/png;base64,\r\niVBORw0KGgoAAAANSUhEUgAAABwAAAAcCAYAAAByDd+UAAAABHNCSVQICAgIfAhkiAAAAjpJREFUSIntlrFr6lAUxr9GqiBCh9KlRTu4SNPBpXNwlGaI/0HBwborCC6uQtOCU6FDt4IgdHKQTqWIOLiaDmoLkWQQ1FKI1MZ73uSlee9FtEWX9w58yznh++WeLxeyBYCwwRI2CfsP/EeA+/v7yGQyaDQaYIw5pOs6zs/PV4aSm4LBILVaLWKMucq2bTIMg87Ozmh7e9vV64vch9lsdiHsd93e3pLf7/8+sN1uc7OLiwuSJImm0ynvXV1d0fX1NZmmyXs3NzcUCAS+B3x6euJGuVyOANDz8zN9fn4SY4yGwyElEglSVZW63S7NZjMOXXBSd6Asyxw4Ho95//Lykmzb5rNMJkM+n48GgwHvnZ6e/gw4mUxIkiQ+KxaLjvweHx+pWq3+DOjxeBxrzefzfBaJROju7s71A/oW8ODggDRN4yblcpkEQeBzr9dL9/f3f8BqtRpFo9G/HwJAAS4lCAJOTk4giiIAQBRFWJaFer0OAJjNZmg2m3h7e4Nt23h5eUEqlYKqqtB13c128UXd2dlxrPX19ZWOj4+XueCrr3QuRVHo/f2dQ3u9Hh0eHq4PCIDi8bgjp0Kh4MhzWS3M8Gv1+30AwMfHB8LhMCRJQigUQqfTwWAwWMaC10pvGIvFHOs1DGPVTFfPQVEUGo1GHGqaJh0dHa0PCICSyaQjU13XSRTF9QH39vaoVqs5oLIsrw8IgHZ3d+nh4YEsyyLGGGmaRul0en3AuUqlEs2rUqksfHZrTt1Ubfyv7RfKGoRFc+CV4gAAAABJRU5ErkJggg==\" y=\"-6.38\"/>\r\n   </g>\r\n  </g>\r\n </g>\r\n <defs>\r\n  <clipPath id=\"p00accbbe23\">\r\n   <rect height=\"27.18\" width=\"27.18\" x=\"7.2\" y=\"7.2\"/>\r\n  </clipPath>\r\n </defs>\r\n</svg>\r\n",
      "image/png": "[encoded data removed]"
     },
     "metadata": {}
    },
    {
     "output_type": "display_data",
     "data": {
      "text/plain": "<Figure size 36x36 with 1 Axes>",
      "image/svg+xml": "<?xml version=\"1.0\" encoding=\"utf-8\" standalone=\"no\"?>\r\n<!DOCTYPE svg PUBLIC \"-//W3C//DTD SVG 1.1//EN\"\r\n  \"http://www.w3.org/Graphics/SVG/1.1/DTD/svg11.dtd\">\r\n<!-- Created with matplotlib (https://matplotlib.org/) -->\r\n<svg height=\"41.58pt\" version=\"1.1\" viewBox=\"0 0 41.58 41.58\" width=\"41.58pt\" xmlns=\"http://www.w3.org/2000/svg\" xmlns:xlink=\"http://www.w3.org/1999/xlink\">\r\n <defs>\r\n  <style type=\"text/css\">\r\n*{stroke-linecap:butt;stroke-linejoin:round;}\r\n  </style>\r\n </defs>\r\n <g id=\"figure_1\">\r\n  <g id=\"patch_1\">\r\n   <path d=\"M 0 41.58 \r\nL 41.58 41.58 \r\nL 41.58 0 \r\nL 0 0 \r\nz\r\n\" style=\"fill:#ffffff;\"/>\r\n  </g>\r\n  <g id=\"axes_1\">\r\n   <g clip-path=\"url(#pb7df1479db)\">\r\n    <image height=\"28\" id=\"image00ca78d9b4\" transform=\"scale(1 -1)translate(0 -28)\" width=\"28\" x=\"7.2\" xlink:href=\"data:image/png;base64,\r\niVBORw0KGgoAAAANSUhEUgAAABwAAAAcCAYAAAByDd+UAAAABHNCSVQICAgIfAhkiAAAARZJREFUSIntljGOg0AMRf+AhATVVNTQcABIQ0nFLWg4AQfgIFyABKXmBDTpoeUGCNFAhexUm2qLDKthd6VYsuTm68lftmcEAMaJYZwJ+wC/jaIosG0bqqo6DGWV7LqOiYgfj4eS7iv/vqW/AhRCnAtkZhiGAdM09QOnaQIAXC4XRFGkH9g0jTLkR8BhGLCuKwAgz/NDUOVd6vueiYjHcWTHcfTv4f1+BwD4vg/LsvR36HkeExETEUsp9XeYZdmrTtNUSXsIeLvdXnUQBMp6ZUuFEHy9XpmIuG1b/ZYyM/Z9BwDEcQzXdd/WHj7edV0DAKSUSJJEP3Ce50O6058n4MDQAGDbtrksS16WhcMwfH/g8PmX/nfgE00p2NK0tsfQAAAAAElFTkSuQmCC\" y=\"-6.38\"/>\r\n   </g>\r\n  </g>\r\n </g>\r\n <defs>\r\n  <clipPath id=\"pb7df1479db\">\r\n   <rect height=\"27.18\" width=\"27.18\" x=\"7.2\" y=\"7.2\"/>\r\n  </clipPath>\r\n </defs>\r\n</svg>\r\n",
      "image/png": "[encoded data removed]"
     },
     "metadata": {}
    },
    {
     "output_type": "display_data",
     "data": {
      "text/plain": "<Figure size 36x36 with 1 Axes>",
      "image/svg+xml": "<?xml version=\"1.0\" encoding=\"utf-8\" standalone=\"no\"?>\r\n<!DOCTYPE svg PUBLIC \"-//W3C//DTD SVG 1.1//EN\"\r\n  \"http://www.w3.org/Graphics/SVG/1.1/DTD/svg11.dtd\">\r\n<!-- Created with matplotlib (https://matplotlib.org/) -->\r\n<svg height=\"41.58pt\" version=\"1.1\" viewBox=\"0 0 41.58 41.58\" width=\"41.58pt\" xmlns=\"http://www.w3.org/2000/svg\" xmlns:xlink=\"http://www.w3.org/1999/xlink\">\r\n <defs>\r\n  <style type=\"text/css\">\r\n*{stroke-linecap:butt;stroke-linejoin:round;}\r\n  </style>\r\n </defs>\r\n <g id=\"figure_1\">\r\n  <g id=\"patch_1\">\r\n   <path d=\"M 0 41.58 \r\nL 41.58 41.58 \r\nL 41.58 0 \r\nL 0 0 \r\nz\r\n\" style=\"fill:#ffffff;\"/>\r\n  </g>\r\n  <g id=\"axes_1\">\r\n   <g clip-path=\"url(#p44014b06a6)\">\r\n    <image height=\"28\" id=\"image3ae3959e0f\" transform=\"scale(1 -1)translate(0 -28)\" width=\"28\" x=\"7.2\" xlink:href=\"data:image/png;base64,\r\niVBORw0KGgoAAAANSUhEUgAAABwAAAAcCAYAAAByDd+UAAAABHNCSVQICAgIfAhkiAAAAYZJREFUSIntlLGKwkAYhL87VKwCKqKVWGytaUULxUbwKbSz9IXUN7AS7PQBUoilQRIRG0GMlY3sf5VB8YoYjNwdN7Cw2d3JsDP/vx+A8EZ8hiGl02kWiwVaa1qtVvSC1WqVUqkUhhpO0LIsf95ut6MX9DyP+XwOQLlcjl7wfD7jui4AhmFgGMZTfAkzGo2GaK1Fay21Wi0wL9QNAbbbrT/vdruBeaEFb5HL5aIXPJ1OrNdrAAqFAtlsNjA3VIaA9Pt9uaLX60WbIcBsNkNEEBHq9XogzksyBEgmk8RisUBnQ1uayWRkuVz67aGUitbSw+HAbrd7ivMyS3+s4Lcpp1Ipms2m/z2dTsnn87iuy+VywTRNlFLAc01/xV2oxWJRNpuNXwhaa3EcR/b7vdi2LbZty/F4vNvXWstkMpFEIhGk2O4XlFIPP7sdIvKw5jiOdDqdQJX9YKnneQyHQ/9BHgwGjMdj4vE4pmliWRaVSuWOMxqNWK1Wgez8uF7zXfj7bfEv+PsFvwAwSkEcJT3qmQAAAABJRU5ErkJggg==\" y=\"-6.38\"/>\r\n   </g>\r\n  </g>\r\n </g>\r\n <defs>\r\n  <clipPath id=\"p44014b06a6\">\r\n   <rect height=\"27.18\" width=\"27.18\" x=\"7.2\" y=\"7.2\"/>\r\n  </clipPath>\r\n </defs>\r\n</svg>\r\n",
      "image/png": "[encoded data removed]"
     },
     "metadata": {}
    },
    {
     "output_type": "display_data",
     "data": {
      "text/plain": "<Figure size 36x36 with 1 Axes>",
      "image/svg+xml": "<?xml version=\"1.0\" encoding=\"utf-8\" standalone=\"no\"?>\r\n<!DOCTYPE svg PUBLIC \"-//W3C//DTD SVG 1.1//EN\"\r\n  \"http://www.w3.org/Graphics/SVG/1.1/DTD/svg11.dtd\">\r\n<!-- Created with matplotlib (https://matplotlib.org/) -->\r\n<svg height=\"41.58pt\" version=\"1.1\" viewBox=\"0 0 41.58 41.58\" width=\"41.58pt\" xmlns=\"http://www.w3.org/2000/svg\" xmlns:xlink=\"http://www.w3.org/1999/xlink\">\r\n <defs>\r\n  <style type=\"text/css\">\r\n*{stroke-linecap:butt;stroke-linejoin:round;}\r\n  </style>\r\n </defs>\r\n <g id=\"figure_1\">\r\n  <g id=\"patch_1\">\r\n   <path d=\"M 0 41.58 \r\nL 41.58 41.58 \r\nL 41.58 0 \r\nL 0 0 \r\nz\r\n\" style=\"fill:#ffffff;\"/>\r\n  </g>\r\n  <g id=\"axes_1\">\r\n   <g clip-path=\"url(#pae150bf7a5)\">\r\n    <image height=\"28\" id=\"image87e417e97d\" transform=\"scale(1 -1)translate(0 -28)\" width=\"28\" x=\"7.2\" xlink:href=\"data:image/png;base64,\r\niVBORw0KGgoAAAANSUhEUgAAABwAAAAcCAYAAAByDd+UAAAABHNCSVQICAgIfAhkiAAAActJREFUSIntljGr4kAUhc/IVrZJSm2dtEqwUf+Dtgp2sbWwEe0ES1vFMnXA3yBoFbERJLZWBstpMzlbPXnLW31ZElwWduAyxdzJd8/lniQCAPHGVXgnLBeg53mIogjlcjn1HWaJw+FAkvR9P+2dbEApJbXWjOM4VX7mltq2jUKhACFEqvzMQMuykCQJyHTD/iMrEEBqdUBOtiCJ9Xr9HqCUEkIIdDqdVPnfttQ0TfR6PVQqFQDAZrPB9XpFGIYAgGazCZIwDCN1kU9H2LIsBkHAJEmotX7sSil6nkcp5eM8Fx+uVivGcUytNU+nE4MgoFLq4bvP+3K5zO5D27YhhMB8Pke9XofjOHAcB6PRCPv9HkKIR/zJelrNqzeIlJJRFOWr8FX1YRii3+8/ci6XS3aF2+2WcRxzPB4/HSrP86i1ZrVaza4wDEMIITAYDGCa5pfz+/2O3W4HIQRs206l7iVwOp3ieDyiVCrhdruh2+2iWCz+kmMYBkii0WikAgLftKDVavF8Pj986Ps+Xdel67qcTCZUSjFJEg6Hw/y+h5ZlcbFY/NZ/cRxTKUUpZX7Aj6jVapzNZl8Ut9vt1M8QH9R3rX/vr+0/8K8DfwJHT+A1/0ui4gAAAABJRU5ErkJggg==\" y=\"-6.38\"/>\r\n   </g>\r\n  </g>\r\n </g>\r\n <defs>\r\n  <clipPath id=\"pae150bf7a5\">\r\n   <rect height=\"27.18\" width=\"27.18\" x=\"7.2\" y=\"7.2\"/>\r\n  </clipPath>\r\n </defs>\r\n</svg>\r\n",
      "image/png": "[encoded data removed]"
     },
     "metadata": {}
    },
    {
     "output_type": "display_data",
     "data": {
      "text/plain": "<Figure size 36x36 with 1 Axes>",
      "image/svg+xml": "<?xml version=\"1.0\" encoding=\"utf-8\" standalone=\"no\"?>\r\n<!DOCTYPE svg PUBLIC \"-//W3C//DTD SVG 1.1//EN\"\r\n  \"http://www.w3.org/Graphics/SVG/1.1/DTD/svg11.dtd\">\r\n<!-- Created with matplotlib (https://matplotlib.org/) -->\r\n<svg height=\"41.58pt\" version=\"1.1\" viewBox=\"0 0 41.58 41.58\" width=\"41.58pt\" xmlns=\"http://www.w3.org/2000/svg\" xmlns:xlink=\"http://www.w3.org/1999/xlink\">\r\n <defs>\r\n  <style type=\"text/css\">\r\n*{stroke-linecap:butt;stroke-linejoin:round;}\r\n  </style>\r\n </defs>\r\n <g id=\"figure_1\">\r\n  <g id=\"patch_1\">\r\n   <path d=\"M 0 41.58 \r\nL 41.58 41.58 \r\nL 41.58 0 \r\nL 0 0 \r\nz\r\n\" style=\"fill:#ffffff;\"/>\r\n  </g>\r\n  <g id=\"axes_1\">\r\n   <g clip-path=\"url(#p804666a91d)\">\r\n    <image height=\"28\" id=\"image8c5e362d48\" transform=\"scale(1 -1)translate(0 -28)\" width=\"28\" x=\"7.2\" xlink:href=\"data:image/png;base64,\r\niVBORw0KGgoAAAANSUhEUgAAABwAAAAcCAYAAAByDd+UAAAABHNCSVQICAgIfAhkiAAAAfxJREFUSIntlrGv6WAYxl9VaULSWBhMZxCLVSSWJkaTUcQf0EGEgYnBZrVgMWmIwUJiwEpEbMQ/0FgsXXRBfc+dTnPlctXVc3KG+yTP0L5vv1/69X2+1EFEoG8U952wnwkMBoM0mUyIMXZjRVEomUz+ExSP7Ha7cTgcwBi7a8Mw0G634ff7H65xx4+LqVQKjDFst1soigJFUdDv9/8Ar9dr+Hy+94GVSgX1eh1Op9O853A44HK5kM/nsVwuTehms7EKfVwURRHpdPphneM4yLKM4/EIxhhqtdp7QKvudDpgjGE6nT7ttSUW+/3ecq8tQEEQiIhot9tZ6n+6DYVCAcPhEOVyGV6v96YWjUahaRoMw4AkSU/XcpCFs3S73VI4HCYiIl3XaTabkaqqRESUSCQoFArRfD4nSZLsecNqtfow/IwxXC4X5HK593P4aUEQ0Gg0cD6f7wKbzeYrU219/IPBIIrFIsbj8Q18NBrB7XbbD/zd8Xgcqqqa0MFgAJ7nvzb4PM9jsViY0Ewm87XBNwyDZFmm4/Fo+RneaiPHcRSLxYiIaLVaERHR9XolXdcJeJqsG1navmw2ezOZmqah1+uZ1+fzGR8fH/Z9w263+9cstlqt16fU4/EgEAjcbYxEIjidTibgU4wxlEoliKJoCWjpaLNTP++v7T/wVf0CBl28FZawFAQAAAAASUVORK5CYII=\" y=\"-6.38\"/>\r\n   </g>\r\n  </g>\r\n </g>\r\n <defs>\r\n  <clipPath id=\"p804666a91d\">\r\n   <rect height=\"27.18\" width=\"27.18\" x=\"7.2\" y=\"7.2\"/>\r\n  </clipPath>\r\n </defs>\r\n</svg>\r\n",
      "image/png": "[encoded data removed]"
     },
     "metadata": {}
    },
    {
     "output_type": "display_data",
     "data": {
      "text/plain": "<Figure size 36x36 with 1 Axes>",
      "image/svg+xml": "<?xml version=\"1.0\" encoding=\"utf-8\" standalone=\"no\"?>\r\n<!DOCTYPE svg PUBLIC \"-//W3C//DTD SVG 1.1//EN\"\r\n  \"http://www.w3.org/Graphics/SVG/1.1/DTD/svg11.dtd\">\r\n<!-- Created with matplotlib (https://matplotlib.org/) -->\r\n<svg height=\"41.58pt\" version=\"1.1\" viewBox=\"0 0 41.58 41.58\" width=\"41.58pt\" xmlns=\"http://www.w3.org/2000/svg\" xmlns:xlink=\"http://www.w3.org/1999/xlink\">\r\n <defs>\r\n  <style type=\"text/css\">\r\n*{stroke-linecap:butt;stroke-linejoin:round;}\r\n  </style>\r\n </defs>\r\n <g id=\"figure_1\">\r\n  <g id=\"patch_1\">\r\n   <path d=\"M 0 41.58 \r\nL 41.58 41.58 \r\nL 41.58 0 \r\nL 0 0 \r\nz\r\n\" style=\"fill:#ffffff;\"/>\r\n  </g>\r\n  <g id=\"axes_1\">\r\n   <g clip-path=\"url(#p49cac76b6c)\">\r\n    <image height=\"28\" id=\"image6cbd219fb3\" transform=\"scale(1 -1)translate(0 -28)\" width=\"28\" x=\"7.2\" xlink:href=\"data:image/png;base64,\r\niVBORw0KGgoAAAANSUhEUgAAABwAAAAcCAYAAAByDd+UAAAABHNCSVQICAgIfAhkiAAAAf1JREFUSIntlsGraVEUxj96A8kpZWTOGSnJ0EAYUv4EI8pEmRj7B8TQxMhEMpSUGSkhZogyk1KKKJOz++7k2e+597iX+zC4va9W56y1zt6/1l777HMMAIgXyvhK2H/gzwD+eh/w+/1IJpMXsfl8jkajgV6vpzuJy+WCxWK5mn8vni2VSnGz2VDTNGqaRiGEvNc0jc1mk4FAgH+PicVi3O121DSNqqpe5K7YHyeXy1EIQSEEB4MBc7kcZ7OZjJHk6XRiq9Wi3+8nAJZKJZmfTCb3AbPZrKwmkUjQbrcTAFVVZTqd5mq1kvl+v8/BYCD93W53C+wSaDab2e125SSHw4GVSkVaIBDgdDr9sOSbzYY+n+9+4LmaWq2m28NrfqfTodvt/h7wXGk0GtXt4bUe7/f77wP1zOv16sbj8bjc2fv9/pZKbwN+ZqFQiMvlkkIIVqtVOhyO5wIBsFwuy55mMpnnAxVF4XA4pBCCo9GIiqLoPvews/RwOGC9XoMkTCYTjMbrUz+kQgC0Wq3yPS0Wi8+tEAAURYHT6ZQV6+nD1+IrRSIRAEC9Xpf+GRIMBmEwGABAXvV017KVSqUvT57PdundS9put7FYLDAej3XzhUIB7Xb76njDb/JdstlsOB6P8Hg8CIfDUFUVAJDP57FYLLDdbh8L/Bf9/J+olwPfAIOcn1YhPDZ5AAAAAElFTkSuQmCC\" y=\"-6.38\"/>\r\n   </g>\r\n  </g>\r\n </g>\r\n <defs>\r\n  <clipPath id=\"p49cac76b6c\">\r\n   <rect height=\"27.18\" width=\"27.18\" x=\"7.2\" y=\"7.2\"/>\r\n  </clipPath>\r\n </defs>\r\n</svg>\r\n",
      "image/png": "[encoded data removed]"
     },
     "metadata": {}
    },
    {
     "output_type": "display_data",
     "data": {
      "text/plain": "<Figure size 36x36 with 1 Axes>",
      "image/svg+xml": "<?xml version=\"1.0\" encoding=\"utf-8\" standalone=\"no\"?>\r\n<!DOCTYPE svg PUBLIC \"-//W3C//DTD SVG 1.1//EN\"\r\n  \"http://www.w3.org/Graphics/SVG/1.1/DTD/svg11.dtd\">\r\n<!-- Created with matplotlib (https://matplotlib.org/) -->\r\n<svg height=\"41.58pt\" version=\"1.1\" viewBox=\"0 0 41.58 41.58\" width=\"41.58pt\" xmlns=\"http://www.w3.org/2000/svg\" xmlns:xlink=\"http://www.w3.org/1999/xlink\">\r\n <defs>\r\n  <style type=\"text/css\">\r\n*{stroke-linecap:butt;stroke-linejoin:round;}\r\n  </style>\r\n </defs>\r\n <g id=\"figure_1\">\r\n  <g id=\"patch_1\">\r\n   <path d=\"M 0 41.58 \r\nL 41.58 41.58 \r\nL 41.58 0 \r\nL 0 0 \r\nz\r\n\" style=\"fill:#ffffff;\"/>\r\n  </g>\r\n  <g id=\"axes_1\">\r\n   <g clip-path=\"url(#p41d0e22a2f)\">\r\n    <image height=\"28\" id=\"imageac404417a4\" transform=\"scale(1 -1)translate(0 -28)\" width=\"28\" x=\"7.2\" xlink:href=\"data:image/png;base64,\r\niVBORw0KGgoAAAANSUhEUgAAABwAAAAcCAYAAAByDd+UAAAABHNCSVQICAgIfAhkiAAAAkZJREFUSIntlr1LcmEYxq/jB4IOHiSVwEHQyaZA3COHQAKDArcGBwcX5fwD/gnS0NLicKhBnBrCJXC2QWg6EbQELSJBdEiPN9c7dejNox70LRzeG+7hubme53d/POfhKACIXzTPb8I2H3h2dobj4+O1oXTjBwcHnEwmNE2TpVLJ1Z457k6YSCR4e3tLEeHLywvT6fRKQNctfX5+RrvdBgCEw2Hs7++77+E3c52doii8uLigiNA0TVar1Z9r6aefnJxwOp1SRDgYDLi1tfWzQAA8PT2liFBEqGkavV7vesBYLMZUKjV3k6qqPD8/t6FXV1eMxWLuxvJJ/WoPDw/Y3t6GruvQdR0AsLu7i3w+b2tyuRzi8bi9NgwDmqbh5ubm+3EzNpMFSTv7eT4cDjkcDv+KtVqtpRX6nDLIZrO4vLxEOp22Y51OB6Zp2mtd1/H4+Ihms4nDw0MAwPv7+9LqHCsEwGQyScMw7OyPjo4cdblcjm9vbxQRWpbFYrG4+i1NJpN8enqyDwuFQo66UCjE8XhMEWG/318I9AJozCs9EAhAVVVks1n4fD6Ew2HHS7Gzs4NoNIpMJgO/3w9FUXB3dwcRcd/Sr65pGj8+PmhZFsvlMiORyIzG7/ez2+3aI2g2mwwEAqt/+PV6nZZlUUR4fX3tqMlkMmy1WjZ0b29vvZemVqtRRHh/f79w7r1ejyLCbrfrdNncAxVFYaVSYaPRWKgLBoMsFAp8fX2liCx/af6VqaoKj8eD0Whkx34U6GSb/RP1H7iRwD+wMWnPX0/PCAAAAABJRU5ErkJggg==\" y=\"-6.38\"/>\r\n   </g>\r\n  </g>\r\n </g>\r\n <defs>\r\n  <clipPath id=\"p41d0e22a2f\">\r\n   <rect height=\"27.18\" width=\"27.18\" x=\"7.2\" y=\"7.2\"/>\r\n  </clipPath>\r\n </defs>\r\n</svg>\r\n",
      "image/png": "[encoded data removed]"
     },
     "metadata": {}
    },
    {
     "output_type": "display_data",
     "data": {
      "text/plain": "<Figure size 36x36 with 1 Axes>",
      "image/svg+xml": "<?xml version=\"1.0\" encoding=\"utf-8\" standalone=\"no\"?>\r\n<!DOCTYPE svg PUBLIC \"-//W3C//DTD SVG 1.1//EN\"\r\n  \"http://www.w3.org/Graphics/SVG/1.1/DTD/svg11.dtd\">\r\n<!-- Created with matplotlib (https://matplotlib.org/) -->\r\n<svg height=\"41.58pt\" version=\"1.1\" viewBox=\"0 0 41.58 41.58\" width=\"41.58pt\" xmlns=\"http://www.w3.org/2000/svg\" xmlns:xlink=\"http://www.w3.org/1999/xlink\">\r\n <defs>\r\n  <style type=\"text/css\">\r\n*{stroke-linecap:butt;stroke-linejoin:round;}\r\n  </style>\r\n </defs>\r\n <g id=\"figure_1\">\r\n  <g id=\"patch_1\">\r\n   <path d=\"M 0 41.58 \r\nL 41.58 41.58 \r\nL 41.58 0 \r\nL 0 0 \r\nz\r\n\" style=\"fill:#ffffff;\"/>\r\n  </g>\r\n  <g id=\"axes_1\">\r\n   <g clip-path=\"url(#p6e30f7f29e)\">\r\n    <image height=\"28\" id=\"imagef9efb073e0\" transform=\"scale(1 -1)translate(0 -28)\" width=\"28\" x=\"7.2\" xlink:href=\"data:image/png;base64,\r\niVBORw0KGgoAAAANSUhEUgAAABwAAAAcCAYAAAByDd+UAAAABHNCSVQICAgIfAhkiAAAAelJREFUSInt1jGL4lAQB/D/Hoe4aSSIYKWNnSlERWwEgyBWQnoRBD+AX8AqpYilFhZp7FOnsRFsBK0FK4mKKIQUUZGXueZ4nOzpqrsRDu7BQMIM88sk4SVvAAgvXD9eiQHAz1tJWZZRLpex3+/RbrdxOBy+BaVrMR6PiTFGjDGqVqtX6x6M68l+v89By7KoWCx6C8bjcdJ1naOn04kKhYJ3IAB6f3+nzWbD0eVySaIoegcCoEwmQ+v1mhhj5LouGYZBgUDga2A6nb5ZmEqlaLvdEhERY4yGwyEJgvA8KEnSp8WVSoVc1+W3t9PpPDPpY1fYarU4yBgjwzAefaaPgcFgkBaLBbmuy6Pb7XoHAqBIJEKmaV5MGovFvAMBkCzL5DgOB2ezmbcgAOr1ehw8n8+kKIq3oM/nI03TLjaFO9722039fj8NBgNSVZWi0eiHvCRJZNs2R3Vd/xpYq9V4M9M0qdlsfqjpdru8ZrfbUT6fv9rv5vcQAEKhED8Oh8NoNBqYTCZIJBIAgFKphGw2y2tEUYSqqsjlcld73pxQEASaz+d8gj93mlvx9ISO4yCZTELTNCiK8tea0WgEy7L4+XQ6vdrv7bf86ZIkCfV6HbZtQ9O0i9xqtcLxeLynzf3gd62X/7X9B/998BdLedM9QJ+fNAAAAABJRU5ErkJggg==\" y=\"-6.38\"/>\r\n   </g>\r\n  </g>\r\n </g>\r\n <defs>\r\n  <clipPath id=\"p6e30f7f29e\">\r\n   <rect height=\"27.18\" width=\"27.18\" x=\"7.2\" y=\"7.2\"/>\r\n  </clipPath>\r\n </defs>\r\n</svg>\r\n",
      "image/png": "[encoded data removed]"
     },
     "metadata": {}
    },
    {
     "output_type": "display_data",
     "data": {
      "text/plain": "<Figure size 36x36 with 1 Axes>",
      "image/svg+xml": "<?xml version=\"1.0\" encoding=\"utf-8\" standalone=\"no\"?>\r\n<!DOCTYPE svg PUBLIC \"-//W3C//DTD SVG 1.1//EN\"\r\n  \"http://www.w3.org/Graphics/SVG/1.1/DTD/svg11.dtd\">\r\n<!-- Created with matplotlib (https://matplotlib.org/) -->\r\n<svg height=\"41.58pt\" version=\"1.1\" viewBox=\"0 0 41.58 41.58\" width=\"41.58pt\" xmlns=\"http://www.w3.org/2000/svg\" xmlns:xlink=\"http://www.w3.org/1999/xlink\">\r\n <defs>\r\n  <style type=\"text/css\">\r\n*{stroke-linecap:butt;stroke-linejoin:round;}\r\n  </style>\r\n </defs>\r\n <g id=\"figure_1\">\r\n  <g id=\"patch_1\">\r\n   <path d=\"M 0 41.58 \r\nL 41.58 41.58 \r\nL 41.58 0 \r\nL 0 0 \r\nz\r\n\" style=\"fill:#ffffff;\"/>\r\n  </g>\r\n  <g id=\"axes_1\">\r\n   <g clip-path=\"url(#pf6037bcfe3)\">\r\n    <image height=\"28\" id=\"image887aa54092\" transform=\"scale(1 -1)translate(0 -28)\" width=\"28\" x=\"7.2\" xlink:href=\"data:image/png;base64,\r\niVBORw0KGgoAAAANSUhEUgAAABwAAAAcCAYAAAByDd+UAAAABHNCSVQICAgIfAhkiAAAAb9JREFUSIntVlEOojAQfSV7CsFraKO3EOo9iF7DxFuIxFs0kMZboMZLkGH2Z9tIgMLqxuwmO8mkQKe8vL7pTAUAxhct+CbYf0AAQBRF0FqDiFDXNZIkQRzHH4Gyz8uyZCLipmla4/l85izLOE1T7/oeH57MsoyJiOu6Hhy11hxF0eeAUkquqqrDrG/UWn8OqJRqMcnznKWUDIDTNOWiKN5l2j+x3W6ZiJiZmYg68/P5nIuiaDFNkuTPaZhl2aSdGIqz7j0WQggEQYAgCLBarSCl7MQYY3C9Xl2sEML3S/85ZGY0TYOmaRCGIcIw7MTc73dcLhcXO5vNEEWRF3SQvpSSD4eD09KXjTZuTEsvQ2MMjDGOpZQSWuteBjaOmcE83IBGS5vVyGq5Xq97tQTgNPTpOApoNbIsmRmn06kDulgsJjEEJlaIVy2JiG+3W6sQ2O9jGv4YY2htt9shDEMopVzWbjYbAMByuXQ78Hw+8Xg8PmeInqy1TKuqcu95nr9faYZ8qIvEcTy69q2OfzweXda++liVAd68YhhjIITAfr9HWZatDJ5iv72lr66UYiLisiwntSfx6+Fr9vfd2v55wJ/vGq8UnL5cDgAAAABJRU5ErkJggg==\" y=\"-6.38\"/>\r\n   </g>\r\n  </g>\r\n </g>\r\n <defs>\r\n  <clipPath id=\"pf6037bcfe3\">\r\n   <rect height=\"27.18\" width=\"27.18\" x=\"7.2\" y=\"7.2\"/>\r\n  </clipPath>\r\n </defs>\r\n</svg>\r\n",
      "image/png": "[encoded data removed]"
     },
     "metadata": {}
    },
    {
     "output_type": "display_data",
     "data": {
      "text/plain": "<Figure size 36x36 with 1 Axes>",
      "image/svg+xml": "<?xml version=\"1.0\" encoding=\"utf-8\" standalone=\"no\"?>\r\n<!DOCTYPE svg PUBLIC \"-//W3C//DTD SVG 1.1//EN\"\r\n  \"http://www.w3.org/Graphics/SVG/1.1/DTD/svg11.dtd\">\r\n<!-- Created with matplotlib (https://matplotlib.org/) -->\r\n<svg height=\"41.58pt\" version=\"1.1\" viewBox=\"0 0 41.58 41.58\" width=\"41.58pt\" xmlns=\"http://www.w3.org/2000/svg\" xmlns:xlink=\"http://www.w3.org/1999/xlink\">\r\n <defs>\r\n  <style type=\"text/css\">\r\n*{stroke-linecap:butt;stroke-linejoin:round;}\r\n  </style>\r\n </defs>\r\n <g id=\"figure_1\">\r\n  <g id=\"patch_1\">\r\n   <path d=\"M 0 41.58 \r\nL 41.58 41.58 \r\nL 41.58 0 \r\nL 0 0 \r\nz\r\n\" style=\"fill:#ffffff;\"/>\r\n  </g>\r\n  <g id=\"axes_1\">\r\n   <g clip-path=\"url(#p02b96176af)\">\r\n    <image height=\"28\" id=\"image2bbc7b6b5f\" transform=\"scale(1 -1)translate(0 -28)\" width=\"28\" x=\"7.2\" xlink:href=\"data:image/png;base64,\r\niVBORw0KGgoAAAANSUhEUgAAABwAAAAcCAYAAAByDd+UAAAABHNCSVQICAgIfAhkiAAAAhhJREFUSInt1rFLamEYBvBXEXQwSCGPioGbQ2cQ10DaahOnYxBNDQXiZiT+AyLS1t9QiIs0RNDU4KCj6HbEkpYDCjaInuF57uQBsYJ7j0fuhfvBNz3vx+987/sNxyUilC0u9zaxH0GfzydPT08CQG5ubsTlcm0M5Xc7mUzy4+ODAKhp2rd1v7l/LshkMgTAyWTCg4MD50FFUVgqlQiArVaLiUTCWVBEGIvF+Pb2RgCs1+vc3d11FhQRptNpjkYjAmClUnEeFBFqmkYABMBMJuM8KCIsl8sEwM/PTx4dHTkHRqNR5vN59vt965bT6ZTX19f0er2bA8PhMGu1Gk3TtKDxeEzDMAiAhmEwlUptBoxEInx9fSUAkqSu6zw9PWU4HObh4aGFPj4+0u122wdPTk6sW/V6vbWZFQoFzudzAmCxWLQPRqNRTqdTAqBpmsxms2s12WzWavfZ2Zn9Gaqqyk6nQwB8f39nPp9fad/e3h5fXl4IgLquU1VV+680GAyy3W5b7b26uqLH47FyRVE4m80IgMPhcCX7I3CJNptNC83lcmvzXqLn5+f2QRFhIBDg/f09AbDb7XJnZ2clv729JQDOZjPu7+/bB5cPqVqtcrFY8PLyciULhUIcDAYEwLu7u82AIkK/3892u82Hh4e17OLiggDYaDQ2B4oIj4+PmUwmv/yY5+dnxuPxL8+5luq21t/z1/Yf/GfAX38SERUPOPYKAAAAAElFTkSuQmCC\" y=\"-6.38\"/>\r\n   </g>\r\n  </g>\r\n </g>\r\n <defs>\r\n  <clipPath id=\"p02b96176af\">\r\n   <rect height=\"27.18\" width=\"27.18\" x=\"7.2\" y=\"7.2\"/>\r\n  </clipPath>\r\n </defs>\r\n</svg>\r\n",
      "image/png": "[encoded data removed]"
     },
     "metadata": {}
    },
    {
     "output_type": "display_data",
     "data": {
      "text/plain": "<Figure size 36x36 with 1 Axes>",
      "image/svg+xml": "<?xml version=\"1.0\" encoding=\"utf-8\" standalone=\"no\"?>\r\n<!DOCTYPE svg PUBLIC \"-//W3C//DTD SVG 1.1//EN\"\r\n  \"http://www.w3.org/Graphics/SVG/1.1/DTD/svg11.dtd\">\r\n<!-- Created with matplotlib (https://matplotlib.org/) -->\r\n<svg height=\"41.58pt\" version=\"1.1\" viewBox=\"0 0 41.58 41.58\" width=\"41.58pt\" xmlns=\"http://www.w3.org/2000/svg\" xmlns:xlink=\"http://www.w3.org/1999/xlink\">\r\n <defs>\r\n  <style type=\"text/css\">\r\n*{stroke-linecap:butt;stroke-linejoin:round;}\r\n  </style>\r\n </defs>\r\n <g id=\"figure_1\">\r\n  <g id=\"patch_1\">\r\n   <path d=\"M 0 41.58 \r\nL 41.58 41.58 \r\nL 41.58 0 \r\nL 0 0 \r\nz\r\n\" style=\"fill:#ffffff;\"/>\r\n  </g>\r\n  <g id=\"axes_1\">\r\n   <g clip-path=\"url(#p6d14d33b6a)\">\r\n    <image height=\"28\" id=\"imagec2ce41a816\" transform=\"scale(1 -1)translate(0 -28)\" width=\"28\" x=\"7.2\" xlink:href=\"data:image/png;base64,\r\niVBORw0KGgoAAAANSUhEUgAAABwAAAAcCAYAAAByDd+UAAAABHNCSVQICAgIfAhkiAAAAjZJREFUSIntlr9rKkEQx0c9o3DBSrtgaZVCohBLLWwFEQ4t/NFpYxuwkiAiwSaYRtBGbP0DFElKlTtsFCwVU2hjo0JQ4fab6h3cixqjPknxBgbudnb3s9+5meU0RAS6oGkvCft9QJ1OR09PT8QYI8YY1et1ur+/J41GcxIUu9zn84Ex9sXz+TxsNtvOdd/47mChUFAgm80Gi8VCeX99fQXP8z8G7k3pbDZTnh8fH+n29pYkSSJZlsnj8VCxWCSe58+XUqvViuVyCcYYJEmCwWAAEeHt7U1R6nK5zqfw/f2dnp+fiYjI4XBQOp0mg8FAzWbzx6oOUkhEMJvNGI1GiqJkMolWq3W0wm+BRARBEDCfz7dWrNFoPD+QiBCJRFRVyhhDp9M5b1v87ZVKRQUEgGw2+2+ALpdrZ1qr1Spubm7OCyyVSgrg4eEBLy8vkGVZGfv4+EAmk4HJZDodyPM8er0eGGMYDAbKpm63G/1+X6V2uVwikUiA47jjgXa7HavVCowxxGIxVcxiscDr9WI8HqvAjUYDkUgEWq32uJR2u13lDt12er1ej3g8/uX7+v3+44DRaFTZJJVKQafTfZlzfX2N4XCozBuPx3A6nccBr66uVIVTq9UgCIIqHggElHgwGNxVQIf3kF6vR7lcVqVsMplAFEVMp1OVsj3VejiQiMBxHARBwHq93tqTi8UC4XD4tLbY5kajEaFQCKIoYjQaod1uI5fL4e7ubu86zR/qpex3/bX9Bx5jn6o1UL7KAGnIAAAAAElFTkSuQmCC\" y=\"-6.38\"/>\r\n   </g>\r\n  </g>\r\n </g>\r\n <defs>\r\n  <clipPath id=\"p6d14d33b6a\">\r\n   <rect height=\"27.18\" width=\"27.18\" x=\"7.2\" y=\"7.2\"/>\r\n  </clipPath>\r\n </defs>\r\n</svg>\r\n",
      "image/png": "[encoded data removed]"
     },
     "metadata": {}
    },
    {
     "output_type": "display_data",
     "data": {
      "text/plain": "<Figure size 36x36 with 1 Axes>",
      "image/svg+xml": "<?xml version=\"1.0\" encoding=\"utf-8\" standalone=\"no\"?>\r\n<!DOCTYPE svg PUBLIC \"-//W3C//DTD SVG 1.1//EN\"\r\n  \"http://www.w3.org/Graphics/SVG/1.1/DTD/svg11.dtd\">\r\n<!-- Created with matplotlib (https://matplotlib.org/) -->\r\n<svg height=\"41.58pt\" version=\"1.1\" viewBox=\"0 0 41.58 41.58\" width=\"41.58pt\" xmlns=\"http://www.w3.org/2000/svg\" xmlns:xlink=\"http://www.w3.org/1999/xlink\">\r\n <defs>\r\n  <style type=\"text/css\">\r\n*{stroke-linecap:butt;stroke-linejoin:round;}\r\n  </style>\r\n </defs>\r\n <g id=\"figure_1\">\r\n  <g id=\"patch_1\">\r\n   <path d=\"M 0 41.58 \r\nL 41.58 41.58 \r\nL 41.58 0 \r\nL 0 0 \r\nz\r\n\" style=\"fill:#ffffff;\"/>\r\n  </g>\r\n  <g id=\"axes_1\">\r\n   <g clip-path=\"url(#pdac8562f85)\">\r\n    <image height=\"28\" id=\"image21c2913bdf\" transform=\"scale(1 -1)translate(0 -28)\" width=\"28\" x=\"7.2\" xlink:href=\"data:image/png;base64,\r\niVBORw0KGgoAAAANSUhEUgAAABwAAAAcCAYAAAByDd+UAAAABHNCSVQICAgIfAhkiAAAAXNJREFUSInt1rGKwkAQBuDf6xRT2RgUzBsY0CKdLyDaaOdDWPoa9lZWWqSyDGhhk0JrC4sU9kEQBGGG/5pzwUIJ6spx3MJAArN8zGYmbA4A8cH19UnsH4TruthutxARtFqtt6G8F0EQUEQoIjwejyyXy3dzs0bmI3UcB8Ph0G6FpVKJ6/WaIkJVZZIkbDabr1b5OGEwGFBVSZKqysPhwHq9bg8EwG63S1U133M8HtsFAdyAl8vlFTRbYhAEjOPYoCLCWq1mDwTAdrvN8/lswN1uR8/z7IEAOBqNqKqmkWazmV0QAOfzuRmVzWZD13Uz733qXxrHMfb7PQDA932EYYhqtZp5/1Pd5nneTef2ej17R3qNNE0NuFgsWCwW7YKNRoNpmpomWi6XdkEA7Pf7N7NpHSwUCpxMJgacTqfM5/P2QAB0HIdRFJlRqVQqd3PfcsU4nU5IksS8dzqdh/kvV3itcrVakeTDCnM/Dx9bv+vW9ifAb1/lhF3KIpvwAAAAAElFTkSuQmCC\" y=\"-6.38\"/>\r\n   </g>\r\n  </g>\r\n </g>\r\n <defs>\r\n  <clipPath id=\"pdac8562f85\">\r\n   <rect height=\"27.18\" width=\"27.18\" x=\"7.2\" y=\"7.2\"/>\r\n  </clipPath>\r\n </defs>\r\n</svg>\r\n",
      "image/png": "[encoded data removed]"
     },
     "metadata": {}
    },
    {
     "output_type": "display_data",
     "data": {
      "text/plain": "<Figure size 36x36 with 1 Axes>",
      "image/svg+xml": "<?xml version=\"1.0\" encoding=\"utf-8\" standalone=\"no\"?>\r\n<!DOCTYPE svg PUBLIC \"-//W3C//DTD SVG 1.1//EN\"\r\n  \"http://www.w3.org/Graphics/SVG/1.1/DTD/svg11.dtd\">\r\n<!-- Created with matplotlib (https://matplotlib.org/) -->\r\n<svg height=\"41.58pt\" version=\"1.1\" viewBox=\"0 0 41.58 41.58\" width=\"41.58pt\" xmlns=\"http://www.w3.org/2000/svg\" xmlns:xlink=\"http://www.w3.org/1999/xlink\">\r\n <defs>\r\n  <style type=\"text/css\">\r\n*{stroke-linecap:butt;stroke-linejoin:round;}\r\n  </style>\r\n </defs>\r\n <g id=\"figure_1\">\r\n  <g id=\"patch_1\">\r\n   <path d=\"M 0 41.58 \r\nL 41.58 41.58 \r\nL 41.58 0 \r\nL 0 0 \r\nz\r\n\" style=\"fill:#ffffff;\"/>\r\n  </g>\r\n  <g id=\"axes_1\">\r\n   <g clip-path=\"url(#p68aece9607)\">\r\n    <image height=\"28\" id=\"imageb75c631001\" transform=\"scale(1 -1)translate(0 -28)\" width=\"28\" x=\"7.2\" xlink:href=\"data:image/png;base64,\r\niVBORw0KGgoAAAANSUhEUgAAABwAAAAcCAYAAAByDd+UAAAABHNCSVQICAgIfAhkiAAAAk1JREFUSInt1j1oIkEUB/AX10CILi5CsApYCAYrSyGmECWIICjY2KhF6kAgjYUQrCWdEOwSmxTpBO0EOwURCxW1ECxErRRkhVi8fyqX7Hl+5I61OG7gwe7se/NjZmeHPSEi0BGb7pjYf/DfAPU/SfZ4PHR7e0ter5em0ym1Wi1yuVxUrVYpm83SaDQiYP+mx744Pz9HMBjEYrEAM4OZ8fn5qbpnZsTjcZhMpn3j7caMRiPy+bxqYGZGu93G9fU1IpEISqUSVqsVmBmNRgOxWGwXvBt8fn5WkMFgoFynUilVntvtRjqdVp4nk8lt6HZMFEXUajUwM4rFIh4eHlTL92u+IAh4enpScrLZ7M/ATCYDZsZwOITD4YAoipBlGcyMbrcLq9W6UaPX6xVUlmWEw+HDQLPZrLyXUqmk9H+fwXK5xOPjI05PTyEIgpLjdDqVnKurq8PBddF3UBAEpFIpLJdL1Saq1+sIh8Ow2Wx4e3sDM6PZbEKSpMNASZIwm802wHWEQiF0Oh3IsgwAG7uYmfHy8rJRd7JWf9dyuRzd3d1RrVYjn89Hsixv5Ljdbrq5uaFAIKDq//j4oNfXV5rP5xs1WzdNLpcDM6NarcJgMOw9IA6M7Q9dLheYGYvFAna7XXvw4uIC/X4fzIxKpQJRFLUFiUj1sV9eXmoPWiwW9Ho9MDPu7++h0+m0BYkI7+/vyiyj0aj2oN/vV8Ber/e3S7s/SZIkJBIJ5RxtNBragusoFApgZozH4+OAZ2dnKJfLmEwmfwzuPNq0aEf/a/sCkg9OvMXW2ZwAAAAASUVORK5CYII=\" y=\"-6.38\"/>\r\n   </g>\r\n  </g>\r\n </g>\r\n <defs>\r\n  <clipPath id=\"p68aece9607\">\r\n   <rect height=\"27.18\" width=\"27.18\" x=\"7.2\" y=\"7.2\"/>\r\n  </clipPath>\r\n </defs>\r\n</svg>\r\n",
      "image/png": "[encoded data removed]"
     },
     "metadata": {}
    },
    {
     "output_type": "display_data",
     "data": {
      "text/plain": "<Figure size 36x36 with 1 Axes>",
      "image/svg+xml": "<?xml version=\"1.0\" encoding=\"utf-8\" standalone=\"no\"?>\r\n<!DOCTYPE svg PUBLIC \"-//W3C//DTD SVG 1.1//EN\"\r\n  \"http://www.w3.org/Graphics/SVG/1.1/DTD/svg11.dtd\">\r\n<!-- Created with matplotlib (https://matplotlib.org/) -->\r\n<svg height=\"41.58pt\" version=\"1.1\" viewBox=\"0 0 41.58 41.58\" width=\"41.58pt\" xmlns=\"http://www.w3.org/2000/svg\" xmlns:xlink=\"http://www.w3.org/1999/xlink\">\r\n <defs>\r\n  <style type=\"text/css\">\r\n*{stroke-linecap:butt;stroke-linejoin:round;}\r\n  </style>\r\n </defs>\r\n <g id=\"figure_1\">\r\n  <g id=\"patch_1\">\r\n   <path d=\"M 0 41.58 \r\nL 41.58 41.58 \r\nL 41.58 0 \r\nL 0 0 \r\nz\r\n\" style=\"fill:#ffffff;\"/>\r\n  </g>\r\n  <g id=\"axes_1\">\r\n   <g clip-path=\"url(#p0b83e73dd7)\">\r\n    <image height=\"28\" id=\"image1acd2ac0a5\" transform=\"scale(1 -1)translate(0 -28)\" width=\"28\" x=\"7.2\" xlink:href=\"data:image/png;base64,\r\niVBORw0KGgoAAAANSUhEUgAAABwAAAAcCAYAAAByDd+UAAAABHNCSVQICAgIfAhkiAAAAelJREFUSIntVj2L6lAQHV8hSSyCVbARIRbBykax1U5sg+gfUNNZKpZi41+wTKGFVv4ACxsLK7GyECF+YCFoE0W892yx7PJE3hrdrLwHb2CaOZx7mLlnLtdDRKAXxq9Xiv0bgvl8nhhjFAwGXyM4m82IiMjv9z8lSPRuGscpSRImkwlGo9FDvN/ycVK32wVjDIqiPMx9yjTT6ZQ8Hg+lUqln6I93qGkazucz+v3+a0ZKRFgsFthsNvD5fD8/UiKiTqdDiqJQq9UiWZZJEARHPM9Hm38KVVVJ13USRZGSyeRnPRaLkSAIBLzTl8sltdttqlQqd0W/HIFpmuCcAwA451f5UbMsC7VaDel0+vt3WC6XwRjD4XBAvV5HNBr9xDKZDBhjME3TPdOoqgrbtnE6nRCPx68wWZaxXq+x3W4RCoXcc2mhUADnHJPJBJIkXWG5XA6XywWNRsM9QUVRYFkWGGMoFotXWDgcxvF4RLfbhdfrdW8PDcMA5xzVavUGGw6H4Jw7Mo3jPRwMBrTb7Sibzd5gvV6PAJCmaY7OcuywZrOJUql0Uw8EApjP59jv91BV1Z2R3stKpQLGGAzD+J5gOByGKIp3BSORCMbjMVarFRKJxM93SETQdR22bX+5k3ffUrfj7/+1/Re8F29wbD2SPunMvgAAAABJRU5ErkJggg==\" y=\"-6.38\"/>\r\n   </g>\r\n  </g>\r\n </g>\r\n <defs>\r\n  <clipPath id=\"p0b83e73dd7\">\r\n   <rect height=\"27.18\" width=\"27.18\" x=\"7.2\" y=\"7.2\"/>\r\n  </clipPath>\r\n </defs>\r\n</svg>\r\n",
      "image/png": "[encoded data removed]"
     },
     "metadata": {}
    }
   ],
   "source": [
    "for image in images:\n",
    "    plt.figure(figsize=(.5,.5))\n",
    "    plt.axes()\n",
    "    plt.imshow(image, cmap='gray')\n",
    "    plt.axis('off')\n",
    "    plt.show()"
   ]
  },
  {
   "cell_type": "code",
   "execution_count": 160,
   "metadata": {},
   "outputs": [],
   "source": [
    "#Input numbers shown above into this array\n",
    "y_representative_digits = np.array([2,1,5,5,4,5,0,6,0,2,9,6,3,9,4,9,5,8,6,8,1,7,3,0,7,2,6,3,9,3,7,0,5,7,8,0,6,1,7,9,3,2,4,7,0,4,8,1,6,4])"
   ]
  },
  {
   "cell_type": "code",
   "execution_count": 161,
   "metadata": {},
   "outputs": [],
   "source": [
    "y_train_propagated = np.empty(len(X_train), dtype=np.int32)\n",
    "for i in range(k):\n",
    "    y_train_propagated[kmeans.labels_ ==i] = y_representative_digits[i]"
   ]
  },
  {
   "cell_type": "code",
   "execution_count": 162,
   "metadata": {},
   "outputs": [
    {
     "output_type": "execute_result",
     "data": {
      "text/plain": [
       "0.7984523809523809"
      ]
     },
     "metadata": {},
     "execution_count": 162
    }
   ],
   "source": [
    "from sklearn.linear_model import LogisticRegression\n",
    "log_reg = LogisticRegression()\n",
    "log_reg.fit(X_train, y_train_propagated)\n",
    "log_reg.score(X_test, y_test)"
   ]
  },
  {
   "source": [
    "Going to try and propagate the labels to the 20% of the instances that are closest to the centroids to see if we can improve our score"
   ],
   "cell_type": "markdown",
   "metadata": {}
  },
  {
   "cell_type": "code",
   "execution_count": 163,
   "metadata": {},
   "outputs": [],
   "source": [
    "percentile_closest = 20\n",
    "\n",
    "X_cluster_dist = X_digits_dist[np.arange(len(X_train)), kmeans.labels_]\n",
    "for i in range(k):\n",
    "    in_cluster = (kmeans.labels_ == i)\n",
    "    cluster_dist = X_cluster_dist[in_cluster]\n",
    "    cutoff_distance = np.percentile(cluster_dist, percentile_closest)\n",
    "    above_cutoff = (X_cluster_dist > cutoff_distance)\n",
    "    X_cluster_dist[in_cluster & above_cutoff] = -1\n",
    "\n",
    "partially_propagated = (X_cluster_dist != -1)\n",
    "X_train_partially_propagated = X_train[partially_propagated]\n",
    "y_train_partially_propagated = y_train_propagated[partially_propagated]"
   ]
  },
  {
   "cell_type": "code",
   "execution_count": 164,
   "metadata": {},
   "outputs": [
    {
     "output_type": "execute_result",
     "data": {
      "text/plain": [
       "0.7446428571428572"
      ]
     },
     "metadata": {},
     "execution_count": 164
    }
   ],
   "source": [
    "log_reg = LogisticRegression()\n",
    "log_reg.fit(X_train_partially_propagated, y_train_partially_propagated)\n",
    "log_reg.score(X_test, y_test)"
   ]
  },
  {
   "source": [
    "Well that didn't help. Lets try GridSearchCV. Note only run this once. It takes 2+ hours to run."
   ],
   "cell_type": "markdown",
   "metadata": {}
  },
  {
   "cell_type": "code",
   "execution_count": 165,
   "metadata": {
    "tags": [
     "outputPrepend"
    ]
   },
   "outputs": [
    {
     "output_type": "stream",
     "name": "stdout",
     "text": [
      "........... kmeans__n_clusters=53, total=  51.0s\n",
      "[CV] kmeans__n_clusters=53 ...........................................\n",
      "[CV] ............................ kmeans__n_clusters=53, total=  48.3s\n",
      "[CV] kmeans__n_clusters=53 ...........................................\n",
      "[CV] ............................ kmeans__n_clusters=53, total=  47.5s\n",
      "[CV] kmeans__n_clusters=54 ...........................................\n",
      "[CV] ............................ kmeans__n_clusters=54, total=  52.5s\n",
      "[CV] kmeans__n_clusters=54 ...........................................\n",
      "[CV] ............................ kmeans__n_clusters=54, total=  50.1s\n",
      "[CV] kmeans__n_clusters=54 ...........................................\n",
      "[CV] ............................ kmeans__n_clusters=54, total=  50.6s\n",
      "[CV] kmeans__n_clusters=55 ...........................................\n",
      "[CV] ............................ kmeans__n_clusters=55, total=  52.5s\n",
      "[CV] kmeans__n_clusters=55 ...........................................\n",
      "[CV] ............................ kmeans__n_clusters=55, total=  57.2s\n",
      "[CV] kmeans__n_clusters=55 ...........................................\n",
      "[CV] ............................ kmeans__n_clusters=55, total=  59.2s\n",
      "[CV] kmeans__n_clusters=56 ...........................................\n",
      "[CV] ............................ kmeans__n_clusters=56, total=  56.5s\n",
      "[CV] kmeans__n_clusters=56 ...........................................\n",
      "[CV] ............................ kmeans__n_clusters=56, total= 1.0min\n",
      "[CV] kmeans__n_clusters=56 ...........................................\n",
      "[CV] ............................ kmeans__n_clusters=56, total=  59.0s\n",
      "[CV] kmeans__n_clusters=57 ...........................................\n",
      "[CV] ............................ kmeans__n_clusters=57, total=  57.8s\n",
      "[CV] kmeans__n_clusters=57 ...........................................\n",
      "[CV] ............................ kmeans__n_clusters=57, total=  45.2s\n",
      "[CV] kmeans__n_clusters=57 ...........................................\n",
      "[CV] ............................ kmeans__n_clusters=57, total=  43.4s\n",
      "[CV] kmeans__n_clusters=58 ...........................................\n",
      "[CV] ............................ kmeans__n_clusters=58, total=  45.5s\n",
      "[CV] kmeans__n_clusters=58 ...........................................\n",
      "[CV] ............................ kmeans__n_clusters=58, total=  43.1s\n",
      "[CV] kmeans__n_clusters=58 ...........................................\n",
      "[CV] ............................ kmeans__n_clusters=58, total=  44.0s\n",
      "[CV] kmeans__n_clusters=59 ...........................................\n",
      "[CV] ............................ kmeans__n_clusters=59, total=  44.6s\n",
      "[CV] kmeans__n_clusters=59 ...........................................\n",
      "[CV] ............................ kmeans__n_clusters=59, total=  45.2s\n",
      "[CV] kmeans__n_clusters=59 ...........................................\n",
      "[CV] ............................ kmeans__n_clusters=59, total=  45.8s\n",
      "[CV] kmeans__n_clusters=60 ...........................................\n",
      "[CV] ............................ kmeans__n_clusters=60, total=  45.1s\n",
      "[CV] kmeans__n_clusters=60 ...........................................\n",
      "[CV] ............................ kmeans__n_clusters=60, total=  45.0s\n",
      "[CV] kmeans__n_clusters=60 ...........................................\n",
      "[CV] ............................ kmeans__n_clusters=60, total=  47.9s\n",
      "[CV] kmeans__n_clusters=61 ...........................................\n",
      "[CV] ............................ kmeans__n_clusters=61, total=  48.7s\n",
      "[CV] kmeans__n_clusters=61 ...........................................\n",
      "[CV] ............................ kmeans__n_clusters=61, total=  45.3s\n",
      "[CV] kmeans__n_clusters=61 ...........................................\n",
      "[CV] ............................ kmeans__n_clusters=61, total=  47.4s\n",
      "[CV] kmeans__n_clusters=62 ...........................................\n",
      "[CV] ............................ kmeans__n_clusters=62, total=  45.5s\n",
      "[CV] kmeans__n_clusters=62 ...........................................\n",
      "[CV] ............................ kmeans__n_clusters=62, total=  48.6s\n",
      "[CV] kmeans__n_clusters=62 ...........................................\n",
      "[CV] ............................ kmeans__n_clusters=62, total=  47.1s\n",
      "[CV] kmeans__n_clusters=63 ...........................................\n",
      "[CV] ............................ kmeans__n_clusters=63, total=  47.8s\n",
      "[CV] kmeans__n_clusters=63 ...........................................\n",
      "[CV] ............................ kmeans__n_clusters=63, total=  49.0s\n",
      "[CV] kmeans__n_clusters=63 ...........................................\n",
      "[CV] ............................ kmeans__n_clusters=63, total=  47.0s\n",
      "[CV] kmeans__n_clusters=64 ...........................................\n",
      "[CV] ............................ kmeans__n_clusters=64, total=  47.6s\n",
      "[CV] kmeans__n_clusters=64 ...........................................\n",
      "[CV] ............................ kmeans__n_clusters=64, total=  48.9s\n",
      "[CV] kmeans__n_clusters=64 ...........................................\n",
      "[CV] ............................ kmeans__n_clusters=64, total=  47.1s\n",
      "[CV] kmeans__n_clusters=65 ...........................................\n",
      "[CV] ............................ kmeans__n_clusters=65, total=  48.7s\n",
      "[CV] kmeans__n_clusters=65 ...........................................\n",
      "[CV] ............................ kmeans__n_clusters=65, total=  47.4s\n",
      "[CV] kmeans__n_clusters=65 ...........................................\n",
      "[CV] ............................ kmeans__n_clusters=65, total=  47.6s\n",
      "[CV] kmeans__n_clusters=66 ...........................................\n",
      "[CV] ............................ kmeans__n_clusters=66, total=  48.2s\n",
      "[CV] kmeans__n_clusters=66 ...........................................\n",
      "[CV] ............................ kmeans__n_clusters=66, total=  50.1s\n",
      "[CV] kmeans__n_clusters=66 ...........................................\n",
      "[CV] ............................ kmeans__n_clusters=66, total=  48.4s\n",
      "[CV] kmeans__n_clusters=67 ...........................................\n",
      "[CV] ............................ kmeans__n_clusters=67, total=  51.2s\n",
      "[CV] kmeans__n_clusters=67 ...........................................\n",
      "[CV] ............................ kmeans__n_clusters=67, total=  49.8s\n",
      "[CV] kmeans__n_clusters=67 ...........................................\n",
      "[CV] ............................ kmeans__n_clusters=67, total=  49.0s\n",
      "[CV] kmeans__n_clusters=68 ...........................................\n",
      "[CV] ............................ kmeans__n_clusters=68, total=  49.7s\n",
      "[CV] kmeans__n_clusters=68 ...........................................\n",
      "[CV] ............................ kmeans__n_clusters=68, total=  49.9s\n",
      "[CV] kmeans__n_clusters=68 ...........................................\n",
      "[CV] ............................ kmeans__n_clusters=68, total=  49.6s\n",
      "[CV] kmeans__n_clusters=69 ...........................................\n",
      "[CV] ............................ kmeans__n_clusters=69, total=  50.6s\n",
      "[CV] kmeans__n_clusters=69 ...........................................\n",
      "[CV] ............................ kmeans__n_clusters=69, total=  52.3s\n",
      "[CV] kmeans__n_clusters=69 ...........................................\n",
      "[CV] ............................ kmeans__n_clusters=69, total=  51.5s\n",
      "[CV] kmeans__n_clusters=70 ...........................................\n",
      "[CV] ............................ kmeans__n_clusters=70, total=  51.3s\n",
      "[CV] kmeans__n_clusters=70 ...........................................\n",
      "[CV] ............................ kmeans__n_clusters=70, total=  50.9s\n",
      "[CV] kmeans__n_clusters=70 ...........................................\n",
      "[CV] ............................ kmeans__n_clusters=70, total=  50.3s\n",
      "[CV] kmeans__n_clusters=71 ...........................................\n",
      "[CV] ............................ kmeans__n_clusters=71, total=  52.4s\n",
      "[CV] kmeans__n_clusters=71 ...........................................\n",
      "[CV] ............................ kmeans__n_clusters=71, total=  53.2s\n",
      "[CV] kmeans__n_clusters=71 ...........................................\n",
      "[CV] ............................ kmeans__n_clusters=71, total=  51.9s\n",
      "[CV] kmeans__n_clusters=72 ...........................................\n",
      "[CV] ............................ kmeans__n_clusters=72, total=  52.9s\n",
      "[CV] kmeans__n_clusters=72 ...........................................\n",
      "[CV] ............................ kmeans__n_clusters=72, total=  52.5s\n",
      "[CV] kmeans__n_clusters=72 ...........................................\n",
      "[CV] ............................ kmeans__n_clusters=72, total=  53.9s\n",
      "[CV] kmeans__n_clusters=73 ...........................................\n",
      "[CV] ............................ kmeans__n_clusters=73, total=  53.0s\n",
      "[CV] kmeans__n_clusters=73 ...........................................\n",
      "[CV] ............................ kmeans__n_clusters=73, total=  53.8s\n",
      "[CV] kmeans__n_clusters=73 ...........................................\n",
      "[CV] ............................ kmeans__n_clusters=73, total=  53.9s\n",
      "[CV] kmeans__n_clusters=74 ...........................................\n",
      "[CV] ............................ kmeans__n_clusters=74, total=  54.2s\n",
      "[CV] kmeans__n_clusters=74 ...........................................\n",
      "[CV] ............................ kmeans__n_clusters=74, total=  53.7s\n",
      "[CV] kmeans__n_clusters=74 ...........................................\n",
      "[CV] ............................ kmeans__n_clusters=74, total=  52.5s\n",
      "[CV] kmeans__n_clusters=75 ...........................................\n",
      "[CV] ............................ kmeans__n_clusters=75, total=  55.0s\n",
      "[CV] kmeans__n_clusters=75 ...........................................\n",
      "[CV] ............................ kmeans__n_clusters=75, total=  54.9s\n",
      "[CV] kmeans__n_clusters=75 ...........................................\n",
      "[CV] ............................ kmeans__n_clusters=75, total=  55.1s\n",
      "[CV] kmeans__n_clusters=76 ...........................................\n",
      "[CV] ............................ kmeans__n_clusters=76, total=  55.0s\n",
      "[CV] kmeans__n_clusters=76 ...........................................\n",
      "[CV] ............................ kmeans__n_clusters=76, total=  54.5s\n",
      "[CV] kmeans__n_clusters=76 ...........................................\n",
      "[CV] ............................ kmeans__n_clusters=76, total=  55.2s\n",
      "[CV] kmeans__n_clusters=77 ...........................................\n",
      "[CV] ............................ kmeans__n_clusters=77, total=  55.5s\n",
      "[CV] kmeans__n_clusters=77 ...........................................\n",
      "[CV] ............................ kmeans__n_clusters=77, total=  56.5s\n",
      "[CV] kmeans__n_clusters=77 ...........................................\n",
      "[CV] ............................ kmeans__n_clusters=77, total=  57.8s\n",
      "[CV] kmeans__n_clusters=78 ...........................................\n",
      "[CV] ............................ kmeans__n_clusters=78, total=  56.2s\n",
      "[CV] kmeans__n_clusters=78 ...........................................\n",
      "[CV] ............................ kmeans__n_clusters=78, total=  56.8s\n",
      "[CV] kmeans__n_clusters=78 ...........................................\n",
      "[CV] ............................ kmeans__n_clusters=78, total=  54.9s\n",
      "[CV] kmeans__n_clusters=79 ...........................................\n",
      "[CV] ............................ kmeans__n_clusters=79, total=  56.4s\n",
      "[CV] kmeans__n_clusters=79 ...........................................\n",
      "[CV] ............................ kmeans__n_clusters=79, total=  57.4s\n",
      "[CV] kmeans__n_clusters=79 ...........................................\n",
      "[CV] ............................ kmeans__n_clusters=79, total=  57.6s\n",
      "[CV] kmeans__n_clusters=80 ...........................................\n",
      "[CV] ............................ kmeans__n_clusters=80, total=  57.2s\n",
      "[CV] kmeans__n_clusters=80 ...........................................\n",
      "[CV] ............................ kmeans__n_clusters=80, total= 1.0min\n",
      "[CV] kmeans__n_clusters=80 ...........................................\n",
      "[CV] ............................ kmeans__n_clusters=80, total=  56.7s\n",
      "[CV] kmeans__n_clusters=81 ...........................................\n",
      "[CV] ............................ kmeans__n_clusters=81, total=  57.2s\n",
      "[CV] kmeans__n_clusters=81 ...........................................\n",
      "[CV] ............................ kmeans__n_clusters=81, total=  55.5s\n",
      "[CV] kmeans__n_clusters=81 ...........................................\n",
      "[CV] ............................ kmeans__n_clusters=81, total=  56.4s\n",
      "[CV] kmeans__n_clusters=82 ...........................................\n",
      "[CV] ............................ kmeans__n_clusters=82, total=  57.1s\n",
      "[CV] kmeans__n_clusters=82 ...........................................\n",
      "[CV] ............................ kmeans__n_clusters=82, total=  57.5s\n",
      "[CV] kmeans__n_clusters=82 ...........................................\n",
      "[CV] ............................ kmeans__n_clusters=82, total=  57.8s\n",
      "[CV] kmeans__n_clusters=83 ...........................................\n",
      "[CV] ............................ kmeans__n_clusters=83, total=  58.8s\n",
      "[CV] kmeans__n_clusters=83 ...........................................\n",
      "[CV] ............................ kmeans__n_clusters=83, total=  59.3s\n",
      "[CV] kmeans__n_clusters=83 ...........................................\n",
      "[CV] ............................ kmeans__n_clusters=83, total=  58.7s\n",
      "[CV] kmeans__n_clusters=84 ...........................................\n",
      "[CV] ............................ kmeans__n_clusters=84, total=  59.6s\n",
      "[CV] kmeans__n_clusters=84 ...........................................\n",
      "[CV] ............................ kmeans__n_clusters=84, total=  59.0s\n",
      "[CV] kmeans__n_clusters=84 ...........................................\n",
      "[CV] ............................ kmeans__n_clusters=84, total=  57.2s\n",
      "[CV] kmeans__n_clusters=85 ...........................................\n",
      "[CV] ............................ kmeans__n_clusters=85, total=  58.3s\n",
      "[CV] kmeans__n_clusters=85 ...........................................\n",
      "[CV] ............................ kmeans__n_clusters=85, total=  58.5s\n",
      "[CV] kmeans__n_clusters=85 ...........................................\n",
      "[CV] ............................ kmeans__n_clusters=85, total=  58.8s\n",
      "[CV] kmeans__n_clusters=86 ...........................................\n",
      "[CV] ............................ kmeans__n_clusters=86, total= 1.0min\n",
      "[CV] kmeans__n_clusters=86 ...........................................\n",
      "[CV] ............................ kmeans__n_clusters=86, total=  59.6s\n",
      "[CV] kmeans__n_clusters=86 ...........................................\n",
      "[CV] ............................ kmeans__n_clusters=86, total= 1.0min\n",
      "[CV] kmeans__n_clusters=87 ...........................................\n",
      "[CV] ............................ kmeans__n_clusters=87, total= 1.0min\n",
      "[CV] kmeans__n_clusters=87 ...........................................\n",
      "[CV] ............................ kmeans__n_clusters=87, total=  59.9s\n",
      "[CV] kmeans__n_clusters=87 ...........................................\n",
      "[CV] ............................ kmeans__n_clusters=87, total= 1.0min\n",
      "[CV] kmeans__n_clusters=88 ...........................................\n",
      "[CV] ............................ kmeans__n_clusters=88, total= 1.0min\n",
      "[CV] kmeans__n_clusters=88 ...........................................\n",
      "[CV] ............................ kmeans__n_clusters=88, total= 1.0min\n",
      "[CV] kmeans__n_clusters=88 ...........................................\n",
      "[CV] ............................ kmeans__n_clusters=88, total= 1.0min\n",
      "[CV] kmeans__n_clusters=89 ...........................................\n",
      "[CV] ............................ kmeans__n_clusters=89, total= 1.1min\n",
      "[CV] kmeans__n_clusters=89 ...........................................\n",
      "[CV] ............................ kmeans__n_clusters=89, total= 1.0min\n",
      "[CV] kmeans__n_clusters=89 ...........................................\n",
      "[CV] ............................ kmeans__n_clusters=89, total= 1.1min\n",
      "[CV] kmeans__n_clusters=90 ...........................................\n",
      "[CV] ............................ kmeans__n_clusters=90, total= 1.1min\n",
      "[CV] kmeans__n_clusters=90 ...........................................\n",
      "[CV] ............................ kmeans__n_clusters=90, total= 1.0min\n",
      "[CV] kmeans__n_clusters=90 ...........................................\n",
      "[CV] ............................ kmeans__n_clusters=90, total= 1.0min\n",
      "[CV] kmeans__n_clusters=91 ...........................................\n",
      "[CV] ............................ kmeans__n_clusters=91, total= 1.0min\n",
      "[CV] kmeans__n_clusters=91 ...........................................\n",
      "[CV] ............................ kmeans__n_clusters=91, total= 1.1min\n",
      "[CV] kmeans__n_clusters=91 ...........................................\n",
      "[CV] ............................ kmeans__n_clusters=91, total= 1.1min\n",
      "[CV] kmeans__n_clusters=92 ...........................................\n",
      "[CV] ............................ kmeans__n_clusters=92, total= 1.1min\n",
      "[CV] kmeans__n_clusters=92 ...........................................\n",
      "[CV] ............................ kmeans__n_clusters=92, total= 1.1min\n",
      "[CV] kmeans__n_clusters=92 ...........................................\n",
      "[CV] ............................ kmeans__n_clusters=92, total= 1.1min\n",
      "[CV] kmeans__n_clusters=93 ...........................................\n",
      "[CV] ............................ kmeans__n_clusters=93, total= 1.1min\n",
      "[CV] kmeans__n_clusters=93 ...........................................\n",
      "[CV] ............................ kmeans__n_clusters=93, total= 1.1min\n",
      "[CV] kmeans__n_clusters=93 ...........................................\n",
      "[CV] ............................ kmeans__n_clusters=93, total= 1.1min\n",
      "[CV] kmeans__n_clusters=94 ...........................................\n",
      "[CV] ............................ kmeans__n_clusters=94, total= 1.1min\n",
      "[CV] kmeans__n_clusters=94 ...........................................\n",
      "[CV] ............................ kmeans__n_clusters=94, total= 1.1min\n",
      "[CV] kmeans__n_clusters=94 ...........................................\n",
      "[CV] ............................ kmeans__n_clusters=94, total= 1.1min\n",
      "[CV] kmeans__n_clusters=95 ...........................................\n",
      "[CV] ............................ kmeans__n_clusters=95, total= 1.1min\n",
      "[CV] kmeans__n_clusters=95 ...........................................\n",
      "[CV] ............................ kmeans__n_clusters=95, total= 1.1min\n",
      "[CV] kmeans__n_clusters=95 ...........................................\n",
      "[CV] ............................ kmeans__n_clusters=95, total= 1.1min\n",
      "[CV] kmeans__n_clusters=96 ...........................................\n",
      "[CV] ............................ kmeans__n_clusters=96, total= 1.1min\n",
      "[CV] kmeans__n_clusters=96 ...........................................\n",
      "[CV] ............................ kmeans__n_clusters=96, total= 1.1min\n",
      "[CV] kmeans__n_clusters=96 ...........................................\n",
      "[CV] ............................ kmeans__n_clusters=96, total= 1.1min\n",
      "[CV] kmeans__n_clusters=97 ...........................................\n",
      "[CV] ............................ kmeans__n_clusters=97, total= 1.1min\n",
      "[CV] kmeans__n_clusters=97 ...........................................\n",
      "[CV] ............................ kmeans__n_clusters=97, total= 1.1min\n",
      "[CV] kmeans__n_clusters=97 ...........................................\n",
      "[CV] ............................ kmeans__n_clusters=97, total= 1.1min\n",
      "[CV] kmeans__n_clusters=98 ...........................................\n",
      "[CV] ............................ kmeans__n_clusters=98, total= 1.1min\n",
      "[CV] kmeans__n_clusters=98 ...........................................\n",
      "[CV] ............................ kmeans__n_clusters=98, total= 1.1min\n",
      "[CV] kmeans__n_clusters=98 ...........................................\n",
      "[CV] ............................ kmeans__n_clusters=98, total= 1.1min\n",
      "[CV] kmeans__n_clusters=99 ...........................................\n",
      "[CV] ............................ kmeans__n_clusters=99, total= 1.1min\n",
      "[CV] kmeans__n_clusters=99 ...........................................\n",
      "[CV] ............................ kmeans__n_clusters=99, total= 1.1min\n",
      "[CV] kmeans__n_clusters=99 ...........................................\n",
      "[CV] ............................ kmeans__n_clusters=99, total= 1.1min\n",
      "[Parallel(n_jobs=1)]: Done 294 out of 294 | elapsed: 210.4min finished\n"
     ]
    },
    {
     "output_type": "execute_result",
     "data": {
      "text/plain": [
       "GridSearchCV(cv=3,\n",
       "             estimator=Pipeline(steps=[('kmeans', KMeans(n_clusters=50)),\n",
       "                                       ('log_reg', LogisticRegression())]),\n",
       "             param_grid={'kmeans__n_clusters': range(2, 100)}, verbose=2)"
      ]
     },
     "metadata": {},
     "execution_count": 165
    }
   ],
   "source": [
    "from sklearn.pipeline import Pipeline\n",
    "from sklearn.model_selection import GridSearchCV\n",
    "\n",
    "pipeline = Pipeline([\n",
    "    ('kmeans', KMeans(n_clusters=92)),\n",
    "    ('log_reg', LogisticRegression()),\n",
    "])\n",
    "pipeline.fit(X_train, y_train)\n",
    "\n",
    "param_grid = dict(kmeans__n_clusters=range(2,100))\n",
    "grid_clf = GridSearchCV(pipeline, param_grid, cv=3, verbose=2)\n",
    "grid_clf.fit(X_train, y_train)"
   ]
  },
  {
   "cell_type": "code",
   "execution_count": 168,
   "metadata": {},
   "outputs": [
    {
     "output_type": "execute_result",
     "data": {
      "text/plain": [
       "Pipeline(steps=[('kmeans', KMeans(n_clusters=92)),\n",
       "                ('log_reg', LogisticRegression())])"
      ]
     },
     "metadata": {},
     "execution_count": 168
    }
   ],
   "source": [
    "from sklearn.pipeline import Pipeline\n",
    "from sklearn.model_selection import GridSearchCV\n",
    "\n",
    "pipeline = Pipeline([\n",
    "    ('kmeans', KMeans(n_clusters=92)),\n",
    "    ('log_reg', LogisticRegression()),\n",
    "])\n",
    "pipeline.fit(X_train, y_train)"
   ]
  },
  {
   "cell_type": "code",
   "execution_count": 169,
   "metadata": {},
   "outputs": [
    {
     "output_type": "execute_result",
     "data": {
      "text/plain": [
       "0.8679761904761905"
      ]
     },
     "metadata": {},
     "execution_count": 169
    }
   ],
   "source": [
    "pipeline.score(X_test, y_test)"
   ]
  },
  {
   "cell_type": "code",
   "execution_count": 167,
   "metadata": {},
   "outputs": [
    {
     "output_type": "execute_result",
     "data": {
      "text/plain": [
       "{'kmeans__n_clusters': 92}"
      ]
     },
     "metadata": {},
     "execution_count": 167
    }
   ],
   "source": [
    "grid_clf.best_params_"
   ]
  }
 ],
 "metadata": {
  "kernelspec": {
   "display_name": "Python 3",
   "language": "python",
   "name": "python3"
  },
  "language_info": {
   "codemirror_mode": {
    "name": "ipython",
    "version": 3
   },
   "file_extension": ".py",
   "mimetype": "text/x-python",
   "name": "python",
   "nbconvert_exporter": "python",
   "pygments_lexer": "ipython3",
   "version": "3.8.3-final"
  }
 },
 "nbformat": 4,
 "nbformat_minor": 2
}